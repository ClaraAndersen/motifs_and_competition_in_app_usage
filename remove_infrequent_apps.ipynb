{
 "cells": [
  {
   "cell_type": "markdown",
   "metadata": {},
   "source": [
    "# Dealing with infrequent apps"
   ]
  },
  {
   "cell_type": "code",
   "execution_count": 9,
   "metadata": {},
   "outputs": [],
   "source": [
    "from spmf import Spmf\n",
    "import numpy as np\n",
    "import pandas as pd\n",
    "import os\n",
    "import re\n",
    "import matplotlib.pyplot as plt\n",
    "import ast\n",
    "\n",
    "pd.options.display.max_colwidth = None"
   ]
  },
  {
   "cell_type": "markdown",
   "metadata": {},
   "source": [
    "## Dealing with infrequency as defined by tne number of session in which an app occur"
   ]
  },
  {
   "cell_type": "markdown",
   "metadata": {},
   "source": [
    "First the data is read into the program"
   ]
  },
  {
   "cell_type": "code",
   "execution_count": 2,
   "metadata": {},
   "outputs": [],
   "source": [
    "data=pd.read_csv(\"data_sessions_20s_min_length_1.csv\")"
   ]
  },
  {
   "cell_type": "markdown",
   "metadata": {},
   "source": [
    "Now the number of sessions which each of the apps occure in is calculated."
   ]
  },
  {
   "cell_type": "code",
   "execution_count": 5,
   "metadata": {},
   "outputs": [],
   "source": [
    "app_in_n_sessions=data.groupby(['app_code','user_id']).session.nunique().reset_index().groupby(\"app_code\").session.sum()"
   ]
  },
  {
   "cell_type": "code",
   "execution_count": 6,
   "metadata": {},
   "outputs": [],
   "source": [
    "data=pd.merge(data, app_in_n_sessions.reset_index().rename(columns={'session':'number_of_sessions'}), how='left', on=['app_code'])"
   ]
  },
  {
   "cell_type": "code",
   "execution_count": 7,
   "metadata": {},
   "outputs": [],
   "source": [
    "data['app_infrequent']=data.number_of_sessions<=(data.shape[0]/100*0.001)"
   ]
  },
  {
   "cell_type": "code",
   "execution_count": 8,
   "metadata": {},
   "outputs": [
    {
     "data": {
      "text/plain": [
       "181323205"
      ]
     },
     "execution_count": 8,
     "metadata": {},
     "output_type": "execute_result"
    }
   ],
   "source": [
    "data.shape[0]"
   ]
  },
  {
   "cell_type": "code",
   "execution_count": 9,
   "metadata": {},
   "outputs": [],
   "source": [
    "data['new_session']=(data.new_session | data.app_infrequent)"
   ]
  },
  {
   "cell_type": "code",
   "execution_count": 10,
   "metadata": {},
   "outputs": [],
   "source": [
    "data['updated_session']=data.groupby(['user_id']).agg({'new_session':'cumsum'}).astype('int')"
   ]
  },
  {
   "cell_type": "code",
   "execution_count": 11,
   "metadata": {},
   "outputs": [],
   "source": [
    "data=data[data.app_infrequent!=True]"
   ]
  },
  {
   "cell_type": "code",
   "execution_count": 12,
   "metadata": {},
   "outputs": [],
   "source": [
    "data=pd.merge(data,(data.groupby(['user_id','updated_session']).agg({'app_code':'size'})).reset_index().rename(columns={'app_code':'session_length_updated'}),how='left',on=['user_id','updated_session'])"
   ]
  },
  {
   "cell_type": "code",
   "execution_count": 13,
   "metadata": {},
   "outputs": [],
   "source": [
    "data=data.drop(['session_length'],axis=1)"
   ]
  },
  {
   "cell_type": "code",
   "execution_count": 16,
   "metadata": {},
   "outputs": [],
   "source": [
    "data=data[data.session_length_updated>1]"
   ]
  },
  {
   "cell_type": "markdown",
   "metadata": {},
   "source": [
    "Create text file for algorithm input"
   ]
  },
  {
   "cell_type": "code",
   "execution_count": 17,
   "metadata": {},
   "outputs": [],
   "source": [
    "input_string=data.groupby(['user_id','updated_session'])['app_code'].apply(list).apply(lambda l: ' -1 '.join([str(i) for i in l])+\" -1 -2\")"
   ]
  },
  {
   "cell_type": "code",
   "execution_count": 18,
   "metadata": {},
   "outputs": [],
   "source": [
    "#update file name\n",
    "input_string.to_csv(\"input_string_without_0_001_apps_internal_removed.csv\",index=False)"
   ]
  },
  {
   "cell_type": "code",
   "execution_count": 2,
   "metadata": {},
   "outputs": [],
   "source": [
    "#update file name\n",
    "input_string=pd.read_csv(\"input_string_without_0_001_apps_internal_removed.csv\")"
   ]
  },
  {
   "cell_type": "code",
   "execution_count": 19,
   "metadata": {},
   "outputs": [
    {
     "name": "stdout",
     "output_type": "stream",
     "text": [
      "number of updated sequences: 55164865\n"
     ]
    }
   ],
   "source": [
    "print(\"number of updated sequences:\",input_string.shape[0])"
   ]
  },
  {
   "cell_type": "code",
   "execution_count": 3,
   "metadata": {},
   "outputs": [],
   "source": [
    "dfAsString = input_string.to_string(header=False, index=False).lstrip()"
   ]
  },
  {
   "cell_type": "code",
   "execution_count": 4,
   "metadata": {},
   "outputs": [],
   "source": [
    "dfAsString=re.sub(r'\\n\\s+','\\n',dfAsString)"
   ]
  },
  {
   "cell_type": "code",
   "execution_count": 5,
   "metadata": {},
   "outputs": [],
   "source": [
    "#update file name\n",
    "f = open(os.path.join(os.getcwd(), '20sec_sessions_without_0_001_apps_internal_removed.txt'), 'w')\n",
    "f.write(dfAsString)\n",
    "f.close()"
   ]
  },
  {
   "cell_type": "markdown",
   "metadata": {},
   "source": [
    "## Analysing frequency of apps in overall data set."
   ]
  },
  {
   "cell_type": "code",
   "execution_count": 10,
   "metadata": {},
   "outputs": [],
   "source": [
    "data=pd.read_csv(\"sorted_coded_session_20s_merged.csv\")"
   ]
  },
  {
   "cell_type": "markdown",
   "metadata": {},
   "source": [
    "First we take a look at the distribution of app occurrences."
   ]
  },
  {
   "cell_type": "code",
   "execution_count": 11,
   "metadata": {},
   "outputs": [],
   "source": [
    "app_count=data.groupby('app_code').size()"
   ]
  },
  {
   "cell_type": "code",
   "execution_count": 5,
   "metadata": {},
   "outputs": [
    {
     "name": "stdout",
     "output_type": "stream",
     "text": [
      "min number of times an app occure: 1\n",
      "max number of times an app occure: 35121339\n"
     ]
    }
   ],
   "source": [
    "print(\"min number of times an app occure:\",app_count.min())\n",
    "print(\"max number of times an app occure:\",app_count.max())"
   ]
  },
  {
   "cell_type": "code",
   "execution_count": 51,
   "metadata": {},
   "outputs": [
    {
     "data": {
      "image/png": "[encoded data removed]",
      "text/plain": [
       "<Figure size 432x288 with 1 Axes>"
      ]
     },
     "metadata": {
      "needs_background": "light"
     },
     "output_type": "display_data"
    }
   ],
   "source": [
    "plt.hist(app_count,bins=range(1,app_count.max(),200))\n",
    "plt.yscale('log')"
   ]
  },
  {
   "cell_type": "code",
   "execution_count": 9,
   "metadata": {},
   "outputs": [
    {
     "data": {
      "text/plain": [
       "35121339"
      ]
     },
     "execution_count": 9,
     "metadata": {},
     "output_type": "execute_result"
    }
   ],
   "source": [
    "app_count.max()"
   ]
  },
  {
   "cell_type": "code",
   "execution_count": 116,
   "metadata": {},
   "outputs": [
    {
     "data": {
      "image/png": "[encoded data removed]",
      "text/plain": [
       "<Figure size 432x288 with 1 Axes>"
      ]
     },
     "metadata": {
      "needs_background": "light"
     },
     "output_type": "display_data"
    }
   ],
   "source": [
    "bins=plt.hist(app_count,bins=range(1,app_count.max()+660,1000))\n",
    "plt.yscale('log')"
   ]
  },
  {
   "cell_type": "markdown",
   "metadata": {},
   "source": [
    "It is clear that the majority of apps are not used that many time."
   ]
  },
  {
   "cell_type": "code",
   "execution_count": 121,
   "metadata": {},
   "outputs": [
    {
     "data": {
      "text/plain": [
       "9870.650000000023"
      ]
     },
     "execution_count": 121,
     "metadata": {},
     "output_type": "execute_result"
    }
   ],
   "source": [
    "app_count.quantile(q=.99)"
   ]
  },
  {
   "cell_type": "code",
   "execution_count": 122,
   "metadata": {},
   "outputs": [
    {
     "data": {
      "image/png": "[encoded data removed]",
      "text/plain": [
       "<Figure size 432x288 with 1 Axes>"
      ]
     },
     "metadata": {
      "needs_background": "light"
     },
     "output_type": "display_data"
    }
   ],
   "source": [
    "bins=plt.hist(app_count,bins=range(1,1001,1))\n",
    "plt.yscale('log')"
   ]
  },
  {
   "cell_type": "markdown",
   "metadata": {},
   "source": [
    "We now take a look at how many apps constitute at least one percent of the observations."
   ]
  },
  {
   "cell_type": "code",
   "execution_count": 130,
   "metadata": {},
   "outputs": [
    {
     "name": "stdout",
     "output_type": "stream",
     "text": [
      "Number of apps which constitute at least one percent of the observations 17\n"
     ]
    }
   ],
   "source": [
    "print(\"Number of apps which constitute at least one percent of the observations\",((app_count/data.shape[0]*100)>=1).sum())"
   ]
  },
  {
   "cell_type": "code",
   "execution_count": 135,
   "metadata": {},
   "outputs": [
    {
     "name": "stdout",
     "output_type": "stream",
     "text": [
      "number of observations: 250615269\n"
     ]
    }
   ],
   "source": [
    "print(\"number of observations:\",data.shape[0])"
   ]
  },
  {
   "cell_type": "markdown",
   "metadata": {},
   "source": [
    "However ~2.5 mio. obervations is still a high number."
   ]
  },
  {
   "cell_type": "code",
   "execution_count": 139,
   "metadata": {},
   "outputs": [
    {
     "name": "stdout",
     "output_type": "stream",
     "text": [
      "Number of apps which constitute at least 0.1 percent of the observations 69\n",
      "Number of apps which constitute at least 0.01 percent of the observations 329\n"
     ]
    }
   ],
   "source": [
    "print(\"Number of apps which constitute at least 0.1 percent of the observations\",((app_count/data.shape[0]*100)>=0.1).sum())\n",
    "print(\"Number of apps which constitute at least 0.01 percent of the observations\",((app_count/data.shape[0]*100)>=0.01).sum())"
   ]
  },
  {
   "cell_type": "markdown",
   "metadata": {},
   "source": [
    "It is overall clear that the majority of observations is made up of only a small number of differnet apps."
   ]
  },
  {
   "cell_type": "markdown",
   "metadata": {},
   "source": [
    "How many apps are needed in order to maintain 90 procent of the observations?"
   ]
  },
  {
   "cell_type": "code",
   "execution_count": 12,
   "metadata": {},
   "outputs": [],
   "source": [
    "app_count=app_count.sort_values(ascending=False)"
   ]
  },
  {
   "cell_type": "code",
   "execution_count": 15,
   "metadata": {
    "scrolled": true
   },
   "outputs": [
    {
     "name": "stdout",
     "output_type": "stream",
     "text": [
      "number of apps needed to represent 90% of the observations: 125\n",
      "number of apps needed to represent 95% of the observations: 483\n",
      "number of apps needed to represent 99% of the observations: 3780\n",
      "number of apps needed to represent 99.5% of the observations: 6791\n",
      "number of apps needed to represent 99.9% of the observations: 18872\n"
     ]
    }
   ],
   "source": [
    "print(\"number of apps needed to represent 90% of the observations:\",app_count.shape[0]-((app_count/data.shape[0]*100).cumsum())[((app_count/data.shape[0]*100).cumsum()).shift(1)>=90].shape[0])\n",
    "print(\"number of apps needed to represent 95% of the observations:\",app_count.shape[0]-((app_count/data.shape[0]*100).cumsum())[((app_count/data.shape[0]*100).cumsum()).shift(1)>=95].shape[0])\n",
    "print(\"number of apps needed to represent 99% of the observations:\",app_count.shape[0]-((app_count/data.shape[0]*100).cumsum())[((app_count/data.shape[0]*100).cumsum()).shift(1)>=99].shape[0])\n",
    "print(\"number of apps needed to represent 99.5% of the observations:\",app_count.shape[0]-((app_count/data.shape[0]*100).cumsum())[((app_count/data.shape[0]*100).cumsum()).shift(1)>=99.5].shape[0])\n",
    "print(\"number of apps needed to represent 99.9% of the observations:\",app_count.shape[0]-((app_count/data.shape[0]*100).cumsum())[((app_count/data.shape[0]*100).cumsum()).shift(1)>=99.9].shape[0])"
   ]
  },
  {
   "cell_type": "code",
   "execution_count": 28,
   "metadata": {},
   "outputs": [
    {
     "name": "stdout",
     "output_type": "stream",
     "text": [
      "Number of observations removed if by only keeping apps, to maintain 90 % of the observations:  25061526.900000006\n"
     ]
    }
   ],
   "source": [
    "print(\"Number of observations removed if by only keeping apps, to maintain 90 % of the observations: \",data.shape[0]-(data.shape[0]/100*90))"
   ]
  },
  {
   "cell_type": "code",
   "execution_count": 16,
   "metadata": {},
   "outputs": [
    {
     "name": "stdout",
     "output_type": "stream",
     "text": [
      "Number of observations removed if by only keeping apps, to maintain 95 % of the observations:  12530763.450000018\n"
     ]
    }
   ],
   "source": [
    "print(\"Number of observations removed if by only keeping apps, to maintain 95 % of the observations: \",data.shape[0]-(data.shape[0]/100*95))"
   ]
  },
  {
   "cell_type": "code",
   "execution_count": 175,
   "metadata": {},
   "outputs": [
    {
     "name": "stdout",
     "output_type": "stream",
     "text": [
      "Number of observations removed if by only keeping apps, to maintain 99.5 % of the observations:  1253076.3449999988\n"
     ]
    }
   ],
   "source": [
    "print(\"Number of observations removed if by only keeping apps, to maintain 99.5 % of the observations: \",data.shape[0]-(data.shape[0]/100*99.5))"
   ]
  },
  {
   "cell_type": "code",
   "execution_count": 13,
   "metadata": {},
   "outputs": [
    {
     "name": "stdout",
     "output_type": "stream",
     "text": [
      "Number of observations removed if by only keeping apps, to maintain 99 % of the observations:  2506152.6899999976\n"
     ]
    }
   ],
   "source": [
    "print(\"Number of observations removed if by only keeping apps, to maintain 99 % of the observations: \",data.shape[0]-(data.shape[0]/100*99))"
   ]
  },
  {
   "cell_type": "markdown",
   "metadata": {},
   "source": [
    "We now identify the apps to maintain."
   ]
  },
  {
   "cell_type": "code",
   "execution_count": 43,
   "metadata": {},
   "outputs": [
    {
     "data": {
      "text/plain": [
       "app_code\n",
       "45282     99.500156\n",
       "55589     99.500253\n",
       "10137     99.500350\n",
       "16495     99.500447\n",
       "46754     99.500544\n",
       "            ...    \n",
       "34475     99.999998\n",
       "34474     99.999999\n",
       "7853      99.999999\n",
       "2950     100.000000\n",
       "67087    100.000000\n",
       "Length: 60297, dtype: float64"
      ]
     },
     "execution_count": 43,
     "metadata": {},
     "output_type": "execute_result"
    }
   ],
   "source": [
    "((app_count/data.shape[0]*100).cumsum())[((app_count/data.shape[0]*100).cumsum()).shift(1)>=99.5]"
   ]
  },
  {
   "cell_type": "code",
   "execution_count": 14,
   "metadata": {},
   "outputs": [],
   "source": [
    "infrequent_apps=app_count[(app_count/data.shape[0]*100).cumsum().shift(1)>=99].index"
   ]
  },
  {
   "cell_type": "markdown",
   "metadata": {},
   "source": [
    "Now that the infrequent apps have been identified, the infrequent apps can be removed. This is done after the definition of sessions, as the sleeptime should not be affected. "
   ]
  },
  {
   "cell_type": "code",
   "execution_count": 15,
   "metadata": {},
   "outputs": [],
   "source": [
    "data_sessions=pd.read_csv(\"data_sessions_20s_min_length_1.csv\") #all sessions of length one have already been removed."
   ]
  },
  {
   "cell_type": "code",
   "execution_count": 31,
   "metadata": {},
   "outputs": [
    {
     "data": {
      "text/html": [
       "<div>\n",
       "<style scoped>\n",
       "    .dataframe tbody tr th:only-of-type {\n",
       "        vertical-align: middle;\n",
       "    }\n",
       "\n",
       "    .dataframe tbody tr th {\n",
       "        vertical-align: top;\n",
       "    }\n",
       "\n",
       "    .dataframe thead th {\n",
       "        text-align: right;\n",
       "    }\n",
       "</style>\n",
       "<table border=\"1\" class=\"dataframe\">\n",
       "  <thead>\n",
       "    <tr style=\"text-align: right;\">\n",
       "      <th></th>\n",
       "      <th>package_name</th>\n",
       "      <th>user_id</th>\n",
       "      <th>start_time</th>\n",
       "      <th>end_time</th>\n",
       "      <th>time_spend</th>\n",
       "      <th>app_code</th>\n",
       "      <th>sequence_number</th>\n",
       "      <th>sequence_Start_time</th>\n",
       "      <th>sequence_end_time</th>\n",
       "      <th>sleep_time</th>\n",
       "      <th>new_session</th>\n",
       "      <th>session</th>\n",
       "      <th>session_length</th>\n",
       "    </tr>\n",
       "  </thead>\n",
       "  <tbody>\n",
       "    <tr>\n",
       "      <th>10</th>\n",
       "      <td>bg.abv.andro.emailapp</td>\n",
       "      <td>0</td>\n",
       "      <td>3689</td>\n",
       "      <td>3699</td>\n",
       "      <td>10</td>\n",
       "      <td>2340</td>\n",
       "      <td>11</td>\n",
       "      <td>3669</td>\n",
       "      <td>3926</td>\n",
       "      <td>0</td>\n",
       "      <td>False</td>\n",
       "      <td>2</td>\n",
       "      <td>6</td>\n",
       "    </tr>\n",
       "    <tr>\n",
       "      <th>26</th>\n",
       "      <td>bg.abv.andro.emailapp</td>\n",
       "      <td>0</td>\n",
       "      <td>33562</td>\n",
       "      <td>33586</td>\n",
       "      <td>24</td>\n",
       "      <td>2340</td>\n",
       "      <td>28</td>\n",
       "      <td>33562</td>\n",
       "      <td>33586</td>\n",
       "      <td>0</td>\n",
       "      <td>False</td>\n",
       "      <td>9</td>\n",
       "      <td>2</td>\n",
       "    </tr>\n",
       "    <tr>\n",
       "      <th>28</th>\n",
       "      <td>bg.abv.andro.emailapp</td>\n",
       "      <td>0</td>\n",
       "      <td>44088</td>\n",
       "      <td>44098</td>\n",
       "      <td>10</td>\n",
       "      <td>2340</td>\n",
       "      <td>31</td>\n",
       "      <td>44088</td>\n",
       "      <td>44098</td>\n",
       "      <td>0</td>\n",
       "      <td>False</td>\n",
       "      <td>11</td>\n",
       "      <td>2</td>\n",
       "    </tr>\n",
       "    <tr>\n",
       "      <th>31</th>\n",
       "      <td>com.adobe.reader</td>\n",
       "      <td>0</td>\n",
       "      <td>46384</td>\n",
       "      <td>46404</td>\n",
       "      <td>20</td>\n",
       "      <td>6577</td>\n",
       "      <td>35</td>\n",
       "      <td>46384</td>\n",
       "      <td>46404</td>\n",
       "      <td>100</td>\n",
       "      <td>True</td>\n",
       "      <td>14</td>\n",
       "      <td>3</td>\n",
       "    </tr>\n",
       "    <tr>\n",
       "      <th>42</th>\n",
       "      <td>bg.abv.andro.emailapp</td>\n",
       "      <td>0</td>\n",
       "      <td>49406</td>\n",
       "      <td>49416</td>\n",
       "      <td>10</td>\n",
       "      <td>2340</td>\n",
       "      <td>49</td>\n",
       "      <td>49406</td>\n",
       "      <td>49416</td>\n",
       "      <td>0</td>\n",
       "      <td>False</td>\n",
       "      <td>19</td>\n",
       "      <td>4</td>\n",
       "    </tr>\n",
       "    <tr>\n",
       "      <th>...</th>\n",
       "      <td>...</td>\n",
       "      <td>...</td>\n",
       "      <td>...</td>\n",
       "      <td>...</td>\n",
       "      <td>...</td>\n",
       "      <td>...</td>\n",
       "      <td>...</td>\n",
       "      <td>...</td>\n",
       "      <td>...</td>\n",
       "      <td>...</td>\n",
       "      <td>...</td>\n",
       "      <td>...</td>\n",
       "      <td>...</td>\n",
       "    </tr>\n",
       "    <tr>\n",
       "      <th>181322972</th>\n",
       "      <td>com.americanexpress.android.acctsvcs.uk</td>\n",
       "      <td>9999</td>\n",
       "      <td>28784240</td>\n",
       "      <td>28784260</td>\n",
       "      <td>20</td>\n",
       "      <td>7464</td>\n",
       "      <td>14640</td>\n",
       "      <td>28784240</td>\n",
       "      <td>28784260</td>\n",
       "      <td>101</td>\n",
       "      <td>True</td>\n",
       "      <td>8343</td>\n",
       "      <td>7</td>\n",
       "    </tr>\n",
       "    <tr>\n",
       "      <th>181322974</th>\n",
       "      <td>uk.co.ee.myee</td>\n",
       "      <td>9999</td>\n",
       "      <td>28784290</td>\n",
       "      <td>28784330</td>\n",
       "      <td>40</td>\n",
       "      <td>65645</td>\n",
       "      <td>14642</td>\n",
       "      <td>28784290</td>\n",
       "      <td>28784330</td>\n",
       "      <td>10</td>\n",
       "      <td>False</td>\n",
       "      <td>8343</td>\n",
       "      <td>7</td>\n",
       "    </tr>\n",
       "    <tr>\n",
       "      <th>181322977</th>\n",
       "      <td>com.americanexpress.android.acctsvcs.uk</td>\n",
       "      <td>9999</td>\n",
       "      <td>28785031</td>\n",
       "      <td>28785081</td>\n",
       "      <td>50</td>\n",
       "      <td>7464</td>\n",
       "      <td>14645</td>\n",
       "      <td>28785031</td>\n",
       "      <td>28785081</td>\n",
       "      <td>10</td>\n",
       "      <td>False</td>\n",
       "      <td>8343</td>\n",
       "      <td>7</td>\n",
       "    </tr>\n",
       "    <tr>\n",
       "      <th>181323025</th>\n",
       "      <td>com.instagram.layout</td>\n",
       "      <td>9999</td>\n",
       "      <td>28964716</td>\n",
       "      <td>28964756</td>\n",
       "      <td>40</td>\n",
       "      <td>27447</td>\n",
       "      <td>14705</td>\n",
       "      <td>28964716</td>\n",
       "      <td>28964756</td>\n",
       "      <td>0</td>\n",
       "      <td>False</td>\n",
       "      <td>8372</td>\n",
       "      <td>3</td>\n",
       "    </tr>\n",
       "    <tr>\n",
       "      <th>181323123</th>\n",
       "      <td>com.americanexpress.android.acctsvcs.uk</td>\n",
       "      <td>9999</td>\n",
       "      <td>29124308</td>\n",
       "      <td>29124339</td>\n",
       "      <td>31</td>\n",
       "      <td>7464</td>\n",
       "      <td>14813</td>\n",
       "      <td>29124308</td>\n",
       "      <td>29124339</td>\n",
       "      <td>0</td>\n",
       "      <td>False</td>\n",
       "      <td>8426</td>\n",
       "      <td>7</td>\n",
       "    </tr>\n",
       "  </tbody>\n",
       "</table>\n",
       "<p>18455397 rows × 13 columns</p>\n",
       "</div>"
      ],
      "text/plain": [
       "                                      package_name  user_id  start_time  \\\n",
       "10                           bg.abv.andro.emailapp        0        3689   \n",
       "26                           bg.abv.andro.emailapp        0       33562   \n",
       "28                           bg.abv.andro.emailapp        0       44088   \n",
       "31                                com.adobe.reader        0       46384   \n",
       "42                           bg.abv.andro.emailapp        0       49406   \n",
       "...                                            ...      ...         ...   \n",
       "181322972  com.americanexpress.android.acctsvcs.uk     9999    28784240   \n",
       "181322974                            uk.co.ee.myee     9999    28784290   \n",
       "181322977  com.americanexpress.android.acctsvcs.uk     9999    28785031   \n",
       "181323025                     com.instagram.layout     9999    28964716   \n",
       "181323123  com.americanexpress.android.acctsvcs.uk     9999    29124308   \n",
       "\n",
       "           end_time  time_spend  app_code  sequence_number  \\\n",
       "10             3699          10      2340               11   \n",
       "26            33586          24      2340               28   \n",
       "28            44098          10      2340               31   \n",
       "31            46404          20      6577               35   \n",
       "42            49416          10      2340               49   \n",
       "...             ...         ...       ...              ...   \n",
       "181322972  28784260          20      7464            14640   \n",
       "181322974  28784330          40     65645            14642   \n",
       "181322977  28785081          50      7464            14645   \n",
       "181323025  28964756          40     27447            14705   \n",
       "181323123  29124339          31      7464            14813   \n",
       "\n",
       "           sequence_Start_time  sequence_end_time  sleep_time  new_session  \\\n",
       "10                        3669               3926           0        False   \n",
       "26                       33562              33586           0        False   \n",
       "28                       44088              44098           0        False   \n",
       "31                       46384              46404         100         True   \n",
       "42                       49406              49416           0        False   \n",
       "...                        ...                ...         ...          ...   \n",
       "181322972             28784240           28784260         101         True   \n",
       "181322974             28784290           28784330          10        False   \n",
       "181322977             28785031           28785081          10        False   \n",
       "181323025             28964716           28964756           0        False   \n",
       "181323123             29124308           29124339           0        False   \n",
       "\n",
       "           session  session_length  \n",
       "10               2               6  \n",
       "26               9               2  \n",
       "28              11               2  \n",
       "31              14               3  \n",
       "42              19               4  \n",
       "...            ...             ...  \n",
       "181322972     8343               7  \n",
       "181322974     8343               7  \n",
       "181322977     8343               7  \n",
       "181323025     8372               3  \n",
       "181323123     8426               7  \n",
       "\n",
       "[18455397 rows x 13 columns]"
      ]
     },
     "execution_count": 31,
     "metadata": {},
     "output_type": "execute_result"
    }
   ],
   "source": [
    "data_sessions[data_sessions.app_code.apply(lambda l: l in infrequent_apps)]#from 90%"
   ]
  },
  {
   "cell_type": "code",
   "execution_count": 33,
   "metadata": {},
   "outputs": [
    {
     "name": "stdout",
     "output_type": "stream",
     "text": [
      "Percentage of observations to delete from dataframe: 10.178177139544825\n"
     ]
    }
   ],
   "source": [
    "print(\"Percentage of observations to delete from dataframe:\",18455397/data_sessions.shape[0]*100) #from 95 "
   ]
  },
  {
   "cell_type": "code",
   "execution_count": 16,
   "metadata": {},
   "outputs": [],
   "source": [
    "data_sessions[\"infrequent_app\"]=data_sessions.app_code.apply(lambda l: l in infrequent_apps)"
   ]
  },
  {
   "cell_type": "code",
   "execution_count": 17,
   "metadata": {},
   "outputs": [],
   "source": [
    "data_sessions['new_session']=(data_sessions.new_session | data_sessions.infrequent_app)"
   ]
  },
  {
   "cell_type": "code",
   "execution_count": 18,
   "metadata": {},
   "outputs": [],
   "source": [
    "data_sessions['updated_session']=data_sessions.groupby(['user_id']).agg({'new_session':'cumsum'}).astype('int')"
   ]
  },
  {
   "cell_type": "code",
   "execution_count": 19,
   "metadata": {},
   "outputs": [],
   "source": [
    "data_sessions=data_sessions[data_sessions.infrequent_app!=True]"
   ]
  },
  {
   "cell_type": "code",
   "execution_count": 20,
   "metadata": {},
   "outputs": [
    {
     "name": "stdout",
     "output_type": "stream",
     "text": [
      "Number of observations after infrequent apps have been removed: 179487135\n"
     ]
    }
   ],
   "source": [
    "print(\"Number of observations after infrequent apps have been removed:\",data_sessions.shape[0])"
   ]
  },
  {
   "cell_type": "code",
   "execution_count": 21,
   "metadata": {},
   "outputs": [],
   "source": [
    "data_sessions=pd.merge(data_sessions,(data_sessions.groupby(['user_id','updated_session']).agg({'app_code':'size'})).reset_index().rename(columns={'app_code':'session_length_updated'}),how='left',on=['user_id','updated_session'])"
   ]
  },
  {
   "cell_type": "code",
   "execution_count": 22,
   "metadata": {},
   "outputs": [],
   "source": [
    "data_sessions=data_sessions.drop(['session_length'],axis=1)"
   ]
  },
  {
   "cell_type": "code",
   "execution_count": 23,
   "metadata": {},
   "outputs": [],
   "source": [
    "data_sessions=data_sessions[data_sessions.session_length_updated>1]"
   ]
  },
  {
   "cell_type": "code",
   "execution_count": 24,
   "metadata": {},
   "outputs": [
    {
     "name": "stdout",
     "output_type": "stream",
     "text": [
      "number of observations: 178335525\n"
     ]
    }
   ],
   "source": [
    "print(\"number of observations:\",data_sessions.shape[0])"
   ]
  },
  {
   "cell_type": "markdown",
   "metadata": {},
   "source": [
    "After the removal of infrequent apps, the text filed used for running the mining algorithms can now be created."
   ]
  },
  {
   "cell_type": "code",
   "execution_count": 25,
   "metadata": {},
   "outputs": [],
   "source": [
    "input_string=data_sessions.groupby(['user_id','updated_session'])['app_code'].apply(list).apply(lambda l: ' -1 '.join([str(i) for i in l])+\" -1 -2\")"
   ]
  },
  {
   "cell_type": "code",
   "execution_count": 26,
   "metadata": {},
   "outputs": [],
   "source": [
    "#update file name\n",
    "input_string.to_csv(\"input_string_apps_removed_to_keep_99.csv\",index=False)"
   ]
  },
  {
   "cell_type": "code",
   "execution_count": 2,
   "metadata": {},
   "outputs": [],
   "source": [
    "input_string=pd.read_csv(\"input_string_apps_removed_to_keep_99.csv\")"
   ]
  },
  {
   "cell_type": "code",
   "execution_count": 3,
   "metadata": {},
   "outputs": [
    {
     "name": "stdout",
     "output_type": "stream",
     "text": [
      "number of updated sequences: 55880352\n"
     ]
    }
   ],
   "source": [
    "print(\"number of updated sequences:\",input_string.shape[0])"
   ]
  },
  {
   "cell_type": "code",
   "execution_count": 4,
   "metadata": {},
   "outputs": [],
   "source": [
    "dfAsString = input_string.to_string(header=False, index=False).lstrip()"
   ]
  },
  {
   "cell_type": "code",
   "execution_count": 5,
   "metadata": {},
   "outputs": [],
   "source": [
    "dfAsString=re.sub(r'\\n\\s+','\\n',dfAsString)"
   ]
  },
  {
   "cell_type": "code",
   "execution_count": 6,
   "metadata": {},
   "outputs": [],
   "source": [
    "#update file name\n",
    "f = open(os.path.join(os.getcwd(), '20sec_sessions_apps_removed_to_keep_99.txt'), 'w')\n",
    "f.write(dfAsString)\n",
    "f.close()"
   ]
  },
  {
   "cell_type": "markdown",
   "metadata": {},
   "source": [
    "## Runing mining algorithms"
   ]
  },
  {
   "cell_type": "code",
   "execution_count": 5,
   "metadata": {
    "scrolled": true
   },
   "outputs": [
    {
     "name": "stdout",
     "output_type": "stream",
     "text": [
      ">/home/s164574/motifs_and_competition_in_app_usage/spmf.jar\n",
      "=============  VMSP v0.97 - STATISTICS =============\n",
      " Total time ~ 330383 ms\n",
      " Frequent sequences count : 7\n",
      " Max memory (mb) : 16813.142089843757\n",
      "minsup 5354046\n",
      "Intersection count 0 \n",
      "===================================================\n",
      "\n",
      "\n",
      "   pattern       sup\n",
      "0  [53003]  14658663\n",
      "1  [45264]   8075606\n",
      "2  [27441]   5997022\n",
      "3  [23949]   8859267\n",
      "4  [19973]   7254103\n",
      "5  [19968]  19810204\n",
      "6   [7649]  13943608\n"
     ]
    }
   ],
   "source": [
    "# A test using there package \n",
    "spmf = Spmf(\"VMSP\", input_filename=\"/home/s164574/motifs_and_competition_in_app_usage/20sec_sessions_apps_removed_to_keep_95.txt\",\n",
    "            output_filename=\"/home/s164574/motifs_and_competition_in_app_usage/output_VMSP_20s_sessions_keep_95_min_sup_10.txt\",\n",
    "            spmf_bin_location_dir=\"/home/s164574/motifs_and_competition_in_app_usage/\",\n",
    "            arguments=[0.1])\n",
    "spmf.run()\n",
    "print(spmf.to_pandas_dataframe(pickle=True))\n",
    "spmf.to_csv(\"output_VMSP_20s_sessions_keep_95_min_sup_10.csv\")"
   ]
  },
  {
   "cell_type": "code",
   "execution_count": 6,
   "metadata": {},
   "outputs": [
    {
     "name": "stdout",
     "output_type": "stream",
     "text": [
      ">/home/s164574/motifs_and_competition_in_app_usage/spmf.jar\n",
      "=============  VMSP v0.97 - STATISTICS =============\n",
      " Total time ~ 591591 ms\n",
      " Frequent sequences count : 72\n",
      " Max memory (mb) : 18338.40190124511772\n",
      "minsup 535405\n",
      "Intersection count 370 \n",
      "===================================================\n",
      "\n",
      "\n",
      "                  pattern      sup\n",
      "0                 [53996]  1072874\n",
      "1                 [45846]  1594140\n",
      "2                 [45284]   860325\n",
      "3                 [45246]   774930\n",
      "4                 [36529]   784571\n",
      "..                    ...      ...\n",
      "67  [19968, 19968, 19968]   576962\n",
      "68   [23949, 7649, 23949]  1176340\n",
      "69   [19968, 23949, 7649]   614466\n",
      "70   [19968, 7649, 19968]   763404\n",
      "71    [7649, 23949, 7649]   597054\n",
      "\n",
      "[72 rows x 2 columns]\n"
     ]
    }
   ],
   "source": [
    "# A test using there package \n",
    "spmf = Spmf(\"VMSP\", input_filename=\"/home/s164574/motifs_and_competition_in_app_usage/20sec_sessions_apps_removed_to_keep_95.txt\",\n",
    "            output_filename=\"/home/s164574/motifs_and_competition_in_app_usage/output_VMSP_20s_sessions_keep_95_min_sup_1.txt\",\n",
    "            spmf_bin_location_dir=\"/home/s164574/motifs_and_competition_in_app_usage/\",\n",
    "            arguments=[0.01])\n",
    "spmf.run()\n",
    "print(spmf.to_pandas_dataframe(pickle=True))\n",
    "spmf.to_csv(\"output_VMSP_20s_sessions_keep_95_min_sup_1.csv\")"
   ]
  },
  {
   "cell_type": "code",
   "execution_count": 7,
   "metadata": {},
   "outputs": [
    {
     "name": "stdout",
     "output_type": "stream",
     "text": [
      ">/home/s164574/motifs_and_competition_in_app_usage/spmf.jar\n",
      "=============  VMSP v0.97 - STATISTICS =============\n",
      " Total time ~ 2527159 ms\n",
      " Frequent sequences count : 1007\n",
      " Max memory (mb) : 18203.4273910522461007\n",
      "minsup 53541\n",
      "Intersection count 9801 \n",
      "===================================================\n",
      "\n",
      "\n",
      "                                         pattern     sup\n",
      "0                                        [66375]   81889\n",
      "1                                        [66136]  134133\n",
      "2                                        [65957]   99466\n",
      "3                                        [65471]  129106\n",
      "4                                        [65457]   59695\n",
      "...                                          ...     ...\n",
      "1002  [53003, 53003, 19968, 53003, 19968, 53003]   54507\n",
      "1003  [19968, 53003, 19968, 53003, 19968, 53003]   64567\n",
      "1004  [53003, 19968, 53003, 19968, 53003, 19968]   72251\n",
      "1005    [23949, 7649, 23949, 23949, 7649, 23949]   60633\n",
      "1006     [23949, 7649, 23949, 7649, 23949, 7649]   73553\n",
      "\n",
      "[1007 rows x 2 columns]\n"
     ]
    }
   ],
   "source": [
    "# A test using there package \n",
    "spmf = Spmf(\"VMSP\", input_filename=\"/home/s164574/motifs_and_competition_in_app_usage/20sec_sessions_apps_removed_to_keep_95.txt\",\n",
    "            output_filename=\"/home/s164574/motifs_and_competition_in_app_usage/output_VMSP_20s_sessions_keep_95_min_sup_0_1.txt\",\n",
    "            spmf_bin_location_dir=\"/home/s164574/motifs_and_competition_in_app_usage/\",\n",
    "            arguments=[0.001])\n",
    "spmf.run()\n",
    "print(spmf.to_pandas_dataframe(pickle=True))\n",
    "spmf.to_csv(\"output_VMSP_20s_sessions_keep_95_min_sup_0_1.csv\")"
   ]
  },
  {
   "cell_type": "markdown",
   "metadata": {},
   "source": [
    "## Translating results"
   ]
  },
  {
   "cell_type": "code",
   "execution_count": 8,
   "metadata": {},
   "outputs": [],
   "source": [
    "data = pd.read_csv('sorted_coded_data.csv')\n",
    "app_dict=dict(zip(data.app_code, data.package_name))"
   ]
  },
  {
   "cell_type": "code",
   "execution_count": 13,
   "metadata": {},
   "outputs": [],
   "source": [
    "output=pd.read_csv(\"output_VMSP_20s_sessions_keep_95_min_sup_10.csv\",delimiter=';')\n",
    "output['pattern']=output.pattern.apply(lambda l: [app_dict[int(i)] for i in ast.literal_eval(l)])\n",
    "output=output.sort_values(['sup'],ascending=False)\n",
    "output['pattern_length']=output.pattern.apply(lambda l: len(l))\n",
    "output.to_csv(\"output_VMSP_20s_sessions_keep_95_min_sup_10_translated.csv\",index=False)"
   ]
  },
  {
   "cell_type": "code",
   "execution_count": 14,
   "metadata": {},
   "outputs": [],
   "source": [
    "output=pd.read_csv(\"output_VMSP_20s_sessions_keep_95_min_sup_1.csv\",delimiter=';')\n",
    "output['pattern']=output.pattern.apply(lambda l: [app_dict[int(i)] for i in ast.literal_eval(l)])\n",
    "output=output.sort_values(['sup'],ascending=False)\n",
    "output['pattern_length']=output.pattern.apply(lambda l: len(l))\n",
    "output.to_csv(\"output_VMSP_20s_sessions_keep_95_min_sup_1_translated.csv\",index=False)"
   ]
  },
  {
   "cell_type": "code",
   "execution_count": 17,
   "metadata": {},
   "outputs": [],
   "source": [
    "output=pd.read_csv(\"output_VMSP_20s_sessions_keep_95_min_sup_0_1.csv\",delimiter=';')\n",
    "output['pattern']=output.pattern.apply(lambda l: [app_dict[int(i)] for i in ast.literal_eval(l)])\n",
    "output=output.sort_values(['sup'],ascending=False)\n",
    "output['pattern_length']=output.pattern.apply(lambda l: len(l))\n",
    "output.to_csv(\"output_VMSP_20s_sessions_keep_95_min_sup_0_1_translated.csv\",index=False)"
   ]
  },
  {
   "cell_type": "markdown",
   "metadata": {},
   "source": [
    "## defining infrequency based on percentage of occurences."
   ]
  },
  {
   "cell_type": "code",
   "execution_count": 3,
   "metadata": {},
   "outputs": [],
   "source": [
    "data=pd.read_csv(\"sorted_coded_session_20s_merged.csv\")"
   ]
  },
  {
   "cell_type": "code",
   "execution_count": 4,
   "metadata": {},
   "outputs": [],
   "source": [
    "app_count=data.groupby('app_code').size()"
   ]
  },
  {
   "cell_type": "code",
   "execution_count": 5,
   "metadata": {},
   "outputs": [],
   "source": [
    "app_count=app_count.sort_values(ascending=False)"
   ]
  }
 ],
 "metadata": {
  "kernelspec": {
   "display_name": "Python 3",
   "language": "python",
   "name": "python3"
  },
  "language_info": {
   "codemirror_mode": {
    "name": "ipython",
    "version": 3
   },
   "file_extension": ".py",
   "mimetype": "text/x-python",
   "name": "python",
   "nbconvert_exporter": "python",
   "pygments_lexer": "ipython3",
   "version": "3.8.5"
  }
 },
 "nbformat": 4,
 "nbformat_minor": 4
}
