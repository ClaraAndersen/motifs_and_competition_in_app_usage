{
 "cells": [
  {
   "cell_type": "markdown",
   "metadata": {},
   "source": [
    "# Document description\n",
    "In this notebook we run the VMSP algorithm with different minimum supports, to be able to tune the minimum support."
   ]
  },
  {
   "cell_type": "markdown",
   "metadata": {},
   "source": [
    "# Import"
   ]
  },
  {
   "cell_type": "code",
   "execution_count": 1,
   "metadata": {},
   "outputs": [],
   "source": [
    "from spmf import Spmf\n",
    "import numpy as np\n",
    "import pandas as pd\n",
    "import os\n",
    "import re\n",
    "import matplotlib.pyplot as plt\n",
    "import ast\n",
    "pd.options.plotting.backend = \"plotly\"\n",
    "import plotly.express as px\n",
    "from chart_studio import plotly\n",
    "from plotly.subplots import make_subplots\n",
    "import plotly.graph_objects as go\n",
    "import plotly.subplots as sp\n",
    "pd.options.display.max_colwidth = None\n",
    "pd.set_option('display.max_rows', 70)"
   ]
  },
  {
   "cell_type": "markdown",
   "metadata": {},
   "source": [
    "# Tests"
   ]
  },
  {
   "cell_type": "code",
   "execution_count": 8,
   "metadata": {},
   "outputs": [
    {
     "name": "stdout",
     "output_type": "stream",
     "text": [
      ">/home/s164574/motifs_and_competition_in_app_usage/spmf.jar\n",
      "=============  VMSP v0.97 - STATISTICS =============\n",
      " Total time ~ 2700763 ms\n",
      " Frequent sequences count : 1123\n",
      " Max memory (mb) : 16597.8954467773441123\n",
      "minsup 52643\n",
      "Intersection count 11215 \n",
      "===================================================\n",
      "\n",
      "\n",
      "                                       pattern     sup\n",
      "0                                      [66375]   82713\n",
      "1                                      [66136]  135309\n",
      "2                                      [65957]  100274\n",
      "3                                      [65471]  128913\n",
      "4                                      [65457]   59863\n",
      "...                                        ...     ...\n",
      "1118  [23949, 7649, 23949, 23949, 7649, 23949]   66174\n",
      "1119  [23949, 23949, 7649, 23949, 7649, 23949]   52815\n",
      "1120  [23949, 7649, 23949, 7649, 23949, 23949]   56967\n",
      "1121   [23949, 7649, 23949, 7649, 23949, 7649]   79597\n",
      "1122   [7649, 23949, 7649, 23949, 7649, 23949]   57362\n",
      "\n",
      "[1123 rows x 2 columns]\n"
     ]
    }
   ],
   "source": [
    "spmf = Spmf(\"VMSP\", input_filename=\"/home/s164574/motifs_and_competition_in_app_usage/20sec_sessions_0_01_removed_without_split.txt\",\n",
    "            output_filename=\"/home/s164574/motifs_and_competition_in_app_usage/output_VMSP_20sec_sessions_0_01_removed_without_split_min_sup_0_1.txt\",\n",
    "            spmf_bin_location_dir=\"/home/s164574/motifs_and_competition_in_app_usage/\",\n",
    "            arguments=[0.001])\n",
    "spmf.run()\n",
    "print(spmf.to_pandas_dataframe(pickle=True))\n",
    "spmf.to_csv(\"output_VMSP_20sec_sessions_0_01_removed_without_split_min_sup_0_1.csv\")"
   ]
  },
  {
   "cell_type": "markdown",
   "metadata": {},
   "source": [
    "To be able to interpret the discovered patterns the app codes are translated to their corresponding package names"
   ]
  },
  {
   "cell_type": "code",
   "execution_count": 9,
   "metadata": {},
   "outputs": [],
   "source": [
    "data = pd.read_csv('sorted_coded_data.csv')\n",
    "app_dict=dict(zip(data.app_code, data.package_name))"
   ]
  },
  {
   "cell_type": "code",
   "execution_count": 10,
   "metadata": {},
   "outputs": [],
   "source": [
    "output=pd.read_csv(\"output_VMSP_20sec_sessions_0_01_removed_without_split_min_sup_0_1.csv\",delimiter=';')\n",
    "output['pattern']=output.pattern.apply(lambda l: [app_dict[int(i)] for i in ast.literal_eval(l)])\n",
    "output=output.sort_values(['sup'],ascending=False)\n",
    "output['pattern_length']=output.pattern.apply(lambda l: len(l))\n",
    "output.to_csv(\"output_VMSP_20sec_sessions_0_01_removed_without_split_min_sup_0_1_translated.csv\",index=False)"
   ]
  },
  {
   "cell_type": "code",
   "execution_count": 4,
   "metadata": {},
   "outputs": [],
   "source": [
    "output=pd.read_csv(\"output_VMSP_20sec_sessions_0_01_removed_without_split_min_sup_0_1_translated.csv\")"
   ]
  },
  {
   "cell_type": "code",
   "execution_count": 24,
   "metadata": {},
   "outputs": [
    {
     "name": "stderr",
     "output_type": "stream",
     "text": [
      "<ipython-input-24-b51ba3a332a8>:2: FutureWarning: The default value of regex will change from True to False in a future version. In addition, single character regular expressions will *not* be treated as literal strings when regex=True.\n",
      "  test[[0,1,2,3,4,5]]=test.pattern.str.replace('[','').str.replace(']','').str.replace('\\'','').str.split(',',expand=True)\n",
      "/home/s164574/.conda/envs/myenv/lib/python3.8/site-packages/pandas/core/frame.py:3636: SettingWithCopyWarning: \n",
      "A value is trying to be set on a copy of a slice from a DataFrame.\n",
      "Try using .loc[row_indexer,col_indexer] = value instead\n",
      "\n",
      "See the caveats in the documentation: https://pandas.pydata.org/pandas-docs/stable/user_guide/indexing.html#returning-a-view-versus-a-copy\n",
      "  self[k1] = value[k2]\n"
     ]
    }
   ],
   "source": [
    "test=output[output.pattern_length==6]\n",
    "test[[0,1,2,3,4,5]]=test.pattern.str.replace('[','').str.replace(']','').str.replace('\\'','').str.split(',',expand=True)"
   ]
  },
  {
   "cell_type": "code",
   "execution_count": 25,
   "metadata": {},
   "outputs": [],
   "source": [
    "test.to_csv(\"test.csv\",index=False)"
   ]
  },
  {
   "cell_type": "code",
   "execution_count": 11,
   "metadata": {},
   "outputs": [
    {
     "name": "stdout",
     "output_type": "stream",
     "text": [
      "Number of frequent patterns of length 1: 94\n",
      "Max lengths of frequent patterns: 6\n"
     ]
    }
   ],
   "source": [
    "print(\"Number of frequent patterns of length 1:\",len(output[output.pattern_length==1]))\n",
    "print(\"Max lengths of frequent patterns:\",output.pattern_length.max())"
   ]
  },
  {
   "cell_type": "code",
   "execution_count": 12,
   "metadata": {},
   "outputs": [
    {
     "name": "stdout",
     "output_type": "stream",
     "text": [
      ">/home/s164574/motifs_and_competition_in_app_usage/spmf.jar\n",
      "=============  VMSP v0.97 - STATISTICS =============\n",
      " Total time ~ 515163 ms\n",
      " Frequent sequences count : 80\n",
      " Max memory (mb) : 14272.13662719726680\n",
      "minsup 526429\n",
      "Intersection count 403 \n",
      "===================================================\n",
      "\n",
      "\n",
      "                 pattern      sup\n",
      "0                [53996]  1074492\n",
      "1                [45846]  1590487\n",
      "2                [45284]   860977\n",
      "3                [45246]   783659\n",
      "4                [36529]   787773\n",
      "..                   ...      ...\n",
      "75  [23949, 7649, 23949]  1194735\n",
      "76  [19968, 23949, 7649]   637146\n",
      "77  [19968, 7649, 19968]   810573\n",
      "78   [7649, 23949, 7649]   627769\n",
      "79   [23949, 7649, 7649]   560004\n",
      "\n",
      "[80 rows x 2 columns]\n"
     ]
    }
   ],
   "source": [
    "spmf = Spmf(\"VMSP\", input_filename=\"/home/s164574/motifs_and_competition_in_app_usage/20sec_sessions_0_01_removed_without_split.txt\",\n",
    "            output_filename=\"/home/s164574/motifs_and_competition_in_app_usage/output_VMSP_20sec_sessions_0_01_removed_without_split_min_sup_1.txt\",\n",
    "            spmf_bin_location_dir=\"/home/s164574/motifs_and_competition_in_app_usage/\",\n",
    "            arguments=[0.01])\n",
    "spmf.run()\n",
    "print(spmf.to_pandas_dataframe(pickle=True))\n",
    "spmf.to_csv(\"output_VMSP_20sec_sessions_0_01_removed_without_split_min_sup_1.csv\")"
   ]
  },
  {
   "cell_type": "code",
   "execution_count": 13,
   "metadata": {},
   "outputs": [],
   "source": [
    "output=pd.read_csv(\"output_VMSP_20sec_sessions_0_01_removed_without_split_min_sup_1.csv\",delimiter=';')\n",
    "output['pattern']=output.pattern.apply(lambda l: [app_dict[int(i)] for i in ast.literal_eval(l)])\n",
    "output=output.sort_values(['sup'],ascending=False)\n",
    "output['pattern_length']=output.pattern.apply(lambda l: len(l))\n",
    "output.to_csv(\"output_VMSP_20sec_sessions_0_01_removed_without_split_min_sup_1_translated.csv\",index=False)"
   ]
  },
  {
   "cell_type": "code",
   "execution_count": 14,
   "metadata": {},
   "outputs": [
    {
     "name": "stdout",
     "output_type": "stream",
     "text": [
      "Number of frequent patterns of length 1: 12\n",
      "Max lengths of frequent patterns: 3\n"
     ]
    }
   ],
   "source": [
    "print(\"Number of frequent patterns of length 1:\",len(output[output.pattern_length==1]))\n",
    "print(\"Max lengths of frequent patterns:\",output.pattern_length.max())"
   ]
  },
  {
   "cell_type": "code",
   "execution_count": 15,
   "metadata": {},
   "outputs": [
    {
     "name": "stdout",
     "output_type": "stream",
     "text": [
      ">/home/s164574/motifs_and_competition_in_app_usage/spmf.jar\n",
      "=============  VMSP v0.97 - STATISTICS =============\n",
      " Total time ~ 543618 ms\n",
      " Frequent sequences count : 84\n",
      " Max memory (mb) : 14233.91006469726684\n",
      "minsup 500108\n",
      "Intersection count 415 \n",
      "===================================================\n",
      "\n",
      "\n",
      "                 pattern      sup\n",
      "0                [53996]  1074492\n",
      "1                [49042]   523172\n",
      "2                [45846]  1590487\n",
      "3                [45284]   860977\n",
      "4                [45246]   783659\n",
      "..                   ...      ...\n",
      "79  [19968, 23949, 7649]   637146\n",
      "80  [23949, 7649, 19968]   519576\n",
      "81  [19968, 7649, 19968]   810573\n",
      "82   [23949, 7649, 7649]   560004\n",
      "83   [7649, 23949, 7649]   627769\n",
      "\n",
      "[84 rows x 2 columns]\n"
     ]
    }
   ],
   "source": [
    "spmf = Spmf(\"VMSP\", input_filename=\"/home/s164574/motifs_and_competition_in_app_usage/20sec_sessions_0_01_removed_without_split.txt\",\n",
    "            output_filename=\"/home/s164574/motifs_and_competition_in_app_usage/output_VMSP_20sec_sessions_0_01_removed_without_split_min_sup_0_95.txt\",\n",
    "            spmf_bin_location_dir=\"/home/s164574/motifs_and_competition_in_app_usage/\",\n",
    "            arguments=[0.0095])\n",
    "spmf.run()\n",
    "print(spmf.to_pandas_dataframe(pickle=True))\n",
    "spmf.to_csv(\"output_VMSP_20sec_sessions_0_01_removed_without_split_min_sup_0_95.csv\")"
   ]
  },
  {
   "cell_type": "code",
   "execution_count": 16,
   "metadata": {},
   "outputs": [],
   "source": [
    "output=pd.read_csv(\"output_VMSP_20sec_sessions_0_01_removed_without_split_min_sup_0_95.csv\",delimiter=';')\n",
    "output['pattern']=output.pattern.apply(lambda l: [app_dict[int(i)] for i in ast.literal_eval(l)])\n",
    "output=output.sort_values(['sup'],ascending=False)\n",
    "output['pattern_length']=output.pattern.apply(lambda l: len(l))\n",
    "output.to_csv(\"output_VMSP_20sec_sessions_0_01_removed_without_split_min_sup_0_95_translated.csv\",index=False)"
   ]
  },
  {
   "cell_type": "code",
   "execution_count": 17,
   "metadata": {},
   "outputs": [
    {
     "name": "stdout",
     "output_type": "stream",
     "text": [
      "Number of frequent patterns of length 1: 14\n",
      "Max lengths of frequent patterns: 3\n"
     ]
    }
   ],
   "source": [
    "print(\"Number of frequent patterns of length 1:\",len(output[output.pattern_length==1]))\n",
    "print(\"Max lengths of frequent patterns:\",output.pattern_length.max())"
   ]
  },
  {
   "cell_type": "code",
   "execution_count": 18,
   "metadata": {},
   "outputs": [
    {
     "name": "stdout",
     "output_type": "stream",
     "text": [
      ">/home/s164574/motifs_and_competition_in_app_usage/spmf.jar\n",
      "=============  VMSP v0.97 - STATISTICS =============\n",
      " Total time ~ 511408 ms\n",
      " Frequent sequences count : 90\n",
      " Max memory (mb) : 14192.91181182861390\n",
      "minsup 473786\n",
      "Intersection count 434 \n",
      "===================================================\n",
      "\n",
      "\n",
      "                 pattern      sup\n",
      "0                [53996]  1074492\n",
      "1                [49042]   523172\n",
      "2                [45846]  1590487\n",
      "3                [45284]   860977\n",
      "4                [45246]   783659\n",
      "..                   ...      ...\n",
      "85  [19968, 7649, 19968]   810573\n",
      "86   [23949, 7649, 7649]   560004\n",
      "87   [7649, 23949, 7649]   627769\n",
      "88   [7649, 19968, 7649]   478989\n",
      "89    [7649, 7649, 7649]   480170\n",
      "\n",
      "[90 rows x 2 columns]\n"
     ]
    }
   ],
   "source": [
    "spmf = Spmf(\"VMSP\", input_filename=\"/home/s164574/motifs_and_competition_in_app_usage/20sec_sessions_0_01_removed_without_split.txt\",\n",
    "            output_filename=\"/home/s164574/motifs_and_competition_in_app_usage/output_VMSP_20sec_sessions_0_01_removed_without_split_min_sup_0_9.txt\",\n",
    "            spmf_bin_location_dir=\"/home/s164574/motifs_and_competition_in_app_usage/\",\n",
    "            arguments=[0.009])\n",
    "spmf.run()\n",
    "print(spmf.to_pandas_dataframe(pickle=True))\n",
    "spmf.to_csv(\"output_VMSP_20sec_sessions_0_01_removed_without_split_min_sup_0_9.csv\")"
   ]
  },
  {
   "cell_type": "code",
   "execution_count": 19,
   "metadata": {},
   "outputs": [],
   "source": [
    "output=pd.read_csv(\"output_VMSP_20sec_sessions_0_01_removed_without_split_min_sup_0_9.csv\",delimiter=';')\n",
    "output['pattern']=output.pattern.apply(lambda l: [app_dict[int(i)] for i in ast.literal_eval(l)])\n",
    "output=output.sort_values(['sup'],ascending=False)\n",
    "output['pattern_length']=output.pattern.apply(lambda l: len(l))\n",
    "output.to_csv(\"output_VMSP_20sec_sessions_0_01_removed_without_split_min_sup_0_9_translated.csv\",index=False)"
   ]
  },
  {
   "cell_type": "code",
   "execution_count": 20,
   "metadata": {},
   "outputs": [
    {
     "name": "stdout",
     "output_type": "stream",
     "text": [
      "Number of frequent patterns of length 1: 15\n",
      "Max lengths of frequent patterns: 3\n"
     ]
    }
   ],
   "source": [
    "print(\"Number of frequent patterns of length 1:\",len(output[output.pattern_length==1]))\n",
    "print(\"Max lengths of frequent patterns:\",output.pattern_length.max())"
   ]
  },
  {
   "cell_type": "code",
   "execution_count": 21,
   "metadata": {},
   "outputs": [
    {
     "name": "stdout",
     "output_type": "stream",
     "text": [
      ">/home/s164574/motifs_and_competition_in_app_usage/spmf.jar\n",
      "=============  VMSP v0.97 - STATISTICS =============\n",
      " Total time ~ 553603 ms\n",
      " Frequent sequences count : 95\n",
      " Max memory (mb) : 14185.15042877197395\n",
      "minsup 447465\n",
      "Intersection count 488 \n",
      "===================================================\n",
      "\n",
      "\n",
      "                 pattern      sup\n",
      "0                [53996]  1074492\n",
      "1                [49042]   523172\n",
      "2                [45846]  1590487\n",
      "3                [45327]   460532\n",
      "4                [45284]   860977\n",
      "..                   ...      ...\n",
      "90  [19968, 7649, 19968]   810573\n",
      "91   [7649, 23949, 7649]   627769\n",
      "92   [23949, 7649, 7649]   560004\n",
      "93   [7649, 19968, 7649]   478989\n",
      "94    [7649, 7649, 7649]   480170\n",
      "\n",
      "[95 rows x 2 columns]\n"
     ]
    }
   ],
   "source": [
    "spmf = Spmf(\"VMSP\", input_filename=\"/home/s164574/motifs_and_competition_in_app_usage/20sec_sessions_0_01_removed_without_split.txt\",\n",
    "            output_filename=\"/home/s164574/motifs_and_competition_in_app_usage/output_VMSP_20sec_sessions_0_01_removed_without_split_min_sup_0_85.txt\",\n",
    "            spmf_bin_location_dir=\"/home/s164574/motifs_and_competition_in_app_usage/\",\n",
    "            arguments=[0.0085])\n",
    "spmf.run()\n",
    "print(spmf.to_pandas_dataframe(pickle=True))\n",
    "spmf.to_csv(\"output_VMSP_20sec_sessions_0_01_removed_without_split_min_sup_0_85.csv\")"
   ]
  },
  {
   "cell_type": "code",
   "execution_count": 22,
   "metadata": {},
   "outputs": [],
   "source": [
    "output=pd.read_csv(\"output_VMSP_20sec_sessions_0_01_removed_without_split_min_sup_0_85.csv\",delimiter=';')\n",
    "output['pattern']=output.pattern.apply(lambda l: [app_dict[int(i)] for i in ast.literal_eval(l)])\n",
    "output=output.sort_values(['sup'],ascending=False)\n",
    "output['pattern_length']=output.pattern.apply(lambda l: len(l))\n",
    "output.to_csv(\"output_VMSP_20sec_sessions_0_01_removed_without_split_min_sup_0_85_translated.csv\",index=False)"
   ]
  },
  {
   "cell_type": "code",
   "execution_count": 23,
   "metadata": {},
   "outputs": [
    {
     "name": "stdout",
     "output_type": "stream",
     "text": [
      "Number of frequent patterns of length 1: 15\n",
      "Max lengths of frequent patterns: 3\n"
     ]
    }
   ],
   "source": [
    "print(\"Number of frequent patterns of length 1:\",len(output[output.pattern_length==1]))\n",
    "print(\"Max lengths of frequent patterns:\",output.pattern_length.max())"
   ]
  },
  {
   "cell_type": "code",
   "execution_count": 24,
   "metadata": {},
   "outputs": [
    {
     "name": "stdout",
     "output_type": "stream",
     "text": [
      ">/home/s164574/motifs_and_competition_in_app_usage/spmf.jar\n",
      "=============  VMSP v0.97 - STATISTICS =============\n",
      " Total time ~ 598427 ms\n",
      " Frequent sequences count : 108\n",
      " Max memory (mb) : 14273.31216430664108\n",
      "minsup 421143\n",
      "Intersection count 588 \n",
      "===================================================\n",
      "\n",
      "\n",
      "                 pattern      sup\n",
      "0                [65472]   427039\n",
      "1                [53996]  1074492\n",
      "2                [49042]   523172\n",
      "3                [45846]  1590487\n",
      "4                [45327]   460532\n",
      "..                   ...      ...\n",
      "103  [23949, 7649, 7649]   560004\n",
      "104  [7649, 23949, 7649]   627769\n",
      "105  [19968, 7649, 7649]   427342\n",
      "106  [7649, 19968, 7649]   478989\n",
      "107   [7649, 7649, 7649]   480170\n",
      "\n",
      "[108 rows x 2 columns]\n"
     ]
    }
   ],
   "source": [
    "spmf = Spmf(\"VMSP\", input_filename=\"/home/s164574/motifs_and_competition_in_app_usage/20sec_sessions_0_01_removed_without_split.txt\",\n",
    "            output_filename=\"/home/s164574/motifs_and_competition_in_app_usage/output_VMSP_20sec_sessions_0_01_removed_without_split_min_sup_0_8.txt\",\n",
    "            spmf_bin_location_dir=\"/home/s164574/motifs_and_competition_in_app_usage/\",\n",
    "            arguments=[0.008])\n",
    "spmf.run()\n",
    "print(spmf.to_pandas_dataframe(pickle=True))\n",
    "spmf.to_csv(\"output_VMSP_20sec_sessions_0_01_removed_without_split_min_sup_0_8.csv\")"
   ]
  },
  {
   "cell_type": "code",
   "execution_count": 25,
   "metadata": {},
   "outputs": [],
   "source": [
    "output=pd.read_csv(\"output_VMSP_20sec_sessions_0_01_removed_without_split_min_sup_0_8.csv\",delimiter=';')\n",
    "output['pattern']=output.pattern.apply(lambda l: [app_dict[int(i)] for i in ast.literal_eval(l)])\n",
    "output=output.sort_values(['sup'],ascending=False)\n",
    "output['pattern_length']=output.pattern.apply(lambda l: len(l))\n",
    "output.to_csv(\"output_VMSP_20sec_sessions_0_01_removed_without_split_min_sup_0_8_translated.csv\",index=False)"
   ]
  },
  {
   "cell_type": "code",
   "execution_count": 26,
   "metadata": {},
   "outputs": [
    {
     "name": "stdout",
     "output_type": "stream",
     "text": [
      "Number of frequent patterns of length 1: 17\n",
      "Max lengths of frequent patterns: 3\n"
     ]
    }
   ],
   "source": [
    "print(\"Number of frequent patterns of length 1:\",len(output[output.pattern_length==1]))\n",
    "print(\"Max lengths of frequent patterns:\",output.pattern_length.max())"
   ]
  },
  {
   "cell_type": "code",
   "execution_count": 27,
   "metadata": {},
   "outputs": [
    {
     "name": "stdout",
     "output_type": "stream",
     "text": [
      ">/home/s164574/motifs_and_competition_in_app_usage/spmf.jar\n",
      "=============  VMSP v0.97 - STATISTICS =============\n",
      " Total time ~ 671259 ms\n",
      " Frequent sequences count : 115\n",
      " Max memory (mb) : 16200.174240112305115\n",
      "minsup 394822\n",
      "Intersection count 663 \n",
      "===================================================\n",
      "\n",
      "\n",
      "                 pattern      sup\n",
      "0                [65472]   427039\n",
      "1                [53996]  1074492\n",
      "2                [49042]   523172\n",
      "3                [45846]  1590487\n",
      "4                [45327]   460532\n",
      "..                   ...      ...\n",
      "110  [23949, 7649, 7649]   560004\n",
      "111  [7649, 23949, 7649]   627769\n",
      "112  [19968, 7649, 7649]   427342\n",
      "113  [7649, 19968, 7649]   478989\n",
      "114   [7649, 7649, 7649]   480170\n",
      "\n",
      "[115 rows x 2 columns]\n"
     ]
    }
   ],
   "source": [
    "spmf = Spmf(\"VMSP\", input_filename=\"/home/s164574/motifs_and_competition_in_app_usage/20sec_sessions_0_01_removed_without_split.txt\",\n",
    "            output_filename=\"/home/s164574/motifs_and_competition_in_app_usage/output_VMSP_20sec_sessions_0_01_removed_without_split_min_sup_0_75.txt\",\n",
    "            spmf_bin_location_dir=\"/home/s164574/motifs_and_competition_in_app_usage/\",\n",
    "            arguments=[0.0075])\n",
    "spmf.run()\n",
    "print(spmf.to_pandas_dataframe(pickle=True))\n",
    "spmf.to_csv(\"output_VMSP_20sec_sessions_0_01_removed_without_split_min_sup_0_75.csv\")"
   ]
  },
  {
   "cell_type": "code",
   "execution_count": 28,
   "metadata": {},
   "outputs": [],
   "source": [
    "output=pd.read_csv(\"output_VMSP_20sec_sessions_0_01_removed_without_split_min_sup_0_75.csv\",delimiter=';')\n",
    "output['pattern']=output.pattern.apply(lambda l: [app_dict[int(i)] for i in ast.literal_eval(l)])\n",
    "output=output.sort_values(['sup'],ascending=False)\n",
    "output['pattern_length']=output.pattern.apply(lambda l: len(l))\n",
    "output.to_csv(\"output_VMSP_20sec_sessions_0_01_removed_without_split_min_sup_0_75_translated.csv\",index=False)"
   ]
  },
  {
   "cell_type": "code",
   "execution_count": 29,
   "metadata": {},
   "outputs": [
    {
     "name": "stdout",
     "output_type": "stream",
     "text": [
      "Number of frequent patterns of length 1: 18\n",
      "Max lengths of frequent patterns: 3\n"
     ]
    }
   ],
   "source": [
    "print(\"Number of frequent patterns of length 1:\",len(output[output.pattern_length==1]))\n",
    "print(\"Max lengths of frequent patterns:\",output.pattern_length.max())"
   ]
  },
  {
   "cell_type": "code",
   "execution_count": 30,
   "metadata": {
    "scrolled": true
   },
   "outputs": [
    {
     "name": "stdout",
     "output_type": "stream",
     "text": [
      ">/home/s164574/motifs_and_competition_in_app_usage/spmf.jar\n",
      "=============  VMSP v0.97 - STATISTICS =============\n",
      " Total time ~ 708364 ms\n",
      " Frequent sequences count : 130\n",
      " Max memory (mb) : 16545.53606414795130\n",
      "minsup 368500\n",
      "Intersection count 778 \n",
      "===================================================\n",
      "\n",
      "\n",
      "                        pattern      sup\n",
      "0                       [65472]   427039\n",
      "1                       [53996]  1074492\n",
      "2                       [49042]   523172\n",
      "3                       [45846]  1590487\n",
      "4                       [45327]   460532\n",
      "..                          ...      ...\n",
      "125         [7649, 7649, 19968]   371044\n",
      "126         [19968, 7649, 7649]   427342\n",
      "127         [7649, 19968, 7649]   478989\n",
      "128          [7649, 7649, 7649]   480170\n",
      "129  [23949, 7649, 23949, 7649]   392972\n",
      "\n",
      "[130 rows x 2 columns]\n"
     ]
    }
   ],
   "source": [
    "spmf = Spmf(\"VMSP\", input_filename=\"/home/s164574/motifs_and_competition_in_app_usage/20sec_sessions_0_01_removed_without_split.txt\",\n",
    "            output_filename=\"/home/s164574/motifs_and_competition_in_app_usage/output_VMSP_20sec_sessions_0_01_removed_without_split_min_sup_0_7.txt\",\n",
    "            spmf_bin_location_dir=\"/home/s164574/motifs_and_competition_in_app_usage/\",\n",
    "            arguments=[0.007])\n",
    "spmf.run()\n",
    "print(spmf.to_pandas_dataframe(pickle=True))\n",
    "spmf.to_csv(\"output_VMSP_20sec_sessions_0_01_removed_without_split_min_sup_0_7.csv\")"
   ]
  },
  {
   "cell_type": "code",
   "execution_count": 31,
   "metadata": {},
   "outputs": [],
   "source": [
    "output=pd.read_csv(\"output_VMSP_20sec_sessions_0_01_removed_without_split_min_sup_0_7.csv\",delimiter=';')\n",
    "output['pattern']=output.pattern.apply(lambda l: [app_dict[int(i)] for i in ast.literal_eval(l)])\n",
    "output=output.sort_values(['sup'],ascending=False)\n",
    "output['pattern_length']=output.pattern.apply(lambda l: len(l))\n",
    "output.to_csv(\"output_VMSP_20sec_sessions_0_01_removed_without_split_min_sup_0_7_translated.csv\",index=False)"
   ]
  },
  {
   "cell_type": "code",
   "execution_count": 32,
   "metadata": {},
   "outputs": [
    {
     "name": "stdout",
     "output_type": "stream",
     "text": [
      "Number of frequent patterns of length 1: 20\n",
      "Max lengths of frequent patterns: 4\n"
     ]
    }
   ],
   "source": [
    "print(\"Number of frequent patterns of length 1:\",len(output[output.pattern_length==1]))\n",
    "print(\"Max lengths of frequent patterns:\",output.pattern_length.max())"
   ]
  },
  {
   "cell_type": "code",
   "execution_count": 33,
   "metadata": {},
   "outputs": [
    {
     "name": "stdout",
     "output_type": "stream",
     "text": [
      ">/home/s164574/motifs_and_competition_in_app_usage/spmf.jar\n",
      "=============  VMSP v0.97 - STATISTICS =============\n",
      " Total time ~ 679218 ms\n",
      " Frequent sequences count : 136\n",
      " Max memory (mb) : 14354.177284240723136\n",
      "minsup 342179\n",
      "Intersection count 866 \n",
      "===================================================\n",
      "\n",
      "\n",
      "                          pattern      sup\n",
      "0                         [65472]   427039\n",
      "1                         [59154]   357369\n",
      "2                         [53996]  1074492\n",
      "3                         [49042]   523172\n",
      "4                         [45846]  1590487\n",
      "..                            ...      ...\n",
      "131           [7649, 7649, 19968]   371044\n",
      "132           [7649, 19968, 7649]   478989\n",
      "133            [7649, 7649, 7649]   480170\n",
      "134  [53003, 19968, 53003, 19968]   344782\n",
      "135    [23949, 7649, 23949, 7649]   392972\n",
      "\n",
      "[136 rows x 2 columns]\n"
     ]
    }
   ],
   "source": [
    "spmf = Spmf(\"VMSP\", input_filename=\"/home/s164574/motifs_and_competition_in_app_usage/20sec_sessions_0_01_removed_without_split.txt\",\n",
    "            output_filename=\"/home/s164574/motifs_and_competition_in_app_usage/output_VMSP_20sec_sessions_0_01_removed_without_split_min_sup_0_65.txt\",\n",
    "            spmf_bin_location_dir=\"/home/s164574/motifs_and_competition_in_app_usage/\",\n",
    "            arguments=[0.0065])\n",
    "spmf.run()\n",
    "print(spmf.to_pandas_dataframe(pickle=True))\n",
    "spmf.to_csv(\"output_VMSP_20sec_sessions_0_01_removed_without_split_min_sup_0_65.csv\")"
   ]
  },
  {
   "cell_type": "code",
   "execution_count": 34,
   "metadata": {},
   "outputs": [],
   "source": [
    "output=pd.read_csv(\"output_VMSP_20sec_sessions_0_01_removed_without_split_min_sup_0_65.csv\",delimiter=';')\n",
    "output['pattern']=output.pattern.apply(lambda l: [app_dict[int(i)] for i in ast.literal_eval(l)])\n",
    "output=output.sort_values(['sup'],ascending=False)\n",
    "output['pattern_length']=output.pattern.apply(lambda l: len(l))\n",
    "output.to_csv(\"output_VMSP_20sec_sessions_0_01_removed_without_split_min_sup_0_65_translated.csv\",index=False)"
   ]
  },
  {
   "cell_type": "code",
   "execution_count": 35,
   "metadata": {},
   "outputs": [
    {
     "name": "stdout",
     "output_type": "stream",
     "text": [
      "Number of frequent patterns of length 1: 20\n",
      "Max lengths of frequent patterns: 4\n"
     ]
    }
   ],
   "source": [
    "print(\"Number of frequent patterns of length 1:\",len(output[output.pattern_length==1]))\n",
    "print(\"Max lengths of frequent patterns:\",output.pattern_length.max())"
   ]
  },
  {
   "cell_type": "code",
   "execution_count": 36,
   "metadata": {},
   "outputs": [
    {
     "name": "stdout",
     "output_type": "stream",
     "text": [
      ">/home/s164574/motifs_and_competition_in_app_usage/spmf.jar\n",
      "=============  VMSP v0.97 - STATISTICS =============\n",
      " Total time ~ 809714 ms\n",
      " Frequent sequences count : 146\n",
      " Max memory (mb) : 16835.67275238037146\n",
      "minsup 315858\n",
      "Intersection count 941 \n",
      "===================================================\n",
      "\n",
      "\n",
      "                          pattern      sup\n",
      "0                         [65472]   427039\n",
      "1                         [59154]   357369\n",
      "2                         [53996]  1074492\n",
      "3                         [51657]   323309\n",
      "4                         [49042]   523172\n",
      "..                            ...      ...\n",
      "141           [7649, 19968, 7649]   478989\n",
      "142           [19968, 7649, 7649]   427342\n",
      "143            [7649, 7649, 7649]   480170\n",
      "144  [53003, 19968, 53003, 19968]   344782\n",
      "145    [23949, 7649, 23949, 7649]   392972\n",
      "\n",
      "[146 rows x 2 columns]\n"
     ]
    }
   ],
   "source": [
    "spmf = Spmf(\"VMSP\", input_filename=\"/home/s164574/motifs_and_competition_in_app_usage/20sec_sessions_0_01_removed_without_split.txt\",\n",
    "            output_filename=\"/home/s164574/motifs_and_competition_in_app_usage/output_VMSP_20sec_sessions_0_01_removed_without_split_min_sup_0_6.txt\",\n",
    "            spmf_bin_location_dir=\"/home/s164574/motifs_and_competition_in_app_usage/\",\n",
    "            arguments=[0.006])\n",
    "spmf.run()\n",
    "print(spmf.to_pandas_dataframe(pickle=True))\n",
    "spmf.to_csv(\"output_VMSP_20sec_sessions_0_01_removed_without_split_min_sup_0_6.csv\")"
   ]
  },
  {
   "cell_type": "code",
   "execution_count": 37,
   "metadata": {},
   "outputs": [],
   "source": [
    "output=pd.read_csv(\"output_VMSP_20sec_sessions_0_01_removed_without_split_min_sup_0_6.csv\",delimiter=';')\n",
    "output['pattern']=output.pattern.apply(lambda l: [app_dict[int(i)] for i in ast.literal_eval(l)])\n",
    "output=output.sort_values(['sup'],ascending=False)\n",
    "output['pattern_length']=output.pattern.apply(lambda l: len(l))\n",
    "output.to_csv(\"output_VMSP_20sec_sessions_0_01_removed_without_split_min_sup_0_6_translated.csv\",index=False)"
   ]
  },
  {
   "cell_type": "code",
   "execution_count": 38,
   "metadata": {},
   "outputs": [
    {
     "name": "stdout",
     "output_type": "stream",
     "text": [
      "Number of frequent patterns of length 1: 21\n",
      "Max lengths of frequent patterns: 4\n"
     ]
    }
   ],
   "source": [
    "print(\"Number of frequent patterns of length 1:\",len(output[output.pattern_length==1]))\n",
    "print(\"Max lengths of frequent patterns:\",output.pattern_length.max())"
   ]
  },
  {
   "cell_type": "code",
   "execution_count": 39,
   "metadata": {},
   "outputs": [
    {
     "name": "stdout",
     "output_type": "stream",
     "text": [
      ">/home/s164574/motifs_and_competition_in_app_usage/spmf.jar\n",
      "=============  VMSP v0.97 - STATISTICS =============\n",
      " Total time ~ 707803 ms\n",
      " Frequent sequences count : 155\n",
      " Max memory (mb) : 14338.39582824707155\n",
      "minsup 289536\n",
      "Intersection count 1031 \n",
      "===================================================\n",
      "\n",
      "\n",
      "                          pattern      sup\n",
      "0                         [65472]   427039\n",
      "1                         [59154]   357369\n",
      "2                         [53996]  1074492\n",
      "3                         [51657]   323309\n",
      "4                         [49042]   523172\n",
      "..                            ...      ...\n",
      "150           [19968, 7649, 7649]   427342\n",
      "151            [7649, 7649, 7649]   480170\n",
      "152  [53003, 19968, 53003, 19968]   344782\n",
      "153  [19968, 53003, 19968, 53003]   299234\n",
      "154    [23949, 7649, 23949, 7649]   392972\n",
      "\n",
      "[155 rows x 2 columns]\n"
     ]
    }
   ],
   "source": [
    "spmf = Spmf(\"VMSP\", input_filename=\"/home/s164574/motifs_and_competition_in_app_usage/20sec_sessions_0_01_removed_without_split.txt\",\n",
    "            output_filename=\"/home/s164574/motifs_and_competition_in_app_usage/output_VMSP_20sec_sessions_0_01_removed_without_split_min_sup_0_55.txt\",\n",
    "            spmf_bin_location_dir=\"/home/s164574/motifs_and_competition_in_app_usage/\",\n",
    "            arguments=[0.0055])\n",
    "spmf.run()\n",
    "print(spmf.to_pandas_dataframe(pickle=True))\n",
    "spmf.to_csv(\"output_VMSP_20sec_sessions_0_01_removed_without_split_min_sup_0_55.csv\")"
   ]
  },
  {
   "cell_type": "code",
   "execution_count": 40,
   "metadata": {},
   "outputs": [],
   "source": [
    "output=pd.read_csv(\"output_VMSP_20sec_sessions_0_01_removed_without_split_min_sup_0_55.csv\",delimiter=';')\n",
    "output['pattern']=output.pattern.apply(lambda l: [app_dict[int(i)] for i in ast.literal_eval(l)])\n",
    "output=output.sort_values(['sup'],ascending=False)\n",
    "output['pattern_length']=output.pattern.apply(lambda l: len(l))\n",
    "output.to_csv(\"output_VMSP_20sec_sessions_0_01_removed_without_split_min_sup_0_55_translated.csv\",index=False)"
   ]
  },
  {
   "cell_type": "code",
   "execution_count": 41,
   "metadata": {},
   "outputs": [
    {
     "name": "stdout",
     "output_type": "stream",
     "text": [
      "Number of frequent patterns of length 1: 23\n",
      "Max lengths of frequent patterns: 4\n"
     ]
    }
   ],
   "source": [
    "print(\"Number of frequent patterns of length 1:\",len(output[output.pattern_length==1]))\n",
    "print(\"Max lengths of frequent patterns:\",output.pattern_length.max())"
   ]
  },
  {
   "cell_type": "code",
   "execution_count": 42,
   "metadata": {},
   "outputs": [
    {
     "name": "stdout",
     "output_type": "stream",
     "text": [
      ">/home/s164574/motifs_and_competition_in_app_usage/spmf.jar\n",
      "=============  VMSP v0.97 - STATISTICS =============\n",
      " Total time ~ 766407 ms\n",
      " Frequent sequences count : 174\n",
      " Max memory (mb) : 14240.029014587402174\n",
      "minsup 263215\n",
      "Intersection count 1190 \n",
      "===================================================\n",
      "\n",
      "\n",
      "                          pattern      sup\n",
      "0                         [65472]   427039\n",
      "1                         [59154]   357369\n",
      "2                         [53996]  1074492\n",
      "3                         [51657]   323309\n",
      "4                         [49042]   523172\n",
      "..                            ...      ...\n",
      "169           [7649, 7649, 19968]   371044\n",
      "170            [7649, 7649, 7649]   480170\n",
      "171  [19968, 53003, 19968, 53003]   299234\n",
      "172  [53003, 19968, 53003, 19968]   344782\n",
      "173    [23949, 7649, 23949, 7649]   392972\n",
      "\n",
      "[174 rows x 2 columns]\n"
     ]
    }
   ],
   "source": [
    "spmf = Spmf(\"VMSP\", input_filename=\"/home/s164574/motifs_and_competition_in_app_usage/20sec_sessions_0_01_removed_without_split.txt\",\n",
    "            output_filename=\"/home/s164574/motifs_and_competition_in_app_usage/output_VMSP_20sec_sessions_0_01_removed_without_split_min_sup_0_5.txt\",\n",
    "            spmf_bin_location_dir=\"/home/s164574/motifs_and_competition_in_app_usage/\",\n",
    "            arguments=[0.005])\n",
    "spmf.run()\n",
    "print(spmf.to_pandas_dataframe(pickle=True))\n",
    "spmf.to_csv(\"output_VMSP_20sec_sessions_0_01_removed_without_split_min_sup_0_5.csv\")"
   ]
  },
  {
   "cell_type": "code",
   "execution_count": 43,
   "metadata": {},
   "outputs": [],
   "source": [
    "output=pd.read_csv(\"output_VMSP_20sec_sessions_0_01_removed_without_split_min_sup_0_5.csv\",delimiter=';')\n",
    "output['pattern']=output.pattern.apply(lambda l: [app_dict[int(i)] for i in ast.literal_eval(l)])\n",
    "output=output.sort_values(['sup'],ascending=False)\n",
    "output['pattern_length']=output.pattern.apply(lambda l: len(l))\n",
    "output.to_csv(\"output_VMSP_20sec_sessions_0_01_removed_without_split_min_sup_0_5_translated.csv\",index=False)"
   ]
  },
  {
   "cell_type": "code",
   "execution_count": 44,
   "metadata": {},
   "outputs": [
    {
     "name": "stdout",
     "output_type": "stream",
     "text": [
      "Number of frequent patterns of length 1: 27\n",
      "Max lengths of frequent patterns: 4\n"
     ]
    }
   ],
   "source": [
    "print(\"Number of frequent patterns of length 1:\",len(output[output.pattern_length==1]))\n",
    "print(\"Max lengths of frequent patterns:\",output.pattern_length.max())"
   ]
  },
  {
   "cell_type": "code",
   "execution_count": 45,
   "metadata": {},
   "outputs": [
    {
     "name": "stdout",
     "output_type": "stream",
     "text": [
      ">/home/s164574/motifs_and_competition_in_app_usage/spmf.jar\n",
      "=============  VMSP v0.97 - STATISTICS =============\n",
      " Total time ~ 897454 ms\n",
      " Frequent sequences count : 192\n",
      " Max memory (mb) : 15903.732650756836192\n",
      "minsup 236893\n",
      "Intersection count 1369 \n",
      "===================================================\n",
      "\n",
      "\n",
      "                          pattern     sup\n",
      "0                         [65472]  427039\n",
      "1                         [59154]  357369\n",
      "2                         [51657]  323309\n",
      "3                         [50264]  244585\n",
      "4                         [49042]  523172\n",
      "..                            ...     ...\n",
      "187  [19968, 53003, 19968, 53003]  299234\n",
      "188  [53003, 19968, 53003, 19968]  344782\n",
      "189   [23949, 7649, 23949, 23949]  256486\n",
      "190    [23949, 7649, 23949, 7649]  392972\n",
      "191    [7649, 23949, 7649, 23949]  259296\n",
      "\n",
      "[192 rows x 2 columns]\n"
     ]
    }
   ],
   "source": [
    "spmf = Spmf(\"VMSP\", input_filename=\"/home/s164574/motifs_and_competition_in_app_usage/20sec_sessions_0_01_removed_without_split.txt\",\n",
    "            output_filename=\"/home/s164574/motifs_and_competition_in_app_usage/output_VMSP_20sec_sessions_0_01_removed_without_split_min_sup_0_45.txt\",\n",
    "            spmf_bin_location_dir=\"/home/s164574/motifs_and_competition_in_app_usage/\",\n",
    "            arguments=[0.0045])\n",
    "spmf.run()\n",
    "print(spmf.to_pandas_dataframe(pickle=True))\n",
    "spmf.to_csv(\"output_VMSP_20sec_sessions_0_01_removed_without_split_min_sup_0_45.csv\")"
   ]
  },
  {
   "cell_type": "code",
   "execution_count": 46,
   "metadata": {},
   "outputs": [],
   "source": [
    "output=pd.read_csv(\"output_VMSP_20sec_sessions_0_01_removed_without_split_min_sup_0_45.csv\",delimiter=';')\n",
    "output['pattern']=output.pattern.apply(lambda l: [app_dict[int(i)] for i in ast.literal_eval(l)])\n",
    "output=output.sort_values(['sup'],ascending=False)\n",
    "output['pattern_length']=output.pattern.apply(lambda l: len(l))\n",
    "output.to_csv(\"output_VMSP_20sec_sessions_0_01_removed_without_split_min_sup_0_45_translated.csv\",index=False)"
   ]
  },
  {
   "cell_type": "code",
   "execution_count": 47,
   "metadata": {},
   "outputs": [
    {
     "name": "stdout",
     "output_type": "stream",
     "text": [
      "Number of frequent patterns of length 1: 28\n",
      "Max lengths of frequent patterns: 4\n"
     ]
    }
   ],
   "source": [
    "print(\"Number of frequent patterns of length 1:\",len(output[output.pattern_length==1]))\n",
    "print(\"Max lengths of frequent patterns:\",output.pattern_length.max())"
   ]
  },
  {
   "cell_type": "code",
   "execution_count": 48,
   "metadata": {},
   "outputs": [
    {
     "name": "stdout",
     "output_type": "stream",
     "text": [
      ">/home/s164574/motifs_and_competition_in_app_usage/spmf.jar\n",
      "=============  VMSP v0.97 - STATISTICS =============\n",
      " Total time ~ 1008158 ms\n",
      " Frequent sequences count : 232\n",
      " Max memory (mb) : 16150.376747131348232\n",
      "minsup 210572\n",
      "Intersection count 1721 \n",
      "===================================================\n",
      "\n",
      "\n",
      "                         pattern     sup\n",
      "0                        [65472]  427039\n",
      "1                        [59154]  357369\n",
      "2                        [51657]  323309\n",
      "3                        [50264]  244585\n",
      "4                        [49042]  523172\n",
      "..                           ...     ...\n",
      "227  [23949, 23949, 7649, 23949]  234694\n",
      "228  [19968, 23949, 7649, 23949]  224163\n",
      "229   [23949, 7649, 7649, 23949]  225476\n",
      "230   [7649, 23949, 7649, 23949]  259296\n",
      "231   [23949, 7649, 23949, 7649]  392972\n",
      "\n",
      "[232 rows x 2 columns]\n"
     ]
    }
   ],
   "source": [
    "spmf = Spmf(\"VMSP\", input_filename=\"/home/s164574/motifs_and_competition_in_app_usage/20sec_sessions_0_01_removed_without_split.txt\",\n",
    "            output_filename=\"/home/s164574/motifs_and_competition_in_app_usage/output_VMSP_20sec_sessions_0_01_removed_without_split_min_sup_0_4.txt\",\n",
    "            spmf_bin_location_dir=\"/home/s164574/motifs_and_competition_in_app_usage/\",\n",
    "            arguments=[0.004])\n",
    "spmf.run()\n",
    "print(spmf.to_pandas_dataframe(pickle=True))\n",
    "spmf.to_csv(\"output_VMSP_20sec_sessions_0_01_removed_without_split_min_sup_0_4.csv\")"
   ]
  },
  {
   "cell_type": "code",
   "execution_count": 49,
   "metadata": {},
   "outputs": [],
   "source": [
    "output=pd.read_csv(\"output_VMSP_20sec_sessions_0_01_removed_without_split_min_sup_0_4.csv\",delimiter=';')\n",
    "output['pattern']=output.pattern.apply(lambda l: [app_dict[int(i)] for i in ast.literal_eval(l)])\n",
    "output=output.sort_values(['sup'],ascending=False)\n",
    "output['pattern_length']=output.pattern.apply(lambda l: len(l))\n",
    "output.to_csv(\"output_VMSP_20sec_sessions_0_01_removed_without_split_min_sup_0_4_translated.csv\",index=False)"
   ]
  },
  {
   "cell_type": "code",
   "execution_count": 50,
   "metadata": {},
   "outputs": [
    {
     "name": "stdout",
     "output_type": "stream",
     "text": [
      "Number of frequent patterns of length 1: 36\n",
      "Max lengths of frequent patterns: 4\n"
     ]
    }
   ],
   "source": [
    "print(\"Number of frequent patterns of length 1:\",len(output[output.pattern_length==1]))\n",
    "print(\"Max lengths of frequent patterns:\",output.pattern_length.max())"
   ]
  },
  {
   "cell_type": "code",
   "execution_count": 51,
   "metadata": {},
   "outputs": [
    {
     "name": "stdout",
     "output_type": "stream",
     "text": [
      ">/home/s164574/motifs_and_competition_in_app_usage/spmf.jar\n",
      "=============  VMSP v0.97 - STATISTICS =============\n",
      " Total time ~ 969329 ms\n",
      " Frequent sequences count : 250\n",
      " Max memory (mb) : 14406.721794128418250\n",
      "minsup 184250\n",
      "Intersection count 1929 \n",
      "===================================================\n",
      "\n",
      "\n",
      "                               pattern     sup\n",
      "0                              [65472]  427039\n",
      "1                              [59154]  357369\n",
      "2                              [51657]  323309\n",
      "3                              [50264]  244585\n",
      "4                              [49042]  523172\n",
      "..                                 ...     ...\n",
      "245        [19968, 23949, 7649, 23949]  224163\n",
      "246        [19968, 23949, 7649, 19968]  206746\n",
      "247        [19968, 19968, 7649, 19968]  186937\n",
      "248         [19968, 7649, 19968, 7649]  194263\n",
      "249  [23949, 7649, 23949, 7649, 23949]  185403\n",
      "\n",
      "[250 rows x 2 columns]\n"
     ]
    }
   ],
   "source": [
    "spmf = Spmf(\"VMSP\", input_filename=\"/home/s164574/motifs_and_competition_in_app_usage/20sec_sessions_0_01_removed_without_split.txt\",\n",
    "            output_filename=\"/home/s164574/motifs_and_competition_in_app_usage/output_VMSP_20sec_sessions_0_01_removed_without_split_min_sup_0_35.txt\",\n",
    "            spmf_bin_location_dir=\"/home/s164574/motifs_and_competition_in_app_usage/\",\n",
    "            arguments=[0.0035])\n",
    "spmf.run()\n",
    "print(spmf.to_pandas_dataframe(pickle=True))\n",
    "spmf.to_csv(\"output_VMSP_20sec_sessions_0_01_removed_without_split_min_sup_0_35.csv\")"
   ]
  },
  {
   "cell_type": "code",
   "execution_count": 52,
   "metadata": {},
   "outputs": [],
   "source": [
    "output=pd.read_csv(\"output_VMSP_20sec_sessions_0_01_removed_without_split_min_sup_0_35.csv\",delimiter=';')\n",
    "output['pattern']=output.pattern.apply(lambda l: [app_dict[int(i)] for i in ast.literal_eval(l)])\n",
    "output=output.sort_values(['sup'],ascending=False)\n",
    "output['pattern_length']=output.pattern.apply(lambda l: len(l))\n",
    "output.to_csv(\"output_VMSP_20sec_sessions_0_01_removed_without_split_min_sup_0_35_translated.csv\",index=False)"
   ]
  },
  {
   "cell_type": "code",
   "execution_count": 53,
   "metadata": {},
   "outputs": [
    {
     "name": "stdout",
     "output_type": "stream",
     "text": [
      "Number of frequent patterns of length 1: 40\n",
      "Max lengths of frequent patterns: 5\n"
     ]
    }
   ],
   "source": [
    "print(\"Number of frequent patterns of length 1:\",len(output[output.pattern_length==1]))\n",
    "print(\"Max lengths of frequent patterns:\",output.pattern_length.max())"
   ]
  },
  {
   "cell_type": "code",
   "execution_count": 54,
   "metadata": {},
   "outputs": [
    {
     "name": "stdout",
     "output_type": "stream",
     "text": [
      ">/home/s164574/motifs_and_competition_in_app_usage/spmf.jar\n",
      "=============  VMSP v0.97 - STATISTICS =============\n",
      " Total time ~ 1070593 ms\n",
      " Frequent sequences count : 298\n",
      " Max memory (mb) : 14345.460800170898298\n",
      "minsup 157929\n",
      "Intersection count 2426 \n",
      "===================================================\n",
      "\n",
      "\n",
      "                                 pattern     sup\n",
      "0                                [65472]  427039\n",
      "1                                [59154]  357369\n",
      "2                                [58938]  176272\n",
      "3                                [51657]  323309\n",
      "4                                [50264]  244585\n",
      "..                                   ...     ...\n",
      "293           [19968, 7649, 7649, 19968]  160270\n",
      "294           [19968, 7649, 19968, 7649]  194263\n",
      "295           [7649, 19968, 7649, 19968]  170307\n",
      "296  [53003, 19968, 53003, 19968, 53003]  166593\n",
      "297    [23949, 7649, 23949, 7649, 23949]  185403\n",
      "\n",
      "[298 rows x 2 columns]\n"
     ]
    }
   ],
   "source": [
    "spmf = Spmf(\"VMSP\", input_filename=\"/home/s164574/motifs_and_competition_in_app_usage/20sec_sessions_0_01_removed_without_split.txt\",\n",
    "            output_filename=\"/home/s164574/motifs_and_competition_in_app_usage/output_VMSP_20sec_sessions_0_01_removed_without_split_min_sup_0_3.txt\",\n",
    "            spmf_bin_location_dir=\"/home/s164574/motifs_and_competition_in_app_usage/\",\n",
    "            arguments=[0.003])\n",
    "spmf.run()\n",
    "print(spmf.to_pandas_dataframe(pickle=True))\n",
    "spmf.to_csv(\"output_VMSP_20sec_sessions_0_01_removed_without_split_min_sup_0_3.csv\")"
   ]
  },
  {
   "cell_type": "code",
   "execution_count": 55,
   "metadata": {},
   "outputs": [],
   "source": [
    "output=pd.read_csv(\"output_VMSP_20sec_sessions_0_01_removed_without_split_min_sup_0_3.csv\",delimiter=';')\n",
    "output['pattern']=output.pattern.apply(lambda l: [app_dict[int(i)] for i in ast.literal_eval(l)])\n",
    "output=output.sort_values(['sup'],ascending=False)\n",
    "output['pattern_length']=output.pattern.apply(lambda l: len(l))\n",
    "output.to_csv(\"output_VMSP_20sec_sessions_0_01_removed_without_split_min_sup_0_3_translated.csv\",index=False)"
   ]
  },
  {
   "cell_type": "code",
   "execution_count": 56,
   "metadata": {},
   "outputs": [
    {
     "name": "stdout",
     "output_type": "stream",
     "text": [
      "Number of frequent patterns of length 1: 51\n",
      "Max lengths of frequent patterns: 5\n"
     ]
    }
   ],
   "source": [
    "print(\"Number of frequent patterns of length 1:\",len(output[output.pattern_length==1]))\n",
    "print(\"Max lengths of frequent patterns:\",output.pattern_length.max())"
   ]
  },
  {
   "cell_type": "code",
   "execution_count": 57,
   "metadata": {},
   "outputs": [
    {
     "name": "stdout",
     "output_type": "stream",
     "text": [
      ">/home/s164574/motifs_and_competition_in_app_usage/spmf.jar\n",
      "=============  VMSP v0.97 - STATISTICS =============\n",
      " Total time ~ 1187532 ms\n",
      " Frequent sequences count : 362\n",
      " Max memory (mb) : 14494.559265136719362\n",
      "minsup 131608\n",
      "Intersection count 3069 \n",
      "===================================================\n",
      "\n",
      "\n",
      "                                 pattern     sup\n",
      "0                                [66136]  135309\n",
      "1                                [65472]  427039\n",
      "2                                [59154]  357369\n",
      "3                                [58938]  176272\n",
      "4                                [54974]  135085\n",
      "..                                   ...     ...\n",
      "357            [7649, 7649, 23949, 7649]  148495\n",
      "358             [7649, 7649, 7649, 7649]  150735\n",
      "359  [53003, 19968, 53003, 19968, 53003]  166593\n",
      "360  [19968, 53003, 19968, 53003, 19968]  134526\n",
      "361    [23949, 7649, 23949, 7649, 23949]  185403\n",
      "\n",
      "[362 rows x 2 columns]\n"
     ]
    }
   ],
   "source": [
    "spmf = Spmf(\"VMSP\", input_filename=\"/home/s164574/motifs_and_competition_in_app_usage/20sec_sessions_0_01_removed_without_split.txt\",\n",
    "            output_filename=\"/home/s164574/motifs_and_competition_in_app_usage/output_VMSP_20sec_sessions_0_01_removed_without_split_min_sup_0_25.txt\",\n",
    "            spmf_bin_location_dir=\"/home/s164574/motifs_and_competition_in_app_usage/\",\n",
    "            arguments=[0.0025])\n",
    "spmf.run()\n",
    "print(spmf.to_pandas_dataframe(pickle=True))\n",
    "spmf.to_csv(\"output_VMSP_20sec_sessions_0_01_removed_without_split_min_sup_0_25.csv\")"
   ]
  },
  {
   "cell_type": "code",
   "execution_count": 58,
   "metadata": {},
   "outputs": [],
   "source": [
    "output=pd.read_csv(\"output_VMSP_20sec_sessions_0_01_removed_without_split_min_sup_0_25.csv\",delimiter=';')\n",
    "output['pattern']=output.pattern.apply(lambda l: [app_dict[int(i)] for i in ast.literal_eval(l)])\n",
    "output=output.sort_values(['sup'],ascending=False)\n",
    "output['pattern_length']=output.pattern.apply(lambda l: len(l))\n",
    "output.to_csv(\"output_VMSP_20sec_sessions_0_01_removed_without_split_min_sup_0_25_translated.csv\",index=False)"
   ]
  },
  {
   "cell_type": "code",
   "execution_count": 59,
   "metadata": {},
   "outputs": [
    {
     "name": "stdout",
     "output_type": "stream",
     "text": [
      "Number of frequent patterns of length 1: 54\n",
      "Max lengths of frequent patterns: 5\n"
     ]
    }
   ],
   "source": [
    "print(\"Number of frequent patterns of length 1:\",len(output[output.pattern_length==1]))\n",
    "print(\"Max lengths of frequent patterns:\",output.pattern_length.max())"
   ]
  },
  {
   "cell_type": "code",
   "execution_count": 60,
   "metadata": {},
   "outputs": [
    {
     "name": "stdout",
     "output_type": "stream",
     "text": [
      ">/home/s164574/motifs_and_competition_in_app_usage/spmf.jar\n",
      "=============  VMSP v0.97 - STATISTICS =============\n",
      " Total time ~ 1404153 ms\n",
      " Frequent sequences count : 489\n",
      " Max memory (mb) : 16643.205459594727489\n",
      "minsup 105286\n",
      "Intersection count 4297 \n",
      "===================================================\n",
      "\n",
      "\n",
      "                                 pattern     sup\n",
      "0                                [66136]  135309\n",
      "1                                [65472]  427039\n",
      "2                                [65471]  128913\n",
      "3                                [59154]  357369\n",
      "4                                [58938]  176272\n",
      "..                                   ...     ...\n",
      "484  [53003, 19968, 53003, 19968, 19968]  105464\n",
      "485  [19968, 53003, 19968, 53003, 19968]  134526\n",
      "486    [23949, 7649, 23949, 7649, 23949]  185403\n",
      "487    [23949, 7649, 23949, 23949, 7649]  125256\n",
      "488     [7649, 23949, 7649, 23949, 7649]  108790\n",
      "\n",
      "[489 rows x 2 columns]\n"
     ]
    }
   ],
   "source": [
    "spmf = Spmf(\"VMSP\", input_filename=\"/home/s164574/motifs_and_competition_in_app_usage/20sec_sessions_0_01_removed_without_split.txt\",\n",
    "            output_filename=\"/home/s164574/motifs_and_competition_in_app_usage/output_VMSP_20sec_sessions_0_01_removed_without_split_min_sup_0_2.txt\",\n",
    "            spmf_bin_location_dir=\"/home/s164574/motifs_and_competition_in_app_usage/\",\n",
    "            arguments=[0.002])\n",
    "spmf.run()\n",
    "print(spmf.to_pandas_dataframe(pickle=True))\n",
    "spmf.to_csv(\"output_VMSP_20sec_sessions_0_01_removed_without_split_min_sup_0_2.csv\")"
   ]
  },
  {
   "cell_type": "code",
   "execution_count": 61,
   "metadata": {},
   "outputs": [],
   "source": [
    "output=pd.read_csv(\"output_VMSP_20sec_sessions_0_01_removed_without_split_min_sup_0_2.csv\",delimiter=';')\n",
    "output['pattern']=output.pattern.apply(lambda l: [app_dict[int(i)] for i in ast.literal_eval(l)])\n",
    "output=output.sort_values(['sup'],ascending=False)\n",
    "output['pattern_length']=output.pattern.apply(lambda l: len(l))\n",
    "output.to_csv(\"output_VMSP_20sec_sessions_0_01_removed_without_split_min_sup_0_2_translated.csv\",index=False)"
   ]
  },
  {
   "cell_type": "code",
   "execution_count": 62,
   "metadata": {},
   "outputs": [
    {
     "name": "stdout",
     "output_type": "stream",
     "text": [
      "Number of frequent patterns of length 1: 65\n",
      "Max lengths of frequent patterns: 5\n"
     ]
    }
   ],
   "source": [
    "print(\"Number of frequent patterns of length 1:\",len(output[output.pattern_length==1]))\n",
    "print(\"Max lengths of frequent patterns:\",output.pattern_length.max())"
   ]
  },
  {
   "cell_type": "code",
   "execution_count": 63,
   "metadata": {},
   "outputs": [
    {
     "name": "stdout",
     "output_type": "stream",
     "text": [
      ">/home/s164574/motifs_and_competition_in_app_usage/spmf.jar\n",
      "=============  VMSP v0.97 - STATISTICS =============\n",
      " Total time ~ 1679305 ms\n",
      " Frequent sequences count : 669\n",
      " Max memory (mb) : 15147.725204467773669\n",
      "minsup 78965\n",
      "Intersection count 6378 \n",
      "===================================================\n",
      "\n",
      "\n",
      "                                        pattern     sup\n",
      "0                                       [66375]   82713\n",
      "1                                       [66136]  135309\n",
      "2                                       [65957]  100274\n",
      "3                                       [65471]  128913\n",
      "4                                       [62624]   99542\n",
      "..                                          ...     ...\n",
      "664           [7649, 23949, 23949, 7649, 23949]   85827\n",
      "665           [19968, 23949, 7649, 23949, 7649]   80700\n",
      "666           [19968, 7649, 19968, 7649, 19968]   88479\n",
      "667  [53003, 19968, 53003, 19968, 53003, 19968]   79195\n",
      "668     [23949, 7649, 23949, 7649, 23949, 7649]   79597\n",
      "\n",
      "[669 rows x 2 columns]\n"
     ]
    }
   ],
   "source": [
    "spmf = Spmf(\"VMSP\", input_filename=\"/home/s164574/motifs_and_competition_in_app_usage/20sec_sessions_0_01_removed_without_split.txt\",\n",
    "            output_filename=\"/home/s164574/motifs_and_competition_in_app_usage/output_VMSP_20sec_sessions_0_01_removed_without_split_min_sup_0_15.txt\",\n",
    "            spmf_bin_location_dir=\"/home/s164574/motifs_and_competition_in_app_usage/\",\n",
    "            arguments=[0.0015])\n",
    "spmf.run()\n",
    "print(spmf.to_pandas_dataframe(pickle=True))\n",
    "spmf.to_csv(\"output_VMSP_20sec_sessions_0_01_removed_without_split_min_sup_0_15.csv\")"
   ]
  },
  {
   "cell_type": "code",
   "execution_count": 64,
   "metadata": {},
   "outputs": [],
   "source": [
    "output=pd.read_csv(\"output_VMSP_20sec_sessions_0_01_removed_without_split_min_sup_0_15.csv\",delimiter=';')\n",
    "output['pattern']=output.pattern.apply(lambda l: [app_dict[int(i)] for i in ast.literal_eval(l)])\n",
    "output=output.sort_values(['sup'],ascending=False)\n",
    "output['pattern_length']=output.pattern.apply(lambda l: len(l))\n",
    "output.to_csv(\"output_VMSP_20sec_sessions_0_01_removed_without_split_min_sup_0_15_translated.csv\",index=False)"
   ]
  },
  {
   "cell_type": "code",
   "execution_count": 65,
   "metadata": {},
   "outputs": [
    {
     "name": "stdout",
     "output_type": "stream",
     "text": [
      "Number of frequent patterns of length 1: 73\n",
      "Max lengths of frequent patterns: 6\n"
     ]
    }
   ],
   "source": [
    "print(\"Number of frequent patterns of length 1:\",len(output[output.pattern_length==1]))\n",
    "print(\"Max lengths of frequent patterns:\",output.pattern_length.max())"
   ]
  },
  {
   "cell_type": "code",
   "execution_count": 66,
   "metadata": {},
   "outputs": [
    {
     "name": "stdout",
     "output_type": "stream",
     "text": [
      ">/home/s164574/motifs_and_competition_in_app_usage/spmf.jar\n",
      "=============  VMSP v0.97 - STATISTICS =============\n",
      " Total time ~ 6460759 ms\n",
      " Frequent sequences count : 2751\n",
      " Max memory (mb) : 18544.3089904785162751\n",
      "minsup 26322\n",
      "Intersection count 29234 \n",
      "===================================================\n",
      "\n",
      "\n",
      "                                                pattern     sup\n",
      "0                                               [66375]   82713\n",
      "1                                               [66279]   28064\n",
      "2                                               [65996]   51049\n",
      "3                                               [65957]  100274\n",
      "4                                               [65645]   33120\n",
      "...                                                 ...     ...\n",
      "2746  [19968, 53003, 19968, 53003, 19968, 19968, 53003]   27600\n",
      "2747     [23949, 7649, 23949, 7649, 23949, 23949, 7649]   31011\n",
      "2748     [23949, 7649, 23949, 7649, 23949, 7649, 23949]   43879\n",
      "2749     [23949, 7649, 23949, 23949, 7649, 23949, 7649]   30979\n",
      "2750      [7649, 23949, 7649, 23949, 7649, 23949, 7649]   27945\n",
      "\n",
      "[2751 rows x 2 columns]\n"
     ]
    }
   ],
   "source": [
    "spmf = Spmf(\"VMSP\", input_filename=\"/home/s164574/motifs_and_competition_in_app_usage/20sec_sessions_0_01_removed_without_split.txt\",\n",
    "            output_filename=\"/home/s164574/motifs_and_competition_in_app_usage/output_VMSP_20sec_sessions_0_01_removed_without_split_min_sup_0_05.txt\",\n",
    "            spmf_bin_location_dir=\"/home/s164574/motifs_and_competition_in_app_usage/\",\n",
    "            arguments=[0.0005])\n",
    "spmf.run()\n",
    "print(spmf.to_pandas_dataframe(pickle=True))\n",
    "spmf.to_csv(\"output_VMSP_20sec_sessions_0_01_removed_without_split_min_sup_0_05.csv\")"
   ]
  },
  {
   "cell_type": "code",
   "execution_count": 67,
   "metadata": {},
   "outputs": [],
   "source": [
    "output=pd.read_csv(\"output_VMSP_20sec_sessions_0_01_removed_without_split_min_sup_0_05.csv\",delimiter=';')\n",
    "output['pattern']=output.pattern.apply(lambda l: [app_dict[int(i)] for i in ast.literal_eval(l)])\n",
    "output=output.sort_values(['sup'],ascending=False)\n",
    "output['pattern_length']=output.pattern.apply(lambda l: len(l))\n",
    "output.to_csv(\"output_VMSP_20sec_sessions_0_01_removed_without_split_min_sup_0_05_translated.csv\",index=False)"
   ]
  },
  {
   "cell_type": "code",
   "execution_count": 68,
   "metadata": {},
   "outputs": [
    {
     "name": "stdout",
     "output_type": "stream",
     "text": [
      "Number of frequent patterns of length 1: 137\n",
      "Max lengths of frequent patterns: 7\n"
     ]
    }
   ],
   "source": [
    "print(\"Number of frequent patterns of length 1:\",len(output[output.pattern_length==1]))\n",
    "print(\"Max lengths of frequent patterns:\",output.pattern_length.max())"
   ]
  },
  {
   "cell_type": "code",
   "execution_count": 69,
   "metadata": {},
   "outputs": [
    {
     "name": "stdout",
     "output_type": "stream",
     "text": [
      ">/home/s164574/motifs_and_competition_in_app_usage/spmf.jar\n",
      "=============  VMSP v0.97 - STATISTICS =============\n",
      " Total time ~ 40112624 ms\n",
      " Frequent sequences count : 24599\n",
      " Max memory (mb) : 25871.5230484008824599\n",
      "minsup 5265\n",
      "Intersection count 297671 \n",
      "===================================================\n",
      "\n",
      "\n",
      "                                                                             pattern  \\\n",
      "0                                                                            [66887]   \n",
      "1                                                                            [66280]   \n",
      "2                                                                            [66279]   \n",
      "3                                                                            [66241]   \n",
      "4                                                                            [65630]   \n",
      "...                                                                              ...   \n",
      "24594             [23949, 7649, 23949, 7649, 23949, 23949, 7649, 23949, 7649, 23949]   \n",
      "24595              [23949, 7649, 23949, 7649, 23949, 7649, 23949, 7649, 23949, 7649]   \n",
      "24596              [7649, 23949, 7649, 23949, 7649, 23949, 7649, 23949, 7649, 23949]   \n",
      "24597  [53003, 19968, 53003, 19968, 53003, 19968, 53003, 19968, 53003, 19968, 53003]   \n",
      "24598  [19968, 53003, 19968, 53003, 19968, 53003, 19968, 53003, 19968, 53003, 19968]   \n",
      "\n",
      "         sup  \n",
      "0      19791  \n",
      "1      23957  \n",
      "2      28064  \n",
      "3      21046  \n",
      "4      19877  \n",
      "...      ...  \n",
      "24594   6008  \n",
      "24595   7022  \n",
      "24596   5538  \n",
      "24597   6284  \n",
      "24598   5467  \n",
      "\n",
      "[24599 rows x 2 columns]\n"
     ]
    }
   ],
   "source": [
    "spmf = Spmf(\"VMSP\", input_filename=\"/home/s164574/motifs_and_competition_in_app_usage/20sec_sessions_0_01_removed_without_split.txt\",\n",
    "            output_filename=\"/home/s164574/motifs_and_competition_in_app_usage/output_VMSP_20sec_sessions_0_01_removed_without_split_min_sup_0_01.txt\",\n",
    "            spmf_bin_location_dir=\"/home/s164574/motifs_and_competition_in_app_usage/\",\n",
    "            arguments=[0.0001])\n",
    "spmf.run()\n",
    "print(spmf.to_pandas_dataframe(pickle=True))\n",
    "spmf.to_csv(\"output_VMSP_20sec_sessions_0_01_removed_without_split_min_sup_0_01.csv\")"
   ]
  },
  {
   "cell_type": "code",
   "execution_count": 70,
   "metadata": {},
   "outputs": [],
   "source": [
    "output=pd.read_csv(\"output_VMSP_20sec_sessions_0_01_removed_without_split_min_sup_0_01.csv\",delimiter=';')\n",
    "output['pattern']=output.pattern.apply(lambda l: [app_dict[int(i)] for i in ast.literal_eval(l)])\n",
    "output=output.sort_values(['sup'],ascending=False)\n",
    "output['pattern_length']=output.pattern.apply(lambda l: len(l))\n",
    "output.to_csv(\"output_VMSP_20sec_sessions_0_01_removed_without_split_min_sup_0_01_translated.csv\",index=False)"
   ]
  },
  {
   "cell_type": "code",
   "execution_count": 71,
   "metadata": {},
   "outputs": [
    {
     "name": "stdout",
     "output_type": "stream",
     "text": [
      "Number of frequent patterns of length 1: 90\n",
      "Max lengths of frequent patterns: 11\n"
     ]
    }
   ],
   "source": [
    "print(\"Number of frequent patterns of length 1:\",len(output[output.pattern_length==1]))\n",
    "print(\"Max lengths of frequent patterns:\",output.pattern_length.max())"
   ]
  },
  {
   "cell_type": "markdown",
   "metadata": {},
   "source": [
    "## Creating tunning graphs"
   ]
  },
  {
   "cell_type": "code",
   "execution_count": 2,
   "metadata": {},
   "outputs": [],
   "source": [
    "tunning_results=pd.read_csv(\"Tunning_min_sup_results.csv\")"
   ]
  },
  {
   "cell_type": "code",
   "execution_count": 10,
   "metadata": {},
   "outputs": [],
   "source": [
    "tunning_results=tunning_results[1:]"
   ]
  },
  {
   "cell_type": "code",
   "execution_count": 11,
   "metadata": {},
   "outputs": [
    {
     "data": {
      "text/html": [
       "<div>\n",
       "<style scoped>\n",
       "    .dataframe tbody tr th:only-of-type {\n",
       "        vertical-align: middle;\n",
       "    }\n",
       "\n",
       "    .dataframe tbody tr th {\n",
       "        vertical-align: top;\n",
       "    }\n",
       "\n",
       "    .dataframe thead th {\n",
       "        text-align: right;\n",
       "    }\n",
       "</style>\n",
       "<table border=\"1\" class=\"dataframe\">\n",
       "  <thead>\n",
       "    <tr style=\"text-align: right;\">\n",
       "      <th></th>\n",
       "      <th>min. sup.(%)</th>\n",
       "      <th>num of frequent patterns founded</th>\n",
       "      <th>max length of founded pattern</th>\n",
       "      <th>num of length 1 founded pattern</th>\n",
       "      <th>number sessions corresponds to min. sup.</th>\n",
       "    </tr>\n",
       "  </thead>\n",
       "  <tbody>\n",
       "    <tr>\n",
       "      <th>1</th>\n",
       "      <td>0.01</td>\n",
       "      <td>19216.0</td>\n",
       "      <td>10.0</td>\n",
       "      <td>98.0</td>\n",
       "      <td>5283.8635</td>\n",
       "    </tr>\n",
       "    <tr>\n",
       "      <th>2</th>\n",
       "      <td>0.05</td>\n",
       "      <td>2320.0</td>\n",
       "      <td>7.0</td>\n",
       "      <td>137.0</td>\n",
       "      <td>26419.3175</td>\n",
       "    </tr>\n",
       "    <tr>\n",
       "      <th>3</th>\n",
       "      <td>0.10</td>\n",
       "      <td>1003.0</td>\n",
       "      <td>6.0</td>\n",
       "      <td>91.0</td>\n",
       "      <td>52838.6350</td>\n",
       "    </tr>\n",
       "    <tr>\n",
       "      <th>4</th>\n",
       "      <td>0.15</td>\n",
       "      <td>618.0</td>\n",
       "      <td>5.0</td>\n",
       "      <td>72.0</td>\n",
       "      <td>79257.9525</td>\n",
       "    </tr>\n",
       "    <tr>\n",
       "      <th>5</th>\n",
       "      <td>0.20</td>\n",
       "      <td>441.0</td>\n",
       "      <td>5.0</td>\n",
       "      <td>65.0</td>\n",
       "      <td>105677.2700</td>\n",
       "    </tr>\n",
       "    <tr>\n",
       "      <th>6</th>\n",
       "      <td>0.25</td>\n",
       "      <td>342.0</td>\n",
       "      <td>5.0</td>\n",
       "      <td>54.0</td>\n",
       "      <td>132096.5875</td>\n",
       "    </tr>\n",
       "    <tr>\n",
       "      <th>7</th>\n",
       "      <td>0.30</td>\n",
       "      <td>282.0</td>\n",
       "      <td>5.0</td>\n",
       "      <td>50.0</td>\n",
       "      <td>158515.9050</td>\n",
       "    </tr>\n",
       "    <tr>\n",
       "      <th>8</th>\n",
       "      <td>0.35</td>\n",
       "      <td>245.0</td>\n",
       "      <td>4.0</td>\n",
       "      <td>39.0</td>\n",
       "      <td>184935.2225</td>\n",
       "    </tr>\n",
       "    <tr>\n",
       "      <th>9</th>\n",
       "      <td>0.40</td>\n",
       "      <td>210.0</td>\n",
       "      <td>4.0</td>\n",
       "      <td>34.0</td>\n",
       "      <td>211354.5400</td>\n",
       "    </tr>\n",
       "    <tr>\n",
       "      <th>10</th>\n",
       "      <td>0.45</td>\n",
       "      <td>182.0</td>\n",
       "      <td>4.0</td>\n",
       "      <td>28.0</td>\n",
       "      <td>237773.8575</td>\n",
       "    </tr>\n",
       "    <tr>\n",
       "      <th>11</th>\n",
       "      <td>0.50</td>\n",
       "      <td>161.0</td>\n",
       "      <td>4.0</td>\n",
       "      <td>25.0</td>\n",
       "      <td>264193.1750</td>\n",
       "    </tr>\n",
       "    <tr>\n",
       "      <th>12</th>\n",
       "      <td>0.55</td>\n",
       "      <td>147.0</td>\n",
       "      <td>4.0</td>\n",
       "      <td>22.0</td>\n",
       "      <td>290612.4925</td>\n",
       "    </tr>\n",
       "    <tr>\n",
       "      <th>13</th>\n",
       "      <td>0.60</td>\n",
       "      <td>142.0</td>\n",
       "      <td>4.0</td>\n",
       "      <td>21.0</td>\n",
       "      <td>317031.8100</td>\n",
       "    </tr>\n",
       "    <tr>\n",
       "      <th>14</th>\n",
       "      <td>0.65</td>\n",
       "      <td>128.0</td>\n",
       "      <td>4.0</td>\n",
       "      <td>21.0</td>\n",
       "      <td>343451.1275</td>\n",
       "    </tr>\n",
       "    <tr>\n",
       "      <th>15</th>\n",
       "      <td>0.70</td>\n",
       "      <td>120.0</td>\n",
       "      <td>4.0</td>\n",
       "      <td>20.0</td>\n",
       "      <td>369870.4450</td>\n",
       "    </tr>\n",
       "    <tr>\n",
       "      <th>16</th>\n",
       "      <td>0.75</td>\n",
       "      <td>107.0</td>\n",
       "      <td>3.0</td>\n",
       "      <td>18.0</td>\n",
       "      <td>396289.7625</td>\n",
       "    </tr>\n",
       "    <tr>\n",
       "      <th>17</th>\n",
       "      <td>0.80</td>\n",
       "      <td>97.0</td>\n",
       "      <td>3.0</td>\n",
       "      <td>16.0</td>\n",
       "      <td>422709.0800</td>\n",
       "    </tr>\n",
       "    <tr>\n",
       "      <th>18</th>\n",
       "      <td>0.85</td>\n",
       "      <td>90.0</td>\n",
       "      <td>3.0</td>\n",
       "      <td>16.0</td>\n",
       "      <td>449128.3975</td>\n",
       "    </tr>\n",
       "    <tr>\n",
       "      <th>19</th>\n",
       "      <td>0.90</td>\n",
       "      <td>87.0</td>\n",
       "      <td>3.0</td>\n",
       "      <td>15.0</td>\n",
       "      <td>475547.7150</td>\n",
       "    </tr>\n",
       "    <tr>\n",
       "      <th>20</th>\n",
       "      <td>0.95</td>\n",
       "      <td>81.0</td>\n",
       "      <td>3.0</td>\n",
       "      <td>14.0</td>\n",
       "      <td>501967.0325</td>\n",
       "    </tr>\n",
       "    <tr>\n",
       "      <th>21</th>\n",
       "      <td>1.00</td>\n",
       "      <td>72.0</td>\n",
       "      <td>3.0</td>\n",
       "      <td>11.0</td>\n",
       "      <td>528386.3500</td>\n",
       "    </tr>\n",
       "  </tbody>\n",
       "</table>\n",
       "</div>"
      ],
      "text/plain": [
       "    min. sup.(%)  num of frequent patterns founded  \\\n",
       "1           0.01                           19216.0   \n",
       "2           0.05                            2320.0   \n",
       "3           0.10                            1003.0   \n",
       "4           0.15                             618.0   \n",
       "5           0.20                             441.0   \n",
       "6           0.25                             342.0   \n",
       "7           0.30                             282.0   \n",
       "8           0.35                             245.0   \n",
       "9           0.40                             210.0   \n",
       "10          0.45                             182.0   \n",
       "11          0.50                             161.0   \n",
       "12          0.55                             147.0   \n",
       "13          0.60                             142.0   \n",
       "14          0.65                             128.0   \n",
       "15          0.70                             120.0   \n",
       "16          0.75                             107.0   \n",
       "17          0.80                              97.0   \n",
       "18          0.85                              90.0   \n",
       "19          0.90                              87.0   \n",
       "20          0.95                              81.0   \n",
       "21          1.00                              72.0   \n",
       "\n",
       "    max length of founded pattern  num of length 1 founded pattern   \\\n",
       "1                            10.0                              98.0   \n",
       "2                             7.0                             137.0   \n",
       "3                             6.0                              91.0   \n",
       "4                             5.0                              72.0   \n",
       "5                             5.0                              65.0   \n",
       "6                             5.0                              54.0   \n",
       "7                             5.0                              50.0   \n",
       "8                             4.0                              39.0   \n",
       "9                             4.0                              34.0   \n",
       "10                            4.0                              28.0   \n",
       "11                            4.0                              25.0   \n",
       "12                            4.0                              22.0   \n",
       "13                            4.0                              21.0   \n",
       "14                            4.0                              21.0   \n",
       "15                            4.0                              20.0   \n",
       "16                            3.0                              18.0   \n",
       "17                            3.0                              16.0   \n",
       "18                            3.0                              16.0   \n",
       "19                            3.0                              15.0   \n",
       "20                            3.0                              14.0   \n",
       "21                            3.0                              11.0   \n",
       "\n",
       "    number sessions corresponds to min. sup.  \n",
       "1                                  5283.8635  \n",
       "2                                 26419.3175  \n",
       "3                                 52838.6350  \n",
       "4                                 79257.9525  \n",
       "5                                105677.2700  \n",
       "6                                132096.5875  \n",
       "7                                158515.9050  \n",
       "8                                184935.2225  \n",
       "9                                211354.5400  \n",
       "10                               237773.8575  \n",
       "11                               264193.1750  \n",
       "12                               290612.4925  \n",
       "13                               317031.8100  \n",
       "14                               343451.1275  \n",
       "15                               369870.4450  \n",
       "16                               396289.7625  \n",
       "17                               422709.0800  \n",
       "18                               449128.3975  \n",
       "19                               475547.7150  \n",
       "20                               501967.0325  \n",
       "21                               528386.3500  "
      ]
     },
     "execution_count": 11,
     "metadata": {},
     "output_type": "execute_result"
    }
   ],
   "source": [
    "tunning_results"
   ]
  },
  {
   "cell_type": "code",
   "execution_count": 14,
   "metadata": {},
   "outputs": [],
   "source": [
    "#fig1 =px.scatter(tunning_results,x='threshold(%)', y='num of infrequency apps',title = 'Number of infrequent apps')\n",
    "fig1 =px.scatter(tunning_results,x='min. sup.(%)', y='number sessions corresponds to min. sup.',width=625,height=400)\n",
    "fig2 =px.scatter(tunning_results,x='min. sup.(%)', y='num of frequent patterns founded',width=625,height=400)\n",
    "fig3 =px.scatter(tunning_results,x='min. sup.(%)', y='max length of founded pattern',width=625,height=400)\n",
    "fig4 = px.scatter(tunning_results,x='min. sup.(%)', y='num of length 1 founded pattern ',width=625,height=400)"
   ]
  },
  {
   "cell_type": "code",
   "execution_count": 18,
   "metadata": {},
   "outputs": [
    {
     "data": {
      "application/vnd.plotly.v1+json": {
       "config": {
        "plotlyServerURL": "https://plot.ly"
       },
       "data": [
        {
         "hovertemplate": "min. sup.(%)=%{x}<br>number sessions corresponds to min. sup.=%{y}<extra></extra>",
         "legendgroup": "",
         "marker": {
          "color": "#636efa",
          "symbol": "circle"
         },
         "mode": "markers",
         "name": "",
         "orientation": "v",
         "showlegend": false,
         "type": "scatter",
         "x": [
          0.01,
          0.05,
          0.1,
          0.15,
          0.2,
          0.25,
          0.3,
          0.35,
          0.4,
          0.45,
          0.5,
          0.55,
          0.6,
          0.65,
          0.7,
          0.75,
          0.8,
          0.85,
          0.9,
          0.95,
          1
         ],
         "xaxis": "x",
         "y": [
          5283.8635,
          26419.3175,
          52838.635,
          79257.9525,
          105677.27,
          132096.5875,
          158515.905,
          184935.2225,
          211354.54,
          237773.8575,
          264193.175,
          290612.4925,
          317031.81,
          343451.1275,
          369870.445,
          396289.7625,
          422709.08,
          449128.3975,
          475547.715,
          501967.0325,
          528386.35
         ],
         "yaxis": "y"
        }
       ],
       "layout": {
        "height": 400,
        "legend": {
         "tracegroupgap": 0
        },
        "margin": {
         "t": 60
        },
        "template": {
         "data": {
          "bar": [
           {
            "error_x": {
             "color": "#2a3f5f"
            },
            "error_y": {
             "color": "#2a3f5f"
            },
            "marker": {
             "line": {
              "color": "#E5ECF6",
              "width": 0.5
             },
             "pattern": {
              "fillmode": "overlay",
              "size": 10,
              "solidity": 0.2
             }
            },
            "type": "bar"
           }
          ],
          "barpolar": [
           {
            "marker": {
             "line": {
              "color": "#E5ECF6",
              "width": 0.5
             },
             "pattern": {
              "fillmode": "overlay",
              "size": 10,
              "solidity": 0.2
             }
            },
            "type": "barpolar"
           }
          ],
          "carpet": [
           {
            "aaxis": {
             "endlinecolor": "#2a3f5f",
             "gridcolor": "white",
             "linecolor": "white",
             "minorgridcolor": "white",
             "startlinecolor": "#2a3f5f"
            },
            "baxis": {
             "endlinecolor": "#2a3f5f",
             "gridcolor": "white",
             "linecolor": "white",
             "minorgridcolor": "white",
             "startlinecolor": "#2a3f5f"
            },
            "type": "carpet"
           }
          ],
          "choropleth": [
           {
            "colorbar": {
             "outlinewidth": 0,
             "ticks": ""
            },
            "type": "choropleth"
           }
          ],
          "contour": [
           {
            "colorbar": {
             "outlinewidth": 0,
             "ticks": ""
            },
            "colorscale": [
             [
              0,
              "#0d0887"
             ],
             [
              0.1111111111111111,
              "#46039f"
             ],
             [
              0.2222222222222222,
              "#7201a8"
             ],
             [
              0.3333333333333333,
              "#9c179e"
             ],
             [
              0.4444444444444444,
              "#bd3786"
             ],
             [
              0.5555555555555556,
              "#d8576b"
             ],
             [
              0.6666666666666666,
              "#ed7953"
             ],
             [
              0.7777777777777778,
              "#fb9f3a"
             ],
             [
              0.8888888888888888,
              "#fdca26"
             ],
             [
              1,
              "#f0f921"
             ]
            ],
            "type": "contour"
           }
          ],
          "contourcarpet": [
           {
            "colorbar": {
             "outlinewidth": 0,
             "ticks": ""
            },
            "type": "contourcarpet"
           }
          ],
          "heatmap": [
           {
            "colorbar": {
             "outlinewidth": 0,
             "ticks": ""
            },
            "colorscale": [
             [
              0,
              "#0d0887"
             ],
             [
              0.1111111111111111,
              "#46039f"
             ],
             [
              0.2222222222222222,
              "#7201a8"
             ],
             [
              0.3333333333333333,
              "#9c179e"
             ],
             [
              0.4444444444444444,
              "#bd3786"
             ],
             [
              0.5555555555555556,
              "#d8576b"
             ],
             [
              0.6666666666666666,
              "#ed7953"
             ],
             [
              0.7777777777777778,
              "#fb9f3a"
             ],
             [
              0.8888888888888888,
              "#fdca26"
             ],
             [
              1,
              "#f0f921"
             ]
            ],
            "type": "heatmap"
           }
          ],
          "heatmapgl": [
           {
            "colorbar": {
             "outlinewidth": 0,
             "ticks": ""
            },
            "colorscale": [
             [
              0,
              "#0d0887"
             ],
             [
              0.1111111111111111,
              "#46039f"
             ],
             [
              0.2222222222222222,
              "#7201a8"
             ],
             [
              0.3333333333333333,
              "#9c179e"
             ],
             [
              0.4444444444444444,
              "#bd3786"
             ],
             [
              0.5555555555555556,
              "#d8576b"
             ],
             [
              0.6666666666666666,
              "#ed7953"
             ],
             [
              0.7777777777777778,
              "#fb9f3a"
             ],
             [
              0.8888888888888888,
              "#fdca26"
             ],
             [
              1,
              "#f0f921"
             ]
            ],
            "type": "heatmapgl"
           }
          ],
          "histogram": [
           {
            "marker": {
             "pattern": {
              "fillmode": "overlay",
              "size": 10,
              "solidity": 0.2
             }
            },
            "type": "histogram"
           }
          ],
          "histogram2d": [
           {
            "colorbar": {
             "outlinewidth": 0,
             "ticks": ""
            },
            "colorscale": [
             [
              0,
              "#0d0887"
             ],
             [
              0.1111111111111111,
              "#46039f"
             ],
             [
              0.2222222222222222,
              "#7201a8"
             ],
             [
              0.3333333333333333,
              "#9c179e"
             ],
             [
              0.4444444444444444,
              "#bd3786"
             ],
             [
              0.5555555555555556,
              "#d8576b"
             ],
             [
              0.6666666666666666,
              "#ed7953"
             ],
             [
              0.7777777777777778,
              "#fb9f3a"
             ],
             [
              0.8888888888888888,
              "#fdca26"
             ],
             [
              1,
              "#f0f921"
             ]
            ],
            "type": "histogram2d"
           }
          ],
          "histogram2dcontour": [
           {
            "colorbar": {
             "outlinewidth": 0,
             "ticks": ""
            },
            "colorscale": [
             [
              0,
              "#0d0887"
             ],
             [
              0.1111111111111111,
              "#46039f"
             ],
             [
              0.2222222222222222,
              "#7201a8"
             ],
             [
              0.3333333333333333,
              "#9c179e"
             ],
             [
              0.4444444444444444,
              "#bd3786"
             ],
             [
              0.5555555555555556,
              "#d8576b"
             ],
             [
              0.6666666666666666,
              "#ed7953"
             ],
             [
              0.7777777777777778,
              "#fb9f3a"
             ],
             [
              0.8888888888888888,
              "#fdca26"
             ],
             [
              1,
              "#f0f921"
             ]
            ],
            "type": "histogram2dcontour"
           }
          ],
          "mesh3d": [
           {
            "colorbar": {
             "outlinewidth": 0,
             "ticks": ""
            },
            "type": "mesh3d"
           }
          ],
          "parcoords": [
           {
            "line": {
             "colorbar": {
              "outlinewidth": 0,
              "ticks": ""
             }
            },
            "type": "parcoords"
           }
          ],
          "pie": [
           {
            "automargin": true,
            "type": "pie"
           }
          ],
          "scatter": [
           {
            "marker": {
             "colorbar": {
              "outlinewidth": 0,
              "ticks": ""
             }
            },
            "type": "scatter"
           }
          ],
          "scatter3d": [
           {
            "line": {
             "colorbar": {
              "outlinewidth": 0,
              "ticks": ""
             }
            },
            "marker": {
             "colorbar": {
              "outlinewidth": 0,
              "ticks": ""
             }
            },
            "type": "scatter3d"
           }
          ],
          "scattercarpet": [
           {
            "marker": {
             "colorbar": {
              "outlinewidth": 0,
              "ticks": ""
             }
            },
            "type": "scattercarpet"
           }
          ],
          "scattergeo": [
           {
            "marker": {
             "colorbar": {
              "outlinewidth": 0,
              "ticks": ""
             }
            },
            "type": "scattergeo"
           }
          ],
          "scattergl": [
           {
            "marker": {
             "colorbar": {
              "outlinewidth": 0,
              "ticks": ""
             }
            },
            "type": "scattergl"
           }
          ],
          "scattermapbox": [
           {
            "marker": {
             "colorbar": {
              "outlinewidth": 0,
              "ticks": ""
             }
            },
            "type": "scattermapbox"
           }
          ],
          "scatterpolar": [
           {
            "marker": {
             "colorbar": {
              "outlinewidth": 0,
              "ticks": ""
             }
            },
            "type": "scatterpolar"
           }
          ],
          "scatterpolargl": [
           {
            "marker": {
             "colorbar": {
              "outlinewidth": 0,
              "ticks": ""
             }
            },
            "type": "scatterpolargl"
           }
          ],
          "scatterternary": [
           {
            "marker": {
             "colorbar": {
              "outlinewidth": 0,
              "ticks": ""
             }
            },
            "type": "scatterternary"
           }
          ],
          "surface": [
           {
            "colorbar": {
             "outlinewidth": 0,
             "ticks": ""
            },
            "colorscale": [
             [
              0,
              "#0d0887"
             ],
             [
              0.1111111111111111,
              "#46039f"
             ],
             [
              0.2222222222222222,
              "#7201a8"
             ],
             [
              0.3333333333333333,
              "#9c179e"
             ],
             [
              0.4444444444444444,
              "#bd3786"
             ],
             [
              0.5555555555555556,
              "#d8576b"
             ],
             [
              0.6666666666666666,
              "#ed7953"
             ],
             [
              0.7777777777777778,
              "#fb9f3a"
             ],
             [
              0.8888888888888888,
              "#fdca26"
             ],
             [
              1,
              "#f0f921"
             ]
            ],
            "type": "surface"
           }
          ],
          "table": [
           {
            "cells": {
             "fill": {
              "color": "#EBF0F8"
             },
             "line": {
              "color": "white"
             }
            },
            "header": {
             "fill": {
              "color": "#C8D4E3"
             },
             "line": {
              "color": "white"
             }
            },
            "type": "table"
           }
          ]
         },
         "layout": {
          "annotationdefaults": {
           "arrowcolor": "#2a3f5f",
           "arrowhead": 0,
           "arrowwidth": 1
          },
          "autotypenumbers": "strict",
          "coloraxis": {
           "colorbar": {
            "outlinewidth": 0,
            "ticks": ""
           }
          },
          "colorscale": {
           "diverging": [
            [
             0,
             "#8e0152"
            ],
            [
             0.1,
             "#c51b7d"
            ],
            [
             0.2,
             "#de77ae"
            ],
            [
             0.3,
             "#f1b6da"
            ],
            [
             0.4,
             "#fde0ef"
            ],
            [
             0.5,
             "#f7f7f7"
            ],
            [
             0.6,
             "#e6f5d0"
            ],
            [
             0.7,
             "#b8e186"
            ],
            [
             0.8,
             "#7fbc41"
            ],
            [
             0.9,
             "#4d9221"
            ],
            [
             1,
             "#276419"
            ]
           ],
           "sequential": [
            [
             0,
             "#0d0887"
            ],
            [
             0.1111111111111111,
             "#46039f"
            ],
            [
             0.2222222222222222,
             "#7201a8"
            ],
            [
             0.3333333333333333,
             "#9c179e"
            ],
            [
             0.4444444444444444,
             "#bd3786"
            ],
            [
             0.5555555555555556,
             "#d8576b"
            ],
            [
             0.6666666666666666,
             "#ed7953"
            ],
            [
             0.7777777777777778,
             "#fb9f3a"
            ],
            [
             0.8888888888888888,
             "#fdca26"
            ],
            [
             1,
             "#f0f921"
            ]
           ],
           "sequentialminus": [
            [
             0,
             "#0d0887"
            ],
            [
             0.1111111111111111,
             "#46039f"
            ],
            [
             0.2222222222222222,
             "#7201a8"
            ],
            [
             0.3333333333333333,
             "#9c179e"
            ],
            [
             0.4444444444444444,
             "#bd3786"
            ],
            [
             0.5555555555555556,
             "#d8576b"
            ],
            [
             0.6666666666666666,
             "#ed7953"
            ],
            [
             0.7777777777777778,
             "#fb9f3a"
            ],
            [
             0.8888888888888888,
             "#fdca26"
            ],
            [
             1,
             "#f0f921"
            ]
           ]
          },
          "colorway": [
           "#636efa",
           "#EF553B",
           "#00cc96",
           "#ab63fa",
           "#FFA15A",
           "#19d3f3",
           "#FF6692",
           "#B6E880",
           "#FF97FF",
           "#FECB52"
          ],
          "font": {
           "color": "#2a3f5f"
          },
          "geo": {
           "bgcolor": "white",
           "lakecolor": "white",
           "landcolor": "#E5ECF6",
           "showlakes": true,
           "showland": true,
           "subunitcolor": "white"
          },
          "hoverlabel": {
           "align": "left"
          },
          "hovermode": "closest",
          "mapbox": {
           "style": "light"
          },
          "paper_bgcolor": "white",
          "plot_bgcolor": "#E5ECF6",
          "polar": {
           "angularaxis": {
            "gridcolor": "white",
            "linecolor": "white",
            "ticks": ""
           },
           "bgcolor": "#E5ECF6",
           "radialaxis": {
            "gridcolor": "white",
            "linecolor": "white",
            "ticks": ""
           }
          },
          "scene": {
           "xaxis": {
            "backgroundcolor": "#E5ECF6",
            "gridcolor": "white",
            "gridwidth": 2,
            "linecolor": "white",
            "showbackground": true,
            "ticks": "",
            "zerolinecolor": "white"
           },
           "yaxis": {
            "backgroundcolor": "#E5ECF6",
            "gridcolor": "white",
            "gridwidth": 2,
            "linecolor": "white",
            "showbackground": true,
            "ticks": "",
            "zerolinecolor": "white"
           },
           "zaxis": {
            "backgroundcolor": "#E5ECF6",
            "gridcolor": "white",
            "gridwidth": 2,
            "linecolor": "white",
            "showbackground": true,
            "ticks": "",
            "zerolinecolor": "white"
           }
          },
          "shapedefaults": {
           "line": {
            "color": "#2a3f5f"
           }
          },
          "ternary": {
           "aaxis": {
            "gridcolor": "white",
            "linecolor": "white",
            "ticks": ""
           },
           "baxis": {
            "gridcolor": "white",
            "linecolor": "white",
            "ticks": ""
           },
           "bgcolor": "#E5ECF6",
           "caxis": {
            "gridcolor": "white",
            "linecolor": "white",
            "ticks": ""
           }
          },
          "title": {
           "x": 0.05
          },
          "xaxis": {
           "automargin": true,
           "gridcolor": "white",
           "linecolor": "white",
           "ticks": "",
           "title": {
            "standoff": 15
           },
           "zerolinecolor": "white",
           "zerolinewidth": 2
          },
          "yaxis": {
           "automargin": true,
           "gridcolor": "white",
           "linecolor": "white",
           "ticks": "",
           "title": {
            "standoff": 15
           },
           "zerolinecolor": "white",
           "zerolinewidth": 2
          }
         }
        },
        "width": 625,
        "xaxis": {
         "anchor": "y",
         "domain": [
          0,
          1
         ],
         "title": {
          "text": "min. sup.(%)"
         }
        },
        "yaxis": {
         "anchor": "x",
         "domain": [
          0,
          1
         ],
         "title": {
          "text": "number sessions corresponds to min. sup."
         }
        }
       }
      },
      "text/html": [
       "<div>                            <div id=\"8e11683a-8987-4444-b488-9d576411d5db\" class=\"plotly-graph-div\" style=\"height:400px; width:625px;\"></div>            <script type=\"text/javascript\">                require([\"plotly\"], function(Plotly) {                    window.PLOTLYENV=window.PLOTLYENV || {};                                    if (document.getElementById(\"8e11683a-8987-4444-b488-9d576411d5db\")) {                    Plotly.newPlot(                        \"8e11683a-8987-4444-b488-9d576411d5db\",                        [{\"hovertemplate\":\"min. sup.(%)=%{x}<br>number sessions corresponds to min. sup.=%{y}<extra></extra>\",\"legendgroup\":\"\",\"marker\":{\"color\":\"#636efa\",\"symbol\":\"circle\"},\"mode\":\"markers\",\"name\":\"\",\"orientation\":\"v\",\"showlegend\":false,\"type\":\"scatter\",\"x\":[0.01,0.05,0.1,0.15,0.2,0.25,0.3,0.35,0.4,0.45,0.5,0.55,0.6,0.65,0.7,0.75,0.8,0.85,0.9,0.95,1.0],\"xaxis\":\"x\",\"y\":[5283.8635,26419.3175,52838.635,79257.9525,105677.27,132096.5875,158515.905,184935.2225,211354.54,237773.8575,264193.175,290612.4925,317031.81,343451.1275,369870.445,396289.7625,422709.08,449128.3975,475547.715,501967.0325,528386.35],\"yaxis\":\"y\"}],                        {\"height\":400,\"legend\":{\"tracegroupgap\":0},\"margin\":{\"t\":60},\"template\":{\"data\":{\"bar\":[{\"error_x\":{\"color\":\"#2a3f5f\"},\"error_y\":{\"color\":\"#2a3f5f\"},\"marker\":{\"line\":{\"color\":\"#E5ECF6\",\"width\":0.5},\"pattern\":{\"fillmode\":\"overlay\",\"size\":10,\"solidity\":0.2}},\"type\":\"bar\"}],\"barpolar\":[{\"marker\":{\"line\":{\"color\":\"#E5ECF6\",\"width\":0.5},\"pattern\":{\"fillmode\":\"overlay\",\"size\":10,\"solidity\":0.2}},\"type\":\"barpolar\"}],\"carpet\":[{\"aaxis\":{\"endlinecolor\":\"#2a3f5f\",\"gridcolor\":\"white\",\"linecolor\":\"white\",\"minorgridcolor\":\"white\",\"startlinecolor\":\"#2a3f5f\"},\"baxis\":{\"endlinecolor\":\"#2a3f5f\",\"gridcolor\":\"white\",\"linecolor\":\"white\",\"minorgridcolor\":\"white\",\"startlinecolor\":\"#2a3f5f\"},\"type\":\"carpet\"}],\"choropleth\":[{\"colorbar\":{\"outlinewidth\":0,\"ticks\":\"\"},\"type\":\"choropleth\"}],\"contour\":[{\"colorbar\":{\"outlinewidth\":0,\"ticks\":\"\"},\"colorscale\":[[0.0,\"#0d0887\"],[0.1111111111111111,\"#46039f\"],[0.2222222222222222,\"#7201a8\"],[0.3333333333333333,\"#9c179e\"],[0.4444444444444444,\"#bd3786\"],[0.5555555555555556,\"#d8576b\"],[0.6666666666666666,\"#ed7953\"],[0.7777777777777778,\"#fb9f3a\"],[0.8888888888888888,\"#fdca26\"],[1.0,\"#f0f921\"]],\"type\":\"contour\"}],\"contourcarpet\":[{\"colorbar\":{\"outlinewidth\":0,\"ticks\":\"\"},\"type\":\"contourcarpet\"}],\"heatmap\":[{\"colorbar\":{\"outlinewidth\":0,\"ticks\":\"\"},\"colorscale\":[[0.0,\"#0d0887\"],[0.1111111111111111,\"#46039f\"],[0.2222222222222222,\"#7201a8\"],[0.3333333333333333,\"#9c179e\"],[0.4444444444444444,\"#bd3786\"],[0.5555555555555556,\"#d8576b\"],[0.6666666666666666,\"#ed7953\"],[0.7777777777777778,\"#fb9f3a\"],[0.8888888888888888,\"#fdca26\"],[1.0,\"#f0f921\"]],\"type\":\"heatmap\"}],\"heatmapgl\":[{\"colorbar\":{\"outlinewidth\":0,\"ticks\":\"\"},\"colorscale\":[[0.0,\"#0d0887\"],[0.1111111111111111,\"#46039f\"],[0.2222222222222222,\"#7201a8\"],[0.3333333333333333,\"#9c179e\"],[0.4444444444444444,\"#bd3786\"],[0.5555555555555556,\"#d8576b\"],[0.6666666666666666,\"#ed7953\"],[0.7777777777777778,\"#fb9f3a\"],[0.8888888888888888,\"#fdca26\"],[1.0,\"#f0f921\"]],\"type\":\"heatmapgl\"}],\"histogram\":[{\"marker\":{\"pattern\":{\"fillmode\":\"overlay\",\"size\":10,\"solidity\":0.2}},\"type\":\"histogram\"}],\"histogram2d\":[{\"colorbar\":{\"outlinewidth\":0,\"ticks\":\"\"},\"colorscale\":[[0.0,\"#0d0887\"],[0.1111111111111111,\"#46039f\"],[0.2222222222222222,\"#7201a8\"],[0.3333333333333333,\"#9c179e\"],[0.4444444444444444,\"#bd3786\"],[0.5555555555555556,\"#d8576b\"],[0.6666666666666666,\"#ed7953\"],[0.7777777777777778,\"#fb9f3a\"],[0.8888888888888888,\"#fdca26\"],[1.0,\"#f0f921\"]],\"type\":\"histogram2d\"}],\"histogram2dcontour\":[{\"colorbar\":{\"outlinewidth\":0,\"ticks\":\"\"},\"colorscale\":[[0.0,\"#0d0887\"],[0.1111111111111111,\"#46039f\"],[0.2222222222222222,\"#7201a8\"],[0.3333333333333333,\"#9c179e\"],[0.4444444444444444,\"#bd3786\"],[0.5555555555555556,\"#d8576b\"],[0.6666666666666666,\"#ed7953\"],[0.7777777777777778,\"#fb9f3a\"],[0.8888888888888888,\"#fdca26\"],[1.0,\"#f0f921\"]],\"type\":\"histogram2dcontour\"}],\"mesh3d\":[{\"colorbar\":{\"outlinewidth\":0,\"ticks\":\"\"},\"type\":\"mesh3d\"}],\"parcoords\":[{\"line\":{\"colorbar\":{\"outlinewidth\":0,\"ticks\":\"\"}},\"type\":\"parcoords\"}],\"pie\":[{\"automargin\":true,\"type\":\"pie\"}],\"scatter\":[{\"marker\":{\"colorbar\":{\"outlinewidth\":0,\"ticks\":\"\"}},\"type\":\"scatter\"}],\"scatter3d\":[{\"line\":{\"colorbar\":{\"outlinewidth\":0,\"ticks\":\"\"}},\"marker\":{\"colorbar\":{\"outlinewidth\":0,\"ticks\":\"\"}},\"type\":\"scatter3d\"}],\"scattercarpet\":[{\"marker\":{\"colorbar\":{\"outlinewidth\":0,\"ticks\":\"\"}},\"type\":\"scattercarpet\"}],\"scattergeo\":[{\"marker\":{\"colorbar\":{\"outlinewidth\":0,\"ticks\":\"\"}},\"type\":\"scattergeo\"}],\"scattergl\":[{\"marker\":{\"colorbar\":{\"outlinewidth\":0,\"ticks\":\"\"}},\"type\":\"scattergl\"}],\"scattermapbox\":[{\"marker\":{\"colorbar\":{\"outlinewidth\":0,\"ticks\":\"\"}},\"type\":\"scattermapbox\"}],\"scatterpolar\":[{\"marker\":{\"colorbar\":{\"outlinewidth\":0,\"ticks\":\"\"}},\"type\":\"scatterpolar\"}],\"scatterpolargl\":[{\"marker\":{\"colorbar\":{\"outlinewidth\":0,\"ticks\":\"\"}},\"type\":\"scatterpolargl\"}],\"scatterternary\":[{\"marker\":{\"colorbar\":{\"outlinewidth\":0,\"ticks\":\"\"}},\"type\":\"scatterternary\"}],\"surface\":[{\"colorbar\":{\"outlinewidth\":0,\"ticks\":\"\"},\"colorscale\":[[0.0,\"#0d0887\"],[0.1111111111111111,\"#46039f\"],[0.2222222222222222,\"#7201a8\"],[0.3333333333333333,\"#9c179e\"],[0.4444444444444444,\"#bd3786\"],[0.5555555555555556,\"#d8576b\"],[0.6666666666666666,\"#ed7953\"],[0.7777777777777778,\"#fb9f3a\"],[0.8888888888888888,\"#fdca26\"],[1.0,\"#f0f921\"]],\"type\":\"surface\"}],\"table\":[{\"cells\":{\"fill\":{\"color\":\"#EBF0F8\"},\"line\":{\"color\":\"white\"}},\"header\":{\"fill\":{\"color\":\"#C8D4E3\"},\"line\":{\"color\":\"white\"}},\"type\":\"table\"}]},\"layout\":{\"annotationdefaults\":{\"arrowcolor\":\"#2a3f5f\",\"arrowhead\":0,\"arrowwidth\":1},\"autotypenumbers\":\"strict\",\"coloraxis\":{\"colorbar\":{\"outlinewidth\":0,\"ticks\":\"\"}},\"colorscale\":{\"diverging\":[[0,\"#8e0152\"],[0.1,\"#c51b7d\"],[0.2,\"#de77ae\"],[0.3,\"#f1b6da\"],[0.4,\"#fde0ef\"],[0.5,\"#f7f7f7\"],[0.6,\"#e6f5d0\"],[0.7,\"#b8e186\"],[0.8,\"#7fbc41\"],[0.9,\"#4d9221\"],[1,\"#276419\"]],\"sequential\":[[0.0,\"#0d0887\"],[0.1111111111111111,\"#46039f\"],[0.2222222222222222,\"#7201a8\"],[0.3333333333333333,\"#9c179e\"],[0.4444444444444444,\"#bd3786\"],[0.5555555555555556,\"#d8576b\"],[0.6666666666666666,\"#ed7953\"],[0.7777777777777778,\"#fb9f3a\"],[0.8888888888888888,\"#fdca26\"],[1.0,\"#f0f921\"]],\"sequentialminus\":[[0.0,\"#0d0887\"],[0.1111111111111111,\"#46039f\"],[0.2222222222222222,\"#7201a8\"],[0.3333333333333333,\"#9c179e\"],[0.4444444444444444,\"#bd3786\"],[0.5555555555555556,\"#d8576b\"],[0.6666666666666666,\"#ed7953\"],[0.7777777777777778,\"#fb9f3a\"],[0.8888888888888888,\"#fdca26\"],[1.0,\"#f0f921\"]]},\"colorway\":[\"#636efa\",\"#EF553B\",\"#00cc96\",\"#ab63fa\",\"#FFA15A\",\"#19d3f3\",\"#FF6692\",\"#B6E880\",\"#FF97FF\",\"#FECB52\"],\"font\":{\"color\":\"#2a3f5f\"},\"geo\":{\"bgcolor\":\"white\",\"lakecolor\":\"white\",\"landcolor\":\"#E5ECF6\",\"showlakes\":true,\"showland\":true,\"subunitcolor\":\"white\"},\"hoverlabel\":{\"align\":\"left\"},\"hovermode\":\"closest\",\"mapbox\":{\"style\":\"light\"},\"paper_bgcolor\":\"white\",\"plot_bgcolor\":\"#E5ECF6\",\"polar\":{\"angularaxis\":{\"gridcolor\":\"white\",\"linecolor\":\"white\",\"ticks\":\"\"},\"bgcolor\":\"#E5ECF6\",\"radialaxis\":{\"gridcolor\":\"white\",\"linecolor\":\"white\",\"ticks\":\"\"}},\"scene\":{\"xaxis\":{\"backgroundcolor\":\"#E5ECF6\",\"gridcolor\":\"white\",\"gridwidth\":2,\"linecolor\":\"white\",\"showbackground\":true,\"ticks\":\"\",\"zerolinecolor\":\"white\"},\"yaxis\":{\"backgroundcolor\":\"#E5ECF6\",\"gridcolor\":\"white\",\"gridwidth\":2,\"linecolor\":\"white\",\"showbackground\":true,\"ticks\":\"\",\"zerolinecolor\":\"white\"},\"zaxis\":{\"backgroundcolor\":\"#E5ECF6\",\"gridcolor\":\"white\",\"gridwidth\":2,\"linecolor\":\"white\",\"showbackground\":true,\"ticks\":\"\",\"zerolinecolor\":\"white\"}},\"shapedefaults\":{\"line\":{\"color\":\"#2a3f5f\"}},\"ternary\":{\"aaxis\":{\"gridcolor\":\"white\",\"linecolor\":\"white\",\"ticks\":\"\"},\"baxis\":{\"gridcolor\":\"white\",\"linecolor\":\"white\",\"ticks\":\"\"},\"bgcolor\":\"#E5ECF6\",\"caxis\":{\"gridcolor\":\"white\",\"linecolor\":\"white\",\"ticks\":\"\"}},\"title\":{\"x\":0.05},\"xaxis\":{\"automargin\":true,\"gridcolor\":\"white\",\"linecolor\":\"white\",\"ticks\":\"\",\"title\":{\"standoff\":15},\"zerolinecolor\":\"white\",\"zerolinewidth\":2},\"yaxis\":{\"automargin\":true,\"gridcolor\":\"white\",\"linecolor\":\"white\",\"ticks\":\"\",\"title\":{\"standoff\":15},\"zerolinecolor\":\"white\",\"zerolinewidth\":2}}},\"width\":625,\"xaxis\":{\"anchor\":\"y\",\"domain\":[0.0,1.0],\"title\":{\"text\":\"min. sup.(%)\"}},\"yaxis\":{\"anchor\":\"x\",\"domain\":[0.0,1.0],\"title\":{\"text\":\"number sessions corresponds to min. sup.\"}}},                        {\"responsive\": true}                    ).then(function(){\n",
       "                            \n",
       "var gd = document.getElementById('8e11683a-8987-4444-b488-9d576411d5db');\n",
       "var x = new MutationObserver(function (mutations, observer) {{\n",
       "        var display = window.getComputedStyle(gd).display;\n",
       "        if (!display || display === 'none') {{\n",
       "            console.log([gd, 'removed!']);\n",
       "            Plotly.purge(gd);\n",
       "            observer.disconnect();\n",
       "        }}\n",
       "}});\n",
       "\n",
       "// Listen for the removal of the full notebook cells\n",
       "var notebookContainer = gd.closest('#notebook-container');\n",
       "if (notebookContainer) {{\n",
       "    x.observe(notebookContainer, {childList: true});\n",
       "}}\n",
       "\n",
       "// Listen for the clearing of the current output cell\n",
       "var outputEl = gd.closest('.output');\n",
       "if (outputEl) {{\n",
       "    x.observe(outputEl, {childList: true});\n",
       "}}\n",
       "\n",
       "                        })                };                });            </script>        </div>"
      ]
     },
     "metadata": {},
     "output_type": "display_data"
    }
   ],
   "source": [
    "fig1"
   ]
  },
  {
   "cell_type": "code",
   "execution_count": 15,
   "metadata": {},
   "outputs": [
    {
     "data": {
      "application/vnd.plotly.v1+json": {
       "config": {
        "plotlyServerURL": "https://plot.ly"
       },
       "data": [
        {
         "hovertemplate": "min. sup.(%)=%{x}<br>num of frequent patterns founded=%{y}<extra></extra>",
         "legendgroup": "",
         "marker": {
          "color": "#636efa",
          "symbol": "circle"
         },
         "mode": "markers",
         "name": "",
         "orientation": "v",
         "showlegend": false,
         "type": "scatter",
         "x": [
          0.01,
          0.05,
          0.1,
          0.15,
          0.2,
          0.25,
          0.3,
          0.35,
          0.4,
          0.45,
          0.5,
          0.55,
          0.6,
          0.65,
          0.7,
          0.75,
          0.8,
          0.85,
          0.9,
          0.95,
          1
         ],
         "xaxis": "x",
         "y": [
          19216,
          2320,
          1003,
          618,
          441,
          342,
          282,
          245,
          210,
          182,
          161,
          147,
          142,
          128,
          120,
          107,
          97,
          90,
          87,
          81,
          72
         ],
         "yaxis": "y"
        }
       ],
       "layout": {
        "height": 400,
        "legend": {
         "tracegroupgap": 0
        },
        "margin": {
         "t": 60
        },
        "template": {
         "data": {
          "bar": [
           {
            "error_x": {
             "color": "#2a3f5f"
            },
            "error_y": {
             "color": "#2a3f5f"
            },
            "marker": {
             "line": {
              "color": "#E5ECF6",
              "width": 0.5
             },
             "pattern": {
              "fillmode": "overlay",
              "size": 10,
              "solidity": 0.2
             }
            },
            "type": "bar"
           }
          ],
          "barpolar": [
           {
            "marker": {
             "line": {
              "color": "#E5ECF6",
              "width": 0.5
             },
             "pattern": {
              "fillmode": "overlay",
              "size": 10,
              "solidity": 0.2
             }
            },
            "type": "barpolar"
           }
          ],
          "carpet": [
           {
            "aaxis": {
             "endlinecolor": "#2a3f5f",
             "gridcolor": "white",
             "linecolor": "white",
             "minorgridcolor": "white",
             "startlinecolor": "#2a3f5f"
            },
            "baxis": {
             "endlinecolor": "#2a3f5f",
             "gridcolor": "white",
             "linecolor": "white",
             "minorgridcolor": "white",
             "startlinecolor": "#2a3f5f"
            },
            "type": "carpet"
           }
          ],
          "choropleth": [
           {
            "colorbar": {
             "outlinewidth": 0,
             "ticks": ""
            },
            "type": "choropleth"
           }
          ],
          "contour": [
           {
            "colorbar": {
             "outlinewidth": 0,
             "ticks": ""
            },
            "colorscale": [
             [
              0,
              "#0d0887"
             ],
             [
              0.1111111111111111,
              "#46039f"
             ],
             [
              0.2222222222222222,
              "#7201a8"
             ],
             [
              0.3333333333333333,
              "#9c179e"
             ],
             [
              0.4444444444444444,
              "#bd3786"
             ],
             [
              0.5555555555555556,
              "#d8576b"
             ],
             [
              0.6666666666666666,
              "#ed7953"
             ],
             [
              0.7777777777777778,
              "#fb9f3a"
             ],
             [
              0.8888888888888888,
              "#fdca26"
             ],
             [
              1,
              "#f0f921"
             ]
            ],
            "type": "contour"
           }
          ],
          "contourcarpet": [
           {
            "colorbar": {
             "outlinewidth": 0,
             "ticks": ""
            },
            "type": "contourcarpet"
           }
          ],
          "heatmap": [
           {
            "colorbar": {
             "outlinewidth": 0,
             "ticks": ""
            },
            "colorscale": [
             [
              0,
              "#0d0887"
             ],
             [
              0.1111111111111111,
              "#46039f"
             ],
             [
              0.2222222222222222,
              "#7201a8"
             ],
             [
              0.3333333333333333,
              "#9c179e"
             ],
             [
              0.4444444444444444,
              "#bd3786"
             ],
             [
              0.5555555555555556,
              "#d8576b"
             ],
             [
              0.6666666666666666,
              "#ed7953"
             ],
             [
              0.7777777777777778,
              "#fb9f3a"
             ],
             [
              0.8888888888888888,
              "#fdca26"
             ],
             [
              1,
              "#f0f921"
             ]
            ],
            "type": "heatmap"
           }
          ],
          "heatmapgl": [
           {
            "colorbar": {
             "outlinewidth": 0,
             "ticks": ""
            },
            "colorscale": [
             [
              0,
              "#0d0887"
             ],
             [
              0.1111111111111111,
              "#46039f"
             ],
             [
              0.2222222222222222,
              "#7201a8"
             ],
             [
              0.3333333333333333,
              "#9c179e"
             ],
             [
              0.4444444444444444,
              "#bd3786"
             ],
             [
              0.5555555555555556,
              "#d8576b"
             ],
             [
              0.6666666666666666,
              "#ed7953"
             ],
             [
              0.7777777777777778,
              "#fb9f3a"
             ],
             [
              0.8888888888888888,
              "#fdca26"
             ],
             [
              1,
              "#f0f921"
             ]
            ],
            "type": "heatmapgl"
           }
          ],
          "histogram": [
           {
            "marker": {
             "pattern": {
              "fillmode": "overlay",
              "size": 10,
              "solidity": 0.2
             }
            },
            "type": "histogram"
           }
          ],
          "histogram2d": [
           {
            "colorbar": {
             "outlinewidth": 0,
             "ticks": ""
            },
            "colorscale": [
             [
              0,
              "#0d0887"
             ],
             [
              0.1111111111111111,
              "#46039f"
             ],
             [
              0.2222222222222222,
              "#7201a8"
             ],
             [
              0.3333333333333333,
              "#9c179e"
             ],
             [
              0.4444444444444444,
              "#bd3786"
             ],
             [
              0.5555555555555556,
              "#d8576b"
             ],
             [
              0.6666666666666666,
              "#ed7953"
             ],
             [
              0.7777777777777778,
              "#fb9f3a"
             ],
             [
              0.8888888888888888,
              "#fdca26"
             ],
             [
              1,
              "#f0f921"
             ]
            ],
            "type": "histogram2d"
           }
          ],
          "histogram2dcontour": [
           {
            "colorbar": {
             "outlinewidth": 0,
             "ticks": ""
            },
            "colorscale": [
             [
              0,
              "#0d0887"
             ],
             [
              0.1111111111111111,
              "#46039f"
             ],
             [
              0.2222222222222222,
              "#7201a8"
             ],
             [
              0.3333333333333333,
              "#9c179e"
             ],
             [
              0.4444444444444444,
              "#bd3786"
             ],
             [
              0.5555555555555556,
              "#d8576b"
             ],
             [
              0.6666666666666666,
              "#ed7953"
             ],
             [
              0.7777777777777778,
              "#fb9f3a"
             ],
             [
              0.8888888888888888,
              "#fdca26"
             ],
             [
              1,
              "#f0f921"
             ]
            ],
            "type": "histogram2dcontour"
           }
          ],
          "mesh3d": [
           {
            "colorbar": {
             "outlinewidth": 0,
             "ticks": ""
            },
            "type": "mesh3d"
           }
          ],
          "parcoords": [
           {
            "line": {
             "colorbar": {
              "outlinewidth": 0,
              "ticks": ""
             }
            },
            "type": "parcoords"
           }
          ],
          "pie": [
           {
            "automargin": true,
            "type": "pie"
           }
          ],
          "scatter": [
           {
            "marker": {
             "colorbar": {
              "outlinewidth": 0,
              "ticks": ""
             }
            },
            "type": "scatter"
           }
          ],
          "scatter3d": [
           {
            "line": {
             "colorbar": {
              "outlinewidth": 0,
              "ticks": ""
             }
            },
            "marker": {
             "colorbar": {
              "outlinewidth": 0,
              "ticks": ""
             }
            },
            "type": "scatter3d"
           }
          ],
          "scattercarpet": [
           {
            "marker": {
             "colorbar": {
              "outlinewidth": 0,
              "ticks": ""
             }
            },
            "type": "scattercarpet"
           }
          ],
          "scattergeo": [
           {
            "marker": {
             "colorbar": {
              "outlinewidth": 0,
              "ticks": ""
             }
            },
            "type": "scattergeo"
           }
          ],
          "scattergl": [
           {
            "marker": {
             "colorbar": {
              "outlinewidth": 0,
              "ticks": ""
             }
            },
            "type": "scattergl"
           }
          ],
          "scattermapbox": [
           {
            "marker": {
             "colorbar": {
              "outlinewidth": 0,
              "ticks": ""
             }
            },
            "type": "scattermapbox"
           }
          ],
          "scatterpolar": [
           {
            "marker": {
             "colorbar": {
              "outlinewidth": 0,
              "ticks": ""
             }
            },
            "type": "scatterpolar"
           }
          ],
          "scatterpolargl": [
           {
            "marker": {
             "colorbar": {
              "outlinewidth": 0,
              "ticks": ""
             }
            },
            "type": "scatterpolargl"
           }
          ],
          "scatterternary": [
           {
            "marker": {
             "colorbar": {
              "outlinewidth": 0,
              "ticks": ""
             }
            },
            "type": "scatterternary"
           }
          ],
          "surface": [
           {
            "colorbar": {
             "outlinewidth": 0,
             "ticks": ""
            },
            "colorscale": [
             [
              0,
              "#0d0887"
             ],
             [
              0.1111111111111111,
              "#46039f"
             ],
             [
              0.2222222222222222,
              "#7201a8"
             ],
             [
              0.3333333333333333,
              "#9c179e"
             ],
             [
              0.4444444444444444,
              "#bd3786"
             ],
             [
              0.5555555555555556,
              "#d8576b"
             ],
             [
              0.6666666666666666,
              "#ed7953"
             ],
             [
              0.7777777777777778,
              "#fb9f3a"
             ],
             [
              0.8888888888888888,
              "#fdca26"
             ],
             [
              1,
              "#f0f921"
             ]
            ],
            "type": "surface"
           }
          ],
          "table": [
           {
            "cells": {
             "fill": {
              "color": "#EBF0F8"
             },
             "line": {
              "color": "white"
             }
            },
            "header": {
             "fill": {
              "color": "#C8D4E3"
             },
             "line": {
              "color": "white"
             }
            },
            "type": "table"
           }
          ]
         },
         "layout": {
          "annotationdefaults": {
           "arrowcolor": "#2a3f5f",
           "arrowhead": 0,
           "arrowwidth": 1
          },
          "autotypenumbers": "strict",
          "coloraxis": {
           "colorbar": {
            "outlinewidth": 0,
            "ticks": ""
           }
          },
          "colorscale": {
           "diverging": [
            [
             0,
             "#8e0152"
            ],
            [
             0.1,
             "#c51b7d"
            ],
            [
             0.2,
             "#de77ae"
            ],
            [
             0.3,
             "#f1b6da"
            ],
            [
             0.4,
             "#fde0ef"
            ],
            [
             0.5,
             "#f7f7f7"
            ],
            [
             0.6,
             "#e6f5d0"
            ],
            [
             0.7,
             "#b8e186"
            ],
            [
             0.8,
             "#7fbc41"
            ],
            [
             0.9,
             "#4d9221"
            ],
            [
             1,
             "#276419"
            ]
           ],
           "sequential": [
            [
             0,
             "#0d0887"
            ],
            [
             0.1111111111111111,
             "#46039f"
            ],
            [
             0.2222222222222222,
             "#7201a8"
            ],
            [
             0.3333333333333333,
             "#9c179e"
            ],
            [
             0.4444444444444444,
             "#bd3786"
            ],
            [
             0.5555555555555556,
             "#d8576b"
            ],
            [
             0.6666666666666666,
             "#ed7953"
            ],
            [
             0.7777777777777778,
             "#fb9f3a"
            ],
            [
             0.8888888888888888,
             "#fdca26"
            ],
            [
             1,
             "#f0f921"
            ]
           ],
           "sequentialminus": [
            [
             0,
             "#0d0887"
            ],
            [
             0.1111111111111111,
             "#46039f"
            ],
            [
             0.2222222222222222,
             "#7201a8"
            ],
            [
             0.3333333333333333,
             "#9c179e"
            ],
            [
             0.4444444444444444,
             "#bd3786"
            ],
            [
             0.5555555555555556,
             "#d8576b"
            ],
            [
             0.6666666666666666,
             "#ed7953"
            ],
            [
             0.7777777777777778,
             "#fb9f3a"
            ],
            [
             0.8888888888888888,
             "#fdca26"
            ],
            [
             1,
             "#f0f921"
            ]
           ]
          },
          "colorway": [
           "#636efa",
           "#EF553B",
           "#00cc96",
           "#ab63fa",
           "#FFA15A",
           "#19d3f3",
           "#FF6692",
           "#B6E880",
           "#FF97FF",
           "#FECB52"
          ],
          "font": {
           "color": "#2a3f5f"
          },
          "geo": {
           "bgcolor": "white",
           "lakecolor": "white",
           "landcolor": "#E5ECF6",
           "showlakes": true,
           "showland": true,
           "subunitcolor": "white"
          },
          "hoverlabel": {
           "align": "left"
          },
          "hovermode": "closest",
          "mapbox": {
           "style": "light"
          },
          "paper_bgcolor": "white",
          "plot_bgcolor": "#E5ECF6",
          "polar": {
           "angularaxis": {
            "gridcolor": "white",
            "linecolor": "white",
            "ticks": ""
           },
           "bgcolor": "#E5ECF6",
           "radialaxis": {
            "gridcolor": "white",
            "linecolor": "white",
            "ticks": ""
           }
          },
          "scene": {
           "xaxis": {
            "backgroundcolor": "#E5ECF6",
            "gridcolor": "white",
            "gridwidth": 2,
            "linecolor": "white",
            "showbackground": true,
            "ticks": "",
            "zerolinecolor": "white"
           },
           "yaxis": {
            "backgroundcolor": "#E5ECF6",
            "gridcolor": "white",
            "gridwidth": 2,
            "linecolor": "white",
            "showbackground": true,
            "ticks": "",
            "zerolinecolor": "white"
           },
           "zaxis": {
            "backgroundcolor": "#E5ECF6",
            "gridcolor": "white",
            "gridwidth": 2,
            "linecolor": "white",
            "showbackground": true,
            "ticks": "",
            "zerolinecolor": "white"
           }
          },
          "shapedefaults": {
           "line": {
            "color": "#2a3f5f"
           }
          },
          "ternary": {
           "aaxis": {
            "gridcolor": "white",
            "linecolor": "white",
            "ticks": ""
           },
           "baxis": {
            "gridcolor": "white",
            "linecolor": "white",
            "ticks": ""
           },
           "bgcolor": "#E5ECF6",
           "caxis": {
            "gridcolor": "white",
            "linecolor": "white",
            "ticks": ""
           }
          },
          "title": {
           "x": 0.05
          },
          "xaxis": {
           "automargin": true,
           "gridcolor": "white",
           "linecolor": "white",
           "ticks": "",
           "title": {
            "standoff": 15
           },
           "zerolinecolor": "white",
           "zerolinewidth": 2
          },
          "yaxis": {
           "automargin": true,
           "gridcolor": "white",
           "linecolor": "white",
           "ticks": "",
           "title": {
            "standoff": 15
           },
           "zerolinecolor": "white",
           "zerolinewidth": 2
          }
         }
        },
        "width": 625,
        "xaxis": {
         "anchor": "y",
         "domain": [
          0,
          1
         ],
         "title": {
          "text": "min. sup.(%)"
         }
        },
        "yaxis": {
         "anchor": "x",
         "domain": [
          0,
          1
         ],
         "title": {
          "text": "num of frequent patterns founded"
         }
        }
       }
      },
      "text/html": [
       "<div>                            <div id=\"7889b4cd-1a25-4c50-83d7-faea89aa067c\" class=\"plotly-graph-div\" style=\"height:400px; width:625px;\"></div>            <script type=\"text/javascript\">                require([\"plotly\"], function(Plotly) {                    window.PLOTLYENV=window.PLOTLYENV || {};                                    if (document.getElementById(\"7889b4cd-1a25-4c50-83d7-faea89aa067c\")) {                    Plotly.newPlot(                        \"7889b4cd-1a25-4c50-83d7-faea89aa067c\",                        [{\"hovertemplate\":\"min. sup.(%)=%{x}<br>num of frequent patterns founded=%{y}<extra></extra>\",\"legendgroup\":\"\",\"marker\":{\"color\":\"#636efa\",\"symbol\":\"circle\"},\"mode\":\"markers\",\"name\":\"\",\"orientation\":\"v\",\"showlegend\":false,\"type\":\"scatter\",\"x\":[0.01,0.05,0.1,0.15,0.2,0.25,0.3,0.35,0.4,0.45,0.5,0.55,0.6,0.65,0.7,0.75,0.8,0.85,0.9,0.95,1.0],\"xaxis\":\"x\",\"y\":[19216.0,2320.0,1003.0,618.0,441.0,342.0,282.0,245.0,210.0,182.0,161.0,147.0,142.0,128.0,120.0,107.0,97.0,90.0,87.0,81.0,72.0],\"yaxis\":\"y\"}],                        {\"height\":400,\"legend\":{\"tracegroupgap\":0},\"margin\":{\"t\":60},\"template\":{\"data\":{\"bar\":[{\"error_x\":{\"color\":\"#2a3f5f\"},\"error_y\":{\"color\":\"#2a3f5f\"},\"marker\":{\"line\":{\"color\":\"#E5ECF6\",\"width\":0.5},\"pattern\":{\"fillmode\":\"overlay\",\"size\":10,\"solidity\":0.2}},\"type\":\"bar\"}],\"barpolar\":[{\"marker\":{\"line\":{\"color\":\"#E5ECF6\",\"width\":0.5},\"pattern\":{\"fillmode\":\"overlay\",\"size\":10,\"solidity\":0.2}},\"type\":\"barpolar\"}],\"carpet\":[{\"aaxis\":{\"endlinecolor\":\"#2a3f5f\",\"gridcolor\":\"white\",\"linecolor\":\"white\",\"minorgridcolor\":\"white\",\"startlinecolor\":\"#2a3f5f\"},\"baxis\":{\"endlinecolor\":\"#2a3f5f\",\"gridcolor\":\"white\",\"linecolor\":\"white\",\"minorgridcolor\":\"white\",\"startlinecolor\":\"#2a3f5f\"},\"type\":\"carpet\"}],\"choropleth\":[{\"colorbar\":{\"outlinewidth\":0,\"ticks\":\"\"},\"type\":\"choropleth\"}],\"contour\":[{\"colorbar\":{\"outlinewidth\":0,\"ticks\":\"\"},\"colorscale\":[[0.0,\"#0d0887\"],[0.1111111111111111,\"#46039f\"],[0.2222222222222222,\"#7201a8\"],[0.3333333333333333,\"#9c179e\"],[0.4444444444444444,\"#bd3786\"],[0.5555555555555556,\"#d8576b\"],[0.6666666666666666,\"#ed7953\"],[0.7777777777777778,\"#fb9f3a\"],[0.8888888888888888,\"#fdca26\"],[1.0,\"#f0f921\"]],\"type\":\"contour\"}],\"contourcarpet\":[{\"colorbar\":{\"outlinewidth\":0,\"ticks\":\"\"},\"type\":\"contourcarpet\"}],\"heatmap\":[{\"colorbar\":{\"outlinewidth\":0,\"ticks\":\"\"},\"colorscale\":[[0.0,\"#0d0887\"],[0.1111111111111111,\"#46039f\"],[0.2222222222222222,\"#7201a8\"],[0.3333333333333333,\"#9c179e\"],[0.4444444444444444,\"#bd3786\"],[0.5555555555555556,\"#d8576b\"],[0.6666666666666666,\"#ed7953\"],[0.7777777777777778,\"#fb9f3a\"],[0.8888888888888888,\"#fdca26\"],[1.0,\"#f0f921\"]],\"type\":\"heatmap\"}],\"heatmapgl\":[{\"colorbar\":{\"outlinewidth\":0,\"ticks\":\"\"},\"colorscale\":[[0.0,\"#0d0887\"],[0.1111111111111111,\"#46039f\"],[0.2222222222222222,\"#7201a8\"],[0.3333333333333333,\"#9c179e\"],[0.4444444444444444,\"#bd3786\"],[0.5555555555555556,\"#d8576b\"],[0.6666666666666666,\"#ed7953\"],[0.7777777777777778,\"#fb9f3a\"],[0.8888888888888888,\"#fdca26\"],[1.0,\"#f0f921\"]],\"type\":\"heatmapgl\"}],\"histogram\":[{\"marker\":{\"pattern\":{\"fillmode\":\"overlay\",\"size\":10,\"solidity\":0.2}},\"type\":\"histogram\"}],\"histogram2d\":[{\"colorbar\":{\"outlinewidth\":0,\"ticks\":\"\"},\"colorscale\":[[0.0,\"#0d0887\"],[0.1111111111111111,\"#46039f\"],[0.2222222222222222,\"#7201a8\"],[0.3333333333333333,\"#9c179e\"],[0.4444444444444444,\"#bd3786\"],[0.5555555555555556,\"#d8576b\"],[0.6666666666666666,\"#ed7953\"],[0.7777777777777778,\"#fb9f3a\"],[0.8888888888888888,\"#fdca26\"],[1.0,\"#f0f921\"]],\"type\":\"histogram2d\"}],\"histogram2dcontour\":[{\"colorbar\":{\"outlinewidth\":0,\"ticks\":\"\"},\"colorscale\":[[0.0,\"#0d0887\"],[0.1111111111111111,\"#46039f\"],[0.2222222222222222,\"#7201a8\"],[0.3333333333333333,\"#9c179e\"],[0.4444444444444444,\"#bd3786\"],[0.5555555555555556,\"#d8576b\"],[0.6666666666666666,\"#ed7953\"],[0.7777777777777778,\"#fb9f3a\"],[0.8888888888888888,\"#fdca26\"],[1.0,\"#f0f921\"]],\"type\":\"histogram2dcontour\"}],\"mesh3d\":[{\"colorbar\":{\"outlinewidth\":0,\"ticks\":\"\"},\"type\":\"mesh3d\"}],\"parcoords\":[{\"line\":{\"colorbar\":{\"outlinewidth\":0,\"ticks\":\"\"}},\"type\":\"parcoords\"}],\"pie\":[{\"automargin\":true,\"type\":\"pie\"}],\"scatter\":[{\"marker\":{\"colorbar\":{\"outlinewidth\":0,\"ticks\":\"\"}},\"type\":\"scatter\"}],\"scatter3d\":[{\"line\":{\"colorbar\":{\"outlinewidth\":0,\"ticks\":\"\"}},\"marker\":{\"colorbar\":{\"outlinewidth\":0,\"ticks\":\"\"}},\"type\":\"scatter3d\"}],\"scattercarpet\":[{\"marker\":{\"colorbar\":{\"outlinewidth\":0,\"ticks\":\"\"}},\"type\":\"scattercarpet\"}],\"scattergeo\":[{\"marker\":{\"colorbar\":{\"outlinewidth\":0,\"ticks\":\"\"}},\"type\":\"scattergeo\"}],\"scattergl\":[{\"marker\":{\"colorbar\":{\"outlinewidth\":0,\"ticks\":\"\"}},\"type\":\"scattergl\"}],\"scattermapbox\":[{\"marker\":{\"colorbar\":{\"outlinewidth\":0,\"ticks\":\"\"}},\"type\":\"scattermapbox\"}],\"scatterpolar\":[{\"marker\":{\"colorbar\":{\"outlinewidth\":0,\"ticks\":\"\"}},\"type\":\"scatterpolar\"}],\"scatterpolargl\":[{\"marker\":{\"colorbar\":{\"outlinewidth\":0,\"ticks\":\"\"}},\"type\":\"scatterpolargl\"}],\"scatterternary\":[{\"marker\":{\"colorbar\":{\"outlinewidth\":0,\"ticks\":\"\"}},\"type\":\"scatterternary\"}],\"surface\":[{\"colorbar\":{\"outlinewidth\":0,\"ticks\":\"\"},\"colorscale\":[[0.0,\"#0d0887\"],[0.1111111111111111,\"#46039f\"],[0.2222222222222222,\"#7201a8\"],[0.3333333333333333,\"#9c179e\"],[0.4444444444444444,\"#bd3786\"],[0.5555555555555556,\"#d8576b\"],[0.6666666666666666,\"#ed7953\"],[0.7777777777777778,\"#fb9f3a\"],[0.8888888888888888,\"#fdca26\"],[1.0,\"#f0f921\"]],\"type\":\"surface\"}],\"table\":[{\"cells\":{\"fill\":{\"color\":\"#EBF0F8\"},\"line\":{\"color\":\"white\"}},\"header\":{\"fill\":{\"color\":\"#C8D4E3\"},\"line\":{\"color\":\"white\"}},\"type\":\"table\"}]},\"layout\":{\"annotationdefaults\":{\"arrowcolor\":\"#2a3f5f\",\"arrowhead\":0,\"arrowwidth\":1},\"autotypenumbers\":\"strict\",\"coloraxis\":{\"colorbar\":{\"outlinewidth\":0,\"ticks\":\"\"}},\"colorscale\":{\"diverging\":[[0,\"#8e0152\"],[0.1,\"#c51b7d\"],[0.2,\"#de77ae\"],[0.3,\"#f1b6da\"],[0.4,\"#fde0ef\"],[0.5,\"#f7f7f7\"],[0.6,\"#e6f5d0\"],[0.7,\"#b8e186\"],[0.8,\"#7fbc41\"],[0.9,\"#4d9221\"],[1,\"#276419\"]],\"sequential\":[[0.0,\"#0d0887\"],[0.1111111111111111,\"#46039f\"],[0.2222222222222222,\"#7201a8\"],[0.3333333333333333,\"#9c179e\"],[0.4444444444444444,\"#bd3786\"],[0.5555555555555556,\"#d8576b\"],[0.6666666666666666,\"#ed7953\"],[0.7777777777777778,\"#fb9f3a\"],[0.8888888888888888,\"#fdca26\"],[1.0,\"#f0f921\"]],\"sequentialminus\":[[0.0,\"#0d0887\"],[0.1111111111111111,\"#46039f\"],[0.2222222222222222,\"#7201a8\"],[0.3333333333333333,\"#9c179e\"],[0.4444444444444444,\"#bd3786\"],[0.5555555555555556,\"#d8576b\"],[0.6666666666666666,\"#ed7953\"],[0.7777777777777778,\"#fb9f3a\"],[0.8888888888888888,\"#fdca26\"],[1.0,\"#f0f921\"]]},\"colorway\":[\"#636efa\",\"#EF553B\",\"#00cc96\",\"#ab63fa\",\"#FFA15A\",\"#19d3f3\",\"#FF6692\",\"#B6E880\",\"#FF97FF\",\"#FECB52\"],\"font\":{\"color\":\"#2a3f5f\"},\"geo\":{\"bgcolor\":\"white\",\"lakecolor\":\"white\",\"landcolor\":\"#E5ECF6\",\"showlakes\":true,\"showland\":true,\"subunitcolor\":\"white\"},\"hoverlabel\":{\"align\":\"left\"},\"hovermode\":\"closest\",\"mapbox\":{\"style\":\"light\"},\"paper_bgcolor\":\"white\",\"plot_bgcolor\":\"#E5ECF6\",\"polar\":{\"angularaxis\":{\"gridcolor\":\"white\",\"linecolor\":\"white\",\"ticks\":\"\"},\"bgcolor\":\"#E5ECF6\",\"radialaxis\":{\"gridcolor\":\"white\",\"linecolor\":\"white\",\"ticks\":\"\"}},\"scene\":{\"xaxis\":{\"backgroundcolor\":\"#E5ECF6\",\"gridcolor\":\"white\",\"gridwidth\":2,\"linecolor\":\"white\",\"showbackground\":true,\"ticks\":\"\",\"zerolinecolor\":\"white\"},\"yaxis\":{\"backgroundcolor\":\"#E5ECF6\",\"gridcolor\":\"white\",\"gridwidth\":2,\"linecolor\":\"white\",\"showbackground\":true,\"ticks\":\"\",\"zerolinecolor\":\"white\"},\"zaxis\":{\"backgroundcolor\":\"#E5ECF6\",\"gridcolor\":\"white\",\"gridwidth\":2,\"linecolor\":\"white\",\"showbackground\":true,\"ticks\":\"\",\"zerolinecolor\":\"white\"}},\"shapedefaults\":{\"line\":{\"color\":\"#2a3f5f\"}},\"ternary\":{\"aaxis\":{\"gridcolor\":\"white\",\"linecolor\":\"white\",\"ticks\":\"\"},\"baxis\":{\"gridcolor\":\"white\",\"linecolor\":\"white\",\"ticks\":\"\"},\"bgcolor\":\"#E5ECF6\",\"caxis\":{\"gridcolor\":\"white\",\"linecolor\":\"white\",\"ticks\":\"\"}},\"title\":{\"x\":0.05},\"xaxis\":{\"automargin\":true,\"gridcolor\":\"white\",\"linecolor\":\"white\",\"ticks\":\"\",\"title\":{\"standoff\":15},\"zerolinecolor\":\"white\",\"zerolinewidth\":2},\"yaxis\":{\"automargin\":true,\"gridcolor\":\"white\",\"linecolor\":\"white\",\"ticks\":\"\",\"title\":{\"standoff\":15},\"zerolinecolor\":\"white\",\"zerolinewidth\":2}}},\"width\":625,\"xaxis\":{\"anchor\":\"y\",\"domain\":[0.0,1.0],\"title\":{\"text\":\"min. sup.(%)\"}},\"yaxis\":{\"anchor\":\"x\",\"domain\":[0.0,1.0],\"title\":{\"text\":\"num of frequent patterns founded\"}}},                        {\"responsive\": true}                    ).then(function(){\n",
       "                            \n",
       "var gd = document.getElementById('7889b4cd-1a25-4c50-83d7-faea89aa067c');\n",
       "var x = new MutationObserver(function (mutations, observer) {{\n",
       "        var display = window.getComputedStyle(gd).display;\n",
       "        if (!display || display === 'none') {{\n",
       "            console.log([gd, 'removed!']);\n",
       "            Plotly.purge(gd);\n",
       "            observer.disconnect();\n",
       "        }}\n",
       "}});\n",
       "\n",
       "// Listen for the removal of the full notebook cells\n",
       "var notebookContainer = gd.closest('#notebook-container');\n",
       "if (notebookContainer) {{\n",
       "    x.observe(notebookContainer, {childList: true});\n",
       "}}\n",
       "\n",
       "// Listen for the clearing of the current output cell\n",
       "var outputEl = gd.closest('.output');\n",
       "if (outputEl) {{\n",
       "    x.observe(outputEl, {childList: true});\n",
       "}}\n",
       "\n",
       "                        })                };                });            </script>        </div>"
      ]
     },
     "metadata": {},
     "output_type": "display_data"
    }
   ],
   "source": [
    "fig2"
   ]
  },
  {
   "cell_type": "code",
   "execution_count": 16,
   "metadata": {},
   "outputs": [
    {
     "data": {
      "application/vnd.plotly.v1+json": {
       "config": {
        "plotlyServerURL": "https://plot.ly"
       },
       "data": [
        {
         "hovertemplate": "min. sup.(%)=%{x}<br>max length of founded pattern=%{y}<extra></extra>",
         "legendgroup": "",
         "marker": {
          "color": "#636efa",
          "symbol": "circle"
         },
         "mode": "markers",
         "name": "",
         "orientation": "v",
         "showlegend": false,
         "type": "scatter",
         "x": [
          0.01,
          0.05,
          0.1,
          0.15,
          0.2,
          0.25,
          0.3,
          0.35,
          0.4,
          0.45,
          0.5,
          0.55,
          0.6,
          0.65,
          0.7,
          0.75,
          0.8,
          0.85,
          0.9,
          0.95,
          1
         ],
         "xaxis": "x",
         "y": [
          10,
          7,
          6,
          5,
          5,
          5,
          5,
          4,
          4,
          4,
          4,
          4,
          4,
          4,
          4,
          3,
          3,
          3,
          3,
          3,
          3
         ],
         "yaxis": "y"
        }
       ],
       "layout": {
        "height": 400,
        "legend": {
         "tracegroupgap": 0
        },
        "margin": {
         "t": 60
        },
        "template": {
         "data": {
          "bar": [
           {
            "error_x": {
             "color": "#2a3f5f"
            },
            "error_y": {
             "color": "#2a3f5f"
            },
            "marker": {
             "line": {
              "color": "#E5ECF6",
              "width": 0.5
             },
             "pattern": {
              "fillmode": "overlay",
              "size": 10,
              "solidity": 0.2
             }
            },
            "type": "bar"
           }
          ],
          "barpolar": [
           {
            "marker": {
             "line": {
              "color": "#E5ECF6",
              "width": 0.5
             },
             "pattern": {
              "fillmode": "overlay",
              "size": 10,
              "solidity": 0.2
             }
            },
            "type": "barpolar"
           }
          ],
          "carpet": [
           {
            "aaxis": {
             "endlinecolor": "#2a3f5f",
             "gridcolor": "white",
             "linecolor": "white",
             "minorgridcolor": "white",
             "startlinecolor": "#2a3f5f"
            },
            "baxis": {
             "endlinecolor": "#2a3f5f",
             "gridcolor": "white",
             "linecolor": "white",
             "minorgridcolor": "white",
             "startlinecolor": "#2a3f5f"
            },
            "type": "carpet"
           }
          ],
          "choropleth": [
           {
            "colorbar": {
             "outlinewidth": 0,
             "ticks": ""
            },
            "type": "choropleth"
           }
          ],
          "contour": [
           {
            "colorbar": {
             "outlinewidth": 0,
             "ticks": ""
            },
            "colorscale": [
             [
              0,
              "#0d0887"
             ],
             [
              0.1111111111111111,
              "#46039f"
             ],
             [
              0.2222222222222222,
              "#7201a8"
             ],
             [
              0.3333333333333333,
              "#9c179e"
             ],
             [
              0.4444444444444444,
              "#bd3786"
             ],
             [
              0.5555555555555556,
              "#d8576b"
             ],
             [
              0.6666666666666666,
              "#ed7953"
             ],
             [
              0.7777777777777778,
              "#fb9f3a"
             ],
             [
              0.8888888888888888,
              "#fdca26"
             ],
             [
              1,
              "#f0f921"
             ]
            ],
            "type": "contour"
           }
          ],
          "contourcarpet": [
           {
            "colorbar": {
             "outlinewidth": 0,
             "ticks": ""
            },
            "type": "contourcarpet"
           }
          ],
          "heatmap": [
           {
            "colorbar": {
             "outlinewidth": 0,
             "ticks": ""
            },
            "colorscale": [
             [
              0,
              "#0d0887"
             ],
             [
              0.1111111111111111,
              "#46039f"
             ],
             [
              0.2222222222222222,
              "#7201a8"
             ],
             [
              0.3333333333333333,
              "#9c179e"
             ],
             [
              0.4444444444444444,
              "#bd3786"
             ],
             [
              0.5555555555555556,
              "#d8576b"
             ],
             [
              0.6666666666666666,
              "#ed7953"
             ],
             [
              0.7777777777777778,
              "#fb9f3a"
             ],
             [
              0.8888888888888888,
              "#fdca26"
             ],
             [
              1,
              "#f0f921"
             ]
            ],
            "type": "heatmap"
           }
          ],
          "heatmapgl": [
           {
            "colorbar": {
             "outlinewidth": 0,
             "ticks": ""
            },
            "colorscale": [
             [
              0,
              "#0d0887"
             ],
             [
              0.1111111111111111,
              "#46039f"
             ],
             [
              0.2222222222222222,
              "#7201a8"
             ],
             [
              0.3333333333333333,
              "#9c179e"
             ],
             [
              0.4444444444444444,
              "#bd3786"
             ],
             [
              0.5555555555555556,
              "#d8576b"
             ],
             [
              0.6666666666666666,
              "#ed7953"
             ],
             [
              0.7777777777777778,
              "#fb9f3a"
             ],
             [
              0.8888888888888888,
              "#fdca26"
             ],
             [
              1,
              "#f0f921"
             ]
            ],
            "type": "heatmapgl"
           }
          ],
          "histogram": [
           {
            "marker": {
             "pattern": {
              "fillmode": "overlay",
              "size": 10,
              "solidity": 0.2
             }
            },
            "type": "histogram"
           }
          ],
          "histogram2d": [
           {
            "colorbar": {
             "outlinewidth": 0,
             "ticks": ""
            },
            "colorscale": [
             [
              0,
              "#0d0887"
             ],
             [
              0.1111111111111111,
              "#46039f"
             ],
             [
              0.2222222222222222,
              "#7201a8"
             ],
             [
              0.3333333333333333,
              "#9c179e"
             ],
             [
              0.4444444444444444,
              "#bd3786"
             ],
             [
              0.5555555555555556,
              "#d8576b"
             ],
             [
              0.6666666666666666,
              "#ed7953"
             ],
             [
              0.7777777777777778,
              "#fb9f3a"
             ],
             [
              0.8888888888888888,
              "#fdca26"
             ],
             [
              1,
              "#f0f921"
             ]
            ],
            "type": "histogram2d"
           }
          ],
          "histogram2dcontour": [
           {
            "colorbar": {
             "outlinewidth": 0,
             "ticks": ""
            },
            "colorscale": [
             [
              0,
              "#0d0887"
             ],
             [
              0.1111111111111111,
              "#46039f"
             ],
             [
              0.2222222222222222,
              "#7201a8"
             ],
             [
              0.3333333333333333,
              "#9c179e"
             ],
             [
              0.4444444444444444,
              "#bd3786"
             ],
             [
              0.5555555555555556,
              "#d8576b"
             ],
             [
              0.6666666666666666,
              "#ed7953"
             ],
             [
              0.7777777777777778,
              "#fb9f3a"
             ],
             [
              0.8888888888888888,
              "#fdca26"
             ],
             [
              1,
              "#f0f921"
             ]
            ],
            "type": "histogram2dcontour"
           }
          ],
          "mesh3d": [
           {
            "colorbar": {
             "outlinewidth": 0,
             "ticks": ""
            },
            "type": "mesh3d"
           }
          ],
          "parcoords": [
           {
            "line": {
             "colorbar": {
              "outlinewidth": 0,
              "ticks": ""
             }
            },
            "type": "parcoords"
           }
          ],
          "pie": [
           {
            "automargin": true,
            "type": "pie"
           }
          ],
          "scatter": [
           {
            "marker": {
             "colorbar": {
              "outlinewidth": 0,
              "ticks": ""
             }
            },
            "type": "scatter"
           }
          ],
          "scatter3d": [
           {
            "line": {
             "colorbar": {
              "outlinewidth": 0,
              "ticks": ""
             }
            },
            "marker": {
             "colorbar": {
              "outlinewidth": 0,
              "ticks": ""
             }
            },
            "type": "scatter3d"
           }
          ],
          "scattercarpet": [
           {
            "marker": {
             "colorbar": {
              "outlinewidth": 0,
              "ticks": ""
             }
            },
            "type": "scattercarpet"
           }
          ],
          "scattergeo": [
           {
            "marker": {
             "colorbar": {
              "outlinewidth": 0,
              "ticks": ""
             }
            },
            "type": "scattergeo"
           }
          ],
          "scattergl": [
           {
            "marker": {
             "colorbar": {
              "outlinewidth": 0,
              "ticks": ""
             }
            },
            "type": "scattergl"
           }
          ],
          "scattermapbox": [
           {
            "marker": {
             "colorbar": {
              "outlinewidth": 0,
              "ticks": ""
             }
            },
            "type": "scattermapbox"
           }
          ],
          "scatterpolar": [
           {
            "marker": {
             "colorbar": {
              "outlinewidth": 0,
              "ticks": ""
             }
            },
            "type": "scatterpolar"
           }
          ],
          "scatterpolargl": [
           {
            "marker": {
             "colorbar": {
              "outlinewidth": 0,
              "ticks": ""
             }
            },
            "type": "scatterpolargl"
           }
          ],
          "scatterternary": [
           {
            "marker": {
             "colorbar": {
              "outlinewidth": 0,
              "ticks": ""
             }
            },
            "type": "scatterternary"
           }
          ],
          "surface": [
           {
            "colorbar": {
             "outlinewidth": 0,
             "ticks": ""
            },
            "colorscale": [
             [
              0,
              "#0d0887"
             ],
             [
              0.1111111111111111,
              "#46039f"
             ],
             [
              0.2222222222222222,
              "#7201a8"
             ],
             [
              0.3333333333333333,
              "#9c179e"
             ],
             [
              0.4444444444444444,
              "#bd3786"
             ],
             [
              0.5555555555555556,
              "#d8576b"
             ],
             [
              0.6666666666666666,
              "#ed7953"
             ],
             [
              0.7777777777777778,
              "#fb9f3a"
             ],
             [
              0.8888888888888888,
              "#fdca26"
             ],
             [
              1,
              "#f0f921"
             ]
            ],
            "type": "surface"
           }
          ],
          "table": [
           {
            "cells": {
             "fill": {
              "color": "#EBF0F8"
             },
             "line": {
              "color": "white"
             }
            },
            "header": {
             "fill": {
              "color": "#C8D4E3"
             },
             "line": {
              "color": "white"
             }
            },
            "type": "table"
           }
          ]
         },
         "layout": {
          "annotationdefaults": {
           "arrowcolor": "#2a3f5f",
           "arrowhead": 0,
           "arrowwidth": 1
          },
          "autotypenumbers": "strict",
          "coloraxis": {
           "colorbar": {
            "outlinewidth": 0,
            "ticks": ""
           }
          },
          "colorscale": {
           "diverging": [
            [
             0,
             "#8e0152"
            ],
            [
             0.1,
             "#c51b7d"
            ],
            [
             0.2,
             "#de77ae"
            ],
            [
             0.3,
             "#f1b6da"
            ],
            [
             0.4,
             "#fde0ef"
            ],
            [
             0.5,
             "#f7f7f7"
            ],
            [
             0.6,
             "#e6f5d0"
            ],
            [
             0.7,
             "#b8e186"
            ],
            [
             0.8,
             "#7fbc41"
            ],
            [
             0.9,
             "#4d9221"
            ],
            [
             1,
             "#276419"
            ]
           ],
           "sequential": [
            [
             0,
             "#0d0887"
            ],
            [
             0.1111111111111111,
             "#46039f"
            ],
            [
             0.2222222222222222,
             "#7201a8"
            ],
            [
             0.3333333333333333,
             "#9c179e"
            ],
            [
             0.4444444444444444,
             "#bd3786"
            ],
            [
             0.5555555555555556,
             "#d8576b"
            ],
            [
             0.6666666666666666,
             "#ed7953"
            ],
            [
             0.7777777777777778,
             "#fb9f3a"
            ],
            [
             0.8888888888888888,
             "#fdca26"
            ],
            [
             1,
             "#f0f921"
            ]
           ],
           "sequentialminus": [
            [
             0,
             "#0d0887"
            ],
            [
             0.1111111111111111,
             "#46039f"
            ],
            [
             0.2222222222222222,
             "#7201a8"
            ],
            [
             0.3333333333333333,
             "#9c179e"
            ],
            [
             0.4444444444444444,
             "#bd3786"
            ],
            [
             0.5555555555555556,
             "#d8576b"
            ],
            [
             0.6666666666666666,
             "#ed7953"
            ],
            [
             0.7777777777777778,
             "#fb9f3a"
            ],
            [
             0.8888888888888888,
             "#fdca26"
            ],
            [
             1,
             "#f0f921"
            ]
           ]
          },
          "colorway": [
           "#636efa",
           "#EF553B",
           "#00cc96",
           "#ab63fa",
           "#FFA15A",
           "#19d3f3",
           "#FF6692",
           "#B6E880",
           "#FF97FF",
           "#FECB52"
          ],
          "font": {
           "color": "#2a3f5f"
          },
          "geo": {
           "bgcolor": "white",
           "lakecolor": "white",
           "landcolor": "#E5ECF6",
           "showlakes": true,
           "showland": true,
           "subunitcolor": "white"
          },
          "hoverlabel": {
           "align": "left"
          },
          "hovermode": "closest",
          "mapbox": {
           "style": "light"
          },
          "paper_bgcolor": "white",
          "plot_bgcolor": "#E5ECF6",
          "polar": {
           "angularaxis": {
            "gridcolor": "white",
            "linecolor": "white",
            "ticks": ""
           },
           "bgcolor": "#E5ECF6",
           "radialaxis": {
            "gridcolor": "white",
            "linecolor": "white",
            "ticks": ""
           }
          },
          "scene": {
           "xaxis": {
            "backgroundcolor": "#E5ECF6",
            "gridcolor": "white",
            "gridwidth": 2,
            "linecolor": "white",
            "showbackground": true,
            "ticks": "",
            "zerolinecolor": "white"
           },
           "yaxis": {
            "backgroundcolor": "#E5ECF6",
            "gridcolor": "white",
            "gridwidth": 2,
            "linecolor": "white",
            "showbackground": true,
            "ticks": "",
            "zerolinecolor": "white"
           },
           "zaxis": {
            "backgroundcolor": "#E5ECF6",
            "gridcolor": "white",
            "gridwidth": 2,
            "linecolor": "white",
            "showbackground": true,
            "ticks": "",
            "zerolinecolor": "white"
           }
          },
          "shapedefaults": {
           "line": {
            "color": "#2a3f5f"
           }
          },
          "ternary": {
           "aaxis": {
            "gridcolor": "white",
            "linecolor": "white",
            "ticks": ""
           },
           "baxis": {
            "gridcolor": "white",
            "linecolor": "white",
            "ticks": ""
           },
           "bgcolor": "#E5ECF6",
           "caxis": {
            "gridcolor": "white",
            "linecolor": "white",
            "ticks": ""
           }
          },
          "title": {
           "x": 0.05
          },
          "xaxis": {
           "automargin": true,
           "gridcolor": "white",
           "linecolor": "white",
           "ticks": "",
           "title": {
            "standoff": 15
           },
           "zerolinecolor": "white",
           "zerolinewidth": 2
          },
          "yaxis": {
           "automargin": true,
           "gridcolor": "white",
           "linecolor": "white",
           "ticks": "",
           "title": {
            "standoff": 15
           },
           "zerolinecolor": "white",
           "zerolinewidth": 2
          }
         }
        },
        "width": 625,
        "xaxis": {
         "anchor": "y",
         "domain": [
          0,
          1
         ],
         "title": {
          "text": "min. sup.(%)"
         }
        },
        "yaxis": {
         "anchor": "x",
         "domain": [
          0,
          1
         ],
         "title": {
          "text": "max length of founded pattern"
         }
        }
       }
      },
      "text/html": [
       "<div>                            <div id=\"19470ce3-08b9-4d43-b6dc-ddd19992d370\" class=\"plotly-graph-div\" style=\"height:400px; width:625px;\"></div>            <script type=\"text/javascript\">                require([\"plotly\"], function(Plotly) {                    window.PLOTLYENV=window.PLOTLYENV || {};                                    if (document.getElementById(\"19470ce3-08b9-4d43-b6dc-ddd19992d370\")) {                    Plotly.newPlot(                        \"19470ce3-08b9-4d43-b6dc-ddd19992d370\",                        [{\"hovertemplate\":\"min. sup.(%)=%{x}<br>max length of founded pattern=%{y}<extra></extra>\",\"legendgroup\":\"\",\"marker\":{\"color\":\"#636efa\",\"symbol\":\"circle\"},\"mode\":\"markers\",\"name\":\"\",\"orientation\":\"v\",\"showlegend\":false,\"type\":\"scatter\",\"x\":[0.01,0.05,0.1,0.15,0.2,0.25,0.3,0.35,0.4,0.45,0.5,0.55,0.6,0.65,0.7,0.75,0.8,0.85,0.9,0.95,1.0],\"xaxis\":\"x\",\"y\":[10.0,7.0,6.0,5.0,5.0,5.0,5.0,4.0,4.0,4.0,4.0,4.0,4.0,4.0,4.0,3.0,3.0,3.0,3.0,3.0,3.0],\"yaxis\":\"y\"}],                        {\"height\":400,\"legend\":{\"tracegroupgap\":0},\"margin\":{\"t\":60},\"template\":{\"data\":{\"bar\":[{\"error_x\":{\"color\":\"#2a3f5f\"},\"error_y\":{\"color\":\"#2a3f5f\"},\"marker\":{\"line\":{\"color\":\"#E5ECF6\",\"width\":0.5},\"pattern\":{\"fillmode\":\"overlay\",\"size\":10,\"solidity\":0.2}},\"type\":\"bar\"}],\"barpolar\":[{\"marker\":{\"line\":{\"color\":\"#E5ECF6\",\"width\":0.5},\"pattern\":{\"fillmode\":\"overlay\",\"size\":10,\"solidity\":0.2}},\"type\":\"barpolar\"}],\"carpet\":[{\"aaxis\":{\"endlinecolor\":\"#2a3f5f\",\"gridcolor\":\"white\",\"linecolor\":\"white\",\"minorgridcolor\":\"white\",\"startlinecolor\":\"#2a3f5f\"},\"baxis\":{\"endlinecolor\":\"#2a3f5f\",\"gridcolor\":\"white\",\"linecolor\":\"white\",\"minorgridcolor\":\"white\",\"startlinecolor\":\"#2a3f5f\"},\"type\":\"carpet\"}],\"choropleth\":[{\"colorbar\":{\"outlinewidth\":0,\"ticks\":\"\"},\"type\":\"choropleth\"}],\"contour\":[{\"colorbar\":{\"outlinewidth\":0,\"ticks\":\"\"},\"colorscale\":[[0.0,\"#0d0887\"],[0.1111111111111111,\"#46039f\"],[0.2222222222222222,\"#7201a8\"],[0.3333333333333333,\"#9c179e\"],[0.4444444444444444,\"#bd3786\"],[0.5555555555555556,\"#d8576b\"],[0.6666666666666666,\"#ed7953\"],[0.7777777777777778,\"#fb9f3a\"],[0.8888888888888888,\"#fdca26\"],[1.0,\"#f0f921\"]],\"type\":\"contour\"}],\"contourcarpet\":[{\"colorbar\":{\"outlinewidth\":0,\"ticks\":\"\"},\"type\":\"contourcarpet\"}],\"heatmap\":[{\"colorbar\":{\"outlinewidth\":0,\"ticks\":\"\"},\"colorscale\":[[0.0,\"#0d0887\"],[0.1111111111111111,\"#46039f\"],[0.2222222222222222,\"#7201a8\"],[0.3333333333333333,\"#9c179e\"],[0.4444444444444444,\"#bd3786\"],[0.5555555555555556,\"#d8576b\"],[0.6666666666666666,\"#ed7953\"],[0.7777777777777778,\"#fb9f3a\"],[0.8888888888888888,\"#fdca26\"],[1.0,\"#f0f921\"]],\"type\":\"heatmap\"}],\"heatmapgl\":[{\"colorbar\":{\"outlinewidth\":0,\"ticks\":\"\"},\"colorscale\":[[0.0,\"#0d0887\"],[0.1111111111111111,\"#46039f\"],[0.2222222222222222,\"#7201a8\"],[0.3333333333333333,\"#9c179e\"],[0.4444444444444444,\"#bd3786\"],[0.5555555555555556,\"#d8576b\"],[0.6666666666666666,\"#ed7953\"],[0.7777777777777778,\"#fb9f3a\"],[0.8888888888888888,\"#fdca26\"],[1.0,\"#f0f921\"]],\"type\":\"heatmapgl\"}],\"histogram\":[{\"marker\":{\"pattern\":{\"fillmode\":\"overlay\",\"size\":10,\"solidity\":0.2}},\"type\":\"histogram\"}],\"histogram2d\":[{\"colorbar\":{\"outlinewidth\":0,\"ticks\":\"\"},\"colorscale\":[[0.0,\"#0d0887\"],[0.1111111111111111,\"#46039f\"],[0.2222222222222222,\"#7201a8\"],[0.3333333333333333,\"#9c179e\"],[0.4444444444444444,\"#bd3786\"],[0.5555555555555556,\"#d8576b\"],[0.6666666666666666,\"#ed7953\"],[0.7777777777777778,\"#fb9f3a\"],[0.8888888888888888,\"#fdca26\"],[1.0,\"#f0f921\"]],\"type\":\"histogram2d\"}],\"histogram2dcontour\":[{\"colorbar\":{\"outlinewidth\":0,\"ticks\":\"\"},\"colorscale\":[[0.0,\"#0d0887\"],[0.1111111111111111,\"#46039f\"],[0.2222222222222222,\"#7201a8\"],[0.3333333333333333,\"#9c179e\"],[0.4444444444444444,\"#bd3786\"],[0.5555555555555556,\"#d8576b\"],[0.6666666666666666,\"#ed7953\"],[0.7777777777777778,\"#fb9f3a\"],[0.8888888888888888,\"#fdca26\"],[1.0,\"#f0f921\"]],\"type\":\"histogram2dcontour\"}],\"mesh3d\":[{\"colorbar\":{\"outlinewidth\":0,\"ticks\":\"\"},\"type\":\"mesh3d\"}],\"parcoords\":[{\"line\":{\"colorbar\":{\"outlinewidth\":0,\"ticks\":\"\"}},\"type\":\"parcoords\"}],\"pie\":[{\"automargin\":true,\"type\":\"pie\"}],\"scatter\":[{\"marker\":{\"colorbar\":{\"outlinewidth\":0,\"ticks\":\"\"}},\"type\":\"scatter\"}],\"scatter3d\":[{\"line\":{\"colorbar\":{\"outlinewidth\":0,\"ticks\":\"\"}},\"marker\":{\"colorbar\":{\"outlinewidth\":0,\"ticks\":\"\"}},\"type\":\"scatter3d\"}],\"scattercarpet\":[{\"marker\":{\"colorbar\":{\"outlinewidth\":0,\"ticks\":\"\"}},\"type\":\"scattercarpet\"}],\"scattergeo\":[{\"marker\":{\"colorbar\":{\"outlinewidth\":0,\"ticks\":\"\"}},\"type\":\"scattergeo\"}],\"scattergl\":[{\"marker\":{\"colorbar\":{\"outlinewidth\":0,\"ticks\":\"\"}},\"type\":\"scattergl\"}],\"scattermapbox\":[{\"marker\":{\"colorbar\":{\"outlinewidth\":0,\"ticks\":\"\"}},\"type\":\"scattermapbox\"}],\"scatterpolar\":[{\"marker\":{\"colorbar\":{\"outlinewidth\":0,\"ticks\":\"\"}},\"type\":\"scatterpolar\"}],\"scatterpolargl\":[{\"marker\":{\"colorbar\":{\"outlinewidth\":0,\"ticks\":\"\"}},\"type\":\"scatterpolargl\"}],\"scatterternary\":[{\"marker\":{\"colorbar\":{\"outlinewidth\":0,\"ticks\":\"\"}},\"type\":\"scatterternary\"}],\"surface\":[{\"colorbar\":{\"outlinewidth\":0,\"ticks\":\"\"},\"colorscale\":[[0.0,\"#0d0887\"],[0.1111111111111111,\"#46039f\"],[0.2222222222222222,\"#7201a8\"],[0.3333333333333333,\"#9c179e\"],[0.4444444444444444,\"#bd3786\"],[0.5555555555555556,\"#d8576b\"],[0.6666666666666666,\"#ed7953\"],[0.7777777777777778,\"#fb9f3a\"],[0.8888888888888888,\"#fdca26\"],[1.0,\"#f0f921\"]],\"type\":\"surface\"}],\"table\":[{\"cells\":{\"fill\":{\"color\":\"#EBF0F8\"},\"line\":{\"color\":\"white\"}},\"header\":{\"fill\":{\"color\":\"#C8D4E3\"},\"line\":{\"color\":\"white\"}},\"type\":\"table\"}]},\"layout\":{\"annotationdefaults\":{\"arrowcolor\":\"#2a3f5f\",\"arrowhead\":0,\"arrowwidth\":1},\"autotypenumbers\":\"strict\",\"coloraxis\":{\"colorbar\":{\"outlinewidth\":0,\"ticks\":\"\"}},\"colorscale\":{\"diverging\":[[0,\"#8e0152\"],[0.1,\"#c51b7d\"],[0.2,\"#de77ae\"],[0.3,\"#f1b6da\"],[0.4,\"#fde0ef\"],[0.5,\"#f7f7f7\"],[0.6,\"#e6f5d0\"],[0.7,\"#b8e186\"],[0.8,\"#7fbc41\"],[0.9,\"#4d9221\"],[1,\"#276419\"]],\"sequential\":[[0.0,\"#0d0887\"],[0.1111111111111111,\"#46039f\"],[0.2222222222222222,\"#7201a8\"],[0.3333333333333333,\"#9c179e\"],[0.4444444444444444,\"#bd3786\"],[0.5555555555555556,\"#d8576b\"],[0.6666666666666666,\"#ed7953\"],[0.7777777777777778,\"#fb9f3a\"],[0.8888888888888888,\"#fdca26\"],[1.0,\"#f0f921\"]],\"sequentialminus\":[[0.0,\"#0d0887\"],[0.1111111111111111,\"#46039f\"],[0.2222222222222222,\"#7201a8\"],[0.3333333333333333,\"#9c179e\"],[0.4444444444444444,\"#bd3786\"],[0.5555555555555556,\"#d8576b\"],[0.6666666666666666,\"#ed7953\"],[0.7777777777777778,\"#fb9f3a\"],[0.8888888888888888,\"#fdca26\"],[1.0,\"#f0f921\"]]},\"colorway\":[\"#636efa\",\"#EF553B\",\"#00cc96\",\"#ab63fa\",\"#FFA15A\",\"#19d3f3\",\"#FF6692\",\"#B6E880\",\"#FF97FF\",\"#FECB52\"],\"font\":{\"color\":\"#2a3f5f\"},\"geo\":{\"bgcolor\":\"white\",\"lakecolor\":\"white\",\"landcolor\":\"#E5ECF6\",\"showlakes\":true,\"showland\":true,\"subunitcolor\":\"white\"},\"hoverlabel\":{\"align\":\"left\"},\"hovermode\":\"closest\",\"mapbox\":{\"style\":\"light\"},\"paper_bgcolor\":\"white\",\"plot_bgcolor\":\"#E5ECF6\",\"polar\":{\"angularaxis\":{\"gridcolor\":\"white\",\"linecolor\":\"white\",\"ticks\":\"\"},\"bgcolor\":\"#E5ECF6\",\"radialaxis\":{\"gridcolor\":\"white\",\"linecolor\":\"white\",\"ticks\":\"\"}},\"scene\":{\"xaxis\":{\"backgroundcolor\":\"#E5ECF6\",\"gridcolor\":\"white\",\"gridwidth\":2,\"linecolor\":\"white\",\"showbackground\":true,\"ticks\":\"\",\"zerolinecolor\":\"white\"},\"yaxis\":{\"backgroundcolor\":\"#E5ECF6\",\"gridcolor\":\"white\",\"gridwidth\":2,\"linecolor\":\"white\",\"showbackground\":true,\"ticks\":\"\",\"zerolinecolor\":\"white\"},\"zaxis\":{\"backgroundcolor\":\"#E5ECF6\",\"gridcolor\":\"white\",\"gridwidth\":2,\"linecolor\":\"white\",\"showbackground\":true,\"ticks\":\"\",\"zerolinecolor\":\"white\"}},\"shapedefaults\":{\"line\":{\"color\":\"#2a3f5f\"}},\"ternary\":{\"aaxis\":{\"gridcolor\":\"white\",\"linecolor\":\"white\",\"ticks\":\"\"},\"baxis\":{\"gridcolor\":\"white\",\"linecolor\":\"white\",\"ticks\":\"\"},\"bgcolor\":\"#E5ECF6\",\"caxis\":{\"gridcolor\":\"white\",\"linecolor\":\"white\",\"ticks\":\"\"}},\"title\":{\"x\":0.05},\"xaxis\":{\"automargin\":true,\"gridcolor\":\"white\",\"linecolor\":\"white\",\"ticks\":\"\",\"title\":{\"standoff\":15},\"zerolinecolor\":\"white\",\"zerolinewidth\":2},\"yaxis\":{\"automargin\":true,\"gridcolor\":\"white\",\"linecolor\":\"white\",\"ticks\":\"\",\"title\":{\"standoff\":15},\"zerolinecolor\":\"white\",\"zerolinewidth\":2}}},\"width\":625,\"xaxis\":{\"anchor\":\"y\",\"domain\":[0.0,1.0],\"title\":{\"text\":\"min. sup.(%)\"}},\"yaxis\":{\"anchor\":\"x\",\"domain\":[0.0,1.0],\"title\":{\"text\":\"max length of founded pattern\"}}},                        {\"responsive\": true}                    ).then(function(){\n",
       "                            \n",
       "var gd = document.getElementById('19470ce3-08b9-4d43-b6dc-ddd19992d370');\n",
       "var x = new MutationObserver(function (mutations, observer) {{\n",
       "        var display = window.getComputedStyle(gd).display;\n",
       "        if (!display || display === 'none') {{\n",
       "            console.log([gd, 'removed!']);\n",
       "            Plotly.purge(gd);\n",
       "            observer.disconnect();\n",
       "        }}\n",
       "}});\n",
       "\n",
       "// Listen for the removal of the full notebook cells\n",
       "var notebookContainer = gd.closest('#notebook-container');\n",
       "if (notebookContainer) {{\n",
       "    x.observe(notebookContainer, {childList: true});\n",
       "}}\n",
       "\n",
       "// Listen for the clearing of the current output cell\n",
       "var outputEl = gd.closest('.output');\n",
       "if (outputEl) {{\n",
       "    x.observe(outputEl, {childList: true});\n",
       "}}\n",
       "\n",
       "                        })                };                });            </script>        </div>"
      ]
     },
     "metadata": {},
     "output_type": "display_data"
    }
   ],
   "source": [
    "fig3"
   ]
  },
  {
   "cell_type": "code",
   "execution_count": 17,
   "metadata": {},
   "outputs": [
    {
     "data": {
      "application/vnd.plotly.v1+json": {
       "config": {
        "plotlyServerURL": "https://plot.ly"
       },
       "data": [
        {
         "hovertemplate": "min. sup.(%)=%{x}<br>num of length 1 founded pattern =%{y}<extra></extra>",
         "legendgroup": "",
         "marker": {
          "color": "#636efa",
          "symbol": "circle"
         },
         "mode": "markers",
         "name": "",
         "orientation": "v",
         "showlegend": false,
         "type": "scatter",
         "x": [
          0.01,
          0.05,
          0.1,
          0.15,
          0.2,
          0.25,
          0.3,
          0.35,
          0.4,
          0.45,
          0.5,
          0.55,
          0.6,
          0.65,
          0.7,
          0.75,
          0.8,
          0.85,
          0.9,
          0.95,
          1
         ],
         "xaxis": "x",
         "y": [
          98,
          137,
          91,
          72,
          65,
          54,
          50,
          39,
          34,
          28,
          25,
          22,
          21,
          21,
          20,
          18,
          16,
          16,
          15,
          14,
          11
         ],
         "yaxis": "y"
        }
       ],
       "layout": {
        "height": 400,
        "legend": {
         "tracegroupgap": 0
        },
        "margin": {
         "t": 60
        },
        "template": {
         "data": {
          "bar": [
           {
            "error_x": {
             "color": "#2a3f5f"
            },
            "error_y": {
             "color": "#2a3f5f"
            },
            "marker": {
             "line": {
              "color": "#E5ECF6",
              "width": 0.5
             },
             "pattern": {
              "fillmode": "overlay",
              "size": 10,
              "solidity": 0.2
             }
            },
            "type": "bar"
           }
          ],
          "barpolar": [
           {
            "marker": {
             "line": {
              "color": "#E5ECF6",
              "width": 0.5
             },
             "pattern": {
              "fillmode": "overlay",
              "size": 10,
              "solidity": 0.2
             }
            },
            "type": "barpolar"
           }
          ],
          "carpet": [
           {
            "aaxis": {
             "endlinecolor": "#2a3f5f",
             "gridcolor": "white",
             "linecolor": "white",
             "minorgridcolor": "white",
             "startlinecolor": "#2a3f5f"
            },
            "baxis": {
             "endlinecolor": "#2a3f5f",
             "gridcolor": "white",
             "linecolor": "white",
             "minorgridcolor": "white",
             "startlinecolor": "#2a3f5f"
            },
            "type": "carpet"
           }
          ],
          "choropleth": [
           {
            "colorbar": {
             "outlinewidth": 0,
             "ticks": ""
            },
            "type": "choropleth"
           }
          ],
          "contour": [
           {
            "colorbar": {
             "outlinewidth": 0,
             "ticks": ""
            },
            "colorscale": [
             [
              0,
              "#0d0887"
             ],
             [
              0.1111111111111111,
              "#46039f"
             ],
             [
              0.2222222222222222,
              "#7201a8"
             ],
             [
              0.3333333333333333,
              "#9c179e"
             ],
             [
              0.4444444444444444,
              "#bd3786"
             ],
             [
              0.5555555555555556,
              "#d8576b"
             ],
             [
              0.6666666666666666,
              "#ed7953"
             ],
             [
              0.7777777777777778,
              "#fb9f3a"
             ],
             [
              0.8888888888888888,
              "#fdca26"
             ],
             [
              1,
              "#f0f921"
             ]
            ],
            "type": "contour"
           }
          ],
          "contourcarpet": [
           {
            "colorbar": {
             "outlinewidth": 0,
             "ticks": ""
            },
            "type": "contourcarpet"
           }
          ],
          "heatmap": [
           {
            "colorbar": {
             "outlinewidth": 0,
             "ticks": ""
            },
            "colorscale": [
             [
              0,
              "#0d0887"
             ],
             [
              0.1111111111111111,
              "#46039f"
             ],
             [
              0.2222222222222222,
              "#7201a8"
             ],
             [
              0.3333333333333333,
              "#9c179e"
             ],
             [
              0.4444444444444444,
              "#bd3786"
             ],
             [
              0.5555555555555556,
              "#d8576b"
             ],
             [
              0.6666666666666666,
              "#ed7953"
             ],
             [
              0.7777777777777778,
              "#fb9f3a"
             ],
             [
              0.8888888888888888,
              "#fdca26"
             ],
             [
              1,
              "#f0f921"
             ]
            ],
            "type": "heatmap"
           }
          ],
          "heatmapgl": [
           {
            "colorbar": {
             "outlinewidth": 0,
             "ticks": ""
            },
            "colorscale": [
             [
              0,
              "#0d0887"
             ],
             [
              0.1111111111111111,
              "#46039f"
             ],
             [
              0.2222222222222222,
              "#7201a8"
             ],
             [
              0.3333333333333333,
              "#9c179e"
             ],
             [
              0.4444444444444444,
              "#bd3786"
             ],
             [
              0.5555555555555556,
              "#d8576b"
             ],
             [
              0.6666666666666666,
              "#ed7953"
             ],
             [
              0.7777777777777778,
              "#fb9f3a"
             ],
             [
              0.8888888888888888,
              "#fdca26"
             ],
             [
              1,
              "#f0f921"
             ]
            ],
            "type": "heatmapgl"
           }
          ],
          "histogram": [
           {
            "marker": {
             "pattern": {
              "fillmode": "overlay",
              "size": 10,
              "solidity": 0.2
             }
            },
            "type": "histogram"
           }
          ],
          "histogram2d": [
           {
            "colorbar": {
             "outlinewidth": 0,
             "ticks": ""
            },
            "colorscale": [
             [
              0,
              "#0d0887"
             ],
             [
              0.1111111111111111,
              "#46039f"
             ],
             [
              0.2222222222222222,
              "#7201a8"
             ],
             [
              0.3333333333333333,
              "#9c179e"
             ],
             [
              0.4444444444444444,
              "#bd3786"
             ],
             [
              0.5555555555555556,
              "#d8576b"
             ],
             [
              0.6666666666666666,
              "#ed7953"
             ],
             [
              0.7777777777777778,
              "#fb9f3a"
             ],
             [
              0.8888888888888888,
              "#fdca26"
             ],
             [
              1,
              "#f0f921"
             ]
            ],
            "type": "histogram2d"
           }
          ],
          "histogram2dcontour": [
           {
            "colorbar": {
             "outlinewidth": 0,
             "ticks": ""
            },
            "colorscale": [
             [
              0,
              "#0d0887"
             ],
             [
              0.1111111111111111,
              "#46039f"
             ],
             [
              0.2222222222222222,
              "#7201a8"
             ],
             [
              0.3333333333333333,
              "#9c179e"
             ],
             [
              0.4444444444444444,
              "#bd3786"
             ],
             [
              0.5555555555555556,
              "#d8576b"
             ],
             [
              0.6666666666666666,
              "#ed7953"
             ],
             [
              0.7777777777777778,
              "#fb9f3a"
             ],
             [
              0.8888888888888888,
              "#fdca26"
             ],
             [
              1,
              "#f0f921"
             ]
            ],
            "type": "histogram2dcontour"
           }
          ],
          "mesh3d": [
           {
            "colorbar": {
             "outlinewidth": 0,
             "ticks": ""
            },
            "type": "mesh3d"
           }
          ],
          "parcoords": [
           {
            "line": {
             "colorbar": {
              "outlinewidth": 0,
              "ticks": ""
             }
            },
            "type": "parcoords"
           }
          ],
          "pie": [
           {
            "automargin": true,
            "type": "pie"
           }
          ],
          "scatter": [
           {
            "marker": {
             "colorbar": {
              "outlinewidth": 0,
              "ticks": ""
             }
            },
            "type": "scatter"
           }
          ],
          "scatter3d": [
           {
            "line": {
             "colorbar": {
              "outlinewidth": 0,
              "ticks": ""
             }
            },
            "marker": {
             "colorbar": {
              "outlinewidth": 0,
              "ticks": ""
             }
            },
            "type": "scatter3d"
           }
          ],
          "scattercarpet": [
           {
            "marker": {
             "colorbar": {
              "outlinewidth": 0,
              "ticks": ""
             }
            },
            "type": "scattercarpet"
           }
          ],
          "scattergeo": [
           {
            "marker": {
             "colorbar": {
              "outlinewidth": 0,
              "ticks": ""
             }
            },
            "type": "scattergeo"
           }
          ],
          "scattergl": [
           {
            "marker": {
             "colorbar": {
              "outlinewidth": 0,
              "ticks": ""
             }
            },
            "type": "scattergl"
           }
          ],
          "scattermapbox": [
           {
            "marker": {
             "colorbar": {
              "outlinewidth": 0,
              "ticks": ""
             }
            },
            "type": "scattermapbox"
           }
          ],
          "scatterpolar": [
           {
            "marker": {
             "colorbar": {
              "outlinewidth": 0,
              "ticks": ""
             }
            },
            "type": "scatterpolar"
           }
          ],
          "scatterpolargl": [
           {
            "marker": {
             "colorbar": {
              "outlinewidth": 0,
              "ticks": ""
             }
            },
            "type": "scatterpolargl"
           }
          ],
          "scatterternary": [
           {
            "marker": {
             "colorbar": {
              "outlinewidth": 0,
              "ticks": ""
             }
            },
            "type": "scatterternary"
           }
          ],
          "surface": [
           {
            "colorbar": {
             "outlinewidth": 0,
             "ticks": ""
            },
            "colorscale": [
             [
              0,
              "#0d0887"
             ],
             [
              0.1111111111111111,
              "#46039f"
             ],
             [
              0.2222222222222222,
              "#7201a8"
             ],
             [
              0.3333333333333333,
              "#9c179e"
             ],
             [
              0.4444444444444444,
              "#bd3786"
             ],
             [
              0.5555555555555556,
              "#d8576b"
             ],
             [
              0.6666666666666666,
              "#ed7953"
             ],
             [
              0.7777777777777778,
              "#fb9f3a"
             ],
             [
              0.8888888888888888,
              "#fdca26"
             ],
             [
              1,
              "#f0f921"
             ]
            ],
            "type": "surface"
           }
          ],
          "table": [
           {
            "cells": {
             "fill": {
              "color": "#EBF0F8"
             },
             "line": {
              "color": "white"
             }
            },
            "header": {
             "fill": {
              "color": "#C8D4E3"
             },
             "line": {
              "color": "white"
             }
            },
            "type": "table"
           }
          ]
         },
         "layout": {
          "annotationdefaults": {
           "arrowcolor": "#2a3f5f",
           "arrowhead": 0,
           "arrowwidth": 1
          },
          "autotypenumbers": "strict",
          "coloraxis": {
           "colorbar": {
            "outlinewidth": 0,
            "ticks": ""
           }
          },
          "colorscale": {
           "diverging": [
            [
             0,
             "#8e0152"
            ],
            [
             0.1,
             "#c51b7d"
            ],
            [
             0.2,
             "#de77ae"
            ],
            [
             0.3,
             "#f1b6da"
            ],
            [
             0.4,
             "#fde0ef"
            ],
            [
             0.5,
             "#f7f7f7"
            ],
            [
             0.6,
             "#e6f5d0"
            ],
            [
             0.7,
             "#b8e186"
            ],
            [
             0.8,
             "#7fbc41"
            ],
            [
             0.9,
             "#4d9221"
            ],
            [
             1,
             "#276419"
            ]
           ],
           "sequential": [
            [
             0,
             "#0d0887"
            ],
            [
             0.1111111111111111,
             "#46039f"
            ],
            [
             0.2222222222222222,
             "#7201a8"
            ],
            [
             0.3333333333333333,
             "#9c179e"
            ],
            [
             0.4444444444444444,
             "#bd3786"
            ],
            [
             0.5555555555555556,
             "#d8576b"
            ],
            [
             0.6666666666666666,
             "#ed7953"
            ],
            [
             0.7777777777777778,
             "#fb9f3a"
            ],
            [
             0.8888888888888888,
             "#fdca26"
            ],
            [
             1,
             "#f0f921"
            ]
           ],
           "sequentialminus": [
            [
             0,
             "#0d0887"
            ],
            [
             0.1111111111111111,
             "#46039f"
            ],
            [
             0.2222222222222222,
             "#7201a8"
            ],
            [
             0.3333333333333333,
             "#9c179e"
            ],
            [
             0.4444444444444444,
             "#bd3786"
            ],
            [
             0.5555555555555556,
             "#d8576b"
            ],
            [
             0.6666666666666666,
             "#ed7953"
            ],
            [
             0.7777777777777778,
             "#fb9f3a"
            ],
            [
             0.8888888888888888,
             "#fdca26"
            ],
            [
             1,
             "#f0f921"
            ]
           ]
          },
          "colorway": [
           "#636efa",
           "#EF553B",
           "#00cc96",
           "#ab63fa",
           "#FFA15A",
           "#19d3f3",
           "#FF6692",
           "#B6E880",
           "#FF97FF",
           "#FECB52"
          ],
          "font": {
           "color": "#2a3f5f"
          },
          "geo": {
           "bgcolor": "white",
           "lakecolor": "white",
           "landcolor": "#E5ECF6",
           "showlakes": true,
           "showland": true,
           "subunitcolor": "white"
          },
          "hoverlabel": {
           "align": "left"
          },
          "hovermode": "closest",
          "mapbox": {
           "style": "light"
          },
          "paper_bgcolor": "white",
          "plot_bgcolor": "#E5ECF6",
          "polar": {
           "angularaxis": {
            "gridcolor": "white",
            "linecolor": "white",
            "ticks": ""
           },
           "bgcolor": "#E5ECF6",
           "radialaxis": {
            "gridcolor": "white",
            "linecolor": "white",
            "ticks": ""
           }
          },
          "scene": {
           "xaxis": {
            "backgroundcolor": "#E5ECF6",
            "gridcolor": "white",
            "gridwidth": 2,
            "linecolor": "white",
            "showbackground": true,
            "ticks": "",
            "zerolinecolor": "white"
           },
           "yaxis": {
            "backgroundcolor": "#E5ECF6",
            "gridcolor": "white",
            "gridwidth": 2,
            "linecolor": "white",
            "showbackground": true,
            "ticks": "",
            "zerolinecolor": "white"
           },
           "zaxis": {
            "backgroundcolor": "#E5ECF6",
            "gridcolor": "white",
            "gridwidth": 2,
            "linecolor": "white",
            "showbackground": true,
            "ticks": "",
            "zerolinecolor": "white"
           }
          },
          "shapedefaults": {
           "line": {
            "color": "#2a3f5f"
           }
          },
          "ternary": {
           "aaxis": {
            "gridcolor": "white",
            "linecolor": "white",
            "ticks": ""
           },
           "baxis": {
            "gridcolor": "white",
            "linecolor": "white",
            "ticks": ""
           },
           "bgcolor": "#E5ECF6",
           "caxis": {
            "gridcolor": "white",
            "linecolor": "white",
            "ticks": ""
           }
          },
          "title": {
           "x": 0.05
          },
          "xaxis": {
           "automargin": true,
           "gridcolor": "white",
           "linecolor": "white",
           "ticks": "",
           "title": {
            "standoff": 15
           },
           "zerolinecolor": "white",
           "zerolinewidth": 2
          },
          "yaxis": {
           "automargin": true,
           "gridcolor": "white",
           "linecolor": "white",
           "ticks": "",
           "title": {
            "standoff": 15
           },
           "zerolinecolor": "white",
           "zerolinewidth": 2
          }
         }
        },
        "width": 625,
        "xaxis": {
         "anchor": "y",
         "domain": [
          0,
          1
         ],
         "title": {
          "text": "min. sup.(%)"
         }
        },
        "yaxis": {
         "anchor": "x",
         "domain": [
          0,
          1
         ],
         "title": {
          "text": "num of length 1 founded pattern "
         }
        }
       }
      },
      "text/html": [
       "<div>                            <div id=\"6d013461-147c-42f1-9459-6f504962bd15\" class=\"plotly-graph-div\" style=\"height:400px; width:625px;\"></div>            <script type=\"text/javascript\">                require([\"plotly\"], function(Plotly) {                    window.PLOTLYENV=window.PLOTLYENV || {};                                    if (document.getElementById(\"6d013461-147c-42f1-9459-6f504962bd15\")) {                    Plotly.newPlot(                        \"6d013461-147c-42f1-9459-6f504962bd15\",                        [{\"hovertemplate\":\"min. sup.(%)=%{x}<br>num of length 1 founded pattern =%{y}<extra></extra>\",\"legendgroup\":\"\",\"marker\":{\"color\":\"#636efa\",\"symbol\":\"circle\"},\"mode\":\"markers\",\"name\":\"\",\"orientation\":\"v\",\"showlegend\":false,\"type\":\"scatter\",\"x\":[0.01,0.05,0.1,0.15,0.2,0.25,0.3,0.35,0.4,0.45,0.5,0.55,0.6,0.65,0.7,0.75,0.8,0.85,0.9,0.95,1.0],\"xaxis\":\"x\",\"y\":[98.0,137.0,91.0,72.0,65.0,54.0,50.0,39.0,34.0,28.0,25.0,22.0,21.0,21.0,20.0,18.0,16.0,16.0,15.0,14.0,11.0],\"yaxis\":\"y\"}],                        {\"height\":400,\"legend\":{\"tracegroupgap\":0},\"margin\":{\"t\":60},\"template\":{\"data\":{\"bar\":[{\"error_x\":{\"color\":\"#2a3f5f\"},\"error_y\":{\"color\":\"#2a3f5f\"},\"marker\":{\"line\":{\"color\":\"#E5ECF6\",\"width\":0.5},\"pattern\":{\"fillmode\":\"overlay\",\"size\":10,\"solidity\":0.2}},\"type\":\"bar\"}],\"barpolar\":[{\"marker\":{\"line\":{\"color\":\"#E5ECF6\",\"width\":0.5},\"pattern\":{\"fillmode\":\"overlay\",\"size\":10,\"solidity\":0.2}},\"type\":\"barpolar\"}],\"carpet\":[{\"aaxis\":{\"endlinecolor\":\"#2a3f5f\",\"gridcolor\":\"white\",\"linecolor\":\"white\",\"minorgridcolor\":\"white\",\"startlinecolor\":\"#2a3f5f\"},\"baxis\":{\"endlinecolor\":\"#2a3f5f\",\"gridcolor\":\"white\",\"linecolor\":\"white\",\"minorgridcolor\":\"white\",\"startlinecolor\":\"#2a3f5f\"},\"type\":\"carpet\"}],\"choropleth\":[{\"colorbar\":{\"outlinewidth\":0,\"ticks\":\"\"},\"type\":\"choropleth\"}],\"contour\":[{\"colorbar\":{\"outlinewidth\":0,\"ticks\":\"\"},\"colorscale\":[[0.0,\"#0d0887\"],[0.1111111111111111,\"#46039f\"],[0.2222222222222222,\"#7201a8\"],[0.3333333333333333,\"#9c179e\"],[0.4444444444444444,\"#bd3786\"],[0.5555555555555556,\"#d8576b\"],[0.6666666666666666,\"#ed7953\"],[0.7777777777777778,\"#fb9f3a\"],[0.8888888888888888,\"#fdca26\"],[1.0,\"#f0f921\"]],\"type\":\"contour\"}],\"contourcarpet\":[{\"colorbar\":{\"outlinewidth\":0,\"ticks\":\"\"},\"type\":\"contourcarpet\"}],\"heatmap\":[{\"colorbar\":{\"outlinewidth\":0,\"ticks\":\"\"},\"colorscale\":[[0.0,\"#0d0887\"],[0.1111111111111111,\"#46039f\"],[0.2222222222222222,\"#7201a8\"],[0.3333333333333333,\"#9c179e\"],[0.4444444444444444,\"#bd3786\"],[0.5555555555555556,\"#d8576b\"],[0.6666666666666666,\"#ed7953\"],[0.7777777777777778,\"#fb9f3a\"],[0.8888888888888888,\"#fdca26\"],[1.0,\"#f0f921\"]],\"type\":\"heatmap\"}],\"heatmapgl\":[{\"colorbar\":{\"outlinewidth\":0,\"ticks\":\"\"},\"colorscale\":[[0.0,\"#0d0887\"],[0.1111111111111111,\"#46039f\"],[0.2222222222222222,\"#7201a8\"],[0.3333333333333333,\"#9c179e\"],[0.4444444444444444,\"#bd3786\"],[0.5555555555555556,\"#d8576b\"],[0.6666666666666666,\"#ed7953\"],[0.7777777777777778,\"#fb9f3a\"],[0.8888888888888888,\"#fdca26\"],[1.0,\"#f0f921\"]],\"type\":\"heatmapgl\"}],\"histogram\":[{\"marker\":{\"pattern\":{\"fillmode\":\"overlay\",\"size\":10,\"solidity\":0.2}},\"type\":\"histogram\"}],\"histogram2d\":[{\"colorbar\":{\"outlinewidth\":0,\"ticks\":\"\"},\"colorscale\":[[0.0,\"#0d0887\"],[0.1111111111111111,\"#46039f\"],[0.2222222222222222,\"#7201a8\"],[0.3333333333333333,\"#9c179e\"],[0.4444444444444444,\"#bd3786\"],[0.5555555555555556,\"#d8576b\"],[0.6666666666666666,\"#ed7953\"],[0.7777777777777778,\"#fb9f3a\"],[0.8888888888888888,\"#fdca26\"],[1.0,\"#f0f921\"]],\"type\":\"histogram2d\"}],\"histogram2dcontour\":[{\"colorbar\":{\"outlinewidth\":0,\"ticks\":\"\"},\"colorscale\":[[0.0,\"#0d0887\"],[0.1111111111111111,\"#46039f\"],[0.2222222222222222,\"#7201a8\"],[0.3333333333333333,\"#9c179e\"],[0.4444444444444444,\"#bd3786\"],[0.5555555555555556,\"#d8576b\"],[0.6666666666666666,\"#ed7953\"],[0.7777777777777778,\"#fb9f3a\"],[0.8888888888888888,\"#fdca26\"],[1.0,\"#f0f921\"]],\"type\":\"histogram2dcontour\"}],\"mesh3d\":[{\"colorbar\":{\"outlinewidth\":0,\"ticks\":\"\"},\"type\":\"mesh3d\"}],\"parcoords\":[{\"line\":{\"colorbar\":{\"outlinewidth\":0,\"ticks\":\"\"}},\"type\":\"parcoords\"}],\"pie\":[{\"automargin\":true,\"type\":\"pie\"}],\"scatter\":[{\"marker\":{\"colorbar\":{\"outlinewidth\":0,\"ticks\":\"\"}},\"type\":\"scatter\"}],\"scatter3d\":[{\"line\":{\"colorbar\":{\"outlinewidth\":0,\"ticks\":\"\"}},\"marker\":{\"colorbar\":{\"outlinewidth\":0,\"ticks\":\"\"}},\"type\":\"scatter3d\"}],\"scattercarpet\":[{\"marker\":{\"colorbar\":{\"outlinewidth\":0,\"ticks\":\"\"}},\"type\":\"scattercarpet\"}],\"scattergeo\":[{\"marker\":{\"colorbar\":{\"outlinewidth\":0,\"ticks\":\"\"}},\"type\":\"scattergeo\"}],\"scattergl\":[{\"marker\":{\"colorbar\":{\"outlinewidth\":0,\"ticks\":\"\"}},\"type\":\"scattergl\"}],\"scattermapbox\":[{\"marker\":{\"colorbar\":{\"outlinewidth\":0,\"ticks\":\"\"}},\"type\":\"scattermapbox\"}],\"scatterpolar\":[{\"marker\":{\"colorbar\":{\"outlinewidth\":0,\"ticks\":\"\"}},\"type\":\"scatterpolar\"}],\"scatterpolargl\":[{\"marker\":{\"colorbar\":{\"outlinewidth\":0,\"ticks\":\"\"}},\"type\":\"scatterpolargl\"}],\"scatterternary\":[{\"marker\":{\"colorbar\":{\"outlinewidth\":0,\"ticks\":\"\"}},\"type\":\"scatterternary\"}],\"surface\":[{\"colorbar\":{\"outlinewidth\":0,\"ticks\":\"\"},\"colorscale\":[[0.0,\"#0d0887\"],[0.1111111111111111,\"#46039f\"],[0.2222222222222222,\"#7201a8\"],[0.3333333333333333,\"#9c179e\"],[0.4444444444444444,\"#bd3786\"],[0.5555555555555556,\"#d8576b\"],[0.6666666666666666,\"#ed7953\"],[0.7777777777777778,\"#fb9f3a\"],[0.8888888888888888,\"#fdca26\"],[1.0,\"#f0f921\"]],\"type\":\"surface\"}],\"table\":[{\"cells\":{\"fill\":{\"color\":\"#EBF0F8\"},\"line\":{\"color\":\"white\"}},\"header\":{\"fill\":{\"color\":\"#C8D4E3\"},\"line\":{\"color\":\"white\"}},\"type\":\"table\"}]},\"layout\":{\"annotationdefaults\":{\"arrowcolor\":\"#2a3f5f\",\"arrowhead\":0,\"arrowwidth\":1},\"autotypenumbers\":\"strict\",\"coloraxis\":{\"colorbar\":{\"outlinewidth\":0,\"ticks\":\"\"}},\"colorscale\":{\"diverging\":[[0,\"#8e0152\"],[0.1,\"#c51b7d\"],[0.2,\"#de77ae\"],[0.3,\"#f1b6da\"],[0.4,\"#fde0ef\"],[0.5,\"#f7f7f7\"],[0.6,\"#e6f5d0\"],[0.7,\"#b8e186\"],[0.8,\"#7fbc41\"],[0.9,\"#4d9221\"],[1,\"#276419\"]],\"sequential\":[[0.0,\"#0d0887\"],[0.1111111111111111,\"#46039f\"],[0.2222222222222222,\"#7201a8\"],[0.3333333333333333,\"#9c179e\"],[0.4444444444444444,\"#bd3786\"],[0.5555555555555556,\"#d8576b\"],[0.6666666666666666,\"#ed7953\"],[0.7777777777777778,\"#fb9f3a\"],[0.8888888888888888,\"#fdca26\"],[1.0,\"#f0f921\"]],\"sequentialminus\":[[0.0,\"#0d0887\"],[0.1111111111111111,\"#46039f\"],[0.2222222222222222,\"#7201a8\"],[0.3333333333333333,\"#9c179e\"],[0.4444444444444444,\"#bd3786\"],[0.5555555555555556,\"#d8576b\"],[0.6666666666666666,\"#ed7953\"],[0.7777777777777778,\"#fb9f3a\"],[0.8888888888888888,\"#fdca26\"],[1.0,\"#f0f921\"]]},\"colorway\":[\"#636efa\",\"#EF553B\",\"#00cc96\",\"#ab63fa\",\"#FFA15A\",\"#19d3f3\",\"#FF6692\",\"#B6E880\",\"#FF97FF\",\"#FECB52\"],\"font\":{\"color\":\"#2a3f5f\"},\"geo\":{\"bgcolor\":\"white\",\"lakecolor\":\"white\",\"landcolor\":\"#E5ECF6\",\"showlakes\":true,\"showland\":true,\"subunitcolor\":\"white\"},\"hoverlabel\":{\"align\":\"left\"},\"hovermode\":\"closest\",\"mapbox\":{\"style\":\"light\"},\"paper_bgcolor\":\"white\",\"plot_bgcolor\":\"#E5ECF6\",\"polar\":{\"angularaxis\":{\"gridcolor\":\"white\",\"linecolor\":\"white\",\"ticks\":\"\"},\"bgcolor\":\"#E5ECF6\",\"radialaxis\":{\"gridcolor\":\"white\",\"linecolor\":\"white\",\"ticks\":\"\"}},\"scene\":{\"xaxis\":{\"backgroundcolor\":\"#E5ECF6\",\"gridcolor\":\"white\",\"gridwidth\":2,\"linecolor\":\"white\",\"showbackground\":true,\"ticks\":\"\",\"zerolinecolor\":\"white\"},\"yaxis\":{\"backgroundcolor\":\"#E5ECF6\",\"gridcolor\":\"white\",\"gridwidth\":2,\"linecolor\":\"white\",\"showbackground\":true,\"ticks\":\"\",\"zerolinecolor\":\"white\"},\"zaxis\":{\"backgroundcolor\":\"#E5ECF6\",\"gridcolor\":\"white\",\"gridwidth\":2,\"linecolor\":\"white\",\"showbackground\":true,\"ticks\":\"\",\"zerolinecolor\":\"white\"}},\"shapedefaults\":{\"line\":{\"color\":\"#2a3f5f\"}},\"ternary\":{\"aaxis\":{\"gridcolor\":\"white\",\"linecolor\":\"white\",\"ticks\":\"\"},\"baxis\":{\"gridcolor\":\"white\",\"linecolor\":\"white\",\"ticks\":\"\"},\"bgcolor\":\"#E5ECF6\",\"caxis\":{\"gridcolor\":\"white\",\"linecolor\":\"white\",\"ticks\":\"\"}},\"title\":{\"x\":0.05},\"xaxis\":{\"automargin\":true,\"gridcolor\":\"white\",\"linecolor\":\"white\",\"ticks\":\"\",\"title\":{\"standoff\":15},\"zerolinecolor\":\"white\",\"zerolinewidth\":2},\"yaxis\":{\"automargin\":true,\"gridcolor\":\"white\",\"linecolor\":\"white\",\"ticks\":\"\",\"title\":{\"standoff\":15},\"zerolinecolor\":\"white\",\"zerolinewidth\":2}}},\"width\":625,\"xaxis\":{\"anchor\":\"y\",\"domain\":[0.0,1.0],\"title\":{\"text\":\"min. sup.(%)\"}},\"yaxis\":{\"anchor\":\"x\",\"domain\":[0.0,1.0],\"title\":{\"text\":\"num of length 1 founded pattern \"}}},                        {\"responsive\": true}                    ).then(function(){\n",
       "                            \n",
       "var gd = document.getElementById('6d013461-147c-42f1-9459-6f504962bd15');\n",
       "var x = new MutationObserver(function (mutations, observer) {{\n",
       "        var display = window.getComputedStyle(gd).display;\n",
       "        if (!display || display === 'none') {{\n",
       "            console.log([gd, 'removed!']);\n",
       "            Plotly.purge(gd);\n",
       "            observer.disconnect();\n",
       "        }}\n",
       "}});\n",
       "\n",
       "// Listen for the removal of the full notebook cells\n",
       "var notebookContainer = gd.closest('#notebook-container');\n",
       "if (notebookContainer) {{\n",
       "    x.observe(notebookContainer, {childList: true});\n",
       "}}\n",
       "\n",
       "// Listen for the clearing of the current output cell\n",
       "var outputEl = gd.closest('.output');\n",
       "if (outputEl) {{\n",
       "    x.observe(outputEl, {childList: true});\n",
       "}}\n",
       "\n",
       "                        })                };                });            </script>        </div>"
      ]
     },
     "metadata": {},
     "output_type": "display_data"
    }
   ],
   "source": [
    "fig4"
   ]
  },
  {
   "cell_type": "code",
   "execution_count": 16,
   "metadata": {},
   "outputs": [],
   "source": [
    "figure1 =px.scatter(tunning_results,x='min. sup.(%)', y='num of frequent patterns founded',title = 'Number of frequent patterns')\n",
    "figure2 =px.scatter(tunning_results,x='min. sup.(%)', y='max length of founded pattern',title = 'length of longest pattern')\n",
    "figure3 = px.scatter(tunning_results,x='min. sup.(%)', y='num of length 1 founded pattern ',title='Number of patters of length 1')\n",
    "\n",
    "\n",
    "figure1_traces = []\n",
    "figure2_traces = []\n",
    "figure3_traces = []\n",
    "for trace in range(len(figure1[\"data\"])):\n",
    "    figure1_traces.append(figure1[\"data\"][trace])\n",
    "for trace in range(len(figure2[\"data\"])):\n",
    "    figure2_traces.append(figure2[\"data\"][trace])\n",
    "for trace in range(len(figure3[\"data\"])):\n",
    "    figure3_traces.append(figure3[\"data\"][trace]) \n",
    "#Create a 1x2 subplot\n",
    "this_figure = sp.make_subplots(rows=2, cols=2) \n",
    "\n",
    "# Get the Express fig broken down as traces and add the traces to the proper plot within in the subplot\n",
    "for traces in figure1_traces:\n",
    "    this_figure.append_trace(traces, row=1, col=1)\n",
    "for traces in figure2_traces:\n",
    "    this_figure.append_trace(traces, row=1, col=2)\n",
    "for traces in figure3_traces:\n",
    "    this_figure.append_trace(traces, row=2, col=1)\n",
    "\n",
    "#the subplot as shown in the above ima"
   ]
  },
  {
   "cell_type": "code",
   "execution_count": 17,
   "metadata": {},
   "outputs": [
    {
     "data": {
      "application/vnd.plotly.v1+json": {
       "config": {
        "plotlyServerURL": "https://plot.ly"
       },
       "data": [
        {
         "hovertemplate": "min. sup.(%)=%{x}<br>num of frequent patterns founded=%{y}<extra></extra>",
         "legendgroup": "",
         "marker": {
          "color": "#636efa",
          "symbol": "circle"
         },
         "mode": "markers",
         "name": "",
         "orientation": "v",
         "showlegend": false,
         "type": "scatter",
         "x": [
          0.005,
          0.01,
          0.05,
          0.1,
          0.15,
          0.2,
          0.25,
          0.3,
          0.35,
          0.4,
          0.45,
          0.5,
          0.55,
          0.6,
          0.65,
          0.7,
          0.75,
          0.8,
          0.85,
          0.9,
          0.95,
          1,
          1.5,
          2,
          2.5,
          3
         ],
         "xaxis": "x",
         "y": [
          24733,
          9850,
          1428,
          686,
          426,
          320,
          251,
          215,
          197,
          175,
          163,
          150,
          133,
          121,
          113,
          109,
          107,
          105,
          95,
          81,
          77,
          71,
          47,
          36,
          29,
          28
         ],
         "yaxis": "y"
        },
        {
         "hovertemplate": "min. sup.(%)=%{x}<br>max length of founded pattern=%{y}<extra></extra>",
         "legendgroup": "",
         "marker": {
          "color": "#636efa",
          "symbol": "circle"
         },
         "mode": "markers",
         "name": "",
         "orientation": "v",
         "showlegend": false,
         "type": "scatter",
         "x": [
          0.005,
          0.01,
          0.05,
          0.1,
          0.15,
          0.2,
          0.25,
          0.3,
          0.35,
          0.4,
          0.45,
          0.5,
          0.55,
          0.6,
          0.65,
          0.7,
          0.75,
          0.8,
          0.85,
          0.9,
          0.95,
          1,
          1.5,
          2,
          2.5,
          3
         ],
         "xaxis": "x2",
         "y": [
          11,
          10,
          7,
          6,
          5,
          5,
          5,
          5,
          4,
          4,
          4,
          4,
          4,
          4,
          4,
          4,
          3,
          3,
          3,
          3,
          3,
          3,
          3,
          3,
          3,
          2
         ],
         "yaxis": "y2"
        },
        {
         "hovertemplate": "min. sup.(%)=%{x}<br>num of length 1 founded pattern =%{y}<extra></extra>",
         "legendgroup": "",
         "marker": {
          "color": "#636efa",
          "symbol": "circle"
         },
         "mode": "markers",
         "name": "",
         "orientation": "v",
         "showlegend": false,
         "type": "scatter",
         "x": [
          0.005,
          0.01,
          0.05,
          0.1,
          0.15,
          0.2,
          0.25,
          0.3,
          0.35,
          0.4,
          0.45,
          0.5,
          0.55,
          0.6,
          0.65,
          0.7,
          0.75,
          0.8,
          0.85,
          0.9,
          0.95,
          1,
          1.5,
          2,
          2.5,
          3
         ],
         "xaxis": "x3",
         "y": [
          0,
          0,
          1,
          0,
          0,
          0,
          0,
          0,
          0,
          0,
          0,
          0,
          0,
          0,
          0,
          0,
          0,
          0,
          0,
          0,
          0,
          0,
          3,
          5,
          6,
          7
         ],
         "yaxis": "y3"
        }
       ],
       "layout": {
        "template": {
         "data": {
          "bar": [
           {
            "error_x": {
             "color": "#2a3f5f"
            },
            "error_y": {
             "color": "#2a3f5f"
            },
            "marker": {
             "line": {
              "color": "#E5ECF6",
              "width": 0.5
             },
             "pattern": {
              "fillmode": "overlay",
              "size": 10,
              "solidity": 0.2
             }
            },
            "type": "bar"
           }
          ],
          "barpolar": [
           {
            "marker": {
             "line": {
              "color": "#E5ECF6",
              "width": 0.5
             },
             "pattern": {
              "fillmode": "overlay",
              "size": 10,
              "solidity": 0.2
             }
            },
            "type": "barpolar"
           }
          ],
          "carpet": [
           {
            "aaxis": {
             "endlinecolor": "#2a3f5f",
             "gridcolor": "white",
             "linecolor": "white",
             "minorgridcolor": "white",
             "startlinecolor": "#2a3f5f"
            },
            "baxis": {
             "endlinecolor": "#2a3f5f",
             "gridcolor": "white",
             "linecolor": "white",
             "minorgridcolor": "white",
             "startlinecolor": "#2a3f5f"
            },
            "type": "carpet"
           }
          ],
          "choropleth": [
           {
            "colorbar": {
             "outlinewidth": 0,
             "ticks": ""
            },
            "type": "choropleth"
           }
          ],
          "contour": [
           {
            "colorbar": {
             "outlinewidth": 0,
             "ticks": ""
            },
            "colorscale": [
             [
              0,
              "#0d0887"
             ],
             [
              0.1111111111111111,
              "#46039f"
             ],
             [
              0.2222222222222222,
              "#7201a8"
             ],
             [
              0.3333333333333333,
              "#9c179e"
             ],
             [
              0.4444444444444444,
              "#bd3786"
             ],
             [
              0.5555555555555556,
              "#d8576b"
             ],
             [
              0.6666666666666666,
              "#ed7953"
             ],
             [
              0.7777777777777778,
              "#fb9f3a"
             ],
             [
              0.8888888888888888,
              "#fdca26"
             ],
             [
              1,
              "#f0f921"
             ]
            ],
            "type": "contour"
           }
          ],
          "contourcarpet": [
           {
            "colorbar": {
             "outlinewidth": 0,
             "ticks": ""
            },
            "type": "contourcarpet"
           }
          ],
          "heatmap": [
           {
            "colorbar": {
             "outlinewidth": 0,
             "ticks": ""
            },
            "colorscale": [
             [
              0,
              "#0d0887"
             ],
             [
              0.1111111111111111,
              "#46039f"
             ],
             [
              0.2222222222222222,
              "#7201a8"
             ],
             [
              0.3333333333333333,
              "#9c179e"
             ],
             [
              0.4444444444444444,
              "#bd3786"
             ],
             [
              0.5555555555555556,
              "#d8576b"
             ],
             [
              0.6666666666666666,
              "#ed7953"
             ],
             [
              0.7777777777777778,
              "#fb9f3a"
             ],
             [
              0.8888888888888888,
              "#fdca26"
             ],
             [
              1,
              "#f0f921"
             ]
            ],
            "type": "heatmap"
           }
          ],
          "heatmapgl": [
           {
            "colorbar": {
             "outlinewidth": 0,
             "ticks": ""
            },
            "colorscale": [
             [
              0,
              "#0d0887"
             ],
             [
              0.1111111111111111,
              "#46039f"
             ],
             [
              0.2222222222222222,
              "#7201a8"
             ],
             [
              0.3333333333333333,
              "#9c179e"
             ],
             [
              0.4444444444444444,
              "#bd3786"
             ],
             [
              0.5555555555555556,
              "#d8576b"
             ],
             [
              0.6666666666666666,
              "#ed7953"
             ],
             [
              0.7777777777777778,
              "#fb9f3a"
             ],
             [
              0.8888888888888888,
              "#fdca26"
             ],
             [
              1,
              "#f0f921"
             ]
            ],
            "type": "heatmapgl"
           }
          ],
          "histogram": [
           {
            "marker": {
             "pattern": {
              "fillmode": "overlay",
              "size": 10,
              "solidity": 0.2
             }
            },
            "type": "histogram"
           }
          ],
          "histogram2d": [
           {
            "colorbar": {
             "outlinewidth": 0,
             "ticks": ""
            },
            "colorscale": [
             [
              0,
              "#0d0887"
             ],
             [
              0.1111111111111111,
              "#46039f"
             ],
             [
              0.2222222222222222,
              "#7201a8"
             ],
             [
              0.3333333333333333,
              "#9c179e"
             ],
             [
              0.4444444444444444,
              "#bd3786"
             ],
             [
              0.5555555555555556,
              "#d8576b"
             ],
             [
              0.6666666666666666,
              "#ed7953"
             ],
             [
              0.7777777777777778,
              "#fb9f3a"
             ],
             [
              0.8888888888888888,
              "#fdca26"
             ],
             [
              1,
              "#f0f921"
             ]
            ],
            "type": "histogram2d"
           }
          ],
          "histogram2dcontour": [
           {
            "colorbar": {
             "outlinewidth": 0,
             "ticks": ""
            },
            "colorscale": [
             [
              0,
              "#0d0887"
             ],
             [
              0.1111111111111111,
              "#46039f"
             ],
             [
              0.2222222222222222,
              "#7201a8"
             ],
             [
              0.3333333333333333,
              "#9c179e"
             ],
             [
              0.4444444444444444,
              "#bd3786"
             ],
             [
              0.5555555555555556,
              "#d8576b"
             ],
             [
              0.6666666666666666,
              "#ed7953"
             ],
             [
              0.7777777777777778,
              "#fb9f3a"
             ],
             [
              0.8888888888888888,
              "#fdca26"
             ],
             [
              1,
              "#f0f921"
             ]
            ],
            "type": "histogram2dcontour"
           }
          ],
          "mesh3d": [
           {
            "colorbar": {
             "outlinewidth": 0,
             "ticks": ""
            },
            "type": "mesh3d"
           }
          ],
          "parcoords": [
           {
            "line": {
             "colorbar": {
              "outlinewidth": 0,
              "ticks": ""
             }
            },
            "type": "parcoords"
           }
          ],
          "pie": [
           {
            "automargin": true,
            "type": "pie"
           }
          ],
          "scatter": [
           {
            "marker": {
             "colorbar": {
              "outlinewidth": 0,
              "ticks": ""
             }
            },
            "type": "scatter"
           }
          ],
          "scatter3d": [
           {
            "line": {
             "colorbar": {
              "outlinewidth": 0,
              "ticks": ""
             }
            },
            "marker": {
             "colorbar": {
              "outlinewidth": 0,
              "ticks": ""
             }
            },
            "type": "scatter3d"
           }
          ],
          "scattercarpet": [
           {
            "marker": {
             "colorbar": {
              "outlinewidth": 0,
              "ticks": ""
             }
            },
            "type": "scattercarpet"
           }
          ],
          "scattergeo": [
           {
            "marker": {
             "colorbar": {
              "outlinewidth": 0,
              "ticks": ""
             }
            },
            "type": "scattergeo"
           }
          ],
          "scattergl": [
           {
            "marker": {
             "colorbar": {
              "outlinewidth": 0,
              "ticks": ""
             }
            },
            "type": "scattergl"
           }
          ],
          "scattermapbox": [
           {
            "marker": {
             "colorbar": {
              "outlinewidth": 0,
              "ticks": ""
             }
            },
            "type": "scattermapbox"
           }
          ],
          "scatterpolar": [
           {
            "marker": {
             "colorbar": {
              "outlinewidth": 0,
              "ticks": ""
             }
            },
            "type": "scatterpolar"
           }
          ],
          "scatterpolargl": [
           {
            "marker": {
             "colorbar": {
              "outlinewidth": 0,
              "ticks": ""
             }
            },
            "type": "scatterpolargl"
           }
          ],
          "scatterternary": [
           {
            "marker": {
             "colorbar": {
              "outlinewidth": 0,
              "ticks": ""
             }
            },
            "type": "scatterternary"
           }
          ],
          "surface": [
           {
            "colorbar": {
             "outlinewidth": 0,
             "ticks": ""
            },
            "colorscale": [
             [
              0,
              "#0d0887"
             ],
             [
              0.1111111111111111,
              "#46039f"
             ],
             [
              0.2222222222222222,
              "#7201a8"
             ],
             [
              0.3333333333333333,
              "#9c179e"
             ],
             [
              0.4444444444444444,
              "#bd3786"
             ],
             [
              0.5555555555555556,
              "#d8576b"
             ],
             [
              0.6666666666666666,
              "#ed7953"
             ],
             [
              0.7777777777777778,
              "#fb9f3a"
             ],
             [
              0.8888888888888888,
              "#fdca26"
             ],
             [
              1,
              "#f0f921"
             ]
            ],
            "type": "surface"
           }
          ],
          "table": [
           {
            "cells": {
             "fill": {
              "color": "#EBF0F8"
             },
             "line": {
              "color": "white"
             }
            },
            "header": {
             "fill": {
              "color": "#C8D4E3"
             },
             "line": {
              "color": "white"
             }
            },
            "type": "table"
           }
          ]
         },
         "layout": {
          "annotationdefaults": {
           "arrowcolor": "#2a3f5f",
           "arrowhead": 0,
           "arrowwidth": 1
          },
          "autotypenumbers": "strict",
          "coloraxis": {
           "colorbar": {
            "outlinewidth": 0,
            "ticks": ""
           }
          },
          "colorscale": {
           "diverging": [
            [
             0,
             "#8e0152"
            ],
            [
             0.1,
             "#c51b7d"
            ],
            [
             0.2,
             "#de77ae"
            ],
            [
             0.3,
             "#f1b6da"
            ],
            [
             0.4,
             "#fde0ef"
            ],
            [
             0.5,
             "#f7f7f7"
            ],
            [
             0.6,
             "#e6f5d0"
            ],
            [
             0.7,
             "#b8e186"
            ],
            [
             0.8,
             "#7fbc41"
            ],
            [
             0.9,
             "#4d9221"
            ],
            [
             1,
             "#276419"
            ]
           ],
           "sequential": [
            [
             0,
             "#0d0887"
            ],
            [
             0.1111111111111111,
             "#46039f"
            ],
            [
             0.2222222222222222,
             "#7201a8"
            ],
            [
             0.3333333333333333,
             "#9c179e"
            ],
            [
             0.4444444444444444,
             "#bd3786"
            ],
            [
             0.5555555555555556,
             "#d8576b"
            ],
            [
             0.6666666666666666,
             "#ed7953"
            ],
            [
             0.7777777777777778,
             "#fb9f3a"
            ],
            [
             0.8888888888888888,
             "#fdca26"
            ],
            [
             1,
             "#f0f921"
            ]
           ],
           "sequentialminus": [
            [
             0,
             "#0d0887"
            ],
            [
             0.1111111111111111,
             "#46039f"
            ],
            [
             0.2222222222222222,
             "#7201a8"
            ],
            [
             0.3333333333333333,
             "#9c179e"
            ],
            [
             0.4444444444444444,
             "#bd3786"
            ],
            [
             0.5555555555555556,
             "#d8576b"
            ],
            [
             0.6666666666666666,
             "#ed7953"
            ],
            [
             0.7777777777777778,
             "#fb9f3a"
            ],
            [
             0.8888888888888888,
             "#fdca26"
            ],
            [
             1,
             "#f0f921"
            ]
           ]
          },
          "colorway": [
           "#636efa",
           "#EF553B",
           "#00cc96",
           "#ab63fa",
           "#FFA15A",
           "#19d3f3",
           "#FF6692",
           "#B6E880",
           "#FF97FF",
           "#FECB52"
          ],
          "font": {
           "color": "#2a3f5f"
          },
          "geo": {
           "bgcolor": "white",
           "lakecolor": "white",
           "landcolor": "#E5ECF6",
           "showlakes": true,
           "showland": true,
           "subunitcolor": "white"
          },
          "hoverlabel": {
           "align": "left"
          },
          "hovermode": "closest",
          "mapbox": {
           "style": "light"
          },
          "paper_bgcolor": "white",
          "plot_bgcolor": "#E5ECF6",
          "polar": {
           "angularaxis": {
            "gridcolor": "white",
            "linecolor": "white",
            "ticks": ""
           },
           "bgcolor": "#E5ECF6",
           "radialaxis": {
            "gridcolor": "white",
            "linecolor": "white",
            "ticks": ""
           }
          },
          "scene": {
           "xaxis": {
            "backgroundcolor": "#E5ECF6",
            "gridcolor": "white",
            "gridwidth": 2,
            "linecolor": "white",
            "showbackground": true,
            "ticks": "",
            "zerolinecolor": "white"
           },
           "yaxis": {
            "backgroundcolor": "#E5ECF6",
            "gridcolor": "white",
            "gridwidth": 2,
            "linecolor": "white",
            "showbackground": true,
            "ticks": "",
            "zerolinecolor": "white"
           },
           "zaxis": {
            "backgroundcolor": "#E5ECF6",
            "gridcolor": "white",
            "gridwidth": 2,
            "linecolor": "white",
            "showbackground": true,
            "ticks": "",
            "zerolinecolor": "white"
           }
          },
          "shapedefaults": {
           "line": {
            "color": "#2a3f5f"
           }
          },
          "ternary": {
           "aaxis": {
            "gridcolor": "white",
            "linecolor": "white",
            "ticks": ""
           },
           "baxis": {
            "gridcolor": "white",
            "linecolor": "white",
            "ticks": ""
           },
           "bgcolor": "#E5ECF6",
           "caxis": {
            "gridcolor": "white",
            "linecolor": "white",
            "ticks": ""
           }
          },
          "title": {
           "x": 0.05
          },
          "xaxis": {
           "automargin": true,
           "gridcolor": "white",
           "linecolor": "white",
           "ticks": "",
           "title": {
            "standoff": 15
           },
           "zerolinecolor": "white",
           "zerolinewidth": 2
          },
          "yaxis": {
           "automargin": true,
           "gridcolor": "white",
           "linecolor": "white",
           "ticks": "",
           "title": {
            "standoff": 15
           },
           "zerolinecolor": "white",
           "zerolinewidth": 2
          }
         }
        },
        "xaxis": {
         "anchor": "y",
         "domain": [
          0,
          0.45
         ]
        },
        "xaxis2": {
         "anchor": "y2",
         "domain": [
          0.55,
          1
         ]
        },
        "xaxis3": {
         "anchor": "y3",
         "domain": [
          0,
          0.45
         ]
        },
        "xaxis4": {
         "anchor": "y4",
         "domain": [
          0.55,
          1
         ]
        },
        "yaxis": {
         "anchor": "x",
         "domain": [
          0.575,
          1
         ]
        },
        "yaxis2": {
         "anchor": "x2",
         "domain": [
          0.575,
          1
         ]
        },
        "yaxis3": {
         "anchor": "x3",
         "domain": [
          0,
          0.425
         ]
        },
        "yaxis4": {
         "anchor": "x4",
         "domain": [
          0,
          0.425
         ]
        }
       }
      },
      "text/html": [
       "<div>                            <div id=\"a0271bda-91ed-4b18-aec8-ef1031512293\" class=\"plotly-graph-div\" style=\"height:525px; width:100%;\"></div>            <script type=\"text/javascript\">                require([\"plotly\"], function(Plotly) {                    window.PLOTLYENV=window.PLOTLYENV || {};                                    if (document.getElementById(\"a0271bda-91ed-4b18-aec8-ef1031512293\")) {                    Plotly.newPlot(                        \"a0271bda-91ed-4b18-aec8-ef1031512293\",                        [{\"hovertemplate\":\"min. sup.(%)=%{x}<br>num of frequent patterns founded=%{y}<extra></extra>\",\"legendgroup\":\"\",\"marker\":{\"color\":\"#636efa\",\"symbol\":\"circle\"},\"mode\":\"markers\",\"name\":\"\",\"orientation\":\"v\",\"showlegend\":false,\"type\":\"scatter\",\"x\":[0.005,0.01,0.05,0.1,0.15,0.2,0.25,0.3,0.35,0.4,0.45,0.5,0.55,0.6,0.65,0.7,0.75,0.8,0.85,0.9,0.95,1.0,1.5,2.0,2.5,3.0],\"xaxis\":\"x\",\"y\":[24733,9850,1428,686,426,320,251,215,197,175,163,150,133,121,113,109,107,105,95,81,77,71,47,36,29,28],\"yaxis\":\"y\"},{\"hovertemplate\":\"min. sup.(%)=%{x}<br>max length of founded pattern=%{y}<extra></extra>\",\"legendgroup\":\"\",\"marker\":{\"color\":\"#636efa\",\"symbol\":\"circle\"},\"mode\":\"markers\",\"name\":\"\",\"orientation\":\"v\",\"showlegend\":false,\"type\":\"scatter\",\"x\":[0.005,0.01,0.05,0.1,0.15,0.2,0.25,0.3,0.35,0.4,0.45,0.5,0.55,0.6,0.65,0.7,0.75,0.8,0.85,0.9,0.95,1.0,1.5,2.0,2.5,3.0],\"xaxis\":\"x2\",\"y\":[11,10,7,6,5,5,5,5,4,4,4,4,4,4,4,4,3,3,3,3,3,3,3,3,3,2],\"yaxis\":\"y2\"},{\"hovertemplate\":\"min. sup.(%)=%{x}<br>num of length 1 founded pattern =%{y}<extra></extra>\",\"legendgroup\":\"\",\"marker\":{\"color\":\"#636efa\",\"symbol\":\"circle\"},\"mode\":\"markers\",\"name\":\"\",\"orientation\":\"v\",\"showlegend\":false,\"type\":\"scatter\",\"x\":[0.005,0.01,0.05,0.1,0.15,0.2,0.25,0.3,0.35,0.4,0.45,0.5,0.55,0.6,0.65,0.7,0.75,0.8,0.85,0.9,0.95,1.0,1.5,2.0,2.5,3.0],\"xaxis\":\"x3\",\"y\":[0,0,1,0,0,0,0,0,0,0,0,0,0,0,0,0,0,0,0,0,0,0,3,5,6,7],\"yaxis\":\"y3\"}],                        {\"template\":{\"data\":{\"bar\":[{\"error_x\":{\"color\":\"#2a3f5f\"},\"error_y\":{\"color\":\"#2a3f5f\"},\"marker\":{\"line\":{\"color\":\"#E5ECF6\",\"width\":0.5},\"pattern\":{\"fillmode\":\"overlay\",\"size\":10,\"solidity\":0.2}},\"type\":\"bar\"}],\"barpolar\":[{\"marker\":{\"line\":{\"color\":\"#E5ECF6\",\"width\":0.5},\"pattern\":{\"fillmode\":\"overlay\",\"size\":10,\"solidity\":0.2}},\"type\":\"barpolar\"}],\"carpet\":[{\"aaxis\":{\"endlinecolor\":\"#2a3f5f\",\"gridcolor\":\"white\",\"linecolor\":\"white\",\"minorgridcolor\":\"white\",\"startlinecolor\":\"#2a3f5f\"},\"baxis\":{\"endlinecolor\":\"#2a3f5f\",\"gridcolor\":\"white\",\"linecolor\":\"white\",\"minorgridcolor\":\"white\",\"startlinecolor\":\"#2a3f5f\"},\"type\":\"carpet\"}],\"choropleth\":[{\"colorbar\":{\"outlinewidth\":0,\"ticks\":\"\"},\"type\":\"choropleth\"}],\"contour\":[{\"colorbar\":{\"outlinewidth\":0,\"ticks\":\"\"},\"colorscale\":[[0.0,\"#0d0887\"],[0.1111111111111111,\"#46039f\"],[0.2222222222222222,\"#7201a8\"],[0.3333333333333333,\"#9c179e\"],[0.4444444444444444,\"#bd3786\"],[0.5555555555555556,\"#d8576b\"],[0.6666666666666666,\"#ed7953\"],[0.7777777777777778,\"#fb9f3a\"],[0.8888888888888888,\"#fdca26\"],[1.0,\"#f0f921\"]],\"type\":\"contour\"}],\"contourcarpet\":[{\"colorbar\":{\"outlinewidth\":0,\"ticks\":\"\"},\"type\":\"contourcarpet\"}],\"heatmap\":[{\"colorbar\":{\"outlinewidth\":0,\"ticks\":\"\"},\"colorscale\":[[0.0,\"#0d0887\"],[0.1111111111111111,\"#46039f\"],[0.2222222222222222,\"#7201a8\"],[0.3333333333333333,\"#9c179e\"],[0.4444444444444444,\"#bd3786\"],[0.5555555555555556,\"#d8576b\"],[0.6666666666666666,\"#ed7953\"],[0.7777777777777778,\"#fb9f3a\"],[0.8888888888888888,\"#fdca26\"],[1.0,\"#f0f921\"]],\"type\":\"heatmap\"}],\"heatmapgl\":[{\"colorbar\":{\"outlinewidth\":0,\"ticks\":\"\"},\"colorscale\":[[0.0,\"#0d0887\"],[0.1111111111111111,\"#46039f\"],[0.2222222222222222,\"#7201a8\"],[0.3333333333333333,\"#9c179e\"],[0.4444444444444444,\"#bd3786\"],[0.5555555555555556,\"#d8576b\"],[0.6666666666666666,\"#ed7953\"],[0.7777777777777778,\"#fb9f3a\"],[0.8888888888888888,\"#fdca26\"],[1.0,\"#f0f921\"]],\"type\":\"heatmapgl\"}],\"histogram\":[{\"marker\":{\"pattern\":{\"fillmode\":\"overlay\",\"size\":10,\"solidity\":0.2}},\"type\":\"histogram\"}],\"histogram2d\":[{\"colorbar\":{\"outlinewidth\":0,\"ticks\":\"\"},\"colorscale\":[[0.0,\"#0d0887\"],[0.1111111111111111,\"#46039f\"],[0.2222222222222222,\"#7201a8\"],[0.3333333333333333,\"#9c179e\"],[0.4444444444444444,\"#bd3786\"],[0.5555555555555556,\"#d8576b\"],[0.6666666666666666,\"#ed7953\"],[0.7777777777777778,\"#fb9f3a\"],[0.8888888888888888,\"#fdca26\"],[1.0,\"#f0f921\"]],\"type\":\"histogram2d\"}],\"histogram2dcontour\":[{\"colorbar\":{\"outlinewidth\":0,\"ticks\":\"\"},\"colorscale\":[[0.0,\"#0d0887\"],[0.1111111111111111,\"#46039f\"],[0.2222222222222222,\"#7201a8\"],[0.3333333333333333,\"#9c179e\"],[0.4444444444444444,\"#bd3786\"],[0.5555555555555556,\"#d8576b\"],[0.6666666666666666,\"#ed7953\"],[0.7777777777777778,\"#fb9f3a\"],[0.8888888888888888,\"#fdca26\"],[1.0,\"#f0f921\"]],\"type\":\"histogram2dcontour\"}],\"mesh3d\":[{\"colorbar\":{\"outlinewidth\":0,\"ticks\":\"\"},\"type\":\"mesh3d\"}],\"parcoords\":[{\"line\":{\"colorbar\":{\"outlinewidth\":0,\"ticks\":\"\"}},\"type\":\"parcoords\"}],\"pie\":[{\"automargin\":true,\"type\":\"pie\"}],\"scatter\":[{\"marker\":{\"colorbar\":{\"outlinewidth\":0,\"ticks\":\"\"}},\"type\":\"scatter\"}],\"scatter3d\":[{\"line\":{\"colorbar\":{\"outlinewidth\":0,\"ticks\":\"\"}},\"marker\":{\"colorbar\":{\"outlinewidth\":0,\"ticks\":\"\"}},\"type\":\"scatter3d\"}],\"scattercarpet\":[{\"marker\":{\"colorbar\":{\"outlinewidth\":0,\"ticks\":\"\"}},\"type\":\"scattercarpet\"}],\"scattergeo\":[{\"marker\":{\"colorbar\":{\"outlinewidth\":0,\"ticks\":\"\"}},\"type\":\"scattergeo\"}],\"scattergl\":[{\"marker\":{\"colorbar\":{\"outlinewidth\":0,\"ticks\":\"\"}},\"type\":\"scattergl\"}],\"scattermapbox\":[{\"marker\":{\"colorbar\":{\"outlinewidth\":0,\"ticks\":\"\"}},\"type\":\"scattermapbox\"}],\"scatterpolar\":[{\"marker\":{\"colorbar\":{\"outlinewidth\":0,\"ticks\":\"\"}},\"type\":\"scatterpolar\"}],\"scatterpolargl\":[{\"marker\":{\"colorbar\":{\"outlinewidth\":0,\"ticks\":\"\"}},\"type\":\"scatterpolargl\"}],\"scatterternary\":[{\"marker\":{\"colorbar\":{\"outlinewidth\":0,\"ticks\":\"\"}},\"type\":\"scatterternary\"}],\"surface\":[{\"colorbar\":{\"outlinewidth\":0,\"ticks\":\"\"},\"colorscale\":[[0.0,\"#0d0887\"],[0.1111111111111111,\"#46039f\"],[0.2222222222222222,\"#7201a8\"],[0.3333333333333333,\"#9c179e\"],[0.4444444444444444,\"#bd3786\"],[0.5555555555555556,\"#d8576b\"],[0.6666666666666666,\"#ed7953\"],[0.7777777777777778,\"#fb9f3a\"],[0.8888888888888888,\"#fdca26\"],[1.0,\"#f0f921\"]],\"type\":\"surface\"}],\"table\":[{\"cells\":{\"fill\":{\"color\":\"#EBF0F8\"},\"line\":{\"color\":\"white\"}},\"header\":{\"fill\":{\"color\":\"#C8D4E3\"},\"line\":{\"color\":\"white\"}},\"type\":\"table\"}]},\"layout\":{\"annotationdefaults\":{\"arrowcolor\":\"#2a3f5f\",\"arrowhead\":0,\"arrowwidth\":1},\"autotypenumbers\":\"strict\",\"coloraxis\":{\"colorbar\":{\"outlinewidth\":0,\"ticks\":\"\"}},\"colorscale\":{\"diverging\":[[0,\"#8e0152\"],[0.1,\"#c51b7d\"],[0.2,\"#de77ae\"],[0.3,\"#f1b6da\"],[0.4,\"#fde0ef\"],[0.5,\"#f7f7f7\"],[0.6,\"#e6f5d0\"],[0.7,\"#b8e186\"],[0.8,\"#7fbc41\"],[0.9,\"#4d9221\"],[1,\"#276419\"]],\"sequential\":[[0.0,\"#0d0887\"],[0.1111111111111111,\"#46039f\"],[0.2222222222222222,\"#7201a8\"],[0.3333333333333333,\"#9c179e\"],[0.4444444444444444,\"#bd3786\"],[0.5555555555555556,\"#d8576b\"],[0.6666666666666666,\"#ed7953\"],[0.7777777777777778,\"#fb9f3a\"],[0.8888888888888888,\"#fdca26\"],[1.0,\"#f0f921\"]],\"sequentialminus\":[[0.0,\"#0d0887\"],[0.1111111111111111,\"#46039f\"],[0.2222222222222222,\"#7201a8\"],[0.3333333333333333,\"#9c179e\"],[0.4444444444444444,\"#bd3786\"],[0.5555555555555556,\"#d8576b\"],[0.6666666666666666,\"#ed7953\"],[0.7777777777777778,\"#fb9f3a\"],[0.8888888888888888,\"#fdca26\"],[1.0,\"#f0f921\"]]},\"colorway\":[\"#636efa\",\"#EF553B\",\"#00cc96\",\"#ab63fa\",\"#FFA15A\",\"#19d3f3\",\"#FF6692\",\"#B6E880\",\"#FF97FF\",\"#FECB52\"],\"font\":{\"color\":\"#2a3f5f\"},\"geo\":{\"bgcolor\":\"white\",\"lakecolor\":\"white\",\"landcolor\":\"#E5ECF6\",\"showlakes\":true,\"showland\":true,\"subunitcolor\":\"white\"},\"hoverlabel\":{\"align\":\"left\"},\"hovermode\":\"closest\",\"mapbox\":{\"style\":\"light\"},\"paper_bgcolor\":\"white\",\"plot_bgcolor\":\"#E5ECF6\",\"polar\":{\"angularaxis\":{\"gridcolor\":\"white\",\"linecolor\":\"white\",\"ticks\":\"\"},\"bgcolor\":\"#E5ECF6\",\"radialaxis\":{\"gridcolor\":\"white\",\"linecolor\":\"white\",\"ticks\":\"\"}},\"scene\":{\"xaxis\":{\"backgroundcolor\":\"#E5ECF6\",\"gridcolor\":\"white\",\"gridwidth\":2,\"linecolor\":\"white\",\"showbackground\":true,\"ticks\":\"\",\"zerolinecolor\":\"white\"},\"yaxis\":{\"backgroundcolor\":\"#E5ECF6\",\"gridcolor\":\"white\",\"gridwidth\":2,\"linecolor\":\"white\",\"showbackground\":true,\"ticks\":\"\",\"zerolinecolor\":\"white\"},\"zaxis\":{\"backgroundcolor\":\"#E5ECF6\",\"gridcolor\":\"white\",\"gridwidth\":2,\"linecolor\":\"white\",\"showbackground\":true,\"ticks\":\"\",\"zerolinecolor\":\"white\"}},\"shapedefaults\":{\"line\":{\"color\":\"#2a3f5f\"}},\"ternary\":{\"aaxis\":{\"gridcolor\":\"white\",\"linecolor\":\"white\",\"ticks\":\"\"},\"baxis\":{\"gridcolor\":\"white\",\"linecolor\":\"white\",\"ticks\":\"\"},\"bgcolor\":\"#E5ECF6\",\"caxis\":{\"gridcolor\":\"white\",\"linecolor\":\"white\",\"ticks\":\"\"}},\"title\":{\"x\":0.05},\"xaxis\":{\"automargin\":true,\"gridcolor\":\"white\",\"linecolor\":\"white\",\"ticks\":\"\",\"title\":{\"standoff\":15},\"zerolinecolor\":\"white\",\"zerolinewidth\":2},\"yaxis\":{\"automargin\":true,\"gridcolor\":\"white\",\"linecolor\":\"white\",\"ticks\":\"\",\"title\":{\"standoff\":15},\"zerolinecolor\":\"white\",\"zerolinewidth\":2}}},\"xaxis\":{\"anchor\":\"y\",\"domain\":[0.0,0.45]},\"xaxis2\":{\"anchor\":\"y2\",\"domain\":[0.55,1.0]},\"xaxis3\":{\"anchor\":\"y3\",\"domain\":[0.0,0.45]},\"xaxis4\":{\"anchor\":\"y4\",\"domain\":[0.55,1.0]},\"yaxis\":{\"anchor\":\"x\",\"domain\":[0.575,1.0]},\"yaxis2\":{\"anchor\":\"x2\",\"domain\":[0.575,1.0]},\"yaxis3\":{\"anchor\":\"x3\",\"domain\":[0.0,0.425]},\"yaxis4\":{\"anchor\":\"x4\",\"domain\":[0.0,0.425]}},                        {\"responsive\": true}                    ).then(function(){\n",
       "                            \n",
       "var gd = document.getElementById('a0271bda-91ed-4b18-aec8-ef1031512293');\n",
       "var x = new MutationObserver(function (mutations, observer) {{\n",
       "        var display = window.getComputedStyle(gd).display;\n",
       "        if (!display || display === 'none') {{\n",
       "            console.log([gd, 'removed!']);\n",
       "            Plotly.purge(gd);\n",
       "            observer.disconnect();\n",
       "        }}\n",
       "}});\n",
       "\n",
       "// Listen for the removal of the full notebook cells\n",
       "var notebookContainer = gd.closest('#notebook-container');\n",
       "if (notebookContainer) {{\n",
       "    x.observe(notebookContainer, {childList: true});\n",
       "}}\n",
       "\n",
       "// Listen for the clearing of the current output cell\n",
       "var outputEl = gd.closest('.output');\n",
       "if (outputEl) {{\n",
       "    x.observe(outputEl, {childList: true});\n",
       "}}\n",
       "\n",
       "                        })                };                });            </script>        </div>"
      ]
     },
     "metadata": {},
     "output_type": "display_data"
    }
   ],
   "source": [
    "this_figure"
   ]
  },
  {
   "cell_type": "markdown",
   "metadata": {},
   "source": [
    "The tuning does not give a clear indication of which min. sup. to use, but a realativly stable number which still ensure long maximal patterns, and a somewhat reasonable number of patterns are 0.1 which will therefore be the min. sup we chose to work with."
   ]
  },
  {
   "cell_type": "markdown",
   "metadata": {},
   "source": [
    "# Analysing the maximal patterns\n",
    "To better interpret the results we take a look at which apps occur in the maximal patterns and how they compare to the ones we found using the observation coverage definition of infrequency."
   ]
  },
  {
   "cell_type": "code",
   "execution_count": 3,
   "metadata": {},
   "outputs": [],
   "source": [
    "output=pd.read_csv(\"output_VMSP_20sec_sessions_0_01_removed_without_split_min_sup_0_1_translated.csv\")"
   ]
  },
  {
   "cell_type": "code",
   "execution_count": 4,
   "metadata": {},
   "outputs": [
    {
     "name": "stdout",
     "output_type": "stream",
     "text": [
      "Number of maximal patterns: 1123\n",
      "Longest pattern: 6\n"
     ]
    }
   ],
   "source": [
    "print(\"Number of maximal patterns:\",output.shape[0])\n",
    "print(\"Longest pattern:\",output.pattern_length.max())"
   ]
  },
  {
   "cell_type": "code",
   "execution_count": 5,
   "metadata": {},
   "outputs": [
    {
     "name": "stderr",
     "output_type": "stream",
     "text": [
      "<ipython-input-5-f78eb71e969e>:1: FutureWarning: The default value of regex will change from True to False in a future version.\n",
      "  output_app_count=pd.DataFrame(output[\"pattern\"].str.replace(\"[\\[\\]\\'\\s]\", \"\").str.split(',', expand=True).values).apply(pd.value_counts).sum(axis=1).sort_values()\n"
     ]
    }
   ],
   "source": [
    "output_app_count=pd.DataFrame(output[\"pattern\"].str.replace(\"[\\[\\]\\'\\s]\", \"\").str.split(',', expand=True).values).apply(pd.value_counts).sum(axis=1).sort_values()"
   ]
  },
  {
   "cell_type": "code",
   "execution_count": 6,
   "metadata": {},
   "outputs": [
    {
     "name": "stdout",
     "output_type": "stream",
     "text": [
      "Number of unique apps in frequent patterns: 143\n"
     ]
    }
   ],
   "source": [
    "print(\"Number of unique apps in frequent patterns:\",output_app_count.shape[0])"
   ]
  },
  {
   "cell_type": "code",
   "execution_count": 7,
   "metadata": {},
   "outputs": [],
   "source": [
    "output_coverage=pd.read_csv(\"output_VMSP_20s_sessions_keep_96_no_split_min_sup_0_1_translated.csv\")"
   ]
  },
  {
   "cell_type": "code",
   "execution_count": 8,
   "metadata": {},
   "outputs": [
    {
     "name": "stdout",
     "output_type": "stream",
     "text": [
      "Infrequency as observation coverage:\n",
      "Number of maximal patterns: 1088\n",
      "Longest pattern: 6\n"
     ]
    }
   ],
   "source": [
    "print(\"Infrequency as observation coverage:\")\n",
    "print(\"Number of maximal patterns:\",output_coverage.shape[0])\n",
    "print(\"Longest pattern:\",output_coverage.pattern_length.max())"
   ]
  },
  {
   "cell_type": "code",
   "execution_count": 9,
   "metadata": {},
   "outputs": [
    {
     "name": "stderr",
     "output_type": "stream",
     "text": [
      "<ipython-input-9-138e6b0fd69b>:1: FutureWarning: The default value of regex will change from True to False in a future version.\n",
      "  output_coverage_app_count=pd.DataFrame(output_coverage[\"pattern\"].str.replace(\"[\\[\\]\\'\\s]\", \"\").str.split(',', expand=True).values).apply(pd.value_counts).sum(axis=1).sort_values()\n"
     ]
    }
   ],
   "source": [
    "output_coverage_app_count=pd.DataFrame(output_coverage[\"pattern\"].str.replace(\"[\\[\\]\\'\\s]\", \"\").str.split(',', expand=True).values).apply(pd.value_counts).sum(axis=1).sort_values()"
   ]
  },
  {
   "cell_type": "code",
   "execution_count": 10,
   "metadata": {},
   "outputs": [
    {
     "data": {
      "text/plain": [
       "143"
      ]
     },
     "execution_count": 10,
     "metadata": {},
     "output_type": "execute_result"
    }
   ],
   "source": [
    "output_coverage_app_count.shape[0]"
   ]
  },
  {
   "cell_type": "code",
   "execution_count": 11,
   "metadata": {},
   "outputs": [
    {
     "data": {
      "text/plain": [
       "set()"
      ]
     },
     "execution_count": 11,
     "metadata": {},
     "output_type": "execute_result"
    }
   ],
   "source": [
    "set(output_coverage_app_count.index)-set(output_coverage_app_count.index)"
   ]
  },
  {
   "cell_type": "markdown",
   "metadata": {},
   "source": [
    "We see that they both contain the same apps. The next step is to see if they contain the same patterns."
   ]
  },
  {
   "cell_type": "code",
   "execution_count": 12,
   "metadata": {},
   "outputs": [
    {
     "data": {
      "image/png": "[encoded data removed]",
      "text/plain": [
       "<Figure size 4000x480 with 1 Axes>"
      ]
     },
     "metadata": {
      "needs_background": "light"
     },
     "output_type": "display_data"
    }
   ],
   "source": [
    "plt.figure(figsize=(50, 6), dpi=80)\n",
    "bins=plt.bar(output_app_count.index,output_app_count)\n",
    "plt.ylabel(\"App occurences in frequent maximal patterns\")\n",
    "plt.xlabel(\"Frequent app\")\n",
    "plt.xticks(rotation=90) \n",
    "plt.margins(0.001)\n",
    "plt.show()"
   ]
  },
  {
   "cell_type": "code",
   "execution_count": 13,
   "metadata": {},
   "outputs": [
    {
     "name": "stdout",
     "output_type": "stream",
     "text": [
      "Number of frequent apps occuring once: 103\n"
     ]
    }
   ],
   "source": [
    "print(\"Number of frequent apps occuring once:\",output_app_count[output_app_count==1].shape[0])"
   ]
  },
  {
   "cell_type": "code",
   "execution_count": 16,
   "metadata": {},
   "outputs": [
    {
     "data": {
      "text/plain": [
       "set()"
      ]
     },
     "execution_count": 16,
     "metadata": {},
     "output_type": "execute_result"
    }
   ],
   "source": [
    "set(output_coverage_app_count[output_coverage_app_count==1].index)-set(output_app_count[output_app_count==1].index)"
   ]
  },
  {
   "cell_type": "code",
   "execution_count": 18,
   "metadata": {},
   "outputs": [
    {
     "data": {
      "text/html": [
       "<div>\n",
       "<style scoped>\n",
       "    .dataframe tbody tr th:only-of-type {\n",
       "        vertical-align: middle;\n",
       "    }\n",
       "\n",
       "    .dataframe tbody tr th {\n",
       "        vertical-align: top;\n",
       "    }\n",
       "\n",
       "    .dataframe thead th {\n",
       "        text-align: right;\n",
       "    }\n",
       "</style>\n",
       "<table border=\"1\" class=\"dataframe\">\n",
       "  <thead>\n",
       "    <tr style=\"text-align: right;\">\n",
       "      <th></th>\n",
       "      <th>pattern</th>\n",
       "      <th>sup</th>\n",
       "      <th>pattern_length</th>\n",
       "    </tr>\n",
       "  </thead>\n",
       "  <tbody>\n",
       "    <tr>\n",
       "      <th>478</th>\n",
       "      <td>['com.sonymobile.xperiaweather', 'com.android.chrome']</td>\n",
       "      <td>77300</td>\n",
       "      <td>2</td>\n",
       "    </tr>\n",
       "    <tr>\n",
       "      <th>577</th>\n",
       "      <td>['com.reddit.frontpage', 'com.android.chrome']</td>\n",
       "      <td>71338</td>\n",
       "      <td>2</td>\n",
       "    </tr>\n",
       "    <tr>\n",
       "      <th>664</th>\n",
       "      <td>['com.viber.voip', 'com.facebook.katana']</td>\n",
       "      <td>67107</td>\n",
       "      <td>2</td>\n",
       "    </tr>\n",
       "    <tr>\n",
       "      <th>764</th>\n",
       "      <td>['com.facebook.katana', 'com.dailymail.online']</td>\n",
       "      <td>63024</td>\n",
       "      <td>2</td>\n",
       "    </tr>\n",
       "    <tr>\n",
       "      <th>777</th>\n",
       "      <td>['com.whatsapp', 'com.sonyericsson.video']</td>\n",
       "      <td>62527</td>\n",
       "      <td>2</td>\n",
       "    </tr>\n",
       "    <tr>\n",
       "      <th>883</th>\n",
       "      <td>['com.fitbit.FitbitMobile', 'com.facebook.katana']</td>\n",
       "      <td>59028</td>\n",
       "      <td>2</td>\n",
       "    </tr>\n",
       "    <tr>\n",
       "      <th>898</th>\n",
       "      <td>['com.facebook.katana', 'com.barclays.android.barclaysmobilebanking']</td>\n",
       "      <td>58423</td>\n",
       "      <td>2</td>\n",
       "    </tr>\n",
       "    <tr>\n",
       "      <th>907</th>\n",
       "      <td>['com.google.android.apps.genie.geniewidget', 'com.android.chrome']</td>\n",
       "      <td>58185</td>\n",
       "      <td>2</td>\n",
       "    </tr>\n",
       "    <tr>\n",
       "      <th>993</th>\n",
       "      <td>['com.facebook.katana', 'bbc.mobile.weather']</td>\n",
       "      <td>55782</td>\n",
       "      <td>2</td>\n",
       "    </tr>\n",
       "    <tr>\n",
       "      <th>1121</th>\n",
       "      <td>['com.linkedin.android', 'com.android.chrome']</td>\n",
       "      <td>52669</td>\n",
       "      <td>2</td>\n",
       "    </tr>\n",
       "  </tbody>\n",
       "</table>\n",
       "</div>"
      ],
      "text/plain": [
       "                                                                    pattern  \\\n",
       "478                  ['com.sonymobile.xperiaweather', 'com.android.chrome']   \n",
       "577                          ['com.reddit.frontpage', 'com.android.chrome']   \n",
       "664                               ['com.viber.voip', 'com.facebook.katana']   \n",
       "764                         ['com.facebook.katana', 'com.dailymail.online']   \n",
       "777                              ['com.whatsapp', 'com.sonyericsson.video']   \n",
       "883                      ['com.fitbit.FitbitMobile', 'com.facebook.katana']   \n",
       "898   ['com.facebook.katana', 'com.barclays.android.barclaysmobilebanking']   \n",
       "907     ['com.google.android.apps.genie.geniewidget', 'com.android.chrome']   \n",
       "993                           ['com.facebook.katana', 'bbc.mobile.weather']   \n",
       "1121                         ['com.linkedin.android', 'com.android.chrome']   \n",
       "\n",
       "        sup  pattern_length  \n",
       "478   77300               2  \n",
       "577   71338               2  \n",
       "664   67107               2  \n",
       "764   63024               2  \n",
       "777   62527               2  \n",
       "883   59028               2  \n",
       "898   58423               2  \n",
       "907   58185               2  \n",
       "993   55782               2  \n",
       "1121  52669               2  "
      ]
     },
     "execution_count": 18,
     "metadata": {},
     "output_type": "execute_result"
    }
   ],
   "source": [
    "patterns_longer_than_1=output[output.pattern_length!=1]\n",
    "patterns_longer_than_1[patterns_longer_than_1.pattern.str.contains('|'.join(output_app_count[output_app_count==1].index))]"
   ]
  },
  {
   "cell_type": "code",
   "execution_count": 19,
   "metadata": {},
   "outputs": [
    {
     "data": {
      "text/html": [
       "<div>\n",
       "<style scoped>\n",
       "    .dataframe tbody tr th:only-of-type {\n",
       "        vertical-align: middle;\n",
       "    }\n",
       "\n",
       "    .dataframe tbody tr th {\n",
       "        vertical-align: top;\n",
       "    }\n",
       "\n",
       "    .dataframe thead th {\n",
       "        text-align: right;\n",
       "    }\n",
       "</style>\n",
       "<table border=\"1\" class=\"dataframe\">\n",
       "  <thead>\n",
       "    <tr style=\"text-align: right;\">\n",
       "      <th></th>\n",
       "      <th>pattern</th>\n",
       "      <th>sup</th>\n",
       "      <th>pattern_length</th>\n",
       "    </tr>\n",
       "  </thead>\n",
       "  <tbody>\n",
       "    <tr>\n",
       "      <th>494</th>\n",
       "      <td>['com.sonymobile.xperiaweather', 'com.android.chrome']</td>\n",
       "      <td>77300</td>\n",
       "      <td>2</td>\n",
       "    </tr>\n",
       "    <tr>\n",
       "      <th>597</th>\n",
       "      <td>['com.reddit.frontpage', 'com.android.chrome']</td>\n",
       "      <td>71338</td>\n",
       "      <td>2</td>\n",
       "    </tr>\n",
       "    <tr>\n",
       "      <th>684</th>\n",
       "      <td>['com.viber.voip', 'com.facebook.katana']</td>\n",
       "      <td>67107</td>\n",
       "      <td>2</td>\n",
       "    </tr>\n",
       "    <tr>\n",
       "      <th>784</th>\n",
       "      <td>['com.facebook.katana', 'com.dailymail.online']</td>\n",
       "      <td>63024</td>\n",
       "      <td>2</td>\n",
       "    </tr>\n",
       "    <tr>\n",
       "      <th>798</th>\n",
       "      <td>['com.whatsapp', 'com.sonyericsson.video']</td>\n",
       "      <td>62527</td>\n",
       "      <td>2</td>\n",
       "    </tr>\n",
       "    <tr>\n",
       "      <th>903</th>\n",
       "      <td>['com.fitbit.FitbitMobile', 'com.facebook.katana']</td>\n",
       "      <td>59028</td>\n",
       "      <td>2</td>\n",
       "    </tr>\n",
       "    <tr>\n",
       "      <th>918</th>\n",
       "      <td>['com.facebook.katana', 'com.barclays.android.barclaysmobilebanking']</td>\n",
       "      <td>58423</td>\n",
       "      <td>2</td>\n",
       "    </tr>\n",
       "    <tr>\n",
       "      <th>927</th>\n",
       "      <td>['com.google.android.apps.genie.geniewidget', 'com.android.chrome']</td>\n",
       "      <td>58185</td>\n",
       "      <td>2</td>\n",
       "    </tr>\n",
       "    <tr>\n",
       "      <th>1016</th>\n",
       "      <td>['com.facebook.katana', 'bbc.mobile.weather']</td>\n",
       "      <td>55782</td>\n",
       "      <td>2</td>\n",
       "    </tr>\n",
       "  </tbody>\n",
       "</table>\n",
       "</div>"
      ],
      "text/plain": [
       "                                                                    pattern  \\\n",
       "494                  ['com.sonymobile.xperiaweather', 'com.android.chrome']   \n",
       "597                          ['com.reddit.frontpage', 'com.android.chrome']   \n",
       "684                               ['com.viber.voip', 'com.facebook.katana']   \n",
       "784                         ['com.facebook.katana', 'com.dailymail.online']   \n",
       "798                              ['com.whatsapp', 'com.sonyericsson.video']   \n",
       "903                      ['com.fitbit.FitbitMobile', 'com.facebook.katana']   \n",
       "918   ['com.facebook.katana', 'com.barclays.android.barclaysmobilebanking']   \n",
       "927     ['com.google.android.apps.genie.geniewidget', 'com.android.chrome']   \n",
       "1016                          ['com.facebook.katana', 'bbc.mobile.weather']   \n",
       "\n",
       "        sup  pattern_length  \n",
       "494   77300               2  \n",
       "597   71338               2  \n",
       "684   67107               2  \n",
       "784   63024               2  \n",
       "798   62527               2  \n",
       "903   59028               2  \n",
       "918   58423               2  \n",
       "927   58185               2  \n",
       "1016  55782               2  "
      ]
     },
     "execution_count": 19,
     "metadata": {},
     "output_type": "execute_result"
    }
   ],
   "source": [
    "patterns_longer_than_1_coverage=output_coverage[output_coverage.pattern_length!=1]\n",
    "patterns_longer_than_1_coverage[patterns_longer_than_1_coverage.pattern.str.contains('|'.join(output_coverage_app_count[output_coverage_app_count==1].index))]"
   ]
  },
  {
   "cell_type": "code",
   "execution_count": 20,
   "metadata": {},
   "outputs": [
    {
     "data": {
      "text/plain": [
       "com.facebook.katana                        655.0\n",
       "com.whatsapp                               507.0\n",
       "com.android.chrome                         450.0\n",
       "com.google.android.googlequicksearchbox    261.0\n",
       "com.facebook.orca                          201.0\n",
       "com.instagram.android                      183.0\n",
       "com.sonyericsson.conversations             136.0\n",
       "com.snapchat.android                       133.0\n",
       "com.google.android.youtube                  87.0\n",
       "com.google.android.gm                       85.0\n",
       "dtype: float64"
      ]
     },
     "execution_count": 20,
     "metadata": {},
     "output_type": "execute_result"
    }
   ],
   "source": [
    "output_app_count[output_app_count.isin(output_app_count.nlargest(10))].sort_values(ascending=False)"
   ]
  },
  {
   "cell_type": "code",
   "execution_count": 23,
   "metadata": {},
   "outputs": [
    {
     "data": {
      "image/png": "[encoded data removed]",
      "text/plain": [
       "<Figure size 2000x800 with 1 Axes>"
      ]
     },
     "metadata": {
      "needs_background": "light"
     },
     "output_type": "display_data"
    }
   ],
   "source": [
    "plt.figure(figsize=(25, 10), dpi=80)\n",
    "bins=plt.bar(output_app_count[output_app_count>1].index,output_app_count[output_app_count>1])\n",
    "plt.ylabel(\"App occurences in frequent maximal patterns\",fontsize=15)\n",
    "plt.xlabel(\"Frequent app\",fontsize=15)\n",
    "plt.xticks(rotation=90,fontsize=10) \n",
    "plt.yticks(np.arange(0, 560, 50),fontsize=10)\n",
    "plt.ylim(0,560)\n",
    "plt.margins(0.005)\n",
    "plt.savefig(\"app_count_in_frequent_patterns_0_01_frequency_no_split.pdf\", \n",
    "               bbox_inches='tight', \n",
    "               transparent=True,\n",
    "               pad_inches=1)\n",
    "plt.show()"
   ]
  },
  {
   "cell_type": "code",
   "execution_count": 22,
   "metadata": {
    "scrolled": true
   },
   "outputs": [
    {
     "data": {
      "image/png": "[encoded data removed]",
      "text/plain": [
       "<Figure size 2000x800 with 1 Axes>"
      ]
     },
     "metadata": {
      "needs_background": "light"
     },
     "output_type": "display_data"
    }
   ],
   "source": [
    "plt.figure(figsize=(25, 10), dpi=80)\n",
    "bins=plt.bar(output_coverage_app_count[output_coverage_app_count>1].index,output_coverage_app_count[output_coverage_app_count>1])\n",
    "plt.ylabel(\"App occurences in frequent maximal patterns\",fontsize=15)\n",
    "plt.xlabel(\"Frequent app\",fontsize=15)\n",
    "plt.xticks(rotation=90,fontsize=10) \n",
    "plt.yticks(np.arange(0, 560, 50),fontsize=10)\n",
    "plt.ylim(0,560)\n",
    "plt.margins(0.005)\n",
    "plt.savefig(\"app_count_in_frequent_patterns_96coverage_no_split.pdf\", \n",
    "               bbox_inches='tight', \n",
    "               transparent=True,\n",
    "               pad_inches=1)\n",
    "plt.show()"
   ]
  },
  {
   "cell_type": "markdown",
   "metadata": {},
   "source": [
    "Again the results are very similar, for both approaches. We now try to focus on the different patterns."
   ]
  },
  {
   "cell_type": "code",
   "execution_count": 24,
   "metadata": {},
   "outputs": [
    {
     "name": "stdout",
     "output_type": "stream",
     "text": [
      "Number of patterns which are is not not found with the coverage infrequency: 55\n",
      "Number of patterns which are is not not found with the percent infrequency: 20\n",
      "Number of patterns which occur in both: 1068\n"
     ]
    }
   ],
   "source": [
    "print(\"Number of patterns which are is not not found with the coverage infrequency:\",len(set(output.pattern)-set(output_coverage.pattern)))\n",
    "print(\"Number of patterns which are is not not found with the percent infrequency:\",len(set(output_coverage.pattern)-set(output.pattern)))\n",
    "print(\"Number of patterns which occur in both:\",len(set(output_coverage.pattern).intersection(set(output.pattern))))"
   ]
  },
  {
   "cell_type": "markdown",
   "metadata": {},
   "source": [
    "We see that the two only differ by a few patterns while the majority of the patterns found with the two approaches are the same.\\\n",
    "We here take a look at the patterns which are only found to be frequent using one of the methods."
   ]
  },
  {
   "cell_type": "code",
   "execution_count": 25,
   "metadata": {},
   "outputs": [
    {
     "name": "stdout",
     "output_type": "stream",
     "text": [
      "Patterns which are only found using the percentage dedintion of infrequency:\n"
     ]
    },
    {
     "data": {
      "text/html": [
       "<div>\n",
       "<style scoped>\n",
       "    .dataframe tbody tr th:only-of-type {\n",
       "        vertical-align: middle;\n",
       "    }\n",
       "\n",
       "    .dataframe tbody tr th {\n",
       "        vertical-align: top;\n",
       "    }\n",
       "\n",
       "    .dataframe thead th {\n",
       "        text-align: right;\n",
       "    }\n",
       "</style>\n",
       "<table border=\"1\" class=\"dataframe\">\n",
       "  <thead>\n",
       "    <tr style=\"text-align: right;\">\n",
       "      <th></th>\n",
       "      <th>pattern</th>\n",
       "      <th>sup</th>\n",
       "      <th>pattern_length</th>\n",
       "    </tr>\n",
       "  </thead>\n",
       "  <tbody>\n",
       "    <tr>\n",
       "      <th>1067</th>\n",
       "      <td>['com.facebook.katana', 'com.facebook.katana', 'com.facebook.katana', 'com.snapchat.android']</td>\n",
       "      <td>53934</td>\n",
       "      <td>4</td>\n",
       "    </tr>\n",
       "    <tr>\n",
       "      <th>1068</th>\n",
       "      <td>['com.android.chrome', 'com.facebook.orca', 'com.instagram.android']</td>\n",
       "      <td>53927</td>\n",
       "      <td>3</td>\n",
       "    </tr>\n",
       "    <tr>\n",
       "      <th>1069</th>\n",
       "      <td>['com.whatsapp', 'com.instagram.android', 'com.whatsapp', 'com.android.chrome']</td>\n",
       "      <td>53806</td>\n",
       "      <td>4</td>\n",
       "    </tr>\n",
       "    <tr>\n",
       "      <th>1070</th>\n",
       "      <td>['com.facebook.katana', 'com.facebook.katana', 'com.whatsapp', 'com.whatsapp', 'com.whatsapp']</td>\n",
       "      <td>53792</td>\n",
       "      <td>5</td>\n",
       "    </tr>\n",
       "    <tr>\n",
       "      <th>1071</th>\n",
       "      <td>['com.android.chrome', 'com.sonyericsson.conversations', 'com.android.chrome', 'com.sonyericsson.conversations']</td>\n",
       "      <td>53788</td>\n",
       "      <td>4</td>\n",
       "    </tr>\n",
       "    <tr>\n",
       "      <th>1072</th>\n",
       "      <td>['com.android.chrome', 'com.twitter.android', 'com.whatsapp']</td>\n",
       "      <td>53786</td>\n",
       "      <td>3</td>\n",
       "    </tr>\n",
       "    <tr>\n",
       "      <th>1074</th>\n",
       "      <td>['com.android.chrome', 'com.snapchat.android', 'com.whatsapp']</td>\n",
       "      <td>53780</td>\n",
       "      <td>3</td>\n",
       "    </tr>\n",
       "    <tr>\n",
       "      <th>1075</th>\n",
       "      <td>['com.sonymobile.email', 'com.whatsapp', 'com.android.chrome']</td>\n",
       "      <td>53767</td>\n",
       "      <td>3</td>\n",
       "    </tr>\n",
       "    <tr>\n",
       "      <th>1076</th>\n",
       "      <td>['com.facebook.katana', 'com.facebook.katana', 'com.facebook.katana', 'com.facebook.orca', 'com.facebook.katana']</td>\n",
       "      <td>53764</td>\n",
       "      <td>5</td>\n",
       "    </tr>\n",
       "    <tr>\n",
       "      <th>1077</th>\n",
       "      <td>['com.google.android.apps.maps', 'com.android.chrome', 'com.google.android.googlequicksearchbox']</td>\n",
       "      <td>53734</td>\n",
       "      <td>3</td>\n",
       "    </tr>\n",
       "    <tr>\n",
       "      <th>1078</th>\n",
       "      <td>['com.whatsapp', 'com.whatsapp', 'com.facebook.katana', 'com.facebook.katana', 'com.facebook.katana']</td>\n",
       "      <td>53731</td>\n",
       "      <td>5</td>\n",
       "    </tr>\n",
       "    <tr>\n",
       "      <th>1079</th>\n",
       "      <td>['com.facebook.orca', 'com.facebook.katana', 'com.facebook.orca', 'com.facebook.katana', 'com.facebook.katana']</td>\n",
       "      <td>53700</td>\n",
       "      <td>5</td>\n",
       "    </tr>\n",
       "    <tr>\n",
       "      <th>1080</th>\n",
       "      <td>['com.facebook.orca', 'com.facebook.katana', 'com.facebook.katana', 'com.android.chrome']</td>\n",
       "      <td>53695</td>\n",
       "      <td>4</td>\n",
       "    </tr>\n",
       "    <tr>\n",
       "      <th>1081</th>\n",
       "      <td>['com.facebook.katana', 'com.facebook.katana', 'com.facebook.orca', 'com.facebook.katana', 'com.facebook.katana']</td>\n",
       "      <td>53683</td>\n",
       "      <td>5</td>\n",
       "    </tr>\n",
       "    <tr>\n",
       "      <th>1082</th>\n",
       "      <td>['com.facebook.katana', 'com.google.android.youtube', 'com.facebook.orca']</td>\n",
       "      <td>53643</td>\n",
       "      <td>3</td>\n",
       "    </tr>\n",
       "    <tr>\n",
       "      <th>1083</th>\n",
       "      <td>['com.facebook.orca', 'com.facebook.katana', 'com.whatsapp', 'com.whatsapp']</td>\n",
       "      <td>53638</td>\n",
       "      <td>4</td>\n",
       "    </tr>\n",
       "    <tr>\n",
       "      <th>1084</th>\n",
       "      <td>['com.android.chrome', 'com.whatsapp', 'com.android.chrome', 'com.google.android.googlequicksearchbox']</td>\n",
       "      <td>53634</td>\n",
       "      <td>4</td>\n",
       "    </tr>\n",
       "    <tr>\n",
       "      <th>1085</th>\n",
       "      <td>['com.google.android.apps.docs', 'com.google.android.googlequicksearchbox']</td>\n",
       "      <td>53617</td>\n",
       "      <td>2</td>\n",
       "    </tr>\n",
       "    <tr>\n",
       "      <th>1086</th>\n",
       "      <td>['com.android.chrome', 'com.facebook.orca', 'com.facebook.katana', 'com.facebook.orca']</td>\n",
       "      <td>53615</td>\n",
       "      <td>4</td>\n",
       "    </tr>\n",
       "    <tr>\n",
       "      <th>1087</th>\n",
       "      <td>['com.sonyericsson.conversations', 'com.facebook.katana', 'com.whatsapp', 'com.facebook.katana']</td>\n",
       "      <td>53600</td>\n",
       "      <td>4</td>\n",
       "    </tr>\n",
       "    <tr>\n",
       "      <th>1088</th>\n",
       "      <td>['com.whatsapp', 'com.google.android.googlequicksearchbox', 'com.android.chrome', 'com.google.android.googlequicksearchbox', 'com.android.chrome']</td>\n",
       "      <td>53590</td>\n",
       "      <td>5</td>\n",
       "    </tr>\n",
       "    <tr>\n",
       "      <th>1089</th>\n",
       "      <td>['com.facebook.katana', 'com.facebook.orca', 'com.facebook.orca', 'com.facebook.katana', 'com.facebook.orca']</td>\n",
       "      <td>53566</td>\n",
       "      <td>5</td>\n",
       "    </tr>\n",
       "    <tr>\n",
       "      <th>1090</th>\n",
       "      <td>['com.facebook.orca', 'com.tinder']</td>\n",
       "      <td>53561</td>\n",
       "      <td>2</td>\n",
       "    </tr>\n",
       "    <tr>\n",
       "      <th>1091</th>\n",
       "      <td>['com.android.chrome', 'com.facebook.orca', 'com.google.android.googlequicksearchbox']</td>\n",
       "      <td>53559</td>\n",
       "      <td>3</td>\n",
       "    </tr>\n",
       "    <tr>\n",
       "      <th>1092</th>\n",
       "      <td>['com.facebook.orca', 'com.android.chrome', 'com.instagram.android']</td>\n",
       "      <td>53508</td>\n",
       "      <td>3</td>\n",
       "    </tr>\n",
       "    <tr>\n",
       "      <th>1093</th>\n",
       "      <td>['com.twitter.android', 'com.microsoft.office.outlook']</td>\n",
       "      <td>53477</td>\n",
       "      <td>2</td>\n",
       "    </tr>\n",
       "    <tr>\n",
       "      <th>1094</th>\n",
       "      <td>['com.facebook.orca', 'com.facebook.katana', 'com.facebook.katana', 'com.whatsapp']</td>\n",
       "      <td>53476</td>\n",
       "      <td>4</td>\n",
       "    </tr>\n",
       "    <tr>\n",
       "      <th>1095</th>\n",
       "      <td>['com.google.android.googlequicksearchbox', 'com.snapchat.android', 'com.facebook.katana']</td>\n",
       "      <td>53444</td>\n",
       "      <td>3</td>\n",
       "    </tr>\n",
       "    <tr>\n",
       "      <th>1096</th>\n",
       "      <td>['com.sonyericsson.conversations', 'com.facebook.katana', 'com.sonymobile.email']</td>\n",
       "      <td>53354</td>\n",
       "      <td>3</td>\n",
       "    </tr>\n",
       "    <tr>\n",
       "      <th>1097</th>\n",
       "      <td>['com.google.android.googlequicksearchbox', 'com.instagram.android', 'com.whatsapp']</td>\n",
       "      <td>53340</td>\n",
       "      <td>3</td>\n",
       "    </tr>\n",
       "    <tr>\n",
       "      <th>1098</th>\n",
       "      <td>['com.google.android.youtube', 'com.facebook.orca', 'com.facebook.katana']</td>\n",
       "      <td>53331</td>\n",
       "      <td>3</td>\n",
       "    </tr>\n",
       "    <tr>\n",
       "      <th>1099</th>\n",
       "      <td>['com.android.incallui', 'com.sonyericsson.conversations', 'com.sonyericsson.android.socialphonebook']</td>\n",
       "      <td>53270</td>\n",
       "      <td>3</td>\n",
       "    </tr>\n",
       "    <tr>\n",
       "      <th>1100</th>\n",
       "      <td>['com.facebook.katana', 'com.facebook.katana', 'com.whatsapp', 'com.facebook.orca']</td>\n",
       "      <td>53266</td>\n",
       "      <td>4</td>\n",
       "    </tr>\n",
       "    <tr>\n",
       "      <th>1101</th>\n",
       "      <td>['com.twitter.android', 'com.facebook.katana', 'com.instagram.android']</td>\n",
       "      <td>53245</td>\n",
       "      <td>3</td>\n",
       "    </tr>\n",
       "    <tr>\n",
       "      <th>1102</th>\n",
       "      <td>['com.android.chrome', 'com.sonyericsson.album', 'com.facebook.katana']</td>\n",
       "      <td>53230</td>\n",
       "      <td>3</td>\n",
       "    </tr>\n",
       "    <tr>\n",
       "      <th>1103</th>\n",
       "      <td>['com.google.android.youtube', 'com.android.incallui']</td>\n",
       "      <td>53161</td>\n",
       "      <td>2</td>\n",
       "    </tr>\n",
       "    <tr>\n",
       "      <th>1104</th>\n",
       "      <td>['com.instagram.android', 'com.facebook.katana', 'com.facebook.orca', 'com.facebook.katana']</td>\n",
       "      <td>53139</td>\n",
       "      <td>4</td>\n",
       "    </tr>\n",
       "    <tr>\n",
       "      <th>1105</th>\n",
       "      <td>['com.facebook.katana', 'com.facebook.katana', 'com.google.android.googlequicksearchbox', 'com.google.android.googlequicksearchbox']</td>\n",
       "      <td>53103</td>\n",
       "      <td>4</td>\n",
       "    </tr>\n",
       "    <tr>\n",
       "      <th>1106</th>\n",
       "      <td>['com.facebook.katana', 'com.instagram.android', 'com.google.android.youtube']</td>\n",
       "      <td>53072</td>\n",
       "      <td>3</td>\n",
       "    </tr>\n",
       "    <tr>\n",
       "      <th>1107</th>\n",
       "      <td>['com.instagram.android', 'com.android.chrome', 'com.facebook.orca']</td>\n",
       "      <td>53038</td>\n",
       "      <td>3</td>\n",
       "    </tr>\n",
       "    <tr>\n",
       "      <th>1108</th>\n",
       "      <td>['com.instagram.android', 'com.whatsapp', 'com.google.android.googlequicksearchbox']</td>\n",
       "      <td>53030</td>\n",
       "      <td>3</td>\n",
       "    </tr>\n",
       "    <tr>\n",
       "      <th>1109</th>\n",
       "      <td>['com.facebook.katana', 'com.instagram.android', 'com.snapchat.android', 'com.facebook.katana']</td>\n",
       "      <td>52944</td>\n",
       "      <td>4</td>\n",
       "    </tr>\n",
       "    <tr>\n",
       "      <th>1110</th>\n",
       "      <td>['com.whatsapp', 'com.instagram.android', 'com.whatsapp', 'com.instagram.android', 'com.whatsapp']</td>\n",
       "      <td>52930</td>\n",
       "      <td>5</td>\n",
       "    </tr>\n",
       "    <tr>\n",
       "      <th>1111</th>\n",
       "      <td>['com.google.android.googlequicksearchbox', 'com.android.chrome', 'com.android.incallui']</td>\n",
       "      <td>52925</td>\n",
       "      <td>3</td>\n",
       "    </tr>\n",
       "    <tr>\n",
       "      <th>1112</th>\n",
       "      <td>['com.instagram.android', 'com.instagram.android', 'com.google.android.googlequicksearchbox']</td>\n",
       "      <td>52912</td>\n",
       "      <td>3</td>\n",
       "    </tr>\n",
       "    <tr>\n",
       "      <th>1113</th>\n",
       "      <td>['com.facebook.orca', 'com.facebook.katana', 'com.facebook.katana', 'com.facebook.orca', 'com.facebook.katana']</td>\n",
       "      <td>52903</td>\n",
       "      <td>5</td>\n",
       "    </tr>\n",
       "    <tr>\n",
       "      <th>1114</th>\n",
       "      <td>['com.facebook.katana', 'com.google.android.googlequicksearchbox', 'com.google.android.gm']</td>\n",
       "      <td>52901</td>\n",
       "      <td>3</td>\n",
       "    </tr>\n",
       "    <tr>\n",
       "      <th>1115</th>\n",
       "      <td>['com.facebook.orca', 'com.facebook.katana', 'com.sonyericsson.album']</td>\n",
       "      <td>52833</td>\n",
       "      <td>3</td>\n",
       "    </tr>\n",
       "    <tr>\n",
       "      <th>1116</th>\n",
       "      <td>['com.google.android.googlequicksearchbox', 'com.google.android.googlequicksearchbox', 'com.android.chrome', 'com.google.android.googlequicksearchbox', 'com.android.chrome', 'com.google.android.googlequicksearchbox']</td>\n",
       "      <td>52815</td>\n",
       "      <td>6</td>\n",
       "    </tr>\n",
       "    <tr>\n",
       "      <th>1117</th>\n",
       "      <td>['com.android.chrome', 'com.google.android.googlequicksearchbox', 'com.whatsapp', 'com.android.chrome']</td>\n",
       "      <td>52786</td>\n",
       "      <td>4</td>\n",
       "    </tr>\n",
       "    <tr>\n",
       "      <th>1118</th>\n",
       "      <td>['com.google.android.youtube', 'com.instagram.android', 'com.google.android.youtube']</td>\n",
       "      <td>52776</td>\n",
       "      <td>3</td>\n",
       "    </tr>\n",
       "    <tr>\n",
       "      <th>1119</th>\n",
       "      <td>['com.google.android.apps.maps', 'com.facebook.katana', 'com.facebook.katana']</td>\n",
       "      <td>52774</td>\n",
       "      <td>3</td>\n",
       "    </tr>\n",
       "    <tr>\n",
       "      <th>1120</th>\n",
       "      <td>['com.sonymobile.email', 'com.google.android.googlequicksearchbox', 'com.google.android.googlequicksearchbox']</td>\n",
       "      <td>52769</td>\n",
       "      <td>3</td>\n",
       "    </tr>\n",
       "    <tr>\n",
       "      <th>1121</th>\n",
       "      <td>['com.linkedin.android', 'com.android.chrome']</td>\n",
       "      <td>52669</td>\n",
       "      <td>2</td>\n",
       "    </tr>\n",
       "    <tr>\n",
       "      <th>1122</th>\n",
       "      <td>['com.ebay.mobile', 'com.sonyericsson.conversations']</td>\n",
       "      <td>52650</td>\n",
       "      <td>2</td>\n",
       "    </tr>\n",
       "  </tbody>\n",
       "</table>\n",
       "</div>"
      ],
      "text/plain": [
       "                                                                                                                                                                                                                       pattern  \\\n",
       "1067                                                                                                                             ['com.facebook.katana', 'com.facebook.katana', 'com.facebook.katana', 'com.snapchat.android']   \n",
       "1068                                                                                                                                                      ['com.android.chrome', 'com.facebook.orca', 'com.instagram.android']   \n",
       "1069                                                                                                                                           ['com.whatsapp', 'com.instagram.android', 'com.whatsapp', 'com.android.chrome']   \n",
       "1070                                                                                                                            ['com.facebook.katana', 'com.facebook.katana', 'com.whatsapp', 'com.whatsapp', 'com.whatsapp']   \n",
       "1071                                                                                                          ['com.android.chrome', 'com.sonyericsson.conversations', 'com.android.chrome', 'com.sonyericsson.conversations']   \n",
       "1072                                                                                                                                                             ['com.android.chrome', 'com.twitter.android', 'com.whatsapp']   \n",
       "1074                                                                                                                                                            ['com.android.chrome', 'com.snapchat.android', 'com.whatsapp']   \n",
       "1075                                                                                                                                                            ['com.sonymobile.email', 'com.whatsapp', 'com.android.chrome']   \n",
       "1076                                                                                                         ['com.facebook.katana', 'com.facebook.katana', 'com.facebook.katana', 'com.facebook.orca', 'com.facebook.katana']   \n",
       "1077                                                                                                                         ['com.google.android.apps.maps', 'com.android.chrome', 'com.google.android.googlequicksearchbox']   \n",
       "1078                                                                                                                     ['com.whatsapp', 'com.whatsapp', 'com.facebook.katana', 'com.facebook.katana', 'com.facebook.katana']   \n",
       "1079                                                                                                           ['com.facebook.orca', 'com.facebook.katana', 'com.facebook.orca', 'com.facebook.katana', 'com.facebook.katana']   \n",
       "1080                                                                                                                                 ['com.facebook.orca', 'com.facebook.katana', 'com.facebook.katana', 'com.android.chrome']   \n",
       "1081                                                                                                         ['com.facebook.katana', 'com.facebook.katana', 'com.facebook.orca', 'com.facebook.katana', 'com.facebook.katana']   \n",
       "1082                                                                                                                                                ['com.facebook.katana', 'com.google.android.youtube', 'com.facebook.orca']   \n",
       "1083                                                                                                                                              ['com.facebook.orca', 'com.facebook.katana', 'com.whatsapp', 'com.whatsapp']   \n",
       "1084                                                                                                                   ['com.android.chrome', 'com.whatsapp', 'com.android.chrome', 'com.google.android.googlequicksearchbox']   \n",
       "1085                                                                                                                                               ['com.google.android.apps.docs', 'com.google.android.googlequicksearchbox']   \n",
       "1086                                                                                                                                   ['com.android.chrome', 'com.facebook.orca', 'com.facebook.katana', 'com.facebook.orca']   \n",
       "1087                                                                                                                          ['com.sonyericsson.conversations', 'com.facebook.katana', 'com.whatsapp', 'com.facebook.katana']   \n",
       "1088                                                                        ['com.whatsapp', 'com.google.android.googlequicksearchbox', 'com.android.chrome', 'com.google.android.googlequicksearchbox', 'com.android.chrome']   \n",
       "1089                                                                                                             ['com.facebook.katana', 'com.facebook.orca', 'com.facebook.orca', 'com.facebook.katana', 'com.facebook.orca']   \n",
       "1090                                                                                                                                                                                       ['com.facebook.orca', 'com.tinder']   \n",
       "1091                                                                                                                                    ['com.android.chrome', 'com.facebook.orca', 'com.google.android.googlequicksearchbox']   \n",
       "1092                                                                                                                                                      ['com.facebook.orca', 'com.android.chrome', 'com.instagram.android']   \n",
       "1093                                                                                                                                                                   ['com.twitter.android', 'com.microsoft.office.outlook']   \n",
       "1094                                                                                                                                       ['com.facebook.orca', 'com.facebook.katana', 'com.facebook.katana', 'com.whatsapp']   \n",
       "1095                                                                                                                                ['com.google.android.googlequicksearchbox', 'com.snapchat.android', 'com.facebook.katana']   \n",
       "1096                                                                                                                                         ['com.sonyericsson.conversations', 'com.facebook.katana', 'com.sonymobile.email']   \n",
       "1097                                                                                                                                      ['com.google.android.googlequicksearchbox', 'com.instagram.android', 'com.whatsapp']   \n",
       "1098                                                                                                                                                ['com.google.android.youtube', 'com.facebook.orca', 'com.facebook.katana']   \n",
       "1099                                                                                                                    ['com.android.incallui', 'com.sonyericsson.conversations', 'com.sonyericsson.android.socialphonebook']   \n",
       "1100                                                                                                                                       ['com.facebook.katana', 'com.facebook.katana', 'com.whatsapp', 'com.facebook.orca']   \n",
       "1101                                                                                                                                                   ['com.twitter.android', 'com.facebook.katana', 'com.instagram.android']   \n",
       "1102                                                                                                                                                   ['com.android.chrome', 'com.sonyericsson.album', 'com.facebook.katana']   \n",
       "1103                                                                                                                                                                    ['com.google.android.youtube', 'com.android.incallui']   \n",
       "1104                                                                                                                              ['com.instagram.android', 'com.facebook.katana', 'com.facebook.orca', 'com.facebook.katana']   \n",
       "1105                                                                                      ['com.facebook.katana', 'com.facebook.katana', 'com.google.android.googlequicksearchbox', 'com.google.android.googlequicksearchbox']   \n",
       "1106                                                                                                                                            ['com.facebook.katana', 'com.instagram.android', 'com.google.android.youtube']   \n",
       "1107                                                                                                                                                      ['com.instagram.android', 'com.android.chrome', 'com.facebook.orca']   \n",
       "1108                                                                                                                                      ['com.instagram.android', 'com.whatsapp', 'com.google.android.googlequicksearchbox']   \n",
       "1109                                                                                                                           ['com.facebook.katana', 'com.instagram.android', 'com.snapchat.android', 'com.facebook.katana']   \n",
       "1110                                                                                                                        ['com.whatsapp', 'com.instagram.android', 'com.whatsapp', 'com.instagram.android', 'com.whatsapp']   \n",
       "1111                                                                                                                                 ['com.google.android.googlequicksearchbox', 'com.android.chrome', 'com.android.incallui']   \n",
       "1112                                                                                                                             ['com.instagram.android', 'com.instagram.android', 'com.google.android.googlequicksearchbox']   \n",
       "1113                                                                                                           ['com.facebook.orca', 'com.facebook.katana', 'com.facebook.katana', 'com.facebook.orca', 'com.facebook.katana']   \n",
       "1114                                                                                                                               ['com.facebook.katana', 'com.google.android.googlequicksearchbox', 'com.google.android.gm']   \n",
       "1115                                                                                                                                                    ['com.facebook.orca', 'com.facebook.katana', 'com.sonyericsson.album']   \n",
       "1116  ['com.google.android.googlequicksearchbox', 'com.google.android.googlequicksearchbox', 'com.android.chrome', 'com.google.android.googlequicksearchbox', 'com.android.chrome', 'com.google.android.googlequicksearchbox']   \n",
       "1117                                                                                                                   ['com.android.chrome', 'com.google.android.googlequicksearchbox', 'com.whatsapp', 'com.android.chrome']   \n",
       "1118                                                                                                                                     ['com.google.android.youtube', 'com.instagram.android', 'com.google.android.youtube']   \n",
       "1119                                                                                                                                            ['com.google.android.apps.maps', 'com.facebook.katana', 'com.facebook.katana']   \n",
       "1120                                                                                                            ['com.sonymobile.email', 'com.google.android.googlequicksearchbox', 'com.google.android.googlequicksearchbox']   \n",
       "1121                                                                                                                                                                            ['com.linkedin.android', 'com.android.chrome']   \n",
       "1122                                                                                                                                                                     ['com.ebay.mobile', 'com.sonyericsson.conversations']   \n",
       "\n",
       "        sup  pattern_length  \n",
       "1067  53934               4  \n",
       "1068  53927               3  \n",
       "1069  53806               4  \n",
       "1070  53792               5  \n",
       "1071  53788               4  \n",
       "1072  53786               3  \n",
       "1074  53780               3  \n",
       "1075  53767               3  \n",
       "1076  53764               5  \n",
       "1077  53734               3  \n",
       "1078  53731               5  \n",
       "1079  53700               5  \n",
       "1080  53695               4  \n",
       "1081  53683               5  \n",
       "1082  53643               3  \n",
       "1083  53638               4  \n",
       "1084  53634               4  \n",
       "1085  53617               2  \n",
       "1086  53615               4  \n",
       "1087  53600               4  \n",
       "1088  53590               5  \n",
       "1089  53566               5  \n",
       "1090  53561               2  \n",
       "1091  53559               3  \n",
       "1092  53508               3  \n",
       "1093  53477               2  \n",
       "1094  53476               4  \n",
       "1095  53444               3  \n",
       "1096  53354               3  \n",
       "1097  53340               3  \n",
       "1098  53331               3  \n",
       "1099  53270               3  \n",
       "1100  53266               4  \n",
       "1101  53245               3  \n",
       "1102  53230               3  \n",
       "1103  53161               2  \n",
       "1104  53139               4  \n",
       "1105  53103               4  \n",
       "1106  53072               3  \n",
       "1107  53038               3  \n",
       "1108  53030               3  \n",
       "1109  52944               4  \n",
       "1110  52930               5  \n",
       "1111  52925               3  \n",
       "1112  52912               3  \n",
       "1113  52903               5  \n",
       "1114  52901               3  \n",
       "1115  52833               3  \n",
       "1116  52815               6  \n",
       "1117  52786               4  \n",
       "1118  52776               3  \n",
       "1119  52774               3  \n",
       "1120  52769               3  \n",
       "1121  52669               2  \n",
       "1122  52650               2  "
      ]
     },
     "execution_count": 25,
     "metadata": {},
     "output_type": "execute_result"
    }
   ],
   "source": [
    "print(\"Patterns which are only found using the percentage dedintion of infrequency:\")\n",
    "output[output.pattern.isin(set(output.pattern)-set(output_coverage.pattern))]"
   ]
  },
  {
   "cell_type": "code",
   "execution_count": 26,
   "metadata": {
    "scrolled": true
   },
   "outputs": [
    {
     "name": "stdout",
     "output_type": "stream",
     "text": [
      "Patterns which are only found using the coverage definition of infrequency:\n"
     ]
    },
    {
     "data": {
      "text/html": [
       "<div>\n",
       "<style scoped>\n",
       "    .dataframe tbody tr th:only-of-type {\n",
       "        vertical-align: middle;\n",
       "    }\n",
       "\n",
       "    .dataframe tbody tr th {\n",
       "        vertical-align: top;\n",
       "    }\n",
       "\n",
       "    .dataframe thead th {\n",
       "        text-align: right;\n",
       "    }\n",
       "</style>\n",
       "<table border=\"1\" class=\"dataframe\">\n",
       "  <thead>\n",
       "    <tr style=\"text-align: right;\">\n",
       "      <th></th>\n",
       "      <th>pattern</th>\n",
       "      <th>sup</th>\n",
       "      <th>pattern_length</th>\n",
       "    </tr>\n",
       "  </thead>\n",
       "  <tbody>\n",
       "    <tr>\n",
       "      <th>2</th>\n",
       "      <td>['com.linkedin.android']</td>\n",
       "      <td>270103</td>\n",
       "      <td>1</td>\n",
       "    </tr>\n",
       "    <tr>\n",
       "      <th>67</th>\n",
       "      <td>['com.facebook.katana', 'com.instagram.android', 'com.snapchat.android']</td>\n",
       "      <td>149892</td>\n",
       "      <td>3</td>\n",
       "    </tr>\n",
       "    <tr>\n",
       "      <th>80</th>\n",
       "      <td>['com.instagram.android', 'com.snapchat.android', 'com.facebook.katana']</td>\n",
       "      <td>143517</td>\n",
       "      <td>3</td>\n",
       "    </tr>\n",
       "    <tr>\n",
       "      <th>102</th>\n",
       "      <td>['com.whatsapp', 'com.google.android.googlequicksearchbox', 'com.android.chrome', 'com.google.android.googlequicksearchbox']</td>\n",
       "      <td>133698</td>\n",
       "      <td>4</td>\n",
       "    </tr>\n",
       "    <tr>\n",
       "      <th>113</th>\n",
       "      <td>['com.instagram.android', 'com.facebook.orca', 'com.facebook.katana']</td>\n",
       "      <td>129184</td>\n",
       "      <td>3</td>\n",
       "    </tr>\n",
       "    <tr>\n",
       "      <th>146</th>\n",
       "      <td>['com.android.chrome', 'com.android.chrome', 'com.sonyericsson.conversations']</td>\n",
       "      <td>119956</td>\n",
       "      <td>3</td>\n",
       "    </tr>\n",
       "    <tr>\n",
       "      <th>177</th>\n",
       "      <td>['com.android.chrome', 'com.facebook.orca', 'com.facebook.orca']</td>\n",
       "      <td>113189</td>\n",
       "      <td>3</td>\n",
       "    </tr>\n",
       "    <tr>\n",
       "      <th>182</th>\n",
       "      <td>['com.instagram.android', 'com.whatsapp', 'com.android.chrome']</td>\n",
       "      <td>112147</td>\n",
       "      <td>3</td>\n",
       "    </tr>\n",
       "    <tr>\n",
       "      <th>190</th>\n",
       "      <td>['com.android.chrome', 'com.sonyericsson.conversations', 'com.sonyericsson.conversations']</td>\n",
       "      <td>110815</td>\n",
       "      <td>3</td>\n",
       "    </tr>\n",
       "    <tr>\n",
       "      <th>211</th>\n",
       "      <td>['com.whatsapp', 'com.instagram.android', 'com.whatsapp', 'com.whatsapp']</td>\n",
       "      <td>107290</td>\n",
       "      <td>4</td>\n",
       "    </tr>\n",
       "    <tr>\n",
       "      <th>213</th>\n",
       "      <td>['com.whatsapp', 'com.instagram.android', 'com.whatsapp', 'com.instagram.android']</td>\n",
       "      <td>106808</td>\n",
       "      <td>4</td>\n",
       "    </tr>\n",
       "    <tr>\n",
       "      <th>219</th>\n",
       "      <td>['com.whatsapp', 'com.whatsapp', 'com.instagram.android', 'com.whatsapp']</td>\n",
       "      <td>105351</td>\n",
       "      <td>4</td>\n",
       "    </tr>\n",
       "    <tr>\n",
       "      <th>338</th>\n",
       "      <td>['com.instagram.android', 'com.whatsapp', 'com.instagram.android', 'com.whatsapp']</td>\n",
       "      <td>89217</td>\n",
       "      <td>4</td>\n",
       "    </tr>\n",
       "    <tr>\n",
       "      <th>396</th>\n",
       "      <td>['com.whatsapp', 'com.android.chrome', 'com.google.android.googlequicksearchbox', 'com.android.chrome']</td>\n",
       "      <td>84707</td>\n",
       "      <td>4</td>\n",
       "    </tr>\n",
       "    <tr>\n",
       "      <th>422</th>\n",
       "      <td>['com.whatsapp', 'com.google.android.googlequicksearchbox', 'com.android.chrome', 'com.android.chrome']</td>\n",
       "      <td>82521</td>\n",
       "      <td>4</td>\n",
       "    </tr>\n",
       "    <tr>\n",
       "      <th>469</th>\n",
       "      <td>['com.facebook.katana', 'com.facebook.orca', 'com.facebook.orca', 'com.facebook.orca']</td>\n",
       "      <td>78882</td>\n",
       "      <td>4</td>\n",
       "    </tr>\n",
       "    <tr>\n",
       "      <th>523</th>\n",
       "      <td>['com.facebook.orca', 'com.facebook.orca', 'com.facebook.katana', 'com.facebook.katana']</td>\n",
       "      <td>75374</td>\n",
       "      <td>4</td>\n",
       "    </tr>\n",
       "    <tr>\n",
       "      <th>549</th>\n",
       "      <td>['com.whatsapp', 'com.instagram.android', 'com.instagram.android', 'com.whatsapp']</td>\n",
       "      <td>73392</td>\n",
       "      <td>4</td>\n",
       "    </tr>\n",
       "    <tr>\n",
       "      <th>604</th>\n",
       "      <td>['com.whatsapp', 'com.google.android.googlequicksearchbox', 'com.google.android.googlequicksearchbox', 'com.android.chrome']</td>\n",
       "      <td>71108</td>\n",
       "      <td>4</td>\n",
       "    </tr>\n",
       "    <tr>\n",
       "      <th>819</th>\n",
       "      <td>['com.google.android.googlequicksearchbox', 'com.google.android.googlequicksearchbox', 'com.android.chrome', 'com.android.chrome', 'com.google.android.googlequicksearchbox']</td>\n",
       "      <td>61716</td>\n",
       "      <td>5</td>\n",
       "    </tr>\n",
       "  </tbody>\n",
       "</table>\n",
       "</div>"
      ],
      "text/plain": [
       "                                                                                                                                                                           pattern  \\\n",
       "2                                                                                                                                                         ['com.linkedin.android']   \n",
       "67                                                                                                        ['com.facebook.katana', 'com.instagram.android', 'com.snapchat.android']   \n",
       "80                                                                                                        ['com.instagram.android', 'com.snapchat.android', 'com.facebook.katana']   \n",
       "102                                                   ['com.whatsapp', 'com.google.android.googlequicksearchbox', 'com.android.chrome', 'com.google.android.googlequicksearchbox']   \n",
       "113                                                                                                          ['com.instagram.android', 'com.facebook.orca', 'com.facebook.katana']   \n",
       "146                                                                                                 ['com.android.chrome', 'com.android.chrome', 'com.sonyericsson.conversations']   \n",
       "177                                                                                                               ['com.android.chrome', 'com.facebook.orca', 'com.facebook.orca']   \n",
       "182                                                                                                                ['com.instagram.android', 'com.whatsapp', 'com.android.chrome']   \n",
       "190                                                                                     ['com.android.chrome', 'com.sonyericsson.conversations', 'com.sonyericsson.conversations']   \n",
       "211                                                                                                      ['com.whatsapp', 'com.instagram.android', 'com.whatsapp', 'com.whatsapp']   \n",
       "213                                                                                             ['com.whatsapp', 'com.instagram.android', 'com.whatsapp', 'com.instagram.android']   \n",
       "219                                                                                                      ['com.whatsapp', 'com.whatsapp', 'com.instagram.android', 'com.whatsapp']   \n",
       "338                                                                                             ['com.instagram.android', 'com.whatsapp', 'com.instagram.android', 'com.whatsapp']   \n",
       "396                                                                        ['com.whatsapp', 'com.android.chrome', 'com.google.android.googlequicksearchbox', 'com.android.chrome']   \n",
       "422                                                                        ['com.whatsapp', 'com.google.android.googlequicksearchbox', 'com.android.chrome', 'com.android.chrome']   \n",
       "469                                                                                         ['com.facebook.katana', 'com.facebook.orca', 'com.facebook.orca', 'com.facebook.orca']   \n",
       "523                                                                                       ['com.facebook.orca', 'com.facebook.orca', 'com.facebook.katana', 'com.facebook.katana']   \n",
       "549                                                                                             ['com.whatsapp', 'com.instagram.android', 'com.instagram.android', 'com.whatsapp']   \n",
       "604                                                   ['com.whatsapp', 'com.google.android.googlequicksearchbox', 'com.google.android.googlequicksearchbox', 'com.android.chrome']   \n",
       "819  ['com.google.android.googlequicksearchbox', 'com.google.android.googlequicksearchbox', 'com.android.chrome', 'com.android.chrome', 'com.google.android.googlequicksearchbox']   \n",
       "\n",
       "        sup  pattern_length  \n",
       "2    270103               1  \n",
       "67   149892               3  \n",
       "80   143517               3  \n",
       "102  133698               4  \n",
       "113  129184               3  \n",
       "146  119956               3  \n",
       "177  113189               3  \n",
       "182  112147               3  \n",
       "190  110815               3  \n",
       "211  107290               4  \n",
       "213  106808               4  \n",
       "219  105351               4  \n",
       "338   89217               4  \n",
       "396   84707               4  \n",
       "422   82521               4  \n",
       "469   78882               4  \n",
       "523   75374               4  \n",
       "549   73392               4  \n",
       "604   71108               4  \n",
       "819   61716               5  "
      ]
     },
     "execution_count": 26,
     "metadata": {},
     "output_type": "execute_result"
    }
   ],
   "source": [
    "print(\"Patterns which are only found using the coverage definition of infrequency:\")\n",
    "output_coverage[output_coverage.pattern.isin(set(output_coverage.pattern)-set(output.pattern))]"
   ]
  },
  {
   "cell_type": "markdown",
   "metadata": {},
   "source": [
    "Since they the results only show maximal patterns, it is interesting if any of these non overlaping maximal patterns, do occur as non-maximal frequent patterns in the other."
   ]
  },
  {
   "cell_type": "code",
   "execution_count": 27,
   "metadata": {},
   "outputs": [
    {
     "name": "stderr",
     "output_type": "stream",
     "text": [
      "<ipython-input-27-10cff51aca26>:1: FutureWarning: The default value of regex will change from True to False in a future version.\n",
      "  output[output.pattern.isin(set(output.pattern)-set(output_coverage.pattern))].pattern.str.replace(r'[\\[\\]\\']','')\n"
     ]
    },
    {
     "data": {
      "text/plain": [
       "1067                                                                                                                           com.facebook.katana, com.facebook.katana, com.facebook.katana, com.snapchat.android\n",
       "1068                                                                                                                                                  com.android.chrome, com.facebook.orca, com.instagram.android\n",
       "1069                                                                                                                                         com.whatsapp, com.instagram.android, com.whatsapp, com.android.chrome\n",
       "1070                                                                                                                            com.facebook.katana, com.facebook.katana, com.whatsapp, com.whatsapp, com.whatsapp\n",
       "1071                                                                                                        com.android.chrome, com.sonyericsson.conversations, com.android.chrome, com.sonyericsson.conversations\n",
       "1072                                                                                                                                                         com.android.chrome, com.twitter.android, com.whatsapp\n",
       "1074                                                                                                                                                        com.android.chrome, com.snapchat.android, com.whatsapp\n",
       "1075                                                                                                                                                        com.sonymobile.email, com.whatsapp, com.android.chrome\n",
       "1076                                                                                                         com.facebook.katana, com.facebook.katana, com.facebook.katana, com.facebook.orca, com.facebook.katana\n",
       "1077                                                                                                                     com.google.android.apps.maps, com.android.chrome, com.google.android.googlequicksearchbox\n",
       "1078                                                                                                                     com.whatsapp, com.whatsapp, com.facebook.katana, com.facebook.katana, com.facebook.katana\n",
       "1079                                                                                                           com.facebook.orca, com.facebook.katana, com.facebook.orca, com.facebook.katana, com.facebook.katana\n",
       "1080                                                                                                                               com.facebook.orca, com.facebook.katana, com.facebook.katana, com.android.chrome\n",
       "1081                                                                                                         com.facebook.katana, com.facebook.katana, com.facebook.orca, com.facebook.katana, com.facebook.katana\n",
       "1082                                                                                                                                            com.facebook.katana, com.google.android.youtube, com.facebook.orca\n",
       "1083                                                                                                                                            com.facebook.orca, com.facebook.katana, com.whatsapp, com.whatsapp\n",
       "1084                                                                                                                 com.android.chrome, com.whatsapp, com.android.chrome, com.google.android.googlequicksearchbox\n",
       "1085                                                                                                                                         com.google.android.apps.docs, com.google.android.googlequicksearchbox\n",
       "1086                                                                                                                                 com.android.chrome, com.facebook.orca, com.facebook.katana, com.facebook.orca\n",
       "1087                                                                                                                        com.sonyericsson.conversations, com.facebook.katana, com.whatsapp, com.facebook.katana\n",
       "1088                                                                        com.whatsapp, com.google.android.googlequicksearchbox, com.android.chrome, com.google.android.googlequicksearchbox, com.android.chrome\n",
       "1089                                                                                                             com.facebook.katana, com.facebook.orca, com.facebook.orca, com.facebook.katana, com.facebook.orca\n",
       "1090                                                                                                                                                                                 com.facebook.orca, com.tinder\n",
       "1091                                                                                                                                com.android.chrome, com.facebook.orca, com.google.android.googlequicksearchbox\n",
       "1092                                                                                                                                                  com.facebook.orca, com.android.chrome, com.instagram.android\n",
       "1093                                                                                                                                                             com.twitter.android, com.microsoft.office.outlook\n",
       "1094                                                                                                                                     com.facebook.orca, com.facebook.katana, com.facebook.katana, com.whatsapp\n",
       "1095                                                                                                                            com.google.android.googlequicksearchbox, com.snapchat.android, com.facebook.katana\n",
       "1096                                                                                                                                     com.sonyericsson.conversations, com.facebook.katana, com.sonymobile.email\n",
       "1097                                                                                                                                  com.google.android.googlequicksearchbox, com.instagram.android, com.whatsapp\n",
       "1098                                                                                                                                            com.google.android.youtube, com.facebook.orca, com.facebook.katana\n",
       "1099                                                                                                                com.android.incallui, com.sonyericsson.conversations, com.sonyericsson.android.socialphonebook\n",
       "1100                                                                                                                                     com.facebook.katana, com.facebook.katana, com.whatsapp, com.facebook.orca\n",
       "1101                                                                                                                                               com.twitter.android, com.facebook.katana, com.instagram.android\n",
       "1102                                                                                                                                               com.android.chrome, com.sonyericsson.album, com.facebook.katana\n",
       "1103                                                                                                                                                              com.google.android.youtube, com.android.incallui\n",
       "1104                                                                                                                            com.instagram.android, com.facebook.katana, com.facebook.orca, com.facebook.katana\n",
       "1105                                                                                    com.facebook.katana, com.facebook.katana, com.google.android.googlequicksearchbox, com.google.android.googlequicksearchbox\n",
       "1106                                                                                                                                        com.facebook.katana, com.instagram.android, com.google.android.youtube\n",
       "1107                                                                                                                                                  com.instagram.android, com.android.chrome, com.facebook.orca\n",
       "1108                                                                                                                                  com.instagram.android, com.whatsapp, com.google.android.googlequicksearchbox\n",
       "1109                                                                                                                         com.facebook.katana, com.instagram.android, com.snapchat.android, com.facebook.katana\n",
       "1110                                                                                                                        com.whatsapp, com.instagram.android, com.whatsapp, com.instagram.android, com.whatsapp\n",
       "1111                                                                                                                             com.google.android.googlequicksearchbox, com.android.chrome, com.android.incallui\n",
       "1112                                                                                                                         com.instagram.android, com.instagram.android, com.google.android.googlequicksearchbox\n",
       "1113                                                                                                           com.facebook.orca, com.facebook.katana, com.facebook.katana, com.facebook.orca, com.facebook.katana\n",
       "1114                                                                                                                           com.facebook.katana, com.google.android.googlequicksearchbox, com.google.android.gm\n",
       "1115                                                                                                                                                com.facebook.orca, com.facebook.katana, com.sonyericsson.album\n",
       "1116    com.google.android.googlequicksearchbox, com.google.android.googlequicksearchbox, com.android.chrome, com.google.android.googlequicksearchbox, com.android.chrome, com.google.android.googlequicksearchbox\n",
       "1117                                                                                                                 com.android.chrome, com.google.android.googlequicksearchbox, com.whatsapp, com.android.chrome\n",
       "1118                                                                                                                                 com.google.android.youtube, com.instagram.android, com.google.android.youtube\n",
       "1119                                                                                                                                        com.google.android.apps.maps, com.facebook.katana, com.facebook.katana\n",
       "1120                                                                                                        com.sonymobile.email, com.google.android.googlequicksearchbox, com.google.android.googlequicksearchbox\n",
       "1121                                                                                                                                                                      com.linkedin.android, com.android.chrome\n",
       "1122                                                                                                                                                               com.ebay.mobile, com.sonyericsson.conversations\n",
       "Name: pattern, dtype: object"
      ]
     },
     "execution_count": 27,
     "metadata": {},
     "output_type": "execute_result"
    }
   ],
   "source": [
    "#output[output.pattern.isin(set(output.pattern)-set(output_coverage.pattern))].pattern.str.replace(r'[\\[\\]\\']','')"
   ]
  },
  {
   "cell_type": "code",
   "execution_count": 20,
   "metadata": {},
   "outputs": [
    {
     "name": "stderr",
     "output_type": "stream",
     "text": [
      "<ipython-input-20-10cff51aca26>:1: FutureWarning: The default value of regex will change from True to False in a future version.\n",
      "  output[output.pattern.isin(set(output.pattern)-set(output_coverage.pattern))].pattern.str.replace(r'[\\[\\]\\']','')\n"
     ]
    },
    {
     "data": {
      "text/plain": [
       "83                                                com.facebook.orca, com.facebook.katana, com.instagram.android\n",
       "94                                                      com.whatsapp, com.facebook.katana, com.snapchat.android\n",
       "152                                                     com.facebook.katana, com.whatsapp, com.snapchat.android\n",
       "645                          com.whatsapp, com.whatsapp, com.facebook.katana, com.facebook.katana, com.whatsapp\n",
       "992                                                          com.sonymobile.email, com.google.android.apps.docs\n",
       "995     com.google.android.googlequicksearchbox, com.sonyericsson.android.socialphonebook, com.android.incallui\n",
       "998                                                          com.sonyericsson.music, com.google.android.youtube\n",
       "999                                                                 com.instagram.android, com.android.incallui\n",
       "1001                                                   com.google.android.apps.maps, com.google.android.youtube\n",
       "1002                                 com.google.android.googlequicksearchbox, com.google.android.apps.messaging\n",
       "Name: pattern, dtype: object"
      ]
     },
     "execution_count": 20,
     "metadata": {},
     "output_type": "execute_result"
    }
   ],
   "source": [
    "#output[output.pattern.isin(set(output.pattern)-set(output_coverage.pattern))].pattern.str.replace(r'[\\[\\]\\']','')"
   ]
  },
  {
   "cell_type": "code",
   "execution_count": 34,
   "metadata": {},
   "outputs": [
    {
     "data": {
      "text/html": [
       "<div>\n",
       "<style scoped>\n",
       "    .dataframe tbody tr th:only-of-type {\n",
       "        vertical-align: middle;\n",
       "    }\n",
       "\n",
       "    .dataframe tbody tr th {\n",
       "        vertical-align: top;\n",
       "    }\n",
       "\n",
       "    .dataframe thead th {\n",
       "        text-align: right;\n",
       "    }\n",
       "</style>\n",
       "<table border=\"1\" class=\"dataframe\">\n",
       "  <thead>\n",
       "    <tr style=\"text-align: right;\">\n",
       "      <th></th>\n",
       "      <th>pattern</th>\n",
       "      <th>sup</th>\n",
       "      <th>pattern_length</th>\n",
       "    </tr>\n",
       "  </thead>\n",
       "  <tbody>\n",
       "  </tbody>\n",
       "</table>\n",
       "</div>"
      ],
      "text/plain": [
       "Empty DataFrame\n",
       "Columns: [pattern, sup, pattern_length]\n",
       "Index: []"
      ]
     },
     "execution_count": 34,
     "metadata": {},
     "output_type": "execute_result"
    }
   ],
   "source": [
    "output[output.pattern.isin(set(output_coverage.pattern)-set(output.pattern))]"
   ]
  },
  {
   "cell_type": "code",
   "execution_count": 32,
   "metadata": {
    "scrolled": true
   },
   "outputs": [
    {
     "name": "stderr",
     "output_type": "stream",
     "text": [
      "<ipython-input-32-a4dff1fcb327>:1: FutureWarning: The default value of regex will change from True to False in a future version.\n",
      "  output_coverage['pattern']=output_coverage.pattern.str.replace(r'[\\[\\]\\']','')\n",
      "<ipython-input-32-a4dff1fcb327>:2: FutureWarning: The default value of regex will change from True to False in a future version.\n",
      "  output['pattern']=output.pattern.str.replace(r'[\\[\\]\\']','')\n"
     ]
    }
   ],
   "source": [
    "output_coverage['pattern']=output_coverage.pattern.str.replace(r'[\\[\\]\\']','')\n",
    "output['pattern']=output.pattern.str.replace(r'[\\[\\]\\']','')"
   ]
  },
  {
   "cell_type": "markdown",
   "metadata": {},
   "source": [
    "We identify the set of maximal patterns, which are not found with the coverage definition of infrequency."
   ]
  },
  {
   "cell_type": "code",
   "execution_count": 40,
   "metadata": {},
   "outputs": [],
   "source": [
    "maximal_patterns_not_with_coverage=output[output.pattern.isin(set(output.pattern)-set(output_coverage.pattern))]"
   ]
  },
  {
   "cell_type": "code",
   "execution_count": 64,
   "metadata": {},
   "outputs": [],
   "source": [
    "maximal_patterns_not_with_coverage=maximal_patterns_not_with_coverage.join(pd.DataFrame(maximal_patterns_not_with_coverage.pattern\\\n",
    ".apply(lambda l: output_coverage.pattern.str.contains(l).any())).rename(columns={'pattern':'in maximal'}))"
   ]
  },
  {
   "cell_type": "code",
   "execution_count": 65,
   "metadata": {},
   "outputs": [
    {
     "data": {
      "text/html": [
       "<div>\n",
       "<style scoped>\n",
       "    .dataframe tbody tr th:only-of-type {\n",
       "        vertical-align: middle;\n",
       "    }\n",
       "\n",
       "    .dataframe tbody tr th {\n",
       "        vertical-align: top;\n",
       "    }\n",
       "\n",
       "    .dataframe thead th {\n",
       "        text-align: right;\n",
       "    }\n",
       "</style>\n",
       "<table border=\"1\" class=\"dataframe\">\n",
       "  <thead>\n",
       "    <tr style=\"text-align: right;\">\n",
       "      <th></th>\n",
       "      <th>pattern</th>\n",
       "      <th>sup</th>\n",
       "      <th>pattern_length</th>\n",
       "      <th>in maximal</th>\n",
       "    </tr>\n",
       "  </thead>\n",
       "  <tbody>\n",
       "    <tr>\n",
       "      <th>1067</th>\n",
       "      <td>com.facebook.katana, com.facebook.katana, com.facebook.katana, com.snapchat.android</td>\n",
       "      <td>53934</td>\n",
       "      <td>4</td>\n",
       "      <td>False</td>\n",
       "    </tr>\n",
       "    <tr>\n",
       "      <th>1068</th>\n",
       "      <td>com.android.chrome, com.facebook.orca, com.instagram.android</td>\n",
       "      <td>53927</td>\n",
       "      <td>3</td>\n",
       "      <td>False</td>\n",
       "    </tr>\n",
       "    <tr>\n",
       "      <th>1069</th>\n",
       "      <td>com.whatsapp, com.instagram.android, com.whatsapp, com.android.chrome</td>\n",
       "      <td>53806</td>\n",
       "      <td>4</td>\n",
       "      <td>False</td>\n",
       "    </tr>\n",
       "    <tr>\n",
       "      <th>1070</th>\n",
       "      <td>com.facebook.katana, com.facebook.katana, com.whatsapp, com.whatsapp, com.whatsapp</td>\n",
       "      <td>53792</td>\n",
       "      <td>5</td>\n",
       "      <td>False</td>\n",
       "    </tr>\n",
       "    <tr>\n",
       "      <th>1071</th>\n",
       "      <td>com.android.chrome, com.sonyericsson.conversations, com.android.chrome, com.sonyericsson.conversations</td>\n",
       "      <td>53788</td>\n",
       "      <td>4</td>\n",
       "      <td>False</td>\n",
       "    </tr>\n",
       "    <tr>\n",
       "      <th>1072</th>\n",
       "      <td>com.android.chrome, com.twitter.android, com.whatsapp</td>\n",
       "      <td>53786</td>\n",
       "      <td>3</td>\n",
       "      <td>False</td>\n",
       "    </tr>\n",
       "    <tr>\n",
       "      <th>1074</th>\n",
       "      <td>com.android.chrome, com.snapchat.android, com.whatsapp</td>\n",
       "      <td>53780</td>\n",
       "      <td>3</td>\n",
       "      <td>False</td>\n",
       "    </tr>\n",
       "    <tr>\n",
       "      <th>1075</th>\n",
       "      <td>com.sonymobile.email, com.whatsapp, com.android.chrome</td>\n",
       "      <td>53767</td>\n",
       "      <td>3</td>\n",
       "      <td>False</td>\n",
       "    </tr>\n",
       "    <tr>\n",
       "      <th>1076</th>\n",
       "      <td>com.facebook.katana, com.facebook.katana, com.facebook.katana, com.facebook.orca, com.facebook.katana</td>\n",
       "      <td>53764</td>\n",
       "      <td>5</td>\n",
       "      <td>False</td>\n",
       "    </tr>\n",
       "    <tr>\n",
       "      <th>1077</th>\n",
       "      <td>com.google.android.apps.maps, com.android.chrome, com.google.android.googlequicksearchbox</td>\n",
       "      <td>53734</td>\n",
       "      <td>3</td>\n",
       "      <td>False</td>\n",
       "    </tr>\n",
       "    <tr>\n",
       "      <th>1078</th>\n",
       "      <td>com.whatsapp, com.whatsapp, com.facebook.katana, com.facebook.katana, com.facebook.katana</td>\n",
       "      <td>53731</td>\n",
       "      <td>5</td>\n",
       "      <td>False</td>\n",
       "    </tr>\n",
       "    <tr>\n",
       "      <th>1079</th>\n",
       "      <td>com.facebook.orca, com.facebook.katana, com.facebook.orca, com.facebook.katana, com.facebook.katana</td>\n",
       "      <td>53700</td>\n",
       "      <td>5</td>\n",
       "      <td>False</td>\n",
       "    </tr>\n",
       "    <tr>\n",
       "      <th>1080</th>\n",
       "      <td>com.facebook.orca, com.facebook.katana, com.facebook.katana, com.android.chrome</td>\n",
       "      <td>53695</td>\n",
       "      <td>4</td>\n",
       "      <td>False</td>\n",
       "    </tr>\n",
       "    <tr>\n",
       "      <th>1081</th>\n",
       "      <td>com.facebook.katana, com.facebook.katana, com.facebook.orca, com.facebook.katana, com.facebook.katana</td>\n",
       "      <td>53683</td>\n",
       "      <td>5</td>\n",
       "      <td>False</td>\n",
       "    </tr>\n",
       "    <tr>\n",
       "      <th>1082</th>\n",
       "      <td>com.facebook.katana, com.google.android.youtube, com.facebook.orca</td>\n",
       "      <td>53643</td>\n",
       "      <td>3</td>\n",
       "      <td>False</td>\n",
       "    </tr>\n",
       "    <tr>\n",
       "      <th>1083</th>\n",
       "      <td>com.facebook.orca, com.facebook.katana, com.whatsapp, com.whatsapp</td>\n",
       "      <td>53638</td>\n",
       "      <td>4</td>\n",
       "      <td>False</td>\n",
       "    </tr>\n",
       "    <tr>\n",
       "      <th>1084</th>\n",
       "      <td>com.android.chrome, com.whatsapp, com.android.chrome, com.google.android.googlequicksearchbox</td>\n",
       "      <td>53634</td>\n",
       "      <td>4</td>\n",
       "      <td>False</td>\n",
       "    </tr>\n",
       "    <tr>\n",
       "      <th>1085</th>\n",
       "      <td>com.google.android.apps.docs, com.google.android.googlequicksearchbox</td>\n",
       "      <td>53617</td>\n",
       "      <td>2</td>\n",
       "      <td>False</td>\n",
       "    </tr>\n",
       "    <tr>\n",
       "      <th>1086</th>\n",
       "      <td>com.android.chrome, com.facebook.orca, com.facebook.katana, com.facebook.orca</td>\n",
       "      <td>53615</td>\n",
       "      <td>4</td>\n",
       "      <td>False</td>\n",
       "    </tr>\n",
       "    <tr>\n",
       "      <th>1087</th>\n",
       "      <td>com.sonyericsson.conversations, com.facebook.katana, com.whatsapp, com.facebook.katana</td>\n",
       "      <td>53600</td>\n",
       "      <td>4</td>\n",
       "      <td>False</td>\n",
       "    </tr>\n",
       "    <tr>\n",
       "      <th>1088</th>\n",
       "      <td>com.whatsapp, com.google.android.googlequicksearchbox, com.android.chrome, com.google.android.googlequicksearchbox, com.android.chrome</td>\n",
       "      <td>53590</td>\n",
       "      <td>5</td>\n",
       "      <td>False</td>\n",
       "    </tr>\n",
       "    <tr>\n",
       "      <th>1089</th>\n",
       "      <td>com.facebook.katana, com.facebook.orca, com.facebook.orca, com.facebook.katana, com.facebook.orca</td>\n",
       "      <td>53566</td>\n",
       "      <td>5</td>\n",
       "      <td>False</td>\n",
       "    </tr>\n",
       "    <tr>\n",
       "      <th>1090</th>\n",
       "      <td>com.facebook.orca, com.tinder</td>\n",
       "      <td>53561</td>\n",
       "      <td>2</td>\n",
       "      <td>False</td>\n",
       "    </tr>\n",
       "    <tr>\n",
       "      <th>1091</th>\n",
       "      <td>com.android.chrome, com.facebook.orca, com.google.android.googlequicksearchbox</td>\n",
       "      <td>53559</td>\n",
       "      <td>3</td>\n",
       "      <td>False</td>\n",
       "    </tr>\n",
       "    <tr>\n",
       "      <th>1092</th>\n",
       "      <td>com.facebook.orca, com.android.chrome, com.instagram.android</td>\n",
       "      <td>53508</td>\n",
       "      <td>3</td>\n",
       "      <td>False</td>\n",
       "    </tr>\n",
       "    <tr>\n",
       "      <th>1093</th>\n",
       "      <td>com.twitter.android, com.microsoft.office.outlook</td>\n",
       "      <td>53477</td>\n",
       "      <td>2</td>\n",
       "      <td>False</td>\n",
       "    </tr>\n",
       "    <tr>\n",
       "      <th>1094</th>\n",
       "      <td>com.facebook.orca, com.facebook.katana, com.facebook.katana, com.whatsapp</td>\n",
       "      <td>53476</td>\n",
       "      <td>4</td>\n",
       "      <td>False</td>\n",
       "    </tr>\n",
       "    <tr>\n",
       "      <th>1095</th>\n",
       "      <td>com.google.android.googlequicksearchbox, com.snapchat.android, com.facebook.katana</td>\n",
       "      <td>53444</td>\n",
       "      <td>3</td>\n",
       "      <td>False</td>\n",
       "    </tr>\n",
       "    <tr>\n",
       "      <th>1096</th>\n",
       "      <td>com.sonyericsson.conversations, com.facebook.katana, com.sonymobile.email</td>\n",
       "      <td>53354</td>\n",
       "      <td>3</td>\n",
       "      <td>False</td>\n",
       "    </tr>\n",
       "    <tr>\n",
       "      <th>1097</th>\n",
       "      <td>com.google.android.googlequicksearchbox, com.instagram.android, com.whatsapp</td>\n",
       "      <td>53340</td>\n",
       "      <td>3</td>\n",
       "      <td>False</td>\n",
       "    </tr>\n",
       "    <tr>\n",
       "      <th>1098</th>\n",
       "      <td>com.google.android.youtube, com.facebook.orca, com.facebook.katana</td>\n",
       "      <td>53331</td>\n",
       "      <td>3</td>\n",
       "      <td>False</td>\n",
       "    </tr>\n",
       "    <tr>\n",
       "      <th>1099</th>\n",
       "      <td>com.android.incallui, com.sonyericsson.conversations, com.sonyericsson.android.socialphonebook</td>\n",
       "      <td>53270</td>\n",
       "      <td>3</td>\n",
       "      <td>False</td>\n",
       "    </tr>\n",
       "    <tr>\n",
       "      <th>1100</th>\n",
       "      <td>com.facebook.katana, com.facebook.katana, com.whatsapp, com.facebook.orca</td>\n",
       "      <td>53266</td>\n",
       "      <td>4</td>\n",
       "      <td>False</td>\n",
       "    </tr>\n",
       "    <tr>\n",
       "      <th>1101</th>\n",
       "      <td>com.twitter.android, com.facebook.katana, com.instagram.android</td>\n",
       "      <td>53245</td>\n",
       "      <td>3</td>\n",
       "      <td>False</td>\n",
       "    </tr>\n",
       "    <tr>\n",
       "      <th>1102</th>\n",
       "      <td>com.android.chrome, com.sonyericsson.album, com.facebook.katana</td>\n",
       "      <td>53230</td>\n",
       "      <td>3</td>\n",
       "      <td>False</td>\n",
       "    </tr>\n",
       "    <tr>\n",
       "      <th>1103</th>\n",
       "      <td>com.google.android.youtube, com.android.incallui</td>\n",
       "      <td>53161</td>\n",
       "      <td>2</td>\n",
       "      <td>False</td>\n",
       "    </tr>\n",
       "    <tr>\n",
       "      <th>1104</th>\n",
       "      <td>com.instagram.android, com.facebook.katana, com.facebook.orca, com.facebook.katana</td>\n",
       "      <td>53139</td>\n",
       "      <td>4</td>\n",
       "      <td>False</td>\n",
       "    </tr>\n",
       "    <tr>\n",
       "      <th>1105</th>\n",
       "      <td>com.facebook.katana, com.facebook.katana, com.google.android.googlequicksearchbox, com.google.android.googlequicksearchbox</td>\n",
       "      <td>53103</td>\n",
       "      <td>4</td>\n",
       "      <td>False</td>\n",
       "    </tr>\n",
       "    <tr>\n",
       "      <th>1106</th>\n",
       "      <td>com.facebook.katana, com.instagram.android, com.google.android.youtube</td>\n",
       "      <td>53072</td>\n",
       "      <td>3</td>\n",
       "      <td>False</td>\n",
       "    </tr>\n",
       "    <tr>\n",
       "      <th>1107</th>\n",
       "      <td>com.instagram.android, com.android.chrome, com.facebook.orca</td>\n",
       "      <td>53038</td>\n",
       "      <td>3</td>\n",
       "      <td>False</td>\n",
       "    </tr>\n",
       "    <tr>\n",
       "      <th>1108</th>\n",
       "      <td>com.instagram.android, com.whatsapp, com.google.android.googlequicksearchbox</td>\n",
       "      <td>53030</td>\n",
       "      <td>3</td>\n",
       "      <td>False</td>\n",
       "    </tr>\n",
       "    <tr>\n",
       "      <th>1109</th>\n",
       "      <td>com.facebook.katana, com.instagram.android, com.snapchat.android, com.facebook.katana</td>\n",
       "      <td>52944</td>\n",
       "      <td>4</td>\n",
       "      <td>False</td>\n",
       "    </tr>\n",
       "    <tr>\n",
       "      <th>1110</th>\n",
       "      <td>com.whatsapp, com.instagram.android, com.whatsapp, com.instagram.android, com.whatsapp</td>\n",
       "      <td>52930</td>\n",
       "      <td>5</td>\n",
       "      <td>False</td>\n",
       "    </tr>\n",
       "    <tr>\n",
       "      <th>1111</th>\n",
       "      <td>com.google.android.googlequicksearchbox, com.android.chrome, com.android.incallui</td>\n",
       "      <td>52925</td>\n",
       "      <td>3</td>\n",
       "      <td>False</td>\n",
       "    </tr>\n",
       "    <tr>\n",
       "      <th>1112</th>\n",
       "      <td>com.instagram.android, com.instagram.android, com.google.android.googlequicksearchbox</td>\n",
       "      <td>52912</td>\n",
       "      <td>3</td>\n",
       "      <td>False</td>\n",
       "    </tr>\n",
       "    <tr>\n",
       "      <th>1113</th>\n",
       "      <td>com.facebook.orca, com.facebook.katana, com.facebook.katana, com.facebook.orca, com.facebook.katana</td>\n",
       "      <td>52903</td>\n",
       "      <td>5</td>\n",
       "      <td>False</td>\n",
       "    </tr>\n",
       "    <tr>\n",
       "      <th>1114</th>\n",
       "      <td>com.facebook.katana, com.google.android.googlequicksearchbox, com.google.android.gm</td>\n",
       "      <td>52901</td>\n",
       "      <td>3</td>\n",
       "      <td>False</td>\n",
       "    </tr>\n",
       "    <tr>\n",
       "      <th>1115</th>\n",
       "      <td>com.facebook.orca, com.facebook.katana, com.sonyericsson.album</td>\n",
       "      <td>52833</td>\n",
       "      <td>3</td>\n",
       "      <td>False</td>\n",
       "    </tr>\n",
       "    <tr>\n",
       "      <th>1116</th>\n",
       "      <td>com.google.android.googlequicksearchbox, com.google.android.googlequicksearchbox, com.android.chrome, com.google.android.googlequicksearchbox, com.android.chrome, com.google.android.googlequicksearchbox</td>\n",
       "      <td>52815</td>\n",
       "      <td>6</td>\n",
       "      <td>False</td>\n",
       "    </tr>\n",
       "    <tr>\n",
       "      <th>1117</th>\n",
       "      <td>com.android.chrome, com.google.android.googlequicksearchbox, com.whatsapp, com.android.chrome</td>\n",
       "      <td>52786</td>\n",
       "      <td>4</td>\n",
       "      <td>False</td>\n",
       "    </tr>\n",
       "    <tr>\n",
       "      <th>1118</th>\n",
       "      <td>com.google.android.youtube, com.instagram.android, com.google.android.youtube</td>\n",
       "      <td>52776</td>\n",
       "      <td>3</td>\n",
       "      <td>False</td>\n",
       "    </tr>\n",
       "    <tr>\n",
       "      <th>1119</th>\n",
       "      <td>com.google.android.apps.maps, com.facebook.katana, com.facebook.katana</td>\n",
       "      <td>52774</td>\n",
       "      <td>3</td>\n",
       "      <td>False</td>\n",
       "    </tr>\n",
       "    <tr>\n",
       "      <th>1120</th>\n",
       "      <td>com.sonymobile.email, com.google.android.googlequicksearchbox, com.google.android.googlequicksearchbox</td>\n",
       "      <td>52769</td>\n",
       "      <td>3</td>\n",
       "      <td>False</td>\n",
       "    </tr>\n",
       "    <tr>\n",
       "      <th>1121</th>\n",
       "      <td>com.linkedin.android, com.android.chrome</td>\n",
       "      <td>52669</td>\n",
       "      <td>2</td>\n",
       "      <td>False</td>\n",
       "    </tr>\n",
       "    <tr>\n",
       "      <th>1122</th>\n",
       "      <td>com.ebay.mobile, com.sonyericsson.conversations</td>\n",
       "      <td>52650</td>\n",
       "      <td>2</td>\n",
       "      <td>False</td>\n",
       "    </tr>\n",
       "  </tbody>\n",
       "</table>\n",
       "</div>"
      ],
      "text/plain": [
       "                                                                                                                                                                                                         pattern  \\\n",
       "1067                                                                                                                         com.facebook.katana, com.facebook.katana, com.facebook.katana, com.snapchat.android   \n",
       "1068                                                                                                                                                com.android.chrome, com.facebook.orca, com.instagram.android   \n",
       "1069                                                                                                                                       com.whatsapp, com.instagram.android, com.whatsapp, com.android.chrome   \n",
       "1070                                                                                                                          com.facebook.katana, com.facebook.katana, com.whatsapp, com.whatsapp, com.whatsapp   \n",
       "1071                                                                                                      com.android.chrome, com.sonyericsson.conversations, com.android.chrome, com.sonyericsson.conversations   \n",
       "1072                                                                                                                                                       com.android.chrome, com.twitter.android, com.whatsapp   \n",
       "1074                                                                                                                                                      com.android.chrome, com.snapchat.android, com.whatsapp   \n",
       "1075                                                                                                                                                      com.sonymobile.email, com.whatsapp, com.android.chrome   \n",
       "1076                                                                                                       com.facebook.katana, com.facebook.katana, com.facebook.katana, com.facebook.orca, com.facebook.katana   \n",
       "1077                                                                                                                   com.google.android.apps.maps, com.android.chrome, com.google.android.googlequicksearchbox   \n",
       "1078                                                                                                                   com.whatsapp, com.whatsapp, com.facebook.katana, com.facebook.katana, com.facebook.katana   \n",
       "1079                                                                                                         com.facebook.orca, com.facebook.katana, com.facebook.orca, com.facebook.katana, com.facebook.katana   \n",
       "1080                                                                                                                             com.facebook.orca, com.facebook.katana, com.facebook.katana, com.android.chrome   \n",
       "1081                                                                                                       com.facebook.katana, com.facebook.katana, com.facebook.orca, com.facebook.katana, com.facebook.katana   \n",
       "1082                                                                                                                                          com.facebook.katana, com.google.android.youtube, com.facebook.orca   \n",
       "1083                                                                                                                                          com.facebook.orca, com.facebook.katana, com.whatsapp, com.whatsapp   \n",
       "1084                                                                                                               com.android.chrome, com.whatsapp, com.android.chrome, com.google.android.googlequicksearchbox   \n",
       "1085                                                                                                                                       com.google.android.apps.docs, com.google.android.googlequicksearchbox   \n",
       "1086                                                                                                                               com.android.chrome, com.facebook.orca, com.facebook.katana, com.facebook.orca   \n",
       "1087                                                                                                                      com.sonyericsson.conversations, com.facebook.katana, com.whatsapp, com.facebook.katana   \n",
       "1088                                                                      com.whatsapp, com.google.android.googlequicksearchbox, com.android.chrome, com.google.android.googlequicksearchbox, com.android.chrome   \n",
       "1089                                                                                                           com.facebook.katana, com.facebook.orca, com.facebook.orca, com.facebook.katana, com.facebook.orca   \n",
       "1090                                                                                                                                                                               com.facebook.orca, com.tinder   \n",
       "1091                                                                                                                              com.android.chrome, com.facebook.orca, com.google.android.googlequicksearchbox   \n",
       "1092                                                                                                                                                com.facebook.orca, com.android.chrome, com.instagram.android   \n",
       "1093                                                                                                                                                           com.twitter.android, com.microsoft.office.outlook   \n",
       "1094                                                                                                                                   com.facebook.orca, com.facebook.katana, com.facebook.katana, com.whatsapp   \n",
       "1095                                                                                                                          com.google.android.googlequicksearchbox, com.snapchat.android, com.facebook.katana   \n",
       "1096                                                                                                                                   com.sonyericsson.conversations, com.facebook.katana, com.sonymobile.email   \n",
       "1097                                                                                                                                com.google.android.googlequicksearchbox, com.instagram.android, com.whatsapp   \n",
       "1098                                                                                                                                          com.google.android.youtube, com.facebook.orca, com.facebook.katana   \n",
       "1099                                                                                                              com.android.incallui, com.sonyericsson.conversations, com.sonyericsson.android.socialphonebook   \n",
       "1100                                                                                                                                   com.facebook.katana, com.facebook.katana, com.whatsapp, com.facebook.orca   \n",
       "1101                                                                                                                                             com.twitter.android, com.facebook.katana, com.instagram.android   \n",
       "1102                                                                                                                                             com.android.chrome, com.sonyericsson.album, com.facebook.katana   \n",
       "1103                                                                                                                                                            com.google.android.youtube, com.android.incallui   \n",
       "1104                                                                                                                          com.instagram.android, com.facebook.katana, com.facebook.orca, com.facebook.katana   \n",
       "1105                                                                                  com.facebook.katana, com.facebook.katana, com.google.android.googlequicksearchbox, com.google.android.googlequicksearchbox   \n",
       "1106                                                                                                                                      com.facebook.katana, com.instagram.android, com.google.android.youtube   \n",
       "1107                                                                                                                                                com.instagram.android, com.android.chrome, com.facebook.orca   \n",
       "1108                                                                                                                                com.instagram.android, com.whatsapp, com.google.android.googlequicksearchbox   \n",
       "1109                                                                                                                       com.facebook.katana, com.instagram.android, com.snapchat.android, com.facebook.katana   \n",
       "1110                                                                                                                      com.whatsapp, com.instagram.android, com.whatsapp, com.instagram.android, com.whatsapp   \n",
       "1111                                                                                                                           com.google.android.googlequicksearchbox, com.android.chrome, com.android.incallui   \n",
       "1112                                                                                                                       com.instagram.android, com.instagram.android, com.google.android.googlequicksearchbox   \n",
       "1113                                                                                                         com.facebook.orca, com.facebook.katana, com.facebook.katana, com.facebook.orca, com.facebook.katana   \n",
       "1114                                                                                                                         com.facebook.katana, com.google.android.googlequicksearchbox, com.google.android.gm   \n",
       "1115                                                                                                                                              com.facebook.orca, com.facebook.katana, com.sonyericsson.album   \n",
       "1116  com.google.android.googlequicksearchbox, com.google.android.googlequicksearchbox, com.android.chrome, com.google.android.googlequicksearchbox, com.android.chrome, com.google.android.googlequicksearchbox   \n",
       "1117                                                                                                               com.android.chrome, com.google.android.googlequicksearchbox, com.whatsapp, com.android.chrome   \n",
       "1118                                                                                                                               com.google.android.youtube, com.instagram.android, com.google.android.youtube   \n",
       "1119                                                                                                                                      com.google.android.apps.maps, com.facebook.katana, com.facebook.katana   \n",
       "1120                                                                                                      com.sonymobile.email, com.google.android.googlequicksearchbox, com.google.android.googlequicksearchbox   \n",
       "1121                                                                                                                                                                    com.linkedin.android, com.android.chrome   \n",
       "1122                                                                                                                                                             com.ebay.mobile, com.sonyericsson.conversations   \n",
       "\n",
       "        sup  pattern_length  in maximal  \n",
       "1067  53934               4       False  \n",
       "1068  53927               3       False  \n",
       "1069  53806               4       False  \n",
       "1070  53792               5       False  \n",
       "1071  53788               4       False  \n",
       "1072  53786               3       False  \n",
       "1074  53780               3       False  \n",
       "1075  53767               3       False  \n",
       "1076  53764               5       False  \n",
       "1077  53734               3       False  \n",
       "1078  53731               5       False  \n",
       "1079  53700               5       False  \n",
       "1080  53695               4       False  \n",
       "1081  53683               5       False  \n",
       "1082  53643               3       False  \n",
       "1083  53638               4       False  \n",
       "1084  53634               4       False  \n",
       "1085  53617               2       False  \n",
       "1086  53615               4       False  \n",
       "1087  53600               4       False  \n",
       "1088  53590               5       False  \n",
       "1089  53566               5       False  \n",
       "1090  53561               2       False  \n",
       "1091  53559               3       False  \n",
       "1092  53508               3       False  \n",
       "1093  53477               2       False  \n",
       "1094  53476               4       False  \n",
       "1095  53444               3       False  \n",
       "1096  53354               3       False  \n",
       "1097  53340               3       False  \n",
       "1098  53331               3       False  \n",
       "1099  53270               3       False  \n",
       "1100  53266               4       False  \n",
       "1101  53245               3       False  \n",
       "1102  53230               3       False  \n",
       "1103  53161               2       False  \n",
       "1104  53139               4       False  \n",
       "1105  53103               4       False  \n",
       "1106  53072               3       False  \n",
       "1107  53038               3       False  \n",
       "1108  53030               3       False  \n",
       "1109  52944               4       False  \n",
       "1110  52930               5       False  \n",
       "1111  52925               3       False  \n",
       "1112  52912               3       False  \n",
       "1113  52903               5       False  \n",
       "1114  52901               3       False  \n",
       "1115  52833               3       False  \n",
       "1116  52815               6       False  \n",
       "1117  52786               4       False  \n",
       "1118  52776               3       False  \n",
       "1119  52774               3       False  \n",
       "1120  52769               3       False  \n",
       "1121  52669               2       False  \n",
       "1122  52650               2       False  "
      ]
     },
     "execution_count": 65,
     "metadata": {},
     "output_type": "execute_result"
    }
   ],
   "source": [
    "maximal_patterns_not_with_coverage"
   ]
  },
  {
   "cell_type": "code",
   "execution_count": 68,
   "metadata": {},
   "outputs": [
    {
     "data": {
      "text/html": [
       "<div>\n",
       "<style scoped>\n",
       "    .dataframe tbody tr th:only-of-type {\n",
       "        vertical-align: middle;\n",
       "    }\n",
       "\n",
       "    .dataframe tbody tr th {\n",
       "        vertical-align: top;\n",
       "    }\n",
       "\n",
       "    .dataframe thead th {\n",
       "        text-align: right;\n",
       "    }\n",
       "</style>\n",
       "<table border=\"1\" class=\"dataframe\">\n",
       "  <thead>\n",
       "    <tr style=\"text-align: right;\">\n",
       "      <th></th>\n",
       "      <th>pattern</th>\n",
       "      <th>sup</th>\n",
       "      <th>pattern_length</th>\n",
       "      <th>in maximal</th>\n",
       "    </tr>\n",
       "  </thead>\n",
       "  <tbody>\n",
       "    <tr>\n",
       "      <th>2</th>\n",
       "      <td>com.linkedin.android</td>\n",
       "      <td>270103</td>\n",
       "      <td>1</td>\n",
       "      <td>True</td>\n",
       "    </tr>\n",
       "    <tr>\n",
       "      <th>67</th>\n",
       "      <td>com.facebook.katana, com.instagram.android, com.snapchat.android</td>\n",
       "      <td>149892</td>\n",
       "      <td>3</td>\n",
       "      <td>True</td>\n",
       "    </tr>\n",
       "    <tr>\n",
       "      <th>80</th>\n",
       "      <td>com.instagram.android, com.snapchat.android, com.facebook.katana</td>\n",
       "      <td>143517</td>\n",
       "      <td>3</td>\n",
       "      <td>True</td>\n",
       "    </tr>\n",
       "    <tr>\n",
       "      <th>102</th>\n",
       "      <td>com.whatsapp, com.google.android.googlequicksearchbox, com.android.chrome, com.google.android.googlequicksearchbox</td>\n",
       "      <td>133698</td>\n",
       "      <td>4</td>\n",
       "      <td>True</td>\n",
       "    </tr>\n",
       "    <tr>\n",
       "      <th>113</th>\n",
       "      <td>com.instagram.android, com.facebook.orca, com.facebook.katana</td>\n",
       "      <td>129184</td>\n",
       "      <td>3</td>\n",
       "      <td>False</td>\n",
       "    </tr>\n",
       "    <tr>\n",
       "      <th>146</th>\n",
       "      <td>com.android.chrome, com.android.chrome, com.sonyericsson.conversations</td>\n",
       "      <td>119956</td>\n",
       "      <td>3</td>\n",
       "      <td>False</td>\n",
       "    </tr>\n",
       "    <tr>\n",
       "      <th>177</th>\n",
       "      <td>com.android.chrome, com.facebook.orca, com.facebook.orca</td>\n",
       "      <td>113189</td>\n",
       "      <td>3</td>\n",
       "      <td>False</td>\n",
       "    </tr>\n",
       "    <tr>\n",
       "      <th>182</th>\n",
       "      <td>com.instagram.android, com.whatsapp, com.android.chrome</td>\n",
       "      <td>112147</td>\n",
       "      <td>3</td>\n",
       "      <td>True</td>\n",
       "    </tr>\n",
       "    <tr>\n",
       "      <th>190</th>\n",
       "      <td>com.android.chrome, com.sonyericsson.conversations, com.sonyericsson.conversations</td>\n",
       "      <td>110815</td>\n",
       "      <td>3</td>\n",
       "      <td>False</td>\n",
       "    </tr>\n",
       "    <tr>\n",
       "      <th>211</th>\n",
       "      <td>com.whatsapp, com.instagram.android, com.whatsapp, com.whatsapp</td>\n",
       "      <td>107290</td>\n",
       "      <td>4</td>\n",
       "      <td>False</td>\n",
       "    </tr>\n",
       "    <tr>\n",
       "      <th>213</th>\n",
       "      <td>com.whatsapp, com.instagram.android, com.whatsapp, com.instagram.android</td>\n",
       "      <td>106808</td>\n",
       "      <td>4</td>\n",
       "      <td>True</td>\n",
       "    </tr>\n",
       "    <tr>\n",
       "      <th>219</th>\n",
       "      <td>com.whatsapp, com.whatsapp, com.instagram.android, com.whatsapp</td>\n",
       "      <td>105351</td>\n",
       "      <td>4</td>\n",
       "      <td>False</td>\n",
       "    </tr>\n",
       "    <tr>\n",
       "      <th>338</th>\n",
       "      <td>com.instagram.android, com.whatsapp, com.instagram.android, com.whatsapp</td>\n",
       "      <td>89217</td>\n",
       "      <td>4</td>\n",
       "      <td>True</td>\n",
       "    </tr>\n",
       "    <tr>\n",
       "      <th>396</th>\n",
       "      <td>com.whatsapp, com.android.chrome, com.google.android.googlequicksearchbox, com.android.chrome</td>\n",
       "      <td>84707</td>\n",
       "      <td>4</td>\n",
       "      <td>False</td>\n",
       "    </tr>\n",
       "    <tr>\n",
       "      <th>422</th>\n",
       "      <td>com.whatsapp, com.google.android.googlequicksearchbox, com.android.chrome, com.android.chrome</td>\n",
       "      <td>82521</td>\n",
       "      <td>4</td>\n",
       "      <td>False</td>\n",
       "    </tr>\n",
       "    <tr>\n",
       "      <th>469</th>\n",
       "      <td>com.facebook.katana, com.facebook.orca, com.facebook.orca, com.facebook.orca</td>\n",
       "      <td>78882</td>\n",
       "      <td>4</td>\n",
       "      <td>False</td>\n",
       "    </tr>\n",
       "    <tr>\n",
       "      <th>523</th>\n",
       "      <td>com.facebook.orca, com.facebook.orca, com.facebook.katana, com.facebook.katana</td>\n",
       "      <td>75374</td>\n",
       "      <td>4</td>\n",
       "      <td>False</td>\n",
       "    </tr>\n",
       "    <tr>\n",
       "      <th>549</th>\n",
       "      <td>com.whatsapp, com.instagram.android, com.instagram.android, com.whatsapp</td>\n",
       "      <td>73392</td>\n",
       "      <td>4</td>\n",
       "      <td>False</td>\n",
       "    </tr>\n",
       "    <tr>\n",
       "      <th>604</th>\n",
       "      <td>com.whatsapp, com.google.android.googlequicksearchbox, com.google.android.googlequicksearchbox, com.android.chrome</td>\n",
       "      <td>71108</td>\n",
       "      <td>4</td>\n",
       "      <td>False</td>\n",
       "    </tr>\n",
       "    <tr>\n",
       "      <th>819</th>\n",
       "      <td>com.google.android.googlequicksearchbox, com.google.android.googlequicksearchbox, com.android.chrome, com.android.chrome, com.google.android.googlequicksearchbox</td>\n",
       "      <td>61716</td>\n",
       "      <td>5</td>\n",
       "      <td>False</td>\n",
       "    </tr>\n",
       "  </tbody>\n",
       "</table>\n",
       "</div>"
      ],
      "text/plain": [
       "                                                                                                                                                               pattern  \\\n",
       "2                                                                                                                                                 com.linkedin.android   \n",
       "67                                                                                                    com.facebook.katana, com.instagram.android, com.snapchat.android   \n",
       "80                                                                                                    com.instagram.android, com.snapchat.android, com.facebook.katana   \n",
       "102                                                 com.whatsapp, com.google.android.googlequicksearchbox, com.android.chrome, com.google.android.googlequicksearchbox   \n",
       "113                                                                                                      com.instagram.android, com.facebook.orca, com.facebook.katana   \n",
       "146                                                                                             com.android.chrome, com.android.chrome, com.sonyericsson.conversations   \n",
       "177                                                                                                           com.android.chrome, com.facebook.orca, com.facebook.orca   \n",
       "182                                                                                                            com.instagram.android, com.whatsapp, com.android.chrome   \n",
       "190                                                                                 com.android.chrome, com.sonyericsson.conversations, com.sonyericsson.conversations   \n",
       "211                                                                                                    com.whatsapp, com.instagram.android, com.whatsapp, com.whatsapp   \n",
       "213                                                                                           com.whatsapp, com.instagram.android, com.whatsapp, com.instagram.android   \n",
       "219                                                                                                    com.whatsapp, com.whatsapp, com.instagram.android, com.whatsapp   \n",
       "338                                                                                           com.instagram.android, com.whatsapp, com.instagram.android, com.whatsapp   \n",
       "396                                                                      com.whatsapp, com.android.chrome, com.google.android.googlequicksearchbox, com.android.chrome   \n",
       "422                                                                      com.whatsapp, com.google.android.googlequicksearchbox, com.android.chrome, com.android.chrome   \n",
       "469                                                                                       com.facebook.katana, com.facebook.orca, com.facebook.orca, com.facebook.orca   \n",
       "523                                                                                     com.facebook.orca, com.facebook.orca, com.facebook.katana, com.facebook.katana   \n",
       "549                                                                                           com.whatsapp, com.instagram.android, com.instagram.android, com.whatsapp   \n",
       "604                                                 com.whatsapp, com.google.android.googlequicksearchbox, com.google.android.googlequicksearchbox, com.android.chrome   \n",
       "819  com.google.android.googlequicksearchbox, com.google.android.googlequicksearchbox, com.android.chrome, com.android.chrome, com.google.android.googlequicksearchbox   \n",
       "\n",
       "        sup  pattern_length  in maximal  \n",
       "2    270103               1        True  \n",
       "67   149892               3        True  \n",
       "80   143517               3        True  \n",
       "102  133698               4        True  \n",
       "113  129184               3       False  \n",
       "146  119956               3       False  \n",
       "177  113189               3       False  \n",
       "182  112147               3        True  \n",
       "190  110815               3       False  \n",
       "211  107290               4       False  \n",
       "213  106808               4        True  \n",
       "219  105351               4       False  \n",
       "338   89217               4        True  \n",
       "396   84707               4       False  \n",
       "422   82521               4       False  \n",
       "469   78882               4       False  \n",
       "523   75374               4       False  \n",
       "549   73392               4       False  \n",
       "604   71108               4       False  \n",
       "819   61716               5       False  "
      ]
     },
     "execution_count": 68,
     "metadata": {},
     "output_type": "execute_result"
    }
   ],
   "source": [
    "maximal_patterns_not_with_percentage=output_coverage[output_coverage.pattern.isin(set(output_coverage.pattern)-set(output.pattern))]\n",
    "\n",
    "maximal_patterns_not_with_percentage=maximal_patterns_not_with_percentage.join(pd.DataFrame(maximal_patterns_not_with_percentage.pattern\\\n",
    ".apply(lambda l: output.pattern.str.contains(l).any())).rename(columns={'pattern':'in maximal'}))\n",
    "\n",
    "maximal_patterns_not_with_percentage"
   ]
  },
  {
   "cell_type": "code",
   "execution_count": 73,
   "metadata": {},
   "outputs": [
    {
     "data": {
      "text/plain": [
       "(13, 4)"
      ]
     },
     "execution_count": 73,
     "metadata": {},
     "output_type": "execute_result"
    }
   ],
   "source": [
    "maximal_patterns_not_with_percentage[maximal_patterns_not_with_percentage['in maximal'].apply(lambda l: not l)].shape"
   ]
  },
  {
   "cell_type": "markdown",
   "metadata": {},
   "source": [
    "We see that 7 out of the 20 patterns only found to be maximal with the coverage definition are found as frequent subpatterns in set of maximal patterns found with the percentage difinition. However due to the nature of maximal patterns, a maximal pattern a b c, also contains the pattern a c. We therefore check the remaining 13 patterns, if they are included in such a way in the set of maximal patterns found with the percentage definition."
   ]
  },
  {
   "cell_type": "code",
   "execution_count": 75,
   "metadata": {},
   "outputs": [
    {
     "data": {
      "text/html": [
       "<div>\n",
       "<style scoped>\n",
       "    .dataframe tbody tr th:only-of-type {\n",
       "        vertical-align: middle;\n",
       "    }\n",
       "\n",
       "    .dataframe tbody tr th {\n",
       "        vertical-align: top;\n",
       "    }\n",
       "\n",
       "    .dataframe thead th {\n",
       "        text-align: right;\n",
       "    }\n",
       "</style>\n",
       "<table border=\"1\" class=\"dataframe\">\n",
       "  <thead>\n",
       "    <tr style=\"text-align: right;\">\n",
       "      <th></th>\n",
       "      <th>pattern</th>\n",
       "      <th>sup</th>\n",
       "      <th>pattern_length</th>\n",
       "      <th>in maximal</th>\n",
       "    </tr>\n",
       "  </thead>\n",
       "  <tbody>\n",
       "    <tr>\n",
       "      <th>113</th>\n",
       "      <td>com.instagram.android, com.facebook.orca, com.facebook.katana</td>\n",
       "      <td>129184</td>\n",
       "      <td>3</td>\n",
       "      <td>False</td>\n",
       "    </tr>\n",
       "    <tr>\n",
       "      <th>146</th>\n",
       "      <td>com.android.chrome, com.android.chrome, com.sonyericsson.conversations</td>\n",
       "      <td>119956</td>\n",
       "      <td>3</td>\n",
       "      <td>False</td>\n",
       "    </tr>\n",
       "    <tr>\n",
       "      <th>177</th>\n",
       "      <td>com.android.chrome, com.facebook.orca, com.facebook.orca</td>\n",
       "      <td>113189</td>\n",
       "      <td>3</td>\n",
       "      <td>False</td>\n",
       "    </tr>\n",
       "    <tr>\n",
       "      <th>190</th>\n",
       "      <td>com.android.chrome, com.sonyericsson.conversations, com.sonyericsson.conversations</td>\n",
       "      <td>110815</td>\n",
       "      <td>3</td>\n",
       "      <td>False</td>\n",
       "    </tr>\n",
       "    <tr>\n",
       "      <th>211</th>\n",
       "      <td>com.whatsapp, com.instagram.android, com.whatsapp, com.whatsapp</td>\n",
       "      <td>107290</td>\n",
       "      <td>4</td>\n",
       "      <td>False</td>\n",
       "    </tr>\n",
       "    <tr>\n",
       "      <th>219</th>\n",
       "      <td>com.whatsapp, com.whatsapp, com.instagram.android, com.whatsapp</td>\n",
       "      <td>105351</td>\n",
       "      <td>4</td>\n",
       "      <td>False</td>\n",
       "    </tr>\n",
       "    <tr>\n",
       "      <th>396</th>\n",
       "      <td>com.whatsapp, com.android.chrome, com.google.android.googlequicksearchbox, com.android.chrome</td>\n",
       "      <td>84707</td>\n",
       "      <td>4</td>\n",
       "      <td>False</td>\n",
       "    </tr>\n",
       "    <tr>\n",
       "      <th>422</th>\n",
       "      <td>com.whatsapp, com.google.android.googlequicksearchbox, com.android.chrome, com.android.chrome</td>\n",
       "      <td>82521</td>\n",
       "      <td>4</td>\n",
       "      <td>False</td>\n",
       "    </tr>\n",
       "    <tr>\n",
       "      <th>469</th>\n",
       "      <td>com.facebook.katana, com.facebook.orca, com.facebook.orca, com.facebook.orca</td>\n",
       "      <td>78882</td>\n",
       "      <td>4</td>\n",
       "      <td>False</td>\n",
       "    </tr>\n",
       "    <tr>\n",
       "      <th>523</th>\n",
       "      <td>com.facebook.orca, com.facebook.orca, com.facebook.katana, com.facebook.katana</td>\n",
       "      <td>75374</td>\n",
       "      <td>4</td>\n",
       "      <td>False</td>\n",
       "    </tr>\n",
       "    <tr>\n",
       "      <th>549</th>\n",
       "      <td>com.whatsapp, com.instagram.android, com.instagram.android, com.whatsapp</td>\n",
       "      <td>73392</td>\n",
       "      <td>4</td>\n",
       "      <td>False</td>\n",
       "    </tr>\n",
       "    <tr>\n",
       "      <th>604</th>\n",
       "      <td>com.whatsapp, com.google.android.googlequicksearchbox, com.google.android.googlequicksearchbox, com.android.chrome</td>\n",
       "      <td>71108</td>\n",
       "      <td>4</td>\n",
       "      <td>False</td>\n",
       "    </tr>\n",
       "    <tr>\n",
       "      <th>819</th>\n",
       "      <td>com.google.android.googlequicksearchbox, com.google.android.googlequicksearchbox, com.android.chrome, com.android.chrome, com.google.android.googlequicksearchbox</td>\n",
       "      <td>61716</td>\n",
       "      <td>5</td>\n",
       "      <td>False</td>\n",
       "    </tr>\n",
       "  </tbody>\n",
       "</table>\n",
       "</div>"
      ],
      "text/plain": [
       "                                                                                                                                                               pattern  \\\n",
       "113                                                                                                      com.instagram.android, com.facebook.orca, com.facebook.katana   \n",
       "146                                                                                             com.android.chrome, com.android.chrome, com.sonyericsson.conversations   \n",
       "177                                                                                                           com.android.chrome, com.facebook.orca, com.facebook.orca   \n",
       "190                                                                                 com.android.chrome, com.sonyericsson.conversations, com.sonyericsson.conversations   \n",
       "211                                                                                                    com.whatsapp, com.instagram.android, com.whatsapp, com.whatsapp   \n",
       "219                                                                                                    com.whatsapp, com.whatsapp, com.instagram.android, com.whatsapp   \n",
       "396                                                                      com.whatsapp, com.android.chrome, com.google.android.googlequicksearchbox, com.android.chrome   \n",
       "422                                                                      com.whatsapp, com.google.android.googlequicksearchbox, com.android.chrome, com.android.chrome   \n",
       "469                                                                                       com.facebook.katana, com.facebook.orca, com.facebook.orca, com.facebook.orca   \n",
       "523                                                                                     com.facebook.orca, com.facebook.orca, com.facebook.katana, com.facebook.katana   \n",
       "549                                                                                           com.whatsapp, com.instagram.android, com.instagram.android, com.whatsapp   \n",
       "604                                                 com.whatsapp, com.google.android.googlequicksearchbox, com.google.android.googlequicksearchbox, com.android.chrome   \n",
       "819  com.google.android.googlequicksearchbox, com.google.android.googlequicksearchbox, com.android.chrome, com.android.chrome, com.google.android.googlequicksearchbox   \n",
       "\n",
       "        sup  pattern_length  in maximal  \n",
       "113  129184               3       False  \n",
       "146  119956               3       False  \n",
       "177  113189               3       False  \n",
       "190  110815               3       False  \n",
       "211  107290               4       False  \n",
       "219  105351               4       False  \n",
       "396   84707               4       False  \n",
       "422   82521               4       False  \n",
       "469   78882               4       False  \n",
       "523   75374               4       False  \n",
       "549   73392               4       False  \n",
       "604   71108               4       False  \n",
       "819   61716               5       False  "
      ]
     },
     "execution_count": 75,
     "metadata": {},
     "output_type": "execute_result"
    }
   ],
   "source": [
    "maximal_patterns_not_with_percentage[maximal_patterns_not_with_percentage['in maximal']!=True]"
   ]
  },
  {
   "cell_type": "markdown",
   "metadata": {},
   "source": [
    "We first look at the patterns of length 3"
   ]
  },
  {
   "cell_type": "code",
   "execution_count": 77,
   "metadata": {},
   "outputs": [],
   "source": [
    "length_3_patterns_maximal_patterns_not_with_percentage=maximal_patterns_not_with_percentage\\\n",
    "[(maximal_patterns_not_with_percentage['in maximal']!=True)&(maximal_patterns_not_with_percentage.pattern_length==3)]"
   ]
  },
  {
   "cell_type": "code",
   "execution_count": 80,
   "metadata": {
    "scrolled": true
   },
   "outputs": [
    {
     "data": {
      "text/html": [
       "<div>\n",
       "<style scoped>\n",
       "    .dataframe tbody tr th:only-of-type {\n",
       "        vertical-align: middle;\n",
       "    }\n",
       "\n",
       "    .dataframe tbody tr th {\n",
       "        vertical-align: top;\n",
       "    }\n",
       "\n",
       "    .dataframe thead th {\n",
       "        text-align: right;\n",
       "    }\n",
       "</style>\n",
       "<table border=\"1\" class=\"dataframe\">\n",
       "  <thead>\n",
       "    <tr style=\"text-align: right;\">\n",
       "      <th></th>\n",
       "      <th>pattern</th>\n",
       "      <th>sup</th>\n",
       "      <th>pattern_length</th>\n",
       "      <th>in maximal</th>\n",
       "      <th>1</th>\n",
       "      <th>2</th>\n",
       "      <th>3</th>\n",
       "    </tr>\n",
       "  </thead>\n",
       "  <tbody>\n",
       "    <tr>\n",
       "      <th>113</th>\n",
       "      <td>com.instagram.android, com.facebook.orca, com.facebook.katana</td>\n",
       "      <td>129184</td>\n",
       "      <td>3</td>\n",
       "      <td>False</td>\n",
       "      <td>com.instagram.android</td>\n",
       "      <td>com.facebook.orca</td>\n",
       "      <td>com.facebook.katana</td>\n",
       "    </tr>\n",
       "    <tr>\n",
       "      <th>146</th>\n",
       "      <td>com.android.chrome, com.android.chrome, com.sonyericsson.conversations</td>\n",
       "      <td>119956</td>\n",
       "      <td>3</td>\n",
       "      <td>False</td>\n",
       "      <td>com.android.chrome</td>\n",
       "      <td>com.android.chrome</td>\n",
       "      <td>com.sonyericsson.conversations</td>\n",
       "    </tr>\n",
       "    <tr>\n",
       "      <th>177</th>\n",
       "      <td>com.android.chrome, com.facebook.orca, com.facebook.orca</td>\n",
       "      <td>113189</td>\n",
       "      <td>3</td>\n",
       "      <td>False</td>\n",
       "      <td>com.android.chrome</td>\n",
       "      <td>com.facebook.orca</td>\n",
       "      <td>com.facebook.orca</td>\n",
       "    </tr>\n",
       "    <tr>\n",
       "      <th>190</th>\n",
       "      <td>com.android.chrome, com.sonyericsson.conversations, com.sonyericsson.conversations</td>\n",
       "      <td>110815</td>\n",
       "      <td>3</td>\n",
       "      <td>False</td>\n",
       "      <td>com.android.chrome</td>\n",
       "      <td>com.sonyericsson.conversations</td>\n",
       "      <td>com.sonyericsson.conversations</td>\n",
       "    </tr>\n",
       "  </tbody>\n",
       "</table>\n",
       "</div>"
      ],
      "text/plain": [
       "                                                                                pattern  \\\n",
       "113                       com.instagram.android, com.facebook.orca, com.facebook.katana   \n",
       "146              com.android.chrome, com.android.chrome, com.sonyericsson.conversations   \n",
       "177                            com.android.chrome, com.facebook.orca, com.facebook.orca   \n",
       "190  com.android.chrome, com.sonyericsson.conversations, com.sonyericsson.conversations   \n",
       "\n",
       "        sup  pattern_length  in maximal                      1  \\\n",
       "113  129184               3       False  com.instagram.android   \n",
       "146  119956               3       False     com.android.chrome   \n",
       "177  113189               3       False     com.android.chrome   \n",
       "190  110815               3       False     com.android.chrome   \n",
       "\n",
       "                                   2                                3  \n",
       "113                com.facebook.orca              com.facebook.katana  \n",
       "146               com.android.chrome   com.sonyericsson.conversations  \n",
       "177                com.facebook.orca                com.facebook.orca  \n",
       "190   com.sonyericsson.conversations   com.sonyericsson.conversations  "
      ]
     },
     "execution_count": 80,
     "metadata": {},
     "output_type": "execute_result"
    }
   ],
   "source": [
    "length_3_patterns_maximal_patterns_not_with_percentage[[1,2,3]]=length_3_patterns_maximal_patterns_not_with_percentage.pattern.str.split(',',expand=True)\n",
    "length_3_patterns_maximal_patterns_not_with_percentage"
   ]
  },
  {
   "cell_type": "code",
   "execution_count": 126,
   "metadata": {},
   "outputs": [
    {
     "data": {
      "text/plain": [
       "113    True\n",
       "146    True\n",
       "177    True\n",
       "190    True\n",
       "dtype: bool"
      ]
     },
     "execution_count": 126,
     "metadata": {},
     "output_type": "execute_result"
    }
   ],
   "source": [
    "length_3_patterns_maximal_patterns_not_with_percentage.apply(lambda l:output.pattern.str.contains(r'.*{}.*{}.*{}'.format(l[1],l[2],l[3])).any(),axis=1)"
   ]
  },
  {
   "cell_type": "markdown",
   "metadata": {},
   "source": [
    "We see that all of the remaining length 3 patterns, are found as frequent patterns included in the maximal patterns found with the percentage definition.\\\n",
    "We now look at the maximal patterns only found with the coverage definition, and with length 4."
   ]
  },
  {
   "cell_type": "code",
   "execution_count": 128,
   "metadata": {},
   "outputs": [
    {
     "name": "stderr",
     "output_type": "stream",
     "text": [
      "/home/s164574/.conda/envs/myenv/lib/python3.8/site-packages/pandas/core/frame.py:3636: SettingWithCopyWarning: \n",
      "A value is trying to be set on a copy of a slice from a DataFrame.\n",
      "Try using .loc[row_indexer,col_indexer] = value instead\n",
      "\n",
      "See the caveats in the documentation: https://pandas.pydata.org/pandas-docs/stable/user_guide/indexing.html#returning-a-view-versus-a-copy\n",
      "  self[k1] = value[k2]\n"
     ]
    },
    {
     "data": {
      "text/html": [
       "<div>\n",
       "<style scoped>\n",
       "    .dataframe tbody tr th:only-of-type {\n",
       "        vertical-align: middle;\n",
       "    }\n",
       "\n",
       "    .dataframe tbody tr th {\n",
       "        vertical-align: top;\n",
       "    }\n",
       "\n",
       "    .dataframe thead th {\n",
       "        text-align: right;\n",
       "    }\n",
       "</style>\n",
       "<table border=\"1\" class=\"dataframe\">\n",
       "  <thead>\n",
       "    <tr style=\"text-align: right;\">\n",
       "      <th></th>\n",
       "      <th>pattern</th>\n",
       "      <th>sup</th>\n",
       "      <th>pattern_length</th>\n",
       "      <th>in maximal</th>\n",
       "      <th>1</th>\n",
       "      <th>2</th>\n",
       "      <th>3</th>\n",
       "      <th>4</th>\n",
       "    </tr>\n",
       "  </thead>\n",
       "  <tbody>\n",
       "    <tr>\n",
       "      <th>211</th>\n",
       "      <td>com.whatsapp, com.instagram.android, com.whatsapp, com.whatsapp</td>\n",
       "      <td>107290</td>\n",
       "      <td>4</td>\n",
       "      <td>False</td>\n",
       "      <td>com.whatsapp</td>\n",
       "      <td>com.instagram.android</td>\n",
       "      <td>com.whatsapp</td>\n",
       "      <td>com.whatsapp</td>\n",
       "    </tr>\n",
       "    <tr>\n",
       "      <th>219</th>\n",
       "      <td>com.whatsapp, com.whatsapp, com.instagram.android, com.whatsapp</td>\n",
       "      <td>105351</td>\n",
       "      <td>4</td>\n",
       "      <td>False</td>\n",
       "      <td>com.whatsapp</td>\n",
       "      <td>com.whatsapp</td>\n",
       "      <td>com.instagram.android</td>\n",
       "      <td>com.whatsapp</td>\n",
       "    </tr>\n",
       "    <tr>\n",
       "      <th>396</th>\n",
       "      <td>com.whatsapp, com.android.chrome, com.google.android.googlequicksearchbox, com.android.chrome</td>\n",
       "      <td>84707</td>\n",
       "      <td>4</td>\n",
       "      <td>False</td>\n",
       "      <td>com.whatsapp</td>\n",
       "      <td>com.android.chrome</td>\n",
       "      <td>com.google.android.googlequicksearchbox</td>\n",
       "      <td>com.android.chrome</td>\n",
       "    </tr>\n",
       "    <tr>\n",
       "      <th>422</th>\n",
       "      <td>com.whatsapp, com.google.android.googlequicksearchbox, com.android.chrome, com.android.chrome</td>\n",
       "      <td>82521</td>\n",
       "      <td>4</td>\n",
       "      <td>False</td>\n",
       "      <td>com.whatsapp</td>\n",
       "      <td>com.google.android.googlequicksearchbox</td>\n",
       "      <td>com.android.chrome</td>\n",
       "      <td>com.android.chrome</td>\n",
       "    </tr>\n",
       "    <tr>\n",
       "      <th>469</th>\n",
       "      <td>com.facebook.katana, com.facebook.orca, com.facebook.orca, com.facebook.orca</td>\n",
       "      <td>78882</td>\n",
       "      <td>4</td>\n",
       "      <td>False</td>\n",
       "      <td>com.facebook.katana</td>\n",
       "      <td>com.facebook.orca</td>\n",
       "      <td>com.facebook.orca</td>\n",
       "      <td>com.facebook.orca</td>\n",
       "    </tr>\n",
       "    <tr>\n",
       "      <th>523</th>\n",
       "      <td>com.facebook.orca, com.facebook.orca, com.facebook.katana, com.facebook.katana</td>\n",
       "      <td>75374</td>\n",
       "      <td>4</td>\n",
       "      <td>False</td>\n",
       "      <td>com.facebook.orca</td>\n",
       "      <td>com.facebook.orca</td>\n",
       "      <td>com.facebook.katana</td>\n",
       "      <td>com.facebook.katana</td>\n",
       "    </tr>\n",
       "    <tr>\n",
       "      <th>549</th>\n",
       "      <td>com.whatsapp, com.instagram.android, com.instagram.android, com.whatsapp</td>\n",
       "      <td>73392</td>\n",
       "      <td>4</td>\n",
       "      <td>False</td>\n",
       "      <td>com.whatsapp</td>\n",
       "      <td>com.instagram.android</td>\n",
       "      <td>com.instagram.android</td>\n",
       "      <td>com.whatsapp</td>\n",
       "    </tr>\n",
       "    <tr>\n",
       "      <th>604</th>\n",
       "      <td>com.whatsapp, com.google.android.googlequicksearchbox, com.google.android.googlequicksearchbox, com.android.chrome</td>\n",
       "      <td>71108</td>\n",
       "      <td>4</td>\n",
       "      <td>False</td>\n",
       "      <td>com.whatsapp</td>\n",
       "      <td>com.google.android.googlequicksearchbox</td>\n",
       "      <td>com.google.android.googlequicksearchbox</td>\n",
       "      <td>com.android.chrome</td>\n",
       "    </tr>\n",
       "  </tbody>\n",
       "</table>\n",
       "</div>"
      ],
      "text/plain": [
       "                                                                                                                pattern  \\\n",
       "211                                                     com.whatsapp, com.instagram.android, com.whatsapp, com.whatsapp   \n",
       "219                                                     com.whatsapp, com.whatsapp, com.instagram.android, com.whatsapp   \n",
       "396                       com.whatsapp, com.android.chrome, com.google.android.googlequicksearchbox, com.android.chrome   \n",
       "422                       com.whatsapp, com.google.android.googlequicksearchbox, com.android.chrome, com.android.chrome   \n",
       "469                                        com.facebook.katana, com.facebook.orca, com.facebook.orca, com.facebook.orca   \n",
       "523                                      com.facebook.orca, com.facebook.orca, com.facebook.katana, com.facebook.katana   \n",
       "549                                            com.whatsapp, com.instagram.android, com.instagram.android, com.whatsapp   \n",
       "604  com.whatsapp, com.google.android.googlequicksearchbox, com.google.android.googlequicksearchbox, com.android.chrome   \n",
       "\n",
       "        sup  pattern_length  in maximal                    1  \\\n",
       "211  107290               4       False         com.whatsapp   \n",
       "219  105351               4       False         com.whatsapp   \n",
       "396   84707               4       False         com.whatsapp   \n",
       "422   82521               4       False         com.whatsapp   \n",
       "469   78882               4       False  com.facebook.katana   \n",
       "523   75374               4       False    com.facebook.orca   \n",
       "549   73392               4       False         com.whatsapp   \n",
       "604   71108               4       False         com.whatsapp   \n",
       "\n",
       "                                            2  \\\n",
       "211                     com.instagram.android   \n",
       "219                              com.whatsapp   \n",
       "396                        com.android.chrome   \n",
       "422   com.google.android.googlequicksearchbox   \n",
       "469                         com.facebook.orca   \n",
       "523                         com.facebook.orca   \n",
       "549                     com.instagram.android   \n",
       "604   com.google.android.googlequicksearchbox   \n",
       "\n",
       "                                            3                     4  \n",
       "211                              com.whatsapp          com.whatsapp  \n",
       "219                     com.instagram.android          com.whatsapp  \n",
       "396   com.google.android.googlequicksearchbox    com.android.chrome  \n",
       "422                        com.android.chrome    com.android.chrome  \n",
       "469                         com.facebook.orca     com.facebook.orca  \n",
       "523                       com.facebook.katana   com.facebook.katana  \n",
       "549                     com.instagram.android          com.whatsapp  \n",
       "604   com.google.android.googlequicksearchbox    com.android.chrome  "
      ]
     },
     "execution_count": 128,
     "metadata": {},
     "output_type": "execute_result"
    }
   ],
   "source": [
    "length_4_patterns_maximal_patterns_not_with_percentage=maximal_patterns_not_with_percentage\\\n",
    "[(maximal_patterns_not_with_percentage['in maximal']!=True)&(maximal_patterns_not_with_percentage.pattern_length==4)]\n",
    "length_4_patterns_maximal_patterns_not_with_percentage[[1,2,3,4]]=length_4_patterns_maximal_patterns_not_with_percentage.pattern.str.split(',',expand=True)\n",
    "length_4_patterns_maximal_patterns_not_with_percentage"
   ]
  },
  {
   "cell_type": "code",
   "execution_count": 129,
   "metadata": {},
   "outputs": [
    {
     "data": {
      "text/plain": [
       "211    True\n",
       "219    True\n",
       "396    True\n",
       "422    True\n",
       "469    True\n",
       "523    True\n",
       "549    True\n",
       "604    True\n",
       "dtype: bool"
      ]
     },
     "execution_count": 129,
     "metadata": {},
     "output_type": "execute_result"
    }
   ],
   "source": [
    "length_4_patterns_maximal_patterns_not_with_percentage.apply(lambda l:output.pattern.str.contains(r'.*{}.*{}.*{}.*{}'.format(l[1],l[2],l[3],l[4])).any(),axis=1)"
   ]
  },
  {
   "cell_type": "markdown",
   "metadata": {},
   "source": [
    "We see that they as well are all found as subpatterns of maximal patterns found with the percentage definition.\\\n",
    "At last we look at the pattern of length 5."
   ]
  },
  {
   "cell_type": "code",
   "execution_count": 135,
   "metadata": {},
   "outputs": [
    {
     "name": "stderr",
     "output_type": "stream",
     "text": [
      "/home/s164574/.conda/envs/myenv/lib/python3.8/site-packages/pandas/core/frame.py:3636: SettingWithCopyWarning: \n",
      "A value is trying to be set on a copy of a slice from a DataFrame.\n",
      "Try using .loc[row_indexer,col_indexer] = value instead\n",
      "\n",
      "See the caveats in the documentation: https://pandas.pydata.org/pandas-docs/stable/user_guide/indexing.html#returning-a-view-versus-a-copy\n",
      "  self[k1] = value[k2]\n"
     ]
    },
    {
     "data": {
      "text/html": [
       "<div>\n",
       "<style scoped>\n",
       "    .dataframe tbody tr th:only-of-type {\n",
       "        vertical-align: middle;\n",
       "    }\n",
       "\n",
       "    .dataframe tbody tr th {\n",
       "        vertical-align: top;\n",
       "    }\n",
       "\n",
       "    .dataframe thead th {\n",
       "        text-align: right;\n",
       "    }\n",
       "</style>\n",
       "<table border=\"1\" class=\"dataframe\">\n",
       "  <thead>\n",
       "    <tr style=\"text-align: right;\">\n",
       "      <th></th>\n",
       "      <th>pattern</th>\n",
       "      <th>sup</th>\n",
       "      <th>pattern_length</th>\n",
       "      <th>in maximal</th>\n",
       "      <th>1</th>\n",
       "      <th>2</th>\n",
       "      <th>3</th>\n",
       "      <th>4</th>\n",
       "      <th>5</th>\n",
       "    </tr>\n",
       "  </thead>\n",
       "  <tbody>\n",
       "    <tr>\n",
       "      <th>819</th>\n",
       "      <td>com.google.android.googlequicksearchbox, com.google.android.googlequicksearchbox, com.android.chrome, com.android.chrome, com.google.android.googlequicksearchbox</td>\n",
       "      <td>61716</td>\n",
       "      <td>5</td>\n",
       "      <td>False</td>\n",
       "      <td>com.google.android.googlequicksearchbox</td>\n",
       "      <td>com.google.android.googlequicksearchbox</td>\n",
       "      <td>com.android.chrome</td>\n",
       "      <td>com.android.chrome</td>\n",
       "      <td>com.google.android.googlequicksearchbox</td>\n",
       "    </tr>\n",
       "  </tbody>\n",
       "</table>\n",
       "</div>"
      ],
      "text/plain": [
       "                                                                                                                                                               pattern  \\\n",
       "819  com.google.android.googlequicksearchbox, com.google.android.googlequicksearchbox, com.android.chrome, com.android.chrome, com.google.android.googlequicksearchbox   \n",
       "\n",
       "       sup  pattern_length  in maximal  \\\n",
       "819  61716               5       False   \n",
       "\n",
       "                                           1  \\\n",
       "819  com.google.android.googlequicksearchbox   \n",
       "\n",
       "                                            2                    3  \\\n",
       "819   com.google.android.googlequicksearchbox   com.android.chrome   \n",
       "\n",
       "                       4                                         5  \n",
       "819   com.android.chrome   com.google.android.googlequicksearchbox  "
      ]
     },
     "execution_count": 135,
     "metadata": {},
     "output_type": "execute_result"
    }
   ],
   "source": [
    "length_5_patterns_maximal_patterns_not_with_percentage=maximal_patterns_not_with_percentage\\\n",
    "[(maximal_patterns_not_with_percentage['in maximal']!=True)&(maximal_patterns_not_with_percentage.pattern_length==5)]\n",
    "length_5_patterns_maximal_patterns_not_with_percentage[[1,2,3,4,5]]=length_5_patterns_maximal_patterns_not_with_percentage.pattern.str.split(',',expand=True)\n",
    "length_5_patterns_maximal_patterns_not_with_percentage"
   ]
  },
  {
   "cell_type": "code",
   "execution_count": 136,
   "metadata": {},
   "outputs": [
    {
     "data": {
      "text/plain": [
       "819    True\n",
       "dtype: bool"
      ]
     },
     "execution_count": 136,
     "metadata": {},
     "output_type": "execute_result"
    }
   ],
   "source": [
    "length_5_patterns_maximal_patterns_not_with_percentage.apply(lambda l:output.pattern.str.contains(r'.*{}.*{}.*{}.*{}.*{}'.format(l[1],l[2],l[3],l[4],l[5])).any(),axis=1)"
   ]
  },
  {
   "cell_type": "code",
   "execution_count": 130,
   "metadata": {},
   "outputs": [
    {
     "name": "stderr",
     "output_type": "stream",
     "text": [
      "/home/s164574/.conda/envs/myenv/lib/python3.8/site-packages/pandas/core/frame.py:3636: SettingWithCopyWarning: \n",
      "A value is trying to be set on a copy of a slice from a DataFrame.\n",
      "Try using .loc[row_indexer,col_indexer] = value instead\n",
      "\n",
      "See the caveats in the documentation: https://pandas.pydata.org/pandas-docs/stable/user_guide/indexing.html#returning-a-view-versus-a-copy\n",
      "  self[k1] = value[k2]\n"
     ]
    },
    {
     "data": {
      "text/html": [
       "<div>\n",
       "<style scoped>\n",
       "    .dataframe tbody tr th:only-of-type {\n",
       "        vertical-align: middle;\n",
       "    }\n",
       "\n",
       "    .dataframe tbody tr th {\n",
       "        vertical-align: top;\n",
       "    }\n",
       "\n",
       "    .dataframe thead th {\n",
       "        text-align: right;\n",
       "    }\n",
       "</style>\n",
       "<table border=\"1\" class=\"dataframe\">\n",
       "  <thead>\n",
       "    <tr style=\"text-align: right;\">\n",
       "      <th></th>\n",
       "      <th>pattern</th>\n",
       "      <th>sup</th>\n",
       "      <th>pattern_length</th>\n",
       "      <th>in maximal</th>\n",
       "      <th>1</th>\n",
       "      <th>2</th>\n",
       "      <th>3</th>\n",
       "      <th>4</th>\n",
       "      <th>5</th>\n",
       "    </tr>\n",
       "  </thead>\n",
       "  <tbody>\n",
       "    <tr>\n",
       "      <th>819</th>\n",
       "      <td>com.google.android.googlequicksearchbox, com.google.android.googlequicksearchbox, com.android.chrome, com.android.chrome, com.google.android.googlequicksearchbox</td>\n",
       "      <td>61716</td>\n",
       "      <td>5</td>\n",
       "      <td>False</td>\n",
       "      <td>com.google.android.googlequicksearchbox</td>\n",
       "      <td>com.google.android.googlequicksearchbox</td>\n",
       "      <td>com.android.chrome</td>\n",
       "      <td>com.android.chrome</td>\n",
       "      <td>com.google.android.googlequicksearchbox</td>\n",
       "    </tr>\n",
       "  </tbody>\n",
       "</table>\n",
       "</div>"
      ],
      "text/plain": [
       "                                                                                                                                                               pattern  \\\n",
       "819  com.google.android.googlequicksearchbox, com.google.android.googlequicksearchbox, com.android.chrome, com.android.chrome, com.google.android.googlequicksearchbox   \n",
       "\n",
       "       sup  pattern_length  in maximal  \\\n",
       "819  61716               5       False   \n",
       "\n",
       "                                           1  \\\n",
       "819  com.google.android.googlequicksearchbox   \n",
       "\n",
       "                                            2                    3  \\\n",
       "819   com.google.android.googlequicksearchbox   com.android.chrome   \n",
       "\n",
       "                       4                                         5  \n",
       "819   com.android.chrome   com.google.android.googlequicksearchbox  "
      ]
     },
     "execution_count": 130,
     "metadata": {},
     "output_type": "execute_result"
    }
   ],
   "source": [
    "length_5_patterns_maximal_patterns_not_with_percentage=maximal_patterns_not_with_percentage\\\n",
    "[(maximal_patterns_not_with_percentage['in maximal']!=True)&(maximal_patterns_not_with_percentage.pattern_length==5)]\n",
    "length_5_patterns_maximal_patterns_not_with_percentage[[1,2,3,4,5]]=length_5_patterns_maximal_patterns_not_with_percentage.pattern.str.split(',',expand=True)\n",
    "length_5_patterns_maximal_patterns_not_with_percentage"
   ]
  },
  {
   "cell_type": "code",
   "execution_count": 132,
   "metadata": {},
   "outputs": [
    {
     "data": {
      "text/plain": [
       "819    True\n",
       "dtype: bool"
      ]
     },
     "execution_count": 132,
     "metadata": {},
     "output_type": "execute_result"
    }
   ],
   "source": [
    "length_5_patterns_maximal_patterns_not_with_percentage.apply(lambda l:output.pattern.str.contains(r'.*{}.*{}.*{}.*{}.*{}'.format(l[1],l[2],l[3],l[4],l[5])).any(),axis=1)"
   ]
  },
  {
   "cell_type": "markdown",
   "metadata": {},
   "source": [
    "We see that indeed all the maximal patterns found with the coverage definition are also found with percentage definition, just not as maximal patterns."
   ]
  },
  {
   "cell_type": "markdown",
   "metadata": {},
   "source": [
    "We now investigate if this is also the case for any of the maximal patterns only found using the percentage definition."
   ]
  },
  {
   "cell_type": "code",
   "execution_count": 134,
   "metadata": {},
   "outputs": [
    {
     "data": {
      "text/plain": [
       "array([4, 3, 5, 2, 6])"
      ]
     },
     "execution_count": 134,
     "metadata": {},
     "output_type": "execute_result"
    }
   ],
   "source": [
    "maximal_patterns_not_with_coverage.pattern_length.unique()"
   ]
  },
  {
   "cell_type": "markdown",
   "metadata": {},
   "source": [
    "We start by looking at the patterns of length 2."
   ]
  },
  {
   "cell_type": "code",
   "execution_count": 137,
   "metadata": {},
   "outputs": [
    {
     "name": "stderr",
     "output_type": "stream",
     "text": [
      "/home/s164574/.conda/envs/myenv/lib/python3.8/site-packages/pandas/core/frame.py:3636: SettingWithCopyWarning: \n",
      "A value is trying to be set on a copy of a slice from a DataFrame.\n",
      "Try using .loc[row_indexer,col_indexer] = value instead\n",
      "\n",
      "See the caveats in the documentation: https://pandas.pydata.org/pandas-docs/stable/user_guide/indexing.html#returning-a-view-versus-a-copy\n",
      "  self[k1] = value[k2]\n"
     ]
    },
    {
     "data": {
      "text/html": [
       "<div>\n",
       "<style scoped>\n",
       "    .dataframe tbody tr th:only-of-type {\n",
       "        vertical-align: middle;\n",
       "    }\n",
       "\n",
       "    .dataframe tbody tr th {\n",
       "        vertical-align: top;\n",
       "    }\n",
       "\n",
       "    .dataframe thead th {\n",
       "        text-align: right;\n",
       "    }\n",
       "</style>\n",
       "<table border=\"1\" class=\"dataframe\">\n",
       "  <thead>\n",
       "    <tr style=\"text-align: right;\">\n",
       "      <th></th>\n",
       "      <th>pattern</th>\n",
       "      <th>sup</th>\n",
       "      <th>pattern_length</th>\n",
       "      <th>in maximal</th>\n",
       "      <th>1</th>\n",
       "      <th>2</th>\n",
       "    </tr>\n",
       "  </thead>\n",
       "  <tbody>\n",
       "    <tr>\n",
       "      <th>1085</th>\n",
       "      <td>com.google.android.apps.docs, com.google.android.googlequicksearchbox</td>\n",
       "      <td>53617</td>\n",
       "      <td>2</td>\n",
       "      <td>False</td>\n",
       "      <td>com.google.android.apps.docs</td>\n",
       "      <td>com.google.android.googlequicksearchbox</td>\n",
       "    </tr>\n",
       "    <tr>\n",
       "      <th>1090</th>\n",
       "      <td>com.facebook.orca, com.tinder</td>\n",
       "      <td>53561</td>\n",
       "      <td>2</td>\n",
       "      <td>False</td>\n",
       "      <td>com.facebook.orca</td>\n",
       "      <td>com.tinder</td>\n",
       "    </tr>\n",
       "    <tr>\n",
       "      <th>1093</th>\n",
       "      <td>com.twitter.android, com.microsoft.office.outlook</td>\n",
       "      <td>53477</td>\n",
       "      <td>2</td>\n",
       "      <td>False</td>\n",
       "      <td>com.twitter.android</td>\n",
       "      <td>com.microsoft.office.outlook</td>\n",
       "    </tr>\n",
       "    <tr>\n",
       "      <th>1103</th>\n",
       "      <td>com.google.android.youtube, com.android.incallui</td>\n",
       "      <td>53161</td>\n",
       "      <td>2</td>\n",
       "      <td>False</td>\n",
       "      <td>com.google.android.youtube</td>\n",
       "      <td>com.android.incallui</td>\n",
       "    </tr>\n",
       "    <tr>\n",
       "      <th>1121</th>\n",
       "      <td>com.linkedin.android, com.android.chrome</td>\n",
       "      <td>52669</td>\n",
       "      <td>2</td>\n",
       "      <td>False</td>\n",
       "      <td>com.linkedin.android</td>\n",
       "      <td>com.android.chrome</td>\n",
       "    </tr>\n",
       "    <tr>\n",
       "      <th>1122</th>\n",
       "      <td>com.ebay.mobile, com.sonyericsson.conversations</td>\n",
       "      <td>52650</td>\n",
       "      <td>2</td>\n",
       "      <td>False</td>\n",
       "      <td>com.ebay.mobile</td>\n",
       "      <td>com.sonyericsson.conversations</td>\n",
       "    </tr>\n",
       "  </tbody>\n",
       "</table>\n",
       "</div>"
      ],
      "text/plain": [
       "                                                                    pattern  \\\n",
       "1085  com.google.android.apps.docs, com.google.android.googlequicksearchbox   \n",
       "1090                                          com.facebook.orca, com.tinder   \n",
       "1093                      com.twitter.android, com.microsoft.office.outlook   \n",
       "1103                       com.google.android.youtube, com.android.incallui   \n",
       "1121                               com.linkedin.android, com.android.chrome   \n",
       "1122                        com.ebay.mobile, com.sonyericsson.conversations   \n",
       "\n",
       "        sup  pattern_length  in maximal                             1  \\\n",
       "1085  53617               2       False  com.google.android.apps.docs   \n",
       "1090  53561               2       False             com.facebook.orca   \n",
       "1093  53477               2       False           com.twitter.android   \n",
       "1103  53161               2       False    com.google.android.youtube   \n",
       "1121  52669               2       False          com.linkedin.android   \n",
       "1122  52650               2       False               com.ebay.mobile   \n",
       "\n",
       "                                             2  \n",
       "1085   com.google.android.googlequicksearchbox  \n",
       "1090                                com.tinder  \n",
       "1093              com.microsoft.office.outlook  \n",
       "1103                      com.android.incallui  \n",
       "1121                        com.android.chrome  \n",
       "1122            com.sonyericsson.conversations  "
      ]
     },
     "execution_count": 137,
     "metadata": {},
     "output_type": "execute_result"
    }
   ],
   "source": [
    "length_2_patterns_maximal_patterns_not_with_coverage=maximal_patterns_not_with_coverage\\\n",
    "[(maximal_patterns_not_with_coverage['in maximal']!=True)&(maximal_patterns_not_with_coverage.pattern_length==2)]\n",
    "length_2_patterns_maximal_patterns_not_with_coverage[[1,2]]=length_2_patterns_maximal_patterns_not_with_coverage.pattern.str.split(',',expand=True)\n",
    "length_2_patterns_maximal_patterns_not_with_coverage"
   ]
  },
  {
   "cell_type": "code",
   "execution_count": 142,
   "metadata": {},
   "outputs": [
    {
     "data": {
      "text/plain": [
       "1085    False\n",
       "1090    False\n",
       "1093    False\n",
       "1103    False\n",
       "1121    False\n",
       "1122    False\n",
       "dtype: bool"
      ]
     },
     "execution_count": 142,
     "metadata": {},
     "output_type": "execute_result"
    }
   ],
   "source": [
    "length_2_patterns_maximal_patterns_not_with_coverage.apply(lambda l:output_coverage.pattern.str.contains(r'.*{}.*{}.*'.format(l[1],l[2])).any(),axis=1)"
   ]
  },
  {
   "cell_type": "markdown",
   "metadata": {},
   "source": [
    "We see that non of the length two maximal patterns are found to be part of a maximal pattern found with the coverager definition "
   ]
  },
  {
   "cell_type": "code",
   "execution_count": 143,
   "metadata": {},
   "outputs": [
    {
     "name": "stderr",
     "output_type": "stream",
     "text": [
      "/home/s164574/.conda/envs/myenv/lib/python3.8/site-packages/pandas/core/frame.py:3636: SettingWithCopyWarning: \n",
      "A value is trying to be set on a copy of a slice from a DataFrame.\n",
      "Try using .loc[row_indexer,col_indexer] = value instead\n",
      "\n",
      "See the caveats in the documentation: https://pandas.pydata.org/pandas-docs/stable/user_guide/indexing.html#returning-a-view-versus-a-copy\n",
      "  self[k1] = value[k2]\n"
     ]
    },
    {
     "data": {
      "text/html": [
       "<div>\n",
       "<style scoped>\n",
       "    .dataframe tbody tr th:only-of-type {\n",
       "        vertical-align: middle;\n",
       "    }\n",
       "\n",
       "    .dataframe tbody tr th {\n",
       "        vertical-align: top;\n",
       "    }\n",
       "\n",
       "    .dataframe thead th {\n",
       "        text-align: right;\n",
       "    }\n",
       "</style>\n",
       "<table border=\"1\" class=\"dataframe\">\n",
       "  <thead>\n",
       "    <tr style=\"text-align: right;\">\n",
       "      <th></th>\n",
       "      <th>pattern</th>\n",
       "      <th>sup</th>\n",
       "      <th>pattern_length</th>\n",
       "      <th>in maximal</th>\n",
       "      <th>1</th>\n",
       "      <th>2</th>\n",
       "      <th>3</th>\n",
       "    </tr>\n",
       "  </thead>\n",
       "  <tbody>\n",
       "    <tr>\n",
       "      <th>1068</th>\n",
       "      <td>com.android.chrome, com.facebook.orca, com.instagram.android</td>\n",
       "      <td>53927</td>\n",
       "      <td>3</td>\n",
       "      <td>False</td>\n",
       "      <td>com.android.chrome</td>\n",
       "      <td>com.facebook.orca</td>\n",
       "      <td>com.instagram.android</td>\n",
       "    </tr>\n",
       "    <tr>\n",
       "      <th>1072</th>\n",
       "      <td>com.android.chrome, com.twitter.android, com.whatsapp</td>\n",
       "      <td>53786</td>\n",
       "      <td>3</td>\n",
       "      <td>False</td>\n",
       "      <td>com.android.chrome</td>\n",
       "      <td>com.twitter.android</td>\n",
       "      <td>com.whatsapp</td>\n",
       "    </tr>\n",
       "    <tr>\n",
       "      <th>1074</th>\n",
       "      <td>com.android.chrome, com.snapchat.android, com.whatsapp</td>\n",
       "      <td>53780</td>\n",
       "      <td>3</td>\n",
       "      <td>False</td>\n",
       "      <td>com.android.chrome</td>\n",
       "      <td>com.snapchat.android</td>\n",
       "      <td>com.whatsapp</td>\n",
       "    </tr>\n",
       "    <tr>\n",
       "      <th>1075</th>\n",
       "      <td>com.sonymobile.email, com.whatsapp, com.android.chrome</td>\n",
       "      <td>53767</td>\n",
       "      <td>3</td>\n",
       "      <td>False</td>\n",
       "      <td>com.sonymobile.email</td>\n",
       "      <td>com.whatsapp</td>\n",
       "      <td>com.android.chrome</td>\n",
       "    </tr>\n",
       "    <tr>\n",
       "      <th>1077</th>\n",
       "      <td>com.google.android.apps.maps, com.android.chrome, com.google.android.googlequicksearchbox</td>\n",
       "      <td>53734</td>\n",
       "      <td>3</td>\n",
       "      <td>False</td>\n",
       "      <td>com.google.android.apps.maps</td>\n",
       "      <td>com.android.chrome</td>\n",
       "      <td>com.google.android.googlequicksearchbox</td>\n",
       "    </tr>\n",
       "    <tr>\n",
       "      <th>1082</th>\n",
       "      <td>com.facebook.katana, com.google.android.youtube, com.facebook.orca</td>\n",
       "      <td>53643</td>\n",
       "      <td>3</td>\n",
       "      <td>False</td>\n",
       "      <td>com.facebook.katana</td>\n",
       "      <td>com.google.android.youtube</td>\n",
       "      <td>com.facebook.orca</td>\n",
       "    </tr>\n",
       "    <tr>\n",
       "      <th>1091</th>\n",
       "      <td>com.android.chrome, com.facebook.orca, com.google.android.googlequicksearchbox</td>\n",
       "      <td>53559</td>\n",
       "      <td>3</td>\n",
       "      <td>False</td>\n",
       "      <td>com.android.chrome</td>\n",
       "      <td>com.facebook.orca</td>\n",
       "      <td>com.google.android.googlequicksearchbox</td>\n",
       "    </tr>\n",
       "    <tr>\n",
       "      <th>1092</th>\n",
       "      <td>com.facebook.orca, com.android.chrome, com.instagram.android</td>\n",
       "      <td>53508</td>\n",
       "      <td>3</td>\n",
       "      <td>False</td>\n",
       "      <td>com.facebook.orca</td>\n",
       "      <td>com.android.chrome</td>\n",
       "      <td>com.instagram.android</td>\n",
       "    </tr>\n",
       "    <tr>\n",
       "      <th>1095</th>\n",
       "      <td>com.google.android.googlequicksearchbox, com.snapchat.android, com.facebook.katana</td>\n",
       "      <td>53444</td>\n",
       "      <td>3</td>\n",
       "      <td>False</td>\n",
       "      <td>com.google.android.googlequicksearchbox</td>\n",
       "      <td>com.snapchat.android</td>\n",
       "      <td>com.facebook.katana</td>\n",
       "    </tr>\n",
       "    <tr>\n",
       "      <th>1096</th>\n",
       "      <td>com.sonyericsson.conversations, com.facebook.katana, com.sonymobile.email</td>\n",
       "      <td>53354</td>\n",
       "      <td>3</td>\n",
       "      <td>False</td>\n",
       "      <td>com.sonyericsson.conversations</td>\n",
       "      <td>com.facebook.katana</td>\n",
       "      <td>com.sonymobile.email</td>\n",
       "    </tr>\n",
       "    <tr>\n",
       "      <th>1097</th>\n",
       "      <td>com.google.android.googlequicksearchbox, com.instagram.android, com.whatsapp</td>\n",
       "      <td>53340</td>\n",
       "      <td>3</td>\n",
       "      <td>False</td>\n",
       "      <td>com.google.android.googlequicksearchbox</td>\n",
       "      <td>com.instagram.android</td>\n",
       "      <td>com.whatsapp</td>\n",
       "    </tr>\n",
       "    <tr>\n",
       "      <th>1098</th>\n",
       "      <td>com.google.android.youtube, com.facebook.orca, com.facebook.katana</td>\n",
       "      <td>53331</td>\n",
       "      <td>3</td>\n",
       "      <td>False</td>\n",
       "      <td>com.google.android.youtube</td>\n",
       "      <td>com.facebook.orca</td>\n",
       "      <td>com.facebook.katana</td>\n",
       "    </tr>\n",
       "    <tr>\n",
       "      <th>1099</th>\n",
       "      <td>com.android.incallui, com.sonyericsson.conversations, com.sonyericsson.android.socialphonebook</td>\n",
       "      <td>53270</td>\n",
       "      <td>3</td>\n",
       "      <td>False</td>\n",
       "      <td>com.android.incallui</td>\n",
       "      <td>com.sonyericsson.conversations</td>\n",
       "      <td>com.sonyericsson.android.socialphonebook</td>\n",
       "    </tr>\n",
       "    <tr>\n",
       "      <th>1101</th>\n",
       "      <td>com.twitter.android, com.facebook.katana, com.instagram.android</td>\n",
       "      <td>53245</td>\n",
       "      <td>3</td>\n",
       "      <td>False</td>\n",
       "      <td>com.twitter.android</td>\n",
       "      <td>com.facebook.katana</td>\n",
       "      <td>com.instagram.android</td>\n",
       "    </tr>\n",
       "    <tr>\n",
       "      <th>1102</th>\n",
       "      <td>com.android.chrome, com.sonyericsson.album, com.facebook.katana</td>\n",
       "      <td>53230</td>\n",
       "      <td>3</td>\n",
       "      <td>False</td>\n",
       "      <td>com.android.chrome</td>\n",
       "      <td>com.sonyericsson.album</td>\n",
       "      <td>com.facebook.katana</td>\n",
       "    </tr>\n",
       "    <tr>\n",
       "      <th>1106</th>\n",
       "      <td>com.facebook.katana, com.instagram.android, com.google.android.youtube</td>\n",
       "      <td>53072</td>\n",
       "      <td>3</td>\n",
       "      <td>False</td>\n",
       "      <td>com.facebook.katana</td>\n",
       "      <td>com.instagram.android</td>\n",
       "      <td>com.google.android.youtube</td>\n",
       "    </tr>\n",
       "    <tr>\n",
       "      <th>1107</th>\n",
       "      <td>com.instagram.android, com.android.chrome, com.facebook.orca</td>\n",
       "      <td>53038</td>\n",
       "      <td>3</td>\n",
       "      <td>False</td>\n",
       "      <td>com.instagram.android</td>\n",
       "      <td>com.android.chrome</td>\n",
       "      <td>com.facebook.orca</td>\n",
       "    </tr>\n",
       "    <tr>\n",
       "      <th>1108</th>\n",
       "      <td>com.instagram.android, com.whatsapp, com.google.android.googlequicksearchbox</td>\n",
       "      <td>53030</td>\n",
       "      <td>3</td>\n",
       "      <td>False</td>\n",
       "      <td>com.instagram.android</td>\n",
       "      <td>com.whatsapp</td>\n",
       "      <td>com.google.android.googlequicksearchbox</td>\n",
       "    </tr>\n",
       "    <tr>\n",
       "      <th>1111</th>\n",
       "      <td>com.google.android.googlequicksearchbox, com.android.chrome, com.android.incallui</td>\n",
       "      <td>52925</td>\n",
       "      <td>3</td>\n",
       "      <td>False</td>\n",
       "      <td>com.google.android.googlequicksearchbox</td>\n",
       "      <td>com.android.chrome</td>\n",
       "      <td>com.android.incallui</td>\n",
       "    </tr>\n",
       "    <tr>\n",
       "      <th>1112</th>\n",
       "      <td>com.instagram.android, com.instagram.android, com.google.android.googlequicksearchbox</td>\n",
       "      <td>52912</td>\n",
       "      <td>3</td>\n",
       "      <td>False</td>\n",
       "      <td>com.instagram.android</td>\n",
       "      <td>com.instagram.android</td>\n",
       "      <td>com.google.android.googlequicksearchbox</td>\n",
       "    </tr>\n",
       "    <tr>\n",
       "      <th>1114</th>\n",
       "      <td>com.facebook.katana, com.google.android.googlequicksearchbox, com.google.android.gm</td>\n",
       "      <td>52901</td>\n",
       "      <td>3</td>\n",
       "      <td>False</td>\n",
       "      <td>com.facebook.katana</td>\n",
       "      <td>com.google.android.googlequicksearchbox</td>\n",
       "      <td>com.google.android.gm</td>\n",
       "    </tr>\n",
       "    <tr>\n",
       "      <th>1115</th>\n",
       "      <td>com.facebook.orca, com.facebook.katana, com.sonyericsson.album</td>\n",
       "      <td>52833</td>\n",
       "      <td>3</td>\n",
       "      <td>False</td>\n",
       "      <td>com.facebook.orca</td>\n",
       "      <td>com.facebook.katana</td>\n",
       "      <td>com.sonyericsson.album</td>\n",
       "    </tr>\n",
       "    <tr>\n",
       "      <th>1118</th>\n",
       "      <td>com.google.android.youtube, com.instagram.android, com.google.android.youtube</td>\n",
       "      <td>52776</td>\n",
       "      <td>3</td>\n",
       "      <td>False</td>\n",
       "      <td>com.google.android.youtube</td>\n",
       "      <td>com.instagram.android</td>\n",
       "      <td>com.google.android.youtube</td>\n",
       "    </tr>\n",
       "    <tr>\n",
       "      <th>1119</th>\n",
       "      <td>com.google.android.apps.maps, com.facebook.katana, com.facebook.katana</td>\n",
       "      <td>52774</td>\n",
       "      <td>3</td>\n",
       "      <td>False</td>\n",
       "      <td>com.google.android.apps.maps</td>\n",
       "      <td>com.facebook.katana</td>\n",
       "      <td>com.facebook.katana</td>\n",
       "    </tr>\n",
       "    <tr>\n",
       "      <th>1120</th>\n",
       "      <td>com.sonymobile.email, com.google.android.googlequicksearchbox, com.google.android.googlequicksearchbox</td>\n",
       "      <td>52769</td>\n",
       "      <td>3</td>\n",
       "      <td>False</td>\n",
       "      <td>com.sonymobile.email</td>\n",
       "      <td>com.google.android.googlequicksearchbox</td>\n",
       "      <td>com.google.android.googlequicksearchbox</td>\n",
       "    </tr>\n",
       "  </tbody>\n",
       "</table>\n",
       "</div>"
      ],
      "text/plain": [
       "                                                                                                     pattern  \\\n",
       "1068                                            com.android.chrome, com.facebook.orca, com.instagram.android   \n",
       "1072                                                   com.android.chrome, com.twitter.android, com.whatsapp   \n",
       "1074                                                  com.android.chrome, com.snapchat.android, com.whatsapp   \n",
       "1075                                                  com.sonymobile.email, com.whatsapp, com.android.chrome   \n",
       "1077               com.google.android.apps.maps, com.android.chrome, com.google.android.googlequicksearchbox   \n",
       "1082                                      com.facebook.katana, com.google.android.youtube, com.facebook.orca   \n",
       "1091                          com.android.chrome, com.facebook.orca, com.google.android.googlequicksearchbox   \n",
       "1092                                            com.facebook.orca, com.android.chrome, com.instagram.android   \n",
       "1095                      com.google.android.googlequicksearchbox, com.snapchat.android, com.facebook.katana   \n",
       "1096                               com.sonyericsson.conversations, com.facebook.katana, com.sonymobile.email   \n",
       "1097                            com.google.android.googlequicksearchbox, com.instagram.android, com.whatsapp   \n",
       "1098                                      com.google.android.youtube, com.facebook.orca, com.facebook.katana   \n",
       "1099          com.android.incallui, com.sonyericsson.conversations, com.sonyericsson.android.socialphonebook   \n",
       "1101                                         com.twitter.android, com.facebook.katana, com.instagram.android   \n",
       "1102                                         com.android.chrome, com.sonyericsson.album, com.facebook.katana   \n",
       "1106                                  com.facebook.katana, com.instagram.android, com.google.android.youtube   \n",
       "1107                                            com.instagram.android, com.android.chrome, com.facebook.orca   \n",
       "1108                            com.instagram.android, com.whatsapp, com.google.android.googlequicksearchbox   \n",
       "1111                       com.google.android.googlequicksearchbox, com.android.chrome, com.android.incallui   \n",
       "1112                   com.instagram.android, com.instagram.android, com.google.android.googlequicksearchbox   \n",
       "1114                     com.facebook.katana, com.google.android.googlequicksearchbox, com.google.android.gm   \n",
       "1115                                          com.facebook.orca, com.facebook.katana, com.sonyericsson.album   \n",
       "1118                           com.google.android.youtube, com.instagram.android, com.google.android.youtube   \n",
       "1119                                  com.google.android.apps.maps, com.facebook.katana, com.facebook.katana   \n",
       "1120  com.sonymobile.email, com.google.android.googlequicksearchbox, com.google.android.googlequicksearchbox   \n",
       "\n",
       "        sup  pattern_length  in maximal  \\\n",
       "1068  53927               3       False   \n",
       "1072  53786               3       False   \n",
       "1074  53780               3       False   \n",
       "1075  53767               3       False   \n",
       "1077  53734               3       False   \n",
       "1082  53643               3       False   \n",
       "1091  53559               3       False   \n",
       "1092  53508               3       False   \n",
       "1095  53444               3       False   \n",
       "1096  53354               3       False   \n",
       "1097  53340               3       False   \n",
       "1098  53331               3       False   \n",
       "1099  53270               3       False   \n",
       "1101  53245               3       False   \n",
       "1102  53230               3       False   \n",
       "1106  53072               3       False   \n",
       "1107  53038               3       False   \n",
       "1108  53030               3       False   \n",
       "1111  52925               3       False   \n",
       "1112  52912               3       False   \n",
       "1114  52901               3       False   \n",
       "1115  52833               3       False   \n",
       "1118  52776               3       False   \n",
       "1119  52774               3       False   \n",
       "1120  52769               3       False   \n",
       "\n",
       "                                            1  \\\n",
       "1068                       com.android.chrome   \n",
       "1072                       com.android.chrome   \n",
       "1074                       com.android.chrome   \n",
       "1075                     com.sonymobile.email   \n",
       "1077             com.google.android.apps.maps   \n",
       "1082                      com.facebook.katana   \n",
       "1091                       com.android.chrome   \n",
       "1092                        com.facebook.orca   \n",
       "1095  com.google.android.googlequicksearchbox   \n",
       "1096           com.sonyericsson.conversations   \n",
       "1097  com.google.android.googlequicksearchbox   \n",
       "1098               com.google.android.youtube   \n",
       "1099                     com.android.incallui   \n",
       "1101                      com.twitter.android   \n",
       "1102                       com.android.chrome   \n",
       "1106                      com.facebook.katana   \n",
       "1107                    com.instagram.android   \n",
       "1108                    com.instagram.android   \n",
       "1111  com.google.android.googlequicksearchbox   \n",
       "1112                    com.instagram.android   \n",
       "1114                      com.facebook.katana   \n",
       "1115                        com.facebook.orca   \n",
       "1118               com.google.android.youtube   \n",
       "1119             com.google.android.apps.maps   \n",
       "1120                     com.sonymobile.email   \n",
       "\n",
       "                                             2  \\\n",
       "1068                         com.facebook.orca   \n",
       "1072                       com.twitter.android   \n",
       "1074                      com.snapchat.android   \n",
       "1075                              com.whatsapp   \n",
       "1077                        com.android.chrome   \n",
       "1082                com.google.android.youtube   \n",
       "1091                         com.facebook.orca   \n",
       "1092                        com.android.chrome   \n",
       "1095                      com.snapchat.android   \n",
       "1096                       com.facebook.katana   \n",
       "1097                     com.instagram.android   \n",
       "1098                         com.facebook.orca   \n",
       "1099            com.sonyericsson.conversations   \n",
       "1101                       com.facebook.katana   \n",
       "1102                    com.sonyericsson.album   \n",
       "1106                     com.instagram.android   \n",
       "1107                        com.android.chrome   \n",
       "1108                              com.whatsapp   \n",
       "1111                        com.android.chrome   \n",
       "1112                     com.instagram.android   \n",
       "1114   com.google.android.googlequicksearchbox   \n",
       "1115                       com.facebook.katana   \n",
       "1118                     com.instagram.android   \n",
       "1119                       com.facebook.katana   \n",
       "1120   com.google.android.googlequicksearchbox   \n",
       "\n",
       "                                              3  \n",
       "1068                      com.instagram.android  \n",
       "1072                               com.whatsapp  \n",
       "1074                               com.whatsapp  \n",
       "1075                         com.android.chrome  \n",
       "1077    com.google.android.googlequicksearchbox  \n",
       "1082                          com.facebook.orca  \n",
       "1091    com.google.android.googlequicksearchbox  \n",
       "1092                      com.instagram.android  \n",
       "1095                        com.facebook.katana  \n",
       "1096                       com.sonymobile.email  \n",
       "1097                               com.whatsapp  \n",
       "1098                        com.facebook.katana  \n",
       "1099   com.sonyericsson.android.socialphonebook  \n",
       "1101                      com.instagram.android  \n",
       "1102                        com.facebook.katana  \n",
       "1106                 com.google.android.youtube  \n",
       "1107                          com.facebook.orca  \n",
       "1108    com.google.android.googlequicksearchbox  \n",
       "1111                       com.android.incallui  \n",
       "1112    com.google.android.googlequicksearchbox  \n",
       "1114                      com.google.android.gm  \n",
       "1115                     com.sonyericsson.album  \n",
       "1118                 com.google.android.youtube  \n",
       "1119                        com.facebook.katana  \n",
       "1120    com.google.android.googlequicksearchbox  "
      ]
     },
     "execution_count": 143,
     "metadata": {},
     "output_type": "execute_result"
    }
   ],
   "source": [
    "length_3_patterns_maximal_patterns_not_with_coverage=maximal_patterns_not_with_coverage\\\n",
    "[(maximal_patterns_not_with_coverage['in maximal']!=True)&(maximal_patterns_not_with_coverage.pattern_length==3)]\n",
    "length_3_patterns_maximal_patterns_not_with_coverage[[1,2,3]]=length_3_patterns_maximal_patterns_not_with_coverage.pattern.str.split(',',expand=True)\n",
    "length_3_patterns_maximal_patterns_not_with_coverage"
   ]
  },
  {
   "cell_type": "code",
   "execution_count": 144,
   "metadata": {},
   "outputs": [
    {
     "data": {
      "text/plain": [
       "1068    False\n",
       "1072    False\n",
       "1074    False\n",
       "1075    False\n",
       "1077    False\n",
       "1082    False\n",
       "1091    False\n",
       "1092    False\n",
       "1095    False\n",
       "1096    False\n",
       "1097    False\n",
       "1098    False\n",
       "1099    False\n",
       "1101    False\n",
       "1102    False\n",
       "1106    False\n",
       "1107    False\n",
       "1108    False\n",
       "1111    False\n",
       "1112    False\n",
       "1114    False\n",
       "1115    False\n",
       "1118    False\n",
       "1119    False\n",
       "1120    False\n",
       "dtype: bool"
      ]
     },
     "execution_count": 144,
     "metadata": {},
     "output_type": "execute_result"
    }
   ],
   "source": [
    "length_3_patterns_maximal_patterns_not_with_coverage.apply(lambda l:output_coverage.pattern.str.contains(r'.*{}.*{}.*{}.*'.format(l[1],l[2],l[3])).any(),axis=1)"
   ]
  },
  {
   "cell_type": "markdown",
   "metadata": {},
   "source": [
    "The same is the case for the length 3 maximal patterns."
   ]
  },
  {
   "cell_type": "code",
   "execution_count": 145,
   "metadata": {},
   "outputs": [
    {
     "name": "stderr",
     "output_type": "stream",
     "text": [
      "/home/s164574/.conda/envs/myenv/lib/python3.8/site-packages/pandas/core/frame.py:3636: SettingWithCopyWarning: \n",
      "A value is trying to be set on a copy of a slice from a DataFrame.\n",
      "Try using .loc[row_indexer,col_indexer] = value instead\n",
      "\n",
      "See the caveats in the documentation: https://pandas.pydata.org/pandas-docs/stable/user_guide/indexing.html#returning-a-view-versus-a-copy\n",
      "  self[k1] = value[k2]\n"
     ]
    },
    {
     "data": {
      "text/plain": [
       "1067    False\n",
       "1069    False\n",
       "1071    False\n",
       "1080    False\n",
       "1083    False\n",
       "1084    False\n",
       "1086    False\n",
       "1087    False\n",
       "1094    False\n",
       "1100    False\n",
       "1104    False\n",
       "1105    False\n",
       "1109    False\n",
       "1117    False\n",
       "dtype: bool"
      ]
     },
     "execution_count": 145,
     "metadata": {},
     "output_type": "execute_result"
    }
   ],
   "source": [
    "length_4_patterns_maximal_patterns_not_with_coverage=maximal_patterns_not_with_coverage\\\n",
    "[(maximal_patterns_not_with_coverage['in maximal']!=True)&(maximal_patterns_not_with_coverage.pattern_length==4)]\n",
    "length_4_patterns_maximal_patterns_not_with_coverage[[1,2,3,4]]=length_4_patterns_maximal_patterns_not_with_coverage.pattern.str.split(',',expand=True)\n",
    "length_4_patterns_maximal_patterns_not_with_coverage\n",
    "\n",
    "length_4_patterns_maximal_patterns_not_with_coverage.apply(lambda l:output_coverage.pattern.str.contains(r'.*{}.*{}.*{}.*{}.*'.format(l[1],l[2],l[3],l[4])).any(),axis=1)"
   ]
  },
  {
   "cell_type": "code",
   "execution_count": 147,
   "metadata": {},
   "outputs": [
    {
     "data": {
      "text/plain": [
       "1070    False\n",
       "1076    False\n",
       "1078    False\n",
       "1079    False\n",
       "1081    False\n",
       "1088    False\n",
       "1089    False\n",
       "1110    False\n",
       "1113    False\n",
       "dtype: bool"
      ]
     },
     "execution_count": 147,
     "metadata": {},
     "output_type": "execute_result"
    }
   ],
   "source": [
    "length_5_patterns_maximal_patterns_not_with_coverage=maximal_patterns_not_with_coverage\\\n",
    "[(maximal_patterns_not_with_coverage['in maximal']!=True)&(maximal_patterns_not_with_coverage.pattern_length==5)]\n",
    "length_5_patterns_maximal_patterns_not_with_coverage[[1,2,3,4,5]]=length_5_patterns_maximal_patterns_not_with_coverage.pattern.str.split(',',expand=True)\n",
    "length_5_patterns_maximal_patterns_not_with_coverage\n",
    "\n",
    "length_5_patterns_maximal_patterns_not_with_coverage.apply(lambda l:output_coverage.pattern.str.contains(r'.*{}.*{}.*{}.*{}.*{}.*'.format(l[1],l[2],l[3],l[4],l[5])).any(),axis=1)"
   ]
  },
  {
   "cell_type": "code",
   "execution_count": 148,
   "metadata": {},
   "outputs": [
    {
     "data": {
      "text/plain": [
       "1116    False\n",
       "dtype: bool"
      ]
     },
     "execution_count": 148,
     "metadata": {},
     "output_type": "execute_result"
    }
   ],
   "source": [
    "length_6_patterns_maximal_patterns_not_with_coverage=maximal_patterns_not_with_coverage\\\n",
    "[(maximal_patterns_not_with_coverage['in maximal']!=True)&(maximal_patterns_not_with_coverage.pattern_length==6)]\n",
    "length_6_patterns_maximal_patterns_not_with_coverage[[1,2,3,4,5,6]]=length_6_patterns_maximal_patterns_not_with_coverage.pattern.str.split(',',expand=True)\n",
    "length_6_patterns_maximal_patterns_not_with_coverage\n",
    "\n",
    "length_6_patterns_maximal_patterns_not_with_coverage.apply(lambda l:output_coverage.pattern.str.contains(r'.*{}.*{}.*{}.*{}.*{}.*{}.*'.format(l[1],l[2],l[3],l[4],l[5],l[6])).any(),axis=1)"
   ]
  },
  {
   "cell_type": "markdown",
   "metadata": {},
   "source": [
    "We see that 55 maximal patterns are not found as part of the maximal patterns."
   ]
  },
  {
   "cell_type": "code",
   "execution_count": 151,
   "metadata": {},
   "outputs": [
    {
     "data": {
      "text/html": [
       "<div>\n",
       "<style scoped>\n",
       "    .dataframe tbody tr th:only-of-type {\n",
       "        vertical-align: middle;\n",
       "    }\n",
       "\n",
       "    .dataframe tbody tr th {\n",
       "        vertical-align: top;\n",
       "    }\n",
       "\n",
       "    .dataframe thead th {\n",
       "        text-align: right;\n",
       "    }\n",
       "</style>\n",
       "<table border=\"1\" class=\"dataframe\">\n",
       "  <thead>\n",
       "    <tr style=\"text-align: right;\">\n",
       "      <th></th>\n",
       "      <th>pattern</th>\n",
       "      <th>sup</th>\n",
       "      <th>pattern_length</th>\n",
       "      <th>in maximal</th>\n",
       "      <th>1</th>\n",
       "      <th>2</th>\n",
       "      <th>3</th>\n",
       "      <th>4</th>\n",
       "      <th>5</th>\n",
       "      <th>6</th>\n",
       "    </tr>\n",
       "  </thead>\n",
       "  <tbody>\n",
       "    <tr>\n",
       "      <th>1116</th>\n",
       "      <td>com.google.android.googlequicksearchbox, com.google.android.googlequicksearchbox, com.android.chrome, com.google.android.googlequicksearchbox, com.android.chrome, com.google.android.googlequicksearchbox</td>\n",
       "      <td>52815</td>\n",
       "      <td>6</td>\n",
       "      <td>False</td>\n",
       "      <td>com.google.android.googlequicksearchbox</td>\n",
       "      <td>com.google.android.googlequicksearchbox</td>\n",
       "      <td>com.android.chrome</td>\n",
       "      <td>com.google.android.googlequicksearchbox</td>\n",
       "      <td>com.android.chrome</td>\n",
       "      <td>com.google.android.googlequicksearchbox</td>\n",
       "    </tr>\n",
       "  </tbody>\n",
       "</table>\n",
       "</div>"
      ],
      "text/plain": [
       "                                                                                                                                                                                                         pattern  \\\n",
       "1116  com.google.android.googlequicksearchbox, com.google.android.googlequicksearchbox, com.android.chrome, com.google.android.googlequicksearchbox, com.android.chrome, com.google.android.googlequicksearchbox   \n",
       "\n",
       "        sup  pattern_length  in maximal  \\\n",
       "1116  52815               6       False   \n",
       "\n",
       "                                            1  \\\n",
       "1116  com.google.android.googlequicksearchbox   \n",
       "\n",
       "                                             2                    3  \\\n",
       "1116   com.google.android.googlequicksearchbox   com.android.chrome   \n",
       "\n",
       "                                             4                    5  \\\n",
       "1116   com.google.android.googlequicksearchbox   com.android.chrome   \n",
       "\n",
       "                                             6  \n",
       "1116   com.google.android.googlequicksearchbox  "
      ]
     },
     "execution_count": 151,
     "metadata": {},
     "output_type": "execute_result"
    }
   ],
   "source": [
    "length_6_patterns_maximal_patterns_not_with_coverage"
   ]
  },
  {
   "cell_type": "markdown",
   "metadata": {},
   "source": [
    "We see that while the above length six mximal pattern was not found with the coverage definition of frequency, it is very similar to the other maximal patterns of length six discovered."
   ]
  },
  {
   "cell_type": "code",
   "execution_count": 152,
   "metadata": {},
   "outputs": [
    {
     "data": {
      "text/html": [
       "<div>\n",
       "<style scoped>\n",
       "    .dataframe tbody tr th:only-of-type {\n",
       "        vertical-align: middle;\n",
       "    }\n",
       "\n",
       "    .dataframe tbody tr th {\n",
       "        vertical-align: top;\n",
       "    }\n",
       "\n",
       "    .dataframe thead th {\n",
       "        text-align: right;\n",
       "    }\n",
       "</style>\n",
       "<table border=\"1\" class=\"dataframe\">\n",
       "  <thead>\n",
       "    <tr style=\"text-align: right;\">\n",
       "      <th></th>\n",
       "      <th>pattern</th>\n",
       "      <th>sup</th>\n",
       "      <th>pattern_length</th>\n",
       "      <th>in maximal</th>\n",
       "      <th>1</th>\n",
       "      <th>2</th>\n",
       "      <th>3</th>\n",
       "      <th>4</th>\n",
       "      <th>5</th>\n",
       "    </tr>\n",
       "  </thead>\n",
       "  <tbody>\n",
       "    <tr>\n",
       "      <th>1070</th>\n",
       "      <td>com.facebook.katana, com.facebook.katana, com.whatsapp, com.whatsapp, com.whatsapp</td>\n",
       "      <td>53792</td>\n",
       "      <td>5</td>\n",
       "      <td>False</td>\n",
       "      <td>com.facebook.katana</td>\n",
       "      <td>com.facebook.katana</td>\n",
       "      <td>com.whatsapp</td>\n",
       "      <td>com.whatsapp</td>\n",
       "      <td>com.whatsapp</td>\n",
       "    </tr>\n",
       "    <tr>\n",
       "      <th>1076</th>\n",
       "      <td>com.facebook.katana, com.facebook.katana, com.facebook.katana, com.facebook.orca, com.facebook.katana</td>\n",
       "      <td>53764</td>\n",
       "      <td>5</td>\n",
       "      <td>False</td>\n",
       "      <td>com.facebook.katana</td>\n",
       "      <td>com.facebook.katana</td>\n",
       "      <td>com.facebook.katana</td>\n",
       "      <td>com.facebook.orca</td>\n",
       "      <td>com.facebook.katana</td>\n",
       "    </tr>\n",
       "    <tr>\n",
       "      <th>1078</th>\n",
       "      <td>com.whatsapp, com.whatsapp, com.facebook.katana, com.facebook.katana, com.facebook.katana</td>\n",
       "      <td>53731</td>\n",
       "      <td>5</td>\n",
       "      <td>False</td>\n",
       "      <td>com.whatsapp</td>\n",
       "      <td>com.whatsapp</td>\n",
       "      <td>com.facebook.katana</td>\n",
       "      <td>com.facebook.katana</td>\n",
       "      <td>com.facebook.katana</td>\n",
       "    </tr>\n",
       "    <tr>\n",
       "      <th>1079</th>\n",
       "      <td>com.facebook.orca, com.facebook.katana, com.facebook.orca, com.facebook.katana, com.facebook.katana</td>\n",
       "      <td>53700</td>\n",
       "      <td>5</td>\n",
       "      <td>False</td>\n",
       "      <td>com.facebook.orca</td>\n",
       "      <td>com.facebook.katana</td>\n",
       "      <td>com.facebook.orca</td>\n",
       "      <td>com.facebook.katana</td>\n",
       "      <td>com.facebook.katana</td>\n",
       "    </tr>\n",
       "    <tr>\n",
       "      <th>1081</th>\n",
       "      <td>com.facebook.katana, com.facebook.katana, com.facebook.orca, com.facebook.katana, com.facebook.katana</td>\n",
       "      <td>53683</td>\n",
       "      <td>5</td>\n",
       "      <td>False</td>\n",
       "      <td>com.facebook.katana</td>\n",
       "      <td>com.facebook.katana</td>\n",
       "      <td>com.facebook.orca</td>\n",
       "      <td>com.facebook.katana</td>\n",
       "      <td>com.facebook.katana</td>\n",
       "    </tr>\n",
       "    <tr>\n",
       "      <th>1088</th>\n",
       "      <td>com.whatsapp, com.google.android.googlequicksearchbox, com.android.chrome, com.google.android.googlequicksearchbox, com.android.chrome</td>\n",
       "      <td>53590</td>\n",
       "      <td>5</td>\n",
       "      <td>False</td>\n",
       "      <td>com.whatsapp</td>\n",
       "      <td>com.google.android.googlequicksearchbox</td>\n",
       "      <td>com.android.chrome</td>\n",
       "      <td>com.google.android.googlequicksearchbox</td>\n",
       "      <td>com.android.chrome</td>\n",
       "    </tr>\n",
       "    <tr>\n",
       "      <th>1089</th>\n",
       "      <td>com.facebook.katana, com.facebook.orca, com.facebook.orca, com.facebook.katana, com.facebook.orca</td>\n",
       "      <td>53566</td>\n",
       "      <td>5</td>\n",
       "      <td>False</td>\n",
       "      <td>com.facebook.katana</td>\n",
       "      <td>com.facebook.orca</td>\n",
       "      <td>com.facebook.orca</td>\n",
       "      <td>com.facebook.katana</td>\n",
       "      <td>com.facebook.orca</td>\n",
       "    </tr>\n",
       "    <tr>\n",
       "      <th>1110</th>\n",
       "      <td>com.whatsapp, com.instagram.android, com.whatsapp, com.instagram.android, com.whatsapp</td>\n",
       "      <td>52930</td>\n",
       "      <td>5</td>\n",
       "      <td>False</td>\n",
       "      <td>com.whatsapp</td>\n",
       "      <td>com.instagram.android</td>\n",
       "      <td>com.whatsapp</td>\n",
       "      <td>com.instagram.android</td>\n",
       "      <td>com.whatsapp</td>\n",
       "    </tr>\n",
       "    <tr>\n",
       "      <th>1113</th>\n",
       "      <td>com.facebook.orca, com.facebook.katana, com.facebook.katana, com.facebook.orca, com.facebook.katana</td>\n",
       "      <td>52903</td>\n",
       "      <td>5</td>\n",
       "      <td>False</td>\n",
       "      <td>com.facebook.orca</td>\n",
       "      <td>com.facebook.katana</td>\n",
       "      <td>com.facebook.katana</td>\n",
       "      <td>com.facebook.orca</td>\n",
       "      <td>com.facebook.katana</td>\n",
       "    </tr>\n",
       "  </tbody>\n",
       "</table>\n",
       "</div>"
      ],
      "text/plain": [
       "                                                                                                                                     pattern  \\\n",
       "1070                                                      com.facebook.katana, com.facebook.katana, com.whatsapp, com.whatsapp, com.whatsapp   \n",
       "1076                                   com.facebook.katana, com.facebook.katana, com.facebook.katana, com.facebook.orca, com.facebook.katana   \n",
       "1078                                               com.whatsapp, com.whatsapp, com.facebook.katana, com.facebook.katana, com.facebook.katana   \n",
       "1079                                     com.facebook.orca, com.facebook.katana, com.facebook.orca, com.facebook.katana, com.facebook.katana   \n",
       "1081                                   com.facebook.katana, com.facebook.katana, com.facebook.orca, com.facebook.katana, com.facebook.katana   \n",
       "1088  com.whatsapp, com.google.android.googlequicksearchbox, com.android.chrome, com.google.android.googlequicksearchbox, com.android.chrome   \n",
       "1089                                       com.facebook.katana, com.facebook.orca, com.facebook.orca, com.facebook.katana, com.facebook.orca   \n",
       "1110                                                  com.whatsapp, com.instagram.android, com.whatsapp, com.instagram.android, com.whatsapp   \n",
       "1113                                     com.facebook.orca, com.facebook.katana, com.facebook.katana, com.facebook.orca, com.facebook.katana   \n",
       "\n",
       "        sup  pattern_length  in maximal                    1  \\\n",
       "1070  53792               5       False  com.facebook.katana   \n",
       "1076  53764               5       False  com.facebook.katana   \n",
       "1078  53731               5       False         com.whatsapp   \n",
       "1079  53700               5       False    com.facebook.orca   \n",
       "1081  53683               5       False  com.facebook.katana   \n",
       "1088  53590               5       False         com.whatsapp   \n",
       "1089  53566               5       False  com.facebook.katana   \n",
       "1110  52930               5       False         com.whatsapp   \n",
       "1113  52903               5       False    com.facebook.orca   \n",
       "\n",
       "                                             2                     3  \\\n",
       "1070                       com.facebook.katana          com.whatsapp   \n",
       "1076                       com.facebook.katana   com.facebook.katana   \n",
       "1078                              com.whatsapp   com.facebook.katana   \n",
       "1079                       com.facebook.katana     com.facebook.orca   \n",
       "1081                       com.facebook.katana     com.facebook.orca   \n",
       "1088   com.google.android.googlequicksearchbox    com.android.chrome   \n",
       "1089                         com.facebook.orca     com.facebook.orca   \n",
       "1110                     com.instagram.android          com.whatsapp   \n",
       "1113                       com.facebook.katana   com.facebook.katana   \n",
       "\n",
       "                                             4                     5  \n",
       "1070                              com.whatsapp          com.whatsapp  \n",
       "1076                         com.facebook.orca   com.facebook.katana  \n",
       "1078                       com.facebook.katana   com.facebook.katana  \n",
       "1079                       com.facebook.katana   com.facebook.katana  \n",
       "1081                       com.facebook.katana   com.facebook.katana  \n",
       "1088   com.google.android.googlequicksearchbox    com.android.chrome  \n",
       "1089                       com.facebook.katana     com.facebook.orca  \n",
       "1110                     com.instagram.android          com.whatsapp  \n",
       "1113                         com.facebook.orca   com.facebook.katana  "
      ]
     },
     "execution_count": 152,
     "metadata": {},
     "output_type": "execute_result"
    }
   ],
   "source": [
    "length_5_patterns_maximal_patterns_not_with_coverage"
   ]
  },
  {
   "cell_type": "code",
   "execution_count": 156,
   "metadata": {},
   "outputs": [
    {
     "name": "stderr",
     "output_type": "stream",
     "text": [
      "/home/s164574/.conda/envs/myenv/lib/python3.8/site-packages/pandas/core/frame.py:3636: SettingWithCopyWarning: \n",
      "A value is trying to be set on a copy of a slice from a DataFrame.\n",
      "Try using .loc[row_indexer,col_indexer] = value instead\n",
      "\n",
      "See the caveats in the documentation: https://pandas.pydata.org/pandas-docs/stable/user_guide/indexing.html#returning-a-view-versus-a-copy\n",
      "  self[k1] = value[k2]\n"
     ]
    }
   ],
   "source": [
    "length_6_patterns_maximal_patterns_not_with_coverage[[1,2,3,4,5,6]]=length_6_patterns_maximal_patterns_not_with_coverage.pattern.str.split(',',expand=True)"
   ]
  },
  {
   "cell_type": "code",
   "execution_count": 157,
   "metadata": {},
   "outputs": [],
   "source": [
    "length_6_patterns_maximal_patterns_not_with_coverage.to_csv(\"unique_maximal_pattern_for_percentage_length6.csv\",index=False)"
   ]
  }
 ],
 "metadata": {
  "kernelspec": {
   "display_name": "Python 3",
   "language": "python",
   "name": "python3"
  },
  "language_info": {
   "codemirror_mode": {
    "name": "ipython",
    "version": 3
   },
   "file_extension": ".py",
   "mimetype": "text/x-python",
   "name": "python",
   "nbconvert_exporter": "python",
   "pygments_lexer": "ipython3",
   "version": "3.8.5"
  }
 },
 "nbformat": 4,
 "nbformat_minor": 4
}
