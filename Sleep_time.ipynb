{
 "cells": [
  {
   "cell_type": "code",
   "execution_count": 1,
   "metadata": {},
   "outputs": [],
   "source": [
    "from spmf import Spmf\n",
    "import numpy as np\n",
    "import pandas as pd\n",
    "import os\n",
    "import re\n",
    "import matplotlib.pyplot as plt\n",
    "\n",
    "pd.options.display.max_colwidth = 500000"
   ]
  },
  {
   "cell_type": "code",
   "execution_count": 2,
   "metadata": {},
   "outputs": [],
   "source": [
    "data=pd.read_csv('sorted_coded_data.csv')"
   ]
  },
  {
   "cell_type": "code",
   "execution_count": 3,
   "metadata": {},
   "outputs": [],
   "source": [
    "data=data.sort_values(by=['user_id','start_time','end_time'])"
   ]
  },
  {
   "cell_type": "markdown",
   "metadata": {},
   "source": [
    "# Calculate sleep time"
   ]
  },
  {
   "cell_type": "markdown",
   "metadata": {},
   "source": [
    "To calculate the sleep time, we start by determining identifying the app blocks. The app blocks are what are refered to as sequences in the below code.\\\n",
    "The following function is inspried by the following source https://stackoverflow.com/questions/57804145/combining-rows-with-overlapping-time-periods-in-a-pandas-dataframe (visited 29.10.2021). "
   ]
  },
  {
   "cell_type": "code",
   "execution_count": 4,
   "metadata": {},
   "outputs": [],
   "source": [
    "def join_times(x):\n",
    "    startdf = pd.DataFrame({'time':x['start_time'], 'what':1})\n",
    "    enddf = pd.DataFrame({'time':x['end_time'], 'what':-1})\n",
    "    mergdf = pd.concat([startdf, enddf]).sort_values(['time','what'])\n",
    "    mergdf['running'] = mergdf['what'].cumsum()\n",
    "    mergdf['new_sequence'] = mergdf['running'].eq(1) & mergdf['what'].eq(1)\n",
    "    mergdf['sequence_number'] = mergdf['new_sequence'].cumsum()\n",
    "    x['sequence_number'] = mergdf['sequence_number'].loc[mergdf['what'].eq(1)]\n",
    "    return x['sequence_number']"
   ]
  },
  {
   "cell_type": "code",
   "execution_count": 5,
   "metadata": {},
   "outputs": [],
   "source": [
    "#determining app blocks\n",
    "data['sequence_number']=data.groupby('user_id').apply(join_times).reset_index().drop(['user_id','level_1'], axis=1).values\n",
    "#identify min start time and max end time for each block\n",
    "data=pd.merge(data,data.groupby(['user_id','sequence_number']).agg({'start_time':'min','end_time':'max'}).reset_index().rename(columns={'end_time':'sequence_end_time','start_time':'sequence_Start_time'}),how='left', on=['user_id','sequence_number'])\n",
    "#calculate sleep time\n",
    "data['sleep_time']=data.start_time-data.sequence_end_time.shift(1,fill_value=0)\n",
    "data.loc[data[data['sleep_time']<0].index,'sleep_time']=0"
   ]
  },
  {
   "cell_type": "code",
   "execution_count": 6,
   "metadata": {},
   "outputs": [
    {
     "name": "stdout",
     "output_type": "stream",
     "text": [
      "Number of observations:  254450422\n"
     ]
    }
   ],
   "source": [
    "print(\"Number of observations: \",data.shape[0])"
   ]
  },
  {
   "cell_type": "markdown",
   "metadata": {},
   "source": [
    "# Sleep time distribution"
   ]
  },
  {
   "cell_type": "code",
   "execution_count": 9,
   "metadata": {},
   "outputs": [
    {
     "name": "stdout",
     "output_type": "stream",
     "text": [
      "Procent of observation with no (zero) sleep time associated:  40.567149462224116\n",
      "Longest sleep time:  89.44747685185185\n"
     ]
    }
   ],
   "source": [
    "print(\"Procent of observation with no (zero) sleep time associated: \",data[data.sleep_time==0].shape[0]/data.shape[0]*100)\n",
    "print(\"Longest sleep time: \",data.sleep_time.max()/60/60/24)"
   ]
  },
  {
   "cell_type": "markdown",
   "metadata": {},
   "source": [
    "Since we can see that the longest sleep time is very long, we start by taking a look at the distribution of sleep time in days.\n",
    "Here is it is clear that the majority of the sleep times are less than not spanning more than  "
   ]
  },
  {
   "cell_type": "code",
   "execution_count": 11,
   "metadata": {},
   "outputs": [
    {
     "data": {
      "image/png": "[encoded data removed]",
      "text/plain": [
       "<Figure size 432x288 with 1 Axes>"
      ]
     },
     "metadata": {
      "needs_background": "light"
     },
     "output_type": "display_data"
    }
   ],
   "source": [
    "plt.hist(data.sleep_time/60/60/24,bins=range(0, 90 + 1, 1))\n",
    "plt.xlabel('Sleep time in days')\n",
    "plt.ylabel('Number of observations')\n",
    "plt.yscale('log')\n",
    "#plt.title(\"Distribution of sleep time\")\n",
    "plt.show()"
   ]
  },
  {
   "cell_type": "markdown",
   "metadata": {},
   "source": [
    "While the above plot showed that some of the sleep times are more than one day long, such sleep times clear represent time between to unrelated events. We therefore now limit the time period to 8 hours, as this represents a natural limit for the time we sleep every day. The result can be seen below."
   ]
  },
  {
   "cell_type": "code",
   "execution_count": 10,
   "metadata": {},
   "outputs": [
    {
     "data": {
      "image/png": "[encoded data removed]",
      "text/plain": [
       "<Figure size 432x288 with 1 Axes>"
      ]
     },
     "metadata": {
      "needs_background": "light"
     },
     "output_type": "display_data"
    }
   ],
   "source": [
    "plt.hist(data[data.sleep_time<8*60*60].sleep_time/60,bins=range(0, 480 + 1, 5))\n",
    "plt.xlabel('Sleep time in  minutes')\n",
    "plt.ylabel('Number of observations')\n",
    "plt.yscale('log')\n",
    "#plt.title(\"Distribution of sleep time less than 8 hours\")\n",
    "plt.show()"
   ]
  },
  {
   "cell_type": "markdown",
   "metadata": {},
   "source": [
    "The last version we take a look at the sleep times have been limited to those less than eight hours and above zero. As zero sleep time does not represent an actual sleep time."
   ]
  },
  {
   "cell_type": "code",
   "execution_count": 12,
   "metadata": {},
   "outputs": [
    {
     "data": {
      "image/png": "[encoded data removed]",
      "text/plain": [
       "<Figure size 432x288 with 1 Axes>"
      ]
     },
     "metadata": {
      "needs_background": "light"
     },
     "output_type": "display_data"
    }
   ],
   "source": [
    "plt.hist(data[(data.sleep_time<8*60*60)&(data.sleep_time>0)].sleep_time/60,bins=range(0, 480 + 1, 5))\n",
    "plt.xlabel('Sleep time in minutes')\n",
    "plt.yscale('log')\n",
    "plt.ylabel('Number of observations')\n",
    "#plt.title(\"Distribution of sleep time less than 8 hours\")\n",
    "plt.show()"
   ]
  },
  {
   "cell_type": "code",
   "execution_count": 13,
   "metadata": {},
   "outputs": [
    {
     "name": "stdout",
     "output_type": "stream",
     "text": [
      "media of sleep times non-zero sleep times less than 8 hours:  4.883333333333334 min\n"
     ]
    }
   ],
   "source": [
    "print(\"media of sleep times non-zero sleep times less than 8 hours: \",data[(data.sleep_time<8*60*60) & (data.sleep_time>0)].sleep_time.median()/60,\"min\")"
   ]
  },
  {
   "cell_type": "code",
   "execution_count": 14,
   "metadata": {},
   "outputs": [
    {
     "name": "stdout",
     "output_type": "stream",
     "text": [
      "median of sleep times less than 8 hours:  20.0 sec\n"
     ]
    }
   ],
   "source": [
    "print(\"median of sleep times less than 8 hours: \",data[data.sleep_time<8*60*60].sleep_time.median(),\"sec\")"
   ]
  },
  {
   "cell_type": "markdown",
   "metadata": {},
   "source": [
    "A sleep time of 20 sec. is close to what we saw for similar projects, and we therefore use this as the threshold for defining sessions."
   ]
  },
  {
   "cell_type": "markdown",
   "metadata": {},
   "source": [
    "## Defining sessions"
   ]
  },
  {
   "cell_type": "code",
   "execution_count": 15,
   "metadata": {},
   "outputs": [],
   "source": [
    "data['new_session'] = data.groupby(['user_id']).sleep_time.apply(lambda s: s>20)\n",
    "data['session'] = data.groupby(['user_id']).new_session.cumsum().astype('int')"
   ]
  },
  {
   "cell_type": "code",
   "execution_count": 16,
   "metadata": {},
   "outputs": [
    {
     "name": "stdout",
     "output_type": "stream",
     "text": [
      "Number sessions:  125704179\n"
     ]
    }
   ],
   "source": [
    "print(\"Number sessions: \",data.groupby(['user_id']).session.nunique().sum())"
   ]
  },
  {
   "cell_type": "markdown",
   "metadata": {},
   "source": [
    "### Distribution of session lengths"
   ]
  },
  {
   "cell_type": "code",
   "execution_count": 17,
   "metadata": {},
   "outputs": [
    {
     "data": {
      "image/png": "[encoded data removed]",
      "text/plain": [
       "<Figure size 432x288 with 1 Axes>"
      ]
     },
     "metadata": {
      "needs_background": "light"
     },
     "output_type": "display_data"
    }
   ],
   "source": [
    "plt.hist(data.groupby(['user_id','session']).size(),bins=range(1,data.groupby(['user_id','session']).size().max()+1,1))\n",
    "plt.xlabel('number of apps in sessesion')\n",
    "plt.yscale('log')\n",
    "plt.title(\"Distribution of length of sessions\")\n",
    "plt.show()"
   ]
  },
  {
   "cell_type": "code",
   "execution_count": 18,
   "metadata": {},
   "outputs": [
    {
     "name": "stdout",
     "output_type": "stream",
     "text": [
      "procent of session with only one app:  55.033392326598786\n"
     ]
    }
   ],
   "source": [
    "print(\"procent of session with only one app: \",(data.groupby(['user_id','session']).size()==1).sum()/data.groupby(['user_id']).session.nunique().sum()*100)"
   ]
  },
  {
   "cell_type": "code",
   "execution_count": 19,
   "metadata": {},
   "outputs": [
    {
     "name": "stdout",
     "output_type": "stream",
     "text": [
      "75-quantile of session lengths:  2.0\n"
     ]
    }
   ],
   "source": [
    "print(\"75-quantile of session lengths: \",data.groupby(['user_id','session']).size().quantile(q=0.75))"
   ]
  },
  {
   "cell_type": "code",
   "execution_count": 91,
   "metadata": {},
   "outputs": [
    {
     "name": "stdout",
     "output_type": "stream",
     "text": [
      "procent of session with only one app:  55.033392326598786\n"
     ]
    }
   ],
   "source": [
    "print(\"procent of session with only one app: \",(data.groupby(['user_id','session']).size()==1).sum()/data.groupby(['user_id']).session.nunique().sum()*100)"
   ]
  },
  {
   "cell_type": "code",
   "execution_count": 92,
   "metadata": {},
   "outputs": [
    {
     "name": "stdout",
     "output_type": "stream",
     "text": [
      "75-quantile of session lengths:  2.0\n"
     ]
    }
   ],
   "source": [
    "print(\"75-quantile of session lengths: \",data.groupby(['user_id','session']).size().quantile(q=0.75))"
   ]
  },
  {
   "cell_type": "markdown",
   "metadata": {},
   "source": [
    "It is clear to see that with the new time restriction a lot of the sequences are very short. This number is expected to increase further as same apps are merged in the next section"
   ]
  },
  {
   "cell_type": "code",
   "execution_count": 20,
   "metadata": {},
   "outputs": [],
   "source": [
    "data.to_csv(\"sorted_coded_session_20s.csv\",index=False)"
   ]
  },
  {
   "cell_type": "markdown",
   "metadata": {},
   "source": [
    "## Combining observations of repeating apps\n",
    "In this section, we combine observations of the same apps, which are right next to eachother in the usage session."
   ]
  },
  {
   "cell_type": "code",
   "execution_count": 2,
   "metadata": {},
   "outputs": [],
   "source": [
    "data=pd.read_csv(\"sorted_coded_session_20s.csv\")"
   ]
  },
  {
   "cell_type": "code",
   "execution_count": 3,
   "metadata": {},
   "outputs": [
    {
     "data": {
      "text/html": [
       "<div>\n",
       "<style scoped>\n",
       "    .dataframe tbody tr th:only-of-type {\n",
       "        vertical-align: middle;\n",
       "    }\n",
       "\n",
       "    .dataframe tbody tr th {\n",
       "        vertical-align: top;\n",
       "    }\n",
       "\n",
       "    .dataframe thead th {\n",
       "        text-align: right;\n",
       "    }\n",
       "</style>\n",
       "<table border=\"1\" class=\"dataframe\">\n",
       "  <thead>\n",
       "    <tr style=\"text-align: right;\">\n",
       "      <th></th>\n",
       "      <th>user_id</th>\n",
       "      <th>package_name</th>\n",
       "      <th>start_time</th>\n",
       "      <th>end_time</th>\n",
       "      <th>app_code</th>\n",
       "      <th>time_spend</th>\n",
       "      <th>sequence_number</th>\n",
       "      <th>sequence_Start_time</th>\n",
       "      <th>sequence_end_time</th>\n",
       "      <th>sleep_time</th>\n",
       "      <th>new_session</th>\n",
       "      <th>session</th>\n",
       "    </tr>\n",
       "  </thead>\n",
       "  <tbody>\n",
       "    <tr>\n",
       "      <th>0</th>\n",
       "      <td>0</td>\n",
       "      <td>com.facebook.katana</td>\n",
       "      <td>0</td>\n",
       "      <td>441</td>\n",
       "      <td>19968</td>\n",
       "      <td>441</td>\n",
       "      <td>1</td>\n",
       "      <td>0</td>\n",
       "      <td>441</td>\n",
       "      <td>0</td>\n",
       "      <td>False</td>\n",
       "      <td>0</td>\n",
       "    </tr>\n",
       "    <tr>\n",
       "      <th>1</th>\n",
       "      <td>0</td>\n",
       "      <td>com.android.chrome</td>\n",
       "      <td>441</td>\n",
       "      <td>1012</td>\n",
       "      <td>7649</td>\n",
       "      <td>571</td>\n",
       "      <td>2</td>\n",
       "      <td>441</td>\n",
       "      <td>1012</td>\n",
       "      <td>0</td>\n",
       "      <td>False</td>\n",
       "      <td>0</td>\n",
       "    </tr>\n",
       "    <tr>\n",
       "      <th>2</th>\n",
       "      <td>0</td>\n",
       "      <td>com.google.android.apps.photos</td>\n",
       "      <td>1012</td>\n",
       "      <td>1032</td>\n",
       "      <td>23916</td>\n",
       "      <td>20</td>\n",
       "      <td>3</td>\n",
       "      <td>1012</td>\n",
       "      <td>1032</td>\n",
       "      <td>0</td>\n",
       "      <td>False</td>\n",
       "      <td>0</td>\n",
       "    </tr>\n",
       "    <tr>\n",
       "      <th>3</th>\n",
       "      <td>0</td>\n",
       "      <td>com.facebook.katana</td>\n",
       "      <td>1042</td>\n",
       "      <td>1502</td>\n",
       "      <td>19968</td>\n",
       "      <td>460</td>\n",
       "      <td>4</td>\n",
       "      <td>1042</td>\n",
       "      <td>1502</td>\n",
       "      <td>10</td>\n",
       "      <td>False</td>\n",
       "      <td>0</td>\n",
       "    </tr>\n",
       "    <tr>\n",
       "      <th>4</th>\n",
       "      <td>0</td>\n",
       "      <td>com.whatsapp</td>\n",
       "      <td>1512</td>\n",
       "      <td>1572</td>\n",
       "      <td>53003</td>\n",
       "      <td>60</td>\n",
       "      <td>5</td>\n",
       "      <td>1512</td>\n",
       "      <td>1572</td>\n",
       "      <td>10</td>\n",
       "      <td>False</td>\n",
       "      <td>0</td>\n",
       "    </tr>\n",
       "    <tr>\n",
       "      <th>...</th>\n",
       "      <td>...</td>\n",
       "      <td>...</td>\n",
       "      <td>...</td>\n",
       "      <td>...</td>\n",
       "      <td>...</td>\n",
       "      <td>...</td>\n",
       "      <td>...</td>\n",
       "      <td>...</td>\n",
       "      <td>...</td>\n",
       "      <td>...</td>\n",
       "      <td>...</td>\n",
       "      <td>...</td>\n",
       "    </tr>\n",
       "    <tr>\n",
       "      <th>254450417</th>\n",
       "      <td>9999</td>\n",
       "      <td>com.google.android.googlequicksearchbox</td>\n",
       "      <td>29207214</td>\n",
       "      <td>29207244</td>\n",
       "      <td>23949</td>\n",
       "      <td>30</td>\n",
       "      <td>14901</td>\n",
       "      <td>29207214</td>\n",
       "      <td>29207244</td>\n",
       "      <td>185</td>\n",
       "      <td>True</td>\n",
       "      <td>8465</td>\n",
       "    </tr>\n",
       "    <tr>\n",
       "      <th>254450418</th>\n",
       "      <td>9999</td>\n",
       "      <td>com.android.chrome</td>\n",
       "      <td>29207244</td>\n",
       "      <td>29207284</td>\n",
       "      <td>7649</td>\n",
       "      <td>40</td>\n",
       "      <td>14902</td>\n",
       "      <td>29207244</td>\n",
       "      <td>29207284</td>\n",
       "      <td>0</td>\n",
       "      <td>False</td>\n",
       "      <td>8465</td>\n",
       "    </tr>\n",
       "    <tr>\n",
       "      <th>254450419</th>\n",
       "      <td>9999</td>\n",
       "      <td>com.google.android.apps.docs</td>\n",
       "      <td>29207284</td>\n",
       "      <td>29207294</td>\n",
       "      <td>23875</td>\n",
       "      <td>10</td>\n",
       "      <td>14903</td>\n",
       "      <td>29207284</td>\n",
       "      <td>29207294</td>\n",
       "      <td>0</td>\n",
       "      <td>False</td>\n",
       "      <td>8465</td>\n",
       "    </tr>\n",
       "    <tr>\n",
       "      <th>254450420</th>\n",
       "      <td>9999</td>\n",
       "      <td>com.microsoft.office.outlook</td>\n",
       "      <td>29213184</td>\n",
       "      <td>29213213</td>\n",
       "      <td>33357</td>\n",
       "      <td>29</td>\n",
       "      <td>14904</td>\n",
       "      <td>29213184</td>\n",
       "      <td>29213213</td>\n",
       "      <td>5890</td>\n",
       "      <td>True</td>\n",
       "      <td>8466</td>\n",
       "    </tr>\n",
       "    <tr>\n",
       "      <th>254450421</th>\n",
       "      <td>9999</td>\n",
       "      <td>com.google.android.googlequicksearchbox</td>\n",
       "      <td>29218277</td>\n",
       "      <td>29218307</td>\n",
       "      <td>23949</td>\n",
       "      <td>30</td>\n",
       "      <td>14905</td>\n",
       "      <td>29218277</td>\n",
       "      <td>29218307</td>\n",
       "      <td>5064</td>\n",
       "      <td>True</td>\n",
       "      <td>8467</td>\n",
       "    </tr>\n",
       "  </tbody>\n",
       "</table>\n",
       "<p>254450422 rows × 12 columns</p>\n",
       "</div>"
      ],
      "text/plain": [
       "           user_id                             package_name  start_time  \\\n",
       "0                0                      com.facebook.katana           0   \n",
       "1                0                       com.android.chrome         441   \n",
       "2                0           com.google.android.apps.photos        1012   \n",
       "3                0                      com.facebook.katana        1042   \n",
       "4                0                             com.whatsapp        1512   \n",
       "...            ...                                      ...         ...   \n",
       "254450417     9999  com.google.android.googlequicksearchbox    29207214   \n",
       "254450418     9999                       com.android.chrome    29207244   \n",
       "254450419     9999             com.google.android.apps.docs    29207284   \n",
       "254450420     9999             com.microsoft.office.outlook    29213184   \n",
       "254450421     9999  com.google.android.googlequicksearchbox    29218277   \n",
       "\n",
       "           end_time  app_code  time_spend  sequence_number  \\\n",
       "0               441     19968         441                1   \n",
       "1              1012      7649         571                2   \n",
       "2              1032     23916          20                3   \n",
       "3              1502     19968         460                4   \n",
       "4              1572     53003          60                5   \n",
       "...             ...       ...         ...              ...   \n",
       "254450417  29207244     23949          30            14901   \n",
       "254450418  29207284      7649          40            14902   \n",
       "254450419  29207294     23875          10            14903   \n",
       "254450420  29213213     33357          29            14904   \n",
       "254450421  29218307     23949          30            14905   \n",
       "\n",
       "           sequence_Start_time  sequence_end_time  sleep_time  new_session  \\\n",
       "0                            0                441           0        False   \n",
       "1                          441               1012           0        False   \n",
       "2                         1012               1032           0        False   \n",
       "3                         1042               1502          10        False   \n",
       "4                         1512               1572          10        False   \n",
       "...                        ...                ...         ...          ...   \n",
       "254450417             29207214           29207244         185         True   \n",
       "254450418             29207244           29207284           0        False   \n",
       "254450419             29207284           29207294           0        False   \n",
       "254450420             29213184           29213213        5890         True   \n",
       "254450421             29218277           29218307        5064         True   \n",
       "\n",
       "           session  \n",
       "0                0  \n",
       "1                0  \n",
       "2                0  \n",
       "3                0  \n",
       "4                0  \n",
       "...            ...  \n",
       "254450417     8465  \n",
       "254450418     8465  \n",
       "254450419     8465  \n",
       "254450420     8466  \n",
       "254450421     8467  \n",
       "\n",
       "[254450422 rows x 12 columns]"
      ]
     },
     "execution_count": 3,
     "metadata": {},
     "output_type": "execute_result"
    }
   ],
   "source": [
    "data"
   ]
  },
  {
   "cell_type": "code",
   "execution_count": 4,
   "metadata": {},
   "outputs": [],
   "source": [
    "data[\"previous_app_code\"]=data.groupby([\"user_id\",\"session\"]).app_code.shift(1)"
   ]
  },
  {
   "cell_type": "code",
   "execution_count": 5,
   "metadata": {},
   "outputs": [
    {
     "name": "stdout",
     "output_type": "stream",
     "text": [
      "Procent of apps opened right after the same app, in the  1.507229962463965\n"
     ]
    }
   ],
   "source": [
    "print(\"Procent of apps opened right after the same app, in the \",data[data.app_code==data.previous_app_code].shape[0]/data.shape[0]*100)"
   ]
  },
  {
   "cell_type": "code",
   "execution_count": 6,
   "metadata": {},
   "outputs": [],
   "source": [
    "data2=data.copy()"
   ]
  },
  {
   "cell_type": "code",
   "execution_count": 7,
   "metadata": {},
   "outputs": [],
   "source": [
    "data2=data2[(data2.previous_app_code==data2.app_code) | (data2.app_code==data2.groupby(['user_id','session']).app_code.shift(-1))]"
   ]
  },
  {
   "cell_type": "code",
   "execution_count": 8,
   "metadata": {},
   "outputs": [],
   "source": [
    "data2['new_event'] = data2.previous_app_code!=data2.app_code"
   ]
  },
  {
   "cell_type": "code",
   "execution_count": 9,
   "metadata": {},
   "outputs": [],
   "source": [
    "data2['event'] = data2.groupby(['user_id','session']).new_event.cumsum().astype('int')"
   ]
  },
  {
   "cell_type": "code",
   "execution_count": 10,
   "metadata": {},
   "outputs": [],
   "source": [
    "data2_grouped = data2.groupby(['user_id', 'session','event']).agg({'end_time':'max'})\n",
    "\n",
    "data2_grouped = data2_grouped.reset_index()\n",
    "\n",
    "data2_grouped = data2_grouped.rename(columns={'end_time':'event_end_time'})\n",
    "\n",
    "data3 = pd.merge(data2, data2_grouped, how='left', on=['user_id', 'session','event'])\n",
    "\n",
    "data3 = data3[data3['end_time'] == data3['event_end_time']]\n",
    "\n",
    "#because in the same event more apps can be closed at once.\n",
    "data3=data3.drop_duplicates(subset=['user_id', 'session','event'], keep='last')"
   ]
  },
  {
   "cell_type": "code",
   "execution_count": 11,
   "metadata": {},
   "outputs": [],
   "source": [
    "max_index=data2.iloc[data3.index].index"
   ]
  },
  {
   "cell_type": "code",
   "execution_count": 12,
   "metadata": {},
   "outputs": [],
   "source": [
    "data2_grouped = data2.groupby(['user_id', 'session','event']).agg({'start_time':'min'})\n",
    "\n",
    "data2_grouped = data2_grouped.reset_index()\n",
    "\n",
    "data2_grouped = data2_grouped.rename(columns={'start_time':'event_start_time'})\n",
    "\n",
    "data3 = pd.merge(data2, data2_grouped, how='left', on=['user_id', 'session','event'])\n",
    "\n",
    "data3 = data3[data3['start_time'] == data3['event_start_time']]\n",
    "\n",
    "#because in the same event more apps can be opened at once.\n",
    "data3=data3.drop_duplicates(subset=['user_id', 'session','event'], keep='last')"
   ]
  },
  {
   "cell_type": "code",
   "execution_count": 13,
   "metadata": {},
   "outputs": [],
   "source": [
    "min_index=data2.iloc[data3.index].index"
   ]
  },
  {
   "cell_type": "code",
   "execution_count": 14,
   "metadata": {},
   "outputs": [
    {
     "name": "stdout",
     "output_type": "stream",
     "text": [
      "number of combined events:  3212632\n",
      "number of found min indices:  3212632\n",
      "number of found max indices:  3212632\n"
     ]
    }
   ],
   "source": [
    "print(\"number of combined events: \",data2.groupby(['user_id','session']).agg({\"event\": \"nunique\"}).event.sum())\n",
    "print(\"number of found min indices: \",len(min_index))\n",
    "print(\"number of found max indices: \",len(max_index))"
   ]
  },
  {
   "cell_type": "code",
   "execution_count": 15,
   "metadata": {},
   "outputs": [],
   "source": [
    "data3=data.copy()"
   ]
  },
  {
   "cell_type": "code",
   "execution_count": 16,
   "metadata": {},
   "outputs": [],
   "source": [
    "data3.loc[min_index,\"end_time\"]=data3.loc[max_index].set_index(min_index).end_time"
   ]
  },
  {
   "cell_type": "code",
   "execution_count": 17,
   "metadata": {},
   "outputs": [],
   "source": [
    "data3=data3.drop(set(data2.index)-set(min_index))"
   ]
  },
  {
   "cell_type": "code",
   "execution_count": 18,
   "metadata": {},
   "outputs": [
    {
     "data": {
      "text/plain": [
       "True"
      ]
     },
     "execution_count": 18,
     "metadata": {},
     "output_type": "execute_result"
    }
   ],
   "source": [
    "len(data.index)-(len(data2.index)-len(min_index))==len(data3.index)"
   ]
  },
  {
   "cell_type": "code",
   "execution_count": 19,
   "metadata": {},
   "outputs": [],
   "source": [
    "data3['time_spend']=data3['end_time']-data3['start_time']"
   ]
  },
  {
   "cell_type": "code",
   "execution_count": 20,
   "metadata": {},
   "outputs": [],
   "source": [
    "data3=data3.drop('previous_app_code',axis=1)"
   ]
  },
  {
   "cell_type": "code",
   "execution_count": 21,
   "metadata": {},
   "outputs": [],
   "source": [
    "data3['sleep_time']=data3.start_time-data3.sequence_end_time.shift(1,fill_value=0)\n",
    "data3.loc[data3[data3['sleep_time']<0].index,'sleep_time']=0"
   ]
  },
  {
   "cell_type": "code",
   "execution_count": 22,
   "metadata": {},
   "outputs": [],
   "source": [
    "data3=data3.reset_index(drop=True)"
   ]
  },
  {
   "cell_type": "code",
   "execution_count": 23,
   "metadata": {},
   "outputs": [
    {
     "name": "stdout",
     "output_type": "stream",
     "text": [
      "number of observatiosn before merge:  254450422\n",
      "number of observatiosn after merge:  250615269\n"
     ]
    }
   ],
   "source": [
    "print(\"number of observatiosn before merge: \",data.shape[0])\n",
    "print(\"number of observatiosn after merge: \",data3.shape[0])"
   ]
  },
  {
   "cell_type": "code",
   "execution_count": 24,
   "metadata": {},
   "outputs": [],
   "source": [
    "data3.to_csv(\"sorted_coded_session_20s_merged.csv\",index=False)"
   ]
  },
  {
   "cell_type": "code",
   "execution_count": 24,
   "metadata": {},
   "outputs": [],
   "source": [
    "data3=pd.read_csv(\"sorted_coded_session_20s_merged.csv\")"
   ]
  },
  {
   "cell_type": "code",
   "execution_count": 25,
   "metadata": {},
   "outputs": [
    {
     "data": {
      "text/html": [
       "<div>\n",
       "<style scoped>\n",
       "    .dataframe tbody tr th:only-of-type {\n",
       "        vertical-align: middle;\n",
       "    }\n",
       "\n",
       "    .dataframe tbody tr th {\n",
       "        vertical-align: top;\n",
       "    }\n",
       "\n",
       "    .dataframe thead th {\n",
       "        text-align: right;\n",
       "    }\n",
       "</style>\n",
       "<table border=\"1\" class=\"dataframe\">\n",
       "  <thead>\n",
       "    <tr style=\"text-align: right;\">\n",
       "      <th></th>\n",
       "      <th>user_id</th>\n",
       "      <th>package_name</th>\n",
       "      <th>start_time</th>\n",
       "      <th>end_time</th>\n",
       "      <th>app_code</th>\n",
       "      <th>time_spend</th>\n",
       "      <th>sequence_number</th>\n",
       "      <th>sequence_Start_time</th>\n",
       "      <th>sequence_end_time</th>\n",
       "      <th>sleep_time</th>\n",
       "      <th>new_session</th>\n",
       "      <th>session</th>\n",
       "    </tr>\n",
       "  </thead>\n",
       "  <tbody>\n",
       "    <tr>\n",
       "      <th>0</th>\n",
       "      <td>0</td>\n",
       "      <td>com.facebook.katana</td>\n",
       "      <td>0</td>\n",
       "      <td>441</td>\n",
       "      <td>19968</td>\n",
       "      <td>441</td>\n",
       "      <td>1</td>\n",
       "      <td>0</td>\n",
       "      <td>441</td>\n",
       "      <td>0</td>\n",
       "      <td>False</td>\n",
       "      <td>0</td>\n",
       "    </tr>\n",
       "    <tr>\n",
       "      <th>1</th>\n",
       "      <td>0</td>\n",
       "      <td>com.android.chrome</td>\n",
       "      <td>441</td>\n",
       "      <td>1012</td>\n",
       "      <td>7649</td>\n",
       "      <td>571</td>\n",
       "      <td>2</td>\n",
       "      <td>441</td>\n",
       "      <td>1012</td>\n",
       "      <td>0</td>\n",
       "      <td>False</td>\n",
       "      <td>0</td>\n",
       "    </tr>\n",
       "    <tr>\n",
       "      <th>2</th>\n",
       "      <td>0</td>\n",
       "      <td>com.google.android.apps.photos</td>\n",
       "      <td>1012</td>\n",
       "      <td>1032</td>\n",
       "      <td>23916</td>\n",
       "      <td>20</td>\n",
       "      <td>3</td>\n",
       "      <td>1012</td>\n",
       "      <td>1032</td>\n",
       "      <td>0</td>\n",
       "      <td>False</td>\n",
       "      <td>0</td>\n",
       "    </tr>\n",
       "    <tr>\n",
       "      <th>3</th>\n",
       "      <td>0</td>\n",
       "      <td>com.facebook.katana</td>\n",
       "      <td>1042</td>\n",
       "      <td>1502</td>\n",
       "      <td>19968</td>\n",
       "      <td>460</td>\n",
       "      <td>4</td>\n",
       "      <td>1042</td>\n",
       "      <td>1502</td>\n",
       "      <td>10</td>\n",
       "      <td>False</td>\n",
       "      <td>0</td>\n",
       "    </tr>\n",
       "    <tr>\n",
       "      <th>4</th>\n",
       "      <td>0</td>\n",
       "      <td>com.whatsapp</td>\n",
       "      <td>1512</td>\n",
       "      <td>1572</td>\n",
       "      <td>53003</td>\n",
       "      <td>60</td>\n",
       "      <td>5</td>\n",
       "      <td>1512</td>\n",
       "      <td>1572</td>\n",
       "      <td>10</td>\n",
       "      <td>False</td>\n",
       "      <td>0</td>\n",
       "    </tr>\n",
       "    <tr>\n",
       "      <th>...</th>\n",
       "      <td>...</td>\n",
       "      <td>...</td>\n",
       "      <td>...</td>\n",
       "      <td>...</td>\n",
       "      <td>...</td>\n",
       "      <td>...</td>\n",
       "      <td>...</td>\n",
       "      <td>...</td>\n",
       "      <td>...</td>\n",
       "      <td>...</td>\n",
       "      <td>...</td>\n",
       "      <td>...</td>\n",
       "    </tr>\n",
       "    <tr>\n",
       "      <th>11218</th>\n",
       "      <td>0</td>\n",
       "      <td>com.jb.zcamera</td>\n",
       "      <td>20208141</td>\n",
       "      <td>20208151</td>\n",
       "      <td>28268</td>\n",
       "      <td>10</td>\n",
       "      <td>10360</td>\n",
       "      <td>20208141</td>\n",
       "      <td>20208151</td>\n",
       "      <td>30514</td>\n",
       "      <td>True</td>\n",
       "      <td>5474</td>\n",
       "    </tr>\n",
       "    <tr>\n",
       "      <th>11219</th>\n",
       "      <td>0</td>\n",
       "      <td>com.android.chrome</td>\n",
       "      <td>20208161</td>\n",
       "      <td>20208512</td>\n",
       "      <td>7649</td>\n",
       "      <td>351</td>\n",
       "      <td>10361</td>\n",
       "      <td>20208161</td>\n",
       "      <td>20208512</td>\n",
       "      <td>10</td>\n",
       "      <td>False</td>\n",
       "      <td>5474</td>\n",
       "    </tr>\n",
       "    <tr>\n",
       "      <th>11220</th>\n",
       "      <td>0</td>\n",
       "      <td>com.facebook.katana</td>\n",
       "      <td>20208512</td>\n",
       "      <td>20208772</td>\n",
       "      <td>19968</td>\n",
       "      <td>260</td>\n",
       "      <td>10362</td>\n",
       "      <td>20208512</td>\n",
       "      <td>20208772</td>\n",
       "      <td>0</td>\n",
       "      <td>False</td>\n",
       "      <td>5474</td>\n",
       "    </tr>\n",
       "    <tr>\n",
       "      <th>11221</th>\n",
       "      <td>0</td>\n",
       "      <td>com.google.android.apps.translate</td>\n",
       "      <td>20208772</td>\n",
       "      <td>20208782</td>\n",
       "      <td>23926</td>\n",
       "      <td>10</td>\n",
       "      <td>10363</td>\n",
       "      <td>20208772</td>\n",
       "      <td>20208782</td>\n",
       "      <td>0</td>\n",
       "      <td>False</td>\n",
       "      <td>5474</td>\n",
       "    </tr>\n",
       "    <tr>\n",
       "      <th>11222</th>\n",
       "      <td>0</td>\n",
       "      <td>com.instagram.android</td>\n",
       "      <td>20208782</td>\n",
       "      <td>20208982</td>\n",
       "      <td>27441</td>\n",
       "      <td>200</td>\n",
       "      <td>10364</td>\n",
       "      <td>20208782</td>\n",
       "      <td>20208982</td>\n",
       "      <td>0</td>\n",
       "      <td>False</td>\n",
       "      <td>5474</td>\n",
       "    </tr>\n",
       "  </tbody>\n",
       "</table>\n",
       "<p>11223 rows × 12 columns</p>\n",
       "</div>"
      ],
      "text/plain": [
       "       user_id                       package_name  start_time  end_time  \\\n",
       "0            0                com.facebook.katana           0       441   \n",
       "1            0                 com.android.chrome         441      1012   \n",
       "2            0     com.google.android.apps.photos        1012      1032   \n",
       "3            0                com.facebook.katana        1042      1502   \n",
       "4            0                       com.whatsapp        1512      1572   \n",
       "...        ...                                ...         ...       ...   \n",
       "11218        0                     com.jb.zcamera    20208141  20208151   \n",
       "11219        0                 com.android.chrome    20208161  20208512   \n",
       "11220        0                com.facebook.katana    20208512  20208772   \n",
       "11221        0  com.google.android.apps.translate    20208772  20208782   \n",
       "11222        0              com.instagram.android    20208782  20208982   \n",
       "\n",
       "       app_code  time_spend  sequence_number  sequence_Start_time  \\\n",
       "0         19968         441                1                    0   \n",
       "1          7649         571                2                  441   \n",
       "2         23916          20                3                 1012   \n",
       "3         19968         460                4                 1042   \n",
       "4         53003          60                5                 1512   \n",
       "...         ...         ...              ...                  ...   \n",
       "11218     28268          10            10360             20208141   \n",
       "11219      7649         351            10361             20208161   \n",
       "11220     19968         260            10362             20208512   \n",
       "11221     23926          10            10363             20208772   \n",
       "11222     27441         200            10364             20208782   \n",
       "\n",
       "       sequence_end_time  sleep_time  new_session  session  \n",
       "0                    441           0        False        0  \n",
       "1                   1012           0        False        0  \n",
       "2                   1032           0        False        0  \n",
       "3                   1502          10        False        0  \n",
       "4                   1572          10        False        0  \n",
       "...                  ...         ...          ...      ...  \n",
       "11218           20208151       30514         True     5474  \n",
       "11219           20208512          10        False     5474  \n",
       "11220           20208772           0        False     5474  \n",
       "11221           20208782           0        False     5474  \n",
       "11222           20208982           0        False     5474  \n",
       "\n",
       "[11223 rows x 12 columns]"
      ]
     },
     "execution_count": 25,
     "metadata": {},
     "output_type": "execute_result"
    }
   ],
   "source": [
    "data3[data3.user_id==0]"
   ]
  },
  {
   "cell_type": "markdown",
   "metadata": {},
   "source": [
    "### Distibution of sequence lengths after merge"
   ]
  },
  {
   "cell_type": "code",
   "execution_count": 28,
   "metadata": {},
   "outputs": [
    {
     "data": {
      "image/png": "[encoded data removed]",
      "text/plain": [
       "<Figure size 432x288 with 1 Axes>"
      ]
     },
     "metadata": {
      "needs_background": "light"
     },
     "output_type": "display_data"
    }
   ],
   "source": [
    "plt.hist(data3.groupby(['user_id','session']).size(),bins=range(1,data3.groupby(['user_id','session']).size().max()+1,1))\n",
    "plt.xlabel('Number of apps in sessesion')\n",
    "plt.ylabel('Number of sessesions')\n",
    "plt.yscale('log')\n",
    "#plt.title(\"Distribution of length of sessions\")\n",
    "plt.show()"
   ]
  },
  {
   "cell_type": "code",
   "execution_count": 27,
   "metadata": {},
   "outputs": [
    {
     "name": "stdout",
     "output_type": "stream",
     "text": [
      "procent of sessions with length one:  55.12311885828394\n",
      "number of sessions:  125704179\n"
     ]
    }
   ],
   "source": [
    "print(\"procent of sessions with length one: \",((data3.groupby(['user_id','session']).size())==1).sum()/data3.groupby(['user_id','session']).size().shape[0]*100)\n",
    "print(\"number of sessions: \",data3.groupby(['user_id','session']).size().shape[0])"
   ]
  },
  {
   "cell_type": "markdown",
   "metadata": {},
   "source": [
    "We see that this is on a similar level as before the merge."
   ]
  },
  {
   "cell_type": "markdown",
   "metadata": {},
   "source": [
    "### Filtering out the sessions with only one app."
   ]
  },
  {
   "cell_type": "code",
   "execution_count": 29,
   "metadata": {},
   "outputs": [],
   "source": [
    "data4=(data3.groupby(['user_id', 'session']).agg({'app_code':'size'})).reset_index().rename(columns={'app_code':'session_length'})"
   ]
  },
  {
   "cell_type": "code",
   "execution_count": 30,
   "metadata": {},
   "outputs": [],
   "source": [
    "data4=pd.merge(data3, data4, how='left', on=['user_id','session'])"
   ]
  },
  {
   "cell_type": "code",
   "execution_count": 31,
   "metadata": {},
   "outputs": [],
   "source": [
    "data4=data4[data4.session_length>1]"
   ]
  },
  {
   "cell_type": "code",
   "execution_count": 34,
   "metadata": {},
   "outputs": [],
   "source": [
    "data4.to_csv(\"data_sessions_20s_min_length_1.csv\",index=False)"
   ]
  },
  {
   "cell_type": "code",
   "execution_count": 32,
   "metadata": {},
   "outputs": [
    {
     "name": "stdout",
     "output_type": "stream",
     "text": [
      "procent of sessions with length one:  0.0\n",
      "number of sessions:  56412115\n"
     ]
    }
   ],
   "source": [
    "print(\"procent of sessions with length one: \",((data4.groupby(['user_id','session']).size())==1).sum()/data4.groupby(['user_id','session']).size().shape[0]*100)\n",
    "print(\"number of sessions: \",data4.groupby(['user_id','session']).size().shape[0])"
   ]
  },
  {
   "cell_type": "code",
   "execution_count": 33,
   "metadata": {},
   "outputs": [
    {
     "data": {
      "text/plain": [
       "count    1.813232e+08\n",
       "mean     4.811188e+00\n",
       "std      4.654000e+00\n",
       "min      2.000000e+00\n",
       "25%      2.000000e+00\n",
       "50%      3.000000e+00\n",
       "75%      6.000000e+00\n",
       "max      2.330000e+02\n",
       "Name: session_length, dtype: float64"
      ]
     },
     "execution_count": 33,
     "metadata": {},
     "output_type": "execute_result"
    }
   ],
   "source": [
    "data4.session_length.describe()"
   ]
  },
  {
   "cell_type": "markdown",
   "metadata": {},
   "source": [
    "## Testing\n",
    "Having prepared the data set, we now apply the VMSP."
   ]
  },
  {
   "cell_type": "code",
   "execution_count": 3,
   "metadata": {},
   "outputs": [],
   "source": [
    "data=pd.read_csv(\"data_sessions_20s_min_length_1.csv\")"
   ]
  },
  {
   "cell_type": "code",
   "execution_count": 5,
   "metadata": {},
   "outputs": [
    {
     "data": {
      "text/html": [
       "<div>\n",
       "<style scoped>\n",
       "    .dataframe tbody tr th:only-of-type {\n",
       "        vertical-align: middle;\n",
       "    }\n",
       "\n",
       "    .dataframe tbody tr th {\n",
       "        vertical-align: top;\n",
       "    }\n",
       "\n",
       "    .dataframe thead th {\n",
       "        text-align: right;\n",
       "    }\n",
       "</style>\n",
       "<table border=\"1\" class=\"dataframe\">\n",
       "  <thead>\n",
       "    <tr style=\"text-align: right;\">\n",
       "      <th></th>\n",
       "      <th>user_id</th>\n",
       "      <th>package_name</th>\n",
       "      <th>start_time</th>\n",
       "      <th>end_time</th>\n",
       "      <th>app_code</th>\n",
       "      <th>time_spend</th>\n",
       "      <th>sequence_number</th>\n",
       "      <th>sequence_Start_time</th>\n",
       "      <th>sequence_end_time</th>\n",
       "      <th>sleep_time</th>\n",
       "      <th>new_session</th>\n",
       "      <th>session</th>\n",
       "      <th>session_length</th>\n",
       "    </tr>\n",
       "  </thead>\n",
       "  <tbody>\n",
       "    <tr>\n",
       "      <th>0</th>\n",
       "      <td>0</td>\n",
       "      <td>com.facebook.katana</td>\n",
       "      <td>0</td>\n",
       "      <td>441</td>\n",
       "      <td>19968</td>\n",
       "      <td>441</td>\n",
       "      <td>1</td>\n",
       "      <td>0</td>\n",
       "      <td>441</td>\n",
       "      <td>0</td>\n",
       "      <td>False</td>\n",
       "      <td>0</td>\n",
       "      <td>7</td>\n",
       "    </tr>\n",
       "    <tr>\n",
       "      <th>1</th>\n",
       "      <td>0</td>\n",
       "      <td>com.android.chrome</td>\n",
       "      <td>441</td>\n",
       "      <td>1012</td>\n",
       "      <td>7649</td>\n",
       "      <td>571</td>\n",
       "      <td>2</td>\n",
       "      <td>441</td>\n",
       "      <td>1012</td>\n",
       "      <td>0</td>\n",
       "      <td>False</td>\n",
       "      <td>0</td>\n",
       "      <td>7</td>\n",
       "    </tr>\n",
       "    <tr>\n",
       "      <th>2</th>\n",
       "      <td>0</td>\n",
       "      <td>com.google.android.apps.photos</td>\n",
       "      <td>1012</td>\n",
       "      <td>1032</td>\n",
       "      <td>23916</td>\n",
       "      <td>20</td>\n",
       "      <td>3</td>\n",
       "      <td>1012</td>\n",
       "      <td>1032</td>\n",
       "      <td>0</td>\n",
       "      <td>False</td>\n",
       "      <td>0</td>\n",
       "      <td>7</td>\n",
       "    </tr>\n",
       "    <tr>\n",
       "      <th>3</th>\n",
       "      <td>0</td>\n",
       "      <td>com.facebook.katana</td>\n",
       "      <td>1042</td>\n",
       "      <td>1502</td>\n",
       "      <td>19968</td>\n",
       "      <td>460</td>\n",
       "      <td>4</td>\n",
       "      <td>1042</td>\n",
       "      <td>1502</td>\n",
       "      <td>10</td>\n",
       "      <td>False</td>\n",
       "      <td>0</td>\n",
       "      <td>7</td>\n",
       "    </tr>\n",
       "    <tr>\n",
       "      <th>4</th>\n",
       "      <td>0</td>\n",
       "      <td>com.whatsapp</td>\n",
       "      <td>1512</td>\n",
       "      <td>1572</td>\n",
       "      <td>53003</td>\n",
       "      <td>60</td>\n",
       "      <td>5</td>\n",
       "      <td>1512</td>\n",
       "      <td>1572</td>\n",
       "      <td>10</td>\n",
       "      <td>False</td>\n",
       "      <td>0</td>\n",
       "      <td>7</td>\n",
       "    </tr>\n",
       "    <tr>\n",
       "      <th>...</th>\n",
       "      <td>...</td>\n",
       "      <td>...</td>\n",
       "      <td>...</td>\n",
       "      <td>...</td>\n",
       "      <td>...</td>\n",
       "      <td>...</td>\n",
       "      <td>...</td>\n",
       "      <td>...</td>\n",
       "      <td>...</td>\n",
       "      <td>...</td>\n",
       "      <td>...</td>\n",
       "      <td>...</td>\n",
       "      <td>...</td>\n",
       "    </tr>\n",
       "    <tr>\n",
       "      <th>181323200</th>\n",
       "      <td>9999</td>\n",
       "      <td>com.sonyericsson.conversations</td>\n",
       "      <td>29206941</td>\n",
       "      <td>29206961</td>\n",
       "      <td>45264</td>\n",
       "      <td>20</td>\n",
       "      <td>14899</td>\n",
       "      <td>29206941</td>\n",
       "      <td>29206961</td>\n",
       "      <td>1811</td>\n",
       "      <td>True</td>\n",
       "      <td>8464</td>\n",
       "      <td>2</td>\n",
       "    </tr>\n",
       "    <tr>\n",
       "      <th>181323201</th>\n",
       "      <td>9999</td>\n",
       "      <td>com.facebook.katana</td>\n",
       "      <td>29206961</td>\n",
       "      <td>29207029</td>\n",
       "      <td>19968</td>\n",
       "      <td>68</td>\n",
       "      <td>14900</td>\n",
       "      <td>29206961</td>\n",
       "      <td>29207029</td>\n",
       "      <td>0</td>\n",
       "      <td>False</td>\n",
       "      <td>8464</td>\n",
       "      <td>2</td>\n",
       "    </tr>\n",
       "    <tr>\n",
       "      <th>181323202</th>\n",
       "      <td>9999</td>\n",
       "      <td>com.google.android.googlequicksearchbox</td>\n",
       "      <td>29207214</td>\n",
       "      <td>29207244</td>\n",
       "      <td>23949</td>\n",
       "      <td>30</td>\n",
       "      <td>14901</td>\n",
       "      <td>29207214</td>\n",
       "      <td>29207244</td>\n",
       "      <td>185</td>\n",
       "      <td>True</td>\n",
       "      <td>8465</td>\n",
       "      <td>3</td>\n",
       "    </tr>\n",
       "    <tr>\n",
       "      <th>181323203</th>\n",
       "      <td>9999</td>\n",
       "      <td>com.android.chrome</td>\n",
       "      <td>29207244</td>\n",
       "      <td>29207284</td>\n",
       "      <td>7649</td>\n",
       "      <td>40</td>\n",
       "      <td>14902</td>\n",
       "      <td>29207244</td>\n",
       "      <td>29207284</td>\n",
       "      <td>0</td>\n",
       "      <td>False</td>\n",
       "      <td>8465</td>\n",
       "      <td>3</td>\n",
       "    </tr>\n",
       "    <tr>\n",
       "      <th>181323204</th>\n",
       "      <td>9999</td>\n",
       "      <td>com.google.android.apps.docs</td>\n",
       "      <td>29207284</td>\n",
       "      <td>29207294</td>\n",
       "      <td>23875</td>\n",
       "      <td>10</td>\n",
       "      <td>14903</td>\n",
       "      <td>29207284</td>\n",
       "      <td>29207294</td>\n",
       "      <td>0</td>\n",
       "      <td>False</td>\n",
       "      <td>8465</td>\n",
       "      <td>3</td>\n",
       "    </tr>\n",
       "  </tbody>\n",
       "</table>\n",
       "<p>181323205 rows × 13 columns</p>\n",
       "</div>"
      ],
      "text/plain": [
       "           user_id                             package_name  start_time  \\\n",
       "0                0                      com.facebook.katana           0   \n",
       "1                0                       com.android.chrome         441   \n",
       "2                0           com.google.android.apps.photos        1012   \n",
       "3                0                      com.facebook.katana        1042   \n",
       "4                0                             com.whatsapp        1512   \n",
       "...            ...                                      ...         ...   \n",
       "181323200     9999           com.sonyericsson.conversations    29206941   \n",
       "181323201     9999                      com.facebook.katana    29206961   \n",
       "181323202     9999  com.google.android.googlequicksearchbox    29207214   \n",
       "181323203     9999                       com.android.chrome    29207244   \n",
       "181323204     9999             com.google.android.apps.docs    29207284   \n",
       "\n",
       "           end_time  app_code  time_spend  sequence_number  \\\n",
       "0               441     19968         441                1   \n",
       "1              1012      7649         571                2   \n",
       "2              1032     23916          20                3   \n",
       "3              1502     19968         460                4   \n",
       "4              1572     53003          60                5   \n",
       "...             ...       ...         ...              ...   \n",
       "181323200  29206961     45264          20            14899   \n",
       "181323201  29207029     19968          68            14900   \n",
       "181323202  29207244     23949          30            14901   \n",
       "181323203  29207284      7649          40            14902   \n",
       "181323204  29207294     23875          10            14903   \n",
       "\n",
       "           sequence_Start_time  sequence_end_time  sleep_time  new_session  \\\n",
       "0                            0                441           0        False   \n",
       "1                          441               1012           0        False   \n",
       "2                         1012               1032           0        False   \n",
       "3                         1042               1502          10        False   \n",
       "4                         1512               1572          10        False   \n",
       "...                        ...                ...         ...          ...   \n",
       "181323200             29206941           29206961        1811         True   \n",
       "181323201             29206961           29207029           0        False   \n",
       "181323202             29207214           29207244         185         True   \n",
       "181323203             29207244           29207284           0        False   \n",
       "181323204             29207284           29207294           0        False   \n",
       "\n",
       "           session  session_length  \n",
       "0                0               7  \n",
       "1                0               7  \n",
       "2                0               7  \n",
       "3                0               7  \n",
       "4                0               7  \n",
       "...            ...             ...  \n",
       "181323200     8464               2  \n",
       "181323201     8464               2  \n",
       "181323202     8465               3  \n",
       "181323203     8465               3  \n",
       "181323204     8465               3  \n",
       "\n",
       "[181323205 rows x 13 columns]"
      ]
     },
     "execution_count": 5,
     "metadata": {},
     "output_type": "execute_result"
    }
   ],
   "source": [
    "data"
   ]
  },
  {
   "cell_type": "code",
   "execution_count": 6,
   "metadata": {},
   "outputs": [],
   "source": [
    "input_string=data.groupby(['user_id','session'])['app_code'].apply(list).apply(lambda l: ' -1 '.join([str(i) for i in l])+\" -1 -2\")"
   ]
  },
  {
   "cell_type": "code",
   "execution_count": 7,
   "metadata": {},
   "outputs": [],
   "source": [
    "input_string.to_csv(\"input_string_20sec_min_len_2.csv\",index=False)"
   ]
  },
  {
   "cell_type": "code",
   "execution_count": 2,
   "metadata": {},
   "outputs": [],
   "source": [
    "input_string=pd.read_csv(\"input_string_20sec_min_len_2.csv\")"
   ]
  },
  {
   "cell_type": "code",
   "execution_count": 3,
   "metadata": {},
   "outputs": [
    {
     "data": {
      "text/html": [
       "<div>\n",
       "<style scoped>\n",
       "    .dataframe tbody tr th:only-of-type {\n",
       "        vertical-align: middle;\n",
       "    }\n",
       "\n",
       "    .dataframe tbody tr th {\n",
       "        vertical-align: top;\n",
       "    }\n",
       "\n",
       "    .dataframe thead th {\n",
       "        text-align: right;\n",
       "    }\n",
       "</style>\n",
       "<table border=\"1\" class=\"dataframe\">\n",
       "  <thead>\n",
       "    <tr style=\"text-align: right;\">\n",
       "      <th></th>\n",
       "      <th>app_code</th>\n",
       "    </tr>\n",
       "  </thead>\n",
       "  <tbody>\n",
       "    <tr>\n",
       "      <th>0</th>\n",
       "      <td>19968 -1 7649 -1 23916 -1 19968 -1 53003 -1 23967 -1 53003 -1 -2</td>\n",
       "    </tr>\n",
       "    <tr>\n",
       "      <th>1</th>\n",
       "      <td>53003 -1 19968 -1 53003 -1 2340 -1 7649 -1 53003 -1 -2</td>\n",
       "    </tr>\n",
       "    <tr>\n",
       "      <th>2</th>\n",
       "      <td>19968 -1 51657 -1 53003 -1 -2</td>\n",
       "    </tr>\n",
       "    <tr>\n",
       "      <th>3</th>\n",
       "      <td>19968 -1 23926 -1 19968 -1 45345 -1 23967 -1 -2</td>\n",
       "    </tr>\n",
       "    <tr>\n",
       "      <th>4</th>\n",
       "      <td>23967 -1 23916 -1 -2</td>\n",
       "    </tr>\n",
       "    <tr>\n",
       "      <th>...</th>\n",
       "      <td>...</td>\n",
       "    </tr>\n",
       "    <tr>\n",
       "      <th>56412110</th>\n",
       "      <td>19973 -1 2262 -1 -2</td>\n",
       "    </tr>\n",
       "    <tr>\n",
       "      <th>56412111</th>\n",
       "      <td>19973 -1 27441 -1 -2</td>\n",
       "    </tr>\n",
       "    <tr>\n",
       "      <th>56412112</th>\n",
       "      <td>19968 -1 50614 -1 19973 -1 -2</td>\n",
       "    </tr>\n",
       "    <tr>\n",
       "      <th>56412113</th>\n",
       "      <td>45264 -1 19968 -1 -2</td>\n",
       "    </tr>\n",
       "    <tr>\n",
       "      <th>56412114</th>\n",
       "      <td>23949 -1 7649 -1 23875 -1 -2</td>\n",
       "    </tr>\n",
       "  </tbody>\n",
       "</table>\n",
       "<p>56412115 rows × 1 columns</p>\n",
       "</div>"
      ],
      "text/plain": [
       "                                                                  app_code\n",
       "0         19968 -1 7649 -1 23916 -1 19968 -1 53003 -1 23967 -1 53003 -1 -2\n",
       "1                   53003 -1 19968 -1 53003 -1 2340 -1 7649 -1 53003 -1 -2\n",
       "2                                            19968 -1 51657 -1 53003 -1 -2\n",
       "3                          19968 -1 23926 -1 19968 -1 45345 -1 23967 -1 -2\n",
       "4                                                     23967 -1 23916 -1 -2\n",
       "...                                                                    ...\n",
       "56412110                                               19973 -1 2262 -1 -2\n",
       "56412111                                              19973 -1 27441 -1 -2\n",
       "56412112                                     19968 -1 50614 -1 19973 -1 -2\n",
       "56412113                                              45264 -1 19968 -1 -2\n",
       "56412114                                      23949 -1 7649 -1 23875 -1 -2\n",
       "\n",
       "[56412115 rows x 1 columns]"
      ]
     },
     "execution_count": 3,
     "metadata": {},
     "output_type": "execute_result"
    }
   ],
   "source": [
    "input_string"
   ]
  },
  {
   "cell_type": "code",
   "execution_count": 4,
   "metadata": {},
   "outputs": [],
   "source": [
    "dfAsString = input_string.to_string(header=False, index=False).lstrip()"
   ]
  },
  {
   "cell_type": "code",
   "execution_count": 5,
   "metadata": {},
   "outputs": [],
   "source": [
    "dfAsString=re.sub(r'\\n\\s+','\\n',dfAsString)"
   ]
  },
  {
   "cell_type": "code",
   "execution_count": 6,
   "metadata": {},
   "outputs": [],
   "source": [
    "f = open(os.path.join(os.getcwd(), '20sec_sessions_min_len_2.txt'), 'w')\n",
    "f.write(dfAsString)\n",
    "f.close()"
   ]
  },
  {
   "cell_type": "code",
   "execution_count": 11,
   "metadata": {},
   "outputs": [
    {
     "ename": "CalledProcessError",
     "evalue": "Command '['java', '-jar', '/home/s164574/motifs_and_competition_in_app_usage/spmf.jar', 'run', 'VMSP', '/home/s164574/motifs_and_competition_in_app_usage/20sec_sessions_min_len_2.txt', '/home/s164574/motifs_and_competition_in_app_usage/output_VMSP_20sec_sessions_min_len_2_min_sup_1.txt', '0.01']' returned non-zero exit status 1.",
     "output_type": "error",
     "traceback": [
      "\u001b[0;31m---------------------------------------------------------------------------\u001b[0m",
      "\u001b[0;31mCalledProcessError\u001b[0m                        Traceback (most recent call last)",
      "\u001b[0;32m<ipython-input-11-74121d7e14ef>\u001b[0m in \u001b[0;36m<module>\u001b[0;34m\u001b[0m\n\u001b[1;32m      3\u001b[0m             \u001b[0mspmf_bin_location_dir\u001b[0m\u001b[0;34m=\u001b[0m\u001b[0;34m\"/home/s164574/motifs_and_competition_in_app_usage/\"\u001b[0m\u001b[0;34m,\u001b[0m\u001b[0;34m\u001b[0m\u001b[0;34m\u001b[0m\u001b[0m\n\u001b[1;32m      4\u001b[0m             arguments=[0.01])\n\u001b[0;32m----> 5\u001b[0;31m \u001b[0mspmf\u001b[0m\u001b[0;34m.\u001b[0m\u001b[0mrun\u001b[0m\u001b[0;34m(\u001b[0m\u001b[0;34m)\u001b[0m\u001b[0;34m\u001b[0m\u001b[0;34m\u001b[0m\u001b[0m\n\u001b[0m\u001b[1;32m      6\u001b[0m \u001b[0mprint\u001b[0m\u001b[0;34m(\u001b[0m\u001b[0mspmf\u001b[0m\u001b[0;34m.\u001b[0m\u001b[0mto_pandas_dataframe\u001b[0m\u001b[0;34m(\u001b[0m\u001b[0mpickle\u001b[0m\u001b[0;34m=\u001b[0m\u001b[0;32mTrue\u001b[0m\u001b[0;34m)\u001b[0m\u001b[0;34m)\u001b[0m\u001b[0;34m\u001b[0m\u001b[0;34m\u001b[0m\u001b[0m\n\u001b[1;32m      7\u001b[0m \u001b[0mspmf\u001b[0m\u001b[0;34m.\u001b[0m\u001b[0mto_csv\u001b[0m\u001b[0;34m(\u001b[0m\u001b[0;34m\"output_VMSP_20sec_sessions_min_len_2_min_sup_1.csv\"\u001b[0m\u001b[0;34m)\u001b[0m\u001b[0;34m\u001b[0m\u001b[0;34m\u001b[0m\u001b[0m\n",
      "\u001b[0;32m~/.conda/envs/myenv/lib/python3.8/site-packages/spmf/__init__.py\u001b[0m in \u001b[0;36mrun\u001b[0;34m(self)\u001b[0m\n\u001b[1;32m    100\u001b[0m         \u001b[0msubprocess_arguments\u001b[0m\u001b[0;34m.\u001b[0m\u001b[0mextend\u001b[0m\u001b[0;34m(\u001b[0m\u001b[0mself\u001b[0m\u001b[0;34m.\u001b[0m\u001b[0marguments_\u001b[0m\u001b[0;34m)\u001b[0m\u001b[0;34m\u001b[0m\u001b[0;34m\u001b[0m\u001b[0m\n\u001b[1;32m    101\u001b[0m \u001b[0;34m\u001b[0m\u001b[0m\n\u001b[0;32m--> 102\u001b[0;31m         \u001b[0mproc\u001b[0m \u001b[0;34m=\u001b[0m \u001b[0msubprocess\u001b[0m\u001b[0;34m.\u001b[0m\u001b[0mcheck_output\u001b[0m\u001b[0;34m(\u001b[0m\u001b[0msubprocess_arguments\u001b[0m\u001b[0;34m)\u001b[0m\u001b[0;34m\u001b[0m\u001b[0;34m\u001b[0m\u001b[0m\n\u001b[0m\u001b[1;32m    103\u001b[0m         \u001b[0mproc_output\u001b[0m \u001b[0;34m=\u001b[0m \u001b[0mproc\u001b[0m\u001b[0;34m.\u001b[0m\u001b[0mdecode\u001b[0m\u001b[0;34m(\u001b[0m\u001b[0;34m)\u001b[0m\u001b[0;34m\u001b[0m\u001b[0;34m\u001b[0m\u001b[0m\n\u001b[1;32m    104\u001b[0m         \u001b[0mprint\u001b[0m\u001b[0;34m(\u001b[0m\u001b[0mproc_output\u001b[0m\u001b[0;34m)\u001b[0m\u001b[0;34m\u001b[0m\u001b[0;34m\u001b[0m\u001b[0m\n",
      "\u001b[0;32m~/.conda/envs/myenv/lib/python3.8/subprocess.py\u001b[0m in \u001b[0;36mcheck_output\u001b[0;34m(timeout, *popenargs, **kwargs)\u001b[0m\n\u001b[1;32m    409\u001b[0m         \u001b[0mkwargs\u001b[0m\u001b[0;34m[\u001b[0m\u001b[0;34m'input'\u001b[0m\u001b[0;34m]\u001b[0m \u001b[0;34m=\u001b[0m \u001b[0;34m''\u001b[0m \u001b[0;32mif\u001b[0m \u001b[0mkwargs\u001b[0m\u001b[0;34m.\u001b[0m\u001b[0mget\u001b[0m\u001b[0;34m(\u001b[0m\u001b[0;34m'universal_newlines'\u001b[0m\u001b[0;34m,\u001b[0m \u001b[0;32mFalse\u001b[0m\u001b[0;34m)\u001b[0m \u001b[0;32melse\u001b[0m \u001b[0;34mb''\u001b[0m\u001b[0;34m\u001b[0m\u001b[0;34m\u001b[0m\u001b[0m\n\u001b[1;32m    410\u001b[0m \u001b[0;34m\u001b[0m\u001b[0m\n\u001b[0;32m--> 411\u001b[0;31m     return run(*popenargs, stdout=PIPE, timeout=timeout, check=True,\n\u001b[0m\u001b[1;32m    412\u001b[0m                **kwargs).stdout\n\u001b[1;32m    413\u001b[0m \u001b[0;34m\u001b[0m\u001b[0m\n",
      "\u001b[0;32m~/.conda/envs/myenv/lib/python3.8/subprocess.py\u001b[0m in \u001b[0;36mrun\u001b[0;34m(input, capture_output, timeout, check, *popenargs, **kwargs)\u001b[0m\n\u001b[1;32m    510\u001b[0m         \u001b[0mretcode\u001b[0m \u001b[0;34m=\u001b[0m \u001b[0mprocess\u001b[0m\u001b[0;34m.\u001b[0m\u001b[0mpoll\u001b[0m\u001b[0;34m(\u001b[0m\u001b[0;34m)\u001b[0m\u001b[0;34m\u001b[0m\u001b[0;34m\u001b[0m\u001b[0m\n\u001b[1;32m    511\u001b[0m         \u001b[0;32mif\u001b[0m \u001b[0mcheck\u001b[0m \u001b[0;32mand\u001b[0m \u001b[0mretcode\u001b[0m\u001b[0;34m:\u001b[0m\u001b[0;34m\u001b[0m\u001b[0;34m\u001b[0m\u001b[0m\n\u001b[0;32m--> 512\u001b[0;31m             raise CalledProcessError(retcode, process.args,\n\u001b[0m\u001b[1;32m    513\u001b[0m                                      output=stdout, stderr=stderr)\n\u001b[1;32m    514\u001b[0m     \u001b[0;32mreturn\u001b[0m \u001b[0mCompletedProcess\u001b[0m\u001b[0;34m(\u001b[0m\u001b[0mprocess\u001b[0m\u001b[0;34m.\u001b[0m\u001b[0margs\u001b[0m\u001b[0;34m,\u001b[0m \u001b[0mretcode\u001b[0m\u001b[0;34m,\u001b[0m \u001b[0mstdout\u001b[0m\u001b[0;34m,\u001b[0m \u001b[0mstderr\u001b[0m\u001b[0;34m)\u001b[0m\u001b[0;34m\u001b[0m\u001b[0;34m\u001b[0m\u001b[0m\n",
      "\u001b[0;31mCalledProcessError\u001b[0m: Command '['java', '-jar', '/home/s164574/motifs_and_competition_in_app_usage/spmf.jar', 'run', 'VMSP', '/home/s164574/motifs_and_competition_in_app_usage/20sec_sessions_min_len_2.txt', '/home/s164574/motifs_and_competition_in_app_usage/output_VMSP_20sec_sessions_min_len_2_min_sup_1.txt', '0.01']' returned non-zero exit status 1."
     ]
    }
   ],
   "source": [
    "spmf = Spmf(\"VMSP\", input_filename=\"/home/s164574/motifs_and_competition_in_app_usage/20sec_sessions_min_len_2.txt\",\n",
    "            output_filename=\"/home/s164574/motifs_and_competition_in_app_usage/output_VMSP_20sec_sessions_min_len_2_min_sup_1.txt\",\n",
    "            spmf_bin_location_dir=\"/home/s164574/motifs_and_competition_in_app_usage/\",\n",
    "            arguments=[0.01])\n",
    "spmf.run()\n",
    "print(spmf.to_pandas_dataframe(pickle=True))\n",
    "spmf.to_csv(\"output_VMSP_20sec_sessions_min_len_2_min_sup_1.csv\")"
   ]
  },
  {
   "attachments": {
    "image.png": {
     "image/png": "[encoded data removed]"
    }
   },
   "cell_type": "markdown",
   "metadata": {},
   "source": [
    "The called process error does not provide any information about the underlaying issue and the calculation is therefore also performed in the terminal. Here the error are found to be \"*java.lang.OutOfMemoryError: Java heap space*\".\n",
    "![image.png](attachment:image.png)"
   ]
  },
  {
   "cell_type": "markdown",
   "metadata": {},
   "source": [
    "# RUN untill here!!!"
   ]
  },
  {
   "cell_type": "markdown",
   "metadata": {},
   "source": [
    "### Dealing with infrequent apps\n",
    "As Here we try to deal with the many infrequent apps in order to make the algortihms work on the the sequences, without experiencing memory propblems, either in terms of garbage collection or in terms of heap memory."
   ]
  },
  {
   "cell_type": "code",
   "execution_count": 3,
   "metadata": {},
   "outputs": [
    {
     "name": "stdout",
     "output_type": "stream",
     "text": [
      "Number of different apps occuringing in sequences of more than legnth one:  60013\n"
     ]
    }
   ],
   "source": [
    "print(\"Number of different apps occuringing in sequences of more than legnth one: \",data4.app_code.nunique())"
   ]
  },
  {
   "cell_type": "markdown",
   "metadata": {},
   "source": [
    "Now the number of sessions which each of the apps occure in is calculated. This provide sort of an upper limit for high the min. support can be set, and still a pattern of at least length one will be returned."
   ]
  },
  {
   "cell_type": "code",
   "execution_count": 3,
   "metadata": {},
   "outputs": [],
   "source": [
    "app_in_n_sessions=data4.groupby(['app_code','user_id']).session.nunique().reset_index().groupby(\"app_code\").session.sum()"
   ]
  },
  {
   "cell_type": "code",
   "execution_count": 6,
   "metadata": {},
   "outputs": [
    {
     "data": {
      "text/plain": [
       "count    6.001300e+04\n",
       "mean     2.586290e+03\n",
       "std      1.414441e+05\n",
       "min      1.000000e+00\n",
       "25%      2.000000e+00\n",
       "50%      5.000000e+00\n",
       "75%      2.800000e+01\n",
       "max      2.029606e+07\n",
       "Name: session, dtype: float64"
      ]
     },
     "execution_count": 6,
     "metadata": {},
     "output_type": "execute_result"
    }
   ],
   "source": [
    "app_in_n_sessions.describe()"
   ]
  },
  {
   "cell_type": "code",
   "execution_count": 9,
   "metadata": {},
   "outputs": [
    {
     "name": "stdout",
     "output_type": "stream",
     "text": [
      "max min support for one app: 35.97819014585785\n"
     ]
    }
   ],
   "source": [
    "print(\"max min support for one app:\",app_in_n_sessions.max()/56412115*100)"
   ]
  },
  {
   "cell_type": "code",
   "execution_count": 12,
   "metadata": {},
   "outputs": [
    {
     "name": "stdout",
     "output_type": "stream",
     "text": [
      "Number of apps with one procent or more support: 26\n"
     ]
    }
   ],
   "source": [
    "print(\"Number of apps with one procent or more support:\",app_in_n_sessions[app_in_n_sessions>=(56412115/100)].shape[0])"
   ]
  },
  {
   "cell_type": "code",
   "execution_count": 83,
   "metadata": {},
   "outputs": [
    {
     "data": {
      "text/plain": [
       "array([ 2259,  7421,  7649,  7653, 18676, 19968, 19973, 23906, 23909,\n",
       "       23947, 23949, 23967, 27441, 33357, 36529, 44880, 45246, 45260,\n",
       "       45261, 45264, 45284, 45329, 45846, 50519, 53003, 53996])"
      ]
     },
     "execution_count": 83,
     "metadata": {},
     "output_type": "execute_result"
    }
   ],
   "source": [
    "app_in_n_sessions[app_in_n_sessions>=(56412115/100)].index.values"
   ]
  },
  {
   "cell_type": "code",
   "execution_count": 21,
   "metadata": {},
   "outputs": [
    {
     "name": "stdout",
     "output_type": "stream",
     "text": [
      "bbc.mobile.news.uk\n",
      "com.amazon.mShop.android.shopping\n",
      "com.android.chrome\n",
      "com.android.incallui\n",
      "com.ebay.mobile\n",
      "com.facebook.katana\n",
      "com.facebook.orca\n",
      "com.google.android.apps.maps\n",
      "com.google.android.apps.messaging\n",
      "com.google.android.gm\n",
      "com.google.android.googlequicksearchbox\n",
      "com.google.android.youtube\n",
      "com.instagram.android\n",
      "com.microsoft.office.outlook\n",
      "com.nianticlabs.pokemongo\n",
      "com.snapchat.android\n",
      "com.sony.nfx.app.sfrc\n",
      "com.sonyericsson.album\n",
      "com.sonyericsson.android.socialphonebook\n",
      "com.sonyericsson.conversations\n",
      "com.sonyericsson.music\n",
      "com.sonymobile.email\n",
      "com.spotify.music\n",
      "com.twitter.android\n",
      "com.whatsapp\n",
      "com.yahoo.mobile.client.android.mail\n"
     ]
    }
   ],
   "source": [
    "print(data4[(data4.app_code==2259)].package_name.unique()[0])\n",
    "print(data4[(data4.app_code==7421)].package_name.unique()[0])\n",
    "print(data4[(data4.app_code==7649)].package_name.unique()[0])\n",
    "print(data4[(data4.app_code==7653)].package_name.unique()[0])\n",
    "print(data4[(data4.app_code==18676)].package_name.unique()[0])\n",
    "print(data4[(data4.app_code==19968)].package_name.unique()[0])\n",
    "print(data4[(data4.app_code==19973)].package_name.unique()[0])\n",
    "print(data4[(data4.app_code==23906)].package_name.unique()[0])\n",
    "print(data4[(data4.app_code==23909)].package_name.unique()[0])\n",
    "print(data4[(data4.app_code==23947)].package_name.unique()[0])\n",
    "print(data4[(data4.app_code==23949)].package_name.unique()[0])\n",
    "print(data4[(data4.app_code==23967)].package_name.unique()[0])\n",
    "print(data4[(data4.app_code==27441)].package_name.unique()[0])\n",
    "print(data4[(data4.app_code==33357)].package_name.unique()[0])\n",
    "print(data4[(data4.app_code==36529)].package_name.unique()[0])\n",
    "print(data4[(data4.app_code==44880)].package_name.unique()[0])\n",
    "print(data4[(data4.app_code==45246)].package_name.unique()[0])\n",
    "print(data4[(data4.app_code==45260)].package_name.unique()[0])\n",
    "print(data4[(data4.app_code==45261)].package_name.unique()[0])\n",
    "print(data4[(data4.app_code==45264)].package_name.unique()[0])\n",
    "print(data4[(data4.app_code==45284)].package_name.unique()[0])\n",
    "print(data4[(data4.app_code==45329)].package_name.unique()[0])\n",
    "print(data4[(data4.app_code==45846)].package_name.unique()[0])\n",
    "print(data4[(data4.app_code==50519)].package_name.unique()[0])\n",
    "print(data4[(data4.app_code==53003)].package_name.unique()[0])\n",
    "print(data4[(data4.app_code==53996)].package_name.unique()[0])"
   ]
  },
  {
   "cell_type": "code",
   "execution_count": 29,
   "metadata": {},
   "outputs": [
    {
     "name": "stdout",
     "output_type": "stream",
     "text": [
      "number of apps which only occur in one sequenc: 14756\n",
      "number of apps which only occur in five sequenc or less: 31148\n",
      "number of apps which only occur in 28 sequenc or less: 45100\n"
     ]
    }
   ],
   "source": [
    "print(\"number of apps which only occur in one sequenc:\",app_in_n_sessions[app_in_n_sessions==1].shape[0])\n",
    "print(\"number of apps which only occur in five sequenc or less:\",app_in_n_sessions[app_in_n_sessions<=5].shape[0])#median \n",
    "print(\"number of apps which only occur in 28 sequenc or less:\",app_in_n_sessions[app_in_n_sessions<=28].shape[0])#75-quantile"
   ]
  },
  {
   "cell_type": "markdown",
   "metadata": {},
   "source": [
    "As a start we difine the median of 5 or less as the thresshold for when an app is too infrequent to be relevant. How ever to remove these apps without affecting the sequences, we can only remove sequences of length two, where at least one is "
   ]
  },
  {
   "cell_type": "code",
   "execution_count": 4,
   "metadata": {},
   "outputs": [],
   "source": [
    "data4=pd.merge(data4, app_in_n_sessions.reset_index().rename(columns={'session':'number_of_sessions'}), how='left', on=['app_code'])"
   ]
  },
  {
   "cell_type": "code",
   "execution_count": 5,
   "metadata": {},
   "outputs": [],
   "source": [
    "data4['app_less_than_0_01_sessions']=data4.number_of_sessions<=(56412115/100*0.01)"
   ]
  },
  {
   "cell_type": "code",
   "execution_count": 8,
   "metadata": {},
   "outputs": [
    {
     "data": {
      "text/plain": [
       "5668168"
      ]
     },
     "execution_count": 8,
     "metadata": {},
     "output_type": "execute_result"
    }
   ],
   "source": [
    "(data4.groupby(['user_id','session']).app_less_than_0_01_sessions.sum()>0).sum()#<=0.01 procent"
   ]
  },
  {
   "cell_type": "code",
   "execution_count": 61,
   "metadata": {},
   "outputs": [
    {
     "data": {
      "text/plain": [
       "229306"
      ]
     },
     "execution_count": 61,
     "metadata": {},
     "output_type": "execute_result"
    }
   ],
   "source": [
    "(data4.groupby(['user_id','session']).app_less_than_five_sessions.sum()>0).sum()#<=28"
   ]
  },
  {
   "cell_type": "code",
   "execution_count": 71,
   "metadata": {},
   "outputs": [
    {
     "data": {
      "text/plain": [
       "560177"
      ]
     },
     "execution_count": 71,
     "metadata": {},
     "output_type": "execute_result"
    }
   ],
   "source": [
    "(data4.groupby(['user_id','session']).app_less_than_five_sessions.sum()>0).sum()#<=100"
   ]
  },
  {
   "cell_type": "code",
   "execution_count": 74,
   "metadata": {},
   "outputs": [
    {
     "data": {
      "text/plain": [
       "1745443"
      ]
     },
     "execution_count": 74,
     "metadata": {},
     "output_type": "execute_result"
    }
   ],
   "source": [
    "(data4.groupby(['user_id','session']).app_less_than_five_sessions.sum()>0).sum()#<=564(56412115/100*0.001)"
   ]
  },
  {
   "cell_type": "code",
   "execution_count": 76,
   "metadata": {},
   "outputs": [
    {
     "data": {
      "text/plain": [
       "25388149"
      ]
     },
     "execution_count": 76,
     "metadata": {},
     "output_type": "execute_result"
    }
   ],
   "source": [
    "(data4.groupby(['user_id','session']).app_less_than_five_sessions.sum()>0).sum()#<=1%"
   ]
  },
  {
   "cell_type": "code",
   "execution_count": 79,
   "metadata": {},
   "outputs": [
    {
     "data": {
      "text/plain": [
       "5668168"
      ]
     },
     "execution_count": 79,
     "metadata": {},
     "output_type": "execute_result"
    }
   ],
   "source": [
    "(data4.groupby(['user_id','session']).app_less_than_five_sessions.sum()>0).sum()#<=56412115/100*0.01"
   ]
  },
  {
   "cell_type": "markdown",
   "metadata": {},
   "source": [
    "- Observations which can be romved because they the length of frequent events in session is only 1.\n",
    "- Observations which can be removed because they the app is less frequent, and either the last or first observation in a session."
   ]
  },
  {
   "cell_type": "code",
   "execution_count": 6,
   "metadata": {},
   "outputs": [],
   "source": [
    "data4=pd.merge(data4,(data4.groupby(['user_id','session']).size()-data4.groupby(['user_id','session']).app_less_than_0_01_sessions.sum()).reset_index().rename(columns={0:'session_length_without_infrequent'}),how='left', on=['user_id','session'])"
   ]
  },
  {
   "cell_type": "code",
   "execution_count": 12,
   "metadata": {},
   "outputs": [
    {
     "name": "stdout",
     "output_type": "stream",
     "text": [
      "number of observations which can be removed, because removing infrequent apps, mean that there is one or non apps left in session 4926066\n"
     ]
    }
   ],
   "source": [
    "print(\"number of observations which can be removed, because removing infrequent apps, mean that there is one or non apps left in session\",data4[data4.session_length_without_infrequent<=1].shape[0])"
   ]
  },
  {
   "cell_type": "code",
   "execution_count": 7,
   "metadata": {},
   "outputs": [],
   "source": [
    "data4=data4[data4.session_length_without_infrequent>1]"
   ]
  },
  {
   "cell_type": "code",
   "execution_count": 15,
   "metadata": {},
   "outputs": [
    {
     "name": "stdout",
     "output_type": "stream",
     "text": [
      "number of sessions:  54065611\n",
      "number of apps:  49015\n"
     ]
    }
   ],
   "source": [
    "print(\"number of sessions: \",data4.groupby(['user_id','session']).size().shape[0])\n",
    "print(\"number of apps: \",data4.groupby(['app_code']).size().shape[0])"
   ]
  },
  {
   "cell_type": "markdown",
   "metadata": {},
   "source": [
    "we now take a look at the infrequent apps, which are either first or last in a sequence."
   ]
  },
  {
   "cell_type": "markdown",
   "metadata": {},
   "source": [
    "if it is true that the app is infrequent and "
   ]
  },
  {
   "cell_type": "code",
   "execution_count": 8,
   "metadata": {},
   "outputs": [],
   "source": [
    "data4['app_more_than_0_01_sessions']=data4.app_less_than_0_01_sessions.apply(lambda l: not l)"
   ]
  },
  {
   "cell_type": "code",
   "execution_count": 12,
   "metadata": {},
   "outputs": [],
   "source": [
    "data4['group_of_infrequent_apps']=data4.groupby(['user_id','session']).app_more_than_0_01_sessions.cumsum()"
   ]
  },
  {
   "cell_type": "markdown",
   "metadata": {},
   "source": [
    "Now all apps which are infrequent and is part of the initial sequence of infrequent apps in a session, will belong to group 0. These are therefore removed."
   ]
  },
  {
   "cell_type": "code",
   "execution_count": 13,
   "metadata": {},
   "outputs": [],
   "source": [
    "data4=data4[data4.group_of_infrequent_apps!=0]"
   ]
  },
  {
   "cell_type": "markdown",
   "metadata": {},
   "source": [
    "We can now similarly try to identify infrequent apss at the end of a session"
   ]
  },
  {
   "cell_type": "code",
   "execution_count": 14,
   "metadata": {},
   "outputs": [],
   "source": [
    "data4=pd.merge(data4,data4.groupby(['user_id','session']).agg({'group_of_infrequent_apps':'max'}).reset_index().rename(columns={'group_of_infrequent_apps':'max_group_of_infrequent_apps'}),how='left', on=['user_id','session'])"
   ]
  },
  {
   "cell_type": "code",
   "execution_count": 39,
   "metadata": {},
   "outputs": [
    {
     "data": {
      "text/html": [
       "<div>\n",
       "<style scoped>\n",
       "    .dataframe tbody tr th:only-of-type {\n",
       "        vertical-align: middle;\n",
       "    }\n",
       "\n",
       "    .dataframe tbody tr th {\n",
       "        vertical-align: top;\n",
       "    }\n",
       "\n",
       "    .dataframe thead th {\n",
       "        text-align: right;\n",
       "    }\n",
       "</style>\n",
       "<table border=\"1\" class=\"dataframe\">\n",
       "  <thead>\n",
       "    <tr style=\"text-align: right;\">\n",
       "      <th></th>\n",
       "      <th>package_name</th>\n",
       "      <th>user_id</th>\n",
       "      <th>start_time</th>\n",
       "      <th>end_time</th>\n",
       "      <th>time_spend</th>\n",
       "      <th>app_code</th>\n",
       "      <th>sequence_number</th>\n",
       "      <th>sequence_Start_time</th>\n",
       "      <th>sequence_end_time</th>\n",
       "      <th>sleep_time</th>\n",
       "      <th>new_session</th>\n",
       "      <th>session</th>\n",
       "      <th>session_length</th>\n",
       "      <th>number_of_sessions</th>\n",
       "      <th>app_less_than_0_01_sessions</th>\n",
       "      <th>session_length_without_infrequent</th>\n",
       "      <th>app_more_than_0_01_sessions</th>\n",
       "      <th>group_of_infrequent_apps</th>\n",
       "      <th>max_group_of_infrequent_apps</th>\n",
       "    </tr>\n",
       "  </thead>\n",
       "  <tbody>\n",
       "    <tr>\n",
       "      <th>38</th>\n",
       "      <td>bg.abv.andro.emailapp</td>\n",
       "      <td>0</td>\n",
       "      <td>49406</td>\n",
       "      <td>49416</td>\n",
       "      <td>10</td>\n",
       "      <td>2340</td>\n",
       "      <td>49</td>\n",
       "      <td>49406</td>\n",
       "      <td>49416</td>\n",
       "      <td>0</td>\n",
       "      <td>False</td>\n",
       "      <td>19</td>\n",
       "      <td>4</td>\n",
       "      <td>2704</td>\n",
       "      <td>True</td>\n",
       "      <td>3</td>\n",
       "      <td>False</td>\n",
       "      <td>3</td>\n",
       "      <td>3</td>\n",
       "    </tr>\n",
       "    <tr>\n",
       "      <th>144</th>\n",
       "      <td>bg.abv.andro.emailapp</td>\n",
       "      <td>0</td>\n",
       "      <td>267152</td>\n",
       "      <td>267192</td>\n",
       "      <td>40</td>\n",
       "      <td>2340</td>\n",
       "      <td>182</td>\n",
       "      <td>267152</td>\n",
       "      <td>267192</td>\n",
       "      <td>0</td>\n",
       "      <td>False</td>\n",
       "      <td>85</td>\n",
       "      <td>5</td>\n",
       "      <td>2704</td>\n",
       "      <td>True</td>\n",
       "      <td>4</td>\n",
       "      <td>False</td>\n",
       "      <td>4</td>\n",
       "      <td>4</td>\n",
       "    </tr>\n",
       "    <tr>\n",
       "      <th>192</th>\n",
       "      <td>bg.abv.andro.emailapp</td>\n",
       "      <td>0</td>\n",
       "      <td>322031</td>\n",
       "      <td>322056</td>\n",
       "      <td>25</td>\n",
       "      <td>2340</td>\n",
       "      <td>236</td>\n",
       "      <td>322031</td>\n",
       "      <td>322056</td>\n",
       "      <td>14</td>\n",
       "      <td>False</td>\n",
       "      <td>110</td>\n",
       "      <td>4</td>\n",
       "      <td>2704</td>\n",
       "      <td>True</td>\n",
       "      <td>3</td>\n",
       "      <td>False</td>\n",
       "      <td>3</td>\n",
       "      <td>3</td>\n",
       "    </tr>\n",
       "    <tr>\n",
       "      <th>209</th>\n",
       "      <td>bg.abv.andro.emailapp</td>\n",
       "      <td>0</td>\n",
       "      <td>342318</td>\n",
       "      <td>342365</td>\n",
       "      <td>47</td>\n",
       "      <td>2340</td>\n",
       "      <td>256</td>\n",
       "      <td>342318</td>\n",
       "      <td>342365</td>\n",
       "      <td>0</td>\n",
       "      <td>False</td>\n",
       "      <td>120</td>\n",
       "      <td>3</td>\n",
       "      <td>2704</td>\n",
       "      <td>True</td>\n",
       "      <td>2</td>\n",
       "      <td>False</td>\n",
       "      <td>2</td>\n",
       "      <td>2</td>\n",
       "    </tr>\n",
       "    <tr>\n",
       "      <th>335</th>\n",
       "      <td>com.sirmamobile.prodavalnik</td>\n",
       "      <td>0</td>\n",
       "      <td>734511</td>\n",
       "      <td>734931</td>\n",
       "      <td>420</td>\n",
       "      <td>44393</td>\n",
       "      <td>422</td>\n",
       "      <td>734511</td>\n",
       "      <td>734931</td>\n",
       "      <td>0</td>\n",
       "      <td>False</td>\n",
       "      <td>206</td>\n",
       "      <td>5</td>\n",
       "      <td>97</td>\n",
       "      <td>True</td>\n",
       "      <td>3</td>\n",
       "      <td>False</td>\n",
       "      <td>3</td>\n",
       "      <td>3</td>\n",
       "    </tr>\n",
       "    <tr>\n",
       "      <th>...</th>\n",
       "      <td>...</td>\n",
       "      <td>...</td>\n",
       "      <td>...</td>\n",
       "      <td>...</td>\n",
       "      <td>...</td>\n",
       "      <td>...</td>\n",
       "      <td>...</td>\n",
       "      <td>...</td>\n",
       "      <td>...</td>\n",
       "      <td>...</td>\n",
       "      <td>...</td>\n",
       "      <td>...</td>\n",
       "      <td>...</td>\n",
       "      <td>...</td>\n",
       "      <td>...</td>\n",
       "      <td>...</td>\n",
       "      <td>...</td>\n",
       "      <td>...</td>\n",
       "      <td>...</td>\n",
       "    </tr>\n",
       "    <tr>\n",
       "      <th>175391392</th>\n",
       "      <td>com.kb.Carrom3D</td>\n",
       "      <td>9998</td>\n",
       "      <td>34780733</td>\n",
       "      <td>34781894</td>\n",
       "      <td>1161</td>\n",
       "      <td>29223</td>\n",
       "      <td>9077</td>\n",
       "      <td>34780733</td>\n",
       "      <td>34781894</td>\n",
       "      <td>0</td>\n",
       "      <td>False</td>\n",
       "      <td>5025</td>\n",
       "      <td>3</td>\n",
       "      <td>151</td>\n",
       "      <td>True</td>\n",
       "      <td>2</td>\n",
       "      <td>False</td>\n",
       "      <td>2</td>\n",
       "      <td>2</td>\n",
       "    </tr>\n",
       "    <tr>\n",
       "      <th>175392106</th>\n",
       "      <td>com.kb.Carrom3D</td>\n",
       "      <td>9998</td>\n",
       "      <td>37784069</td>\n",
       "      <td>37785150</td>\n",
       "      <td>1081</td>\n",
       "      <td>29223</td>\n",
       "      <td>10011</td>\n",
       "      <td>37784069</td>\n",
       "      <td>37785150</td>\n",
       "      <td>0</td>\n",
       "      <td>False</td>\n",
       "      <td>5537</td>\n",
       "      <td>4</td>\n",
       "      <td>151</td>\n",
       "      <td>True</td>\n",
       "      <td>3</td>\n",
       "      <td>False</td>\n",
       "      <td>3</td>\n",
       "      <td>3</td>\n",
       "    </tr>\n",
       "    <tr>\n",
       "      <th>175392282</th>\n",
       "      <td>com.kb.Carrom3D</td>\n",
       "      <td>9998</td>\n",
       "      <td>38661190</td>\n",
       "      <td>38661200</td>\n",
       "      <td>10</td>\n",
       "      <td>29223</td>\n",
       "      <td>10278</td>\n",
       "      <td>38661190</td>\n",
       "      <td>38661200</td>\n",
       "      <td>0</td>\n",
       "      <td>False</td>\n",
       "      <td>5708</td>\n",
       "      <td>5</td>\n",
       "      <td>151</td>\n",
       "      <td>True</td>\n",
       "      <td>3</td>\n",
       "      <td>False</td>\n",
       "      <td>3</td>\n",
       "      <td>3</td>\n",
       "    </tr>\n",
       "    <tr>\n",
       "      <th>175396793</th>\n",
       "      <td>air.nn.mobile.app.main</td>\n",
       "      <td>9999</td>\n",
       "      <td>13593307</td>\n",
       "      <td>13593365</td>\n",
       "      <td>58</td>\n",
       "      <td>1312</td>\n",
       "      <td>6287</td>\n",
       "      <td>13593307</td>\n",
       "      <td>13593365</td>\n",
       "      <td>0</td>\n",
       "      <td>False</td>\n",
       "      <td>3715</td>\n",
       "      <td>3</td>\n",
       "      <td>63</td>\n",
       "      <td>True</td>\n",
       "      <td>2</td>\n",
       "      <td>False</td>\n",
       "      <td>2</td>\n",
       "      <td>2</td>\n",
       "    </tr>\n",
       "    <tr>\n",
       "      <th>175397233</th>\n",
       "      <td>air.nn.mobile.app.main</td>\n",
       "      <td>9999</td>\n",
       "      <td>14809642</td>\n",
       "      <td>14809652</td>\n",
       "      <td>10</td>\n",
       "      <td>1312</td>\n",
       "      <td>6897</td>\n",
       "      <td>14809642</td>\n",
       "      <td>14809652</td>\n",
       "      <td>0</td>\n",
       "      <td>False</td>\n",
       "      <td>4070</td>\n",
       "      <td>3</td>\n",
       "      <td>63</td>\n",
       "      <td>True</td>\n",
       "      <td>2</td>\n",
       "      <td>False</td>\n",
       "      <td>2</td>\n",
       "      <td>2</td>\n",
       "    </tr>\n",
       "  </tbody>\n",
       "</table>\n",
       "<p>927495 rows × 19 columns</p>\n",
       "</div>"
      ],
      "text/plain": [
       "                          package_name  user_id  start_time  end_time  \\\n",
       "38               bg.abv.andro.emailapp        0       49406     49416   \n",
       "144              bg.abv.andro.emailapp        0      267152    267192   \n",
       "192              bg.abv.andro.emailapp        0      322031    322056   \n",
       "209              bg.abv.andro.emailapp        0      342318    342365   \n",
       "335        com.sirmamobile.prodavalnik        0      734511    734931   \n",
       "...                                ...      ...         ...       ...   \n",
       "175391392              com.kb.Carrom3D     9998    34780733  34781894   \n",
       "175392106              com.kb.Carrom3D     9998    37784069  37785150   \n",
       "175392282              com.kb.Carrom3D     9998    38661190  38661200   \n",
       "175396793       air.nn.mobile.app.main     9999    13593307  13593365   \n",
       "175397233       air.nn.mobile.app.main     9999    14809642  14809652   \n",
       "\n",
       "           time_spend  app_code  sequence_number  sequence_Start_time  \\\n",
       "38                 10      2340               49                49406   \n",
       "144                40      2340              182               267152   \n",
       "192                25      2340              236               322031   \n",
       "209                47      2340              256               342318   \n",
       "335               420     44393              422               734511   \n",
       "...               ...       ...              ...                  ...   \n",
       "175391392        1161     29223             9077             34780733   \n",
       "175392106        1081     29223            10011             37784069   \n",
       "175392282          10     29223            10278             38661190   \n",
       "175396793          58      1312             6287             13593307   \n",
       "175397233          10      1312             6897             14809642   \n",
       "\n",
       "           sequence_end_time  sleep_time  new_session  session  \\\n",
       "38                     49416           0        False       19   \n",
       "144                   267192           0        False       85   \n",
       "192                   322056          14        False      110   \n",
       "209                   342365           0        False      120   \n",
       "335                   734931           0        False      206   \n",
       "...                      ...         ...          ...      ...   \n",
       "175391392           34781894           0        False     5025   \n",
       "175392106           37785150           0        False     5537   \n",
       "175392282           38661200           0        False     5708   \n",
       "175396793           13593365           0        False     3715   \n",
       "175397233           14809652           0        False     4070   \n",
       "\n",
       "           session_length  number_of_sessions  app_less_than_0_01_sessions  \\\n",
       "38                      4                2704                         True   \n",
       "144                     5                2704                         True   \n",
       "192                     4                2704                         True   \n",
       "209                     3                2704                         True   \n",
       "335                     5                  97                         True   \n",
       "...                   ...                 ...                          ...   \n",
       "175391392               3                 151                         True   \n",
       "175392106               4                 151                         True   \n",
       "175392282               5                 151                         True   \n",
       "175396793               3                  63                         True   \n",
       "175397233               3                  63                         True   \n",
       "\n",
       "           session_length_without_infrequent  app_more_than_0_01_sessions  \\\n",
       "38                                         3                        False   \n",
       "144                                        4                        False   \n",
       "192                                        3                        False   \n",
       "209                                        2                        False   \n",
       "335                                        3                        False   \n",
       "...                                      ...                          ...   \n",
       "175391392                                  2                        False   \n",
       "175392106                                  3                        False   \n",
       "175392282                                  3                        False   \n",
       "175396793                                  2                        False   \n",
       "175397233                                  2                        False   \n",
       "\n",
       "           group_of_infrequent_apps  max_group_of_infrequent_apps  \n",
       "38                                3                             3  \n",
       "144                               4                             4  \n",
       "192                               3                             3  \n",
       "209                               2                             2  \n",
       "335                               3                             3  \n",
       "...                             ...                           ...  \n",
       "175391392                         2                             2  \n",
       "175392106                         3                             3  \n",
       "175392282                         3                             3  \n",
       "175396793                         2                             2  \n",
       "175397233                         2                             2  \n",
       "\n",
       "[927495 rows x 19 columns]"
      ]
     },
     "execution_count": 39,
     "metadata": {},
     "output_type": "execute_result"
    }
   ],
   "source": [
    "data4[(data4.group_of_infrequent_apps==data4.max_group_of_infrequent_apps)&(data4.app_less_than_0_01_sessions)]"
   ]
  },
  {
   "cell_type": "code",
   "execution_count": 15,
   "metadata": {},
   "outputs": [],
   "source": [
    "data4=data4[(data4.group_of_infrequent_apps!=data4.max_group_of_infrequent_apps)|(data4.app_more_than_0_01_sessions)]"
   ]
  },
  {
   "cell_type": "code",
   "execution_count": 16,
   "metadata": {},
   "outputs": [],
   "source": [
    "data4=data4.drop(['group_of_infrequent_apps'],axis=1)"
   ]
  },
  {
   "cell_type": "markdown",
   "metadata": {},
   "source": [
    "We can now take a look at the updated number of sessions, and different apps."
   ]
  },
  {
   "cell_type": "code",
   "execution_count": 43,
   "metadata": {},
   "outputs": [
    {
     "name": "stdout",
     "output_type": "stream",
     "text": [
      "number of sessions:  54065611\n",
      "number of apps:  39868\n"
     ]
    }
   ],
   "source": [
    "print(\"number of sessions: \",data4.groupby(['user_id','session']).size().shape[0])\n",
    "print(\"number of apps: \",data4.groupby(['app_code']).size().shape[0])"
   ]
  },
  {
   "cell_type": "markdown",
   "metadata": {},
   "source": [
    "The length of the session are now recalculated, after the infrequent apps have been removed."
   ]
  },
  {
   "cell_type": "code",
   "execution_count": 23,
   "metadata": {},
   "outputs": [
    {
     "data": {
      "text/plain": [
       "True"
      ]
     },
     "execution_count": 23,
     "metadata": {},
     "output_type": "execute_result"
    }
   ],
   "source": [
    "176397139-993753-927495==data4.shape[0]"
   ]
  },
  {
   "cell_type": "code",
   "execution_count": 17,
   "metadata": {},
   "outputs": [],
   "source": [
    "data4=pd.merge(data4,(data4.groupby(['user_id','session']).agg({'app_code':'size'})).reset_index().rename(columns={'app_code':'session_length_updated'}),how='left',on=['user_id','session'])"
   ]
  },
  {
   "cell_type": "code",
   "execution_count": 30,
   "metadata": {},
   "outputs": [
    {
     "data": {
      "text/html": [
       "<div>\n",
       "<style scoped>\n",
       "    .dataframe tbody tr th:only-of-type {\n",
       "        vertical-align: middle;\n",
       "    }\n",
       "\n",
       "    .dataframe tbody tr th {\n",
       "        vertical-align: top;\n",
       "    }\n",
       "\n",
       "    .dataframe thead th {\n",
       "        text-align: right;\n",
       "    }\n",
       "</style>\n",
       "<table border=\"1\" class=\"dataframe\">\n",
       "  <thead>\n",
       "    <tr style=\"text-align: right;\">\n",
       "      <th></th>\n",
       "      <th>package_name</th>\n",
       "      <th>user_id</th>\n",
       "      <th>start_time</th>\n",
       "      <th>end_time</th>\n",
       "      <th>time_spend</th>\n",
       "      <th>app_code</th>\n",
       "      <th>sequence_number</th>\n",
       "      <th>sequence_Start_time</th>\n",
       "      <th>sequence_end_time</th>\n",
       "      <th>sleep_time</th>\n",
       "      <th>new_session</th>\n",
       "      <th>session</th>\n",
       "      <th>session_length</th>\n",
       "      <th>number_of_sessions</th>\n",
       "      <th>app_less_than_0_01_sessions</th>\n",
       "      <th>session_length_without_infrequent</th>\n",
       "      <th>app_more_than_0_01_sessions</th>\n",
       "      <th>group_of_infrequent_apps</th>\n",
       "      <th>max_group_of_infrequent_apps</th>\n",
       "      <th>session_length_updated</th>\n",
       "    </tr>\n",
       "  </thead>\n",
       "  <tbody>\n",
       "  </tbody>\n",
       "</table>\n",
       "</div>"
      ],
      "text/plain": [
       "Empty DataFrame\n",
       "Columns: [package_name, user_id, start_time, end_time, time_spend, app_code, sequence_number, sequence_Start_time, sequence_end_time, sleep_time, new_session, session, session_length, number_of_sessions, app_less_than_0_01_sessions, session_length_without_infrequent, app_more_than_0_01_sessions, group_of_infrequent_apps, max_group_of_infrequent_apps, session_length_updated]\n",
       "Index: []"
      ]
     },
     "execution_count": 30,
     "metadata": {},
     "output_type": "execute_result"
    }
   ],
   "source": [
    "data4[data4.session_length_updated==1]"
   ]
  },
  {
   "cell_type": "markdown",
   "metadata": {},
   "source": [
    "So there is no sessions which can be removed.\n",
    "In stead we now continue to remove infrequent apps by splitting sequences."
   ]
  },
  {
   "cell_type": "code",
   "execution_count": 34,
   "metadata": {},
   "outputs": [
    {
     "name": "stdout",
     "output_type": "stream",
     "text": [
      "Number of remaining infrequent apps: 2404252\n"
     ]
    }
   ],
   "source": [
    "print(\"Number of remaining infrequent apps:\",data4[data4.app_less_than_0_01_sessions].shape[0])"
   ]
  },
  {
   "cell_type": "code",
   "execution_count": 18,
   "metadata": {},
   "outputs": [],
   "source": [
    "data4['new_session']=(data4.new_session | data4.app_less_than_0_01_sessions)"
   ]
  },
  {
   "cell_type": "code",
   "execution_count": 19,
   "metadata": {},
   "outputs": [],
   "source": [
    "data4['updated_session']=data4.groupby(['user_id']).agg({'new_session':'cumsum'}).astype('int')"
   ]
  },
  {
   "cell_type": "markdown",
   "metadata": {},
   "source": [
    "again the session length must be recalculated."
   ]
  },
  {
   "cell_type": "code",
   "execution_count": 20,
   "metadata": {},
   "outputs": [],
   "source": [
    "data4=data4.drop(['session_length_updated'],axis=1)"
   ]
  },
  {
   "cell_type": "code",
   "execution_count": 22,
   "metadata": {},
   "outputs": [],
   "source": [
    "data4=data4.drop(['app_more_than_0_01_sessions'],axis=1)"
   ]
  },
  {
   "cell_type": "code",
   "execution_count": 25,
   "metadata": {},
   "outputs": [],
   "source": [
    "data4=data4.drop(['max_group_of_infrequent_apps'],axis=1)"
   ]
  },
  {
   "cell_type": "code",
   "execution_count": 27,
   "metadata": {},
   "outputs": [],
   "source": [
    "data4=data4.drop(['session_length_without_infrequent'],axis=1)"
   ]
  },
  {
   "cell_type": "code",
   "execution_count": 29,
   "metadata": {},
   "outputs": [],
   "source": [
    "data4=data4.drop(['session'],axis=1)"
   ]
  },
  {
   "cell_type": "code",
   "execution_count": 30,
   "metadata": {},
   "outputs": [
    {
     "data": {
      "text/plain": [
       "Index(['package_name', 'user_id', 'start_time', 'end_time', 'time_spend',\n",
       "       'app_code', 'sequence_number', 'sequence_Start_time',\n",
       "       'sequence_end_time', 'sleep_time', 'new_session', 'session_length',\n",
       "       'number_of_sessions', 'app_less_than_0_01_sessions', 'updated_session'],\n",
       "      dtype='object')"
      ]
     },
     "execution_count": 30,
     "metadata": {},
     "output_type": "execute_result"
    }
   ],
   "source": [
    "data4.columns"
   ]
  },
  {
   "cell_type": "code",
   "execution_count": 31,
   "metadata": {},
   "outputs": [],
   "source": [
    "data4=pd.merge(data4,(data4.groupby(['user_id','updated_session']).agg({'app_code':'size'})).reset_index().rename(columns={'app_code':'session_length_updated'}),how='left',on=['user_id','updated_session'])"
   ]
  },
  {
   "cell_type": "code",
   "execution_count": 32,
   "metadata": {},
   "outputs": [],
   "source": [
    "data4=data4[data4.session_length_updated>1]"
   ]
  },
  {
   "cell_type": "code",
   "execution_count": 33,
   "metadata": {},
   "outputs": [
    {
     "name": "stdout",
     "output_type": "stream",
     "text": [
      "Number of remaining infrequent apps: 2280885\n"
     ]
    }
   ],
   "source": [
    "print(\"Number of remaining infrequent apps:\",data4[data4.app_less_than_0_01_sessions].shape[0])"
   ]
  },
  {
   "cell_type": "markdown",
   "metadata": {},
   "source": [
    "The remaining infrequent apps can now be directly removed as a new session is started where they occure, and they therfore all are in the begining of a new session"
   ]
  },
  {
   "cell_type": "code",
   "execution_count": 48,
   "metadata": {},
   "outputs": [],
   "source": [
    "data4=data4[data4.app_less_than_0_01_sessions!=True]"
   ]
  },
  {
   "cell_type": "markdown",
   "metadata": {},
   "source": [
    "Again a new session length is neccessary to be calculated."
   ]
  },
  {
   "cell_type": "code",
   "execution_count": 50,
   "metadata": {},
   "outputs": [],
   "source": [
    "data4=data4.drop(['session_length_updated'],axis=1)"
   ]
  },
  {
   "cell_type": "code",
   "execution_count": 51,
   "metadata": {},
   "outputs": [],
   "source": [
    "data4=pd.merge(data4,(data4.groupby(['user_id','updated_session']).agg({'app_code':'size'})).reset_index().rename(columns={'app_code':'session_length_updated'}),how='left',on=['user_id','updated_session'])"
   ]
  },
  {
   "cell_type": "code",
   "execution_count": 54,
   "metadata": {},
   "outputs": [],
   "source": [
    "data4=data4[data4.session_length_updated>1]"
   ]
  },
  {
   "cell_type": "code",
   "execution_count": 56,
   "metadata": {},
   "outputs": [],
   "source": [
    "data4=data4.drop(['session_length'],axis=1)"
   ]
  },
  {
   "cell_type": "code",
   "execution_count": 57,
   "metadata": {},
   "outputs": [
    {
     "data": {
      "text/plain": [
       "Index(['package_name', 'user_id', 'start_time', 'end_time', 'time_spend',\n",
       "       'app_code', 'sequence_number', 'sequence_Start_time',\n",
       "       'sequence_end_time', 'sleep_time', 'new_session', 'number_of_sessions',\n",
       "       'app_less_than_0_01_sessions', 'updated_session',\n",
       "       'session_length_updated'],\n",
       "      dtype='object')"
      ]
     },
     "execution_count": 57,
     "metadata": {},
     "output_type": "execute_result"
    }
   ],
   "source": [
    "data4.columns"
   ]
  },
  {
   "cell_type": "code",
   "execution_count": null,
   "metadata": {},
   "outputs": [],
   "source": [
    "56412115#number of sessions\n",
    "60013#number of apps before"
   ]
  },
  {
   "cell_type": "code",
   "execution_count": 9,
   "metadata": {},
   "outputs": [],
   "source": [
    "apps_with_one_procent_support=app_in_n_sessions[app_in_n_sessions>=(56412115/100)].index.values"
   ]
  },
  {
   "cell_type": "code",
   "execution_count": 19,
   "metadata": {},
   "outputs": [
    {
     "data": {
      "text/plain": [
       "26"
      ]
     },
     "execution_count": 19,
     "metadata": {},
     "output_type": "execute_result"
    }
   ],
   "source": [
    "apps_with_one_procent_support.size"
   ]
  },
  {
   "cell_type": "code",
   "execution_count": 22,
   "metadata": {},
   "outputs": [
    {
     "data": {
      "text/plain": [
       "array([ 2259,  7421,  7649,  7653, 18676, 19968, 19973, 23906, 23909,\n",
       "       23947, 23949, 23967, 27441, 33357, 36529, 44880, 45246, 45260,\n",
       "       45261, 45264, 45284, 45329, 45846, 50519, 53003, 53996])"
      ]
     },
     "execution_count": 22,
     "metadata": {},
     "output_type": "execute_result"
    }
   ],
   "source": [
    "apps_with_one_procent_support"
   ]
  },
  {
   "cell_type": "code",
   "execution_count": 15,
   "metadata": {},
   "outputs": [],
   "source": [
    "data4['one_procent_support']=data4.app_code.apply(lambda l: l in apps_with_one_procent_support)"
   ]
  },
  {
   "cell_type": "code",
   "execution_count": null,
   "metadata": {},
   "outputs": [],
   "source": [
    "data4.groupby(['user_id','session']).one_procent_support.count().sum()"
   ]
  },
  {
   "cell_type": "code",
   "execution_count": 21,
   "metadata": {},
   "outputs": [
    {
     "data": {
      "text/plain": [
       "54294697"
      ]
     },
     "execution_count": 21,
     "metadata": {},
     "output_type": "execute_result"
    }
   ],
   "source": [
    "data4.groupby(['user_id','session']).one_procent_support.any().sum()"
   ]
  },
  {
   "cell_type": "code",
   "execution_count": 74,
   "metadata": {},
   "outputs": [
    {
     "data": {
      "text/plain": [
       "35.97819014585785"
      ]
     },
     "execution_count": 74,
     "metadata": {},
     "output_type": "execute_result"
    }
   ],
   "source": [
    "20296058/56412115*100"
   ]
  },
  {
   "cell_type": "code",
   "execution_count": 75,
   "metadata": {},
   "outputs": [
    {
     "data": {
      "text/plain": [
       "564121.15"
      ]
     },
     "execution_count": 75,
     "metadata": {},
     "output_type": "execute_result"
    }
   ],
   "source": [
    "56412115/100*1"
   ]
  },
  {
   "cell_type": "code",
   "execution_count": 61,
   "metadata": {},
   "outputs": [
    {
     "data": {
      "text/plain": [
       "app_code\n",
       "0         True\n",
       "1        False\n",
       "2         True\n",
       "3         True\n",
       "4         True\n",
       "         ...  \n",
       "67083     True\n",
       "67084     True\n",
       "67085     True\n",
       "67086     True\n",
       "67087     True\n",
       "Name: session, Length: 60013, dtype: bool"
      ]
     },
     "execution_count": 61,
     "metadata": {},
     "output_type": "execute_result"
    }
   ],
   "source": [
    "app_in_n_sessions<=56412115"
   ]
  },
  {
   "cell_type": "markdown",
   "metadata": {},
   "source": []
  }
 ],
 "metadata": {
  "kernelspec": {
   "display_name": "Python 3",
   "language": "python",
   "name": "python3"
  },
  "language_info": {
   "codemirror_mode": {
    "name": "ipython",
    "version": 3
   },
   "file_extension": ".py",
   "mimetype": "text/x-python",
   "name": "python",
   "nbconvert_exporter": "python",
   "pygments_lexer": "ipython3",
   "version": "3.8.5"
  }
 },
 "nbformat": 4,
 "nbformat_minor": 4
}
