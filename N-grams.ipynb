{
 "cells": [
  {
   "cell_type": "code",
   "execution_count": 1,
   "metadata": {},
   "outputs": [],
   "source": [
    "from sklearn.feature_extraction.text import CountVectorizer\n",
    "from spmf import Spmf\n",
    "import numpy as np\n",
    "import pandas as pd\n",
    "import os\n",
    "import re\n",
    "import matplotlib.pyplot as plt\n",
    "import ast\n",
    "pd.options.plotting.backend = \"plotly\"\n",
    "import plotly.express as px\n",
    "# from chart_studio import plotly\n",
    "from plotly.subplots import make_subplots\n",
    "import plotly.graph_objects as go\n",
    "import plotly.subplots as sp\n",
    "pd.options.display.max_colwidth = None\n",
    "pd.set_option('display.max_rows', 70)\n",
    "from pandas.plotting import table \n",
    "import nltk"
   ]
  },
  {
   "cell_type": "markdown",
   "metadata": {},
   "source": [
    "# N-grams\n",
    "In this notebook the frequent patterns will be investigated using a text analytical approach, centered around N-grams. This provide an alternative to using the frequent pattern mining algorithm VMSP.\n",
    "\n",
    "## Outline\n",
    "1. Full data set\\\n",
    "    1.1 0.75 %\n",
    "2. Data set with 70% coverage.\\\n",
    "    2.1 with merged repeating apps, after removal.\n",
    "3. Individual perspectiv\\\n",
    "    3.1 frequent apps"
   ]
  },
  {
   "cell_type": "markdown",
   "metadata": {},
   "source": [
    "## Full data set\n",
    "In the following we will start out by working with the full data set. The data set has already been divided into sessions based on a 293 seconds sleep time threshold, and any repeating apps have been merged. There are 76775122 sessions which in the following analysis each is represented as a document, containt a string of the apps package names which are seperated by whitespace."
   ]
  },
  {
   "cell_type": "code",
   "execution_count": 2,
   "metadata": {},
   "outputs": [],
   "source": [
    "data=pd.read_csv(\"sorted_coded_session_293s_merged.csv\")"
   ]
  },
  {
   "cell_type": "code",
   "execution_count": 3,
   "metadata": {},
   "outputs": [
    {
     "ename": "KeyboardInterrupt",
     "evalue": "",
     "output_type": "error",
     "traceback": [
      "\u001b[0;31m---------------------------------------------------------------------------\u001b[0m",
      "\u001b[0;31mKeyboardInterrupt\u001b[0m                         Traceback (most recent call last)",
      "\u001b[0;32m<ipython-input-3-e6287e991afe>\u001b[0m in \u001b[0;36m<module>\u001b[0;34m\u001b[0m\n\u001b[0;32m----> 1\u001b[0;31m \u001b[0muser_corpus\u001b[0m\u001b[0;34m=\u001b[0m\u001b[0mdata\u001b[0m\u001b[0;34m.\u001b[0m\u001b[0mgroupby\u001b[0m\u001b[0;34m(\u001b[0m\u001b[0;34m[\u001b[0m\u001b[0;34m'user_id'\u001b[0m\u001b[0;34m,\u001b[0m\u001b[0;34m'session'\u001b[0m\u001b[0;34m]\u001b[0m\u001b[0;34m)\u001b[0m\u001b[0;34m.\u001b[0m\u001b[0mpackage_name\u001b[0m\u001b[0;34m.\u001b[0m\u001b[0mapply\u001b[0m\u001b[0;34m(\u001b[0m\u001b[0;34m' '\u001b[0m\u001b[0;34m.\u001b[0m\u001b[0mjoin\u001b[0m\u001b[0;34m)\u001b[0m\u001b[0;34m\u001b[0m\u001b[0;34m\u001b[0m\u001b[0m\n\u001b[0m",
      "\u001b[0;32m~/.conda/envs/myenv/lib/python3.8/site-packages/pandas/core/groupby/generic.py\u001b[0m in \u001b[0;36mapply\u001b[0;34m(self, func, *args, **kwargs)\u001b[0m\n\u001b[1;32m    221\u001b[0m     )\n\u001b[1;32m    222\u001b[0m     \u001b[0;32mdef\u001b[0m \u001b[0mapply\u001b[0m\u001b[0;34m(\u001b[0m\u001b[0mself\u001b[0m\u001b[0;34m,\u001b[0m \u001b[0mfunc\u001b[0m\u001b[0;34m,\u001b[0m \u001b[0;34m*\u001b[0m\u001b[0margs\u001b[0m\u001b[0;34m,\u001b[0m \u001b[0;34m**\u001b[0m\u001b[0mkwargs\u001b[0m\u001b[0;34m)\u001b[0m\u001b[0;34m:\u001b[0m\u001b[0;34m\u001b[0m\u001b[0;34m\u001b[0m\u001b[0m\n\u001b[0;32m--> 223\u001b[0;31m         \u001b[0;32mreturn\u001b[0m \u001b[0msuper\u001b[0m\u001b[0;34m(\u001b[0m\u001b[0;34m)\u001b[0m\u001b[0;34m.\u001b[0m\u001b[0mapply\u001b[0m\u001b[0;34m(\u001b[0m\u001b[0mfunc\u001b[0m\u001b[0;34m,\u001b[0m \u001b[0;34m*\u001b[0m\u001b[0margs\u001b[0m\u001b[0;34m,\u001b[0m \u001b[0;34m**\u001b[0m\u001b[0mkwargs\u001b[0m\u001b[0;34m)\u001b[0m\u001b[0;34m\u001b[0m\u001b[0;34m\u001b[0m\u001b[0m\n\u001b[0m\u001b[1;32m    224\u001b[0m \u001b[0;34m\u001b[0m\u001b[0m\n\u001b[1;32m    225\u001b[0m     \u001b[0;34m@\u001b[0m\u001b[0mdoc\u001b[0m\u001b[0;34m(\u001b[0m\u001b[0m_agg_template\u001b[0m\u001b[0;34m,\u001b[0m \u001b[0mexamples\u001b[0m\u001b[0;34m=\u001b[0m\u001b[0m_agg_examples_doc\u001b[0m\u001b[0;34m,\u001b[0m \u001b[0mklass\u001b[0m\u001b[0;34m=\u001b[0m\u001b[0;34m\"Series\"\u001b[0m\u001b[0;34m)\u001b[0m\u001b[0;34m\u001b[0m\u001b[0;34m\u001b[0m\u001b[0m\n",
      "\u001b[0;32m~/.conda/envs/myenv/lib/python3.8/site-packages/pandas/core/groupby/groupby.py\u001b[0m in \u001b[0;36mapply\u001b[0;34m(self, func, *args, **kwargs)\u001b[0m\n\u001b[1;32m   1251\u001b[0m         \u001b[0;32mwith\u001b[0m \u001b[0moption_context\u001b[0m\u001b[0;34m(\u001b[0m\u001b[0;34m\"mode.chained_assignment\"\u001b[0m\u001b[0;34m,\u001b[0m \u001b[0;32mNone\u001b[0m\u001b[0;34m)\u001b[0m\u001b[0;34m:\u001b[0m\u001b[0;34m\u001b[0m\u001b[0;34m\u001b[0m\u001b[0m\n\u001b[1;32m   1252\u001b[0m             \u001b[0;32mtry\u001b[0m\u001b[0;34m:\u001b[0m\u001b[0;34m\u001b[0m\u001b[0;34m\u001b[0m\u001b[0m\n\u001b[0;32m-> 1253\u001b[0;31m                 \u001b[0mresult\u001b[0m \u001b[0;34m=\u001b[0m \u001b[0mself\u001b[0m\u001b[0;34m.\u001b[0m\u001b[0m_python_apply_general\u001b[0m\u001b[0;34m(\u001b[0m\u001b[0mf\u001b[0m\u001b[0;34m,\u001b[0m \u001b[0mself\u001b[0m\u001b[0;34m.\u001b[0m\u001b[0m_selected_obj\u001b[0m\u001b[0;34m)\u001b[0m\u001b[0;34m\u001b[0m\u001b[0;34m\u001b[0m\u001b[0m\n\u001b[0m\u001b[1;32m   1254\u001b[0m             \u001b[0;32mexcept\u001b[0m \u001b[0mTypeError\u001b[0m\u001b[0;34m:\u001b[0m\u001b[0;34m\u001b[0m\u001b[0;34m\u001b[0m\u001b[0m\n\u001b[1;32m   1255\u001b[0m                 \u001b[0;31m# gh-20949\u001b[0m\u001b[0;34m\u001b[0m\u001b[0;34m\u001b[0m\u001b[0;34m\u001b[0m\u001b[0m\n",
      "\u001b[0;32m~/.conda/envs/myenv/lib/python3.8/site-packages/pandas/core/groupby/groupby.py\u001b[0m in \u001b[0;36m_python_apply_general\u001b[0;34m(self, f, data)\u001b[0m\n\u001b[1;32m   1285\u001b[0m             \u001b[0mdata\u001b[0m \u001b[0mafter\u001b[0m \u001b[0mapplying\u001b[0m \u001b[0mf\u001b[0m\u001b[0;34m\u001b[0m\u001b[0;34m\u001b[0m\u001b[0m\n\u001b[1;32m   1286\u001b[0m         \"\"\"\n\u001b[0;32m-> 1287\u001b[0;31m         \u001b[0mkeys\u001b[0m\u001b[0;34m,\u001b[0m \u001b[0mvalues\u001b[0m\u001b[0;34m,\u001b[0m \u001b[0mmutated\u001b[0m \u001b[0;34m=\u001b[0m \u001b[0mself\u001b[0m\u001b[0;34m.\u001b[0m\u001b[0mgrouper\u001b[0m\u001b[0;34m.\u001b[0m\u001b[0mapply\u001b[0m\u001b[0;34m(\u001b[0m\u001b[0mf\u001b[0m\u001b[0;34m,\u001b[0m \u001b[0mdata\u001b[0m\u001b[0;34m,\u001b[0m \u001b[0mself\u001b[0m\u001b[0;34m.\u001b[0m\u001b[0maxis\u001b[0m\u001b[0;34m)\u001b[0m\u001b[0;34m\u001b[0m\u001b[0;34m\u001b[0m\u001b[0m\n\u001b[0m\u001b[1;32m   1288\u001b[0m \u001b[0;34m\u001b[0m\u001b[0m\n\u001b[1;32m   1289\u001b[0m         return self._wrap_applied_output(\n",
      "\u001b[0;32m~/.conda/envs/myenv/lib/python3.8/site-packages/pandas/core/groupby/ops.py\u001b[0m in \u001b[0;36mapply\u001b[0;34m(self, f, data, axis)\u001b[0m\n\u001b[1;32m    814\u001b[0m \u001b[0;34m\u001b[0m\u001b[0m\n\u001b[1;32m    815\u001b[0m         \u001b[0;32mfor\u001b[0m \u001b[0mkey\u001b[0m\u001b[0;34m,\u001b[0m \u001b[0mgroup\u001b[0m \u001b[0;32min\u001b[0m \u001b[0mzipped\u001b[0m\u001b[0;34m:\u001b[0m\u001b[0;34m\u001b[0m\u001b[0;34m\u001b[0m\u001b[0m\n\u001b[0;32m--> 816\u001b[0;31m             \u001b[0mobject\u001b[0m\u001b[0;34m.\u001b[0m\u001b[0m__setattr__\u001b[0m\u001b[0;34m(\u001b[0m\u001b[0mgroup\u001b[0m\u001b[0;34m,\u001b[0m \u001b[0;34m\"name\"\u001b[0m\u001b[0;34m,\u001b[0m \u001b[0mkey\u001b[0m\u001b[0;34m)\u001b[0m\u001b[0;34m\u001b[0m\u001b[0;34m\u001b[0m\u001b[0m\n\u001b[0m\u001b[1;32m    817\u001b[0m \u001b[0;34m\u001b[0m\u001b[0m\n\u001b[1;32m    818\u001b[0m             \u001b[0;31m# group might be modified\u001b[0m\u001b[0;34m\u001b[0m\u001b[0;34m\u001b[0m\u001b[0;34m\u001b[0m\u001b[0m\n",
      "\u001b[0;32m~/.conda/envs/myenv/lib/python3.8/site-packages/pandas/core/series.py\u001b[0m in \u001b[0;36mname\u001b[0;34m(self, value)\u001b[0m\n\u001b[1;32m    628\u001b[0m     \u001b[0;32mdef\u001b[0m \u001b[0mname\u001b[0m\u001b[0;34m(\u001b[0m\u001b[0mself\u001b[0m\u001b[0;34m,\u001b[0m \u001b[0mvalue\u001b[0m\u001b[0;34m:\u001b[0m \u001b[0mHashable\u001b[0m\u001b[0;34m)\u001b[0m \u001b[0;34m->\u001b[0m \u001b[0;32mNone\u001b[0m\u001b[0;34m:\u001b[0m\u001b[0;34m\u001b[0m\u001b[0;34m\u001b[0m\u001b[0m\n\u001b[1;32m    629\u001b[0m         \u001b[0mvalidate_all_hashable\u001b[0m\u001b[0;34m(\u001b[0m\u001b[0mvalue\u001b[0m\u001b[0;34m,\u001b[0m \u001b[0merror_name\u001b[0m\u001b[0;34m=\u001b[0m\u001b[0;34mf\"{type(self).__name__}.name\"\u001b[0m\u001b[0;34m)\u001b[0m\u001b[0;34m\u001b[0m\u001b[0;34m\u001b[0m\u001b[0m\n\u001b[0;32m--> 630\u001b[0;31m         \u001b[0mobject\u001b[0m\u001b[0;34m.\u001b[0m\u001b[0m__setattr__\u001b[0m\u001b[0;34m(\u001b[0m\u001b[0mself\u001b[0m\u001b[0;34m,\u001b[0m \u001b[0;34m\"_name\"\u001b[0m\u001b[0;34m,\u001b[0m \u001b[0mvalue\u001b[0m\u001b[0;34m)\u001b[0m\u001b[0;34m\u001b[0m\u001b[0;34m\u001b[0m\u001b[0m\n\u001b[0m\u001b[1;32m    631\u001b[0m \u001b[0;34m\u001b[0m\u001b[0m\n\u001b[1;32m    632\u001b[0m     \u001b[0;34m@\u001b[0m\u001b[0mproperty\u001b[0m\u001b[0;34m\u001b[0m\u001b[0;34m\u001b[0m\u001b[0m\n",
      "\u001b[0;31mKeyboardInterrupt\u001b[0m: "
     ]
    }
   ],
   "source": [
    "user_corpus=data.groupby(['user_id','session']).package_name.apply(' '.join)"
   ]
  },
  {
   "cell_type": "markdown",
   "metadata": {},
   "source": [
    "### Minimum frequency comparative to VMSP\n",
    "In the same way as the frequent pattern mining algorithm has the minimum support parameter, a minimum frequency will be used to filter the obtained patterns. In the following section the minimum frequency corresponds to 136450 occurences. This is the same number of seesions needed to obtain minimum support of 0.75 when running the VMSP on \"293sec_sessions_70_coverage_without_length_1.txt\""
   ]
  },
  {
   "cell_type": "markdown",
   "metadata": {},
   "source": [
    "#### 1-gram and frequent apps\n",
    "The first step is to take a look at the 1-grams, which corresponds to finding the frequent apps."
   ]
  },
  {
   "cell_type": "code",
   "execution_count": 147,
   "metadata": {},
   "outputs": [],
   "source": [
    "vectorizer = CountVectorizer(analyzer='word',tokenizer=lambda text: re.split(' ',text), ngram_range=(1,1))"
   ]
  },
  {
   "cell_type": "code",
   "execution_count": 148,
   "metadata": {},
   "outputs": [],
   "source": [
    "vectorization=vectorizer.fit_transform(user_corpus.values)"
   ]
  },
  {
   "cell_type": "code",
   "execution_count": 149,
   "metadata": {},
   "outputs": [
    {
     "data": {
      "text/plain": [
       "array(['bbc.mobile.news.uk', 'bbc.mobile.weather',\n",
       "       'co.uk.nationwide.mobile', 'com.accuweather.android',\n",
       "       'com.amazon.kindle', 'com.amazon.mp3',\n",
       "       'com.amazon.mshop.android.shopping', 'com.android.chrome',\n",
       "       'com.android.email', 'com.android.incallui', 'com.android.phone',\n",
       "       'com.audible.application',\n",
       "       'com.barclays.android.barclaysmobilebanking', 'com.bskyb.fbscore',\n",
       "       'com.bskyb.skynews.android', 'com.bskyb.sportnews',\n",
       "       'com.dailymail.online', 'com.discord', 'com.ebay.mobile',\n",
       "       'com.facebook.katana', 'com.facebook.orca',\n",
       "       'com.fitbit.fitbitmobile', 'com.google.android.apps.docs',\n",
       "       'com.google.android.apps.inbox', 'com.google.android.apps.maps',\n",
       "       'com.google.android.apps.messaging',\n",
       "       'com.google.android.apps.photos', 'com.google.android.calendar',\n",
       "       'com.google.android.gm', 'com.google.android.gms',\n",
       "       'com.google.android.googlequicksearchbox',\n",
       "       'com.google.android.keep', 'com.google.android.music',\n",
       "       'com.google.android.talk', 'com.google.android.youtube',\n",
       "       'com.grindrapp.android', 'com.grppl.android.shell.cmblloydstsb73',\n",
       "       'com.grppl.android.shell.halifax', 'com.guardian',\n",
       "       'com.imdb.mobile', 'com.instagram.android',\n",
       "       'com.king.candycrushsaga', 'com.king.candycrushsodasaga',\n",
       "       'com.linkedin.android', 'com.microsoft.office.outlook',\n",
       "       'com.mobisystems.office', 'com.myfitnesspal.android',\n",
       "       'com.netflix.mediaclient', 'com.nianticlabs.pokemongo',\n",
       "       'com.pinterest', 'com.pof.android',\n",
       "       'com.rbs.mobile.android.natwest', 'com.reddit.frontpage',\n",
       "       'com.samsung.android.email.provider',\n",
       "       'com.sec.android.app.sbrowser', 'com.skype.raider',\n",
       "       'com.snapchat.android',\n",
       "       'com.socialnmobile.dictapps.notepad.color.note',\n",
       "       'com.sony.nfx.app.sfrc', 'com.sonyericsson.album',\n",
       "       'com.sonyericsson.android.socialphonebook',\n",
       "       'com.sonyericsson.conversations', 'com.sonyericsson.music',\n",
       "       'com.sonyericsson.xhs', 'com.sonymobile.calendar',\n",
       "       'com.sonymobile.email', 'com.sonymobile.entrance',\n",
       "       'com.sonymobile.hostapp.everest', 'com.sonymobile.hostapp.swr30',\n",
       "       'com.sonymobile.smartconnect.hostapp.ellis',\n",
       "       'com.sonymobile.xperiaweather', 'com.spotify.music',\n",
       "       'com.supercell.clashofclans', 'com.supercell.clashroyale',\n",
       "       'com.tencent.mm', 'com.tinder', 'com.tumblr',\n",
       "       'com.twitter.android', 'com.viber.voip', 'com.whatsapp',\n",
       "       'com.yahoo.mobile.client.android.mail', 'com.zynga.wwf2.free',\n",
       "       'jp.naver.line.android', 'kik.android',\n",
       "       'uk.co.bbc.android.iplayerradio',\n",
       "       'uk.co.bbc.android.sportdomestic', 'uk.co.santander.santanderuk'],\n",
       "      dtype=object)"
      ]
     },
     "execution_count": 149,
     "metadata": {},
     "output_type": "execute_result"
    }
   ],
   "source": [
    "vectorizer.get_feature_names_out()[np.where((vectorization>0).sum(axis=0)>136450)[1]]"
   ]
  },
  {
   "cell_type": "code",
   "execution_count": 152,
   "metadata": {},
   "outputs": [
    {
     "name": "stdout",
     "output_type": "stream",
     "text": [
      "Number of frequent apps: 87\n"
     ]
    }
   ],
   "source": [
    "print(\"Number of frequent apps:\",vectorizer.get_feature_names_out()[np.where((vectorization>0).sum(axis=0)>136450)[1]].shape[0])"
   ]
  },
  {
   "cell_type": "markdown",
   "metadata": {},
   "source": [
    "Since we are here able to work with the full data set a 0.75 support percentage is not neccessarily the same."
   ]
  },
  {
   "cell_type": "markdown",
   "metadata": {},
   "source": [
    "### Minimum frequency of 0.75% of full data set"
   ]
  },
  {
   "cell_type": "code",
   "execution_count": 63,
   "metadata": {},
   "outputs": [
    {
     "name": "stdout",
     "output_type": "stream",
     "text": [
      "number of sessions: 76775122\n",
      "0.75% of sessions: 575813.415\n"
     ]
    }
   ],
   "source": [
    "print(\"number of sessions:\",user_corpus.shape[0])\n",
    "print(\"0.75% of sessions:\",user_corpus.shape[0]/100*0.75)"
   ]
  },
  {
   "cell_type": "markdown",
   "metadata": {},
   "source": [
    "#### 1-grams and frequent apps\n",
    "Since the 1-grams where already determined in the previous section, only the filtering needs to be updated to match the overall 0.75% minimum. Based on the above calculations, the minimum is determined to correspond to 575814 sessions."
   ]
  },
  {
   "cell_type": "code",
   "execution_count": 150,
   "metadata": {},
   "outputs": [
    {
     "data": {
      "text/plain": [
       "array(['bbc.mobile.news.uk', 'com.amazon.mshop.android.shopping',\n",
       "       'com.android.chrome', 'com.android.incallui', 'com.android.phone',\n",
       "       'com.ebay.mobile', 'com.facebook.katana', 'com.facebook.orca',\n",
       "       'com.google.android.apps.maps',\n",
       "       'com.google.android.apps.messaging', 'com.google.android.calendar',\n",
       "       'com.google.android.gm', 'com.google.android.googlequicksearchbox',\n",
       "       'com.google.android.youtube', 'com.instagram.android',\n",
       "       'com.microsoft.office.outlook', 'com.nianticlabs.pokemongo',\n",
       "       'com.snapchat.android', 'com.sony.nfx.app.sfrc',\n",
       "       'com.sonyericsson.album',\n",
       "       'com.sonyericsson.android.socialphonebook',\n",
       "       'com.sonyericsson.conversations', 'com.sonyericsson.music',\n",
       "       'com.sonymobile.calendar', 'com.sonymobile.email',\n",
       "       'com.spotify.music', 'com.twitter.android', 'com.whatsapp',\n",
       "       'com.yahoo.mobile.client.android.mail'], dtype=object)"
      ]
     },
     "execution_count": 150,
     "metadata": {},
     "output_type": "execute_result"
    }
   ],
   "source": [
    "vectorizer.get_feature_names_out()[np.where((vectorization>0).sum(axis=0)>575814)[1]]"
   ]
  },
  {
   "cell_type": "code",
   "execution_count": 153,
   "metadata": {},
   "outputs": [
    {
     "name": "stdout",
     "output_type": "stream",
     "text": [
      "Number of frequent apps: 29\n"
     ]
    }
   ],
   "source": [
    "print(\"Number of frequent apps:\",vectorizer.get_feature_names_out()[np.where((vectorization>0).sum(axis=0)>575814)[1]].shape[0])"
   ]
  },
  {
   "cell_type": "markdown",
   "metadata": {},
   "source": [
    "With 29 apps the number of found sessions are much lower, but also more comparable to the 25 frequenct apps found with VMSP. Furthermore almost all frequent apps found with VMSP are included."
   ]
  },
  {
   "cell_type": "markdown",
   "metadata": {},
   "source": [
    "#### 2-grams\n",
    "We now investigate which patterns of length two occrue with at least the minimum frequency."
   ]
  },
  {
   "cell_type": "code",
   "execution_count": 154,
   "metadata": {},
   "outputs": [],
   "source": [
    "vectorizer = CountVectorizer(analyzer='word',tokenizer=lambda text: re.split(' ',text), ngram_range=(2,2))"
   ]
  },
  {
   "cell_type": "code",
   "execution_count": 155,
   "metadata": {},
   "outputs": [],
   "source": [
    "vectorization=vectorizer.fit_transform(user_corpus.values)"
   ]
  },
  {
   "cell_type": "code",
   "execution_count": 158,
   "metadata": {},
   "outputs": [
    {
     "name": "stdout",
     "output_type": "stream",
     "text": [
      "Number of 2-grams: 29\n"
     ]
    }
   ],
   "source": [
    "print(\"Number of 2-grams:\",len(vectorizer.get_feature_names_out()[np.where((vectorization>0).sum(axis=0)>575814)[1]]))"
   ]
  },
  {
   "cell_type": "code",
   "execution_count": 160,
   "metadata": {},
   "outputs": [
    {
     "data": {
      "text/plain": [
       "array(['com.android.chrome com.facebook.katana',\n",
       "       'com.android.chrome com.google.android.googlequicksearchbox',\n",
       "       'com.android.chrome com.whatsapp',\n",
       "       'com.android.incallui com.sonyericsson.android.socialphonebook',\n",
       "       'com.facebook.katana com.android.chrome',\n",
       "       'com.facebook.katana com.facebook.orca',\n",
       "       'com.facebook.katana com.google.android.googlequicksearchbox',\n",
       "       'com.facebook.katana com.instagram.android',\n",
       "       'com.facebook.katana com.snapchat.android',\n",
       "       'com.facebook.katana com.sonyericsson.conversations',\n",
       "       'com.facebook.katana com.whatsapp',\n",
       "       'com.facebook.orca com.facebook.katana',\n",
       "       'com.google.android.gm com.android.chrome',\n",
       "       'com.google.android.googlequicksearchbox com.android.chrome',\n",
       "       'com.google.android.googlequicksearchbox com.facebook.katana',\n",
       "       'com.google.android.googlequicksearchbox com.whatsapp',\n",
       "       'com.instagram.android com.facebook.katana',\n",
       "       'com.instagram.android com.whatsapp',\n",
       "       'com.snapchat.android com.facebook.katana',\n",
       "       'com.sonyericsson.android.socialphonebook com.android.incallui',\n",
       "       'com.sonyericsson.conversations com.facebook.katana',\n",
       "       'com.sonyericsson.conversations com.whatsapp',\n",
       "       'com.sonymobile.email com.facebook.katana',\n",
       "       'com.whatsapp com.android.chrome',\n",
       "       'com.whatsapp com.facebook.katana',\n",
       "       'com.whatsapp com.facebook.orca',\n",
       "       'com.whatsapp com.google.android.googlequicksearchbox',\n",
       "       'com.whatsapp com.instagram.android',\n",
       "       'com.whatsapp com.sonyericsson.conversations'], dtype=object)"
      ]
     },
     "execution_count": 160,
     "metadata": {},
     "output_type": "execute_result"
    }
   ],
   "source": [
    "vectorizer.get_feature_names_out()[np.where((vectorization>0).sum(axis=0)>575814)[1]]"
   ]
  },
  {
   "cell_type": "markdown",
   "metadata": {},
   "source": [
    "As for the 1-grams we also here recongnise serveral of the patterns from the VMPS output."
   ]
  },
  {
   "cell_type": "markdown",
   "metadata": {},
   "source": [
    "#### 3-grams\n",
    "At last we look at the patterns of length 3"
   ]
  },
  {
   "cell_type": "code",
   "execution_count": 161,
   "metadata": {},
   "outputs": [],
   "source": [
    "vectorizer = CountVectorizer(analyzer='word',tokenizer=lambda text: re.split(' ',text), ngram_range=(3,3))\n",
    "vectorization=vectorizer.fit_transform(user_corpus.values)"
   ]
  },
  {
   "cell_type": "code",
   "execution_count": 162,
   "metadata": {},
   "outputs": [
    {
     "data": {
      "text/plain": [
       "array(['com.google.android.googlequicksearchbox com.android.chrome com.google.android.googlequicksearchbox',\n",
       "       'com.whatsapp com.facebook.katana com.whatsapp'], dtype=object)"
      ]
     },
     "execution_count": 162,
     "metadata": {},
     "output_type": "execute_result"
    }
   ],
   "source": [
    "vectorizer.get_feature_names_out()[np.where((vectorization>0).sum(axis=0)>575814)[1]]"
   ]
  },
  {
   "cell_type": "code",
   "execution_count": 163,
   "metadata": {},
   "outputs": [
    {
     "name": "stdout",
     "output_type": "stream",
     "text": [
      "Number of 3-grams: 2\n"
     ]
    }
   ],
   "source": [
    "print(\"Number of 3-grams:\",len(vectorizer.get_feature_names_out()[np.where((vectorization>0).sum(axis=0)>575814)[1]]))"
   ]
  },
  {
   "cell_type": "markdown",
   "metadata": {},
   "source": [
    "None of the patterns of length 3 were found with VMSP. Furthermore it is observed that for all 4 patterns, the apps in one patterns are similar in category."
   ]
  },
  {
   "cell_type": "markdown",
   "metadata": {},
   "source": [
    "#### 4-grams\n",
    "Below in can be seen that the data set does not contain any patterns of legnth four, so all frequent patterns has been found."
   ]
  },
  {
   "cell_type": "code",
   "execution_count": 164,
   "metadata": {},
   "outputs": [],
   "source": [
    "vectorizer = CountVectorizer(analyzer='word',tokenizer=lambda text: re.split(' ',text), ngram_range=(4,4))\n",
    "vectorization=vectorizer.fit_transform(user_corpus.values)"
   ]
  },
  {
   "cell_type": "code",
   "execution_count": 165,
   "metadata": {},
   "outputs": [
    {
     "data": {
      "text/plain": [
       "array([], dtype=object)"
      ]
     },
     "execution_count": 165,
     "metadata": {},
     "output_type": "execute_result"
    }
   ],
   "source": [
    "vectorizer.get_feature_names_out()[np.where((vectorization>0).sum(axis=0)>575814)[1]]"
   ]
  },
  {
   "cell_type": "code",
   "execution_count": 166,
   "metadata": {},
   "outputs": [
    {
     "name": "stdout",
     "output_type": "stream",
     "text": [
      "Number of 4-grams: 0\n"
     ]
    }
   ],
   "source": [
    "print(\"Number of 4-grams:\",len(vectorizer.get_feature_names_out()[np.where((vectorization>0).sum(axis=0)>575814)[1]]))"
   ]
  },
  {
   "cell_type": "markdown",
   "metadata": {},
   "source": [
    "## Data set with 70% individual coverage.\n",
    "For direct comparison the N-grams are found for the same data set as the VMSP was run on."
   ]
  },
  {
   "cell_type": "code",
   "execution_count": 167,
   "metadata": {},
   "outputs": [],
   "source": [
    "data_coverage_70=pd.read_csv(\"data_coverage_70.csv\")"
   ]
  },
  {
   "cell_type": "markdown",
   "metadata": {},
   "source": [
    "Since the VMSP was only running on sessions with more than one app, all sessions of length one is filtered out."
   ]
  },
  {
   "cell_type": "code",
   "execution_count": 168,
   "metadata": {},
   "outputs": [],
   "source": [
    "data_coverage_70_min_length_2=data_coverage_70[data_coverage_70.session_length>1]"
   ]
  },
  {
   "cell_type": "code",
   "execution_count": 169,
   "metadata": {},
   "outputs": [],
   "source": [
    "user_corpus_70=data_coverage_70_min_length_2.groupby(['user_id','session']).package_name.apply(' '.join)"
   ]
  },
  {
   "cell_type": "code",
   "execution_count": 170,
   "metadata": {},
   "outputs": [
    {
     "name": "stdout",
     "output_type": "stream",
     "text": [
      "Number of sessions: 18193255\n",
      "0.75% of sessions: 136449.41249999998\n"
     ]
    }
   ],
   "source": [
    "print(\"Number of sessions:\",user_corpus_70.shape[0])\n",
    "print(\"0.75% of sessions:\",user_corpus_70.shape[0]/100*0.75)"
   ]
  },
  {
   "cell_type": "markdown",
   "metadata": {},
   "source": [
    "### Frequent apps (1-gram)"
   ]
  },
  {
   "cell_type": "code",
   "execution_count": 142,
   "metadata": {},
   "outputs": [
    {
     "data": {
      "text/plain": [
       "array(['bbc.mobile.news.uk', 'com.android.chrome', 'com.android.incallui',\n",
       "       'com.ebay.mobile', 'com.facebook.katana', 'com.facebook.orca',\n",
       "       'com.google.android.apps.maps',\n",
       "       'com.google.android.apps.messaging', 'com.google.android.gm',\n",
       "       'com.google.android.googlequicksearchbox',\n",
       "       'com.google.android.youtube', 'com.instagram.android',\n",
       "       'com.microsoft.office.outlook', 'com.nianticlabs.pokemongo',\n",
       "       'com.snapchat.android', 'com.sonyericsson.album',\n",
       "       'com.sonyericsson.android.socialphonebook',\n",
       "       'com.sonyericsson.conversations', 'com.sonymobile.email',\n",
       "       'com.spotify.music', 'com.twitter.android', 'com.whatsapp',\n",
       "       'com.yahoo.mobile.client.android.mail'], dtype=object)"
      ]
     },
     "execution_count": 142,
     "metadata": {},
     "output_type": "execute_result"
    }
   ],
   "source": [
    "vectorizer = CountVectorizer(analyzer='word',tokenizer=lambda text: re.split(' ',text), ngram_range=(1,1))\n",
    "vectorization=vectorizer.fit_transform(user_corpus_70.values)\n",
    "vectorizer.get_feature_names_out()[np.where((vectorization>0).sum(axis=0)>=136450)[1]]"
   ]
  },
  {
   "cell_type": "code",
   "execution_count": 143,
   "metadata": {},
   "outputs": [
    {
     "name": "stdout",
     "output_type": "stream",
     "text": [
      "Number of frequent patterns: 23\n"
     ]
    }
   ],
   "source": [
    "print(\"Number of frequent patterns:\",len(vectorizer.get_feature_names_out()[np.where((vectorization>0).sum(axis=0)>=136450)[1]]))"
   ]
  },
  {
   "cell_type": "markdown",
   "metadata": {},
   "source": [
    "Here the same apps are found to be frequent as with VMSP."
   ]
  },
  {
   "cell_type": "markdown",
   "metadata": {},
   "source": [
    "### 2-grams"
   ]
  },
  {
   "cell_type": "code",
   "execution_count": 172,
   "metadata": {},
   "outputs": [
    {
     "data": {
      "text/plain": [
       "array(['com.android.chrome com.android.chrome',\n",
       "       'com.android.chrome com.facebook.katana',\n",
       "       'com.android.chrome com.facebook.orca',\n",
       "       'com.android.chrome com.google.android.googlequicksearchbox',\n",
       "       'com.android.chrome com.google.android.youtube',\n",
       "       'com.android.chrome com.instagram.android',\n",
       "       'com.android.chrome com.sonyericsson.conversations',\n",
       "       'com.android.chrome com.whatsapp',\n",
       "       'com.android.incallui com.android.incallui',\n",
       "       'com.facebook.katana com.android.chrome',\n",
       "       'com.facebook.katana com.facebook.katana',\n",
       "       'com.facebook.katana com.facebook.orca',\n",
       "       'com.facebook.katana com.instagram.android',\n",
       "       'com.facebook.katana com.sonyericsson.conversations',\n",
       "       'com.facebook.katana com.whatsapp',\n",
       "       'com.facebook.orca com.android.chrome',\n",
       "       'com.facebook.orca com.facebook.orca',\n",
       "       'com.google.android.gm com.google.android.gm',\n",
       "       'com.google.android.googlequicksearchbox com.android.chrome',\n",
       "       'com.google.android.googlequicksearchbox com.google.android.googlequicksearchbox',\n",
       "       'com.google.android.youtube com.google.android.youtube',\n",
       "       'com.instagram.android com.android.chrome',\n",
       "       'com.instagram.android com.facebook.katana',\n",
       "       'com.instagram.android com.instagram.android',\n",
       "       'com.instagram.android com.snapchat.android',\n",
       "       'com.instagram.android com.whatsapp',\n",
       "       'com.snapchat.android com.instagram.android',\n",
       "       'com.snapchat.android com.snapchat.android',\n",
       "       'com.sonyericsson.conversations com.android.chrome',\n",
       "       'com.sonyericsson.conversations com.sonyericsson.conversations',\n",
       "       'com.sonyericsson.conversations com.whatsapp',\n",
       "       'com.sonymobile.email com.sonymobile.email',\n",
       "       'com.spotify.music com.spotify.music',\n",
       "       'com.twitter.android com.twitter.android',\n",
       "       'com.whatsapp com.android.chrome',\n",
       "       'com.whatsapp com.facebook.katana',\n",
       "       'com.whatsapp com.instagram.android',\n",
       "       'com.whatsapp com.sonyericsson.conversations',\n",
       "       'com.whatsapp com.whatsapp'], dtype=object)"
      ]
     },
     "execution_count": 172,
     "metadata": {},
     "output_type": "execute_result"
    }
   ],
   "source": [
    "vectorizer = CountVectorizer(analyzer='word',tokenizer=lambda text: re.split(' ',text), ngram_range=(2,2))\n",
    "vectorization=vectorizer.fit_transform(user_corpus_70.values)\n",
    "vectorizer.get_feature_names_out()[np.where((vectorization>0).sum(axis=0)>=136450)[1]]"
   ]
  },
  {
   "cell_type": "code",
   "execution_count": 174,
   "metadata": {},
   "outputs": [
    {
     "name": "stdout",
     "output_type": "stream",
     "text": [
      "Number of frequent patterns: 39\n"
     ]
    }
   ],
   "source": [
    "print(\"Number of frequent patterns:\",len(vectorizer.get_feature_names_out()[np.where((vectorization>0).sum(axis=0)>=136450)[1]]))"
   ]
  },
  {
   "cell_type": "markdown",
   "metadata": {},
   "source": [
    "### 3-grams"
   ]
  },
  {
   "cell_type": "code",
   "execution_count": 175,
   "metadata": {},
   "outputs": [
    {
     "data": {
      "text/plain": [
       "array(['com.android.chrome com.android.chrome com.android.chrome',\n",
       "       'com.android.chrome com.whatsapp com.whatsapp',\n",
       "       'com.facebook.katana com.facebook.katana com.android.chrome',\n",
       "       'com.facebook.katana com.facebook.katana com.facebook.katana',\n",
       "       'com.facebook.orca com.facebook.orca com.facebook.orca',\n",
       "       'com.google.android.googlequicksearchbox com.android.chrome com.android.chrome',\n",
       "       'com.google.android.googlequicksearchbox com.google.android.googlequicksearchbox com.android.chrome',\n",
       "       'com.google.android.googlequicksearchbox com.google.android.googlequicksearchbox com.google.android.googlequicksearchbox',\n",
       "       'com.instagram.android com.instagram.android com.instagram.android',\n",
       "       'com.snapchat.android com.snapchat.android com.snapchat.android',\n",
       "       'com.sonyericsson.conversations com.sonyericsson.conversations com.sonyericsson.conversations',\n",
       "       'com.whatsapp com.whatsapp com.android.chrome',\n",
       "       'com.whatsapp com.whatsapp com.whatsapp'], dtype=object)"
      ]
     },
     "execution_count": 175,
     "metadata": {},
     "output_type": "execute_result"
    }
   ],
   "source": [
    "vectorizer = CountVectorizer(analyzer='word',tokenizer=lambda text: re.split(' ',text), ngram_range=(3,3))\n",
    "vectorization=vectorizer.fit_transform(user_corpus_70.values)\n",
    "vectorizer.get_feature_names_out()[np.where((vectorization>0).sum(axis=0)>=136450)[1]]"
   ]
  },
  {
   "cell_type": "code",
   "execution_count": 176,
   "metadata": {},
   "outputs": [
    {
     "name": "stdout",
     "output_type": "stream",
     "text": [
      "Number of frequent patterns: 13\n"
     ]
    }
   ],
   "source": [
    "print(\"Number of frequent patterns:\",len(vectorizer.get_feature_names_out()[np.where((vectorization>0).sum(axis=0)>=136450)[1]]))"
   ]
  },
  {
   "cell_type": "markdown",
   "metadata": {},
   "source": [
    "### 4-grams"
   ]
  },
  {
   "cell_type": "code",
   "execution_count": 179,
   "metadata": {},
   "outputs": [
    {
     "data": {
      "text/plain": [
       "array(['com.android.chrome com.android.chrome com.android.chrome com.android.chrome',\n",
       "       'com.facebook.katana com.facebook.katana com.facebook.katana com.facebook.katana',\n",
       "       'com.facebook.orca com.facebook.orca com.facebook.orca com.facebook.orca',\n",
       "       'com.google.android.googlequicksearchbox com.google.android.googlequicksearchbox com.android.chrome com.android.chrome',\n",
       "       'com.google.android.googlequicksearchbox com.google.android.googlequicksearchbox com.google.android.googlequicksearchbox com.google.android.googlequicksearchbox',\n",
       "       'com.sonyericsson.conversations com.sonyericsson.conversations com.sonyericsson.conversations com.sonyericsson.conversations',\n",
       "       'com.whatsapp com.whatsapp com.whatsapp com.whatsapp'],\n",
       "      dtype=object)"
      ]
     },
     "execution_count": 179,
     "metadata": {},
     "output_type": "execute_result"
    }
   ],
   "source": [
    "vectorizer = CountVectorizer(analyzer='word',tokenizer=lambda text: re.split(' ',text), ngram_range=(4,4))\n",
    "vectorization=vectorizer.fit_transform(user_corpus_70.values)\n",
    "vectorizer.get_feature_names_out()[np.where((vectorization>0).sum(axis=0)>=136450)[1]]"
   ]
  },
  {
   "cell_type": "code",
   "execution_count": 180,
   "metadata": {},
   "outputs": [
    {
     "name": "stdout",
     "output_type": "stream",
     "text": [
      "Number of frequent patterns: 7\n"
     ]
    }
   ],
   "source": [
    "print(\"Number of frequent patterns:\",len(vectorizer.get_feature_names_out()[np.where((vectorization>0).sum(axis=0)>=136450)[1]]))"
   ]
  },
  {
   "cell_type": "markdown",
   "metadata": {},
   "source": [
    "### 5.grams"
   ]
  },
  {
   "cell_type": "code",
   "execution_count": 181,
   "metadata": {},
   "outputs": [
    {
     "data": {
      "text/plain": [
       "array(['com.whatsapp com.whatsapp com.whatsapp com.whatsapp com.whatsapp'],\n",
       "      dtype=object)"
      ]
     },
     "execution_count": 181,
     "metadata": {},
     "output_type": "execute_result"
    }
   ],
   "source": [
    "vectorizer = CountVectorizer(analyzer='word',tokenizer=lambda text: re.split(' ',text), ngram_range=(5,5))\n",
    "vectorization=vectorizer.fit_transform(user_corpus_70.values)\n",
    "vectorizer.get_feature_names_out()[np.where((vectorization>0).sum(axis=0)>=136450)[1]]"
   ]
  },
  {
   "cell_type": "code",
   "execution_count": 182,
   "metadata": {},
   "outputs": [
    {
     "name": "stdout",
     "output_type": "stream",
     "text": [
      "Number of frequent patterns: 1\n"
     ]
    }
   ],
   "source": [
    "print(\"Number of frequent patterns:\",len(vectorizer.get_feature_names_out()[np.where((vectorization>0).sum(axis=0)>=136450)[1]]))"
   ]
  },
  {
   "cell_type": "markdown",
   "metadata": {},
   "source": [
    "### 6-grams"
   ]
  },
  {
   "cell_type": "code",
   "execution_count": 183,
   "metadata": {},
   "outputs": [
    {
     "data": {
      "text/plain": [
       "array([], dtype=object)"
      ]
     },
     "execution_count": 183,
     "metadata": {},
     "output_type": "execute_result"
    }
   ],
   "source": [
    "vectorizer = CountVectorizer(analyzer='word',tokenizer=lambda text: re.split(' ',text), ngram_range=(6,6))\n",
    "vectorization=vectorizer.fit_transform(user_corpus_70.values)\n",
    "vectorizer.get_feature_names_out()[np.where((vectorization>0).sum(axis=0)>=136450)[1]]"
   ]
  },
  {
   "cell_type": "code",
   "execution_count": 184,
   "metadata": {},
   "outputs": [
    {
     "name": "stdout",
     "output_type": "stream",
     "text": [
      "Number of frequent patterns: 0\n"
     ]
    }
   ],
   "source": [
    "print(\"Number of frequent patterns:\",len(vectorizer.get_feature_names_out()[np.where((vectorization>0).sum(axis=0)>=136450)[1]]))"
   ]
  },
  {
   "cell_type": "markdown",
   "metadata": {},
   "source": [
    "### Mereged repeating apps"
   ]
  },
  {
   "cell_type": "code",
   "execution_count": 187,
   "metadata": {},
   "outputs": [],
   "source": [
    "data_coverage_70[\"previous_app_code\"]=data_coverage_70.groupby([\"user_id\",\"session\"]).app_code.shift(1)\n",
    "data_merge=data_coverage_70.copy()\n",
    "data_merge=data_merge[(data_merge.previous_app_code==data_merge.app_code) | (data_merge.app_code==data_merge.groupby(['user_id','session']).app_code.shift(-1))]\n",
    "data_merge['new_event'] = data_merge.previous_app_code!=data_merge.app_code\n",
    "data_merge['event'] = data_merge.groupby(['user_id','session']).new_event.cumsum().astype('int')"
   ]
  },
  {
   "cell_type": "code",
   "execution_count": 189,
   "metadata": {},
   "outputs": [],
   "source": [
    "data2_grouped = data_merge.groupby(['user_id', 'session','event']).agg({'end_time':'max'})\n",
    "\n",
    "data2_grouped = data2_grouped.reset_index()\n",
    "\n",
    "data2_grouped = data2_grouped.rename(columns={'end_time':'event_end_time'})\n",
    "\n",
    "data3 = pd.merge(data_merge, data2_grouped, how='left', on=['user_id', 'session','event'])\n",
    "\n",
    "data3 = data3[data3['end_time'] == data3['event_end_time']]\n",
    "\n",
    "#because in the same event more apps can be closed at once.\n",
    "data3=data3.drop_duplicates(subset=['user_id', 'session','event'], keep='last')\n",
    "max_index=data_merge.iloc[data3.index].index"
   ]
  },
  {
   "cell_type": "code",
   "execution_count": 190,
   "metadata": {},
   "outputs": [],
   "source": [
    "data2_grouped = data_merge.groupby(['user_id', 'session','event']).agg({'start_time':'min'})\n",
    "\n",
    "data2_grouped = data2_grouped.reset_index()\n",
    "\n",
    "data2_grouped = data2_grouped.rename(columns={'start_time':'event_start_time'})\n",
    "\n",
    "data3 = pd.merge(data_merge, data2_grouped, how='left', on=['user_id', 'session','event'])\n",
    "\n",
    "data3 = data3[data3['start_time'] == data3['event_start_time']]\n",
    "\n",
    "#because in the same event more apps can be opened at once.\n",
    "data3=data3.drop_duplicates(subset=['user_id', 'session','event'], keep='last')\n",
    "min_index=data_merge.iloc[data3.index].index"
   ]
  },
  {
   "cell_type": "code",
   "execution_count": 192,
   "metadata": {},
   "outputs": [
    {
     "data": {
      "text/plain": [
       "True"
      ]
     },
     "execution_count": 192,
     "metadata": {},
     "output_type": "execute_result"
    }
   ],
   "source": [
    "data3=data_coverage_70.copy()\n",
    "data3.loc[max_index,\"start_time\"]=data3.loc[min_index].set_index(max_index).start_time\n",
    "data3=data3.drop(set(data_merge.index)-set(max_index))\n",
    "len(data_coverage_70.index)-(len(data_merge.index)-len(max_index))==len(data3.index)"
   ]
  },
  {
   "cell_type": "code",
   "execution_count": 193,
   "metadata": {},
   "outputs": [],
   "source": [
    "data3['time_spend']=data3['end_time']-data3['start_time']\n",
    "data3=data3.drop('previous_app_code',axis=1)\n",
    "data3['sleep_time']=data3.start_time-data3.sequence_end_time.shift(1,fill_value=0)\n",
    "data3.loc[data3[data3['sleep_time']<0].index,'sleep_time']=0\n",
    "data3=data3.reset_index(drop=True)"
   ]
  },
  {
   "cell_type": "code",
   "execution_count": 194,
   "metadata": {},
   "outputs": [],
   "source": [
    "data3.to_csv(\"70_coverage_merged.csv\",index=False)"
   ]
  },
  {
   "cell_type": "code",
   "execution_count": 195,
   "metadata": {},
   "outputs": [],
   "source": [
    "data3=data3[data3.session_length>1]"
   ]
  },
  {
   "cell_type": "code",
   "execution_count": 196,
   "metadata": {},
   "outputs": [],
   "source": [
    "user_corpus_70=data3.groupby(['user_id','session']).package_name.apply(' '.join)"
   ]
  },
  {
   "cell_type": "code",
   "execution_count": 197,
   "metadata": {},
   "outputs": [
    {
     "name": "stdout",
     "output_type": "stream",
     "text": [
      "Number of sessions: 18193255\n",
      "0.75% of sessions: 136449.41249999998\n"
     ]
    }
   ],
   "source": [
    "print(\"Number of sessions:\",user_corpus_70.shape[0])\n",
    "print(\"0.75% of sessions:\",user_corpus_70.shape[0]/100*0.75)"
   ]
  },
  {
   "cell_type": "markdown",
   "metadata": {},
   "source": [
    "#### 1-grams"
   ]
  },
  {
   "cell_type": "code",
   "execution_count": 199,
   "metadata": {},
   "outputs": [
    {
     "data": {
      "text/plain": [
       "array(['bbc.mobile.news.uk', 'com.android.chrome', 'com.android.incallui',\n",
       "       'com.ebay.mobile', 'com.facebook.katana', 'com.facebook.orca',\n",
       "       'com.google.android.apps.maps',\n",
       "       'com.google.android.apps.messaging', 'com.google.android.gm',\n",
       "       'com.google.android.googlequicksearchbox',\n",
       "       'com.google.android.youtube', 'com.instagram.android',\n",
       "       'com.microsoft.office.outlook', 'com.nianticlabs.pokemongo',\n",
       "       'com.snapchat.android', 'com.sonyericsson.album',\n",
       "       'com.sonyericsson.android.socialphonebook',\n",
       "       'com.sonyericsson.conversations', 'com.sonymobile.email',\n",
       "       'com.spotify.music', 'com.twitter.android', 'com.whatsapp',\n",
       "       'com.yahoo.mobile.client.android.mail'], dtype=object)"
      ]
     },
     "execution_count": 199,
     "metadata": {},
     "output_type": "execute_result"
    }
   ],
   "source": [
    "vectorizer = CountVectorizer(analyzer='word',tokenizer=lambda text: re.split(' ',text), ngram_range=(1,1))\n",
    "vectorization=vectorizer.fit_transform(user_corpus_70.values)\n",
    "vectorizer.get_feature_names_out()[np.where((vectorization>0).sum(axis=0)>=136450)[1]]"
   ]
  },
  {
   "cell_type": "code",
   "execution_count": 200,
   "metadata": {},
   "outputs": [
    {
     "name": "stdout",
     "output_type": "stream",
     "text": [
      "Number of frequent patterns: 23\n"
     ]
    }
   ],
   "source": [
    "print(\"Number of frequent patterns:\",len(vectorizer.get_feature_names_out()[np.where((vectorization>0).sum(axis=0)>=136450)[1]]))"
   ]
  },
  {
   "cell_type": "code",
   "execution_count": 201,
   "metadata": {},
   "outputs": [
    {
     "data": {
      "text/plain": [
       "array(['com.android.chrome com.facebook.katana',\n",
       "       'com.android.chrome com.facebook.orca',\n",
       "       'com.android.chrome com.google.android.googlequicksearchbox',\n",
       "       'com.android.chrome com.google.android.youtube',\n",
       "       'com.android.chrome com.instagram.android',\n",
       "       'com.android.chrome com.sonyericsson.conversations',\n",
       "       'com.android.chrome com.whatsapp',\n",
       "       'com.facebook.katana com.android.chrome',\n",
       "       'com.facebook.katana com.facebook.orca',\n",
       "       'com.facebook.katana com.instagram.android',\n",
       "       'com.facebook.katana com.sonyericsson.conversations',\n",
       "       'com.facebook.katana com.whatsapp',\n",
       "       'com.facebook.orca com.android.chrome',\n",
       "       'com.google.android.googlequicksearchbox com.android.chrome',\n",
       "       'com.instagram.android com.android.chrome',\n",
       "       'com.instagram.android com.facebook.katana',\n",
       "       'com.instagram.android com.snapchat.android',\n",
       "       'com.instagram.android com.whatsapp',\n",
       "       'com.snapchat.android com.instagram.android',\n",
       "       'com.sonyericsson.conversations com.android.chrome',\n",
       "       'com.sonyericsson.conversations com.whatsapp',\n",
       "       'com.whatsapp com.android.chrome',\n",
       "       'com.whatsapp com.facebook.katana',\n",
       "       'com.whatsapp com.instagram.android',\n",
       "       'com.whatsapp com.sonyericsson.conversations'], dtype=object)"
      ]
     },
     "execution_count": 201,
     "metadata": {},
     "output_type": "execute_result"
    }
   ],
   "source": [
    "vectorizer = CountVectorizer(analyzer='word',tokenizer=lambda text: re.split(' ',text), ngram_range=(2,2))\n",
    "vectorization=vectorizer.fit_transform(user_corpus_70.values)\n",
    "vectorizer.get_feature_names_out()[np.where((vectorization>0).sum(axis=0)>=136450)[1]]"
   ]
  },
  {
   "cell_type": "code",
   "execution_count": 202,
   "metadata": {},
   "outputs": [
    {
     "name": "stdout",
     "output_type": "stream",
     "text": [
      "Number of frequent patterns: 25\n"
     ]
    }
   ],
   "source": [
    "print(\"Number of frequent patterns:\",len(vectorizer.get_feature_names_out()[np.where((vectorization>0).sum(axis=0)>=136450)[1]]))"
   ]
  },
  {
   "cell_type": "code",
   "execution_count": 203,
   "metadata": {},
   "outputs": [
    {
     "data": {
      "text/plain": [
       "array([], dtype=object)"
      ]
     },
     "execution_count": 203,
     "metadata": {},
     "output_type": "execute_result"
    }
   ],
   "source": [
    "vectorizer = CountVectorizer(analyzer='word',tokenizer=lambda text: re.split(' ',text), ngram_range=(3,3))\n",
    "vectorization=vectorizer.fit_transform(user_corpus_70.values)\n",
    "vectorizer.get_feature_names_out()[np.where((vectorization>0).sum(axis=0)>=136450)[1]]"
   ]
  },
  {
   "cell_type": "code",
   "execution_count": 204,
   "metadata": {},
   "outputs": [
    {
     "name": "stdout",
     "output_type": "stream",
     "text": [
      "Number of frequent patterns: 0\n"
     ]
    }
   ],
   "source": [
    "print(\"Number of frequent patterns:\",len(vectorizer.get_feature_names_out()[np.where((vectorization>0).sum(axis=0)>=136450)[1]]))"
   ]
  },
  {
   "cell_type": "markdown",
   "metadata": {},
   "source": [
    "# Individual perspective\n",
    "In this section the individual users usage is compared with the overall persepctive.\n",
    "## Frequently used apps\n",
    "Initially we take a closer look at the frequent apps found as the 1-grams for the whole data set which occur in at least 0.75%."
   ]
  },
  {
   "cell_type": "code",
   "execution_count": null,
   "metadata": {},
   "outputs": [],
   "source": []
  }
 ],
 "metadata": {
  "kernelspec": {
   "display_name": "Python 3",
   "language": "python",
   "name": "python3"
  },
  "language_info": {
   "codemirror_mode": {
    "name": "ipython",
    "version": 3
   },
   "file_extension": ".py",
   "mimetype": "text/x-python",
   "name": "python",
   "nbconvert_exporter": "python",
   "pygments_lexer": "ipython3",
   "version": "3.8.5"
  }
 },
 "nbformat": 4,
 "nbformat_minor": 4
}
