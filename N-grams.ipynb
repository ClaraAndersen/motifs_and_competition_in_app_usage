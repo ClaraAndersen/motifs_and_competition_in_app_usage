{
 "cells": [
  {
   "cell_type": "code",
   "execution_count": 1,
   "metadata": {},
   "outputs": [],
   "source": [
    "from sklearn.feature_extraction.text import CountVectorizer\n",
    "from spmf import Spmf\n",
    "import numpy as np\n",
    "import pandas as pd\n",
    "import os\n",
    "import re\n",
    "import matplotlib.pyplot as plt\n",
    "import ast\n",
    "pd.options.plotting.backend = \"plotly\"\n",
    "import plotly.express as px\n",
    "# from chart_studio import plotly\n",
    "from plotly.subplots import make_subplots\n",
    "import plotly.graph_objects as go\n",
    "import plotly.subplots as sp\n",
    "pd.options.display.max_colwidth = None\n",
    "pd.set_option('display.max_rows', 70)\n",
    "from pandas.plotting import table \n",
    "import nltk"
   ]
  },
  {
   "cell_type": "markdown",
   "metadata": {},
   "source": [
    "# N-grams\n",
    "In this notebook the frequent patterns will be investigated using a text analytical approach, centered around N-grams. This provide an alternative to using the frequent pattern mining algorithm VMSP.\n",
    "\n",
    "## Outline\n",
    "1. Full data set\\\n",
    "    1.1 0.75 %\n",
    "2. Data set with 70% coverage.\\\n",
    "    2.1 with merged repeating apps, after removal.\n",
    "3. Individual perspectiv\\\n",
    "    3.1 frequent apps"
   ]
  },
  {
   "cell_type": "markdown",
   "metadata": {},
   "source": [
    "## Full data set\n",
    "In the following we will start out by working with the full data set. The data set has already been divided into sessions based on a 293 seconds sleep time threshold, and any repeating apps have been merged. There are 76775122 sessions which in the following analysis each is represented as a document, containt a string of the apps package names which are seperated by whitespace."
   ]
  },
  {
   "cell_type": "code",
   "execution_count": 2,
   "metadata": {},
   "outputs": [],
   "source": [
    "data=pd.read_csv(\"sorted_coded_session_293s_merged.csv\")"
   ]
  },
  {
   "cell_type": "code",
   "execution_count": 3,
   "metadata": {},
   "outputs": [],
   "source": [
    "user_corpus=data.groupby(['user_id','session']).package_name.apply(' '.join)"
   ]
  },
  {
   "cell_type": "markdown",
   "metadata": {},
   "source": [
    "### Minimum frequency comparative to VMSP\n",
    "In the same way as the frequent pattern mining algorithm has the minimum support parameter, a minimum frequency will be used to filter the obtained patterns. In the following section the minimum frequency corresponds to 136450 occurences. This is the same number of seesions needed to obtain minimum support of 0.75 when running the VMSP on \"293sec_sessions_70_coverage_without_length_1.txt\""
   ]
  },
  {
   "cell_type": "markdown",
   "metadata": {},
   "source": [
    "#### 1-gram and frequent apps\n",
    "The first step is to take a look at the 1-grams, which corresponds to finding the frequent apps."
   ]
  },
  {
   "cell_type": "code",
   "execution_count": 4,
   "metadata": {},
   "outputs": [],
   "source": [
    "vectorizer = CountVectorizer(analyzer='word',tokenizer=lambda text: re.split(' ',text), ngram_range=(1,1))"
   ]
  },
  {
   "cell_type": "code",
   "execution_count": 5,
   "metadata": {},
   "outputs": [],
   "source": [
    "vectorization=vectorizer.fit_transform(user_corpus.values)"
   ]
  },
  {
   "cell_type": "code",
   "execution_count": 149,
   "metadata": {},
   "outputs": [
    {
     "data": {
      "text/plain": [
       "array(['bbc.mobile.news.uk', 'bbc.mobile.weather',\n",
       "       'co.uk.nationwide.mobile', 'com.accuweather.android',\n",
       "       'com.amazon.kindle', 'com.amazon.mp3',\n",
       "       'com.amazon.mshop.android.shopping', 'com.android.chrome',\n",
       "       'com.android.email', 'com.android.incallui', 'com.android.phone',\n",
       "       'com.audible.application',\n",
       "       'com.barclays.android.barclaysmobilebanking', 'com.bskyb.fbscore',\n",
       "       'com.bskyb.skynews.android', 'com.bskyb.sportnews',\n",
       "       'com.dailymail.online', 'com.discord', 'com.ebay.mobile',\n",
       "       'com.facebook.katana', 'com.facebook.orca',\n",
       "       'com.fitbit.fitbitmobile', 'com.google.android.apps.docs',\n",
       "       'com.google.android.apps.inbox', 'com.google.android.apps.maps',\n",
       "       'com.google.android.apps.messaging',\n",
       "       'com.google.android.apps.photos', 'com.google.android.calendar',\n",
       "       'com.google.android.gm', 'com.google.android.gms',\n",
       "       'com.google.android.googlequicksearchbox',\n",
       "       'com.google.android.keep', 'com.google.android.music',\n",
       "       'com.google.android.talk', 'com.google.android.youtube',\n",
       "       'com.grindrapp.android', 'com.grppl.android.shell.cmblloydstsb73',\n",
       "       'com.grppl.android.shell.halifax', 'com.guardian',\n",
       "       'com.imdb.mobile', 'com.instagram.android',\n",
       "       'com.king.candycrushsaga', 'com.king.candycrushsodasaga',\n",
       "       'com.linkedin.android', 'com.microsoft.office.outlook',\n",
       "       'com.mobisystems.office', 'com.myfitnesspal.android',\n",
       "       'com.netflix.mediaclient', 'com.nianticlabs.pokemongo',\n",
       "       'com.pinterest', 'com.pof.android',\n",
       "       'com.rbs.mobile.android.natwest', 'com.reddit.frontpage',\n",
       "       'com.samsung.android.email.provider',\n",
       "       'com.sec.android.app.sbrowser', 'com.skype.raider',\n",
       "       'com.snapchat.android',\n",
       "       'com.socialnmobile.dictapps.notepad.color.note',\n",
       "       'com.sony.nfx.app.sfrc', 'com.sonyericsson.album',\n",
       "       'com.sonyericsson.android.socialphonebook',\n",
       "       'com.sonyericsson.conversations', 'com.sonyericsson.music',\n",
       "       'com.sonyericsson.xhs', 'com.sonymobile.calendar',\n",
       "       'com.sonymobile.email', 'com.sonymobile.entrance',\n",
       "       'com.sonymobile.hostapp.everest', 'com.sonymobile.hostapp.swr30',\n",
       "       'com.sonymobile.smartconnect.hostapp.ellis',\n",
       "       'com.sonymobile.xperiaweather', 'com.spotify.music',\n",
       "       'com.supercell.clashofclans', 'com.supercell.clashroyale',\n",
       "       'com.tencent.mm', 'com.tinder', 'com.tumblr',\n",
       "       'com.twitter.android', 'com.viber.voip', 'com.whatsapp',\n",
       "       'com.yahoo.mobile.client.android.mail', 'com.zynga.wwf2.free',\n",
       "       'jp.naver.line.android', 'kik.android',\n",
       "       'uk.co.bbc.android.iplayerradio',\n",
       "       'uk.co.bbc.android.sportdomestic', 'uk.co.santander.santanderuk'],\n",
       "      dtype=object)"
      ]
     },
     "execution_count": 149,
     "metadata": {},
     "output_type": "execute_result"
    }
   ],
   "source": [
    "vectorizer.get_feature_names_out()[np.where((vectorization>0).sum(axis=0)>136450)[1]]"
   ]
  },
  {
   "cell_type": "code",
   "execution_count": 152,
   "metadata": {},
   "outputs": [
    {
     "name": "stdout",
     "output_type": "stream",
     "text": [
      "Number of frequent apps: 87\n"
     ]
    }
   ],
   "source": [
    "print(\"Number of frequent apps:\",vectorizer.get_feature_names_out()[np.where((vectorization>0).sum(axis=0)>136450)[1]].shape[0])"
   ]
  },
  {
   "cell_type": "markdown",
   "metadata": {},
   "source": [
    "Since we are here able to work with the full data set a 0.75 support percentage is not neccessarily the same."
   ]
  },
  {
   "cell_type": "markdown",
   "metadata": {},
   "source": [
    "### Minimum frequency of 0.75% of full data set"
   ]
  },
  {
   "cell_type": "code",
   "execution_count": 63,
   "metadata": {},
   "outputs": [
    {
     "name": "stdout",
     "output_type": "stream",
     "text": [
      "number of sessions: 76775122\n",
      "0.75% of sessions: 575813.415\n"
     ]
    }
   ],
   "source": [
    "print(\"number of sessions:\",user_corpus.shape[0])\n",
    "print(\"0.75% of sessions:\",user_corpus.shape[0]/100*0.75)"
   ]
  },
  {
   "cell_type": "markdown",
   "metadata": {},
   "source": [
    "#### 1-grams and frequent apps\n",
    "Since the 1-grams where already determined in the previous section, only the filtering needs to be updated to match the overall 0.75% minimum. Based on the above calculations, the minimum is determined to correspond to 575814 sessions."
   ]
  },
  {
   "cell_type": "code",
   "execution_count": 6,
   "metadata": {},
   "outputs": [
    {
     "data": {
      "text/plain": [
       "array(['bbc.mobile.news.uk', 'com.amazon.mshop.android.shopping',\n",
       "       'com.android.chrome', 'com.android.incallui', 'com.android.phone',\n",
       "       'com.ebay.mobile', 'com.facebook.katana', 'com.facebook.orca',\n",
       "       'com.google.android.apps.maps',\n",
       "       'com.google.android.apps.messaging', 'com.google.android.calendar',\n",
       "       'com.google.android.gm', 'com.google.android.googlequicksearchbox',\n",
       "       'com.google.android.youtube', 'com.instagram.android',\n",
       "       'com.microsoft.office.outlook', 'com.nianticlabs.pokemongo',\n",
       "       'com.snapchat.android', 'com.sony.nfx.app.sfrc',\n",
       "       'com.sonyericsson.album',\n",
       "       'com.sonyericsson.android.socialphonebook',\n",
       "       'com.sonyericsson.conversations', 'com.sonyericsson.music',\n",
       "       'com.sonymobile.calendar', 'com.sonymobile.email',\n",
       "       'com.spotify.music', 'com.twitter.android', 'com.whatsapp',\n",
       "       'com.yahoo.mobile.client.android.mail'], dtype=object)"
      ]
     },
     "execution_count": 6,
     "metadata": {},
     "output_type": "execute_result"
    }
   ],
   "source": [
    "frequent_apps=vectorizer.get_feature_names_out()[np.where((vectorization>0).sum(axis=0)>575814)[1]]\n",
    "frequent_apps"
   ]
  },
  {
   "cell_type": "code",
   "execution_count": 9,
   "metadata": {},
   "outputs": [
    {
     "name": "stdout",
     "output_type": "stream",
     "text": [
      "Number of frequent apps: 29\n"
     ]
    }
   ],
   "source": [
    "print(\"Number of frequent apps:\",len(frequent_apps))"
   ]
  },
  {
   "cell_type": "markdown",
   "metadata": {},
   "source": [
    "With 29 apps the number of found sessions are much lower, but also more comparable to the 25 frequenct apps found with VMSP. Furthermore almost all frequent apps found with VMSP are included."
   ]
  },
  {
   "cell_type": "markdown",
   "metadata": {},
   "source": [
    "#### 2-grams\n",
    "We now investigate which patterns of length two occrue with at least the minimum frequency."
   ]
  },
  {
   "cell_type": "code",
   "execution_count": 154,
   "metadata": {},
   "outputs": [],
   "source": [
    "vectorizer = CountVectorizer(analyzer='word',tokenizer=lambda text: re.split(' ',text), ngram_range=(2,2))"
   ]
  },
  {
   "cell_type": "code",
   "execution_count": 155,
   "metadata": {},
   "outputs": [],
   "source": [
    "vectorization=vectorizer.fit_transform(user_corpus.values)"
   ]
  },
  {
   "cell_type": "code",
   "execution_count": 158,
   "metadata": {},
   "outputs": [
    {
     "name": "stdout",
     "output_type": "stream",
     "text": [
      "Number of 2-grams: 29\n"
     ]
    }
   ],
   "source": [
    "print(\"Number of 2-grams:\",len(vectorizer.get_feature_names_out()[np.where((vectorization>0).sum(axis=0)>575814)[1]]))"
   ]
  },
  {
   "cell_type": "code",
   "execution_count": 160,
   "metadata": {},
   "outputs": [
    {
     "data": {
      "text/plain": [
       "array(['com.android.chrome com.facebook.katana',\n",
       "       'com.android.chrome com.google.android.googlequicksearchbox',\n",
       "       'com.android.chrome com.whatsapp',\n",
       "       'com.android.incallui com.sonyericsson.android.socialphonebook',\n",
       "       'com.facebook.katana com.android.chrome',\n",
       "       'com.facebook.katana com.facebook.orca',\n",
       "       'com.facebook.katana com.google.android.googlequicksearchbox',\n",
       "       'com.facebook.katana com.instagram.android',\n",
       "       'com.facebook.katana com.snapchat.android',\n",
       "       'com.facebook.katana com.sonyericsson.conversations',\n",
       "       'com.facebook.katana com.whatsapp',\n",
       "       'com.facebook.orca com.facebook.katana',\n",
       "       'com.google.android.gm com.android.chrome',\n",
       "       'com.google.android.googlequicksearchbox com.android.chrome',\n",
       "       'com.google.android.googlequicksearchbox com.facebook.katana',\n",
       "       'com.google.android.googlequicksearchbox com.whatsapp',\n",
       "       'com.instagram.android com.facebook.katana',\n",
       "       'com.instagram.android com.whatsapp',\n",
       "       'com.snapchat.android com.facebook.katana',\n",
       "       'com.sonyericsson.android.socialphonebook com.android.incallui',\n",
       "       'com.sonyericsson.conversations com.facebook.katana',\n",
       "       'com.sonyericsson.conversations com.whatsapp',\n",
       "       'com.sonymobile.email com.facebook.katana',\n",
       "       'com.whatsapp com.android.chrome',\n",
       "       'com.whatsapp com.facebook.katana',\n",
       "       'com.whatsapp com.facebook.orca',\n",
       "       'com.whatsapp com.google.android.googlequicksearchbox',\n",
       "       'com.whatsapp com.instagram.android',\n",
       "       'com.whatsapp com.sonyericsson.conversations'], dtype=object)"
      ]
     },
     "execution_count": 160,
     "metadata": {},
     "output_type": "execute_result"
    }
   ],
   "source": [
    "vectorizer.get_feature_names_out()[np.where((vectorization>0).sum(axis=0)>575814)[1]]"
   ]
  },
  {
   "cell_type": "markdown",
   "metadata": {},
   "source": [
    "As for the 1-grams we also here recongnise serveral of the patterns from the VMPS output."
   ]
  },
  {
   "cell_type": "markdown",
   "metadata": {},
   "source": [
    "#### 3-grams\n",
    "At last we look at the patterns of length 3"
   ]
  },
  {
   "cell_type": "code",
   "execution_count": 161,
   "metadata": {},
   "outputs": [],
   "source": [
    "vectorizer = CountVectorizer(analyzer='word',tokenizer=lambda text: re.split(' ',text), ngram_range=(3,3))\n",
    "vectorization=vectorizer.fit_transform(user_corpus.values)"
   ]
  },
  {
   "cell_type": "code",
   "execution_count": 162,
   "metadata": {},
   "outputs": [
    {
     "data": {
      "text/plain": [
       "array(['com.google.android.googlequicksearchbox com.android.chrome com.google.android.googlequicksearchbox',\n",
       "       'com.whatsapp com.facebook.katana com.whatsapp'], dtype=object)"
      ]
     },
     "execution_count": 162,
     "metadata": {},
     "output_type": "execute_result"
    }
   ],
   "source": [
    "vectorizer.get_feature_names_out()[np.where((vectorization>0).sum(axis=0)>575814)[1]]"
   ]
  },
  {
   "cell_type": "code",
   "execution_count": 163,
   "metadata": {},
   "outputs": [
    {
     "name": "stdout",
     "output_type": "stream",
     "text": [
      "Number of 3-grams: 2\n"
     ]
    }
   ],
   "source": [
    "print(\"Number of 3-grams:\",len(vectorizer.get_feature_names_out()[np.where((vectorization>0).sum(axis=0)>575814)[1]]))"
   ]
  },
  {
   "cell_type": "markdown",
   "metadata": {},
   "source": [
    "None of the patterns of length 3 were found with VMSP. Furthermore it is observed that for all 4 patterns, the apps in one patterns are similar in category."
   ]
  },
  {
   "cell_type": "markdown",
   "metadata": {},
   "source": [
    "#### 4-grams\n",
    "Below in can be seen that the data set does not contain any patterns of legnth four, so all frequent patterns has been found."
   ]
  },
  {
   "cell_type": "code",
   "execution_count": 164,
   "metadata": {},
   "outputs": [],
   "source": [
    "vectorizer = CountVectorizer(analyzer='word',tokenizer=lambda text: re.split(' ',text), ngram_range=(4,4))\n",
    "vectorization=vectorizer.fit_transform(user_corpus.values)"
   ]
  },
  {
   "cell_type": "code",
   "execution_count": 165,
   "metadata": {},
   "outputs": [
    {
     "data": {
      "text/plain": [
       "array([], dtype=object)"
      ]
     },
     "execution_count": 165,
     "metadata": {},
     "output_type": "execute_result"
    }
   ],
   "source": [
    "vectorizer.get_feature_names_out()[np.where((vectorization>0).sum(axis=0)>575814)[1]]"
   ]
  },
  {
   "cell_type": "code",
   "execution_count": 166,
   "metadata": {},
   "outputs": [
    {
     "name": "stdout",
     "output_type": "stream",
     "text": [
      "Number of 4-grams: 0\n"
     ]
    }
   ],
   "source": [
    "print(\"Number of 4-grams:\",len(vectorizer.get_feature_names_out()[np.where((vectorization>0).sum(axis=0)>575814)[1]]))"
   ]
  },
  {
   "cell_type": "markdown",
   "metadata": {},
   "source": [
    "## Data set with 70% individual coverage.\n",
    "For direct comparison the N-grams are found for the same data set as the VMSP was run on."
   ]
  },
  {
   "cell_type": "code",
   "execution_count": 61,
   "metadata": {},
   "outputs": [],
   "source": [
    "data_coverage_70=pd.read_csv(\"data_coverage_70.csv\")"
   ]
  },
  {
   "cell_type": "code",
   "execution_count": 62,
   "metadata": {},
   "outputs": [
    {
     "name": "stdout",
     "output_type": "stream",
     "text": [
      "Number of number of observations: 90303962\n",
      "Number of different apps left: 2268\n"
     ]
    }
   ],
   "source": [
    "print(\"Number of number of observations:\",data_coverage_70.shape[0])\n",
    "print(\"Number of different apps left:\",data_coverage_70.app_code.nunique())"
   ]
  },
  {
   "cell_type": "code",
   "execution_count": 67,
   "metadata": {},
   "outputs": [
    {
     "data": {
      "text/html": [
       "<div>\n",
       "<style scoped>\n",
       "    .dataframe tbody tr th:only-of-type {\n",
       "        vertical-align: middle;\n",
       "    }\n",
       "\n",
       "    .dataframe tbody tr th {\n",
       "        vertical-align: top;\n",
       "    }\n",
       "\n",
       "    .dataframe thead th {\n",
       "        text-align: right;\n",
       "    }\n",
       "</style>\n",
       "<table border=\"1\" class=\"dataframe\">\n",
       "  <thead>\n",
       "    <tr style=\"text-align: right;\">\n",
       "      <th></th>\n",
       "      <th>package_name</th>\n",
       "      <th>user_id</th>\n",
       "      <th>start_time</th>\n",
       "      <th>end_time</th>\n",
       "      <th>time_spend_x</th>\n",
       "      <th>app_code</th>\n",
       "      <th>sequence_number</th>\n",
       "      <th>sequence_Start_time</th>\n",
       "      <th>sequence_end_time</th>\n",
       "      <th>sleep_time</th>\n",
       "      <th>new_session</th>\n",
       "      <th>session</th>\n",
       "      <th>time_spend_y</th>\n",
       "      <th>time_spend_total</th>\n",
       "      <th>coverage</th>\n",
       "      <th>session_length</th>\n",
       "    </tr>\n",
       "  </thead>\n",
       "  <tbody>\n",
       "    <tr>\n",
       "      <th>0</th>\n",
       "      <td>com.android.chrome</td>\n",
       "      <td>0</td>\n",
       "      <td>441</td>\n",
       "      <td>1012</td>\n",
       "      <td>571</td>\n",
       "      <td>7649</td>\n",
       "      <td>2</td>\n",
       "      <td>441</td>\n",
       "      <td>1012</td>\n",
       "      <td>0</td>\n",
       "      <td>False</td>\n",
       "      <td>0</td>\n",
       "      <td>831069</td>\n",
       "      <td>1688521</td>\n",
       "      <td>0.492188</td>\n",
       "      <td>2</td>\n",
       "    </tr>\n",
       "    <tr>\n",
       "      <th>1</th>\n",
       "      <td>com.google.android.youtube</td>\n",
       "      <td>0</td>\n",
       "      <td>1582</td>\n",
       "      <td>1712</td>\n",
       "      <td>130</td>\n",
       "      <td>23967</td>\n",
       "      <td>6</td>\n",
       "      <td>1582</td>\n",
       "      <td>1712</td>\n",
       "      <td>10</td>\n",
       "      <td>False</td>\n",
       "      <td>0</td>\n",
       "      <td>1149788</td>\n",
       "      <td>1688521</td>\n",
       "      <td>0.680944</td>\n",
       "      <td>2</td>\n",
       "    </tr>\n",
       "    <tr>\n",
       "      <th>2</th>\n",
       "      <td>com.android.chrome</td>\n",
       "      <td>0</td>\n",
       "      <td>3926</td>\n",
       "      <td>4076</td>\n",
       "      <td>150</td>\n",
       "      <td>7649</td>\n",
       "      <td>12</td>\n",
       "      <td>3926</td>\n",
       "      <td>4076</td>\n",
       "      <td>0</td>\n",
       "      <td>False</td>\n",
       "      <td>2</td>\n",
       "      <td>831069</td>\n",
       "      <td>1688521</td>\n",
       "      <td>0.492188</td>\n",
       "      <td>1</td>\n",
       "    </tr>\n",
       "    <tr>\n",
       "      <th>3</th>\n",
       "      <td>com.android.chrome</td>\n",
       "      <td>0</td>\n",
       "      <td>32291</td>\n",
       "      <td>32769</td>\n",
       "      <td>478</td>\n",
       "      <td>7649</td>\n",
       "      <td>24</td>\n",
       "      <td>32291</td>\n",
       "      <td>32769</td>\n",
       "      <td>40</td>\n",
       "      <td>False</td>\n",
       "      <td>6</td>\n",
       "      <td>831069</td>\n",
       "      <td>1688521</td>\n",
       "      <td>0.492188</td>\n",
       "      <td>2</td>\n",
       "    </tr>\n",
       "    <tr>\n",
       "      <th>4</th>\n",
       "      <td>com.google.android.youtube</td>\n",
       "      <td>0</td>\n",
       "      <td>32091</td>\n",
       "      <td>32101</td>\n",
       "      <td>10</td>\n",
       "      <td>23967</td>\n",
       "      <td>22</td>\n",
       "      <td>32091</td>\n",
       "      <td>32101</td>\n",
       "      <td>2142</td>\n",
       "      <td>True</td>\n",
       "      <td>6</td>\n",
       "      <td>1149788</td>\n",
       "      <td>1688521</td>\n",
       "      <td>0.680944</td>\n",
       "      <td>2</td>\n",
       "    </tr>\n",
       "    <tr>\n",
       "      <th>...</th>\n",
       "      <td>...</td>\n",
       "      <td>...</td>\n",
       "      <td>...</td>\n",
       "      <td>...</td>\n",
       "      <td>...</td>\n",
       "      <td>...</td>\n",
       "      <td>...</td>\n",
       "      <td>...</td>\n",
       "      <td>...</td>\n",
       "      <td>...</td>\n",
       "      <td>...</td>\n",
       "      <td>...</td>\n",
       "      <td>...</td>\n",
       "      <td>...</td>\n",
       "      <td>...</td>\n",
       "      <td>...</td>\n",
       "    </tr>\n",
       "    <tr>\n",
       "      <th>90303957</th>\n",
       "      <td>com.google.android.youtube</td>\n",
       "      <td>9999</td>\n",
       "      <td>26588896</td>\n",
       "      <td>26588966</td>\n",
       "      <td>70</td>\n",
       "      <td>23967</td>\n",
       "      <td>13303</td>\n",
       "      <td>26588896</td>\n",
       "      <td>26588966</td>\n",
       "      <td>754</td>\n",
       "      <td>True</td>\n",
       "      <td>5100</td>\n",
       "      <td>1002729</td>\n",
       "      <td>1360485</td>\n",
       "      <td>0.737038</td>\n",
       "      <td>1</td>\n",
       "    </tr>\n",
       "    <tr>\n",
       "      <th>90303958</th>\n",
       "      <td>com.google.android.youtube</td>\n",
       "      <td>9999</td>\n",
       "      <td>26628994</td>\n",
       "      <td>26629112</td>\n",
       "      <td>118</td>\n",
       "      <td>23967</td>\n",
       "      <td>13333</td>\n",
       "      <td>26628994</td>\n",
       "      <td>26629112</td>\n",
       "      <td>339</td>\n",
       "      <td>True</td>\n",
       "      <td>5111</td>\n",
       "      <td>1002729</td>\n",
       "      <td>1360485</td>\n",
       "      <td>0.737038</td>\n",
       "      <td>1</td>\n",
       "    </tr>\n",
       "    <tr>\n",
       "      <th>90303959</th>\n",
       "      <td>com.google.android.youtube</td>\n",
       "      <td>9999</td>\n",
       "      <td>26703610</td>\n",
       "      <td>26703880</td>\n",
       "      <td>270</td>\n",
       "      <td>23967</td>\n",
       "      <td>13368</td>\n",
       "      <td>26703610</td>\n",
       "      <td>26703880</td>\n",
       "      <td>3073</td>\n",
       "      <td>True</td>\n",
       "      <td>5125</td>\n",
       "      <td>1002729</td>\n",
       "      <td>1360485</td>\n",
       "      <td>0.737038</td>\n",
       "      <td>1</td>\n",
       "    </tr>\n",
       "    <tr>\n",
       "      <th>90303960</th>\n",
       "      <td>com.google.android.youtube</td>\n",
       "      <td>9999</td>\n",
       "      <td>26704637</td>\n",
       "      <td>26704647</td>\n",
       "      <td>10</td>\n",
       "      <td>23967</td>\n",
       "      <td>13369</td>\n",
       "      <td>26704637</td>\n",
       "      <td>26704647</td>\n",
       "      <td>757</td>\n",
       "      <td>True</td>\n",
       "      <td>5126</td>\n",
       "      <td>1002729</td>\n",
       "      <td>1360485</td>\n",
       "      <td>0.737038</td>\n",
       "      <td>1</td>\n",
       "    </tr>\n",
       "    <tr>\n",
       "      <th>90303961</th>\n",
       "      <td>com.google.android.youtube</td>\n",
       "      <td>9999</td>\n",
       "      <td>28010178</td>\n",
       "      <td>28010188</td>\n",
       "      <td>10</td>\n",
       "      <td>23967</td>\n",
       "      <td>14230</td>\n",
       "      <td>28010178</td>\n",
       "      <td>28010188</td>\n",
       "      <td>17720</td>\n",
       "      <td>True</td>\n",
       "      <td>5419</td>\n",
       "      <td>1002729</td>\n",
       "      <td>1360485</td>\n",
       "      <td>0.737038</td>\n",
       "      <td>1</td>\n",
       "    </tr>\n",
       "  </tbody>\n",
       "</table>\n",
       "<p>90303962 rows × 16 columns</p>\n",
       "</div>"
      ],
      "text/plain": [
       "                        package_name  user_id  start_time  end_time  \\\n",
       "0                 com.android.chrome        0         441      1012   \n",
       "1         com.google.android.youtube        0        1582      1712   \n",
       "2                 com.android.chrome        0        3926      4076   \n",
       "3                 com.android.chrome        0       32291     32769   \n",
       "4         com.google.android.youtube        0       32091     32101   \n",
       "...                              ...      ...         ...       ...   \n",
       "90303957  com.google.android.youtube     9999    26588896  26588966   \n",
       "90303958  com.google.android.youtube     9999    26628994  26629112   \n",
       "90303959  com.google.android.youtube     9999    26703610  26703880   \n",
       "90303960  com.google.android.youtube     9999    26704637  26704647   \n",
       "90303961  com.google.android.youtube     9999    28010178  28010188   \n",
       "\n",
       "          time_spend_x  app_code  sequence_number  sequence_Start_time  \\\n",
       "0                  571      7649                2                  441   \n",
       "1                  130     23967                6                 1582   \n",
       "2                  150      7649               12                 3926   \n",
       "3                  478      7649               24                32291   \n",
       "4                   10     23967               22                32091   \n",
       "...                ...       ...              ...                  ...   \n",
       "90303957            70     23967            13303             26588896   \n",
       "90303958           118     23967            13333             26628994   \n",
       "90303959           270     23967            13368             26703610   \n",
       "90303960            10     23967            13369             26704637   \n",
       "90303961            10     23967            14230             28010178   \n",
       "\n",
       "          sequence_end_time  sleep_time  new_session  session  time_spend_y  \\\n",
       "0                      1012           0        False        0        831069   \n",
       "1                      1712          10        False        0       1149788   \n",
       "2                      4076           0        False        2        831069   \n",
       "3                     32769          40        False        6        831069   \n",
       "4                     32101        2142         True        6       1149788   \n",
       "...                     ...         ...          ...      ...           ...   \n",
       "90303957           26588966         754         True     5100       1002729   \n",
       "90303958           26629112         339         True     5111       1002729   \n",
       "90303959           26703880        3073         True     5125       1002729   \n",
       "90303960           26704647         757         True     5126       1002729   \n",
       "90303961           28010188       17720         True     5419       1002729   \n",
       "\n",
       "          time_spend_total  coverage  session_length  \n",
       "0                  1688521  0.492188               2  \n",
       "1                  1688521  0.680944               2  \n",
       "2                  1688521  0.492188               1  \n",
       "3                  1688521  0.492188               2  \n",
       "4                  1688521  0.680944               2  \n",
       "...                    ...       ...             ...  \n",
       "90303957           1360485  0.737038               1  \n",
       "90303958           1360485  0.737038               1  \n",
       "90303959           1360485  0.737038               1  \n",
       "90303960           1360485  0.737038               1  \n",
       "90303961           1360485  0.737038               1  \n",
       "\n",
       "[90303962 rows x 16 columns]"
      ]
     },
     "execution_count": 67,
     "metadata": {},
     "output_type": "execute_result"
    }
   ],
   "source": [
    "data_coverage_70"
   ]
  },
  {
   "cell_type": "markdown",
   "metadata": {},
   "source": [
    "Since the VMSP was only running on sessions with more than one app, all sessions of length one is filtered out."
   ]
  },
  {
   "cell_type": "code",
   "execution_count": 168,
   "metadata": {},
   "outputs": [],
   "source": [
    "data_coverage_70_min_length_2=data_coverage_70[data_coverage_70.session_length>1]"
   ]
  },
  {
   "cell_type": "code",
   "execution_count": 169,
   "metadata": {},
   "outputs": [],
   "source": [
    "user_corpus_70=data_coverage_70_min_length_2.groupby(['user_id','session']).package_name.apply(' '.join)"
   ]
  },
  {
   "cell_type": "code",
   "execution_count": 170,
   "metadata": {},
   "outputs": [
    {
     "name": "stdout",
     "output_type": "stream",
     "text": [
      "Number of sessions: 18193255\n",
      "0.75% of sessions: 136449.41249999998\n"
     ]
    }
   ],
   "source": [
    "print(\"Number of sessions:\",user_corpus_70.shape[0])\n",
    "print(\"0.75% of sessions:\",user_corpus_70.shape[0]/100*0.75)"
   ]
  },
  {
   "cell_type": "markdown",
   "metadata": {},
   "source": [
    "### Frequent apps (1-gram)"
   ]
  },
  {
   "cell_type": "code",
   "execution_count": 142,
   "metadata": {},
   "outputs": [
    {
     "data": {
      "text/plain": [
       "array(['bbc.mobile.news.uk', 'com.android.chrome', 'com.android.incallui',\n",
       "       'com.ebay.mobile', 'com.facebook.katana', 'com.facebook.orca',\n",
       "       'com.google.android.apps.maps',\n",
       "       'com.google.android.apps.messaging', 'com.google.android.gm',\n",
       "       'com.google.android.googlequicksearchbox',\n",
       "       'com.google.android.youtube', 'com.instagram.android',\n",
       "       'com.microsoft.office.outlook', 'com.nianticlabs.pokemongo',\n",
       "       'com.snapchat.android', 'com.sonyericsson.album',\n",
       "       'com.sonyericsson.android.socialphonebook',\n",
       "       'com.sonyericsson.conversations', 'com.sonymobile.email',\n",
       "       'com.spotify.music', 'com.twitter.android', 'com.whatsapp',\n",
       "       'com.yahoo.mobile.client.android.mail'], dtype=object)"
      ]
     },
     "execution_count": 142,
     "metadata": {},
     "output_type": "execute_result"
    }
   ],
   "source": [
    "vectorizer = CountVectorizer(analyzer='word',tokenizer=lambda text: re.split(' ',text), ngram_range=(1,1))\n",
    "vectorization=vectorizer.fit_transform(user_corpus_70.values)\n",
    "vectorizer.get_feature_names_out()[np.where((vectorization>0).sum(axis=0)>=136450)[1]]"
   ]
  },
  {
   "cell_type": "code",
   "execution_count": 143,
   "metadata": {},
   "outputs": [
    {
     "name": "stdout",
     "output_type": "stream",
     "text": [
      "Number of frequent patterns: 23\n"
     ]
    }
   ],
   "source": [
    "print(\"Number of frequent patterns:\",len(vectorizer.get_feature_names_out()[np.where((vectorization>0).sum(axis=0)>=136450)[1]]))"
   ]
  },
  {
   "cell_type": "markdown",
   "metadata": {},
   "source": [
    "Here the same apps are found to be frequent as with VMSP."
   ]
  },
  {
   "cell_type": "markdown",
   "metadata": {},
   "source": [
    "### 2-grams"
   ]
  },
  {
   "cell_type": "code",
   "execution_count": 172,
   "metadata": {},
   "outputs": [
    {
     "data": {
      "text/plain": [
       "array(['com.android.chrome com.android.chrome',\n",
       "       'com.android.chrome com.facebook.katana',\n",
       "       'com.android.chrome com.facebook.orca',\n",
       "       'com.android.chrome com.google.android.googlequicksearchbox',\n",
       "       'com.android.chrome com.google.android.youtube',\n",
       "       'com.android.chrome com.instagram.android',\n",
       "       'com.android.chrome com.sonyericsson.conversations',\n",
       "       'com.android.chrome com.whatsapp',\n",
       "       'com.android.incallui com.android.incallui',\n",
       "       'com.facebook.katana com.android.chrome',\n",
       "       'com.facebook.katana com.facebook.katana',\n",
       "       'com.facebook.katana com.facebook.orca',\n",
       "       'com.facebook.katana com.instagram.android',\n",
       "       'com.facebook.katana com.sonyericsson.conversations',\n",
       "       'com.facebook.katana com.whatsapp',\n",
       "       'com.facebook.orca com.android.chrome',\n",
       "       'com.facebook.orca com.facebook.orca',\n",
       "       'com.google.android.gm com.google.android.gm',\n",
       "       'com.google.android.googlequicksearchbox com.android.chrome',\n",
       "       'com.google.android.googlequicksearchbox com.google.android.googlequicksearchbox',\n",
       "       'com.google.android.youtube com.google.android.youtube',\n",
       "       'com.instagram.android com.android.chrome',\n",
       "       'com.instagram.android com.facebook.katana',\n",
       "       'com.instagram.android com.instagram.android',\n",
       "       'com.instagram.android com.snapchat.android',\n",
       "       'com.instagram.android com.whatsapp',\n",
       "       'com.snapchat.android com.instagram.android',\n",
       "       'com.snapchat.android com.snapchat.android',\n",
       "       'com.sonyericsson.conversations com.android.chrome',\n",
       "       'com.sonyericsson.conversations com.sonyericsson.conversations',\n",
       "       'com.sonyericsson.conversations com.whatsapp',\n",
       "       'com.sonymobile.email com.sonymobile.email',\n",
       "       'com.spotify.music com.spotify.music',\n",
       "       'com.twitter.android com.twitter.android',\n",
       "       'com.whatsapp com.android.chrome',\n",
       "       'com.whatsapp com.facebook.katana',\n",
       "       'com.whatsapp com.instagram.android',\n",
       "       'com.whatsapp com.sonyericsson.conversations',\n",
       "       'com.whatsapp com.whatsapp'], dtype=object)"
      ]
     },
     "execution_count": 172,
     "metadata": {},
     "output_type": "execute_result"
    }
   ],
   "source": [
    "vectorizer = CountVectorizer(analyzer='word',tokenizer=lambda text: re.split(' ',text), ngram_range=(2,2))\n",
    "vectorization=vectorizer.fit_transform(user_corpus_70.values)\n",
    "vectorizer.get_feature_names_out()[np.where((vectorization>0).sum(axis=0)>=136450)[1]]"
   ]
  },
  {
   "cell_type": "code",
   "execution_count": 174,
   "metadata": {},
   "outputs": [
    {
     "name": "stdout",
     "output_type": "stream",
     "text": [
      "Number of frequent patterns: 39\n"
     ]
    }
   ],
   "source": [
    "print(\"Number of frequent patterns:\",len(vectorizer.get_feature_names_out()[np.where((vectorization>0).sum(axis=0)>=136450)[1]]))"
   ]
  },
  {
   "cell_type": "markdown",
   "metadata": {},
   "source": [
    "### 3-grams"
   ]
  },
  {
   "cell_type": "code",
   "execution_count": 175,
   "metadata": {},
   "outputs": [
    {
     "data": {
      "text/plain": [
       "array(['com.android.chrome com.android.chrome com.android.chrome',\n",
       "       'com.android.chrome com.whatsapp com.whatsapp',\n",
       "       'com.facebook.katana com.facebook.katana com.android.chrome',\n",
       "       'com.facebook.katana com.facebook.katana com.facebook.katana',\n",
       "       'com.facebook.orca com.facebook.orca com.facebook.orca',\n",
       "       'com.google.android.googlequicksearchbox com.android.chrome com.android.chrome',\n",
       "       'com.google.android.googlequicksearchbox com.google.android.googlequicksearchbox com.android.chrome',\n",
       "       'com.google.android.googlequicksearchbox com.google.android.googlequicksearchbox com.google.android.googlequicksearchbox',\n",
       "       'com.instagram.android com.instagram.android com.instagram.android',\n",
       "       'com.snapchat.android com.snapchat.android com.snapchat.android',\n",
       "       'com.sonyericsson.conversations com.sonyericsson.conversations com.sonyericsson.conversations',\n",
       "       'com.whatsapp com.whatsapp com.android.chrome',\n",
       "       'com.whatsapp com.whatsapp com.whatsapp'], dtype=object)"
      ]
     },
     "execution_count": 175,
     "metadata": {},
     "output_type": "execute_result"
    }
   ],
   "source": [
    "vectorizer = CountVectorizer(analyzer='word',tokenizer=lambda text: re.split(' ',text), ngram_range=(3,3))\n",
    "vectorization=vectorizer.fit_transform(user_corpus_70.values)\n",
    "vectorizer.get_feature_names_out()[np.where((vectorization>0).sum(axis=0)>=136450)[1]]"
   ]
  },
  {
   "cell_type": "code",
   "execution_count": 176,
   "metadata": {},
   "outputs": [
    {
     "name": "stdout",
     "output_type": "stream",
     "text": [
      "Number of frequent patterns: 13\n"
     ]
    }
   ],
   "source": [
    "print(\"Number of frequent patterns:\",len(vectorizer.get_feature_names_out()[np.where((vectorization>0).sum(axis=0)>=136450)[1]]))"
   ]
  },
  {
   "cell_type": "markdown",
   "metadata": {},
   "source": [
    "### 4-grams"
   ]
  },
  {
   "cell_type": "code",
   "execution_count": 179,
   "metadata": {
    "scrolled": true
   },
   "outputs": [
    {
     "data": {
      "text/plain": [
       "array(['com.android.chrome com.android.chrome com.android.chrome com.android.chrome',\n",
       "       'com.facebook.katana com.facebook.katana com.facebook.katana com.facebook.katana',\n",
       "       'com.facebook.orca com.facebook.orca com.facebook.orca com.facebook.orca',\n",
       "       'com.google.android.googlequicksearchbox com.google.android.googlequicksearchbox com.android.chrome com.android.chrome',\n",
       "       'com.google.android.googlequicksearchbox com.google.android.googlequicksearchbox com.google.android.googlequicksearchbox com.google.android.googlequicksearchbox',\n",
       "       'com.sonyericsson.conversations com.sonyericsson.conversations com.sonyericsson.conversations com.sonyericsson.conversations',\n",
       "       'com.whatsapp com.whatsapp com.whatsapp com.whatsapp'],\n",
       "      dtype=object)"
      ]
     },
     "execution_count": 179,
     "metadata": {},
     "output_type": "execute_result"
    }
   ],
   "source": [
    "vectorizer = CountVectorizer(analyzer='word',tokenizer=lambda text: re.split(' ',text), ngram_range=(4,4))\n",
    "vectorization=vectorizer.fit_transform(user_corpus_70.values)\n",
    "vectorizer.get_feature_names_out()[np.where((vectorization>0).sum(axis=0)>=136450)[1]]"
   ]
  },
  {
   "cell_type": "code",
   "execution_count": 180,
   "metadata": {},
   "outputs": [
    {
     "name": "stdout",
     "output_type": "stream",
     "text": [
      "Number of frequent patterns: 7\n"
     ]
    }
   ],
   "source": [
    "print(\"Number of frequent patterns:\",len(vectorizer.get_feature_names_out()[np.where((vectorization>0).sum(axis=0)>=136450)[1]]))"
   ]
  },
  {
   "cell_type": "markdown",
   "metadata": {},
   "source": [
    "### 5.grams"
   ]
  },
  {
   "cell_type": "code",
   "execution_count": 181,
   "metadata": {},
   "outputs": [
    {
     "data": {
      "text/plain": [
       "array(['com.whatsapp com.whatsapp com.whatsapp com.whatsapp com.whatsapp'],\n",
       "      dtype=object)"
      ]
     },
     "execution_count": 181,
     "metadata": {},
     "output_type": "execute_result"
    }
   ],
   "source": [
    "vectorizer = CountVectorizer(analyzer='word',tokenizer=lambda text: re.split(' ',text), ngram_range=(5,5))\n",
    "vectorization=vectorizer.fit_transform(user_corpus_70.values)\n",
    "vectorizer.get_feature_names_out()[np.where((vectorization>0).sum(axis=0)>=136450)[1]]"
   ]
  },
  {
   "cell_type": "code",
   "execution_count": 182,
   "metadata": {},
   "outputs": [
    {
     "name": "stdout",
     "output_type": "stream",
     "text": [
      "Number of frequent patterns: 1\n"
     ]
    }
   ],
   "source": [
    "print(\"Number of frequent patterns:\",len(vectorizer.get_feature_names_out()[np.where((vectorization>0).sum(axis=0)>=136450)[1]]))"
   ]
  },
  {
   "cell_type": "markdown",
   "metadata": {},
   "source": [
    "### 6-grams"
   ]
  },
  {
   "cell_type": "code",
   "execution_count": 183,
   "metadata": {},
   "outputs": [
    {
     "data": {
      "text/plain": [
       "array([], dtype=object)"
      ]
     },
     "execution_count": 183,
     "metadata": {},
     "output_type": "execute_result"
    }
   ],
   "source": [
    "vectorizer = CountVectorizer(analyzer='word',tokenizer=lambda text: re.split(' ',text), ngram_range=(6,6))\n",
    "vectorization=vectorizer.fit_transform(user_corpus_70.values)\n",
    "vectorizer.get_feature_names_out()[np.where((vectorization>0).sum(axis=0)>=136450)[1]]"
   ]
  },
  {
   "cell_type": "code",
   "execution_count": 184,
   "metadata": {},
   "outputs": [
    {
     "name": "stdout",
     "output_type": "stream",
     "text": [
      "Number of frequent patterns: 0\n"
     ]
    }
   ],
   "source": [
    "print(\"Number of frequent patterns:\",len(vectorizer.get_feature_names_out()[np.where((vectorization>0).sum(axis=0)>=136450)[1]]))"
   ]
  },
  {
   "cell_type": "markdown",
   "metadata": {},
   "source": [
    "### Mereged repeating apps"
   ]
  },
  {
   "cell_type": "code",
   "execution_count": 187,
   "metadata": {},
   "outputs": [],
   "source": [
    "data_coverage_70[\"previous_app_code\"]=data_coverage_70.groupby([\"user_id\",\"session\"]).app_code.shift(1)\n",
    "data_merge=data_coverage_70.copy()\n",
    "data_merge=data_merge[(data_merge.previous_app_code==data_merge.app_code) | (data_merge.app_code==data_merge.groupby(['user_id','session']).app_code.shift(-1))]\n",
    "data_merge['new_event'] = data_merge.previous_app_code!=data_merge.app_code\n",
    "data_merge['event'] = data_merge.groupby(['user_id','session']).new_event.cumsum().astype('int')"
   ]
  },
  {
   "cell_type": "code",
   "execution_count": 189,
   "metadata": {},
   "outputs": [],
   "source": [
    "data2_grouped = data_merge.groupby(['user_id', 'session','event']).agg({'end_time':'max'})\n",
    "\n",
    "data2_grouped = data2_grouped.reset_index()\n",
    "\n",
    "data2_grouped = data2_grouped.rename(columns={'end_time':'event_end_time'})\n",
    "\n",
    "data3 = pd.merge(data_merge, data2_grouped, how='left', on=['user_id', 'session','event'])\n",
    "\n",
    "data3 = data3[data3['end_time'] == data3['event_end_time']]\n",
    "\n",
    "#because in the same event more apps can be closed at once.\n",
    "data3=data3.drop_duplicates(subset=['user_id', 'session','event'], keep='last')\n",
    "max_index=data_merge.iloc[data3.index].index"
   ]
  },
  {
   "cell_type": "code",
   "execution_count": 190,
   "metadata": {},
   "outputs": [],
   "source": [
    "data2_grouped = data_merge.groupby(['user_id', 'session','event']).agg({'start_time':'min'})\n",
    "\n",
    "data2_grouped = data2_grouped.reset_index()\n",
    "\n",
    "data2_grouped = data2_grouped.rename(columns={'start_time':'event_start_time'})\n",
    "\n",
    "data3 = pd.merge(data_merge, data2_grouped, how='left', on=['user_id', 'session','event'])\n",
    "\n",
    "data3 = data3[data3['start_time'] == data3['event_start_time']]\n",
    "\n",
    "#because in the same event more apps can be opened at once.\n",
    "data3=data3.drop_duplicates(subset=['user_id', 'session','event'], keep='last')\n",
    "min_index=data_merge.iloc[data3.index].index"
   ]
  },
  {
   "cell_type": "code",
   "execution_count": 192,
   "metadata": {},
   "outputs": [
    {
     "data": {
      "text/plain": [
       "True"
      ]
     },
     "execution_count": 192,
     "metadata": {},
     "output_type": "execute_result"
    }
   ],
   "source": [
    "data3=data_coverage_70.copy()\n",
    "data3.loc[max_index,\"start_time\"]=data3.loc[min_index].set_index(max_index).start_time\n",
    "data3=data3.drop(set(data_merge.index)-set(max_index))\n",
    "len(data_coverage_70.index)-(len(data_merge.index)-len(max_index))==len(data3.index)"
   ]
  },
  {
   "cell_type": "code",
   "execution_count": 193,
   "metadata": {},
   "outputs": [],
   "source": [
    "data3['time_spend']=data3['end_time']-data3['start_time']\n",
    "data3=data3.drop('previous_app_code',axis=1)\n",
    "data3['sleep_time']=data3.start_time-data3.sequence_end_time.shift(1,fill_value=0)\n",
    "data3.loc[data3[data3['sleep_time']<0].index,'sleep_time']=0\n",
    "data3=data3.reset_index(drop=True)"
   ]
  },
  {
   "cell_type": "code",
   "execution_count": 194,
   "metadata": {},
   "outputs": [],
   "source": [
    "data3.to_csv(\"70_coverage_merged.csv\",index=False)"
   ]
  },
  {
   "cell_type": "code",
   "execution_count": 195,
   "metadata": {},
   "outputs": [],
   "source": [
    "data3=data3[data3.session_length>1]"
   ]
  },
  {
   "cell_type": "code",
   "execution_count": 196,
   "metadata": {},
   "outputs": [],
   "source": [
    "user_corpus_70=data3.groupby(['user_id','session']).package_name.apply(' '.join)"
   ]
  },
  {
   "cell_type": "code",
   "execution_count": 197,
   "metadata": {},
   "outputs": [
    {
     "name": "stdout",
     "output_type": "stream",
     "text": [
      "Number of sessions: 18193255\n",
      "0.75% of sessions: 136449.41249999998\n"
     ]
    }
   ],
   "source": [
    "print(\"Number of sessions:\",user_corpus_70.shape[0])\n",
    "print(\"0.75% of sessions:\",user_corpus_70.shape[0]/100*0.75)"
   ]
  },
  {
   "cell_type": "markdown",
   "metadata": {},
   "source": [
    "#### 1-grams"
   ]
  },
  {
   "cell_type": "code",
   "execution_count": 199,
   "metadata": {},
   "outputs": [
    {
     "data": {
      "text/plain": [
       "array(['bbc.mobile.news.uk', 'com.android.chrome', 'com.android.incallui',\n",
       "       'com.ebay.mobile', 'com.facebook.katana', 'com.facebook.orca',\n",
       "       'com.google.android.apps.maps',\n",
       "       'com.google.android.apps.messaging', 'com.google.android.gm',\n",
       "       'com.google.android.googlequicksearchbox',\n",
       "       'com.google.android.youtube', 'com.instagram.android',\n",
       "       'com.microsoft.office.outlook', 'com.nianticlabs.pokemongo',\n",
       "       'com.snapchat.android', 'com.sonyericsson.album',\n",
       "       'com.sonyericsson.android.socialphonebook',\n",
       "       'com.sonyericsson.conversations', 'com.sonymobile.email',\n",
       "       'com.spotify.music', 'com.twitter.android', 'com.whatsapp',\n",
       "       'com.yahoo.mobile.client.android.mail'], dtype=object)"
      ]
     },
     "execution_count": 199,
     "metadata": {},
     "output_type": "execute_result"
    }
   ],
   "source": [
    "vectorizer = CountVectorizer(analyzer='word',tokenizer=lambda text: re.split(' ',text), ngram_range=(1,1))\n",
    "vectorization=vectorizer.fit_transform(user_corpus_70.values)\n",
    "vectorizer.get_feature_names_out()[np.where((vectorization>0).sum(axis=0)>=136450)[1]]"
   ]
  },
  {
   "cell_type": "code",
   "execution_count": 200,
   "metadata": {},
   "outputs": [
    {
     "name": "stdout",
     "output_type": "stream",
     "text": [
      "Number of frequent patterns: 23\n"
     ]
    }
   ],
   "source": [
    "print(\"Number of frequent patterns:\",len(vectorizer.get_feature_names_out()[np.where((vectorization>0).sum(axis=0)>=136450)[1]]))"
   ]
  },
  {
   "cell_type": "code",
   "execution_count": 201,
   "metadata": {},
   "outputs": [
    {
     "data": {
      "text/plain": [
       "array(['com.android.chrome com.facebook.katana',\n",
       "       'com.android.chrome com.facebook.orca',\n",
       "       'com.android.chrome com.google.android.googlequicksearchbox',\n",
       "       'com.android.chrome com.google.android.youtube',\n",
       "       'com.android.chrome com.instagram.android',\n",
       "       'com.android.chrome com.sonyericsson.conversations',\n",
       "       'com.android.chrome com.whatsapp',\n",
       "       'com.facebook.katana com.android.chrome',\n",
       "       'com.facebook.katana com.facebook.orca',\n",
       "       'com.facebook.katana com.instagram.android',\n",
       "       'com.facebook.katana com.sonyericsson.conversations',\n",
       "       'com.facebook.katana com.whatsapp',\n",
       "       'com.facebook.orca com.android.chrome',\n",
       "       'com.google.android.googlequicksearchbox com.android.chrome',\n",
       "       'com.instagram.android com.android.chrome',\n",
       "       'com.instagram.android com.facebook.katana',\n",
       "       'com.instagram.android com.snapchat.android',\n",
       "       'com.instagram.android com.whatsapp',\n",
       "       'com.snapchat.android com.instagram.android',\n",
       "       'com.sonyericsson.conversations com.android.chrome',\n",
       "       'com.sonyericsson.conversations com.whatsapp',\n",
       "       'com.whatsapp com.android.chrome',\n",
       "       'com.whatsapp com.facebook.katana',\n",
       "       'com.whatsapp com.instagram.android',\n",
       "       'com.whatsapp com.sonyericsson.conversations'], dtype=object)"
      ]
     },
     "execution_count": 201,
     "metadata": {},
     "output_type": "execute_result"
    }
   ],
   "source": [
    "vectorizer = CountVectorizer(analyzer='word',tokenizer=lambda text: re.split(' ',text), ngram_range=(2,2))\n",
    "vectorization=vectorizer.fit_transform(user_corpus_70.values)\n",
    "vectorizer.get_feature_names_out()[np.where((vectorization>0).sum(axis=0)>=136450)[1]]"
   ]
  },
  {
   "cell_type": "code",
   "execution_count": 202,
   "metadata": {
    "scrolled": true
   },
   "outputs": [
    {
     "name": "stdout",
     "output_type": "stream",
     "text": [
      "Number of frequent patterns: 25\n"
     ]
    }
   ],
   "source": [
    "print(\"Number of frequent patterns:\",len(vectorizer.get_feature_names_out()[np.where((vectorization>0).sum(axis=0)>=136450)[1]]))"
   ]
  },
  {
   "cell_type": "code",
   "execution_count": 203,
   "metadata": {},
   "outputs": [
    {
     "data": {
      "text/plain": [
       "array([], dtype=object)"
      ]
     },
     "execution_count": 203,
     "metadata": {},
     "output_type": "execute_result"
    }
   ],
   "source": [
    "vectorizer = CountVectorizer(analyzer='word',tokenizer=lambda text: re.split(' ',text), ngram_range=(3,3))\n",
    "vectorization=vectorizer.fit_transform(user_corpus_70.values)\n",
    "vectorizer.get_feature_names_out()[np.where((vectorization>0).sum(axis=0)>=136450)[1]]"
   ]
  },
  {
   "cell_type": "code",
   "execution_count": 204,
   "metadata": {},
   "outputs": [
    {
     "name": "stdout",
     "output_type": "stream",
     "text": [
      "Number of frequent patterns: 0\n"
     ]
    }
   ],
   "source": [
    "print(\"Number of frequent patterns:\",len(vectorizer.get_feature_names_out()[np.where((vectorization>0).sum(axis=0)>=136450)[1]]))"
   ]
  },
  {
   "cell_type": "markdown",
   "metadata": {},
   "source": [
    "# Individual perspective\n",
    "In this section the individual users usage is compared with the overall persepctive.\n",
    "## Frequently used apps\n",
    "Initially we take a closer look at the frequent apps found as the 1-grams for the whole data set which occur in at least 0.75%."
   ]
  },
  {
   "cell_type": "code",
   "execution_count": 11,
   "metadata": {},
   "outputs": [
    {
     "data": {
      "text/plain": [
       "array(['bbc.mobile.news.uk', 'com.amazon.mshop.android.shopping',\n",
       "       'com.android.chrome', 'com.android.incallui', 'com.android.phone',\n",
       "       'com.ebay.mobile', 'com.facebook.katana', 'com.facebook.orca',\n",
       "       'com.google.android.apps.maps',\n",
       "       'com.google.android.apps.messaging', 'com.google.android.calendar',\n",
       "       'com.google.android.gm', 'com.google.android.googlequicksearchbox',\n",
       "       'com.google.android.youtube', 'com.instagram.android',\n",
       "       'com.microsoft.office.outlook', 'com.nianticlabs.pokemongo',\n",
       "       'com.snapchat.android', 'com.sony.nfx.app.sfrc',\n",
       "       'com.sonyericsson.album',\n",
       "       'com.sonyericsson.android.socialphonebook',\n",
       "       'com.sonyericsson.conversations', 'com.sonyericsson.music',\n",
       "       'com.sonymobile.calendar', 'com.sonymobile.email',\n",
       "       'com.spotify.music', 'com.twitter.android', 'com.whatsapp',\n",
       "       'com.yahoo.mobile.client.android.mail'], dtype=object)"
      ]
     },
     "execution_count": 11,
     "metadata": {},
     "output_type": "execute_result"
    }
   ],
   "source": [
    "frequent_apps"
   ]
  },
  {
   "cell_type": "markdown",
   "metadata": {},
   "source": [
    "First the overall \"distribution is calculated\", corresponding to the number of sessions each app occur in."
   ]
  },
  {
   "cell_type": "code",
   "execution_count": 87,
   "metadata": {},
   "outputs": [
    {
     "data": {
      "application/vnd.plotly.v1+json": {
       "config": {
        "plotlyServerURL": "https://plot.ly"
       },
       "data": [
        {
         "alignmentgroup": "True",
         "hovertemplate": "x=%{x}<br>y=%{y}<extra></extra>",
         "legendgroup": "",
         "marker": {
          "color": "#636efa",
          "pattern": {
           "shape": ""
          }
         },
         "name": "",
         "offsetgroup": "",
         "orientation": "v",
         "showlegend": false,
         "textposition": "auto",
         "type": "bar",
         "x": [
          "bbc.mobile.news.uk",
          "com.amazon.mshop.android.shopping",
          "com.android.chrome",
          "com.android.incallui",
          "com.android.phone",
          "com.ebay.mobile",
          "com.facebook.katana",
          "com.facebook.orca",
          "com.google.android.apps.maps",
          "com.google.android.apps.messaging",
          "com.google.android.calendar",
          "com.google.android.gm",
          "com.google.android.googlequicksearchbox",
          "com.google.android.youtube",
          "com.instagram.android",
          "com.microsoft.office.outlook",
          "com.nianticlabs.pokemongo",
          "com.snapchat.android",
          "com.sony.nfx.app.sfrc",
          "com.sonyericsson.album",
          "com.sonyericsson.android.socialphonebook",
          "com.sonyericsson.conversations",
          "com.sonyericsson.music",
          "com.sonymobile.calendar",
          "com.sonymobile.email",
          "com.spotify.music",
          "com.twitter.android",
          "com.whatsapp",
          "com.yahoo.mobile.client.android.mail"
         ],
         "xaxis": "x",
         "y": [
          1081397,
          765381,
          14524225,
          3103836,
          653861,
          1123891,
          23465309,
          8135692,
          3127612,
          867932,
          625565,
          4866042,
          9307779,
          3428755,
          6184211,
          1924898,
          980353,
          4731593,
          995562,
          3777571,
          2790678,
          11467156,
          1188287,
          618095,
          4493428,
          1973003,
          2954424,
          17901165,
          1235047
         ],
         "yaxis": "y"
        }
       ],
       "layout": {
        "barmode": "relative",
        "height": 600,
        "legend": {
         "tracegroupgap": 0
        },
        "margin": {
         "t": 60
        },
        "template": {
         "data": {
          "bar": [
           {
            "error_x": {
             "color": "#2a3f5f"
            },
            "error_y": {
             "color": "#2a3f5f"
            },
            "marker": {
             "line": {
              "color": "#E5ECF6",
              "width": 0.5
             },
             "pattern": {
              "fillmode": "overlay",
              "size": 10,
              "solidity": 0.2
             }
            },
            "type": "bar"
           }
          ],
          "barpolar": [
           {
            "marker": {
             "line": {
              "color": "#E5ECF6",
              "width": 0.5
             },
             "pattern": {
              "fillmode": "overlay",
              "size": 10,
              "solidity": 0.2
             }
            },
            "type": "barpolar"
           }
          ],
          "carpet": [
           {
            "aaxis": {
             "endlinecolor": "#2a3f5f",
             "gridcolor": "white",
             "linecolor": "white",
             "minorgridcolor": "white",
             "startlinecolor": "#2a3f5f"
            },
            "baxis": {
             "endlinecolor": "#2a3f5f",
             "gridcolor": "white",
             "linecolor": "white",
             "minorgridcolor": "white",
             "startlinecolor": "#2a3f5f"
            },
            "type": "carpet"
           }
          ],
          "choropleth": [
           {
            "colorbar": {
             "outlinewidth": 0,
             "ticks": ""
            },
            "type": "choropleth"
           }
          ],
          "contour": [
           {
            "colorbar": {
             "outlinewidth": 0,
             "ticks": ""
            },
            "colorscale": [
             [
              0,
              "#0d0887"
             ],
             [
              0.1111111111111111,
              "#46039f"
             ],
             [
              0.2222222222222222,
              "#7201a8"
             ],
             [
              0.3333333333333333,
              "#9c179e"
             ],
             [
              0.4444444444444444,
              "#bd3786"
             ],
             [
              0.5555555555555556,
              "#d8576b"
             ],
             [
              0.6666666666666666,
              "#ed7953"
             ],
             [
              0.7777777777777778,
              "#fb9f3a"
             ],
             [
              0.8888888888888888,
              "#fdca26"
             ],
             [
              1,
              "#f0f921"
             ]
            ],
            "type": "contour"
           }
          ],
          "contourcarpet": [
           {
            "colorbar": {
             "outlinewidth": 0,
             "ticks": ""
            },
            "type": "contourcarpet"
           }
          ],
          "heatmap": [
           {
            "colorbar": {
             "outlinewidth": 0,
             "ticks": ""
            },
            "colorscale": [
             [
              0,
              "#0d0887"
             ],
             [
              0.1111111111111111,
              "#46039f"
             ],
             [
              0.2222222222222222,
              "#7201a8"
             ],
             [
              0.3333333333333333,
              "#9c179e"
             ],
             [
              0.4444444444444444,
              "#bd3786"
             ],
             [
              0.5555555555555556,
              "#d8576b"
             ],
             [
              0.6666666666666666,
              "#ed7953"
             ],
             [
              0.7777777777777778,
              "#fb9f3a"
             ],
             [
              0.8888888888888888,
              "#fdca26"
             ],
             [
              1,
              "#f0f921"
             ]
            ],
            "type": "heatmap"
           }
          ],
          "heatmapgl": [
           {
            "colorbar": {
             "outlinewidth": 0,
             "ticks": ""
            },
            "colorscale": [
             [
              0,
              "#0d0887"
             ],
             [
              0.1111111111111111,
              "#46039f"
             ],
             [
              0.2222222222222222,
              "#7201a8"
             ],
             [
              0.3333333333333333,
              "#9c179e"
             ],
             [
              0.4444444444444444,
              "#bd3786"
             ],
             [
              0.5555555555555556,
              "#d8576b"
             ],
             [
              0.6666666666666666,
              "#ed7953"
             ],
             [
              0.7777777777777778,
              "#fb9f3a"
             ],
             [
              0.8888888888888888,
              "#fdca26"
             ],
             [
              1,
              "#f0f921"
             ]
            ],
            "type": "heatmapgl"
           }
          ],
          "histogram": [
           {
            "marker": {
             "pattern": {
              "fillmode": "overlay",
              "size": 10,
              "solidity": 0.2
             }
            },
            "type": "histogram"
           }
          ],
          "histogram2d": [
           {
            "colorbar": {
             "outlinewidth": 0,
             "ticks": ""
            },
            "colorscale": [
             [
              0,
              "#0d0887"
             ],
             [
              0.1111111111111111,
              "#46039f"
             ],
             [
              0.2222222222222222,
              "#7201a8"
             ],
             [
              0.3333333333333333,
              "#9c179e"
             ],
             [
              0.4444444444444444,
              "#bd3786"
             ],
             [
              0.5555555555555556,
              "#d8576b"
             ],
             [
              0.6666666666666666,
              "#ed7953"
             ],
             [
              0.7777777777777778,
              "#fb9f3a"
             ],
             [
              0.8888888888888888,
              "#fdca26"
             ],
             [
              1,
              "#f0f921"
             ]
            ],
            "type": "histogram2d"
           }
          ],
          "histogram2dcontour": [
           {
            "colorbar": {
             "outlinewidth": 0,
             "ticks": ""
            },
            "colorscale": [
             [
              0,
              "#0d0887"
             ],
             [
              0.1111111111111111,
              "#46039f"
             ],
             [
              0.2222222222222222,
              "#7201a8"
             ],
             [
              0.3333333333333333,
              "#9c179e"
             ],
             [
              0.4444444444444444,
              "#bd3786"
             ],
             [
              0.5555555555555556,
              "#d8576b"
             ],
             [
              0.6666666666666666,
              "#ed7953"
             ],
             [
              0.7777777777777778,
              "#fb9f3a"
             ],
             [
              0.8888888888888888,
              "#fdca26"
             ],
             [
              1,
              "#f0f921"
             ]
            ],
            "type": "histogram2dcontour"
           }
          ],
          "mesh3d": [
           {
            "colorbar": {
             "outlinewidth": 0,
             "ticks": ""
            },
            "type": "mesh3d"
           }
          ],
          "parcoords": [
           {
            "line": {
             "colorbar": {
              "outlinewidth": 0,
              "ticks": ""
             }
            },
            "type": "parcoords"
           }
          ],
          "pie": [
           {
            "automargin": true,
            "type": "pie"
           }
          ],
          "scatter": [
           {
            "marker": {
             "colorbar": {
              "outlinewidth": 0,
              "ticks": ""
             }
            },
            "type": "scatter"
           }
          ],
          "scatter3d": [
           {
            "line": {
             "colorbar": {
              "outlinewidth": 0,
              "ticks": ""
             }
            },
            "marker": {
             "colorbar": {
              "outlinewidth": 0,
              "ticks": ""
             }
            },
            "type": "scatter3d"
           }
          ],
          "scattercarpet": [
           {
            "marker": {
             "colorbar": {
              "outlinewidth": 0,
              "ticks": ""
             }
            },
            "type": "scattercarpet"
           }
          ],
          "scattergeo": [
           {
            "marker": {
             "colorbar": {
              "outlinewidth": 0,
              "ticks": ""
             }
            },
            "type": "scattergeo"
           }
          ],
          "scattergl": [
           {
            "marker": {
             "colorbar": {
              "outlinewidth": 0,
              "ticks": ""
             }
            },
            "type": "scattergl"
           }
          ],
          "scattermapbox": [
           {
            "marker": {
             "colorbar": {
              "outlinewidth": 0,
              "ticks": ""
             }
            },
            "type": "scattermapbox"
           }
          ],
          "scatterpolar": [
           {
            "marker": {
             "colorbar": {
              "outlinewidth": 0,
              "ticks": ""
             }
            },
            "type": "scatterpolar"
           }
          ],
          "scatterpolargl": [
           {
            "marker": {
             "colorbar": {
              "outlinewidth": 0,
              "ticks": ""
             }
            },
            "type": "scatterpolargl"
           }
          ],
          "scatterternary": [
           {
            "marker": {
             "colorbar": {
              "outlinewidth": 0,
              "ticks": ""
             }
            },
            "type": "scatterternary"
           }
          ],
          "surface": [
           {
            "colorbar": {
             "outlinewidth": 0,
             "ticks": ""
            },
            "colorscale": [
             [
              0,
              "#0d0887"
             ],
             [
              0.1111111111111111,
              "#46039f"
             ],
             [
              0.2222222222222222,
              "#7201a8"
             ],
             [
              0.3333333333333333,
              "#9c179e"
             ],
             [
              0.4444444444444444,
              "#bd3786"
             ],
             [
              0.5555555555555556,
              "#d8576b"
             ],
             [
              0.6666666666666666,
              "#ed7953"
             ],
             [
              0.7777777777777778,
              "#fb9f3a"
             ],
             [
              0.8888888888888888,
              "#fdca26"
             ],
             [
              1,
              "#f0f921"
             ]
            ],
            "type": "surface"
           }
          ],
          "table": [
           {
            "cells": {
             "fill": {
              "color": "#EBF0F8"
             },
             "line": {
              "color": "white"
             }
            },
            "header": {
             "fill": {
              "color": "#C8D4E3"
             },
             "line": {
              "color": "white"
             }
            },
            "type": "table"
           }
          ]
         },
         "layout": {
          "annotationdefaults": {
           "arrowcolor": "#2a3f5f",
           "arrowhead": 0,
           "arrowwidth": 1
          },
          "autotypenumbers": "strict",
          "coloraxis": {
           "colorbar": {
            "outlinewidth": 0,
            "ticks": ""
           }
          },
          "colorscale": {
           "diverging": [
            [
             0,
             "#8e0152"
            ],
            [
             0.1,
             "#c51b7d"
            ],
            [
             0.2,
             "#de77ae"
            ],
            [
             0.3,
             "#f1b6da"
            ],
            [
             0.4,
             "#fde0ef"
            ],
            [
             0.5,
             "#f7f7f7"
            ],
            [
             0.6,
             "#e6f5d0"
            ],
            [
             0.7,
             "#b8e186"
            ],
            [
             0.8,
             "#7fbc41"
            ],
            [
             0.9,
             "#4d9221"
            ],
            [
             1,
             "#276419"
            ]
           ],
           "sequential": [
            [
             0,
             "#0d0887"
            ],
            [
             0.1111111111111111,
             "#46039f"
            ],
            [
             0.2222222222222222,
             "#7201a8"
            ],
            [
             0.3333333333333333,
             "#9c179e"
            ],
            [
             0.4444444444444444,
             "#bd3786"
            ],
            [
             0.5555555555555556,
             "#d8576b"
            ],
            [
             0.6666666666666666,
             "#ed7953"
            ],
            [
             0.7777777777777778,
             "#fb9f3a"
            ],
            [
             0.8888888888888888,
             "#fdca26"
            ],
            [
             1,
             "#f0f921"
            ]
           ],
           "sequentialminus": [
            [
             0,
             "#0d0887"
            ],
            [
             0.1111111111111111,
             "#46039f"
            ],
            [
             0.2222222222222222,
             "#7201a8"
            ],
            [
             0.3333333333333333,
             "#9c179e"
            ],
            [
             0.4444444444444444,
             "#bd3786"
            ],
            [
             0.5555555555555556,
             "#d8576b"
            ],
            [
             0.6666666666666666,
             "#ed7953"
            ],
            [
             0.7777777777777778,
             "#fb9f3a"
            ],
            [
             0.8888888888888888,
             "#fdca26"
            ],
            [
             1,
             "#f0f921"
            ]
           ]
          },
          "colorway": [
           "#636efa",
           "#EF553B",
           "#00cc96",
           "#ab63fa",
           "#FFA15A",
           "#19d3f3",
           "#FF6692",
           "#B6E880",
           "#FF97FF",
           "#FECB52"
          ],
          "font": {
           "color": "#2a3f5f"
          },
          "geo": {
           "bgcolor": "white",
           "lakecolor": "white",
           "landcolor": "#E5ECF6",
           "showlakes": true,
           "showland": true,
           "subunitcolor": "white"
          },
          "hoverlabel": {
           "align": "left"
          },
          "hovermode": "closest",
          "mapbox": {
           "style": "light"
          },
          "paper_bgcolor": "white",
          "plot_bgcolor": "#E5ECF6",
          "polar": {
           "angularaxis": {
            "gridcolor": "white",
            "linecolor": "white",
            "ticks": ""
           },
           "bgcolor": "#E5ECF6",
           "radialaxis": {
            "gridcolor": "white",
            "linecolor": "white",
            "ticks": ""
           }
          },
          "scene": {
           "xaxis": {
            "backgroundcolor": "#E5ECF6",
            "gridcolor": "white",
            "gridwidth": 2,
            "linecolor": "white",
            "showbackground": true,
            "ticks": "",
            "zerolinecolor": "white"
           },
           "yaxis": {
            "backgroundcolor": "#E5ECF6",
            "gridcolor": "white",
            "gridwidth": 2,
            "linecolor": "white",
            "showbackground": true,
            "ticks": "",
            "zerolinecolor": "white"
           },
           "zaxis": {
            "backgroundcolor": "#E5ECF6",
            "gridcolor": "white",
            "gridwidth": 2,
            "linecolor": "white",
            "showbackground": true,
            "ticks": "",
            "zerolinecolor": "white"
           }
          },
          "shapedefaults": {
           "line": {
            "color": "#2a3f5f"
           }
          },
          "ternary": {
           "aaxis": {
            "gridcolor": "white",
            "linecolor": "white",
            "ticks": ""
           },
           "baxis": {
            "gridcolor": "white",
            "linecolor": "white",
            "ticks": ""
           },
           "bgcolor": "#E5ECF6",
           "caxis": {
            "gridcolor": "white",
            "linecolor": "white",
            "ticks": ""
           }
          },
          "title": {
           "x": 0.05
          },
          "xaxis": {
           "automargin": true,
           "gridcolor": "white",
           "linecolor": "white",
           "ticks": "",
           "title": {
            "standoff": 15
           },
           "zerolinecolor": "white",
           "zerolinewidth": 2
          },
          "yaxis": {
           "automargin": true,
           "gridcolor": "white",
           "linecolor": "white",
           "ticks": "",
           "title": {
            "standoff": 15
           },
           "zerolinecolor": "white",
           "zerolinewidth": 2
          }
         }
        },
        "width": 900,
        "xaxis": {
         "anchor": "y",
         "domain": [
          0,
          1
         ],
         "tickangle": 45,
         "title": {
          "text": "Apps"
         },
         "type": "category"
        },
        "yaxis": {
         "anchor": "x",
         "domain": [
          0,
          1
         ],
         "title": {
          "text": "Number of sessions with apps"
         }
        }
       }
      },
      "text/html": [
       "<div>                            <div id=\"8f115a53-c983-4121-9642-c1401ba93381\" class=\"plotly-graph-div\" style=\"height:600px; width:900px;\"></div>            <script type=\"text/javascript\">                require([\"plotly\"], function(Plotly) {                    window.PLOTLYENV=window.PLOTLYENV || {};                                    if (document.getElementById(\"8f115a53-c983-4121-9642-c1401ba93381\")) {                    Plotly.newPlot(                        \"8f115a53-c983-4121-9642-c1401ba93381\",                        [{\"alignmentgroup\":\"True\",\"hovertemplate\":\"x=%{x}<br>y=%{y}<extra></extra>\",\"legendgroup\":\"\",\"marker\":{\"color\":\"#636efa\",\"pattern\":{\"shape\":\"\"}},\"name\":\"\",\"offsetgroup\":\"\",\"orientation\":\"v\",\"showlegend\":false,\"textposition\":\"auto\",\"type\":\"bar\",\"x\":[\"bbc.mobile.news.uk\",\"com.amazon.mshop.android.shopping\",\"com.android.chrome\",\"com.android.incallui\",\"com.android.phone\",\"com.ebay.mobile\",\"com.facebook.katana\",\"com.facebook.orca\",\"com.google.android.apps.maps\",\"com.google.android.apps.messaging\",\"com.google.android.calendar\",\"com.google.android.gm\",\"com.google.android.googlequicksearchbox\",\"com.google.android.youtube\",\"com.instagram.android\",\"com.microsoft.office.outlook\",\"com.nianticlabs.pokemongo\",\"com.snapchat.android\",\"com.sony.nfx.app.sfrc\",\"com.sonyericsson.album\",\"com.sonyericsson.android.socialphonebook\",\"com.sonyericsson.conversations\",\"com.sonyericsson.music\",\"com.sonymobile.calendar\",\"com.sonymobile.email\",\"com.spotify.music\",\"com.twitter.android\",\"com.whatsapp\",\"com.yahoo.mobile.client.android.mail\"],\"xaxis\":\"x\",\"y\":[1081397,765381,14524225,3103836,653861,1123891,23465309,8135692,3127612,867932,625565,4866042,9307779,3428755,6184211,1924898,980353,4731593,995562,3777571,2790678,11467156,1188287,618095,4493428,1973003,2954424,17901165,1235047],\"yaxis\":\"y\"}],                        {\"barmode\":\"relative\",\"height\":600,\"legend\":{\"tracegroupgap\":0},\"margin\":{\"t\":60},\"template\":{\"data\":{\"bar\":[{\"error_x\":{\"color\":\"#2a3f5f\"},\"error_y\":{\"color\":\"#2a3f5f\"},\"marker\":{\"line\":{\"color\":\"#E5ECF6\",\"width\":0.5},\"pattern\":{\"fillmode\":\"overlay\",\"size\":10,\"solidity\":0.2}},\"type\":\"bar\"}],\"barpolar\":[{\"marker\":{\"line\":{\"color\":\"#E5ECF6\",\"width\":0.5},\"pattern\":{\"fillmode\":\"overlay\",\"size\":10,\"solidity\":0.2}},\"type\":\"barpolar\"}],\"carpet\":[{\"aaxis\":{\"endlinecolor\":\"#2a3f5f\",\"gridcolor\":\"white\",\"linecolor\":\"white\",\"minorgridcolor\":\"white\",\"startlinecolor\":\"#2a3f5f\"},\"baxis\":{\"endlinecolor\":\"#2a3f5f\",\"gridcolor\":\"white\",\"linecolor\":\"white\",\"minorgridcolor\":\"white\",\"startlinecolor\":\"#2a3f5f\"},\"type\":\"carpet\"}],\"choropleth\":[{\"colorbar\":{\"outlinewidth\":0,\"ticks\":\"\"},\"type\":\"choropleth\"}],\"contour\":[{\"colorbar\":{\"outlinewidth\":0,\"ticks\":\"\"},\"colorscale\":[[0.0,\"#0d0887\"],[0.1111111111111111,\"#46039f\"],[0.2222222222222222,\"#7201a8\"],[0.3333333333333333,\"#9c179e\"],[0.4444444444444444,\"#bd3786\"],[0.5555555555555556,\"#d8576b\"],[0.6666666666666666,\"#ed7953\"],[0.7777777777777778,\"#fb9f3a\"],[0.8888888888888888,\"#fdca26\"],[1.0,\"#f0f921\"]],\"type\":\"contour\"}],\"contourcarpet\":[{\"colorbar\":{\"outlinewidth\":0,\"ticks\":\"\"},\"type\":\"contourcarpet\"}],\"heatmap\":[{\"colorbar\":{\"outlinewidth\":0,\"ticks\":\"\"},\"colorscale\":[[0.0,\"#0d0887\"],[0.1111111111111111,\"#46039f\"],[0.2222222222222222,\"#7201a8\"],[0.3333333333333333,\"#9c179e\"],[0.4444444444444444,\"#bd3786\"],[0.5555555555555556,\"#d8576b\"],[0.6666666666666666,\"#ed7953\"],[0.7777777777777778,\"#fb9f3a\"],[0.8888888888888888,\"#fdca26\"],[1.0,\"#f0f921\"]],\"type\":\"heatmap\"}],\"heatmapgl\":[{\"colorbar\":{\"outlinewidth\":0,\"ticks\":\"\"},\"colorscale\":[[0.0,\"#0d0887\"],[0.1111111111111111,\"#46039f\"],[0.2222222222222222,\"#7201a8\"],[0.3333333333333333,\"#9c179e\"],[0.4444444444444444,\"#bd3786\"],[0.5555555555555556,\"#d8576b\"],[0.6666666666666666,\"#ed7953\"],[0.7777777777777778,\"#fb9f3a\"],[0.8888888888888888,\"#fdca26\"],[1.0,\"#f0f921\"]],\"type\":\"heatmapgl\"}],\"histogram\":[{\"marker\":{\"pattern\":{\"fillmode\":\"overlay\",\"size\":10,\"solidity\":0.2}},\"type\":\"histogram\"}],\"histogram2d\":[{\"colorbar\":{\"outlinewidth\":0,\"ticks\":\"\"},\"colorscale\":[[0.0,\"#0d0887\"],[0.1111111111111111,\"#46039f\"],[0.2222222222222222,\"#7201a8\"],[0.3333333333333333,\"#9c179e\"],[0.4444444444444444,\"#bd3786\"],[0.5555555555555556,\"#d8576b\"],[0.6666666666666666,\"#ed7953\"],[0.7777777777777778,\"#fb9f3a\"],[0.8888888888888888,\"#fdca26\"],[1.0,\"#f0f921\"]],\"type\":\"histogram2d\"}],\"histogram2dcontour\":[{\"colorbar\":{\"outlinewidth\":0,\"ticks\":\"\"},\"colorscale\":[[0.0,\"#0d0887\"],[0.1111111111111111,\"#46039f\"],[0.2222222222222222,\"#7201a8\"],[0.3333333333333333,\"#9c179e\"],[0.4444444444444444,\"#bd3786\"],[0.5555555555555556,\"#d8576b\"],[0.6666666666666666,\"#ed7953\"],[0.7777777777777778,\"#fb9f3a\"],[0.8888888888888888,\"#fdca26\"],[1.0,\"#f0f921\"]],\"type\":\"histogram2dcontour\"}],\"mesh3d\":[{\"colorbar\":{\"outlinewidth\":0,\"ticks\":\"\"},\"type\":\"mesh3d\"}],\"parcoords\":[{\"line\":{\"colorbar\":{\"outlinewidth\":0,\"ticks\":\"\"}},\"type\":\"parcoords\"}],\"pie\":[{\"automargin\":true,\"type\":\"pie\"}],\"scatter\":[{\"marker\":{\"colorbar\":{\"outlinewidth\":0,\"ticks\":\"\"}},\"type\":\"scatter\"}],\"scatter3d\":[{\"line\":{\"colorbar\":{\"outlinewidth\":0,\"ticks\":\"\"}},\"marker\":{\"colorbar\":{\"outlinewidth\":0,\"ticks\":\"\"}},\"type\":\"scatter3d\"}],\"scattercarpet\":[{\"marker\":{\"colorbar\":{\"outlinewidth\":0,\"ticks\":\"\"}},\"type\":\"scattercarpet\"}],\"scattergeo\":[{\"marker\":{\"colorbar\":{\"outlinewidth\":0,\"ticks\":\"\"}},\"type\":\"scattergeo\"}],\"scattergl\":[{\"marker\":{\"colorbar\":{\"outlinewidth\":0,\"ticks\":\"\"}},\"type\":\"scattergl\"}],\"scattermapbox\":[{\"marker\":{\"colorbar\":{\"outlinewidth\":0,\"ticks\":\"\"}},\"type\":\"scattermapbox\"}],\"scatterpolar\":[{\"marker\":{\"colorbar\":{\"outlinewidth\":0,\"ticks\":\"\"}},\"type\":\"scatterpolar\"}],\"scatterpolargl\":[{\"marker\":{\"colorbar\":{\"outlinewidth\":0,\"ticks\":\"\"}},\"type\":\"scatterpolargl\"}],\"scatterternary\":[{\"marker\":{\"colorbar\":{\"outlinewidth\":0,\"ticks\":\"\"}},\"type\":\"scatterternary\"}],\"surface\":[{\"colorbar\":{\"outlinewidth\":0,\"ticks\":\"\"},\"colorscale\":[[0.0,\"#0d0887\"],[0.1111111111111111,\"#46039f\"],[0.2222222222222222,\"#7201a8\"],[0.3333333333333333,\"#9c179e\"],[0.4444444444444444,\"#bd3786\"],[0.5555555555555556,\"#d8576b\"],[0.6666666666666666,\"#ed7953\"],[0.7777777777777778,\"#fb9f3a\"],[0.8888888888888888,\"#fdca26\"],[1.0,\"#f0f921\"]],\"type\":\"surface\"}],\"table\":[{\"cells\":{\"fill\":{\"color\":\"#EBF0F8\"},\"line\":{\"color\":\"white\"}},\"header\":{\"fill\":{\"color\":\"#C8D4E3\"},\"line\":{\"color\":\"white\"}},\"type\":\"table\"}]},\"layout\":{\"annotationdefaults\":{\"arrowcolor\":\"#2a3f5f\",\"arrowhead\":0,\"arrowwidth\":1},\"autotypenumbers\":\"strict\",\"coloraxis\":{\"colorbar\":{\"outlinewidth\":0,\"ticks\":\"\"}},\"colorscale\":{\"diverging\":[[0,\"#8e0152\"],[0.1,\"#c51b7d\"],[0.2,\"#de77ae\"],[0.3,\"#f1b6da\"],[0.4,\"#fde0ef\"],[0.5,\"#f7f7f7\"],[0.6,\"#e6f5d0\"],[0.7,\"#b8e186\"],[0.8,\"#7fbc41\"],[0.9,\"#4d9221\"],[1,\"#276419\"]],\"sequential\":[[0.0,\"#0d0887\"],[0.1111111111111111,\"#46039f\"],[0.2222222222222222,\"#7201a8\"],[0.3333333333333333,\"#9c179e\"],[0.4444444444444444,\"#bd3786\"],[0.5555555555555556,\"#d8576b\"],[0.6666666666666666,\"#ed7953\"],[0.7777777777777778,\"#fb9f3a\"],[0.8888888888888888,\"#fdca26\"],[1.0,\"#f0f921\"]],\"sequentialminus\":[[0.0,\"#0d0887\"],[0.1111111111111111,\"#46039f\"],[0.2222222222222222,\"#7201a8\"],[0.3333333333333333,\"#9c179e\"],[0.4444444444444444,\"#bd3786\"],[0.5555555555555556,\"#d8576b\"],[0.6666666666666666,\"#ed7953\"],[0.7777777777777778,\"#fb9f3a\"],[0.8888888888888888,\"#fdca26\"],[1.0,\"#f0f921\"]]},\"colorway\":[\"#636efa\",\"#EF553B\",\"#00cc96\",\"#ab63fa\",\"#FFA15A\",\"#19d3f3\",\"#FF6692\",\"#B6E880\",\"#FF97FF\",\"#FECB52\"],\"font\":{\"color\":\"#2a3f5f\"},\"geo\":{\"bgcolor\":\"white\",\"lakecolor\":\"white\",\"landcolor\":\"#E5ECF6\",\"showlakes\":true,\"showland\":true,\"subunitcolor\":\"white\"},\"hoverlabel\":{\"align\":\"left\"},\"hovermode\":\"closest\",\"mapbox\":{\"style\":\"light\"},\"paper_bgcolor\":\"white\",\"plot_bgcolor\":\"#E5ECF6\",\"polar\":{\"angularaxis\":{\"gridcolor\":\"white\",\"linecolor\":\"white\",\"ticks\":\"\"},\"bgcolor\":\"#E5ECF6\",\"radialaxis\":{\"gridcolor\":\"white\",\"linecolor\":\"white\",\"ticks\":\"\"}},\"scene\":{\"xaxis\":{\"backgroundcolor\":\"#E5ECF6\",\"gridcolor\":\"white\",\"gridwidth\":2,\"linecolor\":\"white\",\"showbackground\":true,\"ticks\":\"\",\"zerolinecolor\":\"white\"},\"yaxis\":{\"backgroundcolor\":\"#E5ECF6\",\"gridcolor\":\"white\",\"gridwidth\":2,\"linecolor\":\"white\",\"showbackground\":true,\"ticks\":\"\",\"zerolinecolor\":\"white\"},\"zaxis\":{\"backgroundcolor\":\"#E5ECF6\",\"gridcolor\":\"white\",\"gridwidth\":2,\"linecolor\":\"white\",\"showbackground\":true,\"ticks\":\"\",\"zerolinecolor\":\"white\"}},\"shapedefaults\":{\"line\":{\"color\":\"#2a3f5f\"}},\"ternary\":{\"aaxis\":{\"gridcolor\":\"white\",\"linecolor\":\"white\",\"ticks\":\"\"},\"baxis\":{\"gridcolor\":\"white\",\"linecolor\":\"white\",\"ticks\":\"\"},\"bgcolor\":\"#E5ECF6\",\"caxis\":{\"gridcolor\":\"white\",\"linecolor\":\"white\",\"ticks\":\"\"}},\"title\":{\"x\":0.05},\"xaxis\":{\"automargin\":true,\"gridcolor\":\"white\",\"linecolor\":\"white\",\"ticks\":\"\",\"title\":{\"standoff\":15},\"zerolinecolor\":\"white\",\"zerolinewidth\":2},\"yaxis\":{\"automargin\":true,\"gridcolor\":\"white\",\"linecolor\":\"white\",\"ticks\":\"\",\"title\":{\"standoff\":15},\"zerolinecolor\":\"white\",\"zerolinewidth\":2}}},\"width\":900,\"xaxis\":{\"anchor\":\"y\",\"domain\":[0.0,1.0],\"tickangle\":45,\"title\":{\"text\":\"Apps\"},\"type\":\"category\"},\"yaxis\":{\"anchor\":\"x\",\"domain\":[0.0,1.0],\"title\":{\"text\":\"Number of sessions with apps\"}}},                        {\"responsive\": true}                    ).then(function(){\n",
       "                            \n",
       "var gd = document.getElementById('8f115a53-c983-4121-9642-c1401ba93381');\n",
       "var x = new MutationObserver(function (mutations, observer) {{\n",
       "        var display = window.getComputedStyle(gd).display;\n",
       "        if (!display || display === 'none') {{\n",
       "            console.log([gd, 'removed!']);\n",
       "            Plotly.purge(gd);\n",
       "            observer.disconnect();\n",
       "        }}\n",
       "}});\n",
       "\n",
       "// Listen for the removal of the full notebook cells\n",
       "var notebookContainer = gd.closest('#notebook-container');\n",
       "if (notebookContainer) {{\n",
       "    x.observe(notebookContainer, {childList: true});\n",
       "}}\n",
       "\n",
       "// Listen for the clearing of the current output cell\n",
       "var outputEl = gd.closest('.output');\n",
       "if (outputEl) {{\n",
       "    x.observe(outputEl, {childList: true});\n",
       "}}\n",
       "\n",
       "                        })                };                });            </script>        </div>"
      ]
     },
     "metadata": {},
     "output_type": "display_data"
    }
   ],
   "source": [
    "fig = px.bar(x=frequent_apps, y = [(vectorization>0).sum(axis=0)[0,np.where(vectorizer.get_feature_names_out()==app)[0][0]] for app in frequent_apps],width=900,height=600)\n",
    "fig.update_layout(\n",
    "    xaxis_title=\"Apps\",\n",
    "    yaxis_title=\"Number of sessions with apps\")\n",
    "fig.update_xaxes(type='category',tickangle = 45)"
   ]
  },
  {
   "cell_type": "markdown",
   "metadata": {},
   "source": [
    "We can now calculate a similar \"distribution\" for each users."
   ]
  }
 ],
 "metadata": {
  "kernelspec": {
   "display_name": "Python 3",
   "language": "python",
   "name": "python3"
  },
  "language_info": {
   "codemirror_mode": {
    "name": "ipython",
    "version": 3
   },
   "file_extension": ".py",
   "mimetype": "text/x-python",
   "name": "python",
   "nbconvert_exporter": "python",
   "pygments_lexer": "ipython3",
   "version": "3.8.5"
  }
 },
 "nbformat": 4,
 "nbformat_minor": 4
}
