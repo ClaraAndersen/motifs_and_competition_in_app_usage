{
 "cells": [
  {
   "cell_type": "markdown",
   "metadata": {},
   "source": [
    "# App Sequences based on apps\n",
    "In this notebook we "
   ]
  },
  {
   "cell_type": "code",
   "execution_count": 10,
   "metadata": {},
   "outputs": [],
   "source": [
    "import pandas as pd\n",
    "import matplotlib.pyplot as plt"
   ]
  },
  {
   "cell_type": "code",
   "execution_count": 2,
   "metadata": {},
   "outputs": [],
   "source": [
    "data=pd.read_csv(\"names_with_app_clusters.csv\")"
   ]
  },
  {
   "cell_type": "code",
   "execution_count": 3,
   "metadata": {},
   "outputs": [],
   "source": [
    "data=data.drop(columns=['cluster'])"
   ]
  },
  {
   "cell_type": "code",
   "execution_count": 4,
   "metadata": {},
   "outputs": [],
   "source": [
    "data[\"next_app\"]=data.groupby([\"user_id\",\"session\"]).package_name.shift(-1)"
   ]
  },
  {
   "cell_type": "code",
   "execution_count": 5,
   "metadata": {},
   "outputs": [],
   "source": [
    "data=data.merge(data.groupby([\"user_id\",\"session\"]).agg({\"package_name\":\"size\"}).rename(columns={\"package_name\":\"session_length\"}).reset_index(),on=['user_id','session'])"
   ]
  },
  {
   "cell_type": "code",
   "execution_count": 6,
   "metadata": {},
   "outputs": [],
   "source": [
    "data=data[data.session_length>1]"
   ]
  },
  {
   "cell_type": "code",
   "execution_count": 7,
   "metadata": {},
   "outputs": [
    {
     "data": {
      "text/plain": [
       "package_name\n",
       "com.facebook.katana    26575175\n",
       "dtype: int64"
      ]
     },
     "execution_count": 7,
     "metadata": {},
     "output_type": "execute_result"
    }
   ],
   "source": [
    "data.groupby(['package_name']).size()[data.groupby('package_name').size().max()==data.groupby('package_name').size()]"
   ]
  },
  {
   "cell_type": "code",
   "execution_count": 7,
   "metadata": {},
   "outputs": [],
   "source": [
    "sessions_start_facebook=data.set_index([\"user_id\",\"session\"]).loc[data[(data.package_name=='com.facebook.katana')&(data.session!=data.groupby([\"user_id\"]).session.shift(1))].set_index([\"user_id\",\"session\"]).index]"
   ]
  },
  {
   "cell_type": "code",
   "execution_count": 2,
   "metadata": {},
   "outputs": [],
   "source": [
    "sessions_start_facebook=pd.read_csv(\"sessions_start_facebook.csv\")"
   ]
  },
  {
   "cell_type": "code",
   "execution_count": 3,
   "metadata": {},
   "outputs": [
    {
     "data": {
      "text/html": [
       "<div>\n",
       "<style scoped>\n",
       "    .dataframe tbody tr th:only-of-type {\n",
       "        vertical-align: middle;\n",
       "    }\n",
       "\n",
       "    .dataframe tbody tr th {\n",
       "        vertical-align: top;\n",
       "    }\n",
       "\n",
       "    .dataframe thead th {\n",
       "        text-align: right;\n",
       "    }\n",
       "</style>\n",
       "<table border=\"1\" class=\"dataframe\">\n",
       "  <thead>\n",
       "    <tr style=\"text-align: right;\">\n",
       "      <th></th>\n",
       "      <th>user_id</th>\n",
       "      <th>session</th>\n",
       "      <th>package_name</th>\n",
       "      <th>next_app</th>\n",
       "      <th>session_length</th>\n",
       "    </tr>\n",
       "  </thead>\n",
       "  <tbody>\n",
       "    <tr>\n",
       "      <th>0</th>\n",
       "      <td>0</td>\n",
       "      <td>0</td>\n",
       "      <td>com.facebook.katana</td>\n",
       "      <td>com.android.chrome</td>\n",
       "      <td>7</td>\n",
       "    </tr>\n",
       "    <tr>\n",
       "      <th>1</th>\n",
       "      <td>0</td>\n",
       "      <td>0</td>\n",
       "      <td>com.android.chrome</td>\n",
       "      <td>com.google.android.apps.photos</td>\n",
       "      <td>7</td>\n",
       "    </tr>\n",
       "    <tr>\n",
       "      <th>2</th>\n",
       "      <td>0</td>\n",
       "      <td>0</td>\n",
       "      <td>com.google.android.apps.photos</td>\n",
       "      <td>com.facebook.katana</td>\n",
       "      <td>7</td>\n",
       "    </tr>\n",
       "    <tr>\n",
       "      <th>3</th>\n",
       "      <td>0</td>\n",
       "      <td>0</td>\n",
       "      <td>com.facebook.katana</td>\n",
       "      <td>com.whatsapp</td>\n",
       "      <td>7</td>\n",
       "    </tr>\n",
       "    <tr>\n",
       "      <th>4</th>\n",
       "      <td>0</td>\n",
       "      <td>0</td>\n",
       "      <td>com.whatsapp</td>\n",
       "      <td>com.google.android.youtube</td>\n",
       "      <td>7</td>\n",
       "    </tr>\n",
       "    <tr>\n",
       "      <th>...</th>\n",
       "      <td>...</td>\n",
       "      <td>...</td>\n",
       "      <td>...</td>\n",
       "      <td>...</td>\n",
       "      <td>...</td>\n",
       "    </tr>\n",
       "    <tr>\n",
       "      <th>26754848</th>\n",
       "      <td>9999</td>\n",
       "      <td>5641</td>\n",
       "      <td>com.whatsapp</td>\n",
       "      <td>NaN</td>\n",
       "      <td>4</td>\n",
       "    </tr>\n",
       "    <tr>\n",
       "      <th>26754849</th>\n",
       "      <td>9999</td>\n",
       "      <td>5642</td>\n",
       "      <td>com.facebook.katana</td>\n",
       "      <td>com.snapchat.android</td>\n",
       "      <td>4</td>\n",
       "    </tr>\n",
       "    <tr>\n",
       "      <th>26754850</th>\n",
       "      <td>9999</td>\n",
       "      <td>5642</td>\n",
       "      <td>com.snapchat.android</td>\n",
       "      <td>com.instagram.android</td>\n",
       "      <td>4</td>\n",
       "    </tr>\n",
       "    <tr>\n",
       "      <th>26754851</th>\n",
       "      <td>9999</td>\n",
       "      <td>5642</td>\n",
       "      <td>com.instagram.android</td>\n",
       "      <td>com.facebook.katana</td>\n",
       "      <td>4</td>\n",
       "    </tr>\n",
       "    <tr>\n",
       "      <th>26754852</th>\n",
       "      <td>9999</td>\n",
       "      <td>5642</td>\n",
       "      <td>com.facebook.katana</td>\n",
       "      <td>NaN</td>\n",
       "      <td>4</td>\n",
       "    </tr>\n",
       "  </tbody>\n",
       "</table>\n",
       "<p>26754853 rows × 5 columns</p>\n",
       "</div>"
      ],
      "text/plain": [
       "          user_id  session                    package_name  \\\n",
       "0               0        0             com.facebook.katana   \n",
       "1               0        0              com.android.chrome   \n",
       "2               0        0  com.google.android.apps.photos   \n",
       "3               0        0             com.facebook.katana   \n",
       "4               0        0                    com.whatsapp   \n",
       "...           ...      ...                             ...   \n",
       "26754848     9999     5641                    com.whatsapp   \n",
       "26754849     9999     5642             com.facebook.katana   \n",
       "26754850     9999     5642            com.snapchat.android   \n",
       "26754851     9999     5642           com.instagram.android   \n",
       "26754852     9999     5642             com.facebook.katana   \n",
       "\n",
       "                                next_app  session_length  \n",
       "0                     com.android.chrome               7  \n",
       "1         com.google.android.apps.photos               7  \n",
       "2                    com.facebook.katana               7  \n",
       "3                           com.whatsapp               7  \n",
       "4             com.google.android.youtube               7  \n",
       "...                                  ...             ...  \n",
       "26754848                             NaN               4  \n",
       "26754849            com.snapchat.android               4  \n",
       "26754850           com.instagram.android               4  \n",
       "26754851             com.facebook.katana               4  \n",
       "26754852                             NaN               4  \n",
       "\n",
       "[26754853 rows x 5 columns]"
      ]
     },
     "execution_count": 3,
     "metadata": {},
     "output_type": "execute_result"
    }
   ],
   "source": [
    "sessions_start_facebook"
   ]
  },
  {
   "cell_type": "markdown",
   "metadata": {},
   "source": [
    "Now that we have the sessions that begin with the most frequent app (Facebook), we can take a look at which apps come next."
   ]
  },
  {
   "cell_type": "code",
   "execution_count": 4,
   "metadata": {},
   "outputs": [],
   "source": [
    "sessions_start_facebook[\"position in sequence\"]=1"
   ]
  },
  {
   "cell_type": "code",
   "execution_count": 12,
   "metadata": {},
   "outputs": [],
   "source": [
    "sessions_start_facebook[\"position in sequence\"]=sessions_start_facebook.groupby(['user_id','session'])[\"position in sequence\"].cumsum()"
   ]
  },
  {
   "cell_type": "code",
   "execution_count": 16,
   "metadata": {},
   "outputs": [],
   "source": [
    "sessions_start_facebook.to_csv(\"sessions_start_facebook.csv\")"
   ]
  },
  {
   "cell_type": "markdown",
   "metadata": {},
   "source": [
    "sessions_start_facebook.groupby([\"position in sequence\"]).package_name.nunique()"
   ]
  },
  {
   "cell_type": "code",
   "execution_count": 4,
   "metadata": {},
   "outputs": [],
   "source": [
    "sessions_start_facebook=sessions_start_facebook.drop(columns=['Unnamed: 0'])"
   ]
  },
  {
   "cell_type": "code",
   "execution_count": 5,
   "metadata": {},
   "outputs": [
    {
     "data": {
      "text/html": [
       "<div>\n",
       "<style scoped>\n",
       "    .dataframe tbody tr th:only-of-type {\n",
       "        vertical-align: middle;\n",
       "    }\n",
       "\n",
       "    .dataframe tbody tr th {\n",
       "        vertical-align: top;\n",
       "    }\n",
       "\n",
       "    .dataframe thead th {\n",
       "        text-align: right;\n",
       "    }\n",
       "</style>\n",
       "<table border=\"1\" class=\"dataframe\">\n",
       "  <thead>\n",
       "    <tr style=\"text-align: right;\">\n",
       "      <th></th>\n",
       "      <th>user_id</th>\n",
       "      <th>session</th>\n",
       "      <th>package_name</th>\n",
       "      <th>next_app</th>\n",
       "      <th>session_length</th>\n",
       "      <th>position in sequence</th>\n",
       "    </tr>\n",
       "  </thead>\n",
       "  <tbody>\n",
       "    <tr>\n",
       "      <th>3378779</th>\n",
       "      <td>1274</td>\n",
       "      <td>4401</td>\n",
       "      <td>com.whatsapp</td>\n",
       "      <td>NaN</td>\n",
       "      <td>312</td>\n",
       "      <td>312</td>\n",
       "    </tr>\n",
       "  </tbody>\n",
       "</table>\n",
       "</div>"
      ],
      "text/plain": [
       "         user_id  session  package_name next_app  session_length  \\\n",
       "3378779     1274     4401  com.whatsapp      NaN             312   \n",
       "\n",
       "         position in sequence  \n",
       "3378779                   312  "
      ]
     },
     "execution_count": 5,
     "metadata": {},
     "output_type": "execute_result"
    }
   ],
   "source": [
    "sessions_start_facebook[sessions_start_facebook[\"position in sequence\"]==312]"
   ]
  },
  {
   "cell_type": "markdown",
   "metadata": {},
   "source": [
    "Before we start to look closer at the sequences we take a look at how the sessions are distributed. Below we can see that while there are more sessions of a shorter lengthh, there are still over hudred of the longest one, indicating we have enough information to look at even the longest ones."
   ]
  },
  {
   "cell_type": "code",
   "execution_count": 13,
   "metadata": {},
   "outputs": [
    {
     "data": {
      "image/png": "[encoded data removed]",
      "text/plain": [
       "<Figure size 432x288 with 1 Axes>"
      ]
     },
     "metadata": {
      "needs_background": "light"
     },
     "output_type": "display_data"
    }
   ],
   "source": [
    "plt.bar(sessions_start_facebook.groupby('session_length').package_name.size().index,sessions_start_facebook.groupby('session_length').package_name.size().values)\n",
    "plt.yscale('log')\n",
    "plt.show()"
   ]
  },
  {
   "cell_type": "markdown",
   "metadata": {},
   "source": [
    "Below it can be observed that for the longest sessions, even there serveral of them, they are all for the samme user."
   ]
  },
  {
   "cell_type": "code",
   "execution_count": 18,
   "metadata": {},
   "outputs": [
    {
     "data": {
      "image/png": "[encoded data removed]",
      "text/plain": [
       "<Figure size 432x288 with 1 Axes>"
      ]
     },
     "metadata": {
      "needs_background": "light"
     },
     "output_type": "display_data"
    }
   ],
   "source": [
    "plt.bar(sessions_start_facebook.groupby('session_length').user_id.nunique().index,sessions_start_facebook.groupby('session_length').user_id.nunique().values)\n",
    "plt.yscale('log')\n",
    "plt.show()"
   ]
  },
  {
   "cell_type": "code",
   "execution_count": 29,
   "metadata": {},
   "outputs": [
    {
     "name": "stdout",
     "output_type": "stream",
     "text": [
      "number of different apps in second position: 16860\n"
     ]
    }
   ],
   "source": [
    "print(\"number of different apps in second position:\",sessions_start_facebook[sessions_start_facebook['position in sequence']==2].package_name.nunique())"
   ]
  },
  {
   "cell_type": "code",
   "execution_count": 28,
   "metadata": {},
   "outputs": [
    {
     "data": {
      "text/plain": [
       "package_name\n",
       "com.facebook.orca                           12.465395\n",
       "com.whatsapp                                23.037991\n",
       "com.android.chrome                          31.903474\n",
       "com.google.android.googlequicksearchbox     39.226893\n",
       "com.sonyericsson.conversations              45.698446\n",
       "com.instagram.android                       51.401126\n",
       "com.snapchat.android                        54.910879\n",
       "com.sonymobile.email                        58.123037\n",
       "com.google.android.gm                       61.045534\n",
       "com.sonyericsson.album                      63.592978\n",
       "com.twitter.android                         65.792638\n",
       "com.google.android.youtube                  67.719423\n",
       "com.google.android.apps.maps                69.169745\n",
       "com.android.incallui                        70.351192\n",
       "com.microsoft.office.outlook                71.491801\n",
       "com.yahoo.mobile.client.android.mail        72.528801\n",
       "com.sonyericsson.android.socialphonebook    73.476892\n",
       "com.ebay.mobile                             74.348975\n",
       "bbc.mobile.news.uk                          75.111848\n",
       "com.spotify.music                           75.854353\n",
       "Name: session, dtype: float64"
      ]
     },
     "execution_count": 28,
     "metadata": {},
     "output_type": "execute_result"
    }
   ],
   "source": [
    "(sessions_start_facebook[sessions_start_facebook['position in sequence']==2].groupby(['package_name']).session.size()/sessions_start_facebook[sessions_start_facebook['position in sequence']==2].shape[0]*100).sort_values(ascending=False).cumsum().head(20)"
   ]
  },
  {
   "cell_type": "markdown",
   "metadata": {},
   "source": [
    "So while there is more than 16000 different apps that are second in the secuences more than 50% of the cases can be described with the six apps."
   ]
  },
  {
   "cell_type": "code",
   "execution_count": 30,
   "metadata": {},
   "outputs": [
    {
     "name": "stdout",
     "output_type": "stream",
     "text": [
      "number of different apps in thrid position: 14662\n"
     ]
    },
    {
     "data": {
      "text/plain": [
       "package_name\n",
       "com.facebook.katana                         29.057969\n",
       "com.android.chrome                          40.118423\n",
       "com.whatsapp                                45.245488\n",
       "com.google.android.googlequicksearchbox     49.641369\n",
       "com.facebook.orca                           53.949484\n",
       "com.instagram.android                       57.996972\n",
       "com.sonyericsson.conversations              61.322363\n",
       "com.snapchat.android                        63.807984\n",
       "com.google.android.gm                       65.951897\n",
       "com.sonymobile.email                        68.060223\n",
       "com.sonyericsson.album                      69.777514\n",
       "com.android.incallui                        71.427567\n",
       "com.google.android.youtube                  73.029828\n",
       "com.twitter.android                         74.591932\n",
       "com.google.android.apps.maps                75.892509\n",
       "com.sonyericsson.android.socialphonebook    76.948574\n",
       "com.microsoft.office.outlook                77.833441\n",
       "com.ebay.mobile                             78.518576\n",
       "com.yahoo.mobile.client.android.mail        79.149473\n",
       "bbc.mobile.news.uk                          79.736064\n",
       "Name: session, dtype: float64"
      ]
     },
     "execution_count": 30,
     "metadata": {},
     "output_type": "execute_result"
    }
   ],
   "source": [
    "print(\"number of different apps in thrid position:\",sessions_start_facebook[sessions_start_facebook['position in sequence']==3].package_name.nunique())\n",
    "\n",
    "(sessions_start_facebook[sessions_start_facebook['position in sequence']==3].groupby(['package_name']).session.size()/sessions_start_facebook[sessions_start_facebook['position in sequence']==3].shape[0]*100).sort_values(ascending=False).cumsum().head(20)"
   ]
  },
  {
   "cell_type": "markdown",
   "metadata": {},
   "source": [
    "Again we see that there is some of the same patterns that next to something there is something else."
   ]
  },
  {
   "cell_type": "code",
   "execution_count": 32,
   "metadata": {},
   "outputs": [
    {
     "data": {
      "text/plain": [
       "position in sequence\n",
       "2      16860\n",
       "3      14662\n",
       "4      13208\n",
       "5      11853\n",
       "6      10342\n",
       "       ...  \n",
       "288        1\n",
       "287        1\n",
       "286        1\n",
       "256        1\n",
       "312        1\n",
       "Name: package_name, Length: 312, dtype: int64"
      ]
     },
     "execution_count": 32,
     "metadata": {},
     "output_type": "execute_result"
    }
   ],
   "source": [
    "sessions_start_facebook.groupby('position in sequence').package_name.nunique().sort_values(ascending=False)"
   ]
  },
  {
   "cell_type": "code",
   "execution_count": 33,
   "metadata": {},
   "outputs": [
    {
     "data": {
      "text/plain": [
       "position in sequence\n",
       "305    1\n",
       "300    1\n",
       "301    1\n",
       "302    1\n",
       "303    1\n",
       "304    1\n",
       "311    1\n",
       "306    1\n",
       "307    1\n",
       "308    1\n",
       "309    1\n",
       "310    1\n",
       "298    1\n",
       "299    1\n",
       "1      1\n",
       "297    1\n",
       "296    1\n",
       "295    1\n",
       "294    1\n",
       "293    1\n",
       "292    1\n",
       "291    1\n",
       "290    1\n",
       "289    1\n",
       "288    1\n",
       "287    1\n",
       "286    1\n",
       "256    1\n",
       "312    1\n",
       "Name: package_name, dtype: int64"
      ]
     },
     "execution_count": 33,
     "metadata": {},
     "output_type": "execute_result"
    }
   ],
   "source": [
    "sessions_start_facebook.groupby('position in sequence').package_name.nunique().sort_values(ascending=False)[sessions_start_facebook.groupby('position in sequence').package_name.nunique().sort_values(ascending=False)==1]"
   ]
  }
 ],
 "metadata": {
  "kernelspec": {
   "display_name": "Python 3",
   "language": "python",
   "name": "python3"
  },
  "language_info": {
   "codemirror_mode": {
    "name": "ipython",
    "version": 3
   },
   "file_extension": ".py",
   "mimetype": "text/x-python",
   "name": "python",
   "nbconvert_exporter": "python",
   "pygments_lexer": "ipython3",
   "version": "3.8.5"
  }
 },
 "nbformat": 4,
 "nbformat_minor": 4
}
