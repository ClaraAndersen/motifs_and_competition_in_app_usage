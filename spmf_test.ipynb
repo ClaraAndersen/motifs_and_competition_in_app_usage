{
 "cells": [
  {
   "cell_type": "code",
   "execution_count": 27,
   "metadata": {},
   "outputs": [],
   "source": [
    "from spmf import Spmf\n",
    "import numpy as np\n",
    "import pandas as pd\n",
    "import os"
   ]
  },
  {
   "cell_type": "code",
   "execution_count": 14,
   "metadata": {},
   "outputs": [],
   "source": [
    "data = pd.read_csv('csvds.csv')"
   ]
  },
  {
   "cell_type": "code",
   "execution_count": 15,
   "metadata": {},
   "outputs": [
    {
     "data": {
      "text/html": [
       "<div>\n",
       "<style scoped>\n",
       "    .dataframe tbody tr th:only-of-type {\n",
       "        vertical-align: middle;\n",
       "    }\n",
       "\n",
       "    .dataframe tbody tr th {\n",
       "        vertical-align: top;\n",
       "    }\n",
       "\n",
       "    .dataframe thead th {\n",
       "        text-align: right;\n",
       "    }\n",
       "</style>\n",
       "<table border=\"1\" class=\"dataframe\">\n",
       "  <thead>\n",
       "    <tr style=\"text-align: right;\">\n",
       "      <th></th>\n",
       "      <th>Unnamed: 0</th>\n",
       "      <th>package_name</th>\n",
       "      <th>user_id</th>\n",
       "      <th>start_time</th>\n",
       "      <th>end_time</th>\n",
       "      <th>time_spend</th>\n",
       "    </tr>\n",
       "  </thead>\n",
       "  <tbody>\n",
       "    <tr>\n",
       "      <th>0</th>\n",
       "      <td>0</td>\n",
       "      <td>com.instagram.android</td>\n",
       "      <td>3401</td>\n",
       "      <td>16628668</td>\n",
       "      <td>16628669</td>\n",
       "      <td>1</td>\n",
       "    </tr>\n",
       "    <tr>\n",
       "      <th>1</th>\n",
       "      <td>1</td>\n",
       "      <td>com.google.android.apps.maps</td>\n",
       "      <td>2365</td>\n",
       "      <td>360890</td>\n",
       "      <td>361391</td>\n",
       "      <td>501</td>\n",
       "    </tr>\n",
       "    <tr>\n",
       "      <th>2</th>\n",
       "      <td>2</td>\n",
       "      <td>com.facebook.katana</td>\n",
       "      <td>4347</td>\n",
       "      <td>2589058</td>\n",
       "      <td>2589078</td>\n",
       "      <td>20</td>\n",
       "    </tr>\n",
       "    <tr>\n",
       "      <th>3</th>\n",
       "      <td>3</td>\n",
       "      <td>com.sonyericsson.conversations</td>\n",
       "      <td>9</td>\n",
       "      <td>18193453</td>\n",
       "      <td>18193534</td>\n",
       "      <td>81</td>\n",
       "    </tr>\n",
       "    <tr>\n",
       "      <th>4</th>\n",
       "      <td>4</td>\n",
       "      <td>com.google.android.apps.genie.geniewidget</td>\n",
       "      <td>4652</td>\n",
       "      <td>1542813</td>\n",
       "      <td>1542933</td>\n",
       "      <td>120</td>\n",
       "    </tr>\n",
       "  </tbody>\n",
       "</table>\n",
       "</div>"
      ],
      "text/plain": [
       "   Unnamed: 0                               package_name  user_id  start_time  \\\n",
       "0           0                      com.instagram.android     3401    16628668   \n",
       "1           1               com.google.android.apps.maps     2365      360890   \n",
       "2           2                        com.facebook.katana     4347     2589058   \n",
       "3           3             com.sonyericsson.conversations        9    18193453   \n",
       "4           4  com.google.android.apps.genie.geniewidget     4652     1542813   \n",
       "\n",
       "   end_time  time_spend  \n",
       "0  16628669           1  \n",
       "1    361391         501  \n",
       "2   2589078          20  \n",
       "3  18193534          81  \n",
       "4   1542933         120  "
      ]
     },
     "execution_count": 15,
     "metadata": {},
     "output_type": "execute_result"
    }
   ],
   "source": [
    "data.head(5)"
   ]
  },
  {
   "cell_type": "code",
   "execution_count": 19,
   "metadata": {},
   "outputs": [],
   "source": [
    "data1 = data.drop(columns=['Unnamed: 0']).sort_values(by=['user_id','start_time'])"
   ]
  },
  {
   "cell_type": "code",
   "execution_count": 28,
   "metadata": {},
   "outputs": [],
   "source": [
    "data1['package_name']=data1['package_name'].astype('category')"
   ]
  },
  {
   "cell_type": "code",
   "execution_count": 29,
   "metadata": {},
   "outputs": [],
   "source": [
    "data1['app_code']=data1['package_name'].cat.codes"
   ]
  },
  {
   "cell_type": "code",
   "execution_count": 32,
   "metadata": {},
   "outputs": [],
   "source": [
    "data1.to_csv('sorted_coded_data.csv',index=True)"
   ]
  },
  {
   "cell_type": "code",
   "execution_count": null,
   "metadata": {},
   "outputs": [],
   "source": []
  },
  {
   "cell_type": "markdown",
   "metadata": {},
   "source": [
    "# Dividing data into groups wrt. user_id and make it as input"
   ]
  },
  {
   "cell_type": "code",
   "execution_count": 32,
   "metadata": {},
   "outputs": [],
   "source": [
    "#data = pd.read_csv('sorted_coded_data.csv')"
   ]
  },
  {
   "cell_type": "code",
   "execution_count": 11,
   "metadata": {},
   "outputs": [],
   "source": [
    "data = data.drop(columns=['Unnamed: 0'])"
   ]
  },
  {
   "cell_type": "code",
   "execution_count": 23,
   "metadata": {},
   "outputs": [],
   "source": [
    "data1 = data[data['user_id']<=4]"
   ]
  },
  {
   "cell_type": "code",
   "execution_count": 24,
   "metadata": {},
   "outputs": [],
   "source": [
    "group_user=data1.groupby(['user_id'])"
   ]
  },
  {
   "cell_type": "code",
   "execution_count": 30,
   "metadata": {},
   "outputs": [
    {
     "data": {
      "text/html": [
       "<div>\n",
       "<style scoped>\n",
       "    .dataframe tbody tr th:only-of-type {\n",
       "        vertical-align: middle;\n",
       "    }\n",
       "\n",
       "    .dataframe tbody tr th {\n",
       "        vertical-align: top;\n",
       "    }\n",
       "\n",
       "    .dataframe thead th {\n",
       "        text-align: right;\n",
       "    }\n",
       "</style>\n",
       "<table border=\"1\" class=\"dataframe\">\n",
       "  <thead>\n",
       "    <tr style=\"text-align: right;\">\n",
       "      <th></th>\n",
       "      <th>package_name</th>\n",
       "      <th>user_id</th>\n",
       "      <th>start_time</th>\n",
       "      <th>end_time</th>\n",
       "      <th>time_spend</th>\n",
       "      <th>app_code</th>\n",
       "    </tr>\n",
       "  </thead>\n",
       "  <tbody>\n",
       "    <tr>\n",
       "      <th>0</th>\n",
       "      <td>com.facebook.katana</td>\n",
       "      <td>0</td>\n",
       "      <td>0</td>\n",
       "      <td>441</td>\n",
       "      <td>441</td>\n",
       "      <td>19968</td>\n",
       "    </tr>\n",
       "    <tr>\n",
       "      <th>1</th>\n",
       "      <td>com.android.chrome</td>\n",
       "      <td>0</td>\n",
       "      <td>441</td>\n",
       "      <td>1012</td>\n",
       "      <td>571</td>\n",
       "      <td>7649</td>\n",
       "    </tr>\n",
       "    <tr>\n",
       "      <th>2</th>\n",
       "      <td>com.google.android.apps.photos</td>\n",
       "      <td>0</td>\n",
       "      <td>1012</td>\n",
       "      <td>1032</td>\n",
       "      <td>20</td>\n",
       "      <td>23916</td>\n",
       "    </tr>\n",
       "    <tr>\n",
       "      <th>3</th>\n",
       "      <td>com.facebook.katana</td>\n",
       "      <td>0</td>\n",
       "      <td>1042</td>\n",
       "      <td>1502</td>\n",
       "      <td>460</td>\n",
       "      <td>19968</td>\n",
       "    </tr>\n",
       "    <tr>\n",
       "      <th>4</th>\n",
       "      <td>com.whatsapp</td>\n",
       "      <td>0</td>\n",
       "      <td>1512</td>\n",
       "      <td>1572</td>\n",
       "      <td>60</td>\n",
       "      <td>53003</td>\n",
       "    </tr>\n",
       "    <tr>\n",
       "      <th>...</th>\n",
       "      <td>...</td>\n",
       "      <td>...</td>\n",
       "      <td>...</td>\n",
       "      <td>...</td>\n",
       "      <td>...</td>\n",
       "      <td>...</td>\n",
       "    </tr>\n",
       "    <tr>\n",
       "      <th>74144</th>\n",
       "      <td>com.accuweather.paid.android</td>\n",
       "      <td>4</td>\n",
       "      <td>17488859</td>\n",
       "      <td>17488869</td>\n",
       "      <td>10</td>\n",
       "      <td>6318</td>\n",
       "    </tr>\n",
       "    <tr>\n",
       "      <th>74145</th>\n",
       "      <td>com.sonyericsson.conversations</td>\n",
       "      <td>4</td>\n",
       "      <td>17488869</td>\n",
       "      <td>17488874</td>\n",
       "      <td>5</td>\n",
       "      <td>45264</td>\n",
       "    </tr>\n",
       "    <tr>\n",
       "      <th>74146</th>\n",
       "      <td>com.imdb.mobile</td>\n",
       "      <td>4</td>\n",
       "      <td>17490032</td>\n",
       "      <td>17490063</td>\n",
       "      <td>31</td>\n",
       "      <td>26906</td>\n",
       "    </tr>\n",
       "    <tr>\n",
       "      <th>74147</th>\n",
       "      <td>com.sonyericsson.conversations</td>\n",
       "      <td>4</td>\n",
       "      <td>17490497</td>\n",
       "      <td>17490517</td>\n",
       "      <td>20</td>\n",
       "      <td>45264</td>\n",
       "    </tr>\n",
       "    <tr>\n",
       "      <th>74148</th>\n",
       "      <td>com.sonyericsson.conversations</td>\n",
       "      <td>4</td>\n",
       "      <td>17496095</td>\n",
       "      <td>17496115</td>\n",
       "      <td>20</td>\n",
       "      <td>45264</td>\n",
       "    </tr>\n",
       "  </tbody>\n",
       "</table>\n",
       "<p>74149 rows × 6 columns</p>\n",
       "</div>"
      ],
      "text/plain": [
       "                         package_name  user_id  start_time  end_time  \\\n",
       "0                 com.facebook.katana        0           0       441   \n",
       "1                  com.android.chrome        0         441      1012   \n",
       "2      com.google.android.apps.photos        0        1012      1032   \n",
       "3                 com.facebook.katana        0        1042      1502   \n",
       "4                        com.whatsapp        0        1512      1572   \n",
       "...                               ...      ...         ...       ...   \n",
       "74144    com.accuweather.paid.android        4    17488859  17488869   \n",
       "74145  com.sonyericsson.conversations        4    17488869  17488874   \n",
       "74146                 com.imdb.mobile        4    17490032  17490063   \n",
       "74147  com.sonyericsson.conversations        4    17490497  17490517   \n",
       "74148  com.sonyericsson.conversations        4    17496095  17496115   \n",
       "\n",
       "       time_spend  app_code  \n",
       "0             441     19968  \n",
       "1             571      7649  \n",
       "2              20     23916  \n",
       "3             460     19968  \n",
       "4              60     53003  \n",
       "...           ...       ...  \n",
       "74144          10      6318  \n",
       "74145           5     45264  \n",
       "74146          31     26906  \n",
       "74147          20     45264  \n",
       "74148          20     45264  \n",
       "\n",
       "[74149 rows x 6 columns]"
      ]
     },
     "execution_count": 30,
     "metadata": {},
     "output_type": "execute_result"
    }
   ],
   "source": [
    "data1"
   ]
  },
  {
   "cell_type": "code",
   "execution_count": 26,
   "metadata": {},
   "outputs": [],
   "source": [
    "input1 = group_user['app_code'].apply(list).apply(lambda l: ','.join([str(i) for i in l]))"
   ]
  },
  {
   "cell_type": "code",
   "execution_count": 31,
   "metadata": {},
   "outputs": [],
   "source": [
    "f = open(os.path.join(os.getcwd(), 'test.txt'), 'w')\n",
    "dfAsString = input1.to_string(header=False, index=False)\n",
    "f.write(dfAsString)\n",
    "f.close()"
   ]
  },
  {
   "cell_type": "markdown",
   "metadata": {},
   "source": [
    "# Testing with the package\n"
   ]
  },
  {
   "cell_type": "code",
   "execution_count": null,
   "metadata": {},
   "outputs": [],
   "source": []
  },
  {
   "cell_type": "code",
   "execution_count": 4,
   "metadata": {},
   "outputs": [
    {
     "name": "stdout",
     "output_type": "stream",
     "text": [
      ">/home/s165317/motifs_and_competition_in_app_usage/spmf.jar\n",
      "=============  PREFIXSPAN 0.99-2016 - STATISTICS =============\n",
      " Total time ~ 30 ms\n",
      " Frequent sequences count : 14\n",
      " Max memory (mb) : 61.50012969970703\n",
      " minsup = 3 sequences.\n",
      " Pattern count : 14\n",
      "===================================================\n",
      "\n",
      "\n",
      "      pattern  sup\n",
      "0         [1]    4\n",
      "1      [1, 2]    4\n",
      "2      [1, 3]    4\n",
      "3   [1, 3, 2]    3\n",
      "4   [1, 3, 3]    3\n",
      "5         [2]    4\n",
      "6      [2, 3]    3\n",
      "7         [3]    4\n",
      "8      [3, 2]    3\n",
      "9      [3, 3]    3\n",
      "10        [4]    3\n",
      "11     [4, 3]    3\n",
      "12        [5]    3\n",
      "13        [6]    3\n"
     ]
    }
   ],
   "source": [
    "# A test using there package \n",
    "\n",
    "spmf = Spmf(\"PrefixSpan\", input_filename=\"/home/s165317/motifs_and_competition_in_app_usage/test_files/contextPrefixSpan.txt\",\n",
    "            output_filename=\"/home/s165317/motifs_and_competition_in_app_usage/test_files/output.txt\",\n",
    "            spmf_bin_location_dir=\"/home/s165317/motifs_and_competition_in_app_usage/\",\n",
    "            arguments=[0.7, 5])\n",
    "spmf.run()\n",
    "print(spmf.to_pandas_dataframe(pickle=True))\n",
    "spmf.to_csv(\"output.csv\")"
   ]
  },
  {
   "cell_type": "code",
   "execution_count": null,
   "metadata": {},
   "outputs": [],
   "source": []
  }
 ],
 "metadata": {
  "kernelspec": {
   "display_name": "Python 3",
   "language": "python",
   "name": "python3"
  },
  "language_info": {
   "codemirror_mode": {
    "name": "ipython",
    "version": 3
   },
   "file_extension": ".py",
   "mimetype": "text/x-python",
   "name": "python",
   "nbconvert_exporter": "python",
   "pygments_lexer": "ipython3",
   "version": "3.8.5"
  }
 },
 "nbformat": 4,
 "nbformat_minor": 4
}
