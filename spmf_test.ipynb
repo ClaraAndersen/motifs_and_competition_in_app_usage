{
 "cells": [
  {
   "cell_type": "code",
   "execution_count": 18,
   "metadata": {},
   "outputs": [],
   "source": [
    "from spmf import Spmf\n",
    "import numpy as np\n",
    "import pandas as pd"
   ]
  },
  {
   "cell_type": "code",
   "execution_count": 14,
   "metadata": {},
   "outputs": [],
   "source": [
    "data = pd.read_csv('csvds.csv')"
   ]
  },
  {
   "cell_type": "code",
   "execution_count": 15,
   "metadata": {},
   "outputs": [
    {
     "data": {
      "text/html": [
       "<div>\n",
       "<style scoped>\n",
       "    .dataframe tbody tr th:only-of-type {\n",
       "        vertical-align: middle;\n",
       "    }\n",
       "\n",
       "    .dataframe tbody tr th {\n",
       "        vertical-align: top;\n",
       "    }\n",
       "\n",
       "    .dataframe thead th {\n",
       "        text-align: right;\n",
       "    }\n",
       "</style>\n",
       "<table border=\"1\" class=\"dataframe\">\n",
       "  <thead>\n",
       "    <tr style=\"text-align: right;\">\n",
       "      <th></th>\n",
       "      <th>Unnamed: 0</th>\n",
       "      <th>package_name</th>\n",
       "      <th>user_id</th>\n",
       "      <th>start_time</th>\n",
       "      <th>end_time</th>\n",
       "      <th>time_spend</th>\n",
       "    </tr>\n",
       "  </thead>\n",
       "  <tbody>\n",
       "    <tr>\n",
       "      <th>0</th>\n",
       "      <td>0</td>\n",
       "      <td>com.instagram.android</td>\n",
       "      <td>3401</td>\n",
       "      <td>16628668</td>\n",
       "      <td>16628669</td>\n",
       "      <td>1</td>\n",
       "    </tr>\n",
       "    <tr>\n",
       "      <th>1</th>\n",
       "      <td>1</td>\n",
       "      <td>com.google.android.apps.maps</td>\n",
       "      <td>2365</td>\n",
       "      <td>360890</td>\n",
       "      <td>361391</td>\n",
       "      <td>501</td>\n",
       "    </tr>\n",
       "    <tr>\n",
       "      <th>2</th>\n",
       "      <td>2</td>\n",
       "      <td>com.facebook.katana</td>\n",
       "      <td>4347</td>\n",
       "      <td>2589058</td>\n",
       "      <td>2589078</td>\n",
       "      <td>20</td>\n",
       "    </tr>\n",
       "    <tr>\n",
       "      <th>3</th>\n",
       "      <td>3</td>\n",
       "      <td>com.sonyericsson.conversations</td>\n",
       "      <td>9</td>\n",
       "      <td>18193453</td>\n",
       "      <td>18193534</td>\n",
       "      <td>81</td>\n",
       "    </tr>\n",
       "    <tr>\n",
       "      <th>4</th>\n",
       "      <td>4</td>\n",
       "      <td>com.google.android.apps.genie.geniewidget</td>\n",
       "      <td>4652</td>\n",
       "      <td>1542813</td>\n",
       "      <td>1542933</td>\n",
       "      <td>120</td>\n",
       "    </tr>\n",
       "  </tbody>\n",
       "</table>\n",
       "</div>"
      ],
      "text/plain": [
       "   Unnamed: 0                               package_name  user_id  start_time  \\\n",
       "0           0                      com.instagram.android     3401    16628668   \n",
       "1           1               com.google.android.apps.maps     2365      360890   \n",
       "2           2                        com.facebook.katana     4347     2589058   \n",
       "3           3             com.sonyericsson.conversations        9    18193453   \n",
       "4           4  com.google.android.apps.genie.geniewidget     4652     1542813   \n",
       "\n",
       "   end_time  time_spend  \n",
       "0  16628669           1  \n",
       "1    361391         501  \n",
       "2   2589078          20  \n",
       "3  18193534          81  \n",
       "4   1542933         120  "
      ]
     },
     "execution_count": 15,
     "metadata": {},
     "output_type": "execute_result"
    }
   ],
   "source": [
    "data.head(5)"
   ]
  },
  {
   "cell_type": "code",
   "execution_count": 19,
   "metadata": {},
   "outputs": [],
   "source": [
    "data1 = data.drop(columns=['Unnamed: 0']).sort_values(by=['user_id','start_time'])"
   ]
  },
  {
   "cell_type": "code",
   "execution_count": 28,
   "metadata": {},
   "outputs": [],
   "source": [
    "data1['package_name']=data1['package_name'].astype('category')"
   ]
  },
  {
   "cell_type": "code",
   "execution_count": 29,
   "metadata": {},
   "outputs": [],
   "source": [
    "data1['app_code']=data1['package_name'].cat.codes"
   ]
  },
  {
   "cell_type": "code",
   "execution_count": 32,
   "metadata": {},
   "outputs": [],
   "source": [
    "data1.to_csv('sorted_coded_data.csv',index=True)"
   ]
  },
  {
   "cell_type": "code",
   "execution_count": null,
   "metadata": {},
   "outputs": [],
   "source": []
  },
  {
   "cell_type": "markdown",
   "metadata": {},
   "source": [
    "# Dividing data into groups wrt. user_id"
   ]
  },
  {
   "cell_type": "code",
   "execution_count": 30,
   "metadata": {},
   "outputs": [],
   "source": [
    "group_user=data1.groupby(['user_id'])"
   ]
  },
  {
   "cell_type": "code",
   "execution_count": 31,
   "metadata": {},
   "outputs": [
    {
     "data": {
      "text/html": [
       "<div>\n",
       "<style scoped>\n",
       "    .dataframe tbody tr th:only-of-type {\n",
       "        vertical-align: middle;\n",
       "    }\n",
       "\n",
       "    .dataframe tbody tr th {\n",
       "        vertical-align: top;\n",
       "    }\n",
       "\n",
       "    .dataframe thead th {\n",
       "        text-align: right;\n",
       "    }\n",
       "</style>\n",
       "<table border=\"1\" class=\"dataframe\">\n",
       "  <thead>\n",
       "    <tr style=\"text-align: right;\">\n",
       "      <th></th>\n",
       "      <th>package_name</th>\n",
       "      <th>user_id</th>\n",
       "      <th>start_time</th>\n",
       "      <th>end_time</th>\n",
       "      <th>time_spend</th>\n",
       "      <th>app_code</th>\n",
       "    </tr>\n",
       "  </thead>\n",
       "  <tbody>\n",
       "    <tr>\n",
       "      <th>11410956</th>\n",
       "      <td>com.facebook.katana</td>\n",
       "      <td>0</td>\n",
       "      <td>0</td>\n",
       "      <td>441</td>\n",
       "      <td>441</td>\n",
       "      <td>19968</td>\n",
       "    </tr>\n",
       "    <tr>\n",
       "      <th>185882440</th>\n",
       "      <td>com.android.chrome</td>\n",
       "      <td>0</td>\n",
       "      <td>441</td>\n",
       "      <td>1012</td>\n",
       "      <td>571</td>\n",
       "      <td>7649</td>\n",
       "    </tr>\n",
       "    <tr>\n",
       "      <th>52090141</th>\n",
       "      <td>com.google.android.apps.photos</td>\n",
       "      <td>0</td>\n",
       "      <td>1012</td>\n",
       "      <td>1032</td>\n",
       "      <td>20</td>\n",
       "      <td>23916</td>\n",
       "    </tr>\n",
       "    <tr>\n",
       "      <th>252320289</th>\n",
       "      <td>com.facebook.katana</td>\n",
       "      <td>0</td>\n",
       "      <td>1042</td>\n",
       "      <td>1502</td>\n",
       "      <td>460</td>\n",
       "      <td>19968</td>\n",
       "    </tr>\n",
       "    <tr>\n",
       "      <th>129853894</th>\n",
       "      <td>com.whatsapp</td>\n",
       "      <td>0</td>\n",
       "      <td>1512</td>\n",
       "      <td>1572</td>\n",
       "      <td>60</td>\n",
       "      <td>53003</td>\n",
       "    </tr>\n",
       "    <tr>\n",
       "      <th>...</th>\n",
       "      <td>...</td>\n",
       "      <td>...</td>\n",
       "      <td>...</td>\n",
       "      <td>...</td>\n",
       "      <td>...</td>\n",
       "      <td>...</td>\n",
       "    </tr>\n",
       "    <tr>\n",
       "      <th>189077333</th>\n",
       "      <td>com.jb.zcamera</td>\n",
       "      <td>0</td>\n",
       "      <td>20208141</td>\n",
       "      <td>20208151</td>\n",
       "      <td>10</td>\n",
       "      <td>28268</td>\n",
       "    </tr>\n",
       "    <tr>\n",
       "      <th>16966854</th>\n",
       "      <td>com.android.chrome</td>\n",
       "      <td>0</td>\n",
       "      <td>20208161</td>\n",
       "      <td>20208512</td>\n",
       "      <td>351</td>\n",
       "      <td>7649</td>\n",
       "    </tr>\n",
       "    <tr>\n",
       "      <th>11408717</th>\n",
       "      <td>com.facebook.katana</td>\n",
       "      <td>0</td>\n",
       "      <td>20208512</td>\n",
       "      <td>20208772</td>\n",
       "      <td>260</td>\n",
       "      <td>19968</td>\n",
       "    </tr>\n",
       "    <tr>\n",
       "      <th>236633220</th>\n",
       "      <td>com.google.android.apps.translate</td>\n",
       "      <td>0</td>\n",
       "      <td>20208772</td>\n",
       "      <td>20208782</td>\n",
       "      <td>10</td>\n",
       "      <td>23926</td>\n",
       "    </tr>\n",
       "    <tr>\n",
       "      <th>9807266</th>\n",
       "      <td>com.instagram.android</td>\n",
       "      <td>0</td>\n",
       "      <td>20208782</td>\n",
       "      <td>20208982</td>\n",
       "      <td>200</td>\n",
       "      <td>27441</td>\n",
       "    </tr>\n",
       "  </tbody>\n",
       "</table>\n",
       "<p>11339 rows × 6 columns</p>\n",
       "</div>"
      ],
      "text/plain": [
       "                                package_name  user_id  start_time  end_time  \\\n",
       "11410956                 com.facebook.katana        0           0       441   \n",
       "185882440                 com.android.chrome        0         441      1012   \n",
       "52090141      com.google.android.apps.photos        0        1012      1032   \n",
       "252320289                com.facebook.katana        0        1042      1502   \n",
       "129853894                       com.whatsapp        0        1512      1572   \n",
       "...                                      ...      ...         ...       ...   \n",
       "189077333                     com.jb.zcamera        0    20208141  20208151   \n",
       "16966854                  com.android.chrome        0    20208161  20208512   \n",
       "11408717                 com.facebook.katana        0    20208512  20208772   \n",
       "236633220  com.google.android.apps.translate        0    20208772  20208782   \n",
       "9807266                com.instagram.android        0    20208782  20208982   \n",
       "\n",
       "           time_spend  app_code  \n",
       "11410956          441     19968  \n",
       "185882440         571      7649  \n",
       "52090141           20     23916  \n",
       "252320289         460     19968  \n",
       "129853894          60     53003  \n",
       "...               ...       ...  \n",
       "189077333          10     28268  \n",
       "16966854          351      7649  \n",
       "11408717          260     19968  \n",
       "236633220          10     23926  \n",
       "9807266           200     27441  \n",
       "\n",
       "[11339 rows x 6 columns]"
      ]
     },
     "execution_count": 31,
     "metadata": {},
     "output_type": "execute_result"
    }
   ],
   "source": [
    "group_user.get_group(0)"
   ]
  },
  {
   "cell_type": "markdown",
   "metadata": {},
   "source": [
    "# a function to get ideal dataset\n",
    "`user          app_code\n",
    "  1      0, 2345, 3,  4, 5,   \\n\n",
    "  2       3, 423,105,  7,9,    \\n`"
   ]
  },
  {
   "cell_type": "code",
   "execution_count": 33,
   "metadata": {},
   "outputs": [
    {
     "name": "stdout",
     "output_type": "stream",
     "text": [
      "[[19968]\n",
      " [ 7649]\n",
      " [23916]\n",
      " ...\n",
      " [19968]\n",
      " [23926]\n",
      " [27441]]\n"
     ]
    }
   ],
   "source": [
    "print(np.array(group_user.get_group(0)['app_code']).reshape(-1,1))"
   ]
  },
  {
   "cell_type": "code",
   "execution_count": null,
   "metadata": {},
   "outputs": [],
   "source": []
  },
  {
   "cell_type": "code",
   "execution_count": null,
   "metadata": {},
   "outputs": [],
   "source": []
  },
  {
   "cell_type": "code",
   "execution_count": 4,
   "metadata": {},
   "outputs": [
    {
     "name": "stdout",
     "output_type": "stream",
     "text": [
      ">/home/s165317/motifs_and_competition_in_app_usage/spmf.jar\n",
      "=============  PREFIXSPAN 0.99-2016 - STATISTICS =============\n",
      " Total time ~ 30 ms\n",
      " Frequent sequences count : 14\n",
      " Max memory (mb) : 61.50012969970703\n",
      " minsup = 3 sequences.\n",
      " Pattern count : 14\n",
      "===================================================\n",
      "\n",
      "\n",
      "      pattern  sup\n",
      "0         [1]    4\n",
      "1      [1, 2]    4\n",
      "2      [1, 3]    4\n",
      "3   [1, 3, 2]    3\n",
      "4   [1, 3, 3]    3\n",
      "5         [2]    4\n",
      "6      [2, 3]    3\n",
      "7         [3]    4\n",
      "8      [3, 2]    3\n",
      "9      [3, 3]    3\n",
      "10        [4]    3\n",
      "11     [4, 3]    3\n",
      "12        [5]    3\n",
      "13        [6]    3\n"
     ]
    }
   ],
   "source": [
    "# A test using there package \n",
    "\n",
    "spmf = Spmf(\"PrefixSpan\", input_filename=\"/home/s165317/motifs_and_competition_in_app_usage/test_files/contextPrefixSpan.txt\",\n",
    "            output_filename=\"/home/s165317/motifs_and_competition_in_app_usage/test_files/output.txt\",\n",
    "            spmf_bin_location_dir=\"/home/s165317/motifs_and_competition_in_app_usage/\",\n",
    "            arguments=[0.7, 5])\n",
    "spmf.run()\n",
    "print(spmf.to_pandas_dataframe(pickle=True))\n",
    "spmf.to_csv(\"output.csv\")"
   ]
  },
  {
   "cell_type": "code",
   "execution_count": null,
   "metadata": {},
   "outputs": [],
   "source": []
  }
 ],
 "metadata": {
  "kernelspec": {
   "display_name": "Python 3",
   "language": "python",
   "name": "python3"
  },
  "language_info": {
   "codemirror_mode": {
    "name": "ipython",
    "version": 3
   },
   "file_extension": ".py",
   "mimetype": "text/x-python",
   "name": "python",
   "nbconvert_exporter": "python",
   "pygments_lexer": "ipython3",
   "version": "3.8.5"
  }
 },
 "nbformat": 4,
 "nbformat_minor": 4
}
