{
 "cells": [
  {
   "cell_type": "code",
   "execution_count": 1,
   "metadata": {},
   "outputs": [],
   "source": [
    "from spmf import Spmf\n",
    "import numpy as np\n",
    "import pandas as pd\n",
    "import os\n",
    "import re\n",
    "import matplotlib.pyplot as plt\n",
    "import ast\n",
    "pd.options.plotting.backend = \"plotly\"\n",
    "import plotly.express as px\n",
    "# from chart_studio import plotly\n",
    "from plotly.subplots import make_subplots\n",
    "import plotly.graph_objects as go\n",
    "import plotly.subplots as sp\n",
    "from sklearn.feature_extraction.text import CountVectorizer\n",
    "pd.options.display.max_colwidth = None\n",
    "pd.set_option('display.max_rows', 70)\n",
    "from pandas.plotting import table \n",
    "#import nltk\n",
    "\n",
    "import nltk\n",
    "import seaborn as sns\n",
    "%matplotlib inline\n",
    "import random\n",
    "from sklearn.cluster import MiniBatchKMeans\n",
    "from sklearn.decomposition import NMF\n",
    "import plotly.io as pio\n",
    "import json\n",
    "import pickle"
   ]
  },
  {
   "cell_type": "code",
   "execution_count": 2,
   "metadata": {},
   "outputs": [],
   "source": [
    "col_list1 = [\"user_id\", \"package_name\",'session','user_median_session_length']\n",
    "data_length1_session = pd.read_csv(\"data_length1_session_grouped.csv\", usecols=col_list1)"
   ]
  },
  {
   "cell_type": "code",
   "execution_count": 3,
   "metadata": {},
   "outputs": [],
   "source": [
    "data_length1_session['group']='group1'"
   ]
  },
  {
   "cell_type": "code",
   "execution_count": 4,
   "metadata": {},
   "outputs": [],
   "source": [
    "col_list = [\"user_id\", \"package_name\",'session','user_median_session_length']\n",
    "data_length2_session = pd.read_csv(\"data_length2_session_grouped.csv\", usecols=col_list)"
   ]
  },
  {
   "cell_type": "code",
   "execution_count": 5,
   "metadata": {},
   "outputs": [],
   "source": [
    "data_length2_session['group']='group2'"
   ]
  },
  {
   "cell_type": "code",
   "execution_count": 6,
   "metadata": {},
   "outputs": [],
   "source": [
    "col_list2 = [\"user_id\", \"package_name\",'session','user_median_session_length']\n",
    "data_length_other_session = pd.read_csv(\"data_length_other_session_grouped.csv\", usecols=col_list2)"
   ]
  },
  {
   "cell_type": "code",
   "execution_count": 7,
   "metadata": {},
   "outputs": [],
   "source": [
    "data_length_other_session['group']='group3'"
   ]
  },
  {
   "cell_type": "code",
   "execution_count": 15,
   "metadata": {},
   "outputs": [
    {
     "data": {
      "text/html": [
       "<div>\n",
       "<style scoped>\n",
       "    .dataframe tbody tr th:only-of-type {\n",
       "        vertical-align: middle;\n",
       "    }\n",
       "\n",
       "    .dataframe tbody tr th {\n",
       "        vertical-align: top;\n",
       "    }\n",
       "\n",
       "    .dataframe thead th {\n",
       "        text-align: right;\n",
       "    }\n",
       "</style>\n",
       "<table border=\"1\" class=\"dataframe\">\n",
       "  <thead>\n",
       "    <tr style=\"text-align: right;\">\n",
       "      <th></th>\n",
       "      <th>user_id</th>\n",
       "      <th>package_name</th>\n",
       "      <th>session</th>\n",
       "      <th>user_median_session_length</th>\n",
       "      <th>group</th>\n",
       "    </tr>\n",
       "  </thead>\n",
       "  <tbody>\n",
       "    <tr>\n",
       "      <th>0</th>\n",
       "      <td>8</td>\n",
       "      <td>com.google.android.googlequicksearchbox</td>\n",
       "      <td>0</td>\n",
       "      <td>3.0</td>\n",
       "      <td>group3</td>\n",
       "    </tr>\n",
       "    <tr>\n",
       "      <th>1</th>\n",
       "      <td>8</td>\n",
       "      <td>com.android.chrome</td>\n",
       "      <td>0</td>\n",
       "      <td>3.0</td>\n",
       "      <td>group3</td>\n",
       "    </tr>\n",
       "    <tr>\n",
       "      <th>2</th>\n",
       "      <td>8</td>\n",
       "      <td>com.google.android.googlequicksearchbox</td>\n",
       "      <td>0</td>\n",
       "      <td>3.0</td>\n",
       "      <td>group3</td>\n",
       "    </tr>\n",
       "    <tr>\n",
       "      <th>3</th>\n",
       "      <td>8</td>\n",
       "      <td>com.netmarble.sknightsgb</td>\n",
       "      <td>0</td>\n",
       "      <td>3.0</td>\n",
       "      <td>group3</td>\n",
       "    </tr>\n",
       "    <tr>\n",
       "      <th>4</th>\n",
       "      <td>8</td>\n",
       "      <td>com.instagram.android</td>\n",
       "      <td>0</td>\n",
       "      <td>3.0</td>\n",
       "      <td>group3</td>\n",
       "    </tr>\n",
       "    <tr>\n",
       "      <th>...</th>\n",
       "      <td>...</td>\n",
       "      <td>...</td>\n",
       "      <td>...</td>\n",
       "      <td>...</td>\n",
       "      <td>...</td>\n",
       "    </tr>\n",
       "    <tr>\n",
       "      <th>25166108</th>\n",
       "      <td>9994</td>\n",
       "      <td>com.twitter.android</td>\n",
       "      <td>2919</td>\n",
       "      <td>3.0</td>\n",
       "      <td>group3</td>\n",
       "    </tr>\n",
       "    <tr>\n",
       "      <th>25166109</th>\n",
       "      <td>9994</td>\n",
       "      <td>com.nutsplay.slg2.en.ccgg</td>\n",
       "      <td>2920</td>\n",
       "      <td>3.0</td>\n",
       "      <td>group3</td>\n",
       "    </tr>\n",
       "    <tr>\n",
       "      <th>25166110</th>\n",
       "      <td>9994</td>\n",
       "      <td>com.facebook.katana</td>\n",
       "      <td>2920</td>\n",
       "      <td>3.0</td>\n",
       "      <td>group3</td>\n",
       "    </tr>\n",
       "    <tr>\n",
       "      <th>25166111</th>\n",
       "      <td>9994</td>\n",
       "      <td>com.sonymobile.email</td>\n",
       "      <td>2921</td>\n",
       "      <td>3.0</td>\n",
       "      <td>group3</td>\n",
       "    </tr>\n",
       "    <tr>\n",
       "      <th>25166112</th>\n",
       "      <td>9994</td>\n",
       "      <td>com.sonyericsson.conversations</td>\n",
       "      <td>2921</td>\n",
       "      <td>3.0</td>\n",
       "      <td>group3</td>\n",
       "    </tr>\n",
       "  </tbody>\n",
       "</table>\n",
       "<p>25166113 rows × 5 columns</p>\n",
       "</div>"
      ],
      "text/plain": [
       "          user_id                             package_name  session  \\\n",
       "0               8  com.google.android.googlequicksearchbox        0   \n",
       "1               8                       com.android.chrome        0   \n",
       "2               8  com.google.android.googlequicksearchbox        0   \n",
       "3               8                 com.netmarble.sknightsgb        0   \n",
       "4               8                    com.instagram.android        0   \n",
       "...           ...                                      ...      ...   \n",
       "25166108     9994                      com.twitter.android     2919   \n",
       "25166109     9994                com.nutsplay.slg2.en.ccgg     2920   \n",
       "25166110     9994                      com.facebook.katana     2920   \n",
       "25166111     9994                     com.sonymobile.email     2921   \n",
       "25166112     9994           com.sonyericsson.conversations     2921   \n",
       "\n",
       "          user_median_session_length   group  \n",
       "0                                3.0  group3  \n",
       "1                                3.0  group3  \n",
       "2                                3.0  group3  \n",
       "3                                3.0  group3  \n",
       "4                                3.0  group3  \n",
       "...                              ...     ...  \n",
       "25166108                         3.0  group3  \n",
       "25166109                         3.0  group3  \n",
       "25166110                         3.0  group3  \n",
       "25166111                         3.0  group3  \n",
       "25166112                         3.0  group3  \n",
       "\n",
       "[25166113 rows x 5 columns]"
      ]
     },
     "execution_count": 15,
     "metadata": {},
     "output_type": "execute_result"
    }
   ],
   "source": [
    "data_length_other_session"
   ]
  },
  {
   "cell_type": "code",
   "execution_count": 16,
   "metadata": {},
   "outputs": [],
   "source": [
    "full_data=pd.concat([data_length1_session,data_length2_session,data_length_other_session],axis=0)"
   ]
  },
  {
   "cell_type": "code",
   "execution_count": 17,
   "metadata": {},
   "outputs": [
    {
     "data": {
      "text/html": [
       "<div>\n",
       "<style scoped>\n",
       "    .dataframe tbody tr th:only-of-type {\n",
       "        vertical-align: middle;\n",
       "    }\n",
       "\n",
       "    .dataframe tbody tr th {\n",
       "        vertical-align: top;\n",
       "    }\n",
       "\n",
       "    .dataframe thead th {\n",
       "        text-align: right;\n",
       "    }\n",
       "</style>\n",
       "<table border=\"1\" class=\"dataframe\">\n",
       "  <thead>\n",
       "    <tr style=\"text-align: right;\">\n",
       "      <th></th>\n",
       "      <th>user_id</th>\n",
       "      <th>package_name</th>\n",
       "      <th>session</th>\n",
       "      <th>user_median_session_length</th>\n",
       "      <th>group</th>\n",
       "    </tr>\n",
       "  </thead>\n",
       "  <tbody>\n",
       "    <tr>\n",
       "      <th>0</th>\n",
       "      <td>1</td>\n",
       "      <td>com.sonymobile.moviecreator.rmm</td>\n",
       "      <td>0</td>\n",
       "      <td>1.0</td>\n",
       "      <td>group1</td>\n",
       "    </tr>\n",
       "    <tr>\n",
       "      <th>1</th>\n",
       "      <td>1</td>\n",
       "      <td>com.yingwen.photographertoolspro</td>\n",
       "      <td>1</td>\n",
       "      <td>1.0</td>\n",
       "      <td>group1</td>\n",
       "    </tr>\n",
       "    <tr>\n",
       "      <th>2</th>\n",
       "      <td>1</td>\n",
       "      <td>net.osmand.plus</td>\n",
       "      <td>1</td>\n",
       "      <td>1.0</td>\n",
       "      <td>group1</td>\n",
       "    </tr>\n",
       "    <tr>\n",
       "      <th>3</th>\n",
       "      <td>1</td>\n",
       "      <td>com.android.phone</td>\n",
       "      <td>1</td>\n",
       "      <td>1.0</td>\n",
       "      <td>group1</td>\n",
       "    </tr>\n",
       "    <tr>\n",
       "      <th>4</th>\n",
       "      <td>1</td>\n",
       "      <td>com.sonyericsson.album</td>\n",
       "      <td>2</td>\n",
       "      <td>1.0</td>\n",
       "      <td>group1</td>\n",
       "    </tr>\n",
       "    <tr>\n",
       "      <th>...</th>\n",
       "      <td>...</td>\n",
       "      <td>...</td>\n",
       "      <td>...</td>\n",
       "      <td>...</td>\n",
       "      <td>...</td>\n",
       "    </tr>\n",
       "    <tr>\n",
       "      <th>25166108</th>\n",
       "      <td>9994</td>\n",
       "      <td>com.twitter.android</td>\n",
       "      <td>2919</td>\n",
       "      <td>3.0</td>\n",
       "      <td>group3</td>\n",
       "    </tr>\n",
       "    <tr>\n",
       "      <th>25166109</th>\n",
       "      <td>9994</td>\n",
       "      <td>com.nutsplay.slg2.en.ccgg</td>\n",
       "      <td>2920</td>\n",
       "      <td>3.0</td>\n",
       "      <td>group3</td>\n",
       "    </tr>\n",
       "    <tr>\n",
       "      <th>25166110</th>\n",
       "      <td>9994</td>\n",
       "      <td>com.facebook.katana</td>\n",
       "      <td>2920</td>\n",
       "      <td>3.0</td>\n",
       "      <td>group3</td>\n",
       "    </tr>\n",
       "    <tr>\n",
       "      <th>25166111</th>\n",
       "      <td>9994</td>\n",
       "      <td>com.sonymobile.email</td>\n",
       "      <td>2921</td>\n",
       "      <td>3.0</td>\n",
       "      <td>group3</td>\n",
       "    </tr>\n",
       "    <tr>\n",
       "      <th>25166112</th>\n",
       "      <td>9994</td>\n",
       "      <td>com.sonyericsson.conversations</td>\n",
       "      <td>2921</td>\n",
       "      <td>3.0</td>\n",
       "      <td>group3</td>\n",
       "    </tr>\n",
       "  </tbody>\n",
       "</table>\n",
       "<p>228733596 rows × 5 columns</p>\n",
       "</div>"
      ],
      "text/plain": [
       "          user_id                      package_name  session  \\\n",
       "0               1   com.sonymobile.moviecreator.rmm        0   \n",
       "1               1  com.yingwen.photographertoolspro        1   \n",
       "2               1                   net.osmand.plus        1   \n",
       "3               1                 com.android.phone        1   \n",
       "4               1            com.sonyericsson.album        2   \n",
       "...           ...                               ...      ...   \n",
       "25166108     9994               com.twitter.android     2919   \n",
       "25166109     9994         com.nutsplay.slg2.en.ccgg     2920   \n",
       "25166110     9994               com.facebook.katana     2920   \n",
       "25166111     9994              com.sonymobile.email     2921   \n",
       "25166112     9994    com.sonyericsson.conversations     2921   \n",
       "\n",
       "          user_median_session_length   group  \n",
       "0                                1.0  group1  \n",
       "1                                1.0  group1  \n",
       "2                                1.0  group1  \n",
       "3                                1.0  group1  \n",
       "4                                1.0  group1  \n",
       "...                              ...     ...  \n",
       "25166108                         3.0  group3  \n",
       "25166109                         3.0  group3  \n",
       "25166110                         3.0  group3  \n",
       "25166111                         3.0  group3  \n",
       "25166112                         3.0  group3  \n",
       "\n",
       "[228733596 rows x 5 columns]"
      ]
     },
     "execution_count": 17,
     "metadata": {},
     "output_type": "execute_result"
    }
   ],
   "source": [
    "full_data"
   ]
  },
  {
   "cell_type": "code",
   "execution_count": 19,
   "metadata": {},
   "outputs": [],
   "source": [
    "full_data.to_csv('full_data_session_length',index=False)"
   ]
  },
  {
   "cell_type": "code",
   "execution_count": 2,
   "metadata": {},
   "outputs": [],
   "source": [
    "full_data = pd.read_csv('full_data_session_length.csv')"
   ]
  },
  {
   "cell_type": "code",
   "execution_count": 3,
   "metadata": {},
   "outputs": [
    {
     "data": {
      "text/html": [
       "<div>\n",
       "<style scoped>\n",
       "    .dataframe tbody tr th:only-of-type {\n",
       "        vertical-align: middle;\n",
       "    }\n",
       "\n",
       "    .dataframe tbody tr th {\n",
       "        vertical-align: top;\n",
       "    }\n",
       "\n",
       "    .dataframe thead th {\n",
       "        text-align: right;\n",
       "    }\n",
       "</style>\n",
       "<table border=\"1\" class=\"dataframe\">\n",
       "  <thead>\n",
       "    <tr style=\"text-align: right;\">\n",
       "      <th></th>\n",
       "      <th>user_id</th>\n",
       "      <th>package_name</th>\n",
       "      <th>session</th>\n",
       "      <th>user_median_session_length</th>\n",
       "      <th>group</th>\n",
       "    </tr>\n",
       "  </thead>\n",
       "  <tbody>\n",
       "    <tr>\n",
       "      <th>0</th>\n",
       "      <td>1</td>\n",
       "      <td>com.sonymobile.moviecreator.rmm</td>\n",
       "      <td>0</td>\n",
       "      <td>1.0</td>\n",
       "      <td>group1</td>\n",
       "    </tr>\n",
       "    <tr>\n",
       "      <th>1</th>\n",
       "      <td>1</td>\n",
       "      <td>com.yingwen.photographertoolspro</td>\n",
       "      <td>1</td>\n",
       "      <td>1.0</td>\n",
       "      <td>group1</td>\n",
       "    </tr>\n",
       "    <tr>\n",
       "      <th>2</th>\n",
       "      <td>1</td>\n",
       "      <td>net.osmand.plus</td>\n",
       "      <td>1</td>\n",
       "      <td>1.0</td>\n",
       "      <td>group1</td>\n",
       "    </tr>\n",
       "    <tr>\n",
       "      <th>3</th>\n",
       "      <td>1</td>\n",
       "      <td>com.android.phone</td>\n",
       "      <td>1</td>\n",
       "      <td>1.0</td>\n",
       "      <td>group1</td>\n",
       "    </tr>\n",
       "    <tr>\n",
       "      <th>4</th>\n",
       "      <td>1</td>\n",
       "      <td>com.sonyericsson.album</td>\n",
       "      <td>2</td>\n",
       "      <td>1.0</td>\n",
       "      <td>group1</td>\n",
       "    </tr>\n",
       "    <tr>\n",
       "      <th>...</th>\n",
       "      <td>...</td>\n",
       "      <td>...</td>\n",
       "      <td>...</td>\n",
       "      <td>...</td>\n",
       "      <td>...</td>\n",
       "    </tr>\n",
       "    <tr>\n",
       "      <th>228733591</th>\n",
       "      <td>9994</td>\n",
       "      <td>com.twitter.android</td>\n",
       "      <td>2919</td>\n",
       "      <td>3.0</td>\n",
       "      <td>group3</td>\n",
       "    </tr>\n",
       "    <tr>\n",
       "      <th>228733592</th>\n",
       "      <td>9994</td>\n",
       "      <td>com.nutsplay.slg2.en.ccgg</td>\n",
       "      <td>2920</td>\n",
       "      <td>3.0</td>\n",
       "      <td>group3</td>\n",
       "    </tr>\n",
       "    <tr>\n",
       "      <th>228733593</th>\n",
       "      <td>9994</td>\n",
       "      <td>com.facebook.katana</td>\n",
       "      <td>2920</td>\n",
       "      <td>3.0</td>\n",
       "      <td>group3</td>\n",
       "    </tr>\n",
       "    <tr>\n",
       "      <th>228733594</th>\n",
       "      <td>9994</td>\n",
       "      <td>com.sonymobile.email</td>\n",
       "      <td>2921</td>\n",
       "      <td>3.0</td>\n",
       "      <td>group3</td>\n",
       "    </tr>\n",
       "    <tr>\n",
       "      <th>228733595</th>\n",
       "      <td>9994</td>\n",
       "      <td>com.sonyericsson.conversations</td>\n",
       "      <td>2921</td>\n",
       "      <td>3.0</td>\n",
       "      <td>group3</td>\n",
       "    </tr>\n",
       "  </tbody>\n",
       "</table>\n",
       "<p>228733596 rows × 5 columns</p>\n",
       "</div>"
      ],
      "text/plain": [
       "           user_id                      package_name  session  \\\n",
       "0                1   com.sonymobile.moviecreator.rmm        0   \n",
       "1                1  com.yingwen.photographertoolspro        1   \n",
       "2                1                   net.osmand.plus        1   \n",
       "3                1                 com.android.phone        1   \n",
       "4                1            com.sonyericsson.album        2   \n",
       "...            ...                               ...      ...   \n",
       "228733591     9994               com.twitter.android     2919   \n",
       "228733592     9994         com.nutsplay.slg2.en.ccgg     2920   \n",
       "228733593     9994               com.facebook.katana     2920   \n",
       "228733594     9994              com.sonymobile.email     2921   \n",
       "228733595     9994    com.sonyericsson.conversations     2921   \n",
       "\n",
       "           user_median_session_length   group  \n",
       "0                                 1.0  group1  \n",
       "1                                 1.0  group1  \n",
       "2                                 1.0  group1  \n",
       "3                                 1.0  group1  \n",
       "4                                 1.0  group1  \n",
       "...                               ...     ...  \n",
       "228733591                         3.0  group3  \n",
       "228733592                         3.0  group3  \n",
       "228733593                         3.0  group3  \n",
       "228733594                         3.0  group3  \n",
       "228733595                         3.0  group3  \n",
       "\n",
       "[228733596 rows x 5 columns]"
      ]
     },
     "execution_count": 3,
     "metadata": {},
     "output_type": "execute_result"
    }
   ],
   "source": [
    "full_data"
   ]
  },
  {
   "cell_type": "markdown",
   "metadata": {},
   "source": [
    "# N-gram of session length 1 group "
   ]
  },
  {
   "cell_type": "code",
   "execution_count": 8,
   "metadata": {},
   "outputs": [],
   "source": [
    "data_length1_session['start']=data_length1_session.groupby('user_id').session.shift(1)!=data_length1_session.session"
   ]
  },
  {
   "cell_type": "code",
   "execution_count": 9,
   "metadata": {},
   "outputs": [],
   "source": [
    "data_length1_session['end']=data_length1_session.groupby('user_id').session.shift(-1)!=data_length1_session.session"
   ]
  },
  {
   "cell_type": "code",
   "execution_count": 10,
   "metadata": {},
   "outputs": [],
   "source": [
    "user_corpus_length1_session=data_length1_session.groupby(['user_id','session']).package_name.apply(' '.join)"
   ]
  },
  {
   "cell_type": "code",
   "execution_count": 11,
   "metadata": {},
   "outputs": [],
   "source": [
    "user_corpus_length1_session_with_start_end='start '+user_corpus_length1_session+ ' end'"
   ]
  },
  {
   "cell_type": "code",
   "execution_count": 12,
   "metadata": {},
   "outputs": [
    {
     "name": "stdout",
     "output_type": "stream",
     "text": [
      "Number of sessions: 11689790\n",
      "0.75% of sessions: 87673.42499999999\n"
     ]
    }
   ],
   "source": [
    "print(\"Number of sessions:\",user_corpus_length1_session.shape[0])\n",
    "print(\"0.75% of sessions:\",user_corpus_length1_session.shape[0]/100*0.75)"
   ]
  },
  {
   "cell_type": "code",
   "execution_count": 13,
   "metadata": {},
   "outputs": [
    {
     "data": {
      "text/plain": [
       "array(['bbc.mobile.news.uk', 'com.android.chrome', 'com.android.email',\n",
       "       'com.android.incallui', 'com.ebay.mobile', 'com.facebook.katana',\n",
       "       'com.facebook.orca', 'com.google.android.apps.maps',\n",
       "       'com.google.android.apps.messaging', 'com.google.android.gm',\n",
       "       'com.google.android.googlequicksearchbox',\n",
       "       'com.google.android.youtube', 'com.instagram.android',\n",
       "       'com.microsoft.office.outlook', 'com.nianticlabs.pokemongo',\n",
       "       'com.snapchat.android', 'com.sony.nfx.app.sfrc',\n",
       "       'com.sonyericsson.album',\n",
       "       'com.sonyericsson.android.socialphonebook',\n",
       "       'com.sonyericsson.conversations', 'com.sonyericsson.music',\n",
       "       'com.sonymobile.calendar', 'com.sonymobile.email',\n",
       "       'com.spotify.music', 'com.twitter.android', 'com.whatsapp',\n",
       "       'com.yahoo.mobile.client.android.mail', 'end', 'start'],\n",
       "      dtype=object)"
      ]
     },
     "execution_count": 13,
     "metadata": {},
     "output_type": "execute_result"
    }
   ],
   "source": [
    "vectorizer = CountVectorizer(analyzer='word',tokenizer=lambda text: re.split(' ',text), ngram_range=(1,1),lowercase=False)\n",
    "vectorization=vectorizer.fit_transform(user_corpus_length1_session_with_start_end.values)\n",
    "vectorizer.get_feature_names_out()[np.where((vectorization>0).sum(axis=0)>=87673)[1]]"
   ]
  },
  {
   "cell_type": "code",
   "execution_count": 14,
   "metadata": {},
   "outputs": [],
   "source": [
    "frequent_apps_length1_grouped=vectorizer.get_feature_names_out()[np.where((vectorization>0).sum(axis=0)>=87673)[1]]"
   ]
  },
  {
   "cell_type": "code",
   "execution_count": 11,
   "metadata": {},
   "outputs": [
    {
     "name": "stdout",
     "output_type": "stream",
     "text": [
      "Number of frequent patterns: 29\n"
     ]
    }
   ],
   "source": [
    "print(\"Number of frequent patterns:\",len(vectorizer.get_feature_names_out()[np.where((vectorization>0).sum(axis=0)>=87673)[1]]))"
   ]
  },
  {
   "cell_type": "code",
   "execution_count": 12,
   "metadata": {},
   "outputs": [
    {
     "data": {
      "text/plain": [
       "array(['com.android.chrome com.facebook.katana',\n",
       "       'com.android.chrome com.google.android.googlequicksearchbox',\n",
       "       'com.android.chrome com.whatsapp',\n",
       "       'com.android.incallui com.sonyericsson.android.socialphonebook',\n",
       "       'com.facebook.katana com.android.chrome',\n",
       "       'com.facebook.katana com.facebook.orca',\n",
       "       'com.facebook.katana com.sonyericsson.conversations',\n",
       "       'com.facebook.katana com.whatsapp',\n",
       "       'com.facebook.orca com.facebook.katana',\n",
       "       'com.google.android.googlequicksearchbox com.android.chrome',\n",
       "       'com.sonyericsson.android.socialphonebook com.android.incallui',\n",
       "       'com.sonyericsson.conversations com.facebook.katana',\n",
       "       'com.sonyericsson.conversations com.whatsapp',\n",
       "       'com.whatsapp com.android.chrome',\n",
       "       'com.whatsapp com.facebook.katana',\n",
       "       'com.whatsapp com.sonyericsson.conversations'], dtype=object)"
      ]
     },
     "execution_count": 12,
     "metadata": {},
     "output_type": "execute_result"
    }
   ],
   "source": [
    "vectorizer = CountVectorizer(analyzer='word',tokenizer=lambda text: re.split(' ',text), ngram_range=(2,2))\n",
    "vectorization=vectorizer.fit_transform(user_corpus_length1_session.values)\n",
    "vectorizer.get_feature_names_out()[np.where((vectorization>0).sum(axis=0)>=87673)[1]]"
   ]
  },
  {
   "cell_type": "code",
   "execution_count": 13,
   "metadata": {},
   "outputs": [
    {
     "data": {
      "text/plain": [
       "16"
      ]
     },
     "execution_count": 13,
     "metadata": {},
     "output_type": "execute_result"
    }
   ],
   "source": [
    "len(vectorizer.get_feature_names_out()[np.where((vectorization>0).sum(axis=0)>=87673)[1]])"
   ]
  },
  {
   "cell_type": "code",
   "execution_count": 14,
   "metadata": {},
   "outputs": [
    {
     "data": {
      "text/plain": [
       "array(['com.google.android.googlequicksearchbox com.android.chrome com.google.android.googlequicksearchbox'],\n",
       "      dtype=object)"
      ]
     },
     "execution_count": 14,
     "metadata": {},
     "output_type": "execute_result"
    }
   ],
   "source": [
    "vectorizer = CountVectorizer(analyzer='word',tokenizer=lambda text: re.split(' ',text), ngram_range=(3,3))\n",
    "vectorization=vectorizer.fit_transform(user_corpus_length1_session.values)\n",
    "vectorizer.get_feature_names_out()[np.where((vectorization>0).sum(axis=0)>=87673)[1]]"
   ]
  },
  {
   "cell_type": "code",
   "execution_count": 15,
   "metadata": {},
   "outputs": [
    {
     "data": {
      "text/plain": [
       "1"
      ]
     },
     "execution_count": 15,
     "metadata": {},
     "output_type": "execute_result"
    }
   ],
   "source": [
    "len(vectorizer.get_feature_names_out()[np.where((vectorization>0).sum(axis=0)>=87673)[1]])"
   ]
  },
  {
   "cell_type": "code",
   "execution_count": 16,
   "metadata": {},
   "outputs": [
    {
     "data": {
      "text/plain": [
       "array([], dtype=object)"
      ]
     },
     "execution_count": 16,
     "metadata": {},
     "output_type": "execute_result"
    }
   ],
   "source": [
    "vectorizer = CountVectorizer(analyzer='word',tokenizer=lambda text: re.split(' ',text), ngram_range=(4,4))\n",
    "vectorization=vectorizer.fit_transform(user_corpus_length1_session.values)\n",
    "vectorizer.get_feature_names_out()[np.where((vectorization>0).sum(axis=0)>=87673)[1]]"
   ]
  },
  {
   "cell_type": "code",
   "execution_count": 17,
   "metadata": {},
   "outputs": [
    {
     "data": {
      "text/plain": [
       "0"
      ]
     },
     "execution_count": 17,
     "metadata": {},
     "output_type": "execute_result"
    }
   ],
   "source": [
    "len(vectorizer.get_feature_names_out()[np.where((vectorization>0).sum(axis=0)>=87673)[1]])"
   ]
  },
  {
   "cell_type": "markdown",
   "metadata": {},
   "source": [
    "# N-gram of  session length 2 group"
   ]
  },
  {
   "cell_type": "code",
   "execution_count": 15,
   "metadata": {},
   "outputs": [],
   "source": [
    "data_length2_session['start']=data_length2_session.groupby('user_id').session.shift(1)!=data_length2_session.session"
   ]
  },
  {
   "cell_type": "code",
   "execution_count": 16,
   "metadata": {},
   "outputs": [],
   "source": [
    "data_length2_session['end']=data_length2_session.groupby('user_id').session.shift(-1)!=data_length2_session.session"
   ]
  },
  {
   "cell_type": "code",
   "execution_count": 17,
   "metadata": {},
   "outputs": [],
   "source": [
    "user_corpus_length2_session=data_length2_session.groupby(['user_id','session']).package_name.apply(' '.join)"
   ]
  },
  {
   "cell_type": "code",
   "execution_count": 18,
   "metadata": {},
   "outputs": [],
   "source": [
    "user_corpus_with_start_end_length2_session='start '+user_corpus_length2_session+ ' end'"
   ]
  },
  {
   "cell_type": "code",
   "execution_count": 19,
   "metadata": {},
   "outputs": [
    {
     "name": "stdout",
     "output_type": "stream",
     "text": [
      "Number of sessions: 60142439\n",
      "0.75% of sessions: 451068.2925\n"
     ]
    }
   ],
   "source": [
    "print(\"Number of sessions:\",user_corpus_with_start_end_length2_session.shape[0])\n",
    "print(\"0.75% of sessions:\",user_corpus_with_start_end_length2_session.shape[0]/100*0.75)"
   ]
  },
  {
   "cell_type": "code",
   "execution_count": 20,
   "metadata": {},
   "outputs": [],
   "source": [
    "vectorizer_1gram = CountVectorizer(analyzer='word',tokenizer=lambda text: re.split(' ',text), ngram_range=(1,1),lowercase=False)"
   ]
  },
  {
   "cell_type": "code",
   "execution_count": 21,
   "metadata": {},
   "outputs": [],
   "source": [
    "vectorization_1gram=vectorizer_1gram.fit_transform(user_corpus_with_start_end_length2_session.values)"
   ]
  },
  {
   "cell_type": "code",
   "execution_count": 22,
   "metadata": {},
   "outputs": [
    {
     "name": "stdout",
     "output_type": "stream",
     "text": [
      "Number frequent apps: 75\n"
     ]
    },
    {
     "data": {
      "text/plain": [
       "array(['bbc.mobile.news.uk', 'bbc.mobile.weather', 'com.amazon.kindle',\n",
       "       'com.amazon.mShop.android.shopping', 'com.amazon.mp3',\n",
       "       'com.android.chrome', 'com.android.email', 'com.android.incallui',\n",
       "       'com.android.phone', 'com.barclays.android.barclaysmobilebanking',\n",
       "       'com.bskyb.skynews.android', 'com.bskyb.sportnews',\n",
       "       'com.dailymail.online', 'com.ebay.mobile', 'com.facebook.katana',\n",
       "       'com.facebook.orca', 'com.fitbit.FitbitMobile',\n",
       "       'com.google.android.apps.docs', 'com.google.android.apps.inbox',\n",
       "       'com.google.android.apps.maps',\n",
       "       'com.google.android.apps.messaging',\n",
       "       'com.google.android.apps.photos', 'com.google.android.calendar',\n",
       "       'com.google.android.gm', 'com.google.android.gms',\n",
       "       'com.google.android.googlequicksearchbox',\n",
       "       'com.google.android.keep', 'com.google.android.music',\n",
       "       'com.google.android.talk', 'com.google.android.youtube',\n",
       "       'com.grppl.android.shell.CMBlloydsTSB73',\n",
       "       'com.grppl.android.shell.halifax', 'com.guardian',\n",
       "       'com.instagram.android', 'com.king.candycrushsaga',\n",
       "       'com.linkedin.android', 'com.microsoft.office.outlook',\n",
       "       'com.mobisystems.office', 'com.myfitnesspal.android',\n",
       "       'com.netflix.mediaclient', 'com.nianticlabs.pokemongo',\n",
       "       'com.pinterest', 'com.pof.android',\n",
       "       'com.rbs.mobile.android.natwest', 'com.reddit.frontpage',\n",
       "       'com.samsung.android.email.provider', 'com.skype.raider',\n",
       "       'com.snapchat.android', 'com.sony.nfx.app.sfrc',\n",
       "       'com.sonyericsson.album',\n",
       "       'com.sonyericsson.android.socialphonebook',\n",
       "       'com.sonyericsson.conversations', 'com.sonyericsson.music',\n",
       "       'com.sonyericsson.xhs', 'com.sonymobile.calendar',\n",
       "       'com.sonymobile.email', 'com.sonymobile.entrance',\n",
       "       'com.sonymobile.hostapp.everest',\n",
       "       'com.sonymobile.smartconnect.hostapp.ellis',\n",
       "       'com.sonymobile.xperiaweather', 'com.spotify.music',\n",
       "       'com.supercell.clashofclans', 'com.tencent.mm', 'com.tinder',\n",
       "       'com.tumblr', 'com.twitter.android', 'com.viber.voip',\n",
       "       'com.whatsapp', 'com.yahoo.mobile.client.android.mail', 'end',\n",
       "       'jp.naver.line.android', 'kik.android', 'start',\n",
       "       'uk.co.bbc.android.iplayerradio',\n",
       "       'uk.co.bbc.android.sportdomestic'], dtype=object)"
      ]
     },
     "execution_count": 22,
     "metadata": {},
     "output_type": "execute_result"
    }
   ],
   "source": [
    "frequent_apps_length2_grouped=vectorizer_1gram.get_feature_names_out()[np.where((vectorization_1gram>0).sum(axis=0)>150356)[1]]\n",
    "print(\"Number frequent apps:\",len(frequent_apps_length2_grouped))#75\n",
    "frequent_apps_length2_grouped"
   ]
  },
  {
   "cell_type": "code",
   "execution_count": null,
   "metadata": {},
   "outputs": [],
   "source": [
    "vectorizer_2gram = CountVectorizer(analyzer='word',tokenizer=lambda text: re.split(' ',text), ngram_range=(2,2))\n",
    "vectorization_2gram=vectorizer_2gram.fit_transform(user_corpus_with_start_end_length2_session.values)\n",
    "print(\"Number of 2-grams:\",len(vectorizer_2gram.get_feature_names_out()[np.where((vectorization_2gram>0).sum(axis=0)>150356)[1]]))#134"
   ]
  },
  {
   "cell_type": "code",
   "execution_count": null,
   "metadata": {},
   "outputs": [],
   "source": [
    "length_2_patterns = vectorizer_2gram.get_feature_names_out()[np.where((vectorization_2gram>0).sum(axis=0)>150356)[1]]\n",
    "length_2_patterns"
   ]
  },
  {
   "cell_type": "code",
   "execution_count": 61,
   "metadata": {},
   "outputs": [
    {
     "name": "stdout",
     "output_type": "stream",
     "text": [
      "Number of 3-grams: 33\n"
     ]
    },
    {
     "data": {
      "text/plain": [
       "array(['com.android.chrome com.facebook.katana com.android.chrome',\n",
       "       'com.android.chrome com.google.android.googlequicksearchbox com.android.chrome',\n",
       "       'com.android.chrome com.whatsapp com.android.chrome',\n",
       "       'com.facebook.katana com.android.chrome com.facebook.katana',\n",
       "       'com.facebook.katana com.facebook.orca com.facebook.katana',\n",
       "       'com.facebook.katana com.google.android.googlequicksearchbox com.android.chrome',\n",
       "       'com.facebook.katana com.sonyericsson.conversations com.facebook.katana',\n",
       "       'com.facebook.katana com.whatsapp com.facebook.katana',\n",
       "       'com.facebook.orca com.facebook.katana com.facebook.orca',\n",
       "       'com.google.android.googlequicksearchbox com.android.chrome com.facebook.katana',\n",
       "       'com.google.android.googlequicksearchbox com.android.chrome com.google.android.googlequicksearchbox',\n",
       "       'com.google.android.googlequicksearchbox com.android.chrome com.whatsapp',\n",
       "       'com.sonyericsson.android.socialphonebook com.android.incallui com.sonyericsson.android.socialphonebook',\n",
       "       'com.sonyericsson.conversations com.facebook.katana com.sonyericsson.conversations',\n",
       "       'com.whatsapp com.android.chrome com.whatsapp',\n",
       "       'com.whatsapp com.facebook.katana com.whatsapp',\n",
       "       'com.whatsapp com.google.android.googlequicksearchbox com.android.chrome',\n",
       "       'com.whatsapp com.instagram.android com.whatsapp'], dtype=object)"
      ]
     },
     "execution_count": 61,
     "metadata": {},
     "output_type": "execute_result"
    }
   ],
   "source": [
    "vectorizer_3gram = CountVectorizer(analyzer='word',tokenizer=lambda text: re.split(' ',text), ngram_range=(3,3))\n",
    "vectorization_3gram=vectorizer_3gram.fit_transform(user_corpus_length2_session.values)\n",
    "print(\"Number of 3-grams:\",len(vectorizer_3gram.get_feature_names_out()[np.where((vectorization_3gram>0).sum(axis=0)>104110)[1]]))#30\n",
    "vectorizer_3gram.get_feature_names_out()[np.where((vectorization_3gram>0).sum(axis=0)>150356)[1]]\n"
   ]
  },
  {
   "cell_type": "code",
   "execution_count": 62,
   "metadata": {},
   "outputs": [
    {
     "name": "stdout",
     "output_type": "stream",
     "text": [
      "Number of 4-grams: 7\n"
     ]
    },
    {
     "data": {
      "text/plain": [
       "array(['com.facebook.katana com.whatsapp com.facebook.katana com.whatsapp',\n",
       "       'com.google.android.googlequicksearchbox com.android.chrome com.google.android.googlequicksearchbox com.android.chrome',\n",
       "       'com.whatsapp com.facebook.katana com.whatsapp com.facebook.katana'],\n",
       "      dtype=object)"
      ]
     },
     "execution_count": 62,
     "metadata": {},
     "output_type": "execute_result"
    }
   ],
   "source": [
    "vectorizer_4gram = CountVectorizer(analyzer='word',tokenizer=lambda text: re.split(' ',text), ngram_range=(4,4))\n",
    "vectorization_4gram=vectorizer_4gram.fit_transform(user_corpus_length2_session.values)\n",
    "print(\"Number of 4-grams:\",len(vectorizer_4gram.get_feature_names_out()[np.where((vectorization_4gram>0).sum(axis=0)>104110)[1]]))\n",
    "#vectorizer_4gram.get_feature_names_out()[np.where((vectorization_4gram>0).sum(axis=0)>104110)[1]]\n",
    "vectorizer_4gram.get_feature_names_out()[np.where((vectorization_4gram>0).sum(axis=0)>150356)[1]]#4\n"
   ]
  },
  {
   "cell_type": "markdown",
   "metadata": {},
   "source": [
    "# N-gram for length above 2 session group"
   ]
  },
  {
   "cell_type": "code",
   "execution_count": 13,
   "metadata": {},
   "outputs": [],
   "source": [
    "data_length_other_session = pd.read_csv('data_length_other_session_grouped.csv')"
   ]
  },
  {
   "cell_type": "code",
   "execution_count": 23,
   "metadata": {},
   "outputs": [],
   "source": [
    "data_length_other_session['start']=data_length_other_session.groupby('user_id').session.shift(1)!=data_length_other_session.session"
   ]
  },
  {
   "cell_type": "code",
   "execution_count": 24,
   "metadata": {},
   "outputs": [],
   "source": [
    "data_length_other_session['end']=data_length_other_session.groupby('user_id').session.shift(-1)!=data_length_other_session.session"
   ]
  },
  {
   "cell_type": "code",
   "execution_count": 25,
   "metadata": {},
   "outputs": [],
   "source": [
    "user_corpus_last_group=data_length_other_session.groupby(['user_id','session']).package_name.apply(' '.join)"
   ]
  },
  {
   "cell_type": "code",
   "execution_count": 26,
   "metadata": {},
   "outputs": [],
   "source": [
    "user_corpus_with_start_end_last_group='start '+user_corpus_last_group+ ' end'"
   ]
  },
  {
   "cell_type": "code",
   "execution_count": 27,
   "metadata": {},
   "outputs": [
    {
     "name": "stdout",
     "output_type": "stream",
     "text": [
      "Number of sessions: 4932851\n",
      "0.75% of sessions: 36996.3825\n"
     ]
    }
   ],
   "source": [
    "print(\"Number of sessions:\",user_corpus_with_start_end_last_group.shape[0])\n",
    "print(\"0.75% of sessions:\",user_corpus_with_start_end_last_group.shape[0]/100*0.75)"
   ]
  },
  {
   "cell_type": "code",
   "execution_count": 28,
   "metadata": {},
   "outputs": [],
   "source": [
    "vectorizer_1gram = CountVectorizer(analyzer='word',tokenizer=lambda text: re.split(' ',text), ngram_range=(1,1),lowercase=False)"
   ]
  },
  {
   "cell_type": "code",
   "execution_count": 29,
   "metadata": {},
   "outputs": [],
   "source": [
    "vectorization_1gram=vectorizer_1gram.fit_transform(user_corpus_with_start_end_last_group.values)"
   ]
  },
  {
   "cell_type": "code",
   "execution_count": 30,
   "metadata": {},
   "outputs": [
    {
     "name": "stdout",
     "output_type": "stream",
     "text": [
      "Number frequent apps: 93\n"
     ]
    },
    {
     "data": {
      "text/plain": [
       "array(['bbc.mobile.news.uk', 'bbc.mobile.weather',\n",
       "       'co.uk.Nationwide.Mobile', 'com.accuweather.android',\n",
       "       'com.amazon.mShop.android.shopping', 'com.amazon.mp3',\n",
       "       'com.android.browser', 'com.android.chrome', 'com.android.email',\n",
       "       'com.android.incallui', 'com.android.phone', 'com.badoo.mobile',\n",
       "       'com.barclays.android.barclaysmobilebanking', 'com.bskyb.fbscore',\n",
       "       'com.bskyb.skynews.android', 'com.bskyb.sportnews',\n",
       "       'com.contextlogic.wish', 'com.dailymail.online', 'com.discord',\n",
       "       'com.ebay.mobile', 'com.facebook.katana', 'com.facebook.orca',\n",
       "       'com.fitbit.FitbitMobile', 'com.google.android.apps.docs',\n",
       "       'com.google.android.apps.genie.geniewidget',\n",
       "       'com.google.android.apps.inbox',\n",
       "       'com.google.android.apps.magazines',\n",
       "       'com.google.android.apps.maps',\n",
       "       'com.google.android.apps.messaging',\n",
       "       'com.google.android.apps.photos', 'com.google.android.apps.plus',\n",
       "       'com.google.android.calendar', 'com.google.android.dialer',\n",
       "       'com.google.android.gm', 'com.google.android.gms',\n",
       "       'com.google.android.googlequicksearchbox',\n",
       "       'com.google.android.keep', 'com.google.android.music',\n",
       "       'com.google.android.talk', 'com.google.android.youtube',\n",
       "       'com.grindrapp.android', 'com.grppl.android.shell.CMBlloydsTSB73',\n",
       "       'com.grppl.android.shell.halifax', 'com.guardian',\n",
       "       'com.instagram.android', 'com.kabam.marvelbattle',\n",
       "       'com.king.candycrushsaga', 'com.king.candycrushsodasaga',\n",
       "       'com.linkedin.android', 'com.microsoft.office.outlook',\n",
       "       'com.mobisystems.office', 'com.myfitnesspal.android',\n",
       "       'com.netflix.mediaclient', 'com.nianticlabs.pokemongo',\n",
       "       'com.pinterest', 'com.pof.android',\n",
       "       'com.rbs.mobile.android.natwest', 'com.reddit.frontpage',\n",
       "       'com.samsung.android.email.provider',\n",
       "       'com.sec.android.app.sbrowser', 'com.skype.raider',\n",
       "       'com.snapchat.android',\n",
       "       'com.socialnmobile.dictapps.notepad.color.note',\n",
       "       'com.sony.nfx.app.sfrc', 'com.sonyericsson.album',\n",
       "       'com.sonyericsson.android.socialphonebook',\n",
       "       'com.sonyericsson.conversations', 'com.sonyericsson.music',\n",
       "       'com.sonyericsson.xhs', 'com.sonymobile.calendar',\n",
       "       'com.sonymobile.email', 'com.sonymobile.entrance',\n",
       "       'com.sonymobile.hostapp.everest',\n",
       "       'com.sonymobile.smartconnect.hostapp.ellis',\n",
       "       'com.sonymobile.xperiaweather', 'com.spotify.music',\n",
       "       'com.supercell.clashofclans', 'com.tencent.mm', 'com.timehop',\n",
       "       'com.tinder', 'com.tumblr', 'com.twitter.android',\n",
       "       'com.viber.voip', 'com.whatsapp',\n",
       "       'com.yahoo.mobile.client.android.mail', 'com.zynga.words3',\n",
       "       'com.zynga.wwf2.free', 'end', 'jp.naver.line.android',\n",
       "       'kik.android', 'org.telegram.messenger', 'start',\n",
       "       'uk.co.bbc.android.sportdomestic'], dtype=object)"
      ]
     },
     "execution_count": 30,
     "metadata": {},
     "output_type": "execute_result"
    }
   ],
   "source": [
    "frequent_apps_other_group=vectorizer_1gram.get_feature_names_out()[np.where((vectorization_1gram>0).sum(axis=0)>12332)[1]]\n",
    "print(\"Number frequent apps:\",len(frequent_apps_other_group))#77\n",
    "frequent_apps_other_group"
   ]
  },
  {
   "cell_type": "code",
   "execution_count": 91,
   "metadata": {},
   "outputs": [
    {
     "name": "stdout",
     "output_type": "stream",
     "text": [
      "Number of 2-grams: 176\n"
     ]
    }
   ],
   "source": [
    "vectorizer_2gram = CountVectorizer(analyzer='word',tokenizer=lambda text: re.split(' ',text), ngram_range=(2,2))\n",
    "vectorization_2gram=vectorizer_2gram.fit_transform(user_corpus_last_group.values)\n",
    "print(\"Number of 2-grams:\",len(vectorizer_2gram.get_feature_names_out()[np.where((vectorization_2gram>0).sum(axis=0)>12332)[1]]))#134"
   ]
  },
  {
   "cell_type": "code",
   "execution_count": 92,
   "metadata": {},
   "outputs": [
    {
     "name": "stdout",
     "output_type": "stream",
     "text": [
      "Number of 3-grams: 91\n"
     ]
    },
    {
     "data": {
      "text/plain": [
       "array(['com.android.chrome com.facebook.katana com.android.chrome',\n",
       "       'com.android.chrome com.facebook.katana com.facebook.orca',\n",
       "       'com.android.chrome com.facebook.katana com.whatsapp',\n",
       "       'com.android.chrome com.facebook.orca com.facebook.katana',\n",
       "       'com.android.chrome com.google.android.googlequicksearchbox com.android.chrome',\n",
       "       'com.android.chrome com.google.android.googlequicksearchbox com.facebook.katana',\n",
       "       'com.android.chrome com.whatsapp com.android.chrome',\n",
       "       'com.android.chrome com.whatsapp com.facebook.katana',\n",
       "       'com.facebook.katana com.android.chrome com.facebook.katana',\n",
       "       'com.facebook.katana com.facebook.orca com.android.chrome',\n",
       "       'com.facebook.katana com.facebook.orca com.facebook.katana',\n",
       "       'com.facebook.katana com.facebook.orca com.instagram.android',\n",
       "       'com.facebook.katana com.facebook.orca com.snapchat.android',\n",
       "       'com.facebook.katana com.facebook.orca com.whatsapp',\n",
       "       'com.facebook.katana com.google.android.googlequicksearchbox com.android.chrome',\n",
       "       'com.facebook.katana com.google.android.googlequicksearchbox com.facebook.katana',\n",
       "       'com.facebook.katana com.instagram.android com.facebook.katana',\n",
       "       'com.facebook.katana com.instagram.android com.snapchat.android',\n",
       "       'com.facebook.katana com.instagram.android com.whatsapp',\n",
       "       'com.facebook.katana com.snapchat.android com.facebook.katana',\n",
       "       'com.facebook.katana com.snapchat.android com.instagram.android',\n",
       "       'com.facebook.katana com.snapchat.android com.whatsapp',\n",
       "       'com.facebook.katana com.sonyericsson.conversations com.facebook.katana',\n",
       "       'com.facebook.katana com.twitter.android com.facebook.katana',\n",
       "       'com.facebook.katana com.whatsapp com.android.chrome',\n",
       "       'com.facebook.katana com.whatsapp com.facebook.katana',\n",
       "       'com.facebook.katana com.whatsapp com.facebook.orca',\n",
       "       'com.facebook.katana com.whatsapp com.instagram.android',\n",
       "       'com.facebook.katana com.whatsapp com.snapchat.android',\n",
       "       'com.facebook.orca com.facebook.katana com.android.chrome',\n",
       "       'com.facebook.orca com.facebook.katana com.facebook.orca',\n",
       "       'com.facebook.orca com.facebook.katana com.instagram.android',\n",
       "       'com.facebook.orca com.facebook.katana com.snapchat.android',\n",
       "       'com.facebook.orca com.facebook.katana com.whatsapp',\n",
       "       'com.facebook.orca com.instagram.android com.facebook.katana',\n",
       "       'com.facebook.orca com.instagram.android com.facebook.orca',\n",
       "       'com.facebook.orca com.snapchat.android com.facebook.katana',\n",
       "       'com.facebook.orca com.snapchat.android com.facebook.orca',\n",
       "       'com.facebook.orca com.whatsapp com.facebook.katana',\n",
       "       'com.facebook.orca com.whatsapp com.facebook.orca',\n",
       "       'com.google.android.googlequicksearchbox com.android.chrome com.facebook.katana',\n",
       "       'com.google.android.googlequicksearchbox com.android.chrome com.google.android.googlequicksearchbox',\n",
       "       'com.google.android.googlequicksearchbox com.android.chrome com.whatsapp',\n",
       "       'com.google.android.googlequicksearchbox com.facebook.katana com.google.android.googlequicksearchbox',\n",
       "       'com.google.android.googlequicksearchbox com.whatsapp com.google.android.googlequicksearchbox',\n",
       "       'com.instagram.android com.facebook.katana com.facebook.orca',\n",
       "       'com.instagram.android com.facebook.katana com.instagram.android',\n",
       "       'com.instagram.android com.facebook.katana com.snapchat.android',\n",
       "       'com.instagram.android com.facebook.katana com.whatsapp',\n",
       "       'com.instagram.android com.facebook.orca com.facebook.katana',\n",
       "       'com.instagram.android com.google.android.googlequicksearchbox com.android.chrome',\n",
       "       'com.instagram.android com.snapchat.android com.facebook.katana',\n",
       "       'com.instagram.android com.snapchat.android com.instagram.android',\n",
       "       'com.instagram.android com.snapchat.android com.whatsapp',\n",
       "       'com.instagram.android com.whatsapp com.facebook.katana',\n",
       "       'com.instagram.android com.whatsapp com.instagram.android',\n",
       "       'com.instagram.android com.whatsapp com.snapchat.android',\n",
       "       'com.snapchat.android com.facebook.katana com.facebook.orca',\n",
       "       'com.snapchat.android com.facebook.katana com.instagram.android',\n",
       "       'com.snapchat.android com.facebook.katana com.snapchat.android',\n",
       "       'com.snapchat.android com.facebook.katana com.whatsapp',\n",
       "       'com.snapchat.android com.facebook.orca com.facebook.katana',\n",
       "       'com.snapchat.android com.facebook.orca com.snapchat.android',\n",
       "       'com.snapchat.android com.instagram.android com.facebook.katana',\n",
       "       'com.snapchat.android com.instagram.android com.snapchat.android',\n",
       "       'com.snapchat.android com.instagram.android com.whatsapp',\n",
       "       'com.snapchat.android com.whatsapp com.facebook.katana',\n",
       "       'com.snapchat.android com.whatsapp com.instagram.android',\n",
       "       'com.snapchat.android com.whatsapp com.snapchat.android',\n",
       "       'com.sonyericsson.android.socialphonebook com.android.incallui com.sonyericsson.android.socialphonebook',\n",
       "       'com.sonyericsson.conversations com.facebook.katana com.sonyericsson.conversations',\n",
       "       'com.twitter.android com.android.chrome com.twitter.android',\n",
       "       'com.twitter.android com.facebook.katana com.twitter.android',\n",
       "       'com.whatsapp com.android.chrome com.whatsapp',\n",
       "       'com.whatsapp com.facebook.katana com.android.chrome',\n",
       "       'com.whatsapp com.facebook.katana com.facebook.orca',\n",
       "       'com.whatsapp com.facebook.katana com.google.android.googlequicksearchbox',\n",
       "       'com.whatsapp com.facebook.katana com.instagram.android',\n",
       "       'com.whatsapp com.facebook.katana com.snapchat.android',\n",
       "       'com.whatsapp com.facebook.katana com.whatsapp',\n",
       "       'com.whatsapp com.facebook.orca com.facebook.katana',\n",
       "       'com.whatsapp com.facebook.orca com.whatsapp',\n",
       "       'com.whatsapp com.google.android.googlequicksearchbox com.android.chrome',\n",
       "       'com.whatsapp com.google.android.googlequicksearchbox com.whatsapp',\n",
       "       'com.whatsapp com.google.android.youtube com.whatsapp',\n",
       "       'com.whatsapp com.instagram.android com.facebook.katana',\n",
       "       'com.whatsapp com.instagram.android com.snapchat.android',\n",
       "       'com.whatsapp com.instagram.android com.whatsapp',\n",
       "       'com.whatsapp com.snapchat.android com.facebook.katana',\n",
       "       'com.whatsapp com.snapchat.android com.instagram.android',\n",
       "       'com.whatsapp com.snapchat.android com.whatsapp'], dtype=object)"
      ]
     },
     "execution_count": 92,
     "metadata": {},
     "output_type": "execute_result"
    }
   ],
   "source": [
    "vectorizer_3gram = CountVectorizer(analyzer='word',tokenizer=lambda text: re.split(' ',text), ngram_range=(3,3))\n",
    "vectorization_3gram=vectorizer_3gram.fit_transform(user_corpus_last_group.values)\n",
    "print(\"Number of 3-grams:\",len(vectorizer_3gram.get_feature_names_out()[np.where((vectorization_3gram>0).sum(axis=0)>12332)[1]]))#30\n",
    "length_3_patterns = vectorizer_3gram.get_feature_names_out()[np.where((vectorization_3gram>0).sum(axis=0)>12332)[1]]\n",
    "length_3_patterns"
   ]
  },
  {
   "cell_type": "code",
   "execution_count": 93,
   "metadata": {},
   "outputs": [
    {
     "name": "stdout",
     "output_type": "stream",
     "text": [
      "Number of 4-grams: 10\n"
     ]
    },
    {
     "data": {
      "text/plain": [
       "array(['com.android.chrome com.google.android.googlequicksearchbox com.android.chrome com.google.android.googlequicksearchbox',\n",
       "       'com.facebook.katana com.facebook.orca com.facebook.katana com.facebook.orca',\n",
       "       'com.facebook.katana com.google.android.googlequicksearchbox com.android.chrome com.google.android.googlequicksearchbox',\n",
       "       'com.facebook.katana com.whatsapp com.facebook.katana com.whatsapp',\n",
       "       'com.facebook.orca com.facebook.katana com.facebook.orca com.facebook.katana',\n",
       "       'com.google.android.googlequicksearchbox com.android.chrome com.google.android.googlequicksearchbox com.android.chrome',\n",
       "       'com.google.android.googlequicksearchbox com.android.chrome com.google.android.googlequicksearchbox com.facebook.katana',\n",
       "       'com.instagram.android com.snapchat.android com.instagram.android com.snapchat.android',\n",
       "       'com.snapchat.android com.instagram.android com.snapchat.android com.instagram.android',\n",
       "       'com.whatsapp com.facebook.katana com.whatsapp com.facebook.katana'],\n",
       "      dtype=object)"
      ]
     },
     "execution_count": 93,
     "metadata": {},
     "output_type": "execute_result"
    }
   ],
   "source": [
    "vectorizer_4gram = CountVectorizer(analyzer='word',tokenizer=lambda text: re.split(' ',text), ngram_range=(4,4))\n",
    "vectorization_4gram=vectorizer_4gram.fit_transform(user_corpus_last_group.values)\n",
    "print(\"Number of 4-grams:\",len(vectorizer_4gram.get_feature_names_out()[np.where((vectorization_4gram>0).sum(axis=0)>12332)[1]]))\n",
    "#vectorizer_4gram.get_feature_names_out()[np.where((vectorization_4gram>0).sum(axis=0)>104110)[1]]\n",
    "length_4_patterns = vectorizer_4gram.get_feature_names_out()[np.where((vectorization_4gram>0).sum(axis=0)>12332)[1]]#4\n",
    "length_4_patterns"
   ]
  },
  {
   "cell_type": "code",
   "execution_count": 96,
   "metadata": {},
   "outputs": [
    {
     "name": "stdout",
     "output_type": "stream",
     "text": [
      "Number of 5-grams: 0\n"
     ]
    },
    {
     "data": {
      "text/plain": [
       "array([], dtype=object)"
      ]
     },
     "execution_count": 96,
     "metadata": {},
     "output_type": "execute_result"
    }
   ],
   "source": [
    "vectorizer_5gram = CountVectorizer(analyzer='word',tokenizer=lambda text: re.split(' ',text), ngram_range=(5,5))\n",
    "vectorization_5gram=vectorizer_5gram.fit_transform(user_corpus_last_group.values)\n",
    "print(\"Number of 5-grams:\",len(vectorizer_5gram.get_feature_names_out()[np.where((vectorization_5gram>0).sum(axis=0)>12332)[1]]))\n",
    "#vectorizer_5gram.get_feature_names_out()[np.where((vectorization_5gram>0).sum(axis=0)>191938)[1]]\n",
    "length_5_patterns = vectorizer_5gram.get_feature_names_out()[np.where((vectorization_5gram>0).sum(axis=0)>12332)[1]]\n",
    "length_5_patterns"
   ]
  },
  {
   "cell_type": "markdown",
   "metadata": {},
   "source": [
    "## Generate full frequnet apps"
   ]
  },
  {
   "cell_type": "code",
   "execution_count": null,
   "metadata": {},
   "outputs": [],
   "source": [
    "freuqent_apps = set(frequent_apps_length1_grouped).union(set(frequent_apps_length2_grouped),set(frequent_apps_other_group))"
   ]
  },
  {
   "cell_type": "code",
   "execution_count": 32,
   "metadata": {},
   "outputs": [],
   "source": [
    "with open('frequent_apps_session_length.txt','wb') as f:\n",
    "    pickle.dump(freuqent_apps, f)\n",
    "\n",
    "##To read it again from file"
   ]
  },
  {
   "cell_type": "code",
   "execution_count": 6,
   "metadata": {},
   "outputs": [],
   "source": [
    "with open('frequent_apps_session_length.txt','rb') as f:\n",
    "    freuqent_apps = pickle.load(f)"
   ]
  }
 ],
 "metadata": {
  "kernelspec": {
   "display_name": "Python 3",
   "language": "python",
   "name": "python3"
  },
  "language_info": {
   "codemirror_mode": {
    "name": "ipython",
    "version": 3
   },
   "file_extension": ".py",
   "mimetype": "text/x-python",
   "name": "python",
   "nbconvert_exporter": "python",
   "pygments_lexer": "ipython3",
   "version": "3.8.5"
  }
 },
 "nbformat": 4,
 "nbformat_minor": 4
}
