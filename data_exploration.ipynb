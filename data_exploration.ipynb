{
 "cells": [
  {
   "cell_type": "markdown",
   "metadata": {},
   "source": [
    "# Imports"
   ]
  },
  {
   "cell_type": "code",
   "execution_count": 1,
   "metadata": {},
   "outputs": [],
   "source": [
    "from spmf import Spmf\n",
    "import numpy as np\n",
    "import pandas as pd\n",
    "import os\n",
    "import re\n",
    "import matplotlib.pyplot as plt\n",
    "\n",
    "pd.options.display.max_colwidth = 500000"
   ]
  },
  {
   "cell_type": "markdown",
   "metadata": {},
   "source": [
    "Reading in the original data where the package names have been encoded, and observations are sorted by user and then start time."
   ]
  },
  {
   "cell_type": "code",
   "execution_count": 2,
   "metadata": {},
   "outputs": [],
   "source": [
    "data = pd.read_csv('sorted_coded_data.csv')"
   ]
  },
  {
   "cell_type": "markdown",
   "metadata": {},
   "source": [
    "#  Initial sleeptime distribution\n",
    "\n",
    "In this section we take an initial look at the sleep time distribution."
   ]
  },
  {
   "cell_type": "markdown",
   "metadata": {},
   "source": [
    "I start by calculating the sleep time for each app. Here it corresponds to the time from when the user closed the previous opened app, to he/she opened the current app."
   ]
  },
  {
   "cell_type": "code",
   "execution_count": 3,
   "metadata": {},
   "outputs": [],
   "source": [
    "user_groups=data.groupby('user_id')"
   ]
  },
  {
   "cell_type": "code",
   "execution_count": 4,
   "metadata": {},
   "outputs": [],
   "source": [
    "data['sleep_time']=user_groups['end_time'].shift(1,fill_value=0.0)"
   ]
  },
  {
   "cell_type": "code",
   "execution_count": 8,
   "metadata": {
    "scrolled": true
   },
   "outputs": [
    {
     "data": {
      "text/html": [
       "<div>\n",
       "<style scoped>\n",
       "    .dataframe tbody tr th:only-of-type {\n",
       "        vertical-align: middle;\n",
       "    }\n",
       "\n",
       "    .dataframe tbody tr th {\n",
       "        vertical-align: top;\n",
       "    }\n",
       "\n",
       "    .dataframe thead th {\n",
       "        text-align: right;\n",
       "    }\n",
       "</style>\n",
       "<table border=\"1\" class=\"dataframe\">\n",
       "  <thead>\n",
       "    <tr style=\"text-align: right;\">\n",
       "      <th></th>\n",
       "      <th>package_name</th>\n",
       "      <th>user_id</th>\n",
       "      <th>start_time</th>\n",
       "      <th>end_time</th>\n",
       "      <th>time_spend</th>\n",
       "      <th>app_code</th>\n",
       "      <th>sleep_time</th>\n",
       "    </tr>\n",
       "  </thead>\n",
       "  <tbody>\n",
       "    <tr>\n",
       "      <th>11</th>\n",
       "      <td>bg.abv.andro.emailapp</td>\n",
       "      <td>0</td>\n",
       "      <td>3689</td>\n",
       "      <td>3699</td>\n",
       "      <td>10</td>\n",
       "      <td>2340</td>\n",
       "      <td>3926.0</td>\n",
       "    </tr>\n",
       "    <tr>\n",
       "      <th>20</th>\n",
       "      <td>com.facebook.katana</td>\n",
       "      <td>0</td>\n",
       "      <td>28836</td>\n",
       "      <td>29777</td>\n",
       "      <td>941</td>\n",
       "      <td>19968</td>\n",
       "      <td>28906.0</td>\n",
       "    </tr>\n",
       "    <tr>\n",
       "      <th>59</th>\n",
       "      <td>com.google.android.apps.translate</td>\n",
       "      <td>0</td>\n",
       "      <td>53793</td>\n",
       "      <td>53803</td>\n",
       "      <td>10</td>\n",
       "      <td>23926</td>\n",
       "      <td>54003.0</td>\n",
       "    </tr>\n",
       "    <tr>\n",
       "      <th>110</th>\n",
       "      <td>com.sonyericsson.video</td>\n",
       "      <td>0</td>\n",
       "      <td>173946</td>\n",
       "      <td>174206</td>\n",
       "      <td>260</td>\n",
       "      <td>45286</td>\n",
       "      <td>173976.0</td>\n",
       "    </tr>\n",
       "    <tr>\n",
       "      <th>111</th>\n",
       "      <td>com.sonyericsson.album</td>\n",
       "      <td>0</td>\n",
       "      <td>174036</td>\n",
       "      <td>174046</td>\n",
       "      <td>10</td>\n",
       "      <td>45260</td>\n",
       "      <td>174206.0</td>\n",
       "    </tr>\n",
       "    <tr>\n",
       "      <th>...</th>\n",
       "      <td>...</td>\n",
       "      <td>...</td>\n",
       "      <td>...</td>\n",
       "      <td>...</td>\n",
       "      <td>...</td>\n",
       "      <td>...</td>\n",
       "      <td>...</td>\n",
       "    </tr>\n",
       "    <tr>\n",
       "      <th>254450355</th>\n",
       "      <td>com.sonyericsson.music</td>\n",
       "      <td>9999</td>\n",
       "      <td>29133717</td>\n",
       "      <td>29133737</td>\n",
       "      <td>20</td>\n",
       "      <td>45284</td>\n",
       "      <td>29134004.0</td>\n",
       "    </tr>\n",
       "    <tr>\n",
       "      <th>254450372</th>\n",
       "      <td>com.google.android.googlequicksearchbox</td>\n",
       "      <td>9999</td>\n",
       "      <td>29156883</td>\n",
       "      <td>29156933</td>\n",
       "      <td>50</td>\n",
       "      <td>23949</td>\n",
       "      <td>29156994.0</td>\n",
       "    </tr>\n",
       "    <tr>\n",
       "      <th>254450378</th>\n",
       "      <td>com.sonyericsson.album</td>\n",
       "      <td>9999</td>\n",
       "      <td>29158879</td>\n",
       "      <td>29158889</td>\n",
       "      <td>10</td>\n",
       "      <td>45260</td>\n",
       "      <td>29158899.0</td>\n",
       "    </tr>\n",
       "    <tr>\n",
       "      <th>254450387</th>\n",
       "      <td>com.whatsapp</td>\n",
       "      <td>9999</td>\n",
       "      <td>29162905</td>\n",
       "      <td>29163029</td>\n",
       "      <td>124</td>\n",
       "      <td>53003</td>\n",
       "      <td>29162955.0</td>\n",
       "    </tr>\n",
       "    <tr>\n",
       "      <th>254450411</th>\n",
       "      <td>com.instagram.android</td>\n",
       "      <td>9999</td>\n",
       "      <td>29204877</td>\n",
       "      <td>29204887</td>\n",
       "      <td>10</td>\n",
       "      <td>27441</td>\n",
       "      <td>29204897.0</td>\n",
       "    </tr>\n",
       "  </tbody>\n",
       "</table>\n",
       "<p>18103959 rows × 7 columns</p>\n",
       "</div>"
      ],
      "text/plain": [
       "                                      package_name  user_id  start_time  \\\n",
       "11                           bg.abv.andro.emailapp        0        3689   \n",
       "20                             com.facebook.katana        0       28836   \n",
       "59               com.google.android.apps.translate        0       53793   \n",
       "110                         com.sonyericsson.video        0      173946   \n",
       "111                         com.sonyericsson.album        0      174036   \n",
       "...                                            ...      ...         ...   \n",
       "254450355                   com.sonyericsson.music     9999    29133717   \n",
       "254450372  com.google.android.googlequicksearchbox     9999    29156883   \n",
       "254450378                   com.sonyericsson.album     9999    29158879   \n",
       "254450387                             com.whatsapp     9999    29162905   \n",
       "254450411                    com.instagram.android     9999    29204877   \n",
       "\n",
       "           end_time  time_spend  app_code  sleep_time  \n",
       "11             3699          10      2340      3926.0  \n",
       "20            29777         941     19968     28906.0  \n",
       "59            53803          10     23926     54003.0  \n",
       "110          174206         260     45286    173976.0  \n",
       "111          174046          10     45260    174206.0  \n",
       "...             ...         ...       ...         ...  \n",
       "254450355  29133737          20     45284  29134004.0  \n",
       "254450372  29156933          50     23949  29156994.0  \n",
       "254450378  29158889          10     45260  29158899.0  \n",
       "254450387  29163029         124     53003  29162955.0  \n",
       "254450411  29204887          10     27441  29204897.0  \n",
       "\n",
       "[18103959 rows x 7 columns]"
      ]
     },
     "execution_count": 8,
     "metadata": {},
     "output_type": "execute_result"
    }
   ],
   "source": [
    "data[data.start_time<data.sleep_time]"
   ]
  },
  {
   "cell_type": "markdown",
   "metadata": {},
   "source": [
    "As we can see here there is quit a few apps that are being used at least partially at the same time as other apps. This is indicated by the fact that the app is opened before the previous one is closed. For now we will consider this as zero sleep instances, but for further analysis it is worth considering if these should be considered as item sets, or sequences."
   ]
  },
  {
   "cell_type": "code",
   "execution_count": 5,
   "metadata": {},
   "outputs": [
    {
     "name": "stdout",
     "output_type": "stream",
     "text": [
      "min sleep time:  0.0\n",
      "min sleep time:  78889680.0\n"
     ]
    }
   ],
   "source": [
    "print(\"min sleep time: \",data.sleep_time.min())\n",
    "print(\"min sleep time: \",data.sleep_time.max())"
   ]
  },
  {
   "cell_type": "code",
   "execution_count": 6,
   "metadata": {},
   "outputs": [],
   "source": [
    "data['sleep_time']=data['start_time']-data['sleep_time']"
   ]
  },
  {
   "cell_type": "markdown",
   "metadata": {},
   "source": [
    "Here the probplem of overlapping app usage results in negative sleep times. For this part of the analysis they will be considered as zero."
   ]
  },
  {
   "cell_type": "code",
   "execution_count": 9,
   "metadata": {},
   "outputs": [
    {
     "name": "stdout",
     "output_type": "stream",
     "text": [
      "min sleep time:  -59221.0\n",
      "min sleep time:  7728262.0\n"
     ]
    }
   ],
   "source": [
    "print(\"min sleep time: \",data.sleep_time.min())\n",
    "print(\"min sleep time: \",data.sleep_time.max())"
   ]
  },
  {
   "cell_type": "code",
   "execution_count": 7,
   "metadata": {},
   "outputs": [],
   "source": [
    "data['sleep_time_modified']=data.sleep_time.copy()"
   ]
  },
  {
   "cell_type": "code",
   "execution_count": 8,
   "metadata": {},
   "outputs": [
    {
     "name": "stderr",
     "output_type": "stream",
     "text": [
      "<ipython-input-8-c9d15e498dfa>:1: SettingWithCopyWarning: \n",
      "A value is trying to be set on a copy of a slice from a DataFrame\n",
      "\n",
      "See the caveats in the documentation: https://pandas.pydata.org/pandas-docs/stable/user_guide/indexing.html#returning-a-view-versus-a-copy\n",
      "  data.sleep_time_modified[data['sleep_time']<0]=0\n"
     ]
    }
   ],
   "source": [
    "data.sleep_time_modified[data['sleep_time']<0]=0"
   ]
  },
  {
   "cell_type": "code",
   "execution_count": 9,
   "metadata": {},
   "outputs": [
    {
     "name": "stdout",
     "output_type": "stream",
     "text": [
      "procent of apps used at the same time as another app : 7.11492590882793\n"
     ]
    }
   ],
   "source": [
    "print(\"procent of apps used at the same time as another app :\",data[data.sleep_time<0].shape[0]/data.shape[0]*100)"
   ]
  },
  {
   "cell_type": "code",
   "execution_count": 8,
   "metadata": {},
   "outputs": [
    {
     "data": {
      "text/html": [
       "<div>\n",
       "<style scoped>\n",
       "    .dataframe tbody tr th:only-of-type {\n",
       "        vertical-align: middle;\n",
       "    }\n",
       "\n",
       "    .dataframe tbody tr th {\n",
       "        vertical-align: top;\n",
       "    }\n",
       "\n",
       "    .dataframe thead th {\n",
       "        text-align: right;\n",
       "    }\n",
       "</style>\n",
       "<table border=\"1\" class=\"dataframe\">\n",
       "  <thead>\n",
       "    <tr style=\"text-align: right;\">\n",
       "      <th></th>\n",
       "      <th>package_name</th>\n",
       "      <th>user_id</th>\n",
       "      <th>start_time</th>\n",
       "      <th>end_time</th>\n",
       "      <th>time_spend</th>\n",
       "      <th>app_code</th>\n",
       "      <th>sleep_time</th>\n",
       "      <th>sleep_time_modified</th>\n",
       "    </tr>\n",
       "  </thead>\n",
       "  <tbody>\n",
       "    <tr>\n",
       "      <th>11</th>\n",
       "      <td>bg.abv.andro.emailapp</td>\n",
       "      <td>0</td>\n",
       "      <td>3689</td>\n",
       "      <td>3699</td>\n",
       "      <td>10</td>\n",
       "      <td>2340</td>\n",
       "      <td>-237.0</td>\n",
       "      <td>0.0</td>\n",
       "    </tr>\n",
       "    <tr>\n",
       "      <th>20</th>\n",
       "      <td>com.facebook.katana</td>\n",
       "      <td>0</td>\n",
       "      <td>28836</td>\n",
       "      <td>29777</td>\n",
       "      <td>941</td>\n",
       "      <td>19968</td>\n",
       "      <td>-70.0</td>\n",
       "      <td>0.0</td>\n",
       "    </tr>\n",
       "    <tr>\n",
       "      <th>59</th>\n",
       "      <td>com.google.android.apps.translate</td>\n",
       "      <td>0</td>\n",
       "      <td>53793</td>\n",
       "      <td>53803</td>\n",
       "      <td>10</td>\n",
       "      <td>23926</td>\n",
       "      <td>-210.0</td>\n",
       "      <td>0.0</td>\n",
       "    </tr>\n",
       "    <tr>\n",
       "      <th>110</th>\n",
       "      <td>com.sonyericsson.video</td>\n",
       "      <td>0</td>\n",
       "      <td>173946</td>\n",
       "      <td>174206</td>\n",
       "      <td>260</td>\n",
       "      <td>45286</td>\n",
       "      <td>-30.0</td>\n",
       "      <td>0.0</td>\n",
       "    </tr>\n",
       "    <tr>\n",
       "      <th>111</th>\n",
       "      <td>com.sonyericsson.album</td>\n",
       "      <td>0</td>\n",
       "      <td>174036</td>\n",
       "      <td>174046</td>\n",
       "      <td>10</td>\n",
       "      <td>45260</td>\n",
       "      <td>-170.0</td>\n",
       "      <td>0.0</td>\n",
       "    </tr>\n",
       "    <tr>\n",
       "      <th>...</th>\n",
       "      <td>...</td>\n",
       "      <td>...</td>\n",
       "      <td>...</td>\n",
       "      <td>...</td>\n",
       "      <td>...</td>\n",
       "      <td>...</td>\n",
       "      <td>...</td>\n",
       "      <td>...</td>\n",
       "    </tr>\n",
       "    <tr>\n",
       "      <th>254450355</th>\n",
       "      <td>com.sonyericsson.music</td>\n",
       "      <td>9999</td>\n",
       "      <td>29133717</td>\n",
       "      <td>29133737</td>\n",
       "      <td>20</td>\n",
       "      <td>45284</td>\n",
       "      <td>-287.0</td>\n",
       "      <td>0.0</td>\n",
       "    </tr>\n",
       "    <tr>\n",
       "      <th>254450372</th>\n",
       "      <td>com.google.android.googlequicksearchbox</td>\n",
       "      <td>9999</td>\n",
       "      <td>29156883</td>\n",
       "      <td>29156933</td>\n",
       "      <td>50</td>\n",
       "      <td>23949</td>\n",
       "      <td>-111.0</td>\n",
       "      <td>0.0</td>\n",
       "    </tr>\n",
       "    <tr>\n",
       "      <th>254450378</th>\n",
       "      <td>com.sonyericsson.album</td>\n",
       "      <td>9999</td>\n",
       "      <td>29158879</td>\n",
       "      <td>29158889</td>\n",
       "      <td>10</td>\n",
       "      <td>45260</td>\n",
       "      <td>-20.0</td>\n",
       "      <td>0.0</td>\n",
       "    </tr>\n",
       "    <tr>\n",
       "      <th>254450387</th>\n",
       "      <td>com.whatsapp</td>\n",
       "      <td>9999</td>\n",
       "      <td>29162905</td>\n",
       "      <td>29163029</td>\n",
       "      <td>124</td>\n",
       "      <td>53003</td>\n",
       "      <td>-50.0</td>\n",
       "      <td>0.0</td>\n",
       "    </tr>\n",
       "    <tr>\n",
       "      <th>254450411</th>\n",
       "      <td>com.instagram.android</td>\n",
       "      <td>9999</td>\n",
       "      <td>29204877</td>\n",
       "      <td>29204887</td>\n",
       "      <td>10</td>\n",
       "      <td>27441</td>\n",
       "      <td>-20.0</td>\n",
       "      <td>0.0</td>\n",
       "    </tr>\n",
       "  </tbody>\n",
       "</table>\n",
       "<p>18103959 rows × 8 columns</p>\n",
       "</div>"
      ],
      "text/plain": [
       "                                      package_name  user_id  start_time  \\\n",
       "11                           bg.abv.andro.emailapp        0        3689   \n",
       "20                             com.facebook.katana        0       28836   \n",
       "59               com.google.android.apps.translate        0       53793   \n",
       "110                         com.sonyericsson.video        0      173946   \n",
       "111                         com.sonyericsson.album        0      174036   \n",
       "...                                            ...      ...         ...   \n",
       "254450355                   com.sonyericsson.music     9999    29133717   \n",
       "254450372  com.google.android.googlequicksearchbox     9999    29156883   \n",
       "254450378                   com.sonyericsson.album     9999    29158879   \n",
       "254450387                             com.whatsapp     9999    29162905   \n",
       "254450411                    com.instagram.android     9999    29204877   \n",
       "\n",
       "           end_time  time_spend  app_code  sleep_time  sleep_time_modified  \n",
       "11             3699          10      2340      -237.0                  0.0  \n",
       "20            29777         941     19968       -70.0                  0.0  \n",
       "59            53803          10     23926      -210.0                  0.0  \n",
       "110          174206         260     45286       -30.0                  0.0  \n",
       "111          174046          10     45260      -170.0                  0.0  \n",
       "...             ...         ...       ...         ...                  ...  \n",
       "254450355  29133737          20     45284      -287.0                  0.0  \n",
       "254450372  29156933          50     23949      -111.0                  0.0  \n",
       "254450378  29158889          10     45260       -20.0                  0.0  \n",
       "254450387  29163029         124     53003       -50.0                  0.0  \n",
       "254450411  29204887          10     27441       -20.0                  0.0  \n",
       "\n",
       "[18103959 rows x 8 columns]"
      ]
     },
     "execution_count": 8,
     "metadata": {},
     "output_type": "execute_result"
    }
   ],
   "source": [
    "data[data.sleep_time<0]"
   ]
  },
  {
   "cell_type": "code",
   "execution_count": 10,
   "metadata": {},
   "outputs": [
    {
     "data": {
      "text/plain": [
       "36.6"
      ]
     },
     "execution_count": 10,
     "metadata": {},
     "output_type": "execute_result"
    }
   ],
   "source": [
    "data.sleep_time_modified.quantile(q=0.90)/60"
   ]
  },
  {
   "cell_type": "code",
   "execution_count": 11,
   "metadata": {},
   "outputs": [
    {
     "data": {
      "text/plain": [
       "7.878611111111111"
      ]
     },
     "execution_count": 11,
     "metadata": {},
     "output_type": "execute_result"
    }
   ],
   "source": [
    "data.sleep_time_modified.quantile(q=0.99)/60/60"
   ]
  },
  {
   "cell_type": "code",
   "execution_count": 30,
   "metadata": {},
   "outputs": [
    {
     "data": {
      "image/png": "[encoded data removed]",
      "text/plain": [
       "<Figure size 432x288 with 1 Axes>"
      ]
     },
     "metadata": {
      "needs_background": "light"
     },
     "output_type": "display_data"
    }
   ],
   "source": [
    "plt.hist(data.sleep_time_modified[data.sleep_time_modified<=data.sleep_time_modified.quantile(q=0.99)])\n",
    "plt.show()"
   ]
  },
  {
   "cell_type": "markdown",
   "metadata": {},
   "source": [
    "Again we see that most of the observations have a very low sleep time so we again constrict the interval of intrest. "
   ]
  },
  {
   "cell_type": "code",
   "execution_count": 32,
   "metadata": {},
   "outputs": [
    {
     "data": {
      "image/png": "[encoded data removed]",
      "text/plain": [
       "<Figure size 432x288 with 1 Axes>"
      ]
     },
     "metadata": {
      "needs_background": "light"
     },
     "output_type": "display_data"
    }
   ],
   "source": [
    "plt.hist(data.sleep_time_modified[data.sleep_time_modified<=5000])\n",
    "plt.show()"
   ]
  },
  {
   "cell_type": "code",
   "execution_count": 18,
   "metadata": {},
   "outputs": [
    {
     "data": {
      "image/png": "[encoded data removed]",
      "text/plain": [
       "<Figure size 432x288 with 1 Axes>"
      ]
     },
     "metadata": {
      "needs_background": "light"
     },
     "output_type": "display_data"
    }
   ],
   "source": [
    "plt.hist(data.sleep_time_modified[data.sleep_time_modified<=1000])\n",
    "plt.show()"
   ]
  },
  {
   "cell_type": "code",
   "execution_count": 19,
   "metadata": {},
   "outputs": [
    {
     "data": {
      "image/png": "[encoded data removed]",
      "text/plain": [
       "<Figure size 432x288 with 1 Axes>"
      ]
     },
     "metadata": {
      "needs_background": "light"
     },
     "output_type": "display_data"
    }
   ],
   "source": [
    "plt.hist(data.sleep_time_modified[data.sleep_time_modified<=200])\n",
    "plt.show()"
   ]
  },
  {
   "cell_type": "markdown",
   "metadata": {},
   "source": [
    "# Opening the same data twice\n",
    "Here we investigate the possiblity of opening the same data right after each other. As we are intrested in the patterns of usage it is not neccessarily of much intrest that you close an app and immediatly open it again to continue the same activity.\n",
    "\n",
    "We start by the number of times the app which is opend is the same as the last one opened."
   ]
  },
  {
   "cell_type": "code",
   "execution_count": 12,
   "metadata": {},
   "outputs": [],
   "source": [
    "data[\"previous_app_code\"]=user_groups.app_code.shift(1)"
   ]
  },
  {
   "cell_type": "code",
   "execution_count": 13,
   "metadata": {},
   "outputs": [
    {
     "data": {
      "text/plain": [
       "55448447"
      ]
     },
     "execution_count": 13,
     "metadata": {},
     "output_type": "execute_result"
    }
   ],
   "source": [
    "data.app_code[data.app_code==data.previous_app_code].count()"
   ]
  },
  {
   "cell_type": "code",
   "execution_count": 146,
   "metadata": {},
   "outputs": [
    {
     "name": "stdout",
     "output_type": "stream",
     "text": [
      "Procent of all apps which are opened directly after the same app:  21.791454132467504\n"
     ]
    }
   ],
   "source": [
    "print(\"Procent of all apps which are opened directly after the same app: \",data.app_code[data.app_code==data.previous_app_code].count()/data.shape[0]*100)"
   ]
  },
  {
   "cell_type": "markdown",
   "metadata": {},
   "source": [
    "we now take all look at the sleeping times for these obervations"
   ]
  },
  {
   "cell_type": "code",
   "execution_count": 147,
   "metadata": {},
   "outputs": [
    {
     "name": "stdout",
     "output_type": "stream",
     "text": [
      "max sleep time:  6067204.0\n",
      "min sleep time:  -23445.0\n"
     ]
    }
   ],
   "source": [
    "print(\"max sleep time: \",data.sleep_time[data.app_code==data.previous_app_code].max())\n",
    "print(\"min sleep time: \",data.sleep_time[data.app_code==data.previous_app_code].min())"
   ]
  },
  {
   "cell_type": "code",
   "execution_count": 38,
   "metadata": {},
   "outputs": [
    {
     "data": {
      "image/png": "[encoded data removed]",
      "text/plain": [
       "<Figure size 432x288 with 1 Axes>"
      ]
     },
     "metadata": {
      "needs_background": "light"
     },
     "output_type": "display_data"
    }
   ],
   "source": [
    "plt.hist(data.sleep_time[data.app_code==data.previous_app_code])\n",
    "plt.show()"
   ]
  },
  {
   "cell_type": "code",
   "execution_count": 39,
   "metadata": {},
   "outputs": [
    {
     "data": {
      "image/png": "[encoded data removed]",
      "text/plain": [
       "<Figure size 432x288 with 1 Axes>"
      ]
     },
     "metadata": {
      "needs_background": "light"
     },
     "output_type": "display_data"
    }
   ],
   "source": [
    "plt.hist(data.sleep_time[(data.app_code==data.previous_app_code) ])\n",
    "plt.yscale('log')\n",
    "plt.show()"
   ]
  },
  {
   "cell_type": "code",
   "execution_count": 40,
   "metadata": {},
   "outputs": [
    {
     "data": {
      "image/png": "[encoded data removed]",
      "text/plain": [
       "<Figure size 432x288 with 1 Axes>"
      ]
     },
     "metadata": {
      "needs_background": "light"
     },
     "output_type": "display_data"
    }
   ],
   "source": [
    "plt.hist(data.sleep_time[(data.app_code==data.previous_app_code)& (data.sleep_time<1000000)])\n",
    "plt.yscale('log')\n",
    "plt.show()"
   ]
  },
  {
   "cell_type": "markdown",
   "metadata": {},
   "source": [
    "However we are esspecially interested in the ones used very close to each other."
   ]
  },
  {
   "cell_type": "code",
   "execution_count": 41,
   "metadata": {},
   "outputs": [
    {
     "data": {
      "image/png": "[encoded data removed]",
      "text/plain": [
       "<Figure size 432x288 with 1 Axes>"
      ]
     },
     "metadata": {
      "needs_background": "light"
     },
     "output_type": "display_data"
    }
   ],
   "source": [
    "plt.hist(data.sleep_time[(data.app_code==data.previous_app_code)& (data.sleep_time<60*60*24)])\n",
    "plt.yscale('log')\n",
    "plt.title(\"sleep time less than 24 hours\")\n",
    "plt.show()"
   ]
  },
  {
   "cell_type": "code",
   "execution_count": 148,
   "metadata": {},
   "outputs": [
    {
     "name": "stdout",
     "output_type": "stream",
     "text": [
      "number of times the same app is opened while the app is in use:  4821\n",
      "number of times the same app is opened right after (sleep time 0):  409933\n"
     ]
    }
   ],
   "source": [
    "print(\"number of times the same app is opened while the app is in use: \",data.sleep_time[(data.app_code==data.previous_app_code)& (data.sleep_time<0)].count())\n",
    "print(\"number of times the same app is opened right after (sleep time 0): \",data.sleep_time[(data.app_code==data.previous_app_code)& (data.sleep_time==0)].count())"
   ]
  },
  {
   "cell_type": "markdown",
   "metadata": {},
   "source": [
    "We see that a small number is used at the same time. For our purpose it is clear that these should be combined. Also we see that approcimately 400000 are opened imediatly after with no sleep time in between. For these it is also clear that they can be combined. Therefor we now filter out the observations which fall into any of theses two catagories, to focus on the observations where there in reality is a sleep time."
   ]
  },
  {
   "cell_type": "code",
   "execution_count": 43,
   "metadata": {},
   "outputs": [
    {
     "data": {
      "image/png": "[encoded data removed]",
      "text/plain": [
       "<Figure size 432x288 with 1 Axes>"
      ]
     },
     "metadata": {
      "needs_background": "light"
     },
     "output_type": "display_data"
    }
   ],
   "source": [
    "plt.hist(data.sleep_time[(data.app_code==data.previous_app_code)& (data.sleep_time<60*60*24)&(data.sleep_time>0)])\n",
    "plt.yscale('log')\n",
    "plt.show()"
   ]
  },
  {
   "cell_type": "code",
   "execution_count": 44,
   "metadata": {},
   "outputs": [
    {
     "data": {
      "text/plain": [
       "1553.9468436329696"
      ]
     },
     "execution_count": 44,
     "metadata": {},
     "output_type": "execute_result"
    }
   ],
   "source": [
    "data.sleep_time[(data.app_code==data.previous_app_code)].mean()"
   ]
  },
  {
   "cell_type": "code",
   "execution_count": 45,
   "metadata": {},
   "outputs": [
    {
     "data": {
      "image/png": "[encoded data removed]",
      "text/plain": [
       "<Figure size 432x288 with 1 Axes>"
      ]
     },
     "metadata": {
      "needs_background": "light"
     },
     "output_type": "display_data"
    }
   ],
   "source": [
    "plt.hist(data.sleep_time[(data.app_code==data.previous_app_code)& (data.sleep_time<60*60)&(data.sleep_time>0)])\n",
    "plt.show()"
   ]
  },
  {
   "cell_type": "code",
   "execution_count": 46,
   "metadata": {},
   "outputs": [
    {
     "data": {
      "image/png": "[encoded data removed]",
      "text/plain": [
       "<Figure size 432x288 with 1 Axes>"
      ]
     },
     "metadata": {
      "needs_background": "light"
     },
     "output_type": "display_data"
    }
   ],
   "source": [
    "plt.hist(data.sleep_time[(data.app_code==data.previous_app_code)& (data.sleep_time<10*60)&(data.sleep_time>0)])\n",
    "plt.show()"
   ]
  },
  {
   "cell_type": "code",
   "execution_count": 49,
   "metadata": {
    "scrolled": true
   },
   "outputs": [
    {
     "data": {
      "image/png": "[encoded data removed]",
      "text/plain": [
       "<Figure size 432x288 with 1 Axes>"
      ]
     },
     "metadata": {
      "needs_background": "light"
     },
     "output_type": "display_data"
    }
   ],
   "source": [
    "plt.hist(data.sleep_time[(data.app_code==data.previous_app_code)& (data.sleep_time<=10*60)&(data.sleep_time>0)])\n",
    "plt.show()"
   ]
  },
  {
   "cell_type": "code",
   "execution_count": 149,
   "metadata": {},
   "outputs": [
    {
     "data": {
      "text/plain": [
       "0.6278039527530889"
      ]
     },
     "execution_count": 149,
     "metadata": {},
     "output_type": "execute_result"
    }
   ],
   "source": [
    "data.sleep_time[(data.app_code==data.previous_app_code)& (data.sleep_time<=10*60)&(data.sleep_time>0)].count()/data.sleep_time[(data.app_code==data.previous_app_code)&(data.sleep_time>0)].count()"
   ]
  },
  {
   "cell_type": "code",
   "execution_count": 15,
   "metadata": {},
   "outputs": [
    {
     "name": "stdout",
     "output_type": "stream",
     "text": [
      "The median of sleep times for apps opened right after the previous app: 5.983333333333333\n"
     ]
    }
   ],
   "source": [
    "print(\"The median of sleep times for apps opened right after the previous app:\",data.sleep_time[(data.app_code==data.previous_app_code)&(data.sleep_time>0)].median()/60)"
   ]
  },
  {
   "cell_type": "code",
   "execution_count": 15,
   "metadata": {},
   "outputs": [
    {
     "name": "stdout",
     "output_type": "stream",
     "text": [
      "The median of sleep times for apps opened right after the previous app: 2.7333333333333334\n"
     ]
    }
   ],
   "source": [
    "print(\"The median of sleep times for apps opened right after the previous app:\",data.sleep_time[(data.app_code==data.previous_app_code)&(data.sleep_time>0)&(data.sleep_time<=60*8)].median()/60)"
   ]
  },
  {
   "cell_type": "code",
   "execution_count": 17,
   "metadata": {},
   "outputs": [
    {
     "name": "stdout",
     "output_type": "stream",
     "text": [
      "The 90-quantile of sleep times for apps opened right after the previous app: 6.366666666666666\n"
     ]
    }
   ],
   "source": [
    "print(\"The 90-quantile of sleep times for apps opened right after the previous app:\",data.sleep_time[(data.app_code==data.previous_app_code)&(data.sleep_time>0)&(data.sleep_time<=60*8)].quantile(q=0.9)/60)"
   ]
  },
  {
   "cell_type": "code",
   "execution_count": 17,
   "metadata": {},
   "outputs": [
    {
     "name": "stdout",
     "output_type": "stream",
     "text": [
      "The 60-quantile of sleep times for apps opened right after the previous app: 8.9\n"
     ]
    }
   ],
   "source": [
    "print(\"The 60-quantile of sleep times for apps opened right after the previous app:\",data.sleep_time[(data.app_code==data.previous_app_code)&(data.sleep_time>0)].quantile(q=0.6)/60)"
   ]
  },
  {
   "cell_type": "markdown",
   "metadata": {},
   "source": [
    "We see that by setting the limit to 10 mins we get more than 60 procent of the observations.\n",
    "Now we combine the observations where the same app is used again after a maximum of 10min sleep time."
   ]
  },
  {
   "cell_type": "code",
   "execution_count": 50,
   "metadata": {},
   "outputs": [
    {
     "data": {
      "text/html": [
       "<div>\n",
       "<style scoped>\n",
       "    .dataframe tbody tr th:only-of-type {\n",
       "        vertical-align: middle;\n",
       "    }\n",
       "\n",
       "    .dataframe tbody tr th {\n",
       "        vertical-align: top;\n",
       "    }\n",
       "\n",
       "    .dataframe thead th {\n",
       "        text-align: right;\n",
       "    }\n",
       "</style>\n",
       "<table border=\"1\" class=\"dataframe\">\n",
       "  <thead>\n",
       "    <tr style=\"text-align: right;\">\n",
       "      <th></th>\n",
       "      <th>package_name</th>\n",
       "      <th>user_id</th>\n",
       "      <th>start_time</th>\n",
       "      <th>end_time</th>\n",
       "      <th>time_spend</th>\n",
       "      <th>app_code</th>\n",
       "      <th>sleep_time</th>\n",
       "      <th>sleep_time_modified</th>\n",
       "      <th>previous_app_code</th>\n",
       "    </tr>\n",
       "  </thead>\n",
       "  <tbody>\n",
       "    <tr>\n",
       "      <th>7</th>\n",
       "      <td>com.whatsapp</td>\n",
       "      <td>0</td>\n",
       "      <td>2183</td>\n",
       "      <td>2221</td>\n",
       "      <td>38</td>\n",
       "      <td>53003</td>\n",
       "      <td>395.0</td>\n",
       "      <td>395.0</td>\n",
       "      <td>53003.0</td>\n",
       "    </tr>\n",
       "    <tr>\n",
       "      <th>14</th>\n",
       "      <td>com.whatsapp</td>\n",
       "      <td>0</td>\n",
       "      <td>4712</td>\n",
       "      <td>4742</td>\n",
       "      <td>30</td>\n",
       "      <td>53003</td>\n",
       "      <td>556.0</td>\n",
       "      <td>556.0</td>\n",
       "      <td>53003.0</td>\n",
       "    </tr>\n",
       "    <tr>\n",
       "      <th>26</th>\n",
       "      <td>com.android.chrome</td>\n",
       "      <td>0</td>\n",
       "      <td>33229</td>\n",
       "      <td>33239</td>\n",
       "      <td>10</td>\n",
       "      <td>7649</td>\n",
       "      <td>460.0</td>\n",
       "      <td>460.0</td>\n",
       "      <td>7649.0</td>\n",
       "    </tr>\n",
       "    <tr>\n",
       "      <th>28</th>\n",
       "      <td>com.sonyericsson.album</td>\n",
       "      <td>0</td>\n",
       "      <td>33552</td>\n",
       "      <td>33562</td>\n",
       "      <td>10</td>\n",
       "      <td>45260</td>\n",
       "      <td>217.0</td>\n",
       "      <td>217.0</td>\n",
       "      <td>45260.0</td>\n",
       "    </tr>\n",
       "    <tr>\n",
       "      <th>46</th>\n",
       "      <td>com.sonyericsson.android.socialphonebook</td>\n",
       "      <td>0</td>\n",
       "      <td>48785</td>\n",
       "      <td>48795</td>\n",
       "      <td>10</td>\n",
       "      <td>45261</td>\n",
       "      <td>491.0</td>\n",
       "      <td>491.0</td>\n",
       "      <td>45261.0</td>\n",
       "    </tr>\n",
       "    <tr>\n",
       "      <th>...</th>\n",
       "      <td>...</td>\n",
       "      <td>...</td>\n",
       "      <td>...</td>\n",
       "      <td>...</td>\n",
       "      <td>...</td>\n",
       "      <td>...</td>\n",
       "      <td>...</td>\n",
       "      <td>...</td>\n",
       "      <td>...</td>\n",
       "    </tr>\n",
       "    <tr>\n",
       "      <th>254450388</th>\n",
       "      <td>com.whatsapp</td>\n",
       "      <td>9999</td>\n",
       "      <td>29163246</td>\n",
       "      <td>29163262</td>\n",
       "      <td>16</td>\n",
       "      <td>53003</td>\n",
       "      <td>217.0</td>\n",
       "      <td>217.0</td>\n",
       "      <td>53003.0</td>\n",
       "    </tr>\n",
       "    <tr>\n",
       "      <th>254450389</th>\n",
       "      <td>com.whatsapp</td>\n",
       "      <td>9999</td>\n",
       "      <td>29163490</td>\n",
       "      <td>29163500</td>\n",
       "      <td>10</td>\n",
       "      <td>53003</td>\n",
       "      <td>228.0</td>\n",
       "      <td>228.0</td>\n",
       "      <td>53003.0</td>\n",
       "    </tr>\n",
       "    <tr>\n",
       "      <th>254450399</th>\n",
       "      <td>com.facebook.katana</td>\n",
       "      <td>9999</td>\n",
       "      <td>29167795</td>\n",
       "      <td>29167859</td>\n",
       "      <td>64</td>\n",
       "      <td>19968</td>\n",
       "      <td>280.0</td>\n",
       "      <td>280.0</td>\n",
       "      <td>19968.0</td>\n",
       "    </tr>\n",
       "    <tr>\n",
       "      <th>254450405</th>\n",
       "      <td>com.snapchat.android</td>\n",
       "      <td>9999</td>\n",
       "      <td>29201485</td>\n",
       "      <td>29201495</td>\n",
       "      <td>10</td>\n",
       "      <td>44880</td>\n",
       "      <td>256.0</td>\n",
       "      <td>256.0</td>\n",
       "      <td>44880.0</td>\n",
       "    </tr>\n",
       "    <tr>\n",
       "      <th>254450408</th>\n",
       "      <td>com.facebook.orca</td>\n",
       "      <td>9999</td>\n",
       "      <td>29202098</td>\n",
       "      <td>29202128</td>\n",
       "      <td>30</td>\n",
       "      <td>19973</td>\n",
       "      <td>305.0</td>\n",
       "      <td>305.0</td>\n",
       "      <td>19973.0</td>\n",
       "    </tr>\n",
       "  </tbody>\n",
       "</table>\n",
       "<p>34550370 rows × 9 columns</p>\n",
       "</div>"
      ],
      "text/plain": [
       "                                       package_name  user_id  start_time  \\\n",
       "7                                      com.whatsapp        0        2183   \n",
       "14                                     com.whatsapp        0        4712   \n",
       "26                               com.android.chrome        0       33229   \n",
       "28                           com.sonyericsson.album        0       33552   \n",
       "46         com.sonyericsson.android.socialphonebook        0       48785   \n",
       "...                                             ...      ...         ...   \n",
       "254450388                              com.whatsapp     9999    29163246   \n",
       "254450389                              com.whatsapp     9999    29163490   \n",
       "254450399                       com.facebook.katana     9999    29167795   \n",
       "254450405                      com.snapchat.android     9999    29201485   \n",
       "254450408                         com.facebook.orca     9999    29202098   \n",
       "\n",
       "           end_time  time_spend  app_code  sleep_time  sleep_time_modified  \\\n",
       "7              2221          38     53003       395.0                395.0   \n",
       "14             4742          30     53003       556.0                556.0   \n",
       "26            33239          10      7649       460.0                460.0   \n",
       "28            33562          10     45260       217.0                217.0   \n",
       "46            48795          10     45261       491.0                491.0   \n",
       "...             ...         ...       ...         ...                  ...   \n",
       "254450388  29163262          16     53003       217.0                217.0   \n",
       "254450389  29163500          10     53003       228.0                228.0   \n",
       "254450399  29167859          64     19968       280.0                280.0   \n",
       "254450405  29201495          10     44880       256.0                256.0   \n",
       "254450408  29202128          30     19973       305.0                305.0   \n",
       "\n",
       "           previous_app_code  \n",
       "7                    53003.0  \n",
       "14                   53003.0  \n",
       "26                    7649.0  \n",
       "28                   45260.0  \n",
       "46                   45261.0  \n",
       "...                      ...  \n",
       "254450388            53003.0  \n",
       "254450389            53003.0  \n",
       "254450399            19968.0  \n",
       "254450405            44880.0  \n",
       "254450408            19973.0  \n",
       "\n",
       "[34550370 rows x 9 columns]"
      ]
     },
     "execution_count": 50,
     "metadata": {},
     "output_type": "execute_result"
    }
   ],
   "source": [
    "data[(data.app_code==data.previous_app_code)& (data.sleep_time<=10*60)&(data.sleep_time>0)]"
   ]
  },
  {
   "cell_type": "markdown",
   "metadata": {},
   "source": [
    "## Combine observations"
   ]
  },
  {
   "cell_type": "code",
   "execution_count": 18,
   "metadata": {},
   "outputs": [],
   "source": [
    "data2=data.copy()"
   ]
  },
  {
   "cell_type": "markdown",
   "metadata": {},
   "source": [
    "For all app usages that should be merged together, the indexes of those with the highest end time.\\\n",
    "This mean that we are only interested in obervertions that need to be merged so the first step is to filter the data according to this criteria."
   ]
  },
  {
   "cell_type": "code",
   "execution_count": 19,
   "metadata": {},
   "outputs": [],
   "source": [
    "data2=data2[(data2.previous_app_code==data2.app_code) | (data2.app_code==data2.app_code.shift(-1))]"
   ]
  },
  {
   "cell_type": "markdown",
   "metadata": {},
   "source": [
    "We now identify which belong to the same event. This is done in order to accomendate situation where the same app is used more than twice in a row. Here the critia is selected to be 10 min.\\\n",
    "Insperation for this part of the solution was found here: https://stackoverflow.com/questions/38885770/weather-events-grouped-based-on-time-differences-in-pandas (visited 24.9.2021)"
   ]
  },
  {
   "cell_type": "code",
   "execution_count": 20,
   "metadata": {},
   "outputs": [],
   "source": [
    "data2['new_event'] = data2.groupby(['user_id','app_code']).sleep_time.apply(lambda s: s>60*10)"
   ]
  },
  {
   "cell_type": "code",
   "execution_count": 21,
   "metadata": {},
   "outputs": [],
   "source": [
    "data2.loc[data2[data2.app_code!=data2.previous_app_code].index,'new_event'] = True"
   ]
  },
  {
   "cell_type": "code",
   "execution_count": 22,
   "metadata": {},
   "outputs": [],
   "source": [
    "data2['event'] = data2.groupby(['user_id','app_code']).new_event.cumsum().astype('int')"
   ]
  },
  {
   "cell_type": "code",
   "execution_count": 155,
   "metadata": {
    "scrolled": true
   },
   "outputs": [
    {
     "data": {
      "text/html": [
       "<div>\n",
       "<style scoped>\n",
       "    .dataframe tbody tr th:only-of-type {\n",
       "        vertical-align: middle;\n",
       "    }\n",
       "\n",
       "    .dataframe tbody tr th {\n",
       "        vertical-align: top;\n",
       "    }\n",
       "\n",
       "    .dataframe thead th {\n",
       "        text-align: right;\n",
       "    }\n",
       "</style>\n",
       "<table border=\"1\" class=\"dataframe\">\n",
       "  <thead>\n",
       "    <tr style=\"text-align: right;\">\n",
       "      <th></th>\n",
       "      <th>package_name</th>\n",
       "      <th>user_id</th>\n",
       "      <th>start_time</th>\n",
       "      <th>end_time</th>\n",
       "      <th>time_spend</th>\n",
       "      <th>app_code</th>\n",
       "      <th>sleep_time</th>\n",
       "      <th>sleep_time_modified</th>\n",
       "      <th>previous_app_code</th>\n",
       "      <th>new_event</th>\n",
       "      <th>event</th>\n",
       "    </tr>\n",
       "  </thead>\n",
       "  <tbody>\n",
       "    <tr>\n",
       "      <th>6</th>\n",
       "      <td>com.whatsapp</td>\n",
       "      <td>0</td>\n",
       "      <td>1712</td>\n",
       "      <td>1788</td>\n",
       "      <td>76</td>\n",
       "      <td>53003</td>\n",
       "      <td>0.0</td>\n",
       "      <td>0.0</td>\n",
       "      <td>23967.0</td>\n",
       "      <td>True</td>\n",
       "      <td>1</td>\n",
       "    </tr>\n",
       "    <tr>\n",
       "      <th>7</th>\n",
       "      <td>com.whatsapp</td>\n",
       "      <td>0</td>\n",
       "      <td>2183</td>\n",
       "      <td>2221</td>\n",
       "      <td>38</td>\n",
       "      <td>53003</td>\n",
       "      <td>395.0</td>\n",
       "      <td>395.0</td>\n",
       "      <td>53003.0</td>\n",
       "      <td>False</td>\n",
       "      <td>1</td>\n",
       "    </tr>\n",
       "    <tr>\n",
       "      <th>8</th>\n",
       "      <td>com.whatsapp</td>\n",
       "      <td>0</td>\n",
       "      <td>3449</td>\n",
       "      <td>3579</td>\n",
       "      <td>130</td>\n",
       "      <td>53003</td>\n",
       "      <td>1228.0</td>\n",
       "      <td>1228.0</td>\n",
       "      <td>53003.0</td>\n",
       "      <td>True</td>\n",
       "      <td>2</td>\n",
       "    </tr>\n",
       "    <tr>\n",
       "      <th>13</th>\n",
       "      <td>com.whatsapp</td>\n",
       "      <td>0</td>\n",
       "      <td>4076</td>\n",
       "      <td>4156</td>\n",
       "      <td>80</td>\n",
       "      <td>53003</td>\n",
       "      <td>0.0</td>\n",
       "      <td>0.0</td>\n",
       "      <td>7649.0</td>\n",
       "      <td>True</td>\n",
       "      <td>3</td>\n",
       "    </tr>\n",
       "    <tr>\n",
       "      <th>14</th>\n",
       "      <td>com.whatsapp</td>\n",
       "      <td>0</td>\n",
       "      <td>4712</td>\n",
       "      <td>4742</td>\n",
       "      <td>30</td>\n",
       "      <td>53003</td>\n",
       "      <td>556.0</td>\n",
       "      <td>556.0</td>\n",
       "      <td>53003.0</td>\n",
       "      <td>False</td>\n",
       "      <td>3</td>\n",
       "    </tr>\n",
       "    <tr>\n",
       "      <th>120</th>\n",
       "      <td>com.whatsapp</td>\n",
       "      <td>0</td>\n",
       "      <td>175736</td>\n",
       "      <td>175916</td>\n",
       "      <td>180</td>\n",
       "      <td>53003</td>\n",
       "      <td>0.0</td>\n",
       "      <td>0.0</td>\n",
       "      <td>7649.0</td>\n",
       "      <td>True</td>\n",
       "      <td>4</td>\n",
       "    </tr>\n",
       "    <tr>\n",
       "      <th>121</th>\n",
       "      <td>com.whatsapp</td>\n",
       "      <td>0</td>\n",
       "      <td>176086</td>\n",
       "      <td>176166</td>\n",
       "      <td>80</td>\n",
       "      <td>53003</td>\n",
       "      <td>170.0</td>\n",
       "      <td>170.0</td>\n",
       "      <td>53003.0</td>\n",
       "      <td>False</td>\n",
       "      <td>4</td>\n",
       "    </tr>\n",
       "    <tr>\n",
       "      <th>133</th>\n",
       "      <td>com.whatsapp</td>\n",
       "      <td>0</td>\n",
       "      <td>177236</td>\n",
       "      <td>177267</td>\n",
       "      <td>31</td>\n",
       "      <td>53003</td>\n",
       "      <td>-141.0</td>\n",
       "      <td>0.0</td>\n",
       "      <td>7649.0</td>\n",
       "      <td>True</td>\n",
       "      <td>5</td>\n",
       "    </tr>\n",
       "    <tr>\n",
       "      <th>134</th>\n",
       "      <td>com.whatsapp</td>\n",
       "      <td>0</td>\n",
       "      <td>177377</td>\n",
       "      <td>177567</td>\n",
       "      <td>190</td>\n",
       "      <td>53003</td>\n",
       "      <td>110.0</td>\n",
       "      <td>110.0</td>\n",
       "      <td>53003.0</td>\n",
       "      <td>False</td>\n",
       "      <td>5</td>\n",
       "    </tr>\n",
       "    <tr>\n",
       "      <th>136</th>\n",
       "      <td>com.whatsapp</td>\n",
       "      <td>0</td>\n",
       "      <td>178561</td>\n",
       "      <td>178581</td>\n",
       "      <td>20</td>\n",
       "      <td>53003</td>\n",
       "      <td>1044.0</td>\n",
       "      <td>1044.0</td>\n",
       "      <td>19968.0</td>\n",
       "      <td>True</td>\n",
       "      <td>6</td>\n",
       "    </tr>\n",
       "    <tr>\n",
       "      <th>137</th>\n",
       "      <td>com.whatsapp</td>\n",
       "      <td>0</td>\n",
       "      <td>209531</td>\n",
       "      <td>209562</td>\n",
       "      <td>31</td>\n",
       "      <td>53003</td>\n",
       "      <td>30950.0</td>\n",
       "      <td>30950.0</td>\n",
       "      <td>53003.0</td>\n",
       "      <td>True</td>\n",
       "      <td>7</td>\n",
       "    </tr>\n",
       "    <tr>\n",
       "      <th>1010</th>\n",
       "      <td>com.whatsapp</td>\n",
       "      <td>0</td>\n",
       "      <td>1545867</td>\n",
       "      <td>1545951</td>\n",
       "      <td>84</td>\n",
       "      <td>53003</td>\n",
       "      <td>0.0</td>\n",
       "      <td>0.0</td>\n",
       "      <td>7649.0</td>\n",
       "      <td>True</td>\n",
       "      <td>8</td>\n",
       "    </tr>\n",
       "    <tr>\n",
       "      <th>1011</th>\n",
       "      <td>com.whatsapp</td>\n",
       "      <td>0</td>\n",
       "      <td>1546068</td>\n",
       "      <td>1546138</td>\n",
       "      <td>70</td>\n",
       "      <td>53003</td>\n",
       "      <td>117.0</td>\n",
       "      <td>117.0</td>\n",
       "      <td>53003.0</td>\n",
       "      <td>False</td>\n",
       "      <td>8</td>\n",
       "    </tr>\n",
       "    <tr>\n",
       "      <th>1259</th>\n",
       "      <td>com.whatsapp</td>\n",
       "      <td>0</td>\n",
       "      <td>1881933</td>\n",
       "      <td>1882140</td>\n",
       "      <td>207</td>\n",
       "      <td>53003</td>\n",
       "      <td>10.0</td>\n",
       "      <td>10.0</td>\n",
       "      <td>45261.0</td>\n",
       "      <td>True</td>\n",
       "      <td>9</td>\n",
       "    </tr>\n",
       "    <tr>\n",
       "      <th>1260</th>\n",
       "      <td>com.whatsapp</td>\n",
       "      <td>0</td>\n",
       "      <td>1884955</td>\n",
       "      <td>1884965</td>\n",
       "      <td>10</td>\n",
       "      <td>53003</td>\n",
       "      <td>2815.0</td>\n",
       "      <td>2815.0</td>\n",
       "      <td>53003.0</td>\n",
       "      <td>True</td>\n",
       "      <td>10</td>\n",
       "    </tr>\n",
       "    <tr>\n",
       "      <th>1317</th>\n",
       "      <td>com.whatsapp</td>\n",
       "      <td>0</td>\n",
       "      <td>1980037</td>\n",
       "      <td>1980147</td>\n",
       "      <td>110</td>\n",
       "      <td>53003</td>\n",
       "      <td>4178.0</td>\n",
       "      <td>4178.0</td>\n",
       "      <td>51657.0</td>\n",
       "      <td>True</td>\n",
       "      <td>11</td>\n",
       "    </tr>\n",
       "    <tr>\n",
       "      <th>1318</th>\n",
       "      <td>com.whatsapp</td>\n",
       "      <td>0</td>\n",
       "      <td>1980587</td>\n",
       "      <td>1980617</td>\n",
       "      <td>30</td>\n",
       "      <td>53003</td>\n",
       "      <td>440.0</td>\n",
       "      <td>440.0</td>\n",
       "      <td>53003.0</td>\n",
       "      <td>False</td>\n",
       "      <td>11</td>\n",
       "    </tr>\n",
       "    <tr>\n",
       "      <th>1320</th>\n",
       "      <td>com.whatsapp</td>\n",
       "      <td>0</td>\n",
       "      <td>1980698</td>\n",
       "      <td>1980738</td>\n",
       "      <td>40</td>\n",
       "      <td>53003</td>\n",
       "      <td>-180.0</td>\n",
       "      <td>0.0</td>\n",
       "      <td>19973.0</td>\n",
       "      <td>True</td>\n",
       "      <td>12</td>\n",
       "    </tr>\n",
       "    <tr>\n",
       "      <th>1321</th>\n",
       "      <td>com.whatsapp</td>\n",
       "      <td>0</td>\n",
       "      <td>1980878</td>\n",
       "      <td>1981348</td>\n",
       "      <td>470</td>\n",
       "      <td>53003</td>\n",
       "      <td>140.0</td>\n",
       "      <td>140.0</td>\n",
       "      <td>53003.0</td>\n",
       "      <td>False</td>\n",
       "      <td>12</td>\n",
       "    </tr>\n",
       "    <tr>\n",
       "      <th>2271</th>\n",
       "      <td>com.whatsapp</td>\n",
       "      <td>0</td>\n",
       "      <td>3418601</td>\n",
       "      <td>3418634</td>\n",
       "      <td>33</td>\n",
       "      <td>53003</td>\n",
       "      <td>0.0</td>\n",
       "      <td>0.0</td>\n",
       "      <td>19968.0</td>\n",
       "      <td>True</td>\n",
       "      <td>13</td>\n",
       "    </tr>\n",
       "    <tr>\n",
       "      <th>2272</th>\n",
       "      <td>com.whatsapp</td>\n",
       "      <td>0</td>\n",
       "      <td>3419665</td>\n",
       "      <td>3419735</td>\n",
       "      <td>70</td>\n",
       "      <td>53003</td>\n",
       "      <td>1031.0</td>\n",
       "      <td>1031.0</td>\n",
       "      <td>53003.0</td>\n",
       "      <td>True</td>\n",
       "      <td>14</td>\n",
       "    </tr>\n",
       "    <tr>\n",
       "      <th>3038</th>\n",
       "      <td>com.whatsapp</td>\n",
       "      <td>0</td>\n",
       "      <td>4449368</td>\n",
       "      <td>4449525</td>\n",
       "      <td>157</td>\n",
       "      <td>53003</td>\n",
       "      <td>0.0</td>\n",
       "      <td>0.0</td>\n",
       "      <td>19968.0</td>\n",
       "      <td>True</td>\n",
       "      <td>15</td>\n",
       "    </tr>\n",
       "    <tr>\n",
       "      <th>3039</th>\n",
       "      <td>com.whatsapp</td>\n",
       "      <td>0</td>\n",
       "      <td>4453884</td>\n",
       "      <td>4453894</td>\n",
       "      <td>10</td>\n",
       "      <td>53003</td>\n",
       "      <td>4359.0</td>\n",
       "      <td>4359.0</td>\n",
       "      <td>53003.0</td>\n",
       "      <td>True</td>\n",
       "      <td>16</td>\n",
       "    </tr>\n",
       "    <tr>\n",
       "      <th>3048</th>\n",
       "      <td>com.whatsapp</td>\n",
       "      <td>0</td>\n",
       "      <td>4459081</td>\n",
       "      <td>4459141</td>\n",
       "      <td>60</td>\n",
       "      <td>53003</td>\n",
       "      <td>40.0</td>\n",
       "      <td>40.0</td>\n",
       "      <td>27447.0</td>\n",
       "      <td>True</td>\n",
       "      <td>17</td>\n",
       "    </tr>\n",
       "    <tr>\n",
       "      <th>3049</th>\n",
       "      <td>com.whatsapp</td>\n",
       "      <td>0</td>\n",
       "      <td>4459782</td>\n",
       "      <td>4459792</td>\n",
       "      <td>10</td>\n",
       "      <td>53003</td>\n",
       "      <td>641.0</td>\n",
       "      <td>641.0</td>\n",
       "      <td>53003.0</td>\n",
       "      <td>True</td>\n",
       "      <td>18</td>\n",
       "    </tr>\n",
       "    <tr>\n",
       "      <th>3126</th>\n",
       "      <td>com.whatsapp</td>\n",
       "      <td>0</td>\n",
       "      <td>4534867</td>\n",
       "      <td>4535031</td>\n",
       "      <td>164</td>\n",
       "      <td>53003</td>\n",
       "      <td>1798.0</td>\n",
       "      <td>1798.0</td>\n",
       "      <td>51657.0</td>\n",
       "      <td>True</td>\n",
       "      <td>19</td>\n",
       "    </tr>\n",
       "    <tr>\n",
       "      <th>3127</th>\n",
       "      <td>com.whatsapp</td>\n",
       "      <td>0</td>\n",
       "      <td>4535190</td>\n",
       "      <td>4535230</td>\n",
       "      <td>40</td>\n",
       "      <td>53003</td>\n",
       "      <td>159.0</td>\n",
       "      <td>159.0</td>\n",
       "      <td>53003.0</td>\n",
       "      <td>False</td>\n",
       "      <td>19</td>\n",
       "    </tr>\n",
       "    <tr>\n",
       "      <th>3128</th>\n",
       "      <td>com.whatsapp</td>\n",
       "      <td>0</td>\n",
       "      <td>4535454</td>\n",
       "      <td>4535515</td>\n",
       "      <td>61</td>\n",
       "      <td>53003</td>\n",
       "      <td>224.0</td>\n",
       "      <td>224.0</td>\n",
       "      <td>53003.0</td>\n",
       "      <td>False</td>\n",
       "      <td>19</td>\n",
       "    </tr>\n",
       "    <tr>\n",
       "      <th>3131</th>\n",
       "      <td>com.whatsapp</td>\n",
       "      <td>0</td>\n",
       "      <td>4535646</td>\n",
       "      <td>4535656</td>\n",
       "      <td>10</td>\n",
       "      <td>53003</td>\n",
       "      <td>10.0</td>\n",
       "      <td>10.0</td>\n",
       "      <td>7649.0</td>\n",
       "      <td>True</td>\n",
       "      <td>20</td>\n",
       "    </tr>\n",
       "    <tr>\n",
       "      <th>3132</th>\n",
       "      <td>com.whatsapp</td>\n",
       "      <td>0</td>\n",
       "      <td>4535826</td>\n",
       "      <td>4535876</td>\n",
       "      <td>50</td>\n",
       "      <td>53003</td>\n",
       "      <td>170.0</td>\n",
       "      <td>170.0</td>\n",
       "      <td>53003.0</td>\n",
       "      <td>False</td>\n",
       "      <td>20</td>\n",
       "    </tr>\n",
       "  </tbody>\n",
       "</table>\n",
       "</div>"
      ],
      "text/plain": [
       "      package_name  user_id  start_time  end_time  time_spend  app_code  \\\n",
       "6     com.whatsapp        0        1712      1788          76     53003   \n",
       "7     com.whatsapp        0        2183      2221          38     53003   \n",
       "8     com.whatsapp        0        3449      3579         130     53003   \n",
       "13    com.whatsapp        0        4076      4156          80     53003   \n",
       "14    com.whatsapp        0        4712      4742          30     53003   \n",
       "120   com.whatsapp        0      175736    175916         180     53003   \n",
       "121   com.whatsapp        0      176086    176166          80     53003   \n",
       "133   com.whatsapp        0      177236    177267          31     53003   \n",
       "134   com.whatsapp        0      177377    177567         190     53003   \n",
       "136   com.whatsapp        0      178561    178581          20     53003   \n",
       "137   com.whatsapp        0      209531    209562          31     53003   \n",
       "1010  com.whatsapp        0     1545867   1545951          84     53003   \n",
       "1011  com.whatsapp        0     1546068   1546138          70     53003   \n",
       "1259  com.whatsapp        0     1881933   1882140         207     53003   \n",
       "1260  com.whatsapp        0     1884955   1884965          10     53003   \n",
       "1317  com.whatsapp        0     1980037   1980147         110     53003   \n",
       "1318  com.whatsapp        0     1980587   1980617          30     53003   \n",
       "1320  com.whatsapp        0     1980698   1980738          40     53003   \n",
       "1321  com.whatsapp        0     1980878   1981348         470     53003   \n",
       "2271  com.whatsapp        0     3418601   3418634          33     53003   \n",
       "2272  com.whatsapp        0     3419665   3419735          70     53003   \n",
       "3038  com.whatsapp        0     4449368   4449525         157     53003   \n",
       "3039  com.whatsapp        0     4453884   4453894          10     53003   \n",
       "3048  com.whatsapp        0     4459081   4459141          60     53003   \n",
       "3049  com.whatsapp        0     4459782   4459792          10     53003   \n",
       "3126  com.whatsapp        0     4534867   4535031         164     53003   \n",
       "3127  com.whatsapp        0     4535190   4535230          40     53003   \n",
       "3128  com.whatsapp        0     4535454   4535515          61     53003   \n",
       "3131  com.whatsapp        0     4535646   4535656          10     53003   \n",
       "3132  com.whatsapp        0     4535826   4535876          50     53003   \n",
       "\n",
       "      sleep_time  sleep_time_modified  previous_app_code  new_event  event  \n",
       "6            0.0                  0.0            23967.0       True      1  \n",
       "7          395.0                395.0            53003.0      False      1  \n",
       "8         1228.0               1228.0            53003.0       True      2  \n",
       "13           0.0                  0.0             7649.0       True      3  \n",
       "14         556.0                556.0            53003.0      False      3  \n",
       "120          0.0                  0.0             7649.0       True      4  \n",
       "121        170.0                170.0            53003.0      False      4  \n",
       "133       -141.0                  0.0             7649.0       True      5  \n",
       "134        110.0                110.0            53003.0      False      5  \n",
       "136       1044.0               1044.0            19968.0       True      6  \n",
       "137      30950.0              30950.0            53003.0       True      7  \n",
       "1010         0.0                  0.0             7649.0       True      8  \n",
       "1011       117.0                117.0            53003.0      False      8  \n",
       "1259        10.0                 10.0            45261.0       True      9  \n",
       "1260      2815.0               2815.0            53003.0       True     10  \n",
       "1317      4178.0               4178.0            51657.0       True     11  \n",
       "1318       440.0                440.0            53003.0      False     11  \n",
       "1320      -180.0                  0.0            19973.0       True     12  \n",
       "1321       140.0                140.0            53003.0      False     12  \n",
       "2271         0.0                  0.0            19968.0       True     13  \n",
       "2272      1031.0               1031.0            53003.0       True     14  \n",
       "3038         0.0                  0.0            19968.0       True     15  \n",
       "3039      4359.0               4359.0            53003.0       True     16  \n",
       "3048        40.0                 40.0            27447.0       True     17  \n",
       "3049       641.0                641.0            53003.0       True     18  \n",
       "3126      1798.0               1798.0            51657.0       True     19  \n",
       "3127       159.0                159.0            53003.0      False     19  \n",
       "3128       224.0                224.0            53003.0      False     19  \n",
       "3131        10.0                 10.0             7649.0       True     20  \n",
       "3132       170.0                170.0            53003.0      False     20  "
      ]
     },
     "execution_count": 155,
     "metadata": {},
     "output_type": "execute_result"
    }
   ],
   "source": [
    "data2[data2.package_name==\"com.whatsapp\"].iloc[0:30,:]"
   ]
  },
  {
   "cell_type": "markdown",
   "metadata": {},
   "source": [
    "We are now ready to identify the indexes of the highest end time for each event.\\\n",
    "Insperation for this part of the solution was found here: https://stackoverflow.com/questions/15705630/get-the-rows-which-have-the-max-value-in-groups-using-groupby (visited 24.9.2021)"
   ]
  },
  {
   "cell_type": "code",
   "execution_count": 23,
   "metadata": {},
   "outputs": [],
   "source": [
    "data2_grouped = data2.groupby(['user_id', 'app_code','event']).agg({'end_time':'max'})\n",
    "\n",
    "data2_grouped = data2_grouped.reset_index()\n",
    "\n",
    "data2_grouped = data2_grouped.rename(columns={'end_time':'event_end_time'})\n",
    "\n",
    "data3 = pd.merge(data2, data2_grouped, how='left', on=['user_id', 'app_code','event'])\n",
    "\n",
    "data3 = data3[data3['end_time'] == data3['event_end_time']]\n",
    "\n",
    "#because in the same event more apps can be closed at once.\n",
    "data3=data3.drop_duplicates(subset=['user_id', 'app_code','event'], keep='last')"
   ]
  },
  {
   "cell_type": "markdown",
   "metadata": {},
   "source": [
    "We now have the index of the end times for the ones that need to be combined,"
   ]
  },
  {
   "cell_type": "code",
   "execution_count": 24,
   "metadata": {},
   "outputs": [],
   "source": [
    "max_index=data2.iloc[data3.index].index"
   ]
  },
  {
   "cell_type": "markdown",
   "metadata": {},
   "source": [
    "We now need to find the index of the lowest start time within each of the events, that needs to be combined."
   ]
  },
  {
   "cell_type": "code",
   "execution_count": 25,
   "metadata": {},
   "outputs": [],
   "source": [
    "data2_grouped = data2.groupby(['user_id', 'app_code','event']).agg({'start_time':'min'})\n",
    "\n",
    "data2_grouped = data2_grouped.reset_index()\n",
    "\n",
    "data2_grouped = data2_grouped.rename(columns={'start_time':'event_start_time'})\n",
    "\n",
    "data3 = pd.merge(data2, data2_grouped, how='left', on=['user_id', 'app_code','event'])\n",
    "\n",
    "data3 = data3[data3['start_time'] == data3['event_start_time']]\n",
    "\n",
    "#because in the same event more apps can be opened at once.\n",
    "data3=data3.drop_duplicates(subset=['user_id', 'app_code','event'], keep='last')"
   ]
  },
  {
   "cell_type": "code",
   "execution_count": 26,
   "metadata": {},
   "outputs": [],
   "source": [
    "min_index=data2.iloc[data3.index].index"
   ]
  },
  {
   "cell_type": "markdown",
   "metadata": {},
   "source": [
    "As a sanity check we count the number of combined events, the number of min indices and the number of max indices, as they all three should be the same."
   ]
  },
  {
   "cell_type": "code",
   "execution_count": 27,
   "metadata": {},
   "outputs": [
    {
     "name": "stdout",
     "output_type": "stream",
     "text": [
      "number of combined events:  56474120\n",
      "number of found min indices:  56474120\n",
      "number of found max indices:  56474120\n"
     ]
    }
   ],
   "source": [
    "print(\"number of combined events: \",data2.groupby(['user_id','app_code']).agg({\"event\": \"nunique\"}).event.sum())\n",
    "print(\"number of found min indices: \",len(min_index))\n",
    "print(\"number of found max indices: \",len(max_index))"
   ]
  },
  {
   "cell_type": "markdown",
   "metadata": {},
   "source": [
    "The observations can now be updated."
   ]
  },
  {
   "cell_type": "code",
   "execution_count": 28,
   "metadata": {},
   "outputs": [],
   "source": [
    "data3=data.copy()"
   ]
  },
  {
   "cell_type": "code",
   "execution_count": 29,
   "metadata": {},
   "outputs": [],
   "source": [
    "data3.loc[min_index,\"end_time\"]=data3.loc[max_index].set_index(min_index).end_time"
   ]
  },
  {
   "cell_type": "code",
   "execution_count": 30,
   "metadata": {},
   "outputs": [],
   "source": [
    "data3=data3.drop(set(data2.index)-set(min_index))"
   ]
  },
  {
   "cell_type": "code",
   "execution_count": 31,
   "metadata": {},
   "outputs": [
    {
     "data": {
      "text/html": [
       "<div>\n",
       "<style scoped>\n",
       "    .dataframe tbody tr th:only-of-type {\n",
       "        vertical-align: middle;\n",
       "    }\n",
       "\n",
       "    .dataframe tbody tr th {\n",
       "        vertical-align: top;\n",
       "    }\n",
       "\n",
       "    .dataframe thead th {\n",
       "        text-align: right;\n",
       "    }\n",
       "</style>\n",
       "<table border=\"1\" class=\"dataframe\">\n",
       "  <thead>\n",
       "    <tr style=\"text-align: right;\">\n",
       "      <th></th>\n",
       "      <th>package_name</th>\n",
       "      <th>user_id</th>\n",
       "      <th>start_time</th>\n",
       "      <th>end_time</th>\n",
       "      <th>time_spend</th>\n",
       "      <th>app_code</th>\n",
       "      <th>sleep_time</th>\n",
       "      <th>sleep_time_modified</th>\n",
       "      <th>previous_app_code</th>\n",
       "    </tr>\n",
       "  </thead>\n",
       "  <tbody>\n",
       "    <tr>\n",
       "      <th>0</th>\n",
       "      <td>com.facebook.katana</td>\n",
       "      <td>0</td>\n",
       "      <td>0</td>\n",
       "      <td>441</td>\n",
       "      <td>441</td>\n",
       "      <td>19968</td>\n",
       "      <td>0.0</td>\n",
       "      <td>0.0</td>\n",
       "      <td>NaN</td>\n",
       "    </tr>\n",
       "    <tr>\n",
       "      <th>1</th>\n",
       "      <td>com.android.chrome</td>\n",
       "      <td>0</td>\n",
       "      <td>441</td>\n",
       "      <td>1012</td>\n",
       "      <td>571</td>\n",
       "      <td>7649</td>\n",
       "      <td>0.0</td>\n",
       "      <td>0.0</td>\n",
       "      <td>19968.0</td>\n",
       "    </tr>\n",
       "    <tr>\n",
       "      <th>2</th>\n",
       "      <td>com.google.android.apps.photos</td>\n",
       "      <td>0</td>\n",
       "      <td>1012</td>\n",
       "      <td>1032</td>\n",
       "      <td>20</td>\n",
       "      <td>23916</td>\n",
       "      <td>0.0</td>\n",
       "      <td>0.0</td>\n",
       "      <td>7649.0</td>\n",
       "    </tr>\n",
       "    <tr>\n",
       "      <th>3</th>\n",
       "      <td>com.facebook.katana</td>\n",
       "      <td>0</td>\n",
       "      <td>1042</td>\n",
       "      <td>1502</td>\n",
       "      <td>460</td>\n",
       "      <td>19968</td>\n",
       "      <td>10.0</td>\n",
       "      <td>10.0</td>\n",
       "      <td>23916.0</td>\n",
       "    </tr>\n",
       "    <tr>\n",
       "      <th>4</th>\n",
       "      <td>com.whatsapp</td>\n",
       "      <td>0</td>\n",
       "      <td>1512</td>\n",
       "      <td>1572</td>\n",
       "      <td>60</td>\n",
       "      <td>53003</td>\n",
       "      <td>10.0</td>\n",
       "      <td>10.0</td>\n",
       "      <td>19968.0</td>\n",
       "    </tr>\n",
       "    <tr>\n",
       "      <th>...</th>\n",
       "      <td>...</td>\n",
       "      <td>...</td>\n",
       "      <td>...</td>\n",
       "      <td>...</td>\n",
       "      <td>...</td>\n",
       "      <td>...</td>\n",
       "      <td>...</td>\n",
       "      <td>...</td>\n",
       "      <td>...</td>\n",
       "    </tr>\n",
       "    <tr>\n",
       "      <th>254450417</th>\n",
       "      <td>com.google.android.googlequicksearchbox</td>\n",
       "      <td>9999</td>\n",
       "      <td>29207214</td>\n",
       "      <td>29207244</td>\n",
       "      <td>30</td>\n",
       "      <td>23949</td>\n",
       "      <td>185.0</td>\n",
       "      <td>185.0</td>\n",
       "      <td>19968.0</td>\n",
       "    </tr>\n",
       "    <tr>\n",
       "      <th>254450418</th>\n",
       "      <td>com.android.chrome</td>\n",
       "      <td>9999</td>\n",
       "      <td>29207244</td>\n",
       "      <td>29207284</td>\n",
       "      <td>40</td>\n",
       "      <td>7649</td>\n",
       "      <td>0.0</td>\n",
       "      <td>0.0</td>\n",
       "      <td>23949.0</td>\n",
       "    </tr>\n",
       "    <tr>\n",
       "      <th>254450419</th>\n",
       "      <td>com.google.android.apps.docs</td>\n",
       "      <td>9999</td>\n",
       "      <td>29207284</td>\n",
       "      <td>29207294</td>\n",
       "      <td>10</td>\n",
       "      <td>23875</td>\n",
       "      <td>0.0</td>\n",
       "      <td>0.0</td>\n",
       "      <td>7649.0</td>\n",
       "    </tr>\n",
       "    <tr>\n",
       "      <th>254450420</th>\n",
       "      <td>com.microsoft.office.outlook</td>\n",
       "      <td>9999</td>\n",
       "      <td>29213184</td>\n",
       "      <td>29213213</td>\n",
       "      <td>29</td>\n",
       "      <td>33357</td>\n",
       "      <td>5890.0</td>\n",
       "      <td>5890.0</td>\n",
       "      <td>23875.0</td>\n",
       "    </tr>\n",
       "    <tr>\n",
       "      <th>254450421</th>\n",
       "      <td>com.google.android.googlequicksearchbox</td>\n",
       "      <td>9999</td>\n",
       "      <td>29218277</td>\n",
       "      <td>29218307</td>\n",
       "      <td>30</td>\n",
       "      <td>23949</td>\n",
       "      <td>5064.0</td>\n",
       "      <td>5064.0</td>\n",
       "      <td>33357.0</td>\n",
       "    </tr>\n",
       "  </tbody>\n",
       "</table>\n",
       "<p>219485298 rows × 9 columns</p>\n",
       "</div>"
      ],
      "text/plain": [
       "                                      package_name  user_id  start_time  \\\n",
       "0                              com.facebook.katana        0           0   \n",
       "1                               com.android.chrome        0         441   \n",
       "2                   com.google.android.apps.photos        0        1012   \n",
       "3                              com.facebook.katana        0        1042   \n",
       "4                                     com.whatsapp        0        1512   \n",
       "...                                            ...      ...         ...   \n",
       "254450417  com.google.android.googlequicksearchbox     9999    29207214   \n",
       "254450418                       com.android.chrome     9999    29207244   \n",
       "254450419             com.google.android.apps.docs     9999    29207284   \n",
       "254450420             com.microsoft.office.outlook     9999    29213184   \n",
       "254450421  com.google.android.googlequicksearchbox     9999    29218277   \n",
       "\n",
       "           end_time  time_spend  app_code  sleep_time  sleep_time_modified  \\\n",
       "0               441         441     19968         0.0                  0.0   \n",
       "1              1012         571      7649         0.0                  0.0   \n",
       "2              1032          20     23916         0.0                  0.0   \n",
       "3              1502         460     19968        10.0                 10.0   \n",
       "4              1572          60     53003        10.0                 10.0   \n",
       "...             ...         ...       ...         ...                  ...   \n",
       "254450417  29207244          30     23949       185.0                185.0   \n",
       "254450418  29207284          40      7649         0.0                  0.0   \n",
       "254450419  29207294          10     23875         0.0                  0.0   \n",
       "254450420  29213213          29     33357      5890.0               5890.0   \n",
       "254450421  29218307          30     23949      5064.0               5064.0   \n",
       "\n",
       "           previous_app_code  \n",
       "0                        NaN  \n",
       "1                    19968.0  \n",
       "2                     7649.0  \n",
       "3                    23916.0  \n",
       "4                    19968.0  \n",
       "...                      ...  \n",
       "254450417            19968.0  \n",
       "254450418            23949.0  \n",
       "254450419             7649.0  \n",
       "254450420            23875.0  \n",
       "254450421            33357.0  \n",
       "\n",
       "[219485298 rows x 9 columns]"
      ]
     },
     "execution_count": 31,
     "metadata": {},
     "output_type": "execute_result"
    }
   ],
   "source": [
    "data3"
   ]
  },
  {
   "cell_type": "code",
   "execution_count": 32,
   "metadata": {},
   "outputs": [
    {
     "data": {
      "text/plain": [
       "True"
      ]
     },
     "execution_count": 32,
     "metadata": {},
     "output_type": "execute_result"
    }
   ],
   "source": [
    "len(data.index)-(len(data2.index)-len(min_index))==len(data3.index)"
   ]
  },
  {
   "cell_type": "markdown",
   "metadata": {},
   "source": [
    "Then the time spend is updated, as well as the sleep time is updated and the previous app code"
   ]
  },
  {
   "cell_type": "code",
   "execution_count": 33,
   "metadata": {},
   "outputs": [],
   "source": [
    "data3['time_spend']=data3['end_time']-data3['start_time']"
   ]
  },
  {
   "cell_type": "code",
   "execution_count": 34,
   "metadata": {},
   "outputs": [],
   "source": [
    "user_groups=data3.groupby('user_id')"
   ]
  },
  {
   "cell_type": "code",
   "execution_count": 35,
   "metadata": {},
   "outputs": [],
   "source": [
    "data3['sleep_time']=data3['end_time'].shift(1,fill_value=0.0)\n",
    "data3['sleep_time']=data3.start_time-data3['sleep_time']"
   ]
  },
  {
   "cell_type": "code",
   "execution_count": 36,
   "metadata": {},
   "outputs": [
    {
     "name": "stderr",
     "output_type": "stream",
     "text": [
      "/home/s164574/.conda/envs/myenv/lib/python3.8/site-packages/pandas/core/generic.py:5516: SettingWithCopyWarning: \n",
      "A value is trying to be set on a copy of a slice from a DataFrame.\n",
      "Try using .loc[row_indexer,col_indexer] = value instead\n",
      "\n",
      "See the caveats in the documentation: https://pandas.pydata.org/pandas-docs/stable/user_guide/indexing.html#returning-a-view-versus-a-copy\n",
      "  self[name] = value\n"
     ]
    }
   ],
   "source": [
    "data3[data3.sleep_time<0].sleep_time_modified=0"
   ]
  },
  {
   "cell_type": "code",
   "execution_count": 37,
   "metadata": {},
   "outputs": [],
   "source": [
    "data3['previous_app_code']=data3.app_code.shift(1)"
   ]
  },
  {
   "cell_type": "markdown",
   "metadata": {},
   "source": [
    "now the index is reset"
   ]
  },
  {
   "cell_type": "code",
   "execution_count": 38,
   "metadata": {},
   "outputs": [],
   "source": [
    "data3=data3.reset_index(drop=True)"
   ]
  },
  {
   "cell_type": "code",
   "execution_count": 173,
   "metadata": {},
   "outputs": [],
   "source": [
    "data3.to_csv(\"sorted_coded_data_with_merged_events_10_min.csv\",index=False)"
   ]
  },
  {
   "cell_type": "markdown",
   "metadata": {},
   "source": [
    "We now look at the updated numbers for the same app used right after each."
   ]
  },
  {
   "cell_type": "code",
   "execution_count": 175,
   "metadata": {},
   "outputs": [
    {
     "name": "stdout",
     "output_type": "stream",
     "text": [
      "Number of same number of apps after the same app:  20483819\n",
      "Procent of apps which are the same as the previous:  9.332661087851086\n"
     ]
    }
   ],
   "source": [
    "print(\"Number of same number of apps after the same app: \",data3.app_code[data3.app_code==data3.previous_app_code].count())\n",
    "print(\"Procent of apps which are the same as the previous: \",data3.app_code[data3.app_code==data3.previous_app_code].count()/len(data3.app_code)*100)"
   ]
  },
  {
   "cell_type": "markdown",
   "metadata": {},
   "source": [
    "We see that now less a little over 9% of the the observations represent the same apps."
   ]
  },
  {
   "cell_type": "markdown",
   "metadata": {},
   "source": [
    "An alternative would be to use the 90-quantlie to select where we choose to split, because the 10 min still seem a little random."
   ]
  },
  {
   "cell_type": "markdown",
   "metadata": {},
   "source": [
    "# Use time of apps.\n",
    "Part of the intrest in use times is that if we are intrested in understanding how we use apps, it can cloud the overall image to look at something which might be for instance is opened by mistake, here can the use times for instance be an indication if for instance an app is only opened for a second, then the user will not actualy interact with the app."
   ]
  },
  {
   "cell_type": "code",
   "execution_count": 43,
   "metadata": {},
   "outputs": [],
   "source": [
    "data=pd.read_csv(\"sorted_coded_data_with_merged_events_10_min.csv\")"
   ]
  },
  {
   "cell_type": "code",
   "execution_count": 47,
   "metadata": {},
   "outputs": [
    {
     "data": {
      "image/png": "[encoded data removed]",
      "text/plain": [
       "<Figure size 432x288 with 1 Axes>"
      ]
     },
     "metadata": {
      "needs_background": "light"
     },
     "output_type": "display_data"
    }
   ],
   "source": [
    "plt.hist(data.time_spend)\n",
    "plt.show()"
   ]
  },
  {
   "cell_type": "code",
   "execution_count": 48,
   "metadata": {},
   "outputs": [
    {
     "data": {
      "image/png": "[encoded data removed]",
      "text/plain": [
       "<Figure size 432x288 with 1 Axes>"
      ]
     },
     "metadata": {
      "needs_background": "light"
     },
     "output_type": "display_data"
    }
   ],
   "source": [
    "plt.hist(data.time_spend)\n",
    "plt.yscale('log')\n",
    "plt.show()"
   ]
  },
  {
   "cell_type": "code",
   "execution_count": 49,
   "metadata": {},
   "outputs": [
    {
     "data": {
      "image/png": "[encoded data removed]",
      "text/plain": [
       "<Figure size 432x288 with 1 Axes>"
      ]
     },
     "metadata": {
      "needs_background": "light"
     },
     "output_type": "display_data"
    }
   ],
   "source": [
    "bins=plt.hist(data.time_spend)"
   ]
  },
  {
   "cell_type": "code",
   "execution_count": 50,
   "metadata": {},
   "outputs": [
    {
     "data": {
      "text/plain": [
       "(array([2.19431821e+08, 4.15580000e+04, 7.01400000e+03, 3.50600000e+03,\n",
       "        1.15500000e+03, 1.87000000e+02, 3.90000000e+01, 1.30000000e+01,\n",
       "        2.00000000e+00, 3.00000000e+00]),\n",
       " array([1.00000e+00, 7.36170e+03, 1.47224e+04, 2.20831e+04, 2.94438e+04,\n",
       "        3.68045e+04, 4.41652e+04, 5.15259e+04, 5.88866e+04, 6.62473e+04,\n",
       "        7.36080e+04]),\n",
       " <BarContainer object of 10 artists>)"
      ]
     },
     "execution_count": 50,
     "metadata": {},
     "output_type": "execute_result"
    }
   ],
   "source": [
    "bins"
   ]
  },
  {
   "cell_type": "code",
   "execution_count": 71,
   "metadata": {},
   "outputs": [
    {
     "name": "stdout",
     "output_type": "stream",
     "text": [
      "The 90-quantile of spend time:  8.85  min.\n"
     ]
    }
   ],
   "source": [
    "print(\"The 90-quantile of spend time: \",data.time_spend.quantile(q=0.90)/60,\" min.\")"
   ]
  },
  {
   "cell_type": "code",
   "execution_count": 72,
   "metadata": {},
   "outputs": [
    {
     "name": "stdout",
     "output_type": "stream",
     "text": [
      "Shortest time spend in an app:  1  sec.\n",
      "Longest time spend in an app:  20.446666666666665  hours.\n"
     ]
    }
   ],
   "source": [
    "print(\"Shortest time spend in an app: \",data.time_spend.min(),\" sec.\")\n",
    "print(\"Longest time spend in an app: \",data.time_spend.max()/60/60, \" hours.\")\n"
   ]
  },
  {
   "cell_type": "markdown",
   "metadata": {},
   "source": [
    "We see that the lowest number of use times is 1 second, and that most of the use times are in the interval between 1 sec. to 7361.70 sec (which coresponds to approximately 2 hours and 5 min.). Below we also see that 90 procent of the observations are below 8.85 min, indicating that while the there is a large rande in the times spend in apps, the fast majority is only used for short period of times. This also mean that we need to look closer at the lower range to see the effect of evaluating potential apps used by mistake/no interaction."
   ]
  },
  {
   "cell_type": "code",
   "execution_count": 75,
   "metadata": {},
   "outputs": [
    {
     "name": "stdout",
     "output_type": "stream",
     "text": [
      "procent of observations where a app is used a minute or less:  51.546304026249636\n"
     ]
    }
   ],
   "source": [
    "print(\"procent of observations where a app is used a minute or less: \", data[data.time_spend<=60].app_code.count()/data.shape[0]*100)"
   ]
  },
  {
   "cell_type": "code",
   "execution_count": 77,
   "metadata": {},
   "outputs": [
    {
     "data": {
      "image/png": "[encoded data removed]",
      "text/plain": [
       "<Figure size 432x288 with 1 Axes>"
      ]
     },
     "metadata": {
      "needs_background": "light"
     },
     "output_type": "display_data"
    }
   ],
   "source": [
    "plt.hist(data[data.time_spend<=60].time_spend,bins=[0, 5, 10, 15, 20, 25, 30,35,40,45,50,55,60])\n",
    "plt.show()"
   ]
  },
  {
   "cell_type": "markdown",
   "metadata": {},
   "source": [
    "It is clear than most of the app uses for a minute or less, is used for 10 to 15 seconds. Based on this it does not make a lot of sense to exclude observation within this interval or higher. As it indicates a pretty common use pattern."
   ]
  },
  {
   "cell_type": "code",
   "execution_count": 78,
   "metadata": {},
   "outputs": [
    {
     "name": "stdout",
     "output_type": "stream",
     "text": [
      "procent of observations where a app is used less than 10 seconds:  3.9630563319097574\n"
     ]
    }
   ],
   "source": [
    "print(\"procent of observations where a app is used less than 10 seconds: \", data[data.time_spend<10].app_code.count()/data.shape[0]*100)"
   ]
  },
  {
   "cell_type": "code",
   "execution_count": 79,
   "metadata": {},
   "outputs": [
    {
     "data": {
      "image/png": "[encoded data removed]",
      "text/plain": [
       "<Figure size 432x288 with 1 Axes>"
      ]
     },
     "metadata": {
      "needs_background": "light"
     },
     "output_type": "display_data"
    }
   ],
   "source": [
    "plt.hist(data[data.time_spend<10].time_spend,bins=[0, 1, 2, 3, 4, 5, 6,7,8,9,10])\n",
    "plt.show()"
   ]
  },
  {
   "cell_type": "markdown",
   "metadata": {},
   "source": [
    "maybe the ones that are opend for only one second or one to two secons are worth removing but it is kinda hard to tell."
   ]
  },
  {
   "cell_type": "code",
   "execution_count": 84,
   "metadata": {},
   "outputs": [
    {
     "name": "stdout",
     "output_type": "stream",
     "text": [
      "numer of different apps used for less than 2 seconds : 5910\n",
      "numer of different apps used for less than 3 seconds : 8545\n"
     ]
    }
   ],
   "source": [
    "print(\"number of different apps used for less than 2 seconds :\",data[data.time_spend<2].app_code.nunique())\n",
    "print(\"number of different apps used for less than 3 seconds :\",data[data.time_spend<3].app_code.nunique())"
   ]
  },
  {
   "cell_type": "markdown",
   "metadata": {},
   "source": [
    "Checking if certian apps dominate"
   ]
  },
  {
   "cell_type": "code",
   "execution_count": 91,
   "metadata": {},
   "outputs": [
    {
     "data": {
      "text/plain": [
       "15.264125885734755"
      ]
     },
     "execution_count": 91,
     "metadata": {},
     "output_type": "execute_result"
    }
   ],
   "source": [
    "data[data.time_spend<2].groupby('app_code').user_id.count().max()/data[data.time_spend<2].shape[0]*100"
   ]
  },
  {
   "cell_type": "code",
   "execution_count": 93,
   "metadata": {},
   "outputs": [
    {
     "data": {
      "text/plain": [
       "13.409546707470682"
      ]
     },
     "execution_count": 93,
     "metadata": {},
     "output_type": "execute_result"
    }
   ],
   "source": [
    "data[data.time_spend<3].groupby('app_code').user_id.count().max()/data[data.time_spend<3].shape[0]*100"
   ]
  },
  {
   "cell_type": "code",
   "execution_count": 94,
   "metadata": {},
   "outputs": [
    {
     "data": {
      "text/plain": [
       "69881"
      ]
     },
     "execution_count": 94,
     "metadata": {},
     "output_type": "execute_result"
    }
   ],
   "source": [
    "data[data.time_spend<2].groupby('app_code').user_id.count().max()"
   ]
  },
  {
   "cell_type": "code",
   "execution_count": 95,
   "metadata": {},
   "outputs": [
    {
     "data": {
      "text/plain": [
       "[23949, 53003, 19968, 45264, 19973, 7655, 23906, 7649, 45329, 23947]"
      ]
     },
     "execution_count": 95,
     "metadata": {},
     "output_type": "execute_result"
    }
   ],
   "source": [
    "data[data.time_spend<2].app_code.value_counts()[:10].index.tolist()"
   ]
  },
  {
   "cell_type": "code",
   "execution_count": 98,
   "metadata": {},
   "outputs": [
    {
     "data": {
      "text/html": [
       "<div>\n",
       "<style scoped>\n",
       "    .dataframe tbody tr th:only-of-type {\n",
       "        vertical-align: middle;\n",
       "    }\n",
       "\n",
       "    .dataframe tbody tr th {\n",
       "        vertical-align: top;\n",
       "    }\n",
       "\n",
       "    .dataframe thead th {\n",
       "        text-align: right;\n",
       "    }\n",
       "</style>\n",
       "<table border=\"1\" class=\"dataframe\">\n",
       "  <thead>\n",
       "    <tr style=\"text-align: right;\">\n",
       "      <th></th>\n",
       "      <th>package_name</th>\n",
       "      <th>user_id</th>\n",
       "      <th>start_time</th>\n",
       "      <th>end_time</th>\n",
       "      <th>time_spend</th>\n",
       "      <th>app_code</th>\n",
       "      <th>sleep_time</th>\n",
       "      <th>sleep_time_modified</th>\n",
       "      <th>previous_app_code</th>\n",
       "    </tr>\n",
       "  </thead>\n",
       "  <tbody>\n",
       "    <tr>\n",
       "      <th>58</th>\n",
       "      <td>com.google.android.googlequicksearchbox</td>\n",
       "      <td>0</td>\n",
       "      <td>67574</td>\n",
       "      <td>67584</td>\n",
       "      <td>10</td>\n",
       "      <td>23949</td>\n",
       "      <td>-6340.0</td>\n",
       "      <td>6340.0</td>\n",
       "      <td>7649.0</td>\n",
       "    </tr>\n",
       "    <tr>\n",
       "      <th>963</th>\n",
       "      <td>com.google.android.googlequicksearchbox</td>\n",
       "      <td>0</td>\n",
       "      <td>1611141</td>\n",
       "      <td>1611151</td>\n",
       "      <td>10</td>\n",
       "      <td>23949</td>\n",
       "      <td>978.0</td>\n",
       "      <td>0.0</td>\n",
       "      <td>23967.0</td>\n",
       "    </tr>\n",
       "    <tr>\n",
       "      <th>1075</th>\n",
       "      <td>com.google.android.googlequicksearchbox</td>\n",
       "      <td>0</td>\n",
       "      <td>1839621</td>\n",
       "      <td>1839631</td>\n",
       "      <td>10</td>\n",
       "      <td>23949</td>\n",
       "      <td>40.0</td>\n",
       "      <td>0.0</td>\n",
       "      <td>19968.0</td>\n",
       "    </tr>\n",
       "    <tr>\n",
       "      <th>1644</th>\n",
       "      <td>com.google.android.googlequicksearchbox</td>\n",
       "      <td>0</td>\n",
       "      <td>2794866</td>\n",
       "      <td>2794876</td>\n",
       "      <td>10</td>\n",
       "      <td>23949</td>\n",
       "      <td>-31741.0</td>\n",
       "      <td>31741.0</td>\n",
       "      <td>44582.0</td>\n",
       "    </tr>\n",
       "    <tr>\n",
       "      <th>4739</th>\n",
       "      <td>com.google.android.googlequicksearchbox</td>\n",
       "      <td>0</td>\n",
       "      <td>10173976</td>\n",
       "      <td>10174016</td>\n",
       "      <td>40</td>\n",
       "      <td>23949</td>\n",
       "      <td>-271.0</td>\n",
       "      <td>271.0</td>\n",
       "      <td>45264.0</td>\n",
       "    </tr>\n",
       "    <tr>\n",
       "      <th>...</th>\n",
       "      <td>...</td>\n",
       "      <td>...</td>\n",
       "      <td>...</td>\n",
       "      <td>...</td>\n",
       "      <td>...</td>\n",
       "      <td>...</td>\n",
       "      <td>...</td>\n",
       "      <td>...</td>\n",
       "      <td>...</td>\n",
       "    </tr>\n",
       "    <tr>\n",
       "      <th>219485231</th>\n",
       "      <td>com.google.android.googlequicksearchbox</td>\n",
       "      <td>9999</td>\n",
       "      <td>29129783</td>\n",
       "      <td>29129853</td>\n",
       "      <td>70</td>\n",
       "      <td>23949</td>\n",
       "      <td>0.0</td>\n",
       "      <td>0.0</td>\n",
       "      <td>45264.0</td>\n",
       "    </tr>\n",
       "    <tr>\n",
       "      <th>219485250</th>\n",
       "      <td>com.google.android.googlequicksearchbox</td>\n",
       "      <td>9999</td>\n",
       "      <td>29146727</td>\n",
       "      <td>29146737</td>\n",
       "      <td>10</td>\n",
       "      <td>23949</td>\n",
       "      <td>-1542.0</td>\n",
       "      <td>1542.0</td>\n",
       "      <td>53003.0</td>\n",
       "    </tr>\n",
       "    <tr>\n",
       "      <th>219485253</th>\n",
       "      <td>com.google.android.googlequicksearchbox</td>\n",
       "      <td>9999</td>\n",
       "      <td>29156883</td>\n",
       "      <td>29156933</td>\n",
       "      <td>50</td>\n",
       "      <td>23949</td>\n",
       "      <td>111.0</td>\n",
       "      <td>0.0</td>\n",
       "      <td>44880.0</td>\n",
       "    </tr>\n",
       "    <tr>\n",
       "      <th>219485293</th>\n",
       "      <td>com.google.android.googlequicksearchbox</td>\n",
       "      <td>9999</td>\n",
       "      <td>29207214</td>\n",
       "      <td>29207244</td>\n",
       "      <td>30</td>\n",
       "      <td>23949</td>\n",
       "      <td>-185.0</td>\n",
       "      <td>185.0</td>\n",
       "      <td>19968.0</td>\n",
       "    </tr>\n",
       "    <tr>\n",
       "      <th>219485297</th>\n",
       "      <td>com.google.android.googlequicksearchbox</td>\n",
       "      <td>9999</td>\n",
       "      <td>29218277</td>\n",
       "      <td>29218307</td>\n",
       "      <td>30</td>\n",
       "      <td>23949</td>\n",
       "      <td>-5064.0</td>\n",
       "      <td>5064.0</td>\n",
       "      <td>33357.0</td>\n",
       "    </tr>\n",
       "  </tbody>\n",
       "</table>\n",
       "<p>12320773 rows × 9 columns</p>\n",
       "</div>"
      ],
      "text/plain": [
       "                                      package_name  user_id  start_time  \\\n",
       "58         com.google.android.googlequicksearchbox        0       67574   \n",
       "963        com.google.android.googlequicksearchbox        0     1611141   \n",
       "1075       com.google.android.googlequicksearchbox        0     1839621   \n",
       "1644       com.google.android.googlequicksearchbox        0     2794866   \n",
       "4739       com.google.android.googlequicksearchbox        0    10173976   \n",
       "...                                            ...      ...         ...   \n",
       "219485231  com.google.android.googlequicksearchbox     9999    29129783   \n",
       "219485250  com.google.android.googlequicksearchbox     9999    29146727   \n",
       "219485253  com.google.android.googlequicksearchbox     9999    29156883   \n",
       "219485293  com.google.android.googlequicksearchbox     9999    29207214   \n",
       "219485297  com.google.android.googlequicksearchbox     9999    29218277   \n",
       "\n",
       "           end_time  time_spend  app_code  sleep_time  sleep_time_modified  \\\n",
       "58            67584          10     23949     -6340.0               6340.0   \n",
       "963         1611151          10     23949       978.0                  0.0   \n",
       "1075        1839631          10     23949        40.0                  0.0   \n",
       "1644        2794876          10     23949    -31741.0              31741.0   \n",
       "4739       10174016          40     23949      -271.0                271.0   \n",
       "...             ...         ...       ...         ...                  ...   \n",
       "219485231  29129853          70     23949         0.0                  0.0   \n",
       "219485250  29146737          10     23949     -1542.0               1542.0   \n",
       "219485253  29156933          50     23949       111.0                  0.0   \n",
       "219485293  29207244          30     23949      -185.0                185.0   \n",
       "219485297  29218307          30     23949     -5064.0               5064.0   \n",
       "\n",
       "           previous_app_code  \n",
       "58                    7649.0  \n",
       "963                  23967.0  \n",
       "1075                 19968.0  \n",
       "1644                 44582.0  \n",
       "4739                 45264.0  \n",
       "...                      ...  \n",
       "219485231            45264.0  \n",
       "219485250            53003.0  \n",
       "219485253            44880.0  \n",
       "219485293            19968.0  \n",
       "219485297            33357.0  \n",
       "\n",
       "[12320773 rows x 9 columns]"
      ]
     },
     "execution_count": 98,
     "metadata": {},
     "output_type": "execute_result"
    }
   ],
   "source": [
    "data[data.app_code==23949]"
   ]
  },
  {
   "cell_type": "code",
   "execution_count": 109,
   "metadata": {},
   "outputs": [
    {
     "data": {
      "text/plain": [
       "com.google.android.googlequicksearchbox    15.264126\n",
       "com.whatsapp                                8.186985\n",
       "com.facebook.katana                         6.310451\n",
       "com.sonyericsson.conversations              5.560143\n",
       "com.facebook.orca                           4.811582\n",
       "com.android.phone                           3.990066\n",
       "com.google.android.apps.maps                3.750448\n",
       "com.android.chrome                          3.641451\n",
       "com.sonymobile.email                        3.071566\n",
       "com.google.android.gm                       3.055184\n",
       "Name: package_name, dtype: float64"
      ]
     },
     "execution_count": 109,
     "metadata": {},
     "output_type": "execute_result"
    }
   ],
   "source": [
    "data[data.time_spend<2].package_name.value_counts().sort_values(ascending=False)[:10]/data[data.time_spend<2].shape[0]*100"
   ]
  },
  {
   "cell_type": "code",
   "execution_count": 112,
   "metadata": {},
   "outputs": [
    {
     "data": {
      "text/plain": [
       "com.whatsapp                                9.648410\n",
       "com.google.android.googlequicksearchbox     9.252028\n",
       "com.facebook.katana                         7.470179\n",
       "com.facebook.orca                           7.001800\n",
       "com.sonyericsson.conversations              6.608131\n",
       "com.android.chrome                          4.894364\n",
       "com.google.android.gm                       4.005481\n",
       "com.sonymobile.email                        3.959347\n",
       "com.sonyericsson.android.socialphonebook    3.369362\n",
       "com.instagram.android                       3.017417\n",
       "Name: package_name, dtype: float64"
      ]
     },
     "execution_count": 112,
     "metadata": {},
     "output_type": "execute_result"
    }
   ],
   "source": [
    "data[data.time_spend<=10].package_name.value_counts().sort_values(ascending=False)[:10]/data[data.time_spend<=10].shape[0]*100"
   ]
  },
  {
   "cell_type": "markdown",
   "metadata": {},
   "source": [
    "# Updated sleep distribution\n",
    "In this section we take an updated look at the sleep distribution after the apps were merged."
   ]
  },
  {
   "cell_type": "code",
   "execution_count": 44,
   "metadata": {},
   "outputs": [
    {
     "name": "stdout",
     "output_type": "stream",
     "text": [
      "Procent of apps which are opened before the previous one is closed : 8.251323512338399\n"
     ]
    }
   ],
   "source": [
    "print(\"Procent of apps which are opened before the previous one is closed :\",data[data.sleep_time<0].shape[0]/data.shape[0]*100)"
   ]
  },
  {
   "cell_type": "code",
   "execution_count": 11,
   "metadata": {},
   "outputs": [
    {
     "data": {
      "image/png": "[encoded data removed]",
      "text/plain": [
       "<Figure size 432x288 with 1 Axes>"
      ]
     },
     "metadata": {
      "needs_background": "light"
     },
     "output_type": "display_data"
    }
   ],
   "source": [
    "plt.hist(data.sleep_time,bins=20)\n",
    "plt.show()"
   ]
  },
  {
   "cell_type": "code",
   "execution_count": 12,
   "metadata": {},
   "outputs": [
    {
     "data": {
      "image/png": "[encoded data removed]",
      "text/plain": [
       "<Figure size 432x288 with 1 Axes>"
      ]
     },
     "metadata": {
      "needs_background": "light"
     },
     "output_type": "display_data"
    }
   ],
   "source": [
    "plt.hist(data.sleep_time,bins=20)\n",
    "plt.yscale('log')\n",
    "plt.show()"
   ]
  },
  {
   "cell_type": "markdown",
   "metadata": {},
   "source": [
    "We see that most of the data is closer to a positive sleep time."
   ]
  },
  {
   "cell_type": "code",
   "execution_count": 18,
   "metadata": {},
   "outputs": [
    {
     "data": {
      "image/png": "[encoded data removed]",
      "text/plain": [
       "<Figure size 432x288 with 1 Axes>"
      ]
     },
     "metadata": {
      "needs_background": "light"
     },
     "output_type": "display_data"
    }
   ],
   "source": [
    "plt.hist(data.sleep_time_modified)\n",
    "plt.show()"
   ]
  },
  {
   "cell_type": "code",
   "execution_count": 14,
   "metadata": {},
   "outputs": [
    {
     "data": {
      "image/png": "[encoded data removed]",
      "text/plain": [
       "<Figure size 432x288 with 1 Axes>"
      ]
     },
     "metadata": {
      "needs_background": "light"
     },
     "output_type": "display_data"
    }
   ],
   "source": [
    "plt.hist(data.sleep_time_modified,bins)\n",
    "plt.yscale('log')\n",
    "plt.show()"
   ]
  },
  {
   "cell_type": "code",
   "execution_count": 16,
   "metadata": {
    "scrolled": true
   },
   "outputs": [
    {
     "name": "stdout",
     "output_type": "stream",
     "text": [
      "43.833333333333336\n"
     ]
    },
    {
     "data": {
      "image/png": "[encoded data removed]",
      "text/plain": [
       "<Figure size 432x288 with 1 Axes>"
      ]
     },
     "metadata": {
      "needs_background": "light"
     },
     "output_type": "display_data"
    }
   ],
   "source": [
    "print(data.sleep_time_modified.quantile(0.9)/60)\n",
    "plt.hist(data[data.sleep_time_modified<=data.sleep_time_modified.quantile(0.9)].sleep_time_modified)\n",
    "plt.show()"
   ]
  },
  {
   "cell_type": "code",
   "execution_count": 21,
   "metadata": {},
   "outputs": [
    {
     "name": "stdout",
     "output_type": "stream",
     "text": [
      "43.833333333333336\n"
     ]
    },
    {
     "data": {
      "image/png": "[encoded data removed]",
      "text/plain": [
       "<Figure size 432x288 with 1 Axes>"
      ]
     },
     "metadata": {
      "needs_background": "light"
     },
     "output_type": "display_data"
    }
   ],
   "source": [
    "print(data.sleep_time.quantile(0.9)/60)\n",
    "plt.hist(data[data.sleep_time<=data.sleep_time.quantile(0.9)].sleep_time)\n",
    "plt.yscale('log')\n",
    "plt.show()"
   ]
  },
  {
   "cell_type": "markdown",
   "metadata": {},
   "source": [
    "Again we notice that while the majority of the data is in the higher end a noticable amount is negative, indicating overlap in use time. With the goal of figuring out where to thresshold the sleep times to devide the data into sessions, we are not intrested in sleep times, as we already know that these indicate that two apps will belong to the same session."
   ]
  },
  {
   "cell_type": "code",
   "execution_count": 22,
   "metadata": {},
   "outputs": [
    {
     "data": {
      "text/plain": [
       "(array([2.0137177e+08, 1.9820000e+03, 6.2100000e+02, 2.2500000e+02,\n",
       "        1.1300000e+02, 6.5000000e+01, 5.0000000e+01, 2.2000000e+01,\n",
       "        5.0000000e+00, 3.0000000e+00]),\n",
       " array([      0. ,  772826.2, 1545652.4, 2318478.6, 3091304.8, 3864131. ,\n",
       "        4636957.2, 5409783.4, 6182609.6, 6955435.8, 7728262. ]),\n",
       " <BarContainer object of 10 artists>)"
      ]
     },
     "execution_count": 22,
     "metadata": {},
     "output_type": "execute_result"
    },
    {
     "data": {
      "image/png": "[encoded data removed]",
      "text/plain": [
       "<Figure size 432x288 with 1 Axes>"
      ]
     },
     "metadata": {
      "needs_background": "light"
     },
     "output_type": "display_data"
    }
   ],
   "source": [
    "plt.hist(data[data.sleep_time>=0].sleep_time)"
   ]
  },
  {
   "cell_type": "code",
   "execution_count": 202,
   "metadata": {},
   "outputs": [
    {
     "data": {
      "text/plain": [
       "8.944747685185185"
      ]
     },
     "execution_count": 202,
     "metadata": {},
     "output_type": "execute_result"
    }
   ],
   "source": [
    "772826.2/60/60/24"
   ]
  },
  {
   "cell_type": "code",
   "execution_count": 23,
   "metadata": {},
   "outputs": [
    {
     "data": {
      "image/png": "[encoded data removed]",
      "text/plain": [
       "<Figure size 432x288 with 1 Axes>"
      ]
     },
     "metadata": {
      "needs_background": "light"
     },
     "output_type": "display_data"
    }
   ],
   "source": [
    "bins=plt.hist(data[(data.sleep_time>=0)&(data.sleep_time<=9*24*60*60)].sleep_time)\n",
    "plt.yscale('log')\n",
    "plt.show()"
   ]
  },
  {
   "cell_type": "code",
   "execution_count": 25,
   "metadata": {},
   "outputs": [
    {
     "data": {
      "image/png": "[encoded data removed]",
      "text/plain": [
       "<Figure size 432x288 with 1 Axes>"
      ]
     },
     "metadata": {
      "needs_background": "light"
     },
     "output_type": "display_data"
    }
   ],
   "source": [
    "bins=plt.hist(data[(data.sleep_time<=9*24*60*60)].sleep_time_modified)\n",
    "plt.yscale('log')\n",
    "plt.show()"
   ]
  },
  {
   "cell_type": "code",
   "execution_count": 26,
   "metadata": {},
   "outputs": [
    {
     "data": {
      "text/plain": [
       "(array([2.19386426e+08, 7.50030000e+04, 1.01240000e+04, 3.98500000e+03,\n",
       "        2.33900000e+03, 1.43900000e+03, 1.10400000e+03, 8.02000000e+02,\n",
       "        5.69000000e+02, 4.55000000e+02]),\n",
       " array([     0. ,  77750.6, 155501.2, 233251.8, 311002.4, 388753. ,\n",
       "        466503.6, 544254.2, 622004.8, 699755.4, 777506. ]),\n",
       " <BarContainer object of 10 artists>)"
      ]
     },
     "execution_count": 26,
     "metadata": {},
     "output_type": "execute_result"
    }
   ],
   "source": [
    "bins"
   ]
  },
  {
   "cell_type": "code",
   "execution_count": 208,
   "metadata": {},
   "outputs": [
    {
     "data": {
      "text/plain": [
       "21.59738888888889"
      ]
     },
     "execution_count": 208,
     "metadata": {},
     "output_type": "execute_result"
    }
   ],
   "source": [
    "77750.6/60/60"
   ]
  },
  {
   "cell_type": "code",
   "execution_count": 209,
   "metadata": {},
   "outputs": [
    {
     "data": {
      "image/png": "[encoded data removed]",
      "text/plain": [
       "<Figure size 432x288 with 1 Axes>"
      ]
     },
     "metadata": {
      "needs_background": "light"
     },
     "output_type": "display_data"
    }
   ],
   "source": [
    "bins=plt.hist(data[(data.sleep_time>=0)&(data.sleep_time<=24*60*60)].sleep_time)\n",
    "plt.show()"
   ]
  },
  {
   "cell_type": "code",
   "execution_count": 29,
   "metadata": {},
   "outputs": [
    {
     "data": {
      "image/png": "[encoded data removed]",
      "text/plain": [
       "<Figure size 432x288 with 1 Axes>"
      ]
     },
     "metadata": {
      "needs_background": "light"
     },
     "output_type": "display_data"
    }
   ],
   "source": [
    "bins=plt.hist(data[(data.sleep_time<=24*60*60)].sleep_time_modified)\n",
    "plt.yscale('log')\n",
    "plt.show()"
   ]
  },
  {
   "cell_type": "code",
   "execution_count": 30,
   "metadata": {},
   "outputs": [
    {
     "data": {
      "text/plain": [
       "(array([2.12095072e+08, 2.99983600e+06, 1.32621600e+06, 1.73497600e+06,\n",
       "        7.24568000e+05, 2.66250000e+05, 1.26771000e+05, 6.90320000e+04,\n",
       "        4.37350000e+04, 3.11760000e+04]),\n",
       " array([    0.,  8640., 17280., 25920., 34560., 43200., 51840., 60480.,\n",
       "        69120., 77760., 86400.]),\n",
       " <BarContainer object of 10 artists>)"
      ]
     },
     "execution_count": 30,
     "metadata": {},
     "output_type": "execute_result"
    }
   ],
   "source": [
    "bins"
   ]
  },
  {
   "cell_type": "code",
   "execution_count": 220,
   "metadata": {
    "scrolled": true
   },
   "outputs": [
    {
     "data": {
      "text/plain": [
       "2.4"
      ]
     },
     "execution_count": 220,
     "metadata": {},
     "output_type": "execute_result"
    }
   ],
   "source": [
    "8640/60/60"
   ]
  },
  {
   "cell_type": "code",
   "execution_count": 17,
   "metadata": {},
   "outputs": [
    {
     "data": {
      "image/png": "[encoded data removed]",
      "text/plain": [
       "<Figure size 432x288 with 1 Axes>"
      ]
     },
     "metadata": {
      "needs_background": "light"
     },
     "output_type": "display_data"
    }
   ],
   "source": [
    "bins=plt.hist(data[(data.sleep_time>0)&(data.sleep_time<=3*60*60)].sleep_time,bins=50)\n",
    "plt.yscale('log')\n",
    "plt.show()"
   ]
  },
  {
   "cell_type": "code",
   "execution_count": 20,
   "metadata": {},
   "outputs": [
    {
     "data": {
      "text/plain": [
       "394.0"
      ]
     },
     "execution_count": 20,
     "metadata": {},
     "output_type": "execute_result"
    }
   ],
   "source": [
    "data[(data.sleep_time>0)&(data.sleep_time<=6*60*60)].sleep_time.median()"
   ]
  },
  {
   "cell_type": "code",
   "execution_count": 19,
   "metadata": {},
   "outputs": [
    {
     "data": {
      "text/plain": [
       "6.083333333333333"
      ]
     },
     "execution_count": 19,
     "metadata": {},
     "output_type": "execute_result"
    }
   ],
   "source": [
    "365.0/60"
   ]
  },
  {
   "cell_type": "code",
   "execution_count": 38,
   "metadata": {
    "scrolled": true
   },
   "outputs": [
    {
     "data": {
      "image/png": "[encoded data removed]",
      "text/plain": [
       "<Figure size 432x288 with 1 Axes>"
      ]
     },
     "metadata": {
      "needs_background": "light"
     },
     "output_type": "display_data"
    }
   ],
   "source": [
    "bins=plt.hist(data[(data.sleep_time_modified<=3*60*60)].sleep_time_modified)\n",
    "plt.show()"
   ]
  },
  {
   "cell_type": "code",
   "execution_count": 39,
   "metadata": {},
   "outputs": [
    {
     "data": {
      "text/plain": [
       "(array([1.77421155e+08, 1.62779750e+07, 7.45487800e+06, 4.23407800e+06,\n",
       "        2.65529500e+06, 1.80275700e+06, 1.29785000e+06, 9.51084000e+05,\n",
       "        7.16205000e+05, 5.53623000e+05]),\n",
       " array([    0.,  1080.,  2160.,  3240.,  4320.,  5400.,  6480.,  7560.,\n",
       "         8640.,  9720., 10800.]),\n",
       " <BarContainer object of 10 artists>)"
      ]
     },
     "execution_count": 39,
     "metadata": {},
     "output_type": "execute_result"
    }
   ],
   "source": [
    "bins"
   ]
  },
  {
   "cell_type": "code",
   "execution_count": 225,
   "metadata": {},
   "outputs": [
    {
     "data": {
      "text/plain": [
       "54.0"
      ]
     },
     "execution_count": 225,
     "metadata": {},
     "output_type": "execute_result"
    }
   ],
   "source": [
    "3240/60"
   ]
  },
  {
   "cell_type": "code",
   "execution_count": 43,
   "metadata": {},
   "outputs": [
    {
     "data": {
      "image/png": "[encoded data removed]",
      "text/plain": [
       "<Figure size 432x288 with 1 Axes>"
      ]
     },
     "metadata": {
      "needs_background": "light"
     },
     "output_type": "display_data"
    }
   ],
   "source": [
    "bins=plt.hist(data[(data.sleep_time>=0)&(data.sleep_time<=60*60)].sleep_time)\n",
    "plt.show()"
   ]
  },
  {
   "cell_type": "code",
   "execution_count": 41,
   "metadata": {},
   "outputs": [
    {
     "data": {
      "image/png": "[encoded data removed]",
      "text/plain": [
       "<Figure size 432x288 with 1 Axes>"
      ]
     },
     "metadata": {
      "needs_background": "light"
     },
     "output_type": "display_data"
    }
   ],
   "source": [
    "bins=plt.hist(data[(data.sleep_time<=60*60)].sleep_time_modified)\n",
    "plt.show()"
   ]
  },
  {
   "cell_type": "code",
   "execution_count": 42,
   "metadata": {},
   "outputs": [
    {
     "data": {
      "text/plain": [
       "(array([1.71377247e+08, 1.74460110e+07, 8.37818700e+06, 4.92649300e+06,\n",
       "        6.89646000e+05, 3.00000000e+00, 2.00000000e+00, 0.00000000e+00,\n",
       "        0.00000000e+00, 2.00000000e+00]),\n",
       " array([   0. ,  860.9, 1721.8, 2582.7, 3443.6, 4304.5, 5165.4, 6026.3,\n",
       "        6887.2, 7748.1, 8609. ]),\n",
       " <BarContainer object of 10 artists>)"
      ]
     },
     "execution_count": 42,
     "metadata": {},
     "output_type": "execute_result"
    }
   ],
   "source": [
    "bins"
   ]
  },
  {
   "cell_type": "code",
   "execution_count": 44,
   "metadata": {},
   "outputs": [
    {
     "data": {
      "text/plain": [
       "(array([1.35080659e+08, 1.32202700e+07, 1.10098710e+07, 7.22456100e+06,\n",
       "        5.17015600e+06, 3.88320800e+06, 3.03832100e+06, 2.42951600e+06,\n",
       "        1.98702600e+06, 1.66356100e+06]),\n",
       " array([   0.,  360.,  720., 1080., 1440., 1800., 2160., 2520., 2880.,\n",
       "        3240., 3600.]),\n",
       " <BarContainer object of 10 artists>)"
      ]
     },
     "execution_count": 44,
     "metadata": {},
     "output_type": "execute_result"
    }
   ],
   "source": [
    "bins"
   ]
  },
  {
   "cell_type": "code",
   "execution_count": 47,
   "metadata": {},
   "outputs": [
    {
     "data": {
      "text/plain": [
       "28.696666666666665"
      ]
     },
     "execution_count": 47,
     "metadata": {},
     "output_type": "execute_result"
    }
   ],
   "source": [
    "1721.8/60"
   ]
  },
  {
   "cell_type": "code",
   "execution_count": 50,
   "metadata": {},
   "outputs": [
    {
     "data": {
      "image/png": "[encoded data removed]",
      "text/plain": [
       "<Figure size 432x288 with 1 Axes>"
      ]
     },
     "metadata": {
      "needs_background": "light"
     },
     "output_type": "display_data"
    }
   ],
   "source": [
    "bins=plt.hist(data[(data.sleep_time>=0)&(data.sleep_time<=60*30)].sleep_time)\n",
    "plt.show()"
   ]
  },
  {
   "cell_type": "code",
   "execution_count": 51,
   "metadata": {},
   "outputs": [
    {
     "data": {
      "image/png": "[encoded data removed]",
      "text/plain": [
       "<Figure size 432x288 with 1 Axes>"
      ]
     },
     "metadata": {
      "needs_background": "light"
     },
     "output_type": "display_data"
    }
   ],
   "source": [
    "bins=plt.hist(data[(data.sleep_time<=60*30)].sleep_time_modified)\n",
    "plt.show()"
   ]
  },
  {
   "cell_type": "code",
   "execution_count": 52,
   "metadata": {},
   "outputs": [
    {
     "data": {
      "text/plain": [
       "(array([1.71377246e+08, 1.74460110e+07, 1.00469400e+06, 1.20000000e+01,\n",
       "        3.00000000e+00, 2.00000000e+00, 2.00000000e+00, 0.00000000e+00,\n",
       "        0.00000000e+00, 2.00000000e+00]),\n",
       " array([   0. ,  860.9, 1721.8, 2582.7, 3443.6, 4304.5, 5165.4, 6026.3,\n",
       "        6887.2, 7748.1, 8609. ]),\n",
       " <BarContainer object of 10 artists>)"
      ]
     },
     "execution_count": 52,
     "metadata": {},
     "output_type": "execute_result"
    }
   ],
   "source": [
    "bins"
   ]
  },
  {
   "cell_type": "code",
   "execution_count": 53,
   "metadata": {},
   "outputs": [
    {
     "data": {
      "text/plain": [
       "43.044999999999995"
      ]
     },
     "execution_count": 53,
     "metadata": {},
     "output_type": "execute_result"
    }
   ],
   "source": [
    "2582.7/60"
   ]
  },
  {
   "cell_type": "code",
   "execution_count": 56,
   "metadata": {},
   "outputs": [
    {
     "data": {
      "image/png": "[encoded data removed]",
      "text/plain": [
       "<Figure size 432x288 with 1 Axes>"
      ]
     },
     "metadata": {
      "needs_background": "light"
     },
     "output_type": "display_data"
    }
   ],
   "source": [
    "bins=plt.hist(data[(data.sleep_time<=60*45)].sleep_time_modified,bins=[0,60*5,60*10,60*15,60*20,60*25,60*30,60*35,60*40,60*45])\n",
    "plt.show()"
   ]
  },
  {
   "cell_type": "code",
   "execution_count": 57,
   "metadata": {},
   "outputs": [
    {
     "data": {
      "text/plain": [
       "(array([1.50388729e+08, 1.08267590e+07, 1.13687780e+07, 7.54003400e+06,\n",
       "        5.49813700e+06, 4.19347000e+06, 3.30485100e+06, 2.68090100e+06,\n",
       "        2.22228400e+06]),\n",
       " array([   0,  300,  600,  900, 1200, 1500, 1800, 2100, 2400, 2700]),\n",
       " <BarContainer object of 9 artists>)"
      ]
     },
     "execution_count": 57,
     "metadata": {},
     "output_type": "execute_result"
    }
   ],
   "source": [
    "bins"
   ]
  },
  {
   "cell_type": "code",
   "execution_count": 59,
   "metadata": {},
   "outputs": [
    {
     "data": {
      "image/png": "[encoded data removed]",
      "text/plain": [
       "<Figure size 432x288 with 1 Axes>"
      ]
     },
     "metadata": {
      "needs_background": "light"
     },
     "output_type": "display_data"
    }
   ],
   "source": [
    "bins=plt.hist(data[(data.sleep_time<=60*15)].sleep_time_modified,bins=[0,60,60*2,60*3,60*4,60*5,60*6,60*7,60*8,60*9,60*10,60*11,60*12,60*13,60*14,60*15])\n",
    "plt.show()"
   ]
  },
  {
   "cell_type": "code",
   "execution_count": 60,
   "metadata": {},
   "outputs": [
    {
     "data": {
      "image/png": "[encoded data removed]",
      "text/plain": [
       "<Figure size 432x288 with 1 Axes>"
      ]
     },
     "metadata": {
      "needs_background": "light"
     },
     "output_type": "display_data"
    }
   ],
   "source": [
    "bins=plt.hist(data[(data.sleep_time<=60)].sleep_time_modified,bins=[0,10,20,30,40,50,60])\n",
    "plt.show()"
   ]
  },
  {
   "cell_type": "code",
   "execution_count": 64,
   "metadata": {},
   "outputs": [
    {
     "data": {
      "image/png": "[encoded data removed]",
      "text/plain": [
       "<Figure size 432x288 with 1 Axes>"
      ]
     },
     "metadata": {
      "needs_background": "light"
     },
     "output_type": "display_data"
    }
   ],
   "source": [
    "bins=plt.hist(data[(data.sleep_time<=60)&(data.sleep_time>=0)].sleep_time,bins=[0,10,20,30,40,50,60])\n",
    "plt.show()"
   ]
  },
  {
   "cell_type": "code",
   "execution_count": 61,
   "metadata": {},
   "outputs": [
    {
     "data": {
      "image/png": "[encoded data removed]",
      "text/plain": [
       "<Figure size 432x288 with 1 Axes>"
      ]
     },
     "metadata": {
      "needs_background": "light"
     },
     "output_type": "display_data"
    }
   ],
   "source": [
    "bins=plt.hist(data[(data.sleep_time<=30)].sleep_time_modified,bins=[0,5,10,15,20,25,30])\n",
    "plt.show()"
   ]
  },
  {
   "cell_type": "markdown",
   "metadata": {},
   "source": [
    "# Number of sequences vs. sleeptime thressholds.\n",
    "From the above distributions we see that most sleep times are very low. which mean that we can start the experiement with a relativly low threshold. Start with 1 min, and the avg. sequence length/ number of sequences which are of length 1..."
   ]
  },
  {
   "cell_type": "code",
   "execution_count": 45,
   "metadata": {},
   "outputs": [],
   "source": [
    "data=pd.read_csv(\"sorted_coded_data_with_merged_events_10_min.csv\")"
   ]
  },
  {
   "cell_type": "code",
   "execution_count": 65,
   "metadata": {},
   "outputs": [
    {
     "name": "stdout",
     "output_type": "stream",
     "text": [
      "43.833333333333336\n"
     ]
    }
   ],
   "source": [
    "print(data.sleep_time.quantile(0.9)/60)"
   ]
  },
  {
   "cell_type": "code",
   "execution_count": 6,
   "metadata": {},
   "outputs": [],
   "source": [
    "def count_sequenses(tresshold,df):\n",
    "    df_temp=df[['user_id','sleep_time']].copy()\n",
    "    df_temp['sessions']= df_temp.groupby(['user_id']).sleep_time.apply(lambda s: s>tresshold)\n",
    "    df_temp['sessions'] = df_temp.groupby(['user_id']).sessions.cumsum().astype('int')\n",
    "    n_sessions=df_temp.groupby(['user_id']).agg({\"sessions\": \"nunique\"}).sessions.sum()\n",
    "    \n",
    "    return n_sessions"
   ]
  },
  {
   "cell_type": "code",
   "execution_count": 5,
   "metadata": {},
   "outputs": [],
   "source": [
    "threshold_development=pd.DataFrame({'threshold':[0,1,2,3,4,5,6,7,8,9,10,15,20,25,30,35,40,45]})"
   ]
  },
  {
   "cell_type": "code",
   "execution_count": 6,
   "metadata": {},
   "outputs": [],
   "source": [
    "threshold_development['n_sequences']=threshold_development.threshold.apply(lambda l:count_sequenses(l,data))"
   ]
  },
  {
   "cell_type": "code",
   "execution_count": 21,
   "metadata": {},
   "outputs": [
    {
     "data": {
      "image/png": "[encoded data removed]",
      "text/plain": [
       "<Figure size 432x288 with 1 Axes>"
      ]
     },
     "metadata": {
      "needs_background": "light"
     },
     "output_type": "display_data"
    }
   ],
   "source": [
    "plt.plot(threshold_development['threshold'],threshold_development['n_sequences'],'.-')\n",
    "plt.show()"
   ]
  },
  {
   "cell_type": "markdown",
   "metadata": {},
   "source": [
    "The limit of the plot to 45 min was chossen based on 90-quantile which was just under 44 min. We now take a look at the number of sequences of length one for the different threshold values."
   ]
  },
  {
   "cell_type": "code",
   "execution_count": 5,
   "metadata": {},
   "outputs": [],
   "source": [
    "def count_sequenses_of_length_1(tresshold,df):\n",
    "    df_temp=df[['user_id','sleep_time']].copy()\n",
    "    df_temp['sessions']= df_temp.groupby(['user_id']).sleep_time.apply(lambda s: s>tresshold)\n",
    "    df_temp['sessions'] = df_temp.groupby(['user_id']).sessions.cumsum().astype('int')\n",
    "    n_1_sequences=(df_temp.groupby(['user_id','sessions']).agg({\"sleep_time\": \"count\"}).sleep_time==1).sum()\n",
    "    \n",
    "    return n_1_sequences"
   ]
  },
  {
   "cell_type": "code",
   "execution_count": 10,
   "metadata": {},
   "outputs": [],
   "source": [
    "threshold_development['number of sequences with only one app']=threshold_development['threshold'].apply(lambda l:count_sequenses_of_length_1(l,data))"
   ]
  },
  {
   "cell_type": "code",
   "execution_count": 22,
   "metadata": {},
   "outputs": [
    {
     "data": {
      "image/png": "[encoded data removed]",
      "text/plain": [
       "<Figure size 432x288 with 1 Axes>"
      ]
     },
     "metadata": {
      "needs_background": "light"
     },
     "output_type": "display_data"
    }
   ],
   "source": [
    "plt.plot(threshold_development['threshold'],threshold_development['number of sequences with only one app'],'.-')\n",
    "plt.show()"
   ]
  },
  {
   "cell_type": "code",
   "execution_count": 23,
   "metadata": {},
   "outputs": [
    {
     "data": {
      "image/png": "[encoded data removed]",
      "text/plain": [
       "<Figure size 432x288 with 1 Axes>"
      ]
     },
     "metadata": {
      "needs_background": "light"
     },
     "output_type": "display_data"
    }
   ],
   "source": [
    "plt.plot(threshold_development['threshold'],threshold_development['number of sequences with only one app']/threshold_development['n_sequences'],'.-')\n",
    "plt.show()"
   ]
  },
  {
   "cell_type": "code",
   "execution_count": 17,
   "metadata": {},
   "outputs": [],
   "source": [
    "df=pd.DataFrame({'threshold':[60*50,60*55,60*60]})\n",
    "df['n_sequences']=df.threshold.apply(lambda l: count_sequenses(l,data))\n",
    "df['number of sequences with only one app']=df.threshold.apply(lambda l: count_sequenses_of_length_1(l,data))"
   ]
  },
  {
   "cell_type": "code",
   "execution_count": 18,
   "metadata": {},
   "outputs": [],
   "source": [
    "threshold_development=threshold_development.append(df,ignore_index=True)"
   ]
  },
  {
   "cell_type": "markdown",
   "metadata": {},
   "source": [
    "We now take a look at the average sequence length for the different thressholds, as to long sequences becomes a challenge when runniing the pattern mining algorithms."
   ]
  },
  {
   "cell_type": "code",
   "execution_count": 25,
   "metadata": {},
   "outputs": [],
   "source": [
    "def avg_len_of_sequence(tresshold,df):\n",
    "    df_temp=df[['user_id','sleep_time']].copy()\n",
    "    df_temp['sessions']= df_temp.groupby(['user_id']).sleep_time.apply(lambda s: s>tresshold)\n",
    "    df_temp['sessions'] = df_temp.groupby(['user_id']).sessions.cumsum().astype('int')\n",
    "    mean_sequence_len=(df_temp.groupby(['user_id','sessions']).agg({\"sleep_time\": \"count\"}).sleep_time).mean()\n",
    "    \n",
    "    return mean_sequence_len"
   ]
  },
  {
   "cell_type": "code",
   "execution_count": 26,
   "metadata": {
    "scrolled": false
   },
   "outputs": [],
   "source": [
    "threshold_development['avg_len_sequence']=threshold_development.threshold.apply(lambda l: avg_len_of_sequence(l,data))"
   ]
  },
  {
   "cell_type": "code",
   "execution_count": 29,
   "metadata": {},
   "outputs": [
    {
     "data": {
      "image/png": "[encoded data removed]",
      "text/plain": [
       "<Figure size 432x288 with 1 Axes>"
      ]
     },
     "metadata": {
      "needs_background": "light"
     },
     "output_type": "display_data"
    }
   ],
   "source": [
    "plt.plot(threshold_development['threshold'],threshold_development['avg_len_sequence'],'.-')\n",
    "plt.show()"
   ]
  },
  {
   "cell_type": "code",
   "execution_count": 21,
   "metadata": {},
   "outputs": [
    {
     "data": {
      "text/plain": [
       "600"
      ]
     },
     "execution_count": 21,
     "metadata": {},
     "output_type": "execute_result"
    }
   ],
   "source": [
    "60*10"
   ]
  },
  {
   "cell_type": "code",
   "execution_count": 35,
   "metadata": {},
   "outputs": [],
   "source": [
    "def number_of_apps_opened_after_same (tresshold,df):\n",
    "    df_temp=df[['user_id','sleep_time','app_code']].copy()\n",
    "    df_temp['sessions']= df_temp.groupby(['user_id']).sleep_time.apply(lambda s: s>tresshold)\n",
    "    df_temp['sessions'] = df_temp.groupby(['user_id']).sessions.cumsum().astype('int')\n",
    "    df_temp['previous_app_code']=df_temp.groupby(['user_id','sessions']).app_code.shift(1) \n",
    "    n_app=df_temp[df_temp['previous_app_code']==df_temp['app_code']].shape[0]\n",
    "\n",
    "    return n_app"
   ]
  },
  {
   "cell_type": "code",
   "execution_count": 36,
   "metadata": {},
   "outputs": [],
   "source": [
    "threshold_development['number_of_apps_opened_after_same']=threshold_development.threshold.apply(lambda l: number_of_apps_opened_after_same(l,data))"
   ]
  },
  {
   "cell_type": "code",
   "execution_count": 8,
   "metadata": {},
   "outputs": [
    {
     "data": {
      "image/png": "[encoded data removed]",
      "text/plain": [
       "<Figure size 432x288 with 1 Axes>"
      ]
     },
     "metadata": {
      "needs_background": "light"
     },
     "output_type": "display_data"
    }
   ],
   "source": [
    "plt.plot(threshold_development['threshold'],threshold_development['number_of_apps_opened_after_same'],'.-')\n",
    "plt.show()"
   ]
  },
  {
   "cell_type": "code",
   "execution_count": 37,
   "metadata": {},
   "outputs": [
    {
     "data": {
      "text/html": [
       "<div>\n",
       "<style scoped>\n",
       "    .dataframe tbody tr th:only-of-type {\n",
       "        vertical-align: middle;\n",
       "    }\n",
       "\n",
       "    .dataframe tbody tr th {\n",
       "        vertical-align: top;\n",
       "    }\n",
       "\n",
       "    .dataframe thead th {\n",
       "        text-align: right;\n",
       "    }\n",
       "</style>\n",
       "<table border=\"1\" class=\"dataframe\">\n",
       "  <thead>\n",
       "    <tr style=\"text-align: right;\">\n",
       "      <th></th>\n",
       "      <th>threshold</th>\n",
       "      <th>n_sequences</th>\n",
       "      <th>number of sequences with only one app</th>\n",
       "      <th>avg_len_sequence</th>\n",
       "      <th>number_of_apps_opened_after_same</th>\n",
       "    </tr>\n",
       "  </thead>\n",
       "  <tbody>\n",
       "    <tr>\n",
       "      <th>0</th>\n",
       "      <td>0</td>\n",
       "      <td>125933226</td>\n",
       "      <td>72417853</td>\n",
       "      <td>1.742870</td>\n",
       "      <td>34</td>\n",
       "    </tr>\n",
       "    <tr>\n",
       "      <th>1</th>\n",
       "      <td>1</td>\n",
       "      <td>125832950</td>\n",
       "      <td>72305700</td>\n",
       "      <td>1.744259</td>\n",
       "      <td>34</td>\n",
       "    </tr>\n",
       "    <tr>\n",
       "      <th>2</th>\n",
       "      <td>2</td>\n",
       "      <td>125804540</td>\n",
       "      <td>72275444</td>\n",
       "      <td>1.744653</td>\n",
       "      <td>34</td>\n",
       "    </tr>\n",
       "    <tr>\n",
       "      <th>3</th>\n",
       "      <td>3</td>\n",
       "      <td>125773996</td>\n",
       "      <td>72242644</td>\n",
       "      <td>1.745077</td>\n",
       "      <td>34</td>\n",
       "    </tr>\n",
       "    <tr>\n",
       "      <th>4</th>\n",
       "      <td>4</td>\n",
       "      <td>125743436</td>\n",
       "      <td>72209409</td>\n",
       "      <td>1.745501</td>\n",
       "      <td>34</td>\n",
       "    </tr>\n",
       "    <tr>\n",
       "      <th>5</th>\n",
       "      <td>5</td>\n",
       "      <td>125713338</td>\n",
       "      <td>72177798</td>\n",
       "      <td>1.745919</td>\n",
       "      <td>34</td>\n",
       "    </tr>\n",
       "    <tr>\n",
       "      <th>6</th>\n",
       "      <td>6</td>\n",
       "      <td>125684951</td>\n",
       "      <td>72148294</td>\n",
       "      <td>1.746313</td>\n",
       "      <td>34</td>\n",
       "    </tr>\n",
       "    <tr>\n",
       "      <th>7</th>\n",
       "      <td>7</td>\n",
       "      <td>125657402</td>\n",
       "      <td>72119855</td>\n",
       "      <td>1.746696</td>\n",
       "      <td>34</td>\n",
       "    </tr>\n",
       "    <tr>\n",
       "      <th>8</th>\n",
       "      <td>8</td>\n",
       "      <td>125630088</td>\n",
       "      <td>72091487</td>\n",
       "      <td>1.747076</td>\n",
       "      <td>34</td>\n",
       "    </tr>\n",
       "    <tr>\n",
       "      <th>9</th>\n",
       "      <td>9</td>\n",
       "      <td>125589736</td>\n",
       "      <td>72047162</td>\n",
       "      <td>1.747637</td>\n",
       "      <td>34</td>\n",
       "    </tr>\n",
       "    <tr>\n",
       "      <th>10</th>\n",
       "      <td>10</td>\n",
       "      <td>105957239</td>\n",
       "      <td>51998743</td>\n",
       "      <td>2.071452</td>\n",
       "      <td>34</td>\n",
       "    </tr>\n",
       "    <tr>\n",
       "      <th>11</th>\n",
       "      <td>15</td>\n",
       "      <td>105348340</td>\n",
       "      <td>51390751</td>\n",
       "      <td>2.083424</td>\n",
       "      <td>34</td>\n",
       "    </tr>\n",
       "    <tr>\n",
       "      <th>12</th>\n",
       "      <td>20</td>\n",
       "      <td>100413709</td>\n",
       "      <td>47066413</td>\n",
       "      <td>2.185810</td>\n",
       "      <td>35</td>\n",
       "    </tr>\n",
       "    <tr>\n",
       "      <th>13</th>\n",
       "      <td>25</td>\n",
       "      <td>99943565</td>\n",
       "      <td>46626867</td>\n",
       "      <td>2.196092</td>\n",
       "      <td>36</td>\n",
       "    </tr>\n",
       "    <tr>\n",
       "      <th>14</th>\n",
       "      <td>30</td>\n",
       "      <td>97073458</td>\n",
       "      <td>44319523</td>\n",
       "      <td>2.261023</td>\n",
       "      <td>36</td>\n",
       "    </tr>\n",
       "    <tr>\n",
       "      <th>15</th>\n",
       "      <td>35</td>\n",
       "      <td>96607579</td>\n",
       "      <td>43913017</td>\n",
       "      <td>2.271926</td>\n",
       "      <td>36</td>\n",
       "    </tr>\n",
       "    <tr>\n",
       "      <th>16</th>\n",
       "      <td>40</td>\n",
       "      <td>94482165</td>\n",
       "      <td>42320851</td>\n",
       "      <td>2.323034</td>\n",
       "      <td>36</td>\n",
       "    </tr>\n",
       "    <tr>\n",
       "      <th>17</th>\n",
       "      <td>45</td>\n",
       "      <td>94001097</td>\n",
       "      <td>41926036</td>\n",
       "      <td>2.334923</td>\n",
       "      <td>36</td>\n",
       "    </tr>\n",
       "    <tr>\n",
       "      <th>18</th>\n",
       "      <td>50</td>\n",
       "      <td>92251199</td>\n",
       "      <td>40693731</td>\n",
       "      <td>2.379213</td>\n",
       "      <td>37</td>\n",
       "    </tr>\n",
       "    <tr>\n",
       "      <th>19</th>\n",
       "      <td>55</td>\n",
       "      <td>91740369</td>\n",
       "      <td>40302704</td>\n",
       "      <td>2.392461</td>\n",
       "      <td>37</td>\n",
       "    </tr>\n",
       "    <tr>\n",
       "      <th>20</th>\n",
       "      <td>60</td>\n",
       "      <td>90303298</td>\n",
       "      <td>39330616</td>\n",
       "      <td>2.430535</td>\n",
       "      <td>38</td>\n",
       "    </tr>\n",
       "    <tr>\n",
       "      <th>21</th>\n",
       "      <td>65</td>\n",
       "      <td>89804805</td>\n",
       "      <td>38963257</td>\n",
       "      <td>2.444026</td>\n",
       "      <td>39</td>\n",
       "    </tr>\n",
       "    <tr>\n",
       "      <th>22</th>\n",
       "      <td>70</td>\n",
       "      <td>88603389</td>\n",
       "      <td>38175539</td>\n",
       "      <td>2.477166</td>\n",
       "      <td>39</td>\n",
       "    </tr>\n",
       "    <tr>\n",
       "      <th>23</th>\n",
       "      <td>75</td>\n",
       "      <td>88114140</td>\n",
       "      <td>37824174</td>\n",
       "      <td>2.490920</td>\n",
       "      <td>39</td>\n",
       "    </tr>\n",
       "    <tr>\n",
       "      <th>24</th>\n",
       "      <td>80</td>\n",
       "      <td>87064539</td>\n",
       "      <td>37150330</td>\n",
       "      <td>2.520949</td>\n",
       "      <td>39</td>\n",
       "    </tr>\n",
       "    <tr>\n",
       "      <th>25</th>\n",
       "      <td>85</td>\n",
       "      <td>86586902</td>\n",
       "      <td>36814992</td>\n",
       "      <td>2.534856</td>\n",
       "      <td>39</td>\n",
       "    </tr>\n",
       "    <tr>\n",
       "      <th>26</th>\n",
       "      <td>90</td>\n",
       "      <td>85654602</td>\n",
       "      <td>36226811</td>\n",
       "      <td>2.562446</td>\n",
       "      <td>40</td>\n",
       "    </tr>\n",
       "    <tr>\n",
       "      <th>27</th>\n",
       "      <td>300</td>\n",
       "      <td>69012848</td>\n",
       "      <td>26195441</td>\n",
       "      <td>3.180354</td>\n",
       "      <td>55</td>\n",
       "    </tr>\n",
       "    <tr>\n",
       "      <th>28</th>\n",
       "      <td>600</td>\n",
       "      <td>58248977</td>\n",
       "      <td>20249947</td>\n",
       "      <td>3.768054</td>\n",
       "      <td>75</td>\n",
       "    </tr>\n",
       "    <tr>\n",
       "      <th>29</th>\n",
       "      <td>900</td>\n",
       "      <td>46881622</td>\n",
       "      <td>13885306</td>\n",
       "      <td>4.681692</td>\n",
       "      <td>4929912</td>\n",
       "    </tr>\n",
       "    <tr>\n",
       "      <th>30</th>\n",
       "      <td>1200</td>\n",
       "      <td>39350341</td>\n",
       "      <td>10304748</td>\n",
       "      <td>5.577723</td>\n",
       "      <td>8011761</td>\n",
       "    </tr>\n",
       "    <tr>\n",
       "      <th>31</th>\n",
       "      <td>1500</td>\n",
       "      <td>33857153</td>\n",
       "      <td>7999715</td>\n",
       "      <td>6.482686</td>\n",
       "      <td>10152846</td>\n",
       "    </tr>\n",
       "    <tr>\n",
       "      <th>32</th>\n",
       "      <td>1800</td>\n",
       "      <td>29667326</td>\n",
       "      <td>6415144</td>\n",
       "      <td>7.398216</td>\n",
       "      <td>11716653</td>\n",
       "    </tr>\n",
       "    <tr>\n",
       "      <th>33</th>\n",
       "      <td>2100</td>\n",
       "      <td>26364671</td>\n",
       "      <td>5272595</td>\n",
       "      <td>8.324978</td>\n",
       "      <td>12903435</td>\n",
       "    </tr>\n",
       "    <tr>\n",
       "      <th>34</th>\n",
       "      <td>2400</td>\n",
       "      <td>23685615</td>\n",
       "      <td>4413600</td>\n",
       "      <td>9.266608</td>\n",
       "      <td>13834216</td>\n",
       "    </tr>\n",
       "    <tr>\n",
       "      <th>35</th>\n",
       "      <td>2700</td>\n",
       "      <td>21471324</td>\n",
       "      <td>3749575</td>\n",
       "      <td>10.222253</td>\n",
       "      <td>14581557</td>\n",
       "    </tr>\n",
       "    <tr>\n",
       "      <th>36</th>\n",
       "      <td>3000</td>\n",
       "      <td>19617205</td>\n",
       "      <td>3227482</td>\n",
       "      <td>11.188408</td>\n",
       "      <td>15189874</td>\n",
       "    </tr>\n",
       "    <tr>\n",
       "      <th>37</th>\n",
       "      <td>3300</td>\n",
       "      <td>18039099</td>\n",
       "      <td>2807112</td>\n",
       "      <td>12.167198</td>\n",
       "      <td>15697711</td>\n",
       "    </tr>\n",
       "    <tr>\n",
       "      <th>38</th>\n",
       "      <td>3600</td>\n",
       "      <td>16677707</td>\n",
       "      <td>2462415</td>\n",
       "      <td>13.160400</td>\n",
       "      <td>16125688</td>\n",
       "    </tr>\n",
       "  </tbody>\n",
       "</table>\n",
       "</div>"
      ],
      "text/plain": [
       "    threshold  n_sequences  number of sequences with only one app  \\\n",
       "0           0    125933226                               72417853   \n",
       "1           1    125832950                               72305700   \n",
       "2           2    125804540                               72275444   \n",
       "3           3    125773996                               72242644   \n",
       "4           4    125743436                               72209409   \n",
       "5           5    125713338                               72177798   \n",
       "6           6    125684951                               72148294   \n",
       "7           7    125657402                               72119855   \n",
       "8           8    125630088                               72091487   \n",
       "9           9    125589736                               72047162   \n",
       "10         10    105957239                               51998743   \n",
       "11         15    105348340                               51390751   \n",
       "12         20    100413709                               47066413   \n",
       "13         25     99943565                               46626867   \n",
       "14         30     97073458                               44319523   \n",
       "15         35     96607579                               43913017   \n",
       "16         40     94482165                               42320851   \n",
       "17         45     94001097                               41926036   \n",
       "18         50     92251199                               40693731   \n",
       "19         55     91740369                               40302704   \n",
       "20         60     90303298                               39330616   \n",
       "21         65     89804805                               38963257   \n",
       "22         70     88603389                               38175539   \n",
       "23         75     88114140                               37824174   \n",
       "24         80     87064539                               37150330   \n",
       "25         85     86586902                               36814992   \n",
       "26         90     85654602                               36226811   \n",
       "27        300     69012848                               26195441   \n",
       "28        600     58248977                               20249947   \n",
       "29        900     46881622                               13885306   \n",
       "30       1200     39350341                               10304748   \n",
       "31       1500     33857153                                7999715   \n",
       "32       1800     29667326                                6415144   \n",
       "33       2100     26364671                                5272595   \n",
       "34       2400     23685615                                4413600   \n",
       "35       2700     21471324                                3749575   \n",
       "36       3000     19617205                                3227482   \n",
       "37       3300     18039099                                2807112   \n",
       "38       3600     16677707                                2462415   \n",
       "\n",
       "    avg_len_sequence  number_of_apps_opened_after_same  \n",
       "0           1.742870                                34  \n",
       "1           1.744259                                34  \n",
       "2           1.744653                                34  \n",
       "3           1.745077                                34  \n",
       "4           1.745501                                34  \n",
       "5           1.745919                                34  \n",
       "6           1.746313                                34  \n",
       "7           1.746696                                34  \n",
       "8           1.747076                                34  \n",
       "9           1.747637                                34  \n",
       "10          2.071452                                34  \n",
       "11          2.083424                                34  \n",
       "12          2.185810                                35  \n",
       "13          2.196092                                36  \n",
       "14          2.261023                                36  \n",
       "15          2.271926                                36  \n",
       "16          2.323034                                36  \n",
       "17          2.334923                                36  \n",
       "18          2.379213                                37  \n",
       "19          2.392461                                37  \n",
       "20          2.430535                                38  \n",
       "21          2.444026                                39  \n",
       "22          2.477166                                39  \n",
       "23          2.490920                                39  \n",
       "24          2.520949                                39  \n",
       "25          2.534856                                39  \n",
       "26          2.562446                                40  \n",
       "27          3.180354                                55  \n",
       "28          3.768054                                75  \n",
       "29          4.681692                           4929912  \n",
       "30          5.577723                           8011761  \n",
       "31          6.482686                          10152846  \n",
       "32          7.398216                          11716653  \n",
       "33          8.324978                          12903435  \n",
       "34          9.266608                          13834216  \n",
       "35         10.222253                          14581557  \n",
       "36         11.188408                          15189874  \n",
       "37         12.167198                          15697711  \n",
       "38         13.160400                          16125688  "
      ]
     },
     "execution_count": 37,
     "metadata": {},
     "output_type": "execute_result"
    }
   ],
   "source": [
    "threshold_development"
   ]
  },
  {
   "cell_type": "code",
   "execution_count": 39,
   "metadata": {},
   "outputs": [],
   "source": [
    "threshold_development.to_csv(\"threshold.csv\",index=False)"
   ]
  },
  {
   "cell_type": "code",
   "execution_count": 4,
   "metadata": {},
   "outputs": [],
   "source": [
    "threshold_development=pd.read_csv(\"threshold.csv\")"
   ]
  },
  {
   "cell_type": "code",
   "execution_count": 9,
   "metadata": {},
   "outputs": [
    {
     "data": {
      "text/plain": [
       "2630.0"
      ]
     },
     "execution_count": 9,
     "metadata": {},
     "output_type": "execute_result"
    }
   ],
   "source": [
    "data.sleep_time.quantile(0.90)"
   ]
  },
  {
   "cell_type": "code",
   "execution_count": 26,
   "metadata": {},
   "outputs": [
    {
     "data": {
      "text/plain": [
       "5644.0"
      ]
     },
     "execution_count": 26,
     "metadata": {},
     "output_type": "execute_result"
    }
   ],
   "source": [
    "data.sleep_time.quantile(0.95)"
   ]
  },
  {
   "cell_type": "markdown",
   "metadata": {},
   "source": [
    "Maybe test number times apps are used in a row, after a threshold has been selected? this might indicate whether the choise of merge threshold (10min) has been selected appropiatly. And maybe the potential effect on the number of only ones."
   ]
  },
  {
   "cell_type": "markdown",
   "metadata": {},
   "source": [
    "# Recalculating sleep time\n",
    "So fare we have been working with a sleep time which only take in to account the time period, or lack of same from the previous opened app is closed to the current one is opened. This entail a couple of problems. The first one being as we saw eariler that in situations where the app is after the next one is opened, a negative sleep time is created. Secondly this method fail to recognise cases where two non overlaping app usages might be fully encapusualed by another app. An example of such a situation can be seen here:\n",
    "\n",
    "app A open, app B open, app B close, app C open, app C close, app A close.\n",
    "\n",
    "Here the sleep time for C would correspond to the difference between when B is closed and C is opend, which mean that an actualy sleep time would be mesured. However this does not represent reality. since A is still being used in the sleep time for C should be 0.\n",
    "\n",
    "In this section the sleep time is therefore recalculated to represent the more realistic measure of time with inactivity before the app is opened."
   ]
  },
  {
   "cell_type": "code",
   "execution_count": 62,
   "metadata": {},
   "outputs": [],
   "source": [
    "data=pd.read_csv(\"sorted_coded_data_with_merged_events_10_min.csv\")"
   ]
  },
  {
   "cell_type": "code",
   "execution_count": 63,
   "metadata": {},
   "outputs": [
    {
     "data": {
      "text/html": [
       "<div>\n",
       "<style scoped>\n",
       "    .dataframe tbody tr th:only-of-type {\n",
       "        vertical-align: middle;\n",
       "    }\n",
       "\n",
       "    .dataframe tbody tr th {\n",
       "        vertical-align: top;\n",
       "    }\n",
       "\n",
       "    .dataframe thead th {\n",
       "        text-align: right;\n",
       "    }\n",
       "</style>\n",
       "<table border=\"1\" class=\"dataframe\">\n",
       "  <thead>\n",
       "    <tr style=\"text-align: right;\">\n",
       "      <th></th>\n",
       "      <th>package_name</th>\n",
       "      <th>user_id</th>\n",
       "      <th>start_time</th>\n",
       "      <th>end_time</th>\n",
       "      <th>time_spend</th>\n",
       "      <th>app_code</th>\n",
       "      <th>sleep_time</th>\n",
       "      <th>sleep_time_modified</th>\n",
       "      <th>previous_app_code</th>\n",
       "    </tr>\n",
       "  </thead>\n",
       "  <tbody>\n",
       "    <tr>\n",
       "      <th>0</th>\n",
       "      <td>com.facebook.katana</td>\n",
       "      <td>0</td>\n",
       "      <td>0</td>\n",
       "      <td>441</td>\n",
       "      <td>441</td>\n",
       "      <td>19968</td>\n",
       "      <td>0.0</td>\n",
       "      <td>0.0</td>\n",
       "      <td>NaN</td>\n",
       "    </tr>\n",
       "    <tr>\n",
       "      <th>1</th>\n",
       "      <td>com.android.chrome</td>\n",
       "      <td>0</td>\n",
       "      <td>441</td>\n",
       "      <td>1012</td>\n",
       "      <td>571</td>\n",
       "      <td>7649</td>\n",
       "      <td>0.0</td>\n",
       "      <td>0.0</td>\n",
       "      <td>19968.0</td>\n",
       "    </tr>\n",
       "    <tr>\n",
       "      <th>2</th>\n",
       "      <td>com.google.android.apps.photos</td>\n",
       "      <td>0</td>\n",
       "      <td>1012</td>\n",
       "      <td>1032</td>\n",
       "      <td>20</td>\n",
       "      <td>23916</td>\n",
       "      <td>0.0</td>\n",
       "      <td>0.0</td>\n",
       "      <td>7649.0</td>\n",
       "    </tr>\n",
       "    <tr>\n",
       "      <th>3</th>\n",
       "      <td>com.facebook.katana</td>\n",
       "      <td>0</td>\n",
       "      <td>1042</td>\n",
       "      <td>1502</td>\n",
       "      <td>460</td>\n",
       "      <td>19968</td>\n",
       "      <td>10.0</td>\n",
       "      <td>10.0</td>\n",
       "      <td>23916.0</td>\n",
       "    </tr>\n",
       "    <tr>\n",
       "      <th>4</th>\n",
       "      <td>com.whatsapp</td>\n",
       "      <td>0</td>\n",
       "      <td>1512</td>\n",
       "      <td>1572</td>\n",
       "      <td>60</td>\n",
       "      <td>53003</td>\n",
       "      <td>10.0</td>\n",
       "      <td>10.0</td>\n",
       "      <td>19968.0</td>\n",
       "    </tr>\n",
       "    <tr>\n",
       "      <th>...</th>\n",
       "      <td>...</td>\n",
       "      <td>...</td>\n",
       "      <td>...</td>\n",
       "      <td>...</td>\n",
       "      <td>...</td>\n",
       "      <td>...</td>\n",
       "      <td>...</td>\n",
       "      <td>...</td>\n",
       "      <td>...</td>\n",
       "    </tr>\n",
       "    <tr>\n",
       "      <th>219485293</th>\n",
       "      <td>com.google.android.googlequicksearchbox</td>\n",
       "      <td>9999</td>\n",
       "      <td>29207214</td>\n",
       "      <td>29207244</td>\n",
       "      <td>30</td>\n",
       "      <td>23949</td>\n",
       "      <td>185.0</td>\n",
       "      <td>185.0</td>\n",
       "      <td>19968.0</td>\n",
       "    </tr>\n",
       "    <tr>\n",
       "      <th>219485294</th>\n",
       "      <td>com.android.chrome</td>\n",
       "      <td>9999</td>\n",
       "      <td>29207244</td>\n",
       "      <td>29207284</td>\n",
       "      <td>40</td>\n",
       "      <td>7649</td>\n",
       "      <td>0.0</td>\n",
       "      <td>0.0</td>\n",
       "      <td>23949.0</td>\n",
       "    </tr>\n",
       "    <tr>\n",
       "      <th>219485295</th>\n",
       "      <td>com.google.android.apps.docs</td>\n",
       "      <td>9999</td>\n",
       "      <td>29207284</td>\n",
       "      <td>29207294</td>\n",
       "      <td>10</td>\n",
       "      <td>23875</td>\n",
       "      <td>0.0</td>\n",
       "      <td>0.0</td>\n",
       "      <td>7649.0</td>\n",
       "    </tr>\n",
       "    <tr>\n",
       "      <th>219485296</th>\n",
       "      <td>com.microsoft.office.outlook</td>\n",
       "      <td>9999</td>\n",
       "      <td>29213184</td>\n",
       "      <td>29213213</td>\n",
       "      <td>29</td>\n",
       "      <td>33357</td>\n",
       "      <td>5890.0</td>\n",
       "      <td>5890.0</td>\n",
       "      <td>23875.0</td>\n",
       "    </tr>\n",
       "    <tr>\n",
       "      <th>219485297</th>\n",
       "      <td>com.google.android.googlequicksearchbox</td>\n",
       "      <td>9999</td>\n",
       "      <td>29218277</td>\n",
       "      <td>29218307</td>\n",
       "      <td>30</td>\n",
       "      <td>23949</td>\n",
       "      <td>5064.0</td>\n",
       "      <td>5064.0</td>\n",
       "      <td>33357.0</td>\n",
       "    </tr>\n",
       "  </tbody>\n",
       "</table>\n",
       "<p>219485298 rows × 9 columns</p>\n",
       "</div>"
      ],
      "text/plain": [
       "                                      package_name  user_id  start_time  \\\n",
       "0                              com.facebook.katana        0           0   \n",
       "1                               com.android.chrome        0         441   \n",
       "2                   com.google.android.apps.photos        0        1012   \n",
       "3                              com.facebook.katana        0        1042   \n",
       "4                                     com.whatsapp        0        1512   \n",
       "...                                            ...      ...         ...   \n",
       "219485293  com.google.android.googlequicksearchbox     9999    29207214   \n",
       "219485294                       com.android.chrome     9999    29207244   \n",
       "219485295             com.google.android.apps.docs     9999    29207284   \n",
       "219485296             com.microsoft.office.outlook     9999    29213184   \n",
       "219485297  com.google.android.googlequicksearchbox     9999    29218277   \n",
       "\n",
       "           end_time  time_spend  app_code  sleep_time  sleep_time_modified  \\\n",
       "0               441         441     19968         0.0                  0.0   \n",
       "1              1012         571      7649         0.0                  0.0   \n",
       "2              1032          20     23916         0.0                  0.0   \n",
       "3              1502         460     19968        10.0                 10.0   \n",
       "4              1572          60     53003        10.0                 10.0   \n",
       "...             ...         ...       ...         ...                  ...   \n",
       "219485293  29207244          30     23949       185.0                185.0   \n",
       "219485294  29207284          40      7649         0.0                  0.0   \n",
       "219485295  29207294          10     23875         0.0                  0.0   \n",
       "219485296  29213213          29     33357      5890.0               5890.0   \n",
       "219485297  29218307          30     23949      5064.0               5064.0   \n",
       "\n",
       "           previous_app_code  \n",
       "0                        NaN  \n",
       "1                    19968.0  \n",
       "2                     7649.0  \n",
       "3                    23916.0  \n",
       "4                    19968.0  \n",
       "...                      ...  \n",
       "219485293            19968.0  \n",
       "219485294            23949.0  \n",
       "219485295             7649.0  \n",
       "219485296            23875.0  \n",
       "219485297            33357.0  \n",
       "\n",
       "[219485298 rows x 9 columns]"
      ]
     },
     "execution_count": 63,
     "metadata": {},
     "output_type": "execute_result"
    }
   ],
   "source": [
    "data"
   ]
  },
  {
   "cell_type": "code",
   "execution_count": 64,
   "metadata": {},
   "outputs": [],
   "source": [
    "data2=data.copy()"
   ]
  },
  {
   "cell_type": "code",
   "execution_count": 65,
   "metadata": {
    "scrolled": true
   },
   "outputs": [
    {
     "data": {
      "text/html": [
       "<div>\n",
       "<style scoped>\n",
       "    .dataframe tbody tr th:only-of-type {\n",
       "        vertical-align: middle;\n",
       "    }\n",
       "\n",
       "    .dataframe tbody tr th {\n",
       "        vertical-align: top;\n",
       "    }\n",
       "\n",
       "    .dataframe thead th {\n",
       "        text-align: right;\n",
       "    }\n",
       "</style>\n",
       "<table border=\"1\" class=\"dataframe\">\n",
       "  <thead>\n",
       "    <tr style=\"text-align: right;\">\n",
       "      <th></th>\n",
       "      <th>package_name</th>\n",
       "      <th>user_id</th>\n",
       "      <th>start_time</th>\n",
       "      <th>end_time</th>\n",
       "      <th>time_spend</th>\n",
       "      <th>app_code</th>\n",
       "      <th>sleep_time</th>\n",
       "      <th>sleep_time_modified</th>\n",
       "      <th>previous_app_code</th>\n",
       "    </tr>\n",
       "  </thead>\n",
       "  <tbody>\n",
       "    <tr>\n",
       "      <th>0</th>\n",
       "      <td>com.facebook.katana</td>\n",
       "      <td>0</td>\n",
       "      <td>0</td>\n",
       "      <td>441</td>\n",
       "      <td>441</td>\n",
       "      <td>19968</td>\n",
       "      <td>0.0</td>\n",
       "      <td>0.0</td>\n",
       "      <td>NaN</td>\n",
       "    </tr>\n",
       "    <tr>\n",
       "      <th>1</th>\n",
       "      <td>com.android.chrome</td>\n",
       "      <td>0</td>\n",
       "      <td>441</td>\n",
       "      <td>1012</td>\n",
       "      <td>571</td>\n",
       "      <td>7649</td>\n",
       "      <td>0.0</td>\n",
       "      <td>0.0</td>\n",
       "      <td>19968.0</td>\n",
       "    </tr>\n",
       "    <tr>\n",
       "      <th>2</th>\n",
       "      <td>com.google.android.apps.photos</td>\n",
       "      <td>0</td>\n",
       "      <td>1012</td>\n",
       "      <td>1032</td>\n",
       "      <td>20</td>\n",
       "      <td>23916</td>\n",
       "      <td>0.0</td>\n",
       "      <td>0.0</td>\n",
       "      <td>7649.0</td>\n",
       "    </tr>\n",
       "    <tr>\n",
       "      <th>3</th>\n",
       "      <td>com.facebook.katana</td>\n",
       "      <td>0</td>\n",
       "      <td>1042</td>\n",
       "      <td>1502</td>\n",
       "      <td>460</td>\n",
       "      <td>19968</td>\n",
       "      <td>10.0</td>\n",
       "      <td>10.0</td>\n",
       "      <td>23916.0</td>\n",
       "    </tr>\n",
       "    <tr>\n",
       "      <th>4</th>\n",
       "      <td>com.whatsapp</td>\n",
       "      <td>0</td>\n",
       "      <td>1512</td>\n",
       "      <td>1572</td>\n",
       "      <td>60</td>\n",
       "      <td>53003</td>\n",
       "      <td>10.0</td>\n",
       "      <td>10.0</td>\n",
       "      <td>19968.0</td>\n",
       "    </tr>\n",
       "    <tr>\n",
       "      <th>...</th>\n",
       "      <td>...</td>\n",
       "      <td>...</td>\n",
       "      <td>...</td>\n",
       "      <td>...</td>\n",
       "      <td>...</td>\n",
       "      <td>...</td>\n",
       "      <td>...</td>\n",
       "      <td>...</td>\n",
       "      <td>...</td>\n",
       "    </tr>\n",
       "    <tr>\n",
       "      <th>219485293</th>\n",
       "      <td>com.google.android.googlequicksearchbox</td>\n",
       "      <td>9999</td>\n",
       "      <td>29207214</td>\n",
       "      <td>29207244</td>\n",
       "      <td>30</td>\n",
       "      <td>23949</td>\n",
       "      <td>185.0</td>\n",
       "      <td>185.0</td>\n",
       "      <td>19968.0</td>\n",
       "    </tr>\n",
       "    <tr>\n",
       "      <th>219485294</th>\n",
       "      <td>com.android.chrome</td>\n",
       "      <td>9999</td>\n",
       "      <td>29207244</td>\n",
       "      <td>29207284</td>\n",
       "      <td>40</td>\n",
       "      <td>7649</td>\n",
       "      <td>0.0</td>\n",
       "      <td>0.0</td>\n",
       "      <td>23949.0</td>\n",
       "    </tr>\n",
       "    <tr>\n",
       "      <th>219485295</th>\n",
       "      <td>com.google.android.apps.docs</td>\n",
       "      <td>9999</td>\n",
       "      <td>29207284</td>\n",
       "      <td>29207294</td>\n",
       "      <td>10</td>\n",
       "      <td>23875</td>\n",
       "      <td>0.0</td>\n",
       "      <td>0.0</td>\n",
       "      <td>7649.0</td>\n",
       "    </tr>\n",
       "    <tr>\n",
       "      <th>219485296</th>\n",
       "      <td>com.microsoft.office.outlook</td>\n",
       "      <td>9999</td>\n",
       "      <td>29213184</td>\n",
       "      <td>29213213</td>\n",
       "      <td>29</td>\n",
       "      <td>33357</td>\n",
       "      <td>5890.0</td>\n",
       "      <td>5890.0</td>\n",
       "      <td>23875.0</td>\n",
       "    </tr>\n",
       "    <tr>\n",
       "      <th>219485297</th>\n",
       "      <td>com.google.android.googlequicksearchbox</td>\n",
       "      <td>9999</td>\n",
       "      <td>29218277</td>\n",
       "      <td>29218307</td>\n",
       "      <td>30</td>\n",
       "      <td>23949</td>\n",
       "      <td>5064.0</td>\n",
       "      <td>5064.0</td>\n",
       "      <td>33357.0</td>\n",
       "    </tr>\n",
       "  </tbody>\n",
       "</table>\n",
       "<p>219485298 rows × 9 columns</p>\n",
       "</div>"
      ],
      "text/plain": [
       "                                      package_name  user_id  start_time  \\\n",
       "0                              com.facebook.katana        0           0   \n",
       "1                               com.android.chrome        0         441   \n",
       "2                   com.google.android.apps.photos        0        1012   \n",
       "3                              com.facebook.katana        0        1042   \n",
       "4                                     com.whatsapp        0        1512   \n",
       "...                                            ...      ...         ...   \n",
       "219485293  com.google.android.googlequicksearchbox     9999    29207214   \n",
       "219485294                       com.android.chrome     9999    29207244   \n",
       "219485295             com.google.android.apps.docs     9999    29207284   \n",
       "219485296             com.microsoft.office.outlook     9999    29213184   \n",
       "219485297  com.google.android.googlequicksearchbox     9999    29218277   \n",
       "\n",
       "           end_time  time_spend  app_code  sleep_time  sleep_time_modified  \\\n",
       "0               441         441     19968         0.0                  0.0   \n",
       "1              1012         571      7649         0.0                  0.0   \n",
       "2              1032          20     23916         0.0                  0.0   \n",
       "3              1502         460     19968        10.0                 10.0   \n",
       "4              1572          60     53003        10.0                 10.0   \n",
       "...             ...         ...       ...         ...                  ...   \n",
       "219485293  29207244          30     23949       185.0                185.0   \n",
       "219485294  29207284          40      7649         0.0                  0.0   \n",
       "219485295  29207294          10     23875         0.0                  0.0   \n",
       "219485296  29213213          29     33357      5890.0               5890.0   \n",
       "219485297  29218307          30     23949      5064.0               5064.0   \n",
       "\n",
       "           previous_app_code  \n",
       "0                        NaN  \n",
       "1                    19968.0  \n",
       "2                     7649.0  \n",
       "3                    23916.0  \n",
       "4                    19968.0  \n",
       "...                      ...  \n",
       "219485293            19968.0  \n",
       "219485294            23949.0  \n",
       "219485295             7649.0  \n",
       "219485296            23875.0  \n",
       "219485297            33357.0  \n",
       "\n",
       "[219485298 rows x 9 columns]"
      ]
     },
     "execution_count": 65,
     "metadata": {},
     "output_type": "execute_result"
    }
   ],
   "source": [
    "data2"
   ]
  },
  {
   "cell_type": "markdown",
   "metadata": {},
   "source": [
    "The following part of the solution is inspired by the following. \n",
    "https://stackoverflow.com/questions/57804145/combining-rows-with-overlapping-time-periods-in-a-pandas-dataframe (visited 29.10.2021)"
   ]
  },
  {
   "cell_type": "code",
   "execution_count": 6,
   "metadata": {},
   "outputs": [],
   "source": [
    "def join_times(x):\n",
    "    startdf = pd.DataFrame({'time':x['start_time'], 'what':1})\n",
    "    enddf = pd.DataFrame({'time':x['end_time'], 'what':-1})\n",
    "    mergdf = pd.concat([startdf, enddf]).sort_values(['time','what'])\n",
    "    mergdf['running'] = mergdf['what'].cumsum()\n",
    "    mergdf['new_sequence'] = mergdf['running'].eq(1) & mergdf['what'].eq(1)\n",
    "    mergdf['sequence_number'] = mergdf['new_sequence'].cumsum()\n",
    "    x['sequence_number'] = mergdf['sequence_number'].loc[mergdf['what'].eq(1)]\n",
    "    return x['sequence_number']"
   ]
  },
  {
   "cell_type": "code",
   "execution_count": 69,
   "metadata": {},
   "outputs": [],
   "source": [
    "data2['sequence_number']=data2.groupby('user_id').apply(join_times).reset_index().drop(['user_id','level_1'], axis=1).values"
   ]
  },
  {
   "cell_type": "code",
   "execution_count": 70,
   "metadata": {},
   "outputs": [],
   "source": [
    "data2=pd.merge(data2,data2.groupby(['user_id','sequence_number']).agg({'start_time':'min','end_time':'max'}).reset_index().rename(columns={'end_time':'sequence_end_time','start_time':'sequence_Start_time'}),how='left', on=['user_id','sequence_number'])"
   ]
  },
  {
   "cell_type": "code",
   "execution_count": 75,
   "metadata": {},
   "outputs": [
    {
     "data": {
      "text/html": [
       "<div>\n",
       "<style scoped>\n",
       "    .dataframe tbody tr th:only-of-type {\n",
       "        vertical-align: middle;\n",
       "    }\n",
       "\n",
       "    .dataframe tbody tr th {\n",
       "        vertical-align: top;\n",
       "    }\n",
       "\n",
       "    .dataframe thead th {\n",
       "        text-align: right;\n",
       "    }\n",
       "</style>\n",
       "<table border=\"1\" class=\"dataframe\">\n",
       "  <thead>\n",
       "    <tr style=\"text-align: right;\">\n",
       "      <th></th>\n",
       "      <th>package_name</th>\n",
       "      <th>user_id</th>\n",
       "      <th>start_time</th>\n",
       "      <th>end_time</th>\n",
       "      <th>time_spend</th>\n",
       "      <th>app_code</th>\n",
       "      <th>sleep_time</th>\n",
       "      <th>sleep_time_modified</th>\n",
       "      <th>previous_app_code</th>\n",
       "      <th>sequence_number</th>\n",
       "      <th>sequence_Start_time</th>\n",
       "      <th>sequence_end_time</th>\n",
       "    </tr>\n",
       "  </thead>\n",
       "  <tbody>\n",
       "    <tr>\n",
       "      <th>0</th>\n",
       "      <td>com.facebook.katana</td>\n",
       "      <td>0</td>\n",
       "      <td>0</td>\n",
       "      <td>441</td>\n",
       "      <td>441</td>\n",
       "      <td>19968</td>\n",
       "      <td>0.0</td>\n",
       "      <td>0.0</td>\n",
       "      <td>NaN</td>\n",
       "      <td>1</td>\n",
       "      <td>0</td>\n",
       "      <td>441</td>\n",
       "    </tr>\n",
       "    <tr>\n",
       "      <th>1</th>\n",
       "      <td>com.android.chrome</td>\n",
       "      <td>0</td>\n",
       "      <td>441</td>\n",
       "      <td>1012</td>\n",
       "      <td>571</td>\n",
       "      <td>7649</td>\n",
       "      <td>0.0</td>\n",
       "      <td>0.0</td>\n",
       "      <td>19968.0</td>\n",
       "      <td>2</td>\n",
       "      <td>441</td>\n",
       "      <td>1012</td>\n",
       "    </tr>\n",
       "    <tr>\n",
       "      <th>2</th>\n",
       "      <td>com.google.android.apps.photos</td>\n",
       "      <td>0</td>\n",
       "      <td>1012</td>\n",
       "      <td>1032</td>\n",
       "      <td>20</td>\n",
       "      <td>23916</td>\n",
       "      <td>0.0</td>\n",
       "      <td>0.0</td>\n",
       "      <td>7649.0</td>\n",
       "      <td>3</td>\n",
       "      <td>1012</td>\n",
       "      <td>1032</td>\n",
       "    </tr>\n",
       "    <tr>\n",
       "      <th>3</th>\n",
       "      <td>com.facebook.katana</td>\n",
       "      <td>0</td>\n",
       "      <td>1042</td>\n",
       "      <td>1502</td>\n",
       "      <td>460</td>\n",
       "      <td>19968</td>\n",
       "      <td>10.0</td>\n",
       "      <td>10.0</td>\n",
       "      <td>23916.0</td>\n",
       "      <td>4</td>\n",
       "      <td>1042</td>\n",
       "      <td>1502</td>\n",
       "    </tr>\n",
       "    <tr>\n",
       "      <th>4</th>\n",
       "      <td>com.whatsapp</td>\n",
       "      <td>0</td>\n",
       "      <td>1512</td>\n",
       "      <td>1572</td>\n",
       "      <td>60</td>\n",
       "      <td>53003</td>\n",
       "      <td>10.0</td>\n",
       "      <td>10.0</td>\n",
       "      <td>19968.0</td>\n",
       "      <td>5</td>\n",
       "      <td>1512</td>\n",
       "      <td>1572</td>\n",
       "    </tr>\n",
       "    <tr>\n",
       "      <th>5</th>\n",
       "      <td>com.google.android.youtube</td>\n",
       "      <td>0</td>\n",
       "      <td>1582</td>\n",
       "      <td>1712</td>\n",
       "      <td>130</td>\n",
       "      <td>23967</td>\n",
       "      <td>10.0</td>\n",
       "      <td>10.0</td>\n",
       "      <td>53003.0</td>\n",
       "      <td>6</td>\n",
       "      <td>1582</td>\n",
       "      <td>1712</td>\n",
       "    </tr>\n",
       "    <tr>\n",
       "      <th>6</th>\n",
       "      <td>com.whatsapp</td>\n",
       "      <td>0</td>\n",
       "      <td>1712</td>\n",
       "      <td>2221</td>\n",
       "      <td>509</td>\n",
       "      <td>53003</td>\n",
       "      <td>0.0</td>\n",
       "      <td>0.0</td>\n",
       "      <td>23967.0</td>\n",
       "      <td>7</td>\n",
       "      <td>1712</td>\n",
       "      <td>2221</td>\n",
       "    </tr>\n",
       "    <tr>\n",
       "      <th>7</th>\n",
       "      <td>com.whatsapp</td>\n",
       "      <td>0</td>\n",
       "      <td>3449</td>\n",
       "      <td>3579</td>\n",
       "      <td>130</td>\n",
       "      <td>53003</td>\n",
       "      <td>1228.0</td>\n",
       "      <td>1228.0</td>\n",
       "      <td>53003.0</td>\n",
       "      <td>8</td>\n",
       "      <td>3449</td>\n",
       "      <td>3579</td>\n",
       "    </tr>\n",
       "    <tr>\n",
       "      <th>8</th>\n",
       "      <td>com.facebook.katana</td>\n",
       "      <td>0</td>\n",
       "      <td>3579</td>\n",
       "      <td>3669</td>\n",
       "      <td>90</td>\n",
       "      <td>19968</td>\n",
       "      <td>0.0</td>\n",
       "      <td>0.0</td>\n",
       "      <td>53003.0</td>\n",
       "      <td>9</td>\n",
       "      <td>3579</td>\n",
       "      <td>3669</td>\n",
       "    </tr>\n",
       "    <tr>\n",
       "      <th>9</th>\n",
       "      <td>com.whatsapp</td>\n",
       "      <td>0</td>\n",
       "      <td>3669</td>\n",
       "      <td>3926</td>\n",
       "      <td>257</td>\n",
       "      <td>53003</td>\n",
       "      <td>0.0</td>\n",
       "      <td>0.0</td>\n",
       "      <td>19968.0</td>\n",
       "      <td>10</td>\n",
       "      <td>3669</td>\n",
       "      <td>3926</td>\n",
       "    </tr>\n",
       "    <tr>\n",
       "      <th>10</th>\n",
       "      <td>bg.abv.andro.emailapp</td>\n",
       "      <td>0</td>\n",
       "      <td>3689</td>\n",
       "      <td>3699</td>\n",
       "      <td>10</td>\n",
       "      <td>2340</td>\n",
       "      <td>-237.0</td>\n",
       "      <td>0.0</td>\n",
       "      <td>53003.0</td>\n",
       "      <td>10</td>\n",
       "      <td>3669</td>\n",
       "      <td>3926</td>\n",
       "    </tr>\n",
       "    <tr>\n",
       "      <th>11</th>\n",
       "      <td>com.android.chrome</td>\n",
       "      <td>0</td>\n",
       "      <td>3926</td>\n",
       "      <td>4076</td>\n",
       "      <td>150</td>\n",
       "      <td>7649</td>\n",
       "      <td>227.0</td>\n",
       "      <td>227.0</td>\n",
       "      <td>2340.0</td>\n",
       "      <td>11</td>\n",
       "      <td>3926</td>\n",
       "      <td>4076</td>\n",
       "    </tr>\n",
       "    <tr>\n",
       "      <th>12</th>\n",
       "      <td>com.whatsapp</td>\n",
       "      <td>0</td>\n",
       "      <td>4076</td>\n",
       "      <td>4742</td>\n",
       "      <td>666</td>\n",
       "      <td>53003</td>\n",
       "      <td>0.0</td>\n",
       "      <td>0.0</td>\n",
       "      <td>7649.0</td>\n",
       "      <td>12</td>\n",
       "      <td>4076</td>\n",
       "      <td>4742</td>\n",
       "    </tr>\n",
       "    <tr>\n",
       "      <th>13</th>\n",
       "      <td>com.facebook.katana</td>\n",
       "      <td>0</td>\n",
       "      <td>27820</td>\n",
       "      <td>27830</td>\n",
       "      <td>10</td>\n",
       "      <td>19968</td>\n",
       "      <td>23078.0</td>\n",
       "      <td>23078.0</td>\n",
       "      <td>53003.0</td>\n",
       "      <td>13</td>\n",
       "      <td>27820</td>\n",
       "      <td>27830</td>\n",
       "    </tr>\n",
       "    <tr>\n",
       "      <th>14</th>\n",
       "      <td>com.viber.voip</td>\n",
       "      <td>0</td>\n",
       "      <td>27830</td>\n",
       "      <td>27860</td>\n",
       "      <td>30</td>\n",
       "      <td>51657</td>\n",
       "      <td>0.0</td>\n",
       "      <td>0.0</td>\n",
       "      <td>19968.0</td>\n",
       "      <td>14</td>\n",
       "      <td>27830</td>\n",
       "      <td>27860</td>\n",
       "    </tr>\n",
       "    <tr>\n",
       "      <th>15</th>\n",
       "      <td>com.whatsapp</td>\n",
       "      <td>0</td>\n",
       "      <td>27870</td>\n",
       "      <td>27891</td>\n",
       "      <td>21</td>\n",
       "      <td>53003</td>\n",
       "      <td>10.0</td>\n",
       "      <td>10.0</td>\n",
       "      <td>51657.0</td>\n",
       "      <td>15</td>\n",
       "      <td>27870</td>\n",
       "      <td>27891</td>\n",
       "    </tr>\n",
       "    <tr>\n",
       "      <th>16</th>\n",
       "      <td>com.facebook.katana</td>\n",
       "      <td>0</td>\n",
       "      <td>28696</td>\n",
       "      <td>28766</td>\n",
       "      <td>70</td>\n",
       "      <td>19968</td>\n",
       "      <td>805.0</td>\n",
       "      <td>805.0</td>\n",
       "      <td>53003.0</td>\n",
       "      <td>16</td>\n",
       "      <td>28696</td>\n",
       "      <td>28766</td>\n",
       "    </tr>\n",
       "    <tr>\n",
       "      <th>17</th>\n",
       "      <td>com.google.android.apps.translate</td>\n",
       "      <td>0</td>\n",
       "      <td>28766</td>\n",
       "      <td>28906</td>\n",
       "      <td>140</td>\n",
       "      <td>23926</td>\n",
       "      <td>0.0</td>\n",
       "      <td>0.0</td>\n",
       "      <td>19968.0</td>\n",
       "      <td>17</td>\n",
       "      <td>28766</td>\n",
       "      <td>29777</td>\n",
       "    </tr>\n",
       "    <tr>\n",
       "      <th>18</th>\n",
       "      <td>com.facebook.katana</td>\n",
       "      <td>0</td>\n",
       "      <td>28836</td>\n",
       "      <td>29777</td>\n",
       "      <td>941</td>\n",
       "      <td>19968</td>\n",
       "      <td>-70.0</td>\n",
       "      <td>0.0</td>\n",
       "      <td>23926.0</td>\n",
       "      <td>17</td>\n",
       "      <td>28766</td>\n",
       "      <td>29777</td>\n",
       "    </tr>\n",
       "    <tr>\n",
       "      <th>19</th>\n",
       "      <td>com.sonymobile.moviecreator.rmm</td>\n",
       "      <td>0</td>\n",
       "      <td>29777</td>\n",
       "      <td>29817</td>\n",
       "      <td>40</td>\n",
       "      <td>45345</td>\n",
       "      <td>0.0</td>\n",
       "      <td>0.0</td>\n",
       "      <td>19968.0</td>\n",
       "      <td>18</td>\n",
       "      <td>29777</td>\n",
       "      <td>29817</td>\n",
       "    </tr>\n",
       "  </tbody>\n",
       "</table>\n",
       "</div>"
      ],
      "text/plain": [
       "                         package_name  user_id  start_time  end_time  \\\n",
       "0                 com.facebook.katana        0           0       441   \n",
       "1                  com.android.chrome        0         441      1012   \n",
       "2      com.google.android.apps.photos        0        1012      1032   \n",
       "3                 com.facebook.katana        0        1042      1502   \n",
       "4                        com.whatsapp        0        1512      1572   \n",
       "5          com.google.android.youtube        0        1582      1712   \n",
       "6                        com.whatsapp        0        1712      2221   \n",
       "7                        com.whatsapp        0        3449      3579   \n",
       "8                 com.facebook.katana        0        3579      3669   \n",
       "9                        com.whatsapp        0        3669      3926   \n",
       "10              bg.abv.andro.emailapp        0        3689      3699   \n",
       "11                 com.android.chrome        0        3926      4076   \n",
       "12                       com.whatsapp        0        4076      4742   \n",
       "13                com.facebook.katana        0       27820     27830   \n",
       "14                     com.viber.voip        0       27830     27860   \n",
       "15                       com.whatsapp        0       27870     27891   \n",
       "16                com.facebook.katana        0       28696     28766   \n",
       "17  com.google.android.apps.translate        0       28766     28906   \n",
       "18                com.facebook.katana        0       28836     29777   \n",
       "19    com.sonymobile.moviecreator.rmm        0       29777     29817   \n",
       "\n",
       "    time_spend  app_code  sleep_time  sleep_time_modified  previous_app_code  \\\n",
       "0          441     19968         0.0                  0.0                NaN   \n",
       "1          571      7649         0.0                  0.0            19968.0   \n",
       "2           20     23916         0.0                  0.0             7649.0   \n",
       "3          460     19968        10.0                 10.0            23916.0   \n",
       "4           60     53003        10.0                 10.0            19968.0   \n",
       "5          130     23967        10.0                 10.0            53003.0   \n",
       "6          509     53003         0.0                  0.0            23967.0   \n",
       "7          130     53003      1228.0               1228.0            53003.0   \n",
       "8           90     19968         0.0                  0.0            53003.0   \n",
       "9          257     53003         0.0                  0.0            19968.0   \n",
       "10          10      2340      -237.0                  0.0            53003.0   \n",
       "11         150      7649       227.0                227.0             2340.0   \n",
       "12         666     53003         0.0                  0.0             7649.0   \n",
       "13          10     19968     23078.0              23078.0            53003.0   \n",
       "14          30     51657         0.0                  0.0            19968.0   \n",
       "15          21     53003        10.0                 10.0            51657.0   \n",
       "16          70     19968       805.0                805.0            53003.0   \n",
       "17         140     23926         0.0                  0.0            19968.0   \n",
       "18         941     19968       -70.0                  0.0            23926.0   \n",
       "19          40     45345         0.0                  0.0            19968.0   \n",
       "\n",
       "    sequence_number  sequence_Start_time  sequence_end_time  \n",
       "0                 1                    0                441  \n",
       "1                 2                  441               1012  \n",
       "2                 3                 1012               1032  \n",
       "3                 4                 1042               1502  \n",
       "4                 5                 1512               1572  \n",
       "5                 6                 1582               1712  \n",
       "6                 7                 1712               2221  \n",
       "7                 8                 3449               3579  \n",
       "8                 9                 3579               3669  \n",
       "9                10                 3669               3926  \n",
       "10               10                 3669               3926  \n",
       "11               11                 3926               4076  \n",
       "12               12                 4076               4742  \n",
       "13               13                27820              27830  \n",
       "14               14                27830              27860  \n",
       "15               15                27870              27891  \n",
       "16               16                28696              28766  \n",
       "17               17                28766              29777  \n",
       "18               17                28766              29777  \n",
       "19               18                29777              29817  "
      ]
     },
     "execution_count": 75,
     "metadata": {},
     "output_type": "execute_result"
    }
   ],
   "source": [
    "data2.head(20)"
   ]
  },
  {
   "cell_type": "code",
   "execution_count": 76,
   "metadata": {},
   "outputs": [],
   "source": [
    "data2['sleep_time_updated']=data2.start_time-data2.sequence_end_time.shift(1,fill_value=0)"
   ]
  },
  {
   "cell_type": "code",
   "execution_count": 79,
   "metadata": {},
   "outputs": [
    {
     "data": {
      "text/html": [
       "<div>\n",
       "<style scoped>\n",
       "    .dataframe tbody tr th:only-of-type {\n",
       "        vertical-align: middle;\n",
       "    }\n",
       "\n",
       "    .dataframe tbody tr th {\n",
       "        vertical-align: top;\n",
       "    }\n",
       "\n",
       "    .dataframe thead th {\n",
       "        text-align: right;\n",
       "    }\n",
       "</style>\n",
       "<table border=\"1\" class=\"dataframe\">\n",
       "  <thead>\n",
       "    <tr style=\"text-align: right;\">\n",
       "      <th></th>\n",
       "      <th>package_name</th>\n",
       "      <th>user_id</th>\n",
       "      <th>start_time</th>\n",
       "      <th>end_time</th>\n",
       "      <th>time_spend</th>\n",
       "      <th>app_code</th>\n",
       "      <th>sleep_time</th>\n",
       "      <th>sleep_time_modified</th>\n",
       "      <th>previous_app_code</th>\n",
       "      <th>sequence_number</th>\n",
       "      <th>sequence_Start_time</th>\n",
       "      <th>sequence_end_time</th>\n",
       "      <th>sleep_time_updated</th>\n",
       "    </tr>\n",
       "  </thead>\n",
       "  <tbody>\n",
       "    <tr>\n",
       "      <th>10</th>\n",
       "      <td>bg.abv.andro.emailapp</td>\n",
       "      <td>0</td>\n",
       "      <td>3689</td>\n",
       "      <td>3699</td>\n",
       "      <td>10</td>\n",
       "      <td>2340</td>\n",
       "      <td>-237.0</td>\n",
       "      <td>0.0</td>\n",
       "      <td>53003.0</td>\n",
       "      <td>10</td>\n",
       "      <td>3669</td>\n",
       "      <td>3926</td>\n",
       "      <td>-237</td>\n",
       "    </tr>\n",
       "    <tr>\n",
       "      <th>18</th>\n",
       "      <td>com.facebook.katana</td>\n",
       "      <td>0</td>\n",
       "      <td>28836</td>\n",
       "      <td>29777</td>\n",
       "      <td>941</td>\n",
       "      <td>19968</td>\n",
       "      <td>-70.0</td>\n",
       "      <td>0.0</td>\n",
       "      <td>23926.0</td>\n",
       "      <td>17</td>\n",
       "      <td>28766</td>\n",
       "      <td>29777</td>\n",
       "      <td>-941</td>\n",
       "    </tr>\n",
       "    <tr>\n",
       "      <th>54</th>\n",
       "      <td>com.google.android.apps.translate</td>\n",
       "      <td>0</td>\n",
       "      <td>53793</td>\n",
       "      <td>53803</td>\n",
       "      <td>10</td>\n",
       "      <td>23926</td>\n",
       "      <td>-210.0</td>\n",
       "      <td>0.0</td>\n",
       "      <td>7649.0</td>\n",
       "      <td>52</td>\n",
       "      <td>53753</td>\n",
       "      <td>54003</td>\n",
       "      <td>-210</td>\n",
       "    </tr>\n",
       "    <tr>\n",
       "      <th>98</th>\n",
       "      <td>com.sonyericsson.video</td>\n",
       "      <td>0</td>\n",
       "      <td>173946</td>\n",
       "      <td>174206</td>\n",
       "      <td>260</td>\n",
       "      <td>45286</td>\n",
       "      <td>-30.0</td>\n",
       "      <td>0.0</td>\n",
       "      <td>45260.0</td>\n",
       "      <td>95</td>\n",
       "      <td>173926</td>\n",
       "      <td>174226</td>\n",
       "      <td>-280</td>\n",
       "    </tr>\n",
       "    <tr>\n",
       "      <th>99</th>\n",
       "      <td>com.sonyericsson.album</td>\n",
       "      <td>0</td>\n",
       "      <td>174036</td>\n",
       "      <td>174226</td>\n",
       "      <td>190</td>\n",
       "      <td>45260</td>\n",
       "      <td>-170.0</td>\n",
       "      <td>0.0</td>\n",
       "      <td>45286.0</td>\n",
       "      <td>95</td>\n",
       "      <td>173926</td>\n",
       "      <td>174226</td>\n",
       "      <td>-190</td>\n",
       "    </tr>\n",
       "    <tr>\n",
       "      <th>...</th>\n",
       "      <td>...</td>\n",
       "      <td>...</td>\n",
       "      <td>...</td>\n",
       "      <td>...</td>\n",
       "      <td>...</td>\n",
       "      <td>...</td>\n",
       "      <td>...</td>\n",
       "      <td>...</td>\n",
       "      <td>...</td>\n",
       "      <td>...</td>\n",
       "      <td>...</td>\n",
       "      <td>...</td>\n",
       "      <td>...</td>\n",
       "    </tr>\n",
       "    <tr>\n",
       "      <th>219485238</th>\n",
       "      <td>com.sonyericsson.music</td>\n",
       "      <td>9999</td>\n",
       "      <td>29133717</td>\n",
       "      <td>29133737</td>\n",
       "      <td>20</td>\n",
       "      <td>45284</td>\n",
       "      <td>-287.0</td>\n",
       "      <td>0.0</td>\n",
       "      <td>53003.0</td>\n",
       "      <td>13415</td>\n",
       "      <td>29133587</td>\n",
       "      <td>29134004</td>\n",
       "      <td>-287</td>\n",
       "    </tr>\n",
       "    <tr>\n",
       "      <th>219485253</th>\n",
       "      <td>com.google.android.googlequicksearchbox</td>\n",
       "      <td>9999</td>\n",
       "      <td>29156883</td>\n",
       "      <td>29156933</td>\n",
       "      <td>50</td>\n",
       "      <td>23949</td>\n",
       "      <td>-111.0</td>\n",
       "      <td>0.0</td>\n",
       "      <td>44880.0</td>\n",
       "      <td>13429</td>\n",
       "      <td>29156853</td>\n",
       "      <td>29156994</td>\n",
       "      <td>-111</td>\n",
       "    </tr>\n",
       "    <tr>\n",
       "      <th>219485259</th>\n",
       "      <td>com.sonyericsson.album</td>\n",
       "      <td>9999</td>\n",
       "      <td>29158879</td>\n",
       "      <td>29158889</td>\n",
       "      <td>10</td>\n",
       "      <td>45260</td>\n",
       "      <td>-20.0</td>\n",
       "      <td>0.0</td>\n",
       "      <td>45264.0</td>\n",
       "      <td>13434</td>\n",
       "      <td>29158868</td>\n",
       "      <td>29158899</td>\n",
       "      <td>-20</td>\n",
       "    </tr>\n",
       "    <tr>\n",
       "      <th>219485268</th>\n",
       "      <td>com.whatsapp</td>\n",
       "      <td>9999</td>\n",
       "      <td>29162905</td>\n",
       "      <td>29163500</td>\n",
       "      <td>595</td>\n",
       "      <td>53003</td>\n",
       "      <td>-50.0</td>\n",
       "      <td>0.0</td>\n",
       "      <td>19968.0</td>\n",
       "      <td>13442</td>\n",
       "      <td>29162675</td>\n",
       "      <td>29163500</td>\n",
       "      <td>-595</td>\n",
       "    </tr>\n",
       "    <tr>\n",
       "      <th>219485287</th>\n",
       "      <td>com.instagram.android</td>\n",
       "      <td>9999</td>\n",
       "      <td>29204877</td>\n",
       "      <td>29204887</td>\n",
       "      <td>10</td>\n",
       "      <td>27441</td>\n",
       "      <td>-20.0</td>\n",
       "      <td>0.0</td>\n",
       "      <td>19973.0</td>\n",
       "      <td>13460</td>\n",
       "      <td>29204827</td>\n",
       "      <td>29204897</td>\n",
       "      <td>-20</td>\n",
       "    </tr>\n",
       "  </tbody>\n",
       "</table>\n",
       "<p>21528572 rows × 13 columns</p>\n",
       "</div>"
      ],
      "text/plain": [
       "                                      package_name  user_id  start_time  \\\n",
       "10                           bg.abv.andro.emailapp        0        3689   \n",
       "18                             com.facebook.katana        0       28836   \n",
       "54               com.google.android.apps.translate        0       53793   \n",
       "98                          com.sonyericsson.video        0      173946   \n",
       "99                          com.sonyericsson.album        0      174036   \n",
       "...                                            ...      ...         ...   \n",
       "219485238                   com.sonyericsson.music     9999    29133717   \n",
       "219485253  com.google.android.googlequicksearchbox     9999    29156883   \n",
       "219485259                   com.sonyericsson.album     9999    29158879   \n",
       "219485268                             com.whatsapp     9999    29162905   \n",
       "219485287                    com.instagram.android     9999    29204877   \n",
       "\n",
       "           end_time  time_spend  app_code  sleep_time  sleep_time_modified  \\\n",
       "10             3699          10      2340      -237.0                  0.0   \n",
       "18            29777         941     19968       -70.0                  0.0   \n",
       "54            53803          10     23926      -210.0                  0.0   \n",
       "98           174206         260     45286       -30.0                  0.0   \n",
       "99           174226         190     45260      -170.0                  0.0   \n",
       "...             ...         ...       ...         ...                  ...   \n",
       "219485238  29133737          20     45284      -287.0                  0.0   \n",
       "219485253  29156933          50     23949      -111.0                  0.0   \n",
       "219485259  29158889          10     45260       -20.0                  0.0   \n",
       "219485268  29163500         595     53003       -50.0                  0.0   \n",
       "219485287  29204887          10     27441       -20.0                  0.0   \n",
       "\n",
       "           previous_app_code  sequence_number  sequence_Start_time  \\\n",
       "10                   53003.0               10                 3669   \n",
       "18                   23926.0               17                28766   \n",
       "54                    7649.0               52                53753   \n",
       "98                   45260.0               95               173926   \n",
       "99                   45286.0               95               173926   \n",
       "...                      ...              ...                  ...   \n",
       "219485238            53003.0            13415             29133587   \n",
       "219485253            44880.0            13429             29156853   \n",
       "219485259            45264.0            13434             29158868   \n",
       "219485268            19968.0            13442             29162675   \n",
       "219485287            19973.0            13460             29204827   \n",
       "\n",
       "           sequence_end_time  sleep_time_updated  \n",
       "10                      3926                -237  \n",
       "18                     29777                -941  \n",
       "54                     54003                -210  \n",
       "98                    174226                -280  \n",
       "99                    174226                -190  \n",
       "...                      ...                 ...  \n",
       "219485238           29134004                -287  \n",
       "219485253           29156994                -111  \n",
       "219485259           29158899                 -20  \n",
       "219485268           29163500                -595  \n",
       "219485287           29204897                 -20  \n",
       "\n",
       "[21528572 rows x 13 columns]"
      ]
     },
     "execution_count": 79,
     "metadata": {},
     "output_type": "execute_result"
    }
   ],
   "source": [
    "data2[data2['sleep_time_updated']<0]"
   ]
  },
  {
   "cell_type": "code",
   "execution_count": 87,
   "metadata": {},
   "outputs": [],
   "source": [
    "data2.loc[data2[data2['sleep_time_updated']<0].index,'sleep_time_updated']=0"
   ]
  },
  {
   "cell_type": "code",
   "execution_count": 88,
   "metadata": {},
   "outputs": [
    {
     "data": {
      "text/html": [
       "<div>\n",
       "<style scoped>\n",
       "    .dataframe tbody tr th:only-of-type {\n",
       "        vertical-align: middle;\n",
       "    }\n",
       "\n",
       "    .dataframe tbody tr th {\n",
       "        vertical-align: top;\n",
       "    }\n",
       "\n",
       "    .dataframe thead th {\n",
       "        text-align: right;\n",
       "    }\n",
       "</style>\n",
       "<table border=\"1\" class=\"dataframe\">\n",
       "  <thead>\n",
       "    <tr style=\"text-align: right;\">\n",
       "      <th></th>\n",
       "      <th>package_name</th>\n",
       "      <th>user_id</th>\n",
       "      <th>start_time</th>\n",
       "      <th>end_time</th>\n",
       "      <th>time_spend</th>\n",
       "      <th>app_code</th>\n",
       "      <th>sleep_time</th>\n",
       "      <th>sleep_time_modified</th>\n",
       "      <th>previous_app_code</th>\n",
       "      <th>sequence_number</th>\n",
       "      <th>sequence_Start_time</th>\n",
       "      <th>sequence_end_time</th>\n",
       "      <th>sleep_time_updated</th>\n",
       "    </tr>\n",
       "  </thead>\n",
       "  <tbody>\n",
       "  </tbody>\n",
       "</table>\n",
       "</div>"
      ],
      "text/plain": [
       "Empty DataFrame\n",
       "Columns: [package_name, user_id, start_time, end_time, time_spend, app_code, sleep_time, sleep_time_modified, previous_app_code, sequence_number, sequence_Start_time, sequence_end_time, sleep_time_updated]\n",
       "Index: []"
      ]
     },
     "execution_count": 88,
     "metadata": {},
     "output_type": "execute_result"
    }
   ],
   "source": [
    "data2[data2['sleep_time_updated']<0]"
   ]
  },
  {
   "cell_type": "code",
   "execution_count": 90,
   "metadata": {},
   "outputs": [],
   "source": [
    "data2.to_csv('sorted_merged_sleep_time_recalculated.csv',index=False)"
   ]
  },
  {
   "cell_type": "code",
   "execution_count": 92,
   "metadata": {},
   "outputs": [
    {
     "data": {
      "text/html": [
       "<div>\n",
       "<style scoped>\n",
       "    .dataframe tbody tr th:only-of-type {\n",
       "        vertical-align: middle;\n",
       "    }\n",
       "\n",
       "    .dataframe tbody tr th {\n",
       "        vertical-align: top;\n",
       "    }\n",
       "\n",
       "    .dataframe thead th {\n",
       "        text-align: right;\n",
       "    }\n",
       "</style>\n",
       "<table border=\"1\" class=\"dataframe\">\n",
       "  <thead>\n",
       "    <tr style=\"text-align: right;\">\n",
       "      <th></th>\n",
       "      <th>package_name</th>\n",
       "      <th>user_id</th>\n",
       "      <th>start_time</th>\n",
       "      <th>end_time</th>\n",
       "      <th>time_spend</th>\n",
       "      <th>app_code</th>\n",
       "      <th>sleep_time</th>\n",
       "      <th>sleep_time_modified</th>\n",
       "      <th>previous_app_code</th>\n",
       "      <th>sequence_number</th>\n",
       "      <th>sequence_Start_time</th>\n",
       "      <th>sequence_end_time</th>\n",
       "      <th>sleep_time_updated</th>\n",
       "    </tr>\n",
       "  </thead>\n",
       "  <tbody>\n",
       "    <tr>\n",
       "      <th>0</th>\n",
       "      <td>com.facebook.katana</td>\n",
       "      <td>0</td>\n",
       "      <td>0</td>\n",
       "      <td>441</td>\n",
       "      <td>441</td>\n",
       "      <td>19968</td>\n",
       "      <td>0.0</td>\n",
       "      <td>0.0</td>\n",
       "      <td>NaN</td>\n",
       "      <td>1</td>\n",
       "      <td>0</td>\n",
       "      <td>441</td>\n",
       "      <td>0</td>\n",
       "    </tr>\n",
       "    <tr>\n",
       "      <th>1</th>\n",
       "      <td>com.android.chrome</td>\n",
       "      <td>0</td>\n",
       "      <td>441</td>\n",
       "      <td>1012</td>\n",
       "      <td>571</td>\n",
       "      <td>7649</td>\n",
       "      <td>0.0</td>\n",
       "      <td>0.0</td>\n",
       "      <td>19968.0</td>\n",
       "      <td>2</td>\n",
       "      <td>441</td>\n",
       "      <td>1012</td>\n",
       "      <td>0</td>\n",
       "    </tr>\n",
       "    <tr>\n",
       "      <th>2</th>\n",
       "      <td>com.google.android.apps.photos</td>\n",
       "      <td>0</td>\n",
       "      <td>1012</td>\n",
       "      <td>1032</td>\n",
       "      <td>20</td>\n",
       "      <td>23916</td>\n",
       "      <td>0.0</td>\n",
       "      <td>0.0</td>\n",
       "      <td>7649.0</td>\n",
       "      <td>3</td>\n",
       "      <td>1012</td>\n",
       "      <td>1032</td>\n",
       "      <td>0</td>\n",
       "    </tr>\n",
       "    <tr>\n",
       "      <th>3</th>\n",
       "      <td>com.facebook.katana</td>\n",
       "      <td>0</td>\n",
       "      <td>1042</td>\n",
       "      <td>1502</td>\n",
       "      <td>460</td>\n",
       "      <td>19968</td>\n",
       "      <td>10.0</td>\n",
       "      <td>10.0</td>\n",
       "      <td>23916.0</td>\n",
       "      <td>4</td>\n",
       "      <td>1042</td>\n",
       "      <td>1502</td>\n",
       "      <td>10</td>\n",
       "    </tr>\n",
       "    <tr>\n",
       "      <th>4</th>\n",
       "      <td>com.whatsapp</td>\n",
       "      <td>0</td>\n",
       "      <td>1512</td>\n",
       "      <td>1572</td>\n",
       "      <td>60</td>\n",
       "      <td>53003</td>\n",
       "      <td>10.0</td>\n",
       "      <td>10.0</td>\n",
       "      <td>19968.0</td>\n",
       "      <td>5</td>\n",
       "      <td>1512</td>\n",
       "      <td>1572</td>\n",
       "      <td>10</td>\n",
       "    </tr>\n",
       "    <tr>\n",
       "      <th>5</th>\n",
       "      <td>com.google.android.youtube</td>\n",
       "      <td>0</td>\n",
       "      <td>1582</td>\n",
       "      <td>1712</td>\n",
       "      <td>130</td>\n",
       "      <td>23967</td>\n",
       "      <td>10.0</td>\n",
       "      <td>10.0</td>\n",
       "      <td>53003.0</td>\n",
       "      <td>6</td>\n",
       "      <td>1582</td>\n",
       "      <td>1712</td>\n",
       "      <td>10</td>\n",
       "    </tr>\n",
       "    <tr>\n",
       "      <th>6</th>\n",
       "      <td>com.whatsapp</td>\n",
       "      <td>0</td>\n",
       "      <td>1712</td>\n",
       "      <td>2221</td>\n",
       "      <td>509</td>\n",
       "      <td>53003</td>\n",
       "      <td>0.0</td>\n",
       "      <td>0.0</td>\n",
       "      <td>23967.0</td>\n",
       "      <td>7</td>\n",
       "      <td>1712</td>\n",
       "      <td>2221</td>\n",
       "      <td>0</td>\n",
       "    </tr>\n",
       "    <tr>\n",
       "      <th>7</th>\n",
       "      <td>com.whatsapp</td>\n",
       "      <td>0</td>\n",
       "      <td>3449</td>\n",
       "      <td>3579</td>\n",
       "      <td>130</td>\n",
       "      <td>53003</td>\n",
       "      <td>1228.0</td>\n",
       "      <td>1228.0</td>\n",
       "      <td>53003.0</td>\n",
       "      <td>8</td>\n",
       "      <td>3449</td>\n",
       "      <td>3579</td>\n",
       "      <td>1228</td>\n",
       "    </tr>\n",
       "    <tr>\n",
       "      <th>8</th>\n",
       "      <td>com.facebook.katana</td>\n",
       "      <td>0</td>\n",
       "      <td>3579</td>\n",
       "      <td>3669</td>\n",
       "      <td>90</td>\n",
       "      <td>19968</td>\n",
       "      <td>0.0</td>\n",
       "      <td>0.0</td>\n",
       "      <td>53003.0</td>\n",
       "      <td>9</td>\n",
       "      <td>3579</td>\n",
       "      <td>3669</td>\n",
       "      <td>0</td>\n",
       "    </tr>\n",
       "    <tr>\n",
       "      <th>9</th>\n",
       "      <td>com.whatsapp</td>\n",
       "      <td>0</td>\n",
       "      <td>3669</td>\n",
       "      <td>3926</td>\n",
       "      <td>257</td>\n",
       "      <td>53003</td>\n",
       "      <td>0.0</td>\n",
       "      <td>0.0</td>\n",
       "      <td>19968.0</td>\n",
       "      <td>10</td>\n",
       "      <td>3669</td>\n",
       "      <td>3926</td>\n",
       "      <td>0</td>\n",
       "    </tr>\n",
       "    <tr>\n",
       "      <th>10</th>\n",
       "      <td>bg.abv.andro.emailapp</td>\n",
       "      <td>0</td>\n",
       "      <td>3689</td>\n",
       "      <td>3699</td>\n",
       "      <td>10</td>\n",
       "      <td>2340</td>\n",
       "      <td>-237.0</td>\n",
       "      <td>0.0</td>\n",
       "      <td>53003.0</td>\n",
       "      <td>10</td>\n",
       "      <td>3669</td>\n",
       "      <td>3926</td>\n",
       "      <td>0</td>\n",
       "    </tr>\n",
       "    <tr>\n",
       "      <th>11</th>\n",
       "      <td>com.android.chrome</td>\n",
       "      <td>0</td>\n",
       "      <td>3926</td>\n",
       "      <td>4076</td>\n",
       "      <td>150</td>\n",
       "      <td>7649</td>\n",
       "      <td>227.0</td>\n",
       "      <td>227.0</td>\n",
       "      <td>2340.0</td>\n",
       "      <td>11</td>\n",
       "      <td>3926</td>\n",
       "      <td>4076</td>\n",
       "      <td>0</td>\n",
       "    </tr>\n",
       "    <tr>\n",
       "      <th>12</th>\n",
       "      <td>com.whatsapp</td>\n",
       "      <td>0</td>\n",
       "      <td>4076</td>\n",
       "      <td>4742</td>\n",
       "      <td>666</td>\n",
       "      <td>53003</td>\n",
       "      <td>0.0</td>\n",
       "      <td>0.0</td>\n",
       "      <td>7649.0</td>\n",
       "      <td>12</td>\n",
       "      <td>4076</td>\n",
       "      <td>4742</td>\n",
       "      <td>0</td>\n",
       "    </tr>\n",
       "    <tr>\n",
       "      <th>13</th>\n",
       "      <td>com.facebook.katana</td>\n",
       "      <td>0</td>\n",
       "      <td>27820</td>\n",
       "      <td>27830</td>\n",
       "      <td>10</td>\n",
       "      <td>19968</td>\n",
       "      <td>23078.0</td>\n",
       "      <td>23078.0</td>\n",
       "      <td>53003.0</td>\n",
       "      <td>13</td>\n",
       "      <td>27820</td>\n",
       "      <td>27830</td>\n",
       "      <td>23078</td>\n",
       "    </tr>\n",
       "    <tr>\n",
       "      <th>14</th>\n",
       "      <td>com.viber.voip</td>\n",
       "      <td>0</td>\n",
       "      <td>27830</td>\n",
       "      <td>27860</td>\n",
       "      <td>30</td>\n",
       "      <td>51657</td>\n",
       "      <td>0.0</td>\n",
       "      <td>0.0</td>\n",
       "      <td>19968.0</td>\n",
       "      <td>14</td>\n",
       "      <td>27830</td>\n",
       "      <td>27860</td>\n",
       "      <td>0</td>\n",
       "    </tr>\n",
       "    <tr>\n",
       "      <th>15</th>\n",
       "      <td>com.whatsapp</td>\n",
       "      <td>0</td>\n",
       "      <td>27870</td>\n",
       "      <td>27891</td>\n",
       "      <td>21</td>\n",
       "      <td>53003</td>\n",
       "      <td>10.0</td>\n",
       "      <td>10.0</td>\n",
       "      <td>51657.0</td>\n",
       "      <td>15</td>\n",
       "      <td>27870</td>\n",
       "      <td>27891</td>\n",
       "      <td>10</td>\n",
       "    </tr>\n",
       "    <tr>\n",
       "      <th>16</th>\n",
       "      <td>com.facebook.katana</td>\n",
       "      <td>0</td>\n",
       "      <td>28696</td>\n",
       "      <td>28766</td>\n",
       "      <td>70</td>\n",
       "      <td>19968</td>\n",
       "      <td>805.0</td>\n",
       "      <td>805.0</td>\n",
       "      <td>53003.0</td>\n",
       "      <td>16</td>\n",
       "      <td>28696</td>\n",
       "      <td>28766</td>\n",
       "      <td>805</td>\n",
       "    </tr>\n",
       "    <tr>\n",
       "      <th>17</th>\n",
       "      <td>com.google.android.apps.translate</td>\n",
       "      <td>0</td>\n",
       "      <td>28766</td>\n",
       "      <td>28906</td>\n",
       "      <td>140</td>\n",
       "      <td>23926</td>\n",
       "      <td>0.0</td>\n",
       "      <td>0.0</td>\n",
       "      <td>19968.0</td>\n",
       "      <td>17</td>\n",
       "      <td>28766</td>\n",
       "      <td>29777</td>\n",
       "      <td>0</td>\n",
       "    </tr>\n",
       "    <tr>\n",
       "      <th>18</th>\n",
       "      <td>com.facebook.katana</td>\n",
       "      <td>0</td>\n",
       "      <td>28836</td>\n",
       "      <td>29777</td>\n",
       "      <td>941</td>\n",
       "      <td>19968</td>\n",
       "      <td>-70.0</td>\n",
       "      <td>0.0</td>\n",
       "      <td>23926.0</td>\n",
       "      <td>17</td>\n",
       "      <td>28766</td>\n",
       "      <td>29777</td>\n",
       "      <td>0</td>\n",
       "    </tr>\n",
       "    <tr>\n",
       "      <th>19</th>\n",
       "      <td>com.sonymobile.moviecreator.rmm</td>\n",
       "      <td>0</td>\n",
       "      <td>29777</td>\n",
       "      <td>29817</td>\n",
       "      <td>40</td>\n",
       "      <td>45345</td>\n",
       "      <td>0.0</td>\n",
       "      <td>0.0</td>\n",
       "      <td>19968.0</td>\n",
       "      <td>18</td>\n",
       "      <td>29777</td>\n",
       "      <td>29817</td>\n",
       "      <td>0</td>\n",
       "    </tr>\n",
       "  </tbody>\n",
       "</table>\n",
       "</div>"
      ],
      "text/plain": [
       "                         package_name  user_id  start_time  end_time  \\\n",
       "0                 com.facebook.katana        0           0       441   \n",
       "1                  com.android.chrome        0         441      1012   \n",
       "2      com.google.android.apps.photos        0        1012      1032   \n",
       "3                 com.facebook.katana        0        1042      1502   \n",
       "4                        com.whatsapp        0        1512      1572   \n",
       "5          com.google.android.youtube        0        1582      1712   \n",
       "6                        com.whatsapp        0        1712      2221   \n",
       "7                        com.whatsapp        0        3449      3579   \n",
       "8                 com.facebook.katana        0        3579      3669   \n",
       "9                        com.whatsapp        0        3669      3926   \n",
       "10              bg.abv.andro.emailapp        0        3689      3699   \n",
       "11                 com.android.chrome        0        3926      4076   \n",
       "12                       com.whatsapp        0        4076      4742   \n",
       "13                com.facebook.katana        0       27820     27830   \n",
       "14                     com.viber.voip        0       27830     27860   \n",
       "15                       com.whatsapp        0       27870     27891   \n",
       "16                com.facebook.katana        0       28696     28766   \n",
       "17  com.google.android.apps.translate        0       28766     28906   \n",
       "18                com.facebook.katana        0       28836     29777   \n",
       "19    com.sonymobile.moviecreator.rmm        0       29777     29817   \n",
       "\n",
       "    time_spend  app_code  sleep_time  sleep_time_modified  previous_app_code  \\\n",
       "0          441     19968         0.0                  0.0                NaN   \n",
       "1          571      7649         0.0                  0.0            19968.0   \n",
       "2           20     23916         0.0                  0.0             7649.0   \n",
       "3          460     19968        10.0                 10.0            23916.0   \n",
       "4           60     53003        10.0                 10.0            19968.0   \n",
       "5          130     23967        10.0                 10.0            53003.0   \n",
       "6          509     53003         0.0                  0.0            23967.0   \n",
       "7          130     53003      1228.0               1228.0            53003.0   \n",
       "8           90     19968         0.0                  0.0            53003.0   \n",
       "9          257     53003         0.0                  0.0            19968.0   \n",
       "10          10      2340      -237.0                  0.0            53003.0   \n",
       "11         150      7649       227.0                227.0             2340.0   \n",
       "12         666     53003         0.0                  0.0             7649.0   \n",
       "13          10     19968     23078.0              23078.0            53003.0   \n",
       "14          30     51657         0.0                  0.0            19968.0   \n",
       "15          21     53003        10.0                 10.0            51657.0   \n",
       "16          70     19968       805.0                805.0            53003.0   \n",
       "17         140     23926         0.0                  0.0            19968.0   \n",
       "18         941     19968       -70.0                  0.0            23926.0   \n",
       "19          40     45345         0.0                  0.0            19968.0   \n",
       "\n",
       "    sequence_number  sequence_Start_time  sequence_end_time  \\\n",
       "0                 1                    0                441   \n",
       "1                 2                  441               1012   \n",
       "2                 3                 1012               1032   \n",
       "3                 4                 1042               1502   \n",
       "4                 5                 1512               1572   \n",
       "5                 6                 1582               1712   \n",
       "6                 7                 1712               2221   \n",
       "7                 8                 3449               3579   \n",
       "8                 9                 3579               3669   \n",
       "9                10                 3669               3926   \n",
       "10               10                 3669               3926   \n",
       "11               11                 3926               4076   \n",
       "12               12                 4076               4742   \n",
       "13               13                27820              27830   \n",
       "14               14                27830              27860   \n",
       "15               15                27870              27891   \n",
       "16               16                28696              28766   \n",
       "17               17                28766              29777   \n",
       "18               17                28766              29777   \n",
       "19               18                29777              29817   \n",
       "\n",
       "    sleep_time_updated  \n",
       "0                    0  \n",
       "1                    0  \n",
       "2                    0  \n",
       "3                   10  \n",
       "4                   10  \n",
       "5                   10  \n",
       "6                    0  \n",
       "7                 1228  \n",
       "8                    0  \n",
       "9                    0  \n",
       "10                   0  \n",
       "11                   0  \n",
       "12                   0  \n",
       "13               23078  \n",
       "14                   0  \n",
       "15                  10  \n",
       "16                 805  \n",
       "17                   0  \n",
       "18                   0  \n",
       "19                   0  "
      ]
     },
     "execution_count": 92,
     "metadata": {},
     "output_type": "execute_result"
    }
   ],
   "source": [
    "data2.head(20)"
   ]
  },
  {
   "cell_type": "markdown",
   "metadata": {},
   "source": [
    "# Continued overall perspective. \n",
    "With the redefined sleep times, the exploration from the overall perspective is continued."
   ]
  },
  {
   "cell_type": "code",
   "execution_count": 2,
   "metadata": {},
   "outputs": [],
   "source": [
    "data=pd.read_csv('sorted_merged_sleep_time_recalculated.csv')"
   ]
  },
  {
   "cell_type": "code",
   "execution_count": 5,
   "metadata": {},
   "outputs": [],
   "source": [
    "data=data.drop(['sleep_time','sleep_time_modified','time_spend'],axis=1)"
   ]
  },
  {
   "cell_type": "markdown",
   "metadata": {},
   "source": [
    "## sleep time distribution.\n",
    "The first step is to take a look at the distribution of the updated sleep time."
   ]
  },
  {
   "cell_type": "code",
   "execution_count": null,
   "metadata": {},
   "outputs": [],
   "source": [
    "print(\"Number of observerations with 0 sleep time associated: \", data2[data2.sleep_time_updated==0].shape[0])\n",
    "print(\"Procent of observerations with 0 sleep time associated: \", data2[data2.sleep_time_updated==0].shape[0]/data2.shape[0]*100)"
   ]
  },
  {
   "cell_type": "markdown",
   "metadata": {},
   "source": [
    "The time features are updated from seconds to minutes."
   ]
  },
  {
   "cell_type": "code",
   "execution_count": 6,
   "metadata": {},
   "outputs": [],
   "source": [
    "data['start_time']=data.start_time/60"
   ]
  },
  {
   "cell_type": "code",
   "execution_count": 7,
   "metadata": {},
   "outputs": [],
   "source": [
    "data['end_time']=data.end_time/60"
   ]
  },
  {
   "cell_type": "code",
   "execution_count": 8,
   "metadata": {},
   "outputs": [],
   "source": [
    "data['sleep_time_updated']=data.sleep_time_updated/60"
   ]
  },
  {
   "cell_type": "markdown",
   "metadata": {},
   "source": [
    "Now we take a look at the overall destribution."
   ]
  },
  {
   "cell_type": "code",
   "execution_count": 9,
   "metadata": {},
   "outputs": [
    {
     "data": {
      "image/png": "[encoded data removed]",
      "text/plain": [
       "<Figure size 432x288 with 1 Axes>"
      ]
     },
     "metadata": {
      "needs_background": "light"
     },
     "output_type": "display_data"
    }
   ],
   "source": [
    "plt.hist(data[data.sleep_time_updated>0].sleep_time_updated,bins=20)\n",
    "plt.xlabel('time in minutes')\n",
    "plt.yscale('log')"
   ]
  },
  {
   "cell_type": "markdown",
   "metadata": {},
   "source": [
    "Again we see that most of the sleep time is at the early part of the interval\\\n",
    "We now take at look at the sleep time less than 8 hours, as this is considered an indication that you are sleeping, and there should be there."
   ]
  },
  {
   "cell_type": "code",
   "execution_count": 10,
   "metadata": {},
   "outputs": [
    {
     "data": {
      "image/png": "[encoded data removed]",
      "text/plain": [
       "<Figure size 432x288 with 1 Axes>"
      ]
     },
     "metadata": {
      "needs_background": "light"
     },
     "output_type": "display_data"
    }
   ],
   "source": [
    "plt.hist(data[(data.sleep_time_updated>0)&(data.sleep_time_updated<8*60)].sleep_time_updated,bins=20)\n",
    "plt.xlabel('time in minutes')\n",
    "plt.yscale('log')"
   ]
  },
  {
   "cell_type": "code",
   "execution_count": 11,
   "metadata": {},
   "outputs": [
    {
     "name": "stdout",
     "output_type": "stream",
     "text": [
      "median:  7.65\n",
      "95-quantile:  71.41666666666667\n"
     ]
    }
   ],
   "source": [
    "print(\"median: \",data[(data.sleep_time_updated>0)&(data.sleep_time_updated<8*60)].sleep_time_updated.median())\n",
    "print(\"95-quantile: \",data[(data.sleep_time_updated>0)&(data.sleep_time_updated<8*60)].sleep_time_updated.quantile(q=0.90))"
   ]
  },
  {
   "cell_type": "markdown",
   "metadata": {},
   "source": [
    "Based on the quantiles the threeshold for sessions are set to 8 min."
   ]
  },
  {
   "cell_type": "code",
   "execution_count": 12,
   "metadata": {},
   "outputs": [],
   "source": [
    "data['new_session'] = data.groupby(['user_id']).sleep_time_updated.apply(lambda s: s>8)"
   ]
  },
  {
   "cell_type": "code",
   "execution_count": 13,
   "metadata": {},
   "outputs": [],
   "source": [
    "data['session'] = data.groupby(['user_id']).new_session.cumsum().astype('int')"
   ]
  },
  {
   "cell_type": "code",
   "execution_count": 14,
   "metadata": {},
   "outputs": [],
   "source": [
    "data.to_csv(\"sorted_merged_overlap_removed_with_sessions.csv\",index=False)"
   ]
  },
  {
   "cell_type": "markdown",
   "metadata": {},
   "source": [
    "# Distribution of sequece lengths for chosen threshold\n",
    "In this section the distribution of the number of apps (sequence length) in each session."
   ]
  },
  {
   "cell_type": "code",
   "execution_count": 19,
   "metadata": {},
   "outputs": [],
   "source": [
    "sequence_lengths=data.groupby(['user_id','session']).app_code.count().values"
   ]
  },
  {
   "cell_type": "code",
   "execution_count": 30,
   "metadata": {},
   "outputs": [
    {
     "data": {
      "image/png": "[encoded data removed]",
      "text/plain": [
       "<Figure size 432x288 with 1 Axes>"
      ]
     },
     "metadata": {
      "needs_background": "light"
     },
     "output_type": "display_data"
    }
   ],
   "source": [
    "plt.hist(sequence_lengths,bins=range(min(sequence_lengths), max(sequence_lengths) + 1, 1))\n",
    "plt.yscale('log')\n",
    "plt.xlabel('number of apps in sessions')\n",
    "plt.show()"
   ]
  },
  {
   "cell_type": "markdown",
   "metadata": {},
   "source": [
    "It is clear from the distribution plot that while most of the sessions are short, the chossen treshold also has created some very long sessions. An app usage sequence of for instance 600 apps, does for instance not seem realistic. Based on the below quantile it is however indicated that only very few observations falls within this category."
   ]
  },
  {
   "cell_type": "code",
   "execution_count": 50,
   "metadata": {},
   "outputs": [
    {
     "name": "stdout",
     "output_type": "stream",
     "text": [
      "median session lengths:  2.0\n",
      "99-quantile of session lengths:  23.0\n"
     ]
    }
   ],
   "source": [
    "print(\"median session lengths: \",np.median(sequence_lengths))\n",
    "print(\"99-quantile of session lengths: \",np.quantile(sequence_lengths,q=0.99))"
   ]
  },
  {
   "cell_type": "markdown",
   "metadata": {},
   "source": [
    "We now take a look at how the sequence lengths are distributed, within the 99-quantile."
   ]
  },
  {
   "cell_type": "code",
   "execution_count": 40,
   "metadata": {},
   "outputs": [
    {
     "data": {
      "image/png": "[encoded data removed]",
      "text/plain": [
       "<Figure size 432x288 with 1 Axes>"
      ]
     },
     "metadata": {
      "needs_background": "light"
     },
     "output_type": "display_data"
    }
   ],
   "source": [
    "plt.hist(sequence_lengths[sequence_lengths<=np.quantile(sequence_lengths,q=0.99)],bins=range(1, 23 + 1, 1))\n",
    "plt.xlabel('number of apps in sessions')\n",
    "plt.show()"
   ]
  },
  {
   "cell_type": "markdown",
   "metadata": {},
   "source": [
    "As expected it becomes even more evident that the majority of sessions are short, and the most common length is 1. However to get a more full understanding we take a look at how large a part of the sessions only contain one app."
   ]
  },
  {
   "cell_type": "code",
   "execution_count": 49,
   "metadata": {},
   "outputs": [
    {
     "name": "stdout",
     "output_type": "stream",
     "text": [
      "procent of sessions with length one:  36.10294627292334\n",
      "number of sessions:  60393794\n"
     ]
    }
   ],
   "source": [
    "print(\"procent of sessions with length one: \",sequence_lengths[sequence_lengths==1].size/sequence_lengths.size*100)\n",
    "print(\"number of sessions: \",sequence_lengths.size)"
   ]
  },
  {
   "cell_type": "markdown",
   "metadata": {},
   "source": [
    "While the distribution look reasonable, and it appear realistic that a large number of the sessions only contain one app usage, there is still the unrealistic number for sequence lengths which appear unrealistic. When comparing with what have been done in other projects concerned with app usage, similar definition of use session have been applied. However for comparison there thress hold for sleep time defining the start of a new seesion is much low, either something opened right after, or only 30 seconds. It is therefore worth considering if the 8 min. thresshold is to high and allow for unrealistic patterns. While a potential lower thresshold will result in more session of length one, more relevant result for our aim of intrest might be optained by only applying the algorithm to sessions of length more than two. However revevaluation the thresshold, would also mean that we should reevaluate the limit of the same observations should be combined. In regard to this is it worth considering if the combination should happen after an over all thresshold for defining sesions have been determined, and there after simply combining all observations which are right after each other within the same session."
   ]
  },
  {
   "cell_type": "markdown",
   "metadata": {},
   "source": [
    "# Combining repeating apps after defining the sessions."
   ]
  },
  {
   "cell_type": "code",
   "execution_count": 2,
   "metadata": {},
   "outputs": [],
   "source": [
    "data=pd.read_csv('sorted_coded_data.csv')"
   ]
  },
  {
   "cell_type": "markdown",
   "metadata": {},
   "source": [
    "Again the sleep time must be recalculated to take into acount overlap in use of apps.\n",
    "\n",
    "Remember to run the function definition of join_times."
   ]
  },
  {
   "cell_type": "code",
   "execution_count": 8,
   "metadata": {},
   "outputs": [],
   "source": [
    "data['sequence_number']=data.groupby('user_id').apply(join_times).reset_index().drop(['user_id','level_1'], axis=1).values\n",
    "data=pd.merge(data,data.groupby(['user_id','sequence_number']).agg({'start_time':'min','end_time':'max'}).reset_index().rename(columns={'end_time':'sequence_end_time','start_time':'sequence_Start_time'}),how='left', on=['user_id','sequence_number'])\n",
    "data['sleep_time']=data.start_time-data.sequence_end_time.shift(1,fill_value=0)\n",
    "data.loc[data[data['sleep_time']<0].index,'sleep_time']=0"
   ]
  },
  {
   "cell_type": "code",
   "execution_count": 13,
   "metadata": {},
   "outputs": [
    {
     "name": "stdout",
     "output_type": "stream",
     "text": [
      "Number of observations:  254450422\n"
     ]
    }
   ],
   "source": [
    "print(\"Number of observations: \",data.shape[0])"
   ]
  },
  {
   "cell_type": "markdown",
   "metadata": {},
   "source": [
    "## Sleep time distibution\n",
    "Out of curiosity we take a look at the sleep time distribution, which should varry slightly since no observations have merged at this point"
   ]
  },
  {
   "cell_type": "code",
   "execution_count": 23,
   "metadata": {},
   "outputs": [
    {
     "name": "stdout",
     "output_type": "stream",
     "text": [
      "Procent of observation with no (zero) sleep time associated:  40.567149462224116\n",
      "Longest sleep time:  89.44747685185185\n"
     ]
    }
   ],
   "source": [
    "print(\"Procent of observation with no (zero) sleep time associated: \",data[data.sleep_time==0].shape[0]/data.shape[0]*100)\n",
    "print(\"Longest sleep time: \",data.sleep_time.max()/60/60/24)"
   ]
  },
  {
   "cell_type": "code",
   "execution_count": 27,
   "metadata": {},
   "outputs": [
    {
     "data": {
      "image/png": "[encoded data removed]",
      "text/plain": [
       "<Figure size 432x288 with 1 Axes>"
      ]
     },
     "metadata": {
      "needs_background": "light"
     },
     "output_type": "display_data"
    }
   ],
   "source": [
    "plt.hist(data.sleep_time/60/60/24,bins=range(0, 90 + 1, 1))\n",
    "plt.xlabel('sleep time in days')\n",
    "plt.yscale('log')\n",
    "plt.title(\"Distribution of sleep time\")\n",
    "plt.show()"
   ]
  },
  {
   "cell_type": "markdown",
   "metadata": {},
   "source": [
    "Again we take a look at the distrbution of sleep times less than 8 hours."
   ]
  },
  {
   "cell_type": "code",
   "execution_count": 44,
   "metadata": {},
   "outputs": [
    {
     "data": {
      "image/png": "[encoded data removed]",
      "text/plain": [
       "<Figure size 432x288 with 1 Axes>"
      ]
     },
     "metadata": {
      "needs_background": "light"
     },
     "output_type": "display_data"
    }
   ],
   "source": [
    "plt.hist(data[data.sleep_time<8*60*60].sleep_time/60,bins=range(0, 480 + 1, 5))\n",
    "plt.xlabel('sleep time in minutess')\n",
    "plt.yscale('log')\n",
    "plt.title(\"Distribution of sleep time less than 8 hours\")\n",
    "plt.show()"
   ]
  },
  {
   "cell_type": "code",
   "execution_count": 46,
   "metadata": {},
   "outputs": [
    {
     "data": {
      "image/png": "[encoded data removed]",
      "text/plain": [
       "<Figure size 432x288 with 1 Axes>"
      ]
     },
     "metadata": {
      "needs_background": "light"
     },
     "output_type": "display_data"
    }
   ],
   "source": [
    "plt.hist(data[(data.sleep_time<8*60*60)&(data.sleep_time>0)].sleep_time/60,bins=range(0, 480 + 1, 5))\n",
    "plt.xlabel('sleep time in minutess')\n",
    "plt.yscale('log')\n",
    "plt.title(\"Distribution of sleep time less than 8 hours\")\n",
    "plt.show()"
   ]
  },
  {
   "cell_type": "code",
   "execution_count": 48,
   "metadata": {},
   "outputs": [
    {
     "name": "stdout",
     "output_type": "stream",
     "text": [
      "media of sleep times non-zero sleep times less than 8 hours:  4.883333333333334 min\n"
     ]
    }
   ],
   "source": [
    "print(\"media of sleep times non-zero sleep times less than 8 hours: \",data[(data.sleep_time<8*60*60) & (data.sleep_time>0)].sleep_time.median()/60,\"min\")"
   ]
  },
  {
   "cell_type": "code",
   "execution_count": 59,
   "metadata": {},
   "outputs": [
    {
     "name": "stdout",
     "output_type": "stream",
     "text": [
      "median of sleep times less than 8 hours:  20.0 sec\n"
     ]
    }
   ],
   "source": [
    "print(\"median of sleep times less than 8 hours: \",data[data.sleep_time<8*60*60].sleep_time.median(),\"sec\")"
   ]
  },
  {
   "cell_type": "markdown",
   "metadata": {},
   "source": [
    "With a sleep time of 20 sec, which is much lower than before, and a lot closer to what we saw for similar projects, this is used as the threshold for defining session."
   ]
  },
  {
   "cell_type": "markdown",
   "metadata": {},
   "source": [
    "## Defining sessions."
   ]
  },
  {
   "cell_type": "code",
   "execution_count": 61,
   "metadata": {},
   "outputs": [],
   "source": [
    "data['new_session'] = data.groupby(['user_id']).sleep_time.apply(lambda s: s>20)\n",
    "data['session'] = data.groupby(['user_id']).new_session.cumsum().astype('int')"
   ]
  },
  {
   "cell_type": "code",
   "execution_count": 72,
   "metadata": {},
   "outputs": [
    {
     "name": "stdout",
     "output_type": "stream",
     "text": [
      "Number sessions:  125704179\n"
     ]
    }
   ],
   "source": [
    "print(\"Number sessions: \",data.groupby(['user_id']).session.nunique().sum())"
   ]
  },
  {
   "cell_type": "markdown",
   "metadata": {},
   "source": [
    "### Distribution of session lengths"
   ]
  },
  {
   "cell_type": "code",
   "execution_count": 89,
   "metadata": {},
   "outputs": [
    {
     "data": {
      "image/png": "[encoded data removed]",
      "text/plain": [
       "<Figure size 432x288 with 1 Axes>"
      ]
     },
     "metadata": {
      "needs_background": "light"
     },
     "output_type": "display_data"
    }
   ],
   "source": [
    "plt.hist(data.groupby(['user_id','session']).size(),bins=range(1,data.groupby(['user_id','session']).size().max()+1,1))\n",
    "plt.xlabel('number of apps in sessesion')\n",
    "plt.yscale('log')\n",
    "plt.title(\"Distribution of length of sessions\")\n",
    "plt.show()"
   ]
  },
  {
   "cell_type": "code",
   "execution_count": 91,
   "metadata": {},
   "outputs": [
    {
     "name": "stdout",
     "output_type": "stream",
     "text": [
      "procent of session with only one app:  55.033392326598786\n"
     ]
    }
   ],
   "source": [
    "print(\"procent of session with only one app: \",(data.groupby(['user_id','session']).size()==1).sum()/data.groupby(['user_id']).session.nunique().sum()*100)"
   ]
  },
  {
   "cell_type": "code",
   "execution_count": 92,
   "metadata": {},
   "outputs": [
    {
     "name": "stdout",
     "output_type": "stream",
     "text": [
      "75-quantile of session lengths:  2.0\n"
     ]
    }
   ],
   "source": [
    "print(\"75-quantile of session lengths: \",data.groupby(['user_id','session']).size().quantile(q=0.75))"
   ]
  },
  {
   "cell_type": "markdown",
   "metadata": {},
   "source": [
    "It is clear to see that with the new time restriction a lot of the sequences are very short. This number is expected to increase further as same apps are merged in the next section"
   ]
  },
  {
   "cell_type": "code",
   "execution_count": 93,
   "metadata": {},
   "outputs": [],
   "source": [
    "data.to_csv(\"sorted_coded_session_20s.csv\",index=False)"
   ]
  },
  {
   "cell_type": "markdown",
   "metadata": {},
   "source": [
    "## Combining observations of where the same app is used "
   ]
  },
  {
   "cell_type": "code",
   "execution_count": 2,
   "metadata": {},
   "outputs": [],
   "source": [
    "data=pd.read_csv(\"sorted_coded_session_20s.csv\")"
   ]
  },
  {
   "cell_type": "code",
   "execution_count": 3,
   "metadata": {},
   "outputs": [],
   "source": [
    "data[\"previous_app_code\"]=data.groupby([\"user_id\",\"session\"]).app_code.shift(1)"
   ]
  },
  {
   "cell_type": "code",
   "execution_count": 5,
   "metadata": {},
   "outputs": [
    {
     "name": "stdout",
     "output_type": "stream",
     "text": [
      "Procent of apps opened right after the same app, in the  1.5072358575219813\n"
     ]
    }
   ],
   "source": [
    "print(\"Procent of apps opened right after the same app, in the \",data[data.app_code==data.previous_app_code].shape[0]/data.shape[0]*100)"
   ]
  },
  {
   "cell_type": "code",
   "execution_count": 6,
   "metadata": {},
   "outputs": [],
   "source": [
    "data2=data.copy()"
   ]
  },
  {
   "cell_type": "code",
   "execution_count": 10,
   "metadata": {},
   "outputs": [],
   "source": [
    "data2=data2[(data2.previous_app_code==data2.app_code) | (data2.app_code==data2.groupby(['user_id','session']).app_code.shift(-1))]"
   ]
  },
  {
   "cell_type": "code",
   "execution_count": 11,
   "metadata": {},
   "outputs": [],
   "source": [
    "data2['new_event'] = data2.previous_app_code!=data2.app_code"
   ]
  },
  {
   "cell_type": "code",
   "execution_count": 15,
   "metadata": {},
   "outputs": [],
   "source": [
    "data2['event'] = data2.groupby(['user_id','session']).new_event.cumsum().astype('int')"
   ]
  },
  {
   "cell_type": "code",
   "execution_count": 21,
   "metadata": {},
   "outputs": [],
   "source": [
    "data2_grouped = data2.groupby(['user_id', 'session','event']).agg({'end_time':'max'})\n",
    "\n",
    "data2_grouped = data2_grouped.reset_index()\n",
    "\n",
    "data2_grouped = data2_grouped.rename(columns={'end_time':'event_end_time'})\n",
    "\n",
    "data3 = pd.merge(data2, data2_grouped, how='left', on=['user_id', 'session','event'])\n",
    "\n",
    "data3 = data3[data3['end_time'] == data3['event_end_time']]\n",
    "\n",
    "#because in the same event more apps can be closed at once.\n",
    "data3=data3.drop_duplicates(subset=['user_id', 'session','event'], keep='last')"
   ]
  },
  {
   "cell_type": "code",
   "execution_count": 24,
   "metadata": {},
   "outputs": [],
   "source": [
    "max_index=data2.iloc[data3.index].index"
   ]
  },
  {
   "cell_type": "code",
   "execution_count": 27,
   "metadata": {},
   "outputs": [],
   "source": [
    "data2_grouped = data2.groupby(['user_id', 'session','event']).agg({'start_time':'min'})\n",
    "\n",
    "data2_grouped = data2_grouped.reset_index()\n",
    "\n",
    "data2_grouped = data2_grouped.rename(columns={'start_time':'event_start_time'})\n",
    "\n",
    "data3 = pd.merge(data2, data2_grouped, how='left', on=['user_id', 'session','event'])\n",
    "\n",
    "data3 = data3[data3['start_time'] == data3['event_start_time']]\n",
    "\n",
    "#because in the same event more apps can be opened at once.\n",
    "data3=data3.drop_duplicates(subset=['user_id', 'session','event'], keep='last')"
   ]
  },
  {
   "cell_type": "code",
   "execution_count": 28,
   "metadata": {},
   "outputs": [],
   "source": [
    "min_index=data2.iloc[data3.index].index"
   ]
  },
  {
   "cell_type": "code",
   "execution_count": 29,
   "metadata": {},
   "outputs": [
    {
     "name": "stdout",
     "output_type": "stream",
     "text": [
      "number of combined events:  3212643\n",
      "number of found min indices:  3212643\n",
      "number of found max indices:  3212643\n"
     ]
    }
   ],
   "source": [
    "print(\"number of combined events: \",data2.groupby(['user_id','session']).agg({\"event\": \"nunique\"}).event.sum())\n",
    "print(\"number of found min indices: \",len(min_index))\n",
    "print(\"number of found max indices: \",len(max_index))"
   ]
  },
  {
   "cell_type": "code",
   "execution_count": 30,
   "metadata": {},
   "outputs": [],
   "source": [
    "data3=data.copy()"
   ]
  },
  {
   "cell_type": "code",
   "execution_count": 31,
   "metadata": {},
   "outputs": [],
   "source": [
    "data3.loc[min_index,\"end_time\"]=data3.loc[max_index].set_index(min_index).end_time"
   ]
  },
  {
   "cell_type": "code",
   "execution_count": 40,
   "metadata": {},
   "outputs": [],
   "source": [
    "data3=data3.drop(set(data2.index)-set(min_index))"
   ]
  },
  {
   "cell_type": "code",
   "execution_count": 41,
   "metadata": {},
   "outputs": [
    {
     "data": {
      "text/plain": [
       "True"
      ]
     },
     "execution_count": 41,
     "metadata": {},
     "output_type": "execute_result"
    }
   ],
   "source": [
    "len(data.index)-(len(data2.index)-len(min_index))==len(data3.index)"
   ]
  },
  {
   "cell_type": "code",
   "execution_count": 43,
   "metadata": {},
   "outputs": [],
   "source": [
    "data3['time_spend']=data3['end_time']-data3['start_time']"
   ]
  },
  {
   "cell_type": "code",
   "execution_count": 46,
   "metadata": {},
   "outputs": [],
   "source": [
    "data3=data3.drop('previous_app_code',axis=1)"
   ]
  },
  {
   "cell_type": "code",
   "execution_count": 48,
   "metadata": {},
   "outputs": [],
   "source": [
    "data3['sleep_time']=data3.start_time-data3.sequence_end_time.shift(1,fill_value=0)\n",
    "data3.loc[data3[data3['sleep_time']<0].index,'sleep_time']=0"
   ]
  },
  {
   "cell_type": "code",
   "execution_count": 54,
   "metadata": {},
   "outputs": [],
   "source": [
    "data3=data3.reset_index(drop=True)"
   ]
  },
  {
   "cell_type": "code",
   "execution_count": 52,
   "metadata": {},
   "outputs": [
    {
     "name": "stdout",
     "output_type": "stream",
     "text": [
      "number of observatiosn before merge:  254450422\n",
      "number of observatiosn after merge:  250615254\n"
     ]
    }
   ],
   "source": [
    "print(\"number of observatiosn before merge: \",data.shape[0])\n",
    "print(\"number of observatiosn after merge: \",data3.shape[0])"
   ]
  },
  {
   "cell_type": "code",
   "execution_count": 55,
   "metadata": {},
   "outputs": [],
   "source": [
    "data3.to_csv(\"sorted_coded_session_20s_merged.csv\",index=False)"
   ]
  },
  {
   "cell_type": "code",
   "execution_count": 2,
   "metadata": {},
   "outputs": [],
   "source": [
    "data3=pd.read_csv(\"sorted_coded_session_20s_merged.csv\")"
   ]
  },
  {
   "cell_type": "markdown",
   "metadata": {},
   "source": [
    "### distibution of sequence lengths after merge"
   ]
  },
  {
   "cell_type": "code",
   "execution_count": 57,
   "metadata": {},
   "outputs": [
    {
     "data": {
      "image/png": "[encoded data removed]",
      "text/plain": [
       "<Figure size 432x288 with 1 Axes>"
      ]
     },
     "metadata": {
      "needs_background": "light"
     },
     "output_type": "display_data"
    }
   ],
   "source": [
    "plt.hist(data3.groupby(['user_id','session']).size(),bins=range(1,data3.groupby(['user_id','session']).size().max()+1,1))\n",
    "plt.xlabel('number of apps in sessesion')\n",
    "plt.yscale('log')\n",
    "plt.title(\"Distribution of length of sessions\")\n",
    "plt.show()"
   ]
  },
  {
   "cell_type": "code",
   "execution_count": 77,
   "metadata": {},
   "outputs": [
    {
     "name": "stdout",
     "output_type": "stream",
     "text": [
      "procent of sessions with length one:  55.12311885828394\n",
      "number of sessions:  125704179\n"
     ]
    }
   ],
   "source": [
    "print(\"procent of sessions with length one: \",((data3.groupby(['user_id','session']).size())==1).sum()/data3.groupby(['user_id','session']).size().shape[0]*100)\n",
    "print(\"number of sessions: \",data3.groupby(['user_id','session']).size().shape[0])"
   ]
  },
  {
   "cell_type": "markdown",
   "metadata": {},
   "source": [
    "We see that this is on a similar level as before the merge."
   ]
  },
  {
   "cell_type": "markdown",
   "metadata": {},
   "source": [
    "### Filtering out the sessions with only one app."
   ]
  },
  {
   "cell_type": "code",
   "execution_count": 3,
   "metadata": {},
   "outputs": [],
   "source": [
    "data4=(data3.groupby(['user_id', 'session']).agg({'app_code':'size'})).reset_index().rename(columns={'app_code':'session_length'})"
   ]
  },
  {
   "cell_type": "code",
   "execution_count": 4,
   "metadata": {},
   "outputs": [],
   "source": [
    "data5=pd.merge(data3, data4, how='left', on=['user_id','session'])"
   ]
  },
  {
   "cell_type": "code",
   "execution_count": 5,
   "metadata": {},
   "outputs": [],
   "source": [
    "data5=data5[data5.session_length>1]"
   ]
  },
  {
   "cell_type": "code",
   "execution_count": 6,
   "metadata": {},
   "outputs": [
    {
     "name": "stdout",
     "output_type": "stream",
     "text": [
      "procent of sessions with length one:  0.0\n",
      "number of sessions:  56412115\n"
     ]
    }
   ],
   "source": [
    "print(\"procent of sessions with length one: \",((data5.groupby(['user_id','session']).size())==1).sum()/data5.groupby(['user_id','session']).size().shape[0]*100)\n",
    "print(\"number of sessions: \",data5.groupby(['user_id','session']).size().shape[0])"
   ]
  },
  {
   "cell_type": "markdown",
   "metadata": {},
   "source": [
    "### Testing "
   ]
  },
  {
   "cell_type": "code",
   "execution_count": null,
   "metadata": {},
   "outputs": [],
   "source": [
    "input_string=data5.groupby(['user_id','session'])['app_code'].apply(list).apply(lambda l: ' -1 '.join([str(i) for i in l])+\" -1 -2\")"
   ]
  },
  {
   "cell_type": "code",
   "execution_count": null,
   "metadata": {},
   "outputs": [],
   "source": [
    "f = open(os.path.join(os.getcwd(), '20sec_sessions.txt'), 'w')\n",
    "dfAsString = input_string.to_string(header=False, index=False)\n",
    "dfAsString=re.sub(r'\\\\n -1','\\n',dfAsString)\n",
    "dfAsString=re.sub(r'\\n\\s+','\\n',dfAsString)\n",
    "f.write(re.sub(r'-2\\n-2+','-2\\n',dfAsString.lstrip()))\n",
    "f.close()"
   ]
  },
  {
   "cell_type": "markdown",
   "metadata": {},
   "source": [
    "# Experimenting with lower threshold."
   ]
  }
 ],
 "metadata": {
  "kernelspec": {
   "display_name": "Python 3",
   "language": "python",
   "name": "python3"
  },
  "language_info": {
   "codemirror_mode": {
    "name": "ipython",
    "version": 3
   },
   "file_extension": ".py",
   "mimetype": "text/x-python",
   "name": "python",
   "nbconvert_exporter": "python",
   "pygments_lexer": "ipython3",
   "version": "3.8.5"
  }
 },
 "nbformat": 4,
 "nbformat_minor": 4
}
