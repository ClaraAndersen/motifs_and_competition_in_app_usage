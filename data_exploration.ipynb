{
 "cells": [
  {
   "cell_type": "code",
   "execution_count": 1,
   "metadata": {},
   "outputs": [],
   "source": [
    "from spmf import Spmf\n",
    "import numpy as np\n",
    "import pandas as pd\n",
    "import os\n",
    "import re\n",
    "import matplotlib.pyplot as plt\n",
    "\n",
    "pd.options.display.max_colwidth = 500000"
   ]
  },
  {
   "cell_type": "code",
   "execution_count": 2,
   "metadata": {},
   "outputs": [],
   "source": [
    "data = pd.read_csv('sorted_coded_data.csv')"
   ]
  },
  {
   "cell_type": "markdown",
   "metadata": {},
   "source": [
    "#  Sleeptime distribution"
   ]
  },
  {
   "cell_type": "markdown",
   "metadata": {},
   "source": [
    "I start by calculating the sleep time for each app. Here it corresponds to the time from when the user closed the last app, to he/she opened the current app."
   ]
  },
  {
   "cell_type": "code",
   "execution_count": 4,
   "metadata": {},
   "outputs": [],
   "source": [
    "user_groups=data.groupby('user_id')"
   ]
  },
  {
   "cell_type": "code",
   "execution_count": 5,
   "metadata": {},
   "outputs": [],
   "source": [
    "data['sleep_time']=user_groups['end_time'].shift(1,fill_value=0.0)"
   ]
  },
  {
   "cell_type": "code",
   "execution_count": 6,
   "metadata": {
    "scrolled": true
   },
   "outputs": [
    {
     "data": {
      "text/html": [
       "<div>\n",
       "<style scoped>\n",
       "    .dataframe tbody tr th:only-of-type {\n",
       "        vertical-align: middle;\n",
       "    }\n",
       "\n",
       "    .dataframe tbody tr th {\n",
       "        vertical-align: top;\n",
       "    }\n",
       "\n",
       "    .dataframe thead th {\n",
       "        text-align: right;\n",
       "    }\n",
       "</style>\n",
       "<table border=\"1\" class=\"dataframe\">\n",
       "  <thead>\n",
       "    <tr style=\"text-align: right;\">\n",
       "      <th></th>\n",
       "      <th>package_name</th>\n",
       "      <th>user_id</th>\n",
       "      <th>start_time</th>\n",
       "      <th>end_time</th>\n",
       "      <th>time_spend</th>\n",
       "      <th>app_code</th>\n",
       "      <th>sleep_time</th>\n",
       "    </tr>\n",
       "  </thead>\n",
       "  <tbody>\n",
       "    <tr>\n",
       "      <th>11</th>\n",
       "      <td>bg.abv.andro.emailapp</td>\n",
       "      <td>0</td>\n",
       "      <td>3689</td>\n",
       "      <td>3699</td>\n",
       "      <td>10</td>\n",
       "      <td>2340</td>\n",
       "      <td>3926.0</td>\n",
       "    </tr>\n",
       "    <tr>\n",
       "      <th>20</th>\n",
       "      <td>com.facebook.katana</td>\n",
       "      <td>0</td>\n",
       "      <td>28836</td>\n",
       "      <td>29777</td>\n",
       "      <td>941</td>\n",
       "      <td>19968</td>\n",
       "      <td>28906.0</td>\n",
       "    </tr>\n",
       "    <tr>\n",
       "      <th>59</th>\n",
       "      <td>com.google.android.apps.translate</td>\n",
       "      <td>0</td>\n",
       "      <td>53793</td>\n",
       "      <td>53803</td>\n",
       "      <td>10</td>\n",
       "      <td>23926</td>\n",
       "      <td>54003.0</td>\n",
       "    </tr>\n",
       "    <tr>\n",
       "      <th>110</th>\n",
       "      <td>com.sonyericsson.video</td>\n",
       "      <td>0</td>\n",
       "      <td>173946</td>\n",
       "      <td>174206</td>\n",
       "      <td>260</td>\n",
       "      <td>45286</td>\n",
       "      <td>173976.0</td>\n",
       "    </tr>\n",
       "    <tr>\n",
       "      <th>111</th>\n",
       "      <td>com.sonyericsson.album</td>\n",
       "      <td>0</td>\n",
       "      <td>174036</td>\n",
       "      <td>174046</td>\n",
       "      <td>10</td>\n",
       "      <td>45260</td>\n",
       "      <td>174206.0</td>\n",
       "    </tr>\n",
       "    <tr>\n",
       "      <th>...</th>\n",
       "      <td>...</td>\n",
       "      <td>...</td>\n",
       "      <td>...</td>\n",
       "      <td>...</td>\n",
       "      <td>...</td>\n",
       "      <td>...</td>\n",
       "      <td>...</td>\n",
       "    </tr>\n",
       "    <tr>\n",
       "      <th>254450355</th>\n",
       "      <td>com.sonyericsson.music</td>\n",
       "      <td>9999</td>\n",
       "      <td>29133717</td>\n",
       "      <td>29133737</td>\n",
       "      <td>20</td>\n",
       "      <td>45284</td>\n",
       "      <td>29134004.0</td>\n",
       "    </tr>\n",
       "    <tr>\n",
       "      <th>254450372</th>\n",
       "      <td>com.google.android.googlequicksearchbox</td>\n",
       "      <td>9999</td>\n",
       "      <td>29156883</td>\n",
       "      <td>29156933</td>\n",
       "      <td>50</td>\n",
       "      <td>23949</td>\n",
       "      <td>29156994.0</td>\n",
       "    </tr>\n",
       "    <tr>\n",
       "      <th>254450378</th>\n",
       "      <td>com.sonyericsson.album</td>\n",
       "      <td>9999</td>\n",
       "      <td>29158879</td>\n",
       "      <td>29158889</td>\n",
       "      <td>10</td>\n",
       "      <td>45260</td>\n",
       "      <td>29158899.0</td>\n",
       "    </tr>\n",
       "    <tr>\n",
       "      <th>254450387</th>\n",
       "      <td>com.whatsapp</td>\n",
       "      <td>9999</td>\n",
       "      <td>29162905</td>\n",
       "      <td>29163029</td>\n",
       "      <td>124</td>\n",
       "      <td>53003</td>\n",
       "      <td>29162955.0</td>\n",
       "    </tr>\n",
       "    <tr>\n",
       "      <th>254450411</th>\n",
       "      <td>com.instagram.android</td>\n",
       "      <td>9999</td>\n",
       "      <td>29204877</td>\n",
       "      <td>29204887</td>\n",
       "      <td>10</td>\n",
       "      <td>27441</td>\n",
       "      <td>29204897.0</td>\n",
       "    </tr>\n",
       "  </tbody>\n",
       "</table>\n",
       "<p>18103959 rows × 7 columns</p>\n",
       "</div>"
      ],
      "text/plain": [
       "                                      package_name  user_id  start_time  \\\n",
       "11                           bg.abv.andro.emailapp        0        3689   \n",
       "20                             com.facebook.katana        0       28836   \n",
       "59               com.google.android.apps.translate        0       53793   \n",
       "110                         com.sonyericsson.video        0      173946   \n",
       "111                         com.sonyericsson.album        0      174036   \n",
       "...                                            ...      ...         ...   \n",
       "254450355                   com.sonyericsson.music     9999    29133717   \n",
       "254450372  com.google.android.googlequicksearchbox     9999    29156883   \n",
       "254450378                   com.sonyericsson.album     9999    29158879   \n",
       "254450387                             com.whatsapp     9999    29162905   \n",
       "254450411                    com.instagram.android     9999    29204877   \n",
       "\n",
       "           end_time  time_spend  app_code  sleep_time  \n",
       "11             3699          10      2340      3926.0  \n",
       "20            29777         941     19968     28906.0  \n",
       "59            53803          10     23926     54003.0  \n",
       "110          174206         260     45286    173976.0  \n",
       "111          174046          10     45260    174206.0  \n",
       "...             ...         ...       ...         ...  \n",
       "254450355  29133737          20     45284  29134004.0  \n",
       "254450372  29156933          50     23949  29156994.0  \n",
       "254450378  29158889          10     45260  29158899.0  \n",
       "254450387  29163029         124     53003  29162955.0  \n",
       "254450411  29204887          10     27441  29204897.0  \n",
       "\n",
       "[18103959 rows x 7 columns]"
      ]
     },
     "execution_count": 6,
     "metadata": {},
     "output_type": "execute_result"
    }
   ],
   "source": [
    "data[data.start_time<data.sleep_time]"
   ]
  },
  {
   "cell_type": "markdown",
   "metadata": {},
   "source": [
    "As we can see here there is quit a few apps that are being used at least partially at the same time as other apps. This is indicated by the fact that the app is opened before the previous one is closed. For now we will consider this as zero sleep instances, but for further analysis it is worth considering that there if these should be considered as item sets, or sequences."
   ]
  },
  {
   "cell_type": "code",
   "execution_count": 7,
   "metadata": {},
   "outputs": [
    {
     "name": "stdout",
     "output_type": "stream",
     "text": [
      "min sleep time:  0.0\n",
      "min sleep time:  78889680.0\n"
     ]
    }
   ],
   "source": [
    "print(\"min sleep time: \",data.sleep_time.min())\n",
    "print(\"min sleep time: \",data.sleep_time.max())"
   ]
  },
  {
   "cell_type": "code",
   "execution_count": 8,
   "metadata": {},
   "outputs": [],
   "source": [
    "data['sleep_time']=data['start_time']-data['sleep_time']"
   ]
  },
  {
   "cell_type": "markdown",
   "metadata": {},
   "source": [
    "Here the probplem of overlapping app usage results in negative sleep times. For this analysis they will be considered as zero."
   ]
  },
  {
   "cell_type": "code",
   "execution_count": 9,
   "metadata": {},
   "outputs": [
    {
     "name": "stdout",
     "output_type": "stream",
     "text": [
      "min sleep time:  -59221.0\n",
      "min sleep time:  7728262.0\n"
     ]
    }
   ],
   "source": [
    "print(\"min sleep time: \",data.sleep_time.min())\n",
    "print(\"min sleep time: \",data.sleep_time.max())"
   ]
  },
  {
   "cell_type": "code",
   "execution_count": 10,
   "metadata": {},
   "outputs": [],
   "source": [
    "data['sleep_time_modified']=data.sleep_time.copy()#[df < 0] = 0"
   ]
  },
  {
   "cell_type": "code",
   "execution_count": 11,
   "metadata": {},
   "outputs": [
    {
     "name": "stderr",
     "output_type": "stream",
     "text": [
      "<ipython-input-11-030ba3bc8cd7>:1: SettingWithCopyWarning: \n",
      "A value is trying to be set on a copy of a slice from a DataFrame\n",
      "\n",
      "See the caveats in the documentation: https://pandas.pydata.org/pandas-docs/stable/user_guide/indexing.html#returning-a-view-versus-a-copy\n",
      "  data.sleep_time_modified[data['sleep_time_modified']<0]=0\n"
     ]
    }
   ],
   "source": [
    "data.sleep_time_modified[data['sleep_time_modified']<0]=0"
   ]
  },
  {
   "cell_type": "code",
   "execution_count": 12,
   "metadata": {},
   "outputs": [
    {
     "data": {
      "text/html": [
       "<div>\n",
       "<style scoped>\n",
       "    .dataframe tbody tr th:only-of-type {\n",
       "        vertical-align: middle;\n",
       "    }\n",
       "\n",
       "    .dataframe tbody tr th {\n",
       "        vertical-align: top;\n",
       "    }\n",
       "\n",
       "    .dataframe thead th {\n",
       "        text-align: right;\n",
       "    }\n",
       "</style>\n",
       "<table border=\"1\" class=\"dataframe\">\n",
       "  <thead>\n",
       "    <tr style=\"text-align: right;\">\n",
       "      <th></th>\n",
       "      <th>package_name</th>\n",
       "      <th>user_id</th>\n",
       "      <th>start_time</th>\n",
       "      <th>end_time</th>\n",
       "      <th>time_spend</th>\n",
       "      <th>app_code</th>\n",
       "      <th>sleep_time</th>\n",
       "      <th>sleep_time_modified</th>\n",
       "    </tr>\n",
       "  </thead>\n",
       "  <tbody>\n",
       "    <tr>\n",
       "      <th>11</th>\n",
       "      <td>bg.abv.andro.emailapp</td>\n",
       "      <td>0</td>\n",
       "      <td>3689</td>\n",
       "      <td>3699</td>\n",
       "      <td>10</td>\n",
       "      <td>2340</td>\n",
       "      <td>-237.0</td>\n",
       "      <td>0.0</td>\n",
       "    </tr>\n",
       "    <tr>\n",
       "      <th>20</th>\n",
       "      <td>com.facebook.katana</td>\n",
       "      <td>0</td>\n",
       "      <td>28836</td>\n",
       "      <td>29777</td>\n",
       "      <td>941</td>\n",
       "      <td>19968</td>\n",
       "      <td>-70.0</td>\n",
       "      <td>0.0</td>\n",
       "    </tr>\n",
       "    <tr>\n",
       "      <th>59</th>\n",
       "      <td>com.google.android.apps.translate</td>\n",
       "      <td>0</td>\n",
       "      <td>53793</td>\n",
       "      <td>53803</td>\n",
       "      <td>10</td>\n",
       "      <td>23926</td>\n",
       "      <td>-210.0</td>\n",
       "      <td>0.0</td>\n",
       "    </tr>\n",
       "    <tr>\n",
       "      <th>110</th>\n",
       "      <td>com.sonyericsson.video</td>\n",
       "      <td>0</td>\n",
       "      <td>173946</td>\n",
       "      <td>174206</td>\n",
       "      <td>260</td>\n",
       "      <td>45286</td>\n",
       "      <td>-30.0</td>\n",
       "      <td>0.0</td>\n",
       "    </tr>\n",
       "    <tr>\n",
       "      <th>111</th>\n",
       "      <td>com.sonyericsson.album</td>\n",
       "      <td>0</td>\n",
       "      <td>174036</td>\n",
       "      <td>174046</td>\n",
       "      <td>10</td>\n",
       "      <td>45260</td>\n",
       "      <td>-170.0</td>\n",
       "      <td>0.0</td>\n",
       "    </tr>\n",
       "    <tr>\n",
       "      <th>...</th>\n",
       "      <td>...</td>\n",
       "      <td>...</td>\n",
       "      <td>...</td>\n",
       "      <td>...</td>\n",
       "      <td>...</td>\n",
       "      <td>...</td>\n",
       "      <td>...</td>\n",
       "      <td>...</td>\n",
       "    </tr>\n",
       "    <tr>\n",
       "      <th>254450355</th>\n",
       "      <td>com.sonyericsson.music</td>\n",
       "      <td>9999</td>\n",
       "      <td>29133717</td>\n",
       "      <td>29133737</td>\n",
       "      <td>20</td>\n",
       "      <td>45284</td>\n",
       "      <td>-287.0</td>\n",
       "      <td>0.0</td>\n",
       "    </tr>\n",
       "    <tr>\n",
       "      <th>254450372</th>\n",
       "      <td>com.google.android.googlequicksearchbox</td>\n",
       "      <td>9999</td>\n",
       "      <td>29156883</td>\n",
       "      <td>29156933</td>\n",
       "      <td>50</td>\n",
       "      <td>23949</td>\n",
       "      <td>-111.0</td>\n",
       "      <td>0.0</td>\n",
       "    </tr>\n",
       "    <tr>\n",
       "      <th>254450378</th>\n",
       "      <td>com.sonyericsson.album</td>\n",
       "      <td>9999</td>\n",
       "      <td>29158879</td>\n",
       "      <td>29158889</td>\n",
       "      <td>10</td>\n",
       "      <td>45260</td>\n",
       "      <td>-20.0</td>\n",
       "      <td>0.0</td>\n",
       "    </tr>\n",
       "    <tr>\n",
       "      <th>254450387</th>\n",
       "      <td>com.whatsapp</td>\n",
       "      <td>9999</td>\n",
       "      <td>29162905</td>\n",
       "      <td>29163029</td>\n",
       "      <td>124</td>\n",
       "      <td>53003</td>\n",
       "      <td>-50.0</td>\n",
       "      <td>0.0</td>\n",
       "    </tr>\n",
       "    <tr>\n",
       "      <th>254450411</th>\n",
       "      <td>com.instagram.android</td>\n",
       "      <td>9999</td>\n",
       "      <td>29204877</td>\n",
       "      <td>29204887</td>\n",
       "      <td>10</td>\n",
       "      <td>27441</td>\n",
       "      <td>-20.0</td>\n",
       "      <td>0.0</td>\n",
       "    </tr>\n",
       "  </tbody>\n",
       "</table>\n",
       "<p>18103959 rows × 8 columns</p>\n",
       "</div>"
      ],
      "text/plain": [
       "                                      package_name  user_id  start_time  \\\n",
       "11                           bg.abv.andro.emailapp        0        3689   \n",
       "20                             com.facebook.katana        0       28836   \n",
       "59               com.google.android.apps.translate        0       53793   \n",
       "110                         com.sonyericsson.video        0      173946   \n",
       "111                         com.sonyericsson.album        0      174036   \n",
       "...                                            ...      ...         ...   \n",
       "254450355                   com.sonyericsson.music     9999    29133717   \n",
       "254450372  com.google.android.googlequicksearchbox     9999    29156883   \n",
       "254450378                   com.sonyericsson.album     9999    29158879   \n",
       "254450387                             com.whatsapp     9999    29162905   \n",
       "254450411                    com.instagram.android     9999    29204877   \n",
       "\n",
       "           end_time  time_spend  app_code  sleep_time  sleep_time_modified  \n",
       "11             3699          10      2340      -237.0                  0.0  \n",
       "20            29777         941     19968       -70.0                  0.0  \n",
       "59            53803          10     23926      -210.0                  0.0  \n",
       "110          174206         260     45286       -30.0                  0.0  \n",
       "111          174046          10     45260      -170.0                  0.0  \n",
       "...             ...         ...       ...         ...                  ...  \n",
       "254450355  29133737          20     45284      -287.0                  0.0  \n",
       "254450372  29156933          50     23949      -111.0                  0.0  \n",
       "254450378  29158889          10     45260       -20.0                  0.0  \n",
       "254450387  29163029         124     53003       -50.0                  0.0  \n",
       "254450411  29204887          10     27441       -20.0                  0.0  \n",
       "\n",
       "[18103959 rows x 8 columns]"
      ]
     },
     "execution_count": 12,
     "metadata": {},
     "output_type": "execute_result"
    }
   ],
   "source": [
    "data[data.sleep_time<0]"
   ]
  },
  {
   "cell_type": "code",
   "execution_count": 15,
   "metadata": {},
   "outputs": [
    {
     "data": {
      "text/plain": [
       "28363.0"
      ]
     },
     "execution_count": 15,
     "metadata": {},
     "output_type": "execute_result"
    }
   ],
   "source": [
    "data.sleep_time_modified.quantile(q=0.99)"
   ]
  },
  {
   "cell_type": "code",
   "execution_count": 16,
   "metadata": {},
   "outputs": [
    {
     "data": {
      "image/png": "[encoded data removed]",
      "text/plain": [
       "<Figure size 432x288 with 1 Axes>"
      ]
     },
     "metadata": {
      "needs_background": "light"
     },
     "output_type": "display_data"
    }
   ],
   "source": [
    "plt.hist(data.sleep_time_modified[data.sleep_time_modified<=data.sleep_time_modified.quantile(q=0.99)])#, bins=None, range=None, density=False, weights=None, cumulative=False, bottom=None, histtype='bar', align='mid', orientation='vertical', rwidth=None, log=False, color=None, label=None, stacked=False, *, data=None, **kwargs)[so\n",
    "plt.show()"
   ]
  },
  {
   "cell_type": "markdown",
   "metadata": {},
   "source": [
    "Again we see that most of the observations have a very low sleep time so we again constrict the interval of intrest. "
   ]
  },
  {
   "cell_type": "code",
   "execution_count": 17,
   "metadata": {},
   "outputs": [
    {
     "data": {
      "image/png": "[encoded data removed]",
      "text/plain": [
       "<Figure size 432x288 with 1 Axes>"
      ]
     },
     "metadata": {
      "needs_background": "light"
     },
     "output_type": "display_data"
    }
   ],
   "source": [
    "plt.hist(data.sleep_time_modified[data.sleep_time_modified<=5000])#, bins=None, range=None, density=False, weights=None, cumulative=False, bottom=None, histtype='bar', align='mid', orientation='vertical', rwidth=None, log=False, color=None, label=None, stacked=False, *, data=None, **kwargs)[so\n",
    "plt.show()"
   ]
  },
  {
   "cell_type": "code",
   "execution_count": 18,
   "metadata": {},
   "outputs": [
    {
     "data": {
      "image/png": "[encoded data removed]",
      "text/plain": [
       "<Figure size 432x288 with 1 Axes>"
      ]
     },
     "metadata": {
      "needs_background": "light"
     },
     "output_type": "display_data"
    }
   ],
   "source": [
    "plt.hist(data.sleep_time_modified[data.sleep_time_modified<=1000])#, bins=None, range=None, density=False, weights=None, cumulative=False, bottom=None, histtype='bar', align='mid', orientation='vertical', rwidth=None, log=False, color=None, label=None, stacked=False, *, data=None, **kwargs)[so\n",
    "plt.show()"
   ]
  },
  {
   "cell_type": "code",
   "execution_count": 19,
   "metadata": {},
   "outputs": [
    {
     "data": {
      "image/png": "[encoded data removed]",
      "text/plain": [
       "<Figure size 432x288 with 1 Axes>"
      ]
     },
     "metadata": {
      "needs_background": "light"
     },
     "output_type": "display_data"
    }
   ],
   "source": [
    "plt.hist(data.sleep_time_modified[data.sleep_time_modified<=200])#, bins=None, range=None, density=False, weights=None, cumulative=False, bottom=None, histtype='bar', align='mid', orientation='vertical', rwidth=None, log=False, color=None, label=None, stacked=False, *, data=None, **kwargs)[so\n",
    "plt.show()"
   ]
  },
  {
   "cell_type": "markdown",
   "metadata": {},
   "source": [
    "# Opening the same data twice\n",
    "Here we investigate the possiblity of opening the same data right after each other. As we are intrested in the patterns of usage it is not neccessarily of much intrest that you close an app and immediatly open it again to continue the same activity.\n",
    "\n",
    "We start by the number of times the app which is opend is the same as the last one opened."
   ]
  },
  {
   "cell_type": "code",
   "execution_count": 20,
   "metadata": {},
   "outputs": [],
   "source": [
    "data[\"previous_app_code\"]=user_groups.app_code.shift(1)"
   ]
  },
  {
   "cell_type": "code",
   "execution_count": 21,
   "metadata": {},
   "outputs": [
    {
     "data": {
      "text/plain": [
       "55448447"
      ]
     },
     "execution_count": 21,
     "metadata": {},
     "output_type": "execute_result"
    }
   ],
   "source": [
    "data.app_code[data.app_code==data.previous_app_code].count()"
   ]
  },
  {
   "cell_type": "code",
   "execution_count": 22,
   "metadata": {},
   "outputs": [
    {
     "data": {
      "text/plain": [
       "21.791454132467504"
      ]
     },
     "execution_count": 22,
     "metadata": {},
     "output_type": "execute_result"
    }
   ],
   "source": [
    "data.app_code[data.app_code==data.previous_app_code].count()/data.shape[0]*100"
   ]
  },
  {
   "cell_type": "markdown",
   "metadata": {},
   "source": [
    "we now take all look at the sleeping times for these obervations"
   ]
  },
  {
   "cell_type": "code",
   "execution_count": 23,
   "metadata": {},
   "outputs": [
    {
     "name": "stdout",
     "output_type": "stream",
     "text": [
      "max sleep time:  6067204.0\n",
      "min sleep time:  -23445.0\n"
     ]
    }
   ],
   "source": [
    "print(\"max sleep time: \",data.sleep_time[data.app_code==data.previous_app_code].max())\n",
    "print(\"min sleep time: \",data.sleep_time[data.app_code==data.previous_app_code].min())"
   ]
  },
  {
   "cell_type": "code",
   "execution_count": 24,
   "metadata": {},
   "outputs": [
    {
     "data": {
      "image/png": "[encoded data removed]",
      "text/plain": [
       "<Figure size 432x288 with 1 Axes>"
      ]
     },
     "metadata": {
      "needs_background": "light"
     },
     "output_type": "display_data"
    }
   ],
   "source": [
    "plt.hist(data.sleep_time[data.app_code==data.previous_app_code])\n",
    "plt.show()"
   ]
  },
  {
   "cell_type": "code",
   "execution_count": 36,
   "metadata": {},
   "outputs": [
    {
     "data": {
      "image/png": "[encoded data removed]",
      "text/plain": [
       "<Figure size 432x288 with 1 Axes>"
      ]
     },
     "metadata": {
      "needs_background": "light"
     },
     "output_type": "display_data"
    }
   ],
   "source": [
    "plt.hist(data.sleep_time[(data.app_code==data.previous_app_code) ])#& (data.sleep_time<1000000)])\n",
    "plt.yscale('log')\n",
    "plt.show()"
   ]
  },
  {
   "cell_type": "code",
   "execution_count": 37,
   "metadata": {},
   "outputs": [
    {
     "data": {
      "image/png": "[encoded data removed]",
      "text/plain": [
       "<Figure size 432x288 with 1 Axes>"
      ]
     },
     "metadata": {
      "needs_background": "light"
     },
     "output_type": "display_data"
    }
   ],
   "source": [
    "plt.hist(data.sleep_time[(data.app_code==data.previous_app_code)& (data.sleep_time<1000000)])\n",
    "plt.yscale('log')\n",
    "plt.show()"
   ]
  },
  {
   "cell_type": "markdown",
   "metadata": {},
   "source": [
    "However we are esspecially interested in the ones used very close to each other."
   ]
  },
  {
   "cell_type": "code",
   "execution_count": 41,
   "metadata": {},
   "outputs": [
    {
     "data": {
      "image/png": "[encoded data removed]",
      "text/plain": [
       "<Figure size 432x288 with 1 Axes>"
      ]
     },
     "metadata": {
      "needs_background": "light"
     },
     "output_type": "display_data"
    }
   ],
   "source": [
    "plt.hist(data.sleep_time[(data.app_code==data.previous_app_code)& (data.sleep_time<60*60*24)])\n",
    "plt.yscale('log')\n",
    "plt.show()"
   ]
  },
  {
   "cell_type": "code",
   "execution_count": 44,
   "metadata": {},
   "outputs": [
    {
     "name": "stdout",
     "output_type": "stream",
     "text": [
      "number of times the same app is opened while the app is in use:  4821\n",
      "number of times the same app is opened right after (sleep time 0):  409933\n"
     ]
    }
   ],
   "source": [
    "print(\"number of times the same app is opened while the app is in use: \",data.sleep_time[(data.app_code==data.previous_app_code)& (data.sleep_time<0)].count())\n",
    "print(\"number of times the same app is opened right after (sleep time 0): \",data.sleep_time[(data.app_code==data.previous_app_code)& (data.sleep_time==0)].count())"
   ]
  },
  {
   "cell_type": "markdown",
   "metadata": {},
   "source": [
    "We see that a small number is used at the same time. For our purpesis it is clear that these should be combined. Also we see that approcimately 400000 are opened imediatly after with no sleep time in between. For these it is also clear that they can be combined.\n",
    "\n",
    "Since we now filter out the apps which overlap in use time."
   ]
  },
  {
   "cell_type": "code",
   "execution_count": 46,
   "metadata": {},
   "outputs": [
    {
     "data": {
      "image/png": "[encoded data removed]",
      "text/plain": [
       "<Figure size 432x288 with 1 Axes>"
      ]
     },
     "metadata": {
      "needs_background": "light"
     },
     "output_type": "display_data"
    }
   ],
   "source": [
    "plt.hist(data.sleep_time[(data.app_code==data.previous_app_code)& (data.sleep_time<60*60*24)&(data.sleep_time>0)])\n",
    "plt.yscale('log')\n",
    "plt.show()"
   ]
  },
  {
   "cell_type": "code",
   "execution_count": 57,
   "metadata": {},
   "outputs": [
    {
     "data": {
      "text/plain": [
       "1553.9468436329696"
      ]
     },
     "execution_count": 57,
     "metadata": {},
     "output_type": "execute_result"
    }
   ],
   "source": [
    "data.sleep_time[(data.app_code==data.previous_app_code)].mean()"
   ]
  },
  {
   "cell_type": "code",
   "execution_count": 49,
   "metadata": {},
   "outputs": [
    {
     "data": {
      "image/png": "[encoded data removed]",
      "text/plain": [
       "<Figure size 432x288 with 1 Axes>"
      ]
     },
     "metadata": {
      "needs_background": "light"
     },
     "output_type": "display_data"
    }
   ],
   "source": [
    "plt.hist(data.sleep_time[(data.app_code==data.previous_app_code)& (data.sleep_time<60*60)&(data.sleep_time>0)])\n",
    "plt.show()"
   ]
  },
  {
   "cell_type": "code",
   "execution_count": 52,
   "metadata": {},
   "outputs": [
    {
     "data": {
      "text/plain": [
       "8.333333333333334"
      ]
     },
     "execution_count": 52,
     "metadata": {},
     "output_type": "execute_result"
    }
   ],
   "source": [
    "500/60"
   ]
  },
  {
   "cell_type": "code",
   "execution_count": 55,
   "metadata": {},
   "outputs": [
    {
     "data": {
      "image/png": "[encoded data removed]",
      "text/plain": [
       "<Figure size 432x288 with 1 Axes>"
      ]
     },
     "metadata": {
      "needs_background": "light"
     },
     "output_type": "display_data"
    }
   ],
   "source": [
    "plt.hist(data.sleep_time[(data.app_code==data.previous_app_code)& (data.sleep_time<10*60)&(data.sleep_time>0)])\n",
    "plt.show()"
   ]
  },
  {
   "cell_type": "code",
   "execution_count": 56,
   "metadata": {},
   "outputs": [
    {
     "data": {
      "image/png": "[encoded data removed]",
      "text/plain": [
       "<Figure size 432x288 with 1 Axes>"
      ]
     },
     "metadata": {
      "needs_background": "light"
     },
     "output_type": "display_data"
    }
   ],
   "source": [
    "plt.hist(data.sleep_time[(data.app_code==data.previous_app_code)& (data.sleep_time<10*60)&(data.sleep_time>0)])\n",
    "plt.show()"
   ]
  },
  {
   "cell_type": "code",
   "execution_count": 64,
   "metadata": {},
   "outputs": [
    {
     "data": {
      "text/plain": [
       "0.6278039527530889"
      ]
     },
     "execution_count": 64,
     "metadata": {},
     "output_type": "execute_result"
    }
   ],
   "source": [
    "data.sleep_time[(data.app_code==data.previous_app_code)& (data.sleep_time<=10*60)&(data.sleep_time>0)].count()/data.sleep_time[(data.app_code==data.previous_app_code)&(data.sleep_time>0)].count()"
   ]
  },
  {
   "cell_type": "markdown",
   "metadata": {},
   "source": [
    "Now we combine the observations where the same app is used again after a maximum of 10min sleep time."
   ]
  },
  {
   "cell_type": "code",
   "execution_count": 65,
   "metadata": {},
   "outputs": [
    {
     "data": {
      "text/html": [
       "<div>\n",
       "<style scoped>\n",
       "    .dataframe tbody tr th:only-of-type {\n",
       "        vertical-align: middle;\n",
       "    }\n",
       "\n",
       "    .dataframe tbody tr th {\n",
       "        vertical-align: top;\n",
       "    }\n",
       "\n",
       "    .dataframe thead th {\n",
       "        text-align: right;\n",
       "    }\n",
       "</style>\n",
       "<table border=\"1\" class=\"dataframe\">\n",
       "  <thead>\n",
       "    <tr style=\"text-align: right;\">\n",
       "      <th></th>\n",
       "      <th>package_name</th>\n",
       "      <th>user_id</th>\n",
       "      <th>start_time</th>\n",
       "      <th>end_time</th>\n",
       "      <th>time_spend</th>\n",
       "      <th>app_code</th>\n",
       "      <th>sleep_time</th>\n",
       "      <th>sleep_time_modified</th>\n",
       "      <th>previous_app_code</th>\n",
       "    </tr>\n",
       "  </thead>\n",
       "  <tbody>\n",
       "    <tr>\n",
       "      <th>7</th>\n",
       "      <td>com.whatsapp</td>\n",
       "      <td>0</td>\n",
       "      <td>2183</td>\n",
       "      <td>2221</td>\n",
       "      <td>38</td>\n",
       "      <td>53003</td>\n",
       "      <td>395.0</td>\n",
       "      <td>395.0</td>\n",
       "      <td>53003.0</td>\n",
       "    </tr>\n",
       "    <tr>\n",
       "      <th>14</th>\n",
       "      <td>com.whatsapp</td>\n",
       "      <td>0</td>\n",
       "      <td>4712</td>\n",
       "      <td>4742</td>\n",
       "      <td>30</td>\n",
       "      <td>53003</td>\n",
       "      <td>556.0</td>\n",
       "      <td>556.0</td>\n",
       "      <td>53003.0</td>\n",
       "    </tr>\n",
       "    <tr>\n",
       "      <th>26</th>\n",
       "      <td>com.android.chrome</td>\n",
       "      <td>0</td>\n",
       "      <td>33229</td>\n",
       "      <td>33239</td>\n",
       "      <td>10</td>\n",
       "      <td>7649</td>\n",
       "      <td>460.0</td>\n",
       "      <td>460.0</td>\n",
       "      <td>7649.0</td>\n",
       "    </tr>\n",
       "    <tr>\n",
       "      <th>28</th>\n",
       "      <td>com.sonyericsson.album</td>\n",
       "      <td>0</td>\n",
       "      <td>33552</td>\n",
       "      <td>33562</td>\n",
       "      <td>10</td>\n",
       "      <td>45260</td>\n",
       "      <td>217.0</td>\n",
       "      <td>217.0</td>\n",
       "      <td>45260.0</td>\n",
       "    </tr>\n",
       "    <tr>\n",
       "      <th>46</th>\n",
       "      <td>com.sonyericsson.android.socialphonebook</td>\n",
       "      <td>0</td>\n",
       "      <td>48785</td>\n",
       "      <td>48795</td>\n",
       "      <td>10</td>\n",
       "      <td>45261</td>\n",
       "      <td>491.0</td>\n",
       "      <td>491.0</td>\n",
       "      <td>45261.0</td>\n",
       "    </tr>\n",
       "    <tr>\n",
       "      <th>...</th>\n",
       "      <td>...</td>\n",
       "      <td>...</td>\n",
       "      <td>...</td>\n",
       "      <td>...</td>\n",
       "      <td>...</td>\n",
       "      <td>...</td>\n",
       "      <td>...</td>\n",
       "      <td>...</td>\n",
       "      <td>...</td>\n",
       "    </tr>\n",
       "    <tr>\n",
       "      <th>254450388</th>\n",
       "      <td>com.whatsapp</td>\n",
       "      <td>9999</td>\n",
       "      <td>29163246</td>\n",
       "      <td>29163262</td>\n",
       "      <td>16</td>\n",
       "      <td>53003</td>\n",
       "      <td>217.0</td>\n",
       "      <td>217.0</td>\n",
       "      <td>53003.0</td>\n",
       "    </tr>\n",
       "    <tr>\n",
       "      <th>254450389</th>\n",
       "      <td>com.whatsapp</td>\n",
       "      <td>9999</td>\n",
       "      <td>29163490</td>\n",
       "      <td>29163500</td>\n",
       "      <td>10</td>\n",
       "      <td>53003</td>\n",
       "      <td>228.0</td>\n",
       "      <td>228.0</td>\n",
       "      <td>53003.0</td>\n",
       "    </tr>\n",
       "    <tr>\n",
       "      <th>254450399</th>\n",
       "      <td>com.facebook.katana</td>\n",
       "      <td>9999</td>\n",
       "      <td>29167795</td>\n",
       "      <td>29167859</td>\n",
       "      <td>64</td>\n",
       "      <td>19968</td>\n",
       "      <td>280.0</td>\n",
       "      <td>280.0</td>\n",
       "      <td>19968.0</td>\n",
       "    </tr>\n",
       "    <tr>\n",
       "      <th>254450405</th>\n",
       "      <td>com.snapchat.android</td>\n",
       "      <td>9999</td>\n",
       "      <td>29201485</td>\n",
       "      <td>29201495</td>\n",
       "      <td>10</td>\n",
       "      <td>44880</td>\n",
       "      <td>256.0</td>\n",
       "      <td>256.0</td>\n",
       "      <td>44880.0</td>\n",
       "    </tr>\n",
       "    <tr>\n",
       "      <th>254450408</th>\n",
       "      <td>com.facebook.orca</td>\n",
       "      <td>9999</td>\n",
       "      <td>29202098</td>\n",
       "      <td>29202128</td>\n",
       "      <td>30</td>\n",
       "      <td>19973</td>\n",
       "      <td>305.0</td>\n",
       "      <td>305.0</td>\n",
       "      <td>19973.0</td>\n",
       "    </tr>\n",
       "  </tbody>\n",
       "</table>\n",
       "<p>34550370 rows × 9 columns</p>\n",
       "</div>"
      ],
      "text/plain": [
       "                                       package_name  user_id  start_time  \\\n",
       "7                                      com.whatsapp        0        2183   \n",
       "14                                     com.whatsapp        0        4712   \n",
       "26                               com.android.chrome        0       33229   \n",
       "28                           com.sonyericsson.album        0       33552   \n",
       "46         com.sonyericsson.android.socialphonebook        0       48785   \n",
       "...                                             ...      ...         ...   \n",
       "254450388                              com.whatsapp     9999    29163246   \n",
       "254450389                              com.whatsapp     9999    29163490   \n",
       "254450399                       com.facebook.katana     9999    29167795   \n",
       "254450405                      com.snapchat.android     9999    29201485   \n",
       "254450408                         com.facebook.orca     9999    29202098   \n",
       "\n",
       "           end_time  time_spend  app_code  sleep_time  sleep_time_modified  \\\n",
       "7              2221          38     53003       395.0                395.0   \n",
       "14             4742          30     53003       556.0                556.0   \n",
       "26            33239          10      7649       460.0                460.0   \n",
       "28            33562          10     45260       217.0                217.0   \n",
       "46            48795          10     45261       491.0                491.0   \n",
       "...             ...         ...       ...         ...                  ...   \n",
       "254450388  29163262          16     53003       217.0                217.0   \n",
       "254450389  29163500          10     53003       228.0                228.0   \n",
       "254450399  29167859          64     19968       280.0                280.0   \n",
       "254450405  29201495          10     44880       256.0                256.0   \n",
       "254450408  29202128          30     19973       305.0                305.0   \n",
       "\n",
       "           previous_app_code  \n",
       "7                    53003.0  \n",
       "14                   53003.0  \n",
       "26                    7649.0  \n",
       "28                   45260.0  \n",
       "46                   45261.0  \n",
       "...                      ...  \n",
       "254450388            53003.0  \n",
       "254450389            53003.0  \n",
       "254450399            19968.0  \n",
       "254450405            44880.0  \n",
       "254450408            19973.0  \n",
       "\n",
       "[34550370 rows x 9 columns]"
      ]
     },
     "execution_count": 65,
     "metadata": {},
     "output_type": "execute_result"
    }
   ],
   "source": [
    "data[(data.app_code==data.previous_app_code)& (data.sleep_time<=10*60)&(data.sleep_time>0)]"
   ]
  },
  {
   "cell_type": "code",
   "execution_count": 66,
   "metadata": {},
   "outputs": [],
   "source": [
    "data2=data.copy()#[(data.app_code==data.previous_app_code)& (data.sleep_time<=10*60)&(data.sleep_time>0)]"
   ]
  },
  {
   "cell_type": "code",
   "execution_count": 75,
   "metadata": {},
   "outputs": [
    {
     "ename": "MemoryError",
     "evalue": "Unable to allocate 243. MiB for an array with shape (254450422,) and data type bool",
     "output_type": "error",
     "traceback": [
      "\u001b[0;31m---------------------------------------------------------------------------\u001b[0m",
      "\u001b[0;31mMemoryError\u001b[0m                               Traceback (most recent call last)",
      "\u001b[0;32m<ipython-input-75-b26c510bb051>\u001b[0m in \u001b[0;36m<module>\u001b[0;34m\u001b[0m\n\u001b[0;32m----> 1\u001b[0;31m \u001b[0mdata2\u001b[0m\u001b[0;34m[\u001b[0m\u001b[0;34m(\u001b[0m\u001b[0mdata\u001b[0m\u001b[0;34m.\u001b[0m\u001b[0mapp_code\u001b[0m\u001b[0;34m==\u001b[0m\u001b[0mdata\u001b[0m\u001b[0;34m.\u001b[0m\u001b[0mprevious_app_code\u001b[0m\u001b[0;34m)\u001b[0m\u001b[0;34m&\u001b[0m \u001b[0;34m(\u001b[0m\u001b[0mdata\u001b[0m\u001b[0;34m.\u001b[0m\u001b[0msleep_time\u001b[0m\u001b[0;34m<=\u001b[0m\u001b[0;36m10\u001b[0m\u001b[0;34m*\u001b[0m\u001b[0;36m60\u001b[0m\u001b[0;34m)\u001b[0m\u001b[0;34m&\u001b[0m\u001b[0;34m(\u001b[0m\u001b[0mdata\u001b[0m\u001b[0;34m.\u001b[0m\u001b[0msleep_time\u001b[0m\u001b[0;34m>\u001b[0m\u001b[0;36m0\u001b[0m\u001b[0;34m)\u001b[0m\u001b[0;34m]\u001b[0m\u001b[0;34m.\u001b[0m\u001b[0mindex\u001b[0m\u001b[0;34m\u001b[0m\u001b[0;34m\u001b[0m\u001b[0m\n\u001b[0m",
      "\u001b[0;32m~/.conda/envs/myenv/lib/python3.8/site-packages/pandas/core/ops/common.py\u001b[0m in \u001b[0;36mnew_method\u001b[0;34m(self, other)\u001b[0m\n\u001b[1;32m     67\u001b[0m         \u001b[0mother\u001b[0m \u001b[0;34m=\u001b[0m \u001b[0mitem_from_zerodim\u001b[0m\u001b[0;34m(\u001b[0m\u001b[0mother\u001b[0m\u001b[0;34m)\u001b[0m\u001b[0;34m\u001b[0m\u001b[0;34m\u001b[0m\u001b[0m\n\u001b[1;32m     68\u001b[0m \u001b[0;34m\u001b[0m\u001b[0m\n\u001b[0;32m---> 69\u001b[0;31m         \u001b[0;32mreturn\u001b[0m \u001b[0mmethod\u001b[0m\u001b[0;34m(\u001b[0m\u001b[0mself\u001b[0m\u001b[0;34m,\u001b[0m \u001b[0mother\u001b[0m\u001b[0;34m)\u001b[0m\u001b[0;34m\u001b[0m\u001b[0;34m\u001b[0m\u001b[0m\n\u001b[0m\u001b[1;32m     70\u001b[0m \u001b[0;34m\u001b[0m\u001b[0m\n\u001b[1;32m     71\u001b[0m     \u001b[0;32mreturn\u001b[0m \u001b[0mnew_method\u001b[0m\u001b[0;34m\u001b[0m\u001b[0;34m\u001b[0m\u001b[0m\n",
      "\u001b[0;32m~/.conda/envs/myenv/lib/python3.8/site-packages/pandas/core/arraylike.py\u001b[0m in \u001b[0;36m__eq__\u001b[0;34m(self, other)\u001b[0m\n\u001b[1;32m     30\u001b[0m     \u001b[0;34m@\u001b[0m\u001b[0munpack_zerodim_and_defer\u001b[0m\u001b[0;34m(\u001b[0m\u001b[0;34m\"__eq__\"\u001b[0m\u001b[0;34m)\u001b[0m\u001b[0;34m\u001b[0m\u001b[0;34m\u001b[0m\u001b[0m\n\u001b[1;32m     31\u001b[0m     \u001b[0;32mdef\u001b[0m \u001b[0m__eq__\u001b[0m\u001b[0;34m(\u001b[0m\u001b[0mself\u001b[0m\u001b[0;34m,\u001b[0m \u001b[0mother\u001b[0m\u001b[0;34m)\u001b[0m\u001b[0;34m:\u001b[0m\u001b[0;34m\u001b[0m\u001b[0;34m\u001b[0m\u001b[0m\n\u001b[0;32m---> 32\u001b[0;31m         \u001b[0;32mreturn\u001b[0m \u001b[0mself\u001b[0m\u001b[0;34m.\u001b[0m\u001b[0m_cmp_method\u001b[0m\u001b[0;34m(\u001b[0m\u001b[0mother\u001b[0m\u001b[0;34m,\u001b[0m \u001b[0moperator\u001b[0m\u001b[0;34m.\u001b[0m\u001b[0meq\u001b[0m\u001b[0;34m)\u001b[0m\u001b[0;34m\u001b[0m\u001b[0;34m\u001b[0m\u001b[0m\n\u001b[0m\u001b[1;32m     33\u001b[0m \u001b[0;34m\u001b[0m\u001b[0m\n\u001b[1;32m     34\u001b[0m     \u001b[0;34m@\u001b[0m\u001b[0munpack_zerodim_and_defer\u001b[0m\u001b[0;34m(\u001b[0m\u001b[0;34m\"__ne__\"\u001b[0m\u001b[0;34m)\u001b[0m\u001b[0;34m\u001b[0m\u001b[0;34m\u001b[0m\u001b[0m\n",
      "\u001b[0;32m~/.conda/envs/myenv/lib/python3.8/site-packages/pandas/core/series.py\u001b[0m in \u001b[0;36m_cmp_method\u001b[0;34m(self, other, op)\u001b[0m\n\u001b[1;32m   5500\u001b[0m \u001b[0;34m\u001b[0m\u001b[0m\n\u001b[1;32m   5501\u001b[0m         \u001b[0;32mwith\u001b[0m \u001b[0mnp\u001b[0m\u001b[0;34m.\u001b[0m\u001b[0merrstate\u001b[0m\u001b[0;34m(\u001b[0m\u001b[0mall\u001b[0m\u001b[0;34m=\u001b[0m\u001b[0;34m\"ignore\"\u001b[0m\u001b[0;34m)\u001b[0m\u001b[0;34m:\u001b[0m\u001b[0;34m\u001b[0m\u001b[0;34m\u001b[0m\u001b[0m\n\u001b[0;32m-> 5502\u001b[0;31m             \u001b[0mres_values\u001b[0m \u001b[0;34m=\u001b[0m \u001b[0mops\u001b[0m\u001b[0;34m.\u001b[0m\u001b[0mcomparison_op\u001b[0m\u001b[0;34m(\u001b[0m\u001b[0mlvalues\u001b[0m\u001b[0;34m,\u001b[0m \u001b[0mrvalues\u001b[0m\u001b[0;34m,\u001b[0m \u001b[0mop\u001b[0m\u001b[0;34m)\u001b[0m\u001b[0;34m\u001b[0m\u001b[0;34m\u001b[0m\u001b[0m\n\u001b[0m\u001b[1;32m   5503\u001b[0m \u001b[0;34m\u001b[0m\u001b[0m\n\u001b[1;32m   5504\u001b[0m         \u001b[0;32mreturn\u001b[0m \u001b[0mself\u001b[0m\u001b[0;34m.\u001b[0m\u001b[0m_construct_result\u001b[0m\u001b[0;34m(\u001b[0m\u001b[0mres_values\u001b[0m\u001b[0;34m,\u001b[0m \u001b[0mname\u001b[0m\u001b[0;34m=\u001b[0m\u001b[0mres_name\u001b[0m\u001b[0;34m)\u001b[0m\u001b[0;34m\u001b[0m\u001b[0;34m\u001b[0m\u001b[0m\n",
      "\u001b[0;32m~/.conda/envs/myenv/lib/python3.8/site-packages/pandas/core/ops/array_ops.py\u001b[0m in \u001b[0;36mcomparison_op\u001b[0;34m(left, right, op)\u001b[0m\n\u001b[1;32m    285\u001b[0m \u001b[0;34m\u001b[0m\u001b[0m\n\u001b[1;32m    286\u001b[0m     \u001b[0;32melse\u001b[0m\u001b[0;34m:\u001b[0m\u001b[0;34m\u001b[0m\u001b[0;34m\u001b[0m\u001b[0m\n\u001b[0;32m--> 287\u001b[0;31m         \u001b[0mres_values\u001b[0m \u001b[0;34m=\u001b[0m \u001b[0m_na_arithmetic_op\u001b[0m\u001b[0;34m(\u001b[0m\u001b[0mlvalues\u001b[0m\u001b[0;34m,\u001b[0m \u001b[0mrvalues\u001b[0m\u001b[0;34m,\u001b[0m \u001b[0mop\u001b[0m\u001b[0;34m,\u001b[0m \u001b[0mis_cmp\u001b[0m\u001b[0;34m=\u001b[0m\u001b[0;32mTrue\u001b[0m\u001b[0;34m)\u001b[0m\u001b[0;34m\u001b[0m\u001b[0;34m\u001b[0m\u001b[0m\n\u001b[0m\u001b[1;32m    288\u001b[0m \u001b[0;34m\u001b[0m\u001b[0m\n\u001b[1;32m    289\u001b[0m     \u001b[0;32mreturn\u001b[0m \u001b[0mres_values\u001b[0m\u001b[0;34m\u001b[0m\u001b[0;34m\u001b[0m\u001b[0m\n",
      "\u001b[0;32m~/.conda/envs/myenv/lib/python3.8/site-packages/pandas/core/ops/array_ops.py\u001b[0m in \u001b[0;36m_na_arithmetic_op\u001b[0;34m(left, right, op, is_cmp)\u001b[0m\n\u001b[1;32m    178\u001b[0m         \u001b[0;31m# numpy returned a scalar instead of operating element-wise\u001b[0m\u001b[0;34m\u001b[0m\u001b[0;34m\u001b[0m\u001b[0;34m\u001b[0m\u001b[0m\n\u001b[1;32m    179\u001b[0m         \u001b[0;31m# e.g. numeric array vs str\u001b[0m\u001b[0;34m\u001b[0m\u001b[0;34m\u001b[0m\u001b[0;34m\u001b[0m\u001b[0m\n\u001b[0;32m--> 180\u001b[0;31m         \u001b[0;32mreturn\u001b[0m \u001b[0minvalid_comparison\u001b[0m\u001b[0;34m(\u001b[0m\u001b[0mleft\u001b[0m\u001b[0;34m,\u001b[0m \u001b[0mright\u001b[0m\u001b[0;34m,\u001b[0m \u001b[0mop\u001b[0m\u001b[0;34m)\u001b[0m\u001b[0;34m\u001b[0m\u001b[0;34m\u001b[0m\u001b[0m\n\u001b[0m\u001b[1;32m    181\u001b[0m \u001b[0;34m\u001b[0m\u001b[0m\n\u001b[1;32m    182\u001b[0m     \u001b[0;32mreturn\u001b[0m \u001b[0mmissing\u001b[0m\u001b[0;34m.\u001b[0m\u001b[0mdispatch_fill_zeros\u001b[0m\u001b[0;34m(\u001b[0m\u001b[0mop\u001b[0m\u001b[0;34m,\u001b[0m \u001b[0mleft\u001b[0m\u001b[0;34m,\u001b[0m \u001b[0mright\u001b[0m\u001b[0;34m,\u001b[0m \u001b[0mresult\u001b[0m\u001b[0;34m)\u001b[0m\u001b[0;34m\u001b[0m\u001b[0;34m\u001b[0m\u001b[0m\n",
      "\u001b[0;32m~/.conda/envs/myenv/lib/python3.8/site-packages/pandas/core/ops/invalid.py\u001b[0m in \u001b[0;36minvalid_comparison\u001b[0;34m(left, right, op)\u001b[0m\n\u001b[1;32m     27\u001b[0m     \"\"\"\n\u001b[1;32m     28\u001b[0m     \u001b[0;32mif\u001b[0m \u001b[0mop\u001b[0m \u001b[0;32mis\u001b[0m \u001b[0moperator\u001b[0m\u001b[0;34m.\u001b[0m\u001b[0meq\u001b[0m\u001b[0;34m:\u001b[0m\u001b[0;34m\u001b[0m\u001b[0;34m\u001b[0m\u001b[0m\n\u001b[0;32m---> 29\u001b[0;31m         \u001b[0mres_values\u001b[0m \u001b[0;34m=\u001b[0m \u001b[0mnp\u001b[0m\u001b[0;34m.\u001b[0m\u001b[0mzeros\u001b[0m\u001b[0;34m(\u001b[0m\u001b[0mleft\u001b[0m\u001b[0;34m.\u001b[0m\u001b[0mshape\u001b[0m\u001b[0;34m,\u001b[0m \u001b[0mdtype\u001b[0m\u001b[0;34m=\u001b[0m\u001b[0mbool\u001b[0m\u001b[0;34m)\u001b[0m\u001b[0;34m\u001b[0m\u001b[0;34m\u001b[0m\u001b[0m\n\u001b[0m\u001b[1;32m     30\u001b[0m     \u001b[0;32melif\u001b[0m \u001b[0mop\u001b[0m \u001b[0;32mis\u001b[0m \u001b[0moperator\u001b[0m\u001b[0;34m.\u001b[0m\u001b[0mne\u001b[0m\u001b[0;34m:\u001b[0m\u001b[0;34m\u001b[0m\u001b[0;34m\u001b[0m\u001b[0m\n\u001b[1;32m     31\u001b[0m         \u001b[0mres_values\u001b[0m \u001b[0;34m=\u001b[0m \u001b[0mnp\u001b[0m\u001b[0;34m.\u001b[0m\u001b[0mones\u001b[0m\u001b[0;34m(\u001b[0m\u001b[0mleft\u001b[0m\u001b[0;34m.\u001b[0m\u001b[0mshape\u001b[0m\u001b[0;34m,\u001b[0m \u001b[0mdtype\u001b[0m\u001b[0;34m=\u001b[0m\u001b[0mbool\u001b[0m\u001b[0;34m)\u001b[0m\u001b[0;34m\u001b[0m\u001b[0;34m\u001b[0m\u001b[0m\n",
      "\u001b[0;31mMemoryError\u001b[0m: Unable to allocate 243. MiB for an array with shape (254450422,) and data type bool"
     ]
    }
   ],
   "source": [
    "data2[(data.app_code==data.previous_app_code)& (data.sleep_time<=10*60)&(data.sleep_time>0)].index"
   ]
  },
  {
   "cell_type": "code",
   "execution_count": 69,
   "metadata": {},
   "outputs": [
    {
     "data": {
      "text/html": [
       "<div>\n",
       "<style scoped>\n",
       "    .dataframe tbody tr th:only-of-type {\n",
       "        vertical-align: middle;\n",
       "    }\n",
       "\n",
       "    .dataframe tbody tr th {\n",
       "        vertical-align: top;\n",
       "    }\n",
       "\n",
       "    .dataframe thead th {\n",
       "        text-align: right;\n",
       "    }\n",
       "</style>\n",
       "<table border=\"1\" class=\"dataframe\">\n",
       "  <thead>\n",
       "    <tr style=\"text-align: right;\">\n",
       "      <th></th>\n",
       "      <th>package_name</th>\n",
       "      <th>user_id</th>\n",
       "      <th>start_time</th>\n",
       "      <th>end_time</th>\n",
       "      <th>time_spend</th>\n",
       "      <th>app_code</th>\n",
       "      <th>sleep_time</th>\n",
       "      <th>sleep_time_modified</th>\n",
       "      <th>previous_app_code</th>\n",
       "    </tr>\n",
       "  </thead>\n",
       "  <tbody>\n",
       "    <tr>\n",
       "      <th>0</th>\n",
       "      <td>com.facebook.katana</td>\n",
       "      <td>0</td>\n",
       "      <td>0</td>\n",
       "      <td>441</td>\n",
       "      <td>441</td>\n",
       "      <td>19968</td>\n",
       "      <td>0.0</td>\n",
       "      <td>0.0</td>\n",
       "      <td>NaN</td>\n",
       "    </tr>\n",
       "    <tr>\n",
       "      <th>1</th>\n",
       "      <td>com.android.chrome</td>\n",
       "      <td>0</td>\n",
       "      <td>441</td>\n",
       "      <td>1012</td>\n",
       "      <td>571</td>\n",
       "      <td>7649</td>\n",
       "      <td>0.0</td>\n",
       "      <td>0.0</td>\n",
       "      <td>19968.0</td>\n",
       "    </tr>\n",
       "    <tr>\n",
       "      <th>2</th>\n",
       "      <td>com.google.android.apps.photos</td>\n",
       "      <td>0</td>\n",
       "      <td>1012</td>\n",
       "      <td>1032</td>\n",
       "      <td>20</td>\n",
       "      <td>23916</td>\n",
       "      <td>0.0</td>\n",
       "      <td>0.0</td>\n",
       "      <td>7649.0</td>\n",
       "    </tr>\n",
       "    <tr>\n",
       "      <th>3</th>\n",
       "      <td>com.facebook.katana</td>\n",
       "      <td>0</td>\n",
       "      <td>1042</td>\n",
       "      <td>1502</td>\n",
       "      <td>460</td>\n",
       "      <td>19968</td>\n",
       "      <td>10.0</td>\n",
       "      <td>10.0</td>\n",
       "      <td>23916.0</td>\n",
       "    </tr>\n",
       "    <tr>\n",
       "      <th>4</th>\n",
       "      <td>com.whatsapp</td>\n",
       "      <td>0</td>\n",
       "      <td>1512</td>\n",
       "      <td>1572</td>\n",
       "      <td>60</td>\n",
       "      <td>53003</td>\n",
       "      <td>10.0</td>\n",
       "      <td>10.0</td>\n",
       "      <td>19968.0</td>\n",
       "    </tr>\n",
       "    <tr>\n",
       "      <th>...</th>\n",
       "      <td>...</td>\n",
       "      <td>...</td>\n",
       "      <td>...</td>\n",
       "      <td>...</td>\n",
       "      <td>...</td>\n",
       "      <td>...</td>\n",
       "      <td>...</td>\n",
       "      <td>...</td>\n",
       "      <td>...</td>\n",
       "    </tr>\n",
       "    <tr>\n",
       "      <th>254450417</th>\n",
       "      <td>com.google.android.googlequicksearchbox</td>\n",
       "      <td>9999</td>\n",
       "      <td>29207214</td>\n",
       "      <td>29207244</td>\n",
       "      <td>30</td>\n",
       "      <td>23949</td>\n",
       "      <td>185.0</td>\n",
       "      <td>185.0</td>\n",
       "      <td>19968.0</td>\n",
       "    </tr>\n",
       "    <tr>\n",
       "      <th>254450418</th>\n",
       "      <td>com.android.chrome</td>\n",
       "      <td>9999</td>\n",
       "      <td>29207244</td>\n",
       "      <td>29207284</td>\n",
       "      <td>40</td>\n",
       "      <td>7649</td>\n",
       "      <td>0.0</td>\n",
       "      <td>0.0</td>\n",
       "      <td>23949.0</td>\n",
       "    </tr>\n",
       "    <tr>\n",
       "      <th>254450419</th>\n",
       "      <td>com.google.android.apps.docs</td>\n",
       "      <td>9999</td>\n",
       "      <td>29207284</td>\n",
       "      <td>29207294</td>\n",
       "      <td>10</td>\n",
       "      <td>23875</td>\n",
       "      <td>0.0</td>\n",
       "      <td>0.0</td>\n",
       "      <td>7649.0</td>\n",
       "    </tr>\n",
       "    <tr>\n",
       "      <th>254450420</th>\n",
       "      <td>com.microsoft.office.outlook</td>\n",
       "      <td>9999</td>\n",
       "      <td>29213184</td>\n",
       "      <td>29213213</td>\n",
       "      <td>29</td>\n",
       "      <td>33357</td>\n",
       "      <td>5890.0</td>\n",
       "      <td>5890.0</td>\n",
       "      <td>23875.0</td>\n",
       "    </tr>\n",
       "    <tr>\n",
       "      <th>254450421</th>\n",
       "      <td>com.google.android.googlequicksearchbox</td>\n",
       "      <td>9999</td>\n",
       "      <td>29218277</td>\n",
       "      <td>29218307</td>\n",
       "      <td>30</td>\n",
       "      <td>23949</td>\n",
       "      <td>5064.0</td>\n",
       "      <td>5064.0</td>\n",
       "      <td>33357.0</td>\n",
       "    </tr>\n",
       "  </tbody>\n",
       "</table>\n",
       "<p>254450422 rows × 9 columns</p>\n",
       "</div>"
      ],
      "text/plain": [
       "                                      package_name  user_id  start_time  \\\n",
       "0                              com.facebook.katana        0           0   \n",
       "1                               com.android.chrome        0         441   \n",
       "2                   com.google.android.apps.photos        0        1012   \n",
       "3                              com.facebook.katana        0        1042   \n",
       "4                                     com.whatsapp        0        1512   \n",
       "...                                            ...      ...         ...   \n",
       "254450417  com.google.android.googlequicksearchbox     9999    29207214   \n",
       "254450418                       com.android.chrome     9999    29207244   \n",
       "254450419             com.google.android.apps.docs     9999    29207284   \n",
       "254450420             com.microsoft.office.outlook     9999    29213184   \n",
       "254450421  com.google.android.googlequicksearchbox     9999    29218277   \n",
       "\n",
       "           end_time  time_spend  app_code  sleep_time  sleep_time_modified  \\\n",
       "0               441         441     19968         0.0                  0.0   \n",
       "1              1012         571      7649         0.0                  0.0   \n",
       "2              1032          20     23916         0.0                  0.0   \n",
       "3              1502         460     19968        10.0                 10.0   \n",
       "4              1572          60     53003        10.0                 10.0   \n",
       "...             ...         ...       ...         ...                  ...   \n",
       "254450417  29207244          30     23949       185.0                185.0   \n",
       "254450418  29207284          40      7649         0.0                  0.0   \n",
       "254450419  29207294          10     23875         0.0                  0.0   \n",
       "254450420  29213213          29     33357      5890.0               5890.0   \n",
       "254450421  29218307          30     23949      5064.0               5064.0   \n",
       "\n",
       "           previous_app_code  \n",
       "0                        NaN  \n",
       "1                    19968.0  \n",
       "2                     7649.0  \n",
       "3                    23916.0  \n",
       "4                    19968.0  \n",
       "...                      ...  \n",
       "254450417            19968.0  \n",
       "254450418            23949.0  \n",
       "254450419             7649.0  \n",
       "254450420            23875.0  \n",
       "254450421            33357.0  \n",
       "\n",
       "[254450422 rows x 9 columns]"
      ]
     },
     "execution_count": 69,
     "metadata": {},
     "output_type": "execute_result"
    }
   ],
   "source": [
    "data2"
   ]
  }
 ],
 "metadata": {
  "kernelspec": {
   "display_name": "Python 3",
   "language": "python",
   "name": "python3"
  },
  "language_info": {
   "codemirror_mode": {
    "name": "ipython",
    "version": 3
   },
   "file_extension": ".py",
   "mimetype": "text/x-python",
   "name": "python",
   "nbconvert_exporter": "python",
   "pygments_lexer": "ipython3",
   "version": "3.8.5"
  }
 },
 "nbformat": 4,
 "nbformat_minor": 4
}
