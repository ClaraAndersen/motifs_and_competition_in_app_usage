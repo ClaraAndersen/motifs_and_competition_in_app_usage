{
 "cells": [
  {
   "cell_type": "code",
   "execution_count": 7,
   "metadata": {},
   "outputs": [],
   "source": [
    "import pandas as pd\n",
    "data = pd.read_csv('sorted_coded_data.csv')"
   ]
  },
  {
   "cell_type": "code",
   "execution_count": 9,
   "metadata": {},
   "outputs": [
    {
     "name": "stdout",
     "output_type": "stream",
     "text": [
      "Number of observations: 254450422\n"
     ]
    }
   ],
   "source": [
    "print('Number of observations:',data.shape[0])"
   ]
  },
  {
   "cell_type": "code",
   "execution_count": 13,
   "metadata": {},
   "outputs": [
    {
     "name": "stdout",
     "output_type": "stream",
     "text": [
      "Smallest number of observations for one user: 307\n"
     ]
    }
   ],
   "source": [
    "print(\"Smallest number of observations for one user:\",data.groupby('user_id').size().min())"
   ]
  },
  {
   "cell_type": "code",
   "execution_count": 14,
   "metadata": {},
   "outputs": [
    {
     "name": "stdout",
     "output_type": "stream",
     "text": [
      "Highest number of observations for one user: 193628\n"
     ]
    }
   ],
   "source": [
    "print(\"Highest number of observations for one user:\",data.groupby('user_id').size().max())"
   ]
  },
  {
   "cell_type": "code",
   "execution_count": 20,
   "metadata": {},
   "outputs": [
    {
     "name": "stdout",
     "output_type": "stream",
     "text": [
      "Smallest time period with observations for one user: 178.02041666666665 days\n",
      "Longest time period with observations for one user: 913.0784722222223 days\n"
     ]
    }
   ],
   "source": [
    "print(\"Smallest time period with observations for one user:\",data.groupby('user_id').end_time.max().min()/60/60/24,\"days\")\n",
    "print(\"Longest time period with observations for one user:\",data.groupby('user_id').end_time.max().max()/60/60/24, \"days\")"
   ]
  },
  {
   "cell_type": "markdown",
   "metadata": {},
   "source": [
    "The most popular apps"
   ]
  },
  {
   "cell_type": "code",
   "execution_count": 23,
   "metadata": {},
   "outputs": [
    {
     "data": {
      "text/plain": [
       "package_name\n",
       "com.facebook.katana                         35464060\n",
       "com.whatsapp                                30114817\n",
       "com.android.chrome                          21948187\n",
       "com.sonyericsson.conversations              16605524\n",
       "com.google.android.googlequicksearchbox     13462636\n",
       "com.facebook.orca                           12437082\n",
       "com.instagram.android                        9100763\n",
       "com.snapchat.android                         8252441\n",
       "com.google.android.gm                        5988842\n",
       "com.sonymobile.email                         5517861\n",
       "com.google.android.youtube                   4918604\n",
       "com.sonyericsson.album                       4823681\n",
       "com.twitter.android                          4271434\n",
       "com.google.android.apps.maps                 4113766\n",
       "com.android.incallui                         3826727\n",
       "com.sonyericsson.android.socialphonebook     3670979\n",
       "com.spotify.music                            3224221\n",
       "com.microsoft.office.outlook                 2392697\n",
       "com.sonyericsson.music                       1788486\n",
       "com.yahoo.mobile.client.android.mail         1574868\n",
       "dtype: int64"
      ]
     },
     "execution_count": 23,
     "metadata": {},
     "output_type": "execute_result"
    }
   ],
   "source": [
    "data.groupby('package_name').size().sort_values(ascending=False).head(20)"
   ]
  }
 ],
 "metadata": {
  "kernelspec": {
   "display_name": "Python 3",
   "language": "python",
   "name": "python3"
  },
  "language_info": {
   "codemirror_mode": {
    "name": "ipython",
    "version": 3
   },
   "file_extension": ".py",
   "mimetype": "text/x-python",
   "name": "python",
   "nbconvert_exporter": "python",
   "pygments_lexer": "ipython3",
   "version": "3.8.5"
  }
 },
 "nbformat": 4,
 "nbformat_minor": 4
}
