{
 "cells": [
  {
   "cell_type": "code",
   "execution_count": 64,
   "metadata": {},
   "outputs": [],
   "source": [
    "from spmf import Spmf\n",
    "import numpy as np\n",
    "import pandas as pd\n",
    "import os\n",
    "import re\n",
    "import matplotlib.pyplot as plt\n",
    "import ast\n",
    "pd.options.plotting.backend = \"plotly\"\n",
    "import plotly.express as px\n",
    "# from chart_studio import plotly\n",
    "from plotly.subplots import make_subplots\n",
    "import plotly.graph_objects as go\n",
    "import plotly.subplots as sp\n",
    "pd.options.display.max_colwidth = None\n",
    "pd.set_option('display.max_rows', 70)"
   ]
  },
  {
   "cell_type": "code",
   "execution_count": 65,
   "metadata": {},
   "outputs": [],
   "source": [
    "data=pd.read_csv(\"sorted_coded_session_293s_merged.csv\")"
   ]
  },
  {
   "cell_type": "markdown",
   "metadata": {},
   "source": [
    "# keep coverage of data"
   ]
  },
  {
   "cell_type": "code",
   "execution_count": 189,
   "metadata": {},
   "outputs": [],
   "source": [
    "cumulated_time_spend=data.groupby([\"user_id\",\"app_code\"]).agg({'time_spend':'sum'})['time_spend'].groupby('user_id', group_keys=False).apply(lambda x: x.sort_values(ascending=False).cumsum()).reset_index()"
   ]
  },
  {
   "cell_type": "code",
   "execution_count": 190,
   "metadata": {},
   "outputs": [],
   "source": [
    "total_time_spend=data.groupby('user_id').time_spend.sum()"
   ]
  },
  {
   "cell_type": "code",
   "execution_count": 191,
   "metadata": {},
   "outputs": [],
   "source": [
    "cumulated_time_spend=cumulated_time_spend.join(total_time_spend,on='user_id',rsuffix=\"_total\")"
   ]
  },
  {
   "cell_type": "code",
   "execution_count": 192,
   "metadata": {},
   "outputs": [],
   "source": [
    "cumulated_time_spend['coverage']=cumulated_time_spend.time_spend/cumulated_time_spend.time_spend_total"
   ]
  },
  {
   "cell_type": "code",
   "execution_count": 193,
   "metadata": {},
   "outputs": [],
   "source": [
    "cumulated_time_spend=cumulated_time_spend[cumulated_time_spend.coverage.shift(1)<=0.70]"
   ]
  },
  {
   "cell_type": "code",
   "execution_count": 194,
   "metadata": {},
   "outputs": [],
   "source": [
    "data_coverage=data.merge(cumulated_time_spend,how='inner',on=['user_id','app_code'])"
   ]
  },
  {
   "cell_type": "markdown",
   "metadata": {},
   "source": [
    "As a sanity check we take a look at how many apps are left for the each user after the apps were removed."
   ]
  },
  {
   "cell_type": "code",
   "execution_count": 195,
   "metadata": {},
   "outputs": [
    {
     "data": {
      "text/plain": [
       "527"
      ]
     },
     "execution_count": 195,
     "metadata": {},
     "output_type": "execute_result"
    }
   ],
   "source": [
    "(data_coverage.groupby('user_id').app_code.nunique()==1).sum()"
   ]
  },
  {
   "cell_type": "code",
   "execution_count": 196,
   "metadata": {},
   "outputs": [
    {
     "data": {
      "text/plain": [
       "user_id\n",
       "0       4\n",
       "2       2\n",
       "3       3\n",
       "5       3\n",
       "6       3\n",
       "       ..\n",
       "9992    2\n",
       "9993    3\n",
       "9994    4\n",
       "9995    2\n",
       "9997    2\n",
       "Name: app_code, Length: 5707, dtype: int64"
      ]
     },
     "execution_count": 196,
     "metadata": {},
     "output_type": "execute_result"
    }
   ],
   "source": [
    "data_coverage.groupby('user_id').app_code.nunique()[data_coverage.groupby('user_id').app_code.nunique()<5]"
   ]
  },
  {
   "cell_type": "code",
   "execution_count": 197,
   "metadata": {},
   "outputs": [
    {
     "name": "stdout",
     "output_type": "stream",
     "text": [
      "Number of observation after removing apps: 90303962\n",
      "Number of different apps left: 2268\n"
     ]
    }
   ],
   "source": [
    "print(\"Number of observation after removing apps:\",data_coverage.shape[0])\n",
    "print(\"Number of different apps left:\",data_coverage.app_code.nunique())"
   ]
  },
  {
   "cell_type": "markdown",
   "metadata": {},
   "source": [
    "Initially this results in 11 users only having 1 app left and 3469 users having less than 10 different apps. Therefore the coverage is increased form 90% to 95%. Here 1015 users have less than 10 different apps. for 99% 89 users have less than 10 apps. Only 7 have less than 5 and only one user has three apps, and no user has less than 3 different apps."
   ]
  },
  {
   "cell_type": "markdown",
   "metadata": {},
   "source": [
    "## update session length"
   ]
  },
  {
   "cell_type": "code",
   "execution_count": 198,
   "metadata": {},
   "outputs": [],
   "source": [
    "data_coverage=data_coverage.merge(data_coverage.groupby(['user_id','session']).agg({'app_code':'size'}).rename(columns={'app_code':'session_length'}).reset_index(),on=['user_id','session'])"
   ]
  },
  {
   "cell_type": "markdown",
   "metadata": {},
   "source": [
    "We are now ready to find the number of observations."
   ]
  },
  {
   "cell_type": "code",
   "execution_count": 199,
   "metadata": {},
   "outputs": [],
   "source": [
    "input_string=data_coverage[data_coverage.session_length>1].groupby(['user_id','session'])['app_code'].apply(list).apply(lambda l: ' -1 '.join([str(i) for i in l])+\" -1 -2\")"
   ]
  },
  {
   "cell_type": "code",
   "execution_count": 200,
   "metadata": {},
   "outputs": [],
   "source": [
    "input_string.to_csv(\"input_string_70_coverage.csv\",index='False')"
   ]
  },
  {
   "cell_type": "code",
   "execution_count": 201,
   "metadata": {},
   "outputs": [],
   "source": [
    "input_string=pd.read_csv(\"input_string_70_coverage.csv\")"
   ]
  },
  {
   "cell_type": "code",
   "execution_count": 202,
   "metadata": {},
   "outputs": [],
   "source": [
    "input_string=input_string.drop(['user_id','session'],axis=1)"
   ]
  },
  {
   "cell_type": "code",
   "execution_count": 203,
   "metadata": {},
   "outputs": [],
   "source": [
    "dfAsString = input_string.to_string(header=False, index=False).lstrip()"
   ]
  },
  {
   "cell_type": "code",
   "execution_count": 204,
   "metadata": {},
   "outputs": [],
   "source": [
    "dfAsString=re.sub(r'\\n\\s+','\\n',dfAsString)"
   ]
  },
  {
   "cell_type": "code",
   "execution_count": 205,
   "metadata": {},
   "outputs": [],
   "source": [
    "#update file name\n",
    "f = open(os.path.join(os.getcwd(), '293sec_sessions_70_coverage_without_length_1.txt'), 'w')\n",
    "f.write(dfAsString)\n",
    "f.close()"
   ]
  },
  {
   "cell_type": "code",
   "execution_count": 206,
   "metadata": {},
   "outputs": [
    {
     "name": "stdout",
     "output_type": "stream",
     "text": [
      ">/home/s164574/motifs_and_competition_in_app_usage/spmf.jar\n",
      "=============  VMSP v0.97 - STATISTICS =============\n",
      " Total time ~ 198252 ms\n",
      " Frequent sequences count : 68\n",
      " Max memory (mb) : 22900.25807189941468\n",
      "minsup 136450\n",
      "Intersection count 332 \n",
      "===================================================\n",
      "\n",
      "\n",
      "                                pattern     sup\n",
      "0                               [53996]  374685\n",
      "1                               [45261]  209142\n",
      "2                               [45260]  159030\n",
      "3                               [36529]  277496\n",
      "4                               [33357]  319240\n",
      "5                               [23909]  193550\n",
      "6                               [23906]  462013\n",
      "7                               [18676]  249771\n",
      "8                                [2259]  342373\n",
      "9                        [50519, 50519]  337960\n",
      "10                       [53003, 45264]  220910\n",
      "11                       [45264, 53003]  290301\n",
      "12                       [53003, 44880]  150934\n",
      "13                       [44880, 53003]  136774\n",
      "14                       [45846, 45846]  156208\n",
      "15                       [45329, 45329]  215314\n",
      "16                       [27441, 53003]  231643\n",
      "17                       [53003, 27441]  261402\n",
      "18                       [23949, 53003]  200484\n",
      "19                       [53003, 19973]  158829\n",
      "20                       [19973, 53003]  169481\n",
      "21                       [19968, 53003]  316425\n",
      "22                       [53003, 19968]  199788\n",
      "23                       [27441, 44880]  189184\n",
      "24                       [44880, 27441]  228909\n",
      "25                       [19968, 50519]  139105\n",
      "26                       [19968, 45264]  200607\n",
      "27                       [45264, 19968]  138241\n",
      "28                       [44880, 19973]  142454\n",
      "29                       [19968, 44880]  143779\n",
      "30                       [44880, 19968]  136689\n",
      "31                        [50519, 7649]  151232\n",
      "32                        [7649, 50519]  152172\n",
      "33                        [45264, 7649]  287877\n",
      "34                        [7649, 45264]  262250\n",
      "35                        [44880, 7649]  153121\n",
      "36                       [23967, 23967]  300889\n",
      "37                       [23947, 23947]  222311\n",
      "38                       [19973, 27441]  153515\n",
      "39                       [19968, 27441]  330961\n",
      "40                       [27441, 19968]  229280\n",
      "41                       [23949, 19968]  163523\n",
      "42                       [19968, 23949]  137547\n",
      "43                       [19968, 19973]  251522\n",
      "44                        [27441, 7649]  277266\n",
      "45                        [7649, 27441]  295732\n",
      "46                        [7649, 23967]  206071\n",
      "47                        [23947, 7649]  141664\n",
      "48                        [7649, 19973]  258087\n",
      "49                        [19973, 7649]  214755\n",
      "50                        [7649, 19968]  317767\n",
      "51                         [7653, 7653]  182336\n",
      "52                [44880, 44880, 44880]  231689\n",
      "53                 [7649, 53003, 53003]  234982\n",
      "54                 [53003, 53003, 7649]  211257\n",
      "55                [27441, 27441, 27441]  286960\n",
      "56                  [53003, 7649, 7649]  153128\n",
      "57                  [7649, 7649, 53003]  182870\n",
      "58                 [7649, 23949, 23949]  137603\n",
      "59                 [19968, 19968, 7649]  200366\n",
      "60                  [19968, 7649, 7649]  176219\n",
      "61         [45264, 45264, 45264, 45264]  136560\n",
      "62         [23949, 23949, 23949, 23949]  139919\n",
      "63         [19973, 19973, 19973, 19973]  162496\n",
      "64         [19968, 19968, 19968, 19968]  194970\n",
      "65           [23949, 23949, 7649, 7649]  173523\n",
      "66             [7649, 7649, 7649, 7649]  279938\n",
      "67  [53003, 53003, 53003, 53003, 53003]  206116\n"
     ]
    }
   ],
   "source": [
    "spmf = Spmf(\"VMSP\", input_filename=\"/home/s164574/motifs_and_competition_in_app_usage/293sec_sessions_70_coverage_without_length_1.txt\",\n",
    "            output_filename=\"/home/s164574/motifs_and_competition_in_app_usage/output_VMSP_293sec_sessions_70_coverage_without_length_1_min_sup_0_75.txt\",\n",
    "            spmf_bin_location_dir=\"/home/s164574/motifs_and_competition_in_app_usage/\",\n",
    "            arguments=[0.0075])\n",
    "spmf.run()\n",
    "print(spmf.to_pandas_dataframe(pickle=True))\n",
    "spmf.to_csv(\"output_VMSP_293sec_sessions_70_coverage_without_length_1_min_sup_0_75.csv\")"
   ]
  },
  {
   "cell_type": "code",
   "execution_count": 86,
   "metadata": {},
   "outputs": [],
   "source": [
    "app_dict=dict(zip(data.app_code, data.package_name))"
   ]
  },
  {
   "cell_type": "code",
   "execution_count": 207,
   "metadata": {},
   "outputs": [],
   "source": [
    "output=pd.read_csv(\"output_VMSP_293sec_sessions_70_coverage_without_length_1_min_sup_0_75.csv\",delimiter=';')\n",
    "output['pattern']=output.pattern.apply(lambda l: [app_dict[int(i)] for i in ast.literal_eval(l)])\n",
    "output=output.sort_values(['sup'],ascending=False)\n",
    "output['pattern_length']=output.pattern.apply(lambda l: len(l))\n",
    "output.to_csv(\"output_VMSP_293sec_sessions_70_coverage_without_length_1_min_sup_0_75.csv\",index=False)"
   ]
  },
  {
   "cell_type": "code",
   "execution_count": 208,
   "metadata": {},
   "outputs": [
    {
     "name": "stdout",
     "output_type": "stream",
     "text": [
      "Number of frequent patterns of length 1: 9\n",
      "Max lengths of frequent patterns: 5\n"
     ]
    }
   ],
   "source": [
    "print(\"Number of frequent patterns of length 1:\",len(output[output.pattern_length==1]))\n",
    "print(\"Max lengths of frequent patterns:\",output.pattern_length.max())"
   ]
  },
  {
   "cell_type": "code",
   "execution_count": 209,
   "metadata": {},
   "outputs": [
    {
     "data": {
      "text/html": [
       "<div>\n",
       "<style scoped>\n",
       "    .dataframe tbody tr th:only-of-type {\n",
       "        vertical-align: middle;\n",
       "    }\n",
       "\n",
       "    .dataframe tbody tr th {\n",
       "        vertical-align: top;\n",
       "    }\n",
       "\n",
       "    .dataframe thead th {\n",
       "        text-align: right;\n",
       "    }\n",
       "</style>\n",
       "<table border=\"1\" class=\"dataframe\">\n",
       "  <thead>\n",
       "    <tr style=\"text-align: right;\">\n",
       "      <th></th>\n",
       "      <th>pattern</th>\n",
       "      <th>sup</th>\n",
       "      <th>pattern_length</th>\n",
       "    </tr>\n",
       "  </thead>\n",
       "  <tbody>\n",
       "    <tr>\n",
       "      <th>6</th>\n",
       "      <td>[com.google.android.apps.maps]</td>\n",
       "      <td>462013</td>\n",
       "      <td>1</td>\n",
       "    </tr>\n",
       "    <tr>\n",
       "      <th>0</th>\n",
       "      <td>[com.yahoo.mobile.client.android.mail]</td>\n",
       "      <td>374685</td>\n",
       "      <td>1</td>\n",
       "    </tr>\n",
       "    <tr>\n",
       "      <th>8</th>\n",
       "      <td>[bbc.mobile.news.uk]</td>\n",
       "      <td>342373</td>\n",
       "      <td>1</td>\n",
       "    </tr>\n",
       "    <tr>\n",
       "      <th>9</th>\n",
       "      <td>[com.twitter.android, com.twitter.android]</td>\n",
       "      <td>337960</td>\n",
       "      <td>2</td>\n",
       "    </tr>\n",
       "    <tr>\n",
       "      <th>39</th>\n",
       "      <td>[com.facebook.katana, com.instagram.android]</td>\n",
       "      <td>330961</td>\n",
       "      <td>2</td>\n",
       "    </tr>\n",
       "    <tr>\n",
       "      <th>4</th>\n",
       "      <td>[com.microsoft.office.outlook]</td>\n",
       "      <td>319240</td>\n",
       "      <td>1</td>\n",
       "    </tr>\n",
       "    <tr>\n",
       "      <th>50</th>\n",
       "      <td>[com.android.chrome, com.facebook.katana]</td>\n",
       "      <td>317767</td>\n",
       "      <td>2</td>\n",
       "    </tr>\n",
       "    <tr>\n",
       "      <th>21</th>\n",
       "      <td>[com.facebook.katana, com.whatsapp]</td>\n",
       "      <td>316425</td>\n",
       "      <td>2</td>\n",
       "    </tr>\n",
       "    <tr>\n",
       "      <th>36</th>\n",
       "      <td>[com.google.android.youtube, com.google.android.youtube]</td>\n",
       "      <td>300889</td>\n",
       "      <td>2</td>\n",
       "    </tr>\n",
       "    <tr>\n",
       "      <th>45</th>\n",
       "      <td>[com.android.chrome, com.instagram.android]</td>\n",
       "      <td>295732</td>\n",
       "      <td>2</td>\n",
       "    </tr>\n",
       "    <tr>\n",
       "      <th>11</th>\n",
       "      <td>[com.sonyericsson.conversations, com.whatsapp]</td>\n",
       "      <td>290301</td>\n",
       "      <td>2</td>\n",
       "    </tr>\n",
       "    <tr>\n",
       "      <th>33</th>\n",
       "      <td>[com.sonyericsson.conversations, com.android.chrome]</td>\n",
       "      <td>287877</td>\n",
       "      <td>2</td>\n",
       "    </tr>\n",
       "    <tr>\n",
       "      <th>55</th>\n",
       "      <td>[com.instagram.android, com.instagram.android, com.instagram.android]</td>\n",
       "      <td>286960</td>\n",
       "      <td>3</td>\n",
       "    </tr>\n",
       "    <tr>\n",
       "      <th>66</th>\n",
       "      <td>[com.android.chrome, com.android.chrome, com.android.chrome, com.android.chrome]</td>\n",
       "      <td>279938</td>\n",
       "      <td>4</td>\n",
       "    </tr>\n",
       "    <tr>\n",
       "      <th>3</th>\n",
       "      <td>[com.nianticlabs.pokemongo]</td>\n",
       "      <td>277496</td>\n",
       "      <td>1</td>\n",
       "    </tr>\n",
       "    <tr>\n",
       "      <th>44</th>\n",
       "      <td>[com.instagram.android, com.android.chrome]</td>\n",
       "      <td>277266</td>\n",
       "      <td>2</td>\n",
       "    </tr>\n",
       "    <tr>\n",
       "      <th>34</th>\n",
       "      <td>[com.android.chrome, com.sonyericsson.conversations]</td>\n",
       "      <td>262250</td>\n",
       "      <td>2</td>\n",
       "    </tr>\n",
       "    <tr>\n",
       "      <th>17</th>\n",
       "      <td>[com.whatsapp, com.instagram.android]</td>\n",
       "      <td>261402</td>\n",
       "      <td>2</td>\n",
       "    </tr>\n",
       "    <tr>\n",
       "      <th>48</th>\n",
       "      <td>[com.android.chrome, com.facebook.orca]</td>\n",
       "      <td>258087</td>\n",
       "      <td>2</td>\n",
       "    </tr>\n",
       "    <tr>\n",
       "      <th>43</th>\n",
       "      <td>[com.facebook.katana, com.facebook.orca]</td>\n",
       "      <td>251522</td>\n",
       "      <td>2</td>\n",
       "    </tr>\n",
       "    <tr>\n",
       "      <th>7</th>\n",
       "      <td>[com.ebay.mobile]</td>\n",
       "      <td>249771</td>\n",
       "      <td>1</td>\n",
       "    </tr>\n",
       "    <tr>\n",
       "      <th>53</th>\n",
       "      <td>[com.android.chrome, com.whatsapp, com.whatsapp]</td>\n",
       "      <td>234982</td>\n",
       "      <td>3</td>\n",
       "    </tr>\n",
       "    <tr>\n",
       "      <th>52</th>\n",
       "      <td>[com.snapchat.android, com.snapchat.android, com.snapchat.android]</td>\n",
       "      <td>231689</td>\n",
       "      <td>3</td>\n",
       "    </tr>\n",
       "    <tr>\n",
       "      <th>16</th>\n",
       "      <td>[com.instagram.android, com.whatsapp]</td>\n",
       "      <td>231643</td>\n",
       "      <td>2</td>\n",
       "    </tr>\n",
       "    <tr>\n",
       "      <th>40</th>\n",
       "      <td>[com.instagram.android, com.facebook.katana]</td>\n",
       "      <td>229280</td>\n",
       "      <td>2</td>\n",
       "    </tr>\n",
       "    <tr>\n",
       "      <th>24</th>\n",
       "      <td>[com.snapchat.android, com.instagram.android]</td>\n",
       "      <td>228909</td>\n",
       "      <td>2</td>\n",
       "    </tr>\n",
       "    <tr>\n",
       "      <th>37</th>\n",
       "      <td>[com.google.android.gm, com.google.android.gm]</td>\n",
       "      <td>222311</td>\n",
       "      <td>2</td>\n",
       "    </tr>\n",
       "    <tr>\n",
       "      <th>10</th>\n",
       "      <td>[com.whatsapp, com.sonyericsson.conversations]</td>\n",
       "      <td>220910</td>\n",
       "      <td>2</td>\n",
       "    </tr>\n",
       "    <tr>\n",
       "      <th>15</th>\n",
       "      <td>[com.sonymobile.email, com.sonymobile.email]</td>\n",
       "      <td>215314</td>\n",
       "      <td>2</td>\n",
       "    </tr>\n",
       "    <tr>\n",
       "      <th>49</th>\n",
       "      <td>[com.facebook.orca, com.android.chrome]</td>\n",
       "      <td>214755</td>\n",
       "      <td>2</td>\n",
       "    </tr>\n",
       "    <tr>\n",
       "      <th>54</th>\n",
       "      <td>[com.whatsapp, com.whatsapp, com.android.chrome]</td>\n",
       "      <td>211257</td>\n",
       "      <td>3</td>\n",
       "    </tr>\n",
       "    <tr>\n",
       "      <th>1</th>\n",
       "      <td>[com.sonyericsson.android.socialphonebook]</td>\n",
       "      <td>209142</td>\n",
       "      <td>1</td>\n",
       "    </tr>\n",
       "    <tr>\n",
       "      <th>67</th>\n",
       "      <td>[com.whatsapp, com.whatsapp, com.whatsapp, com.whatsapp, com.whatsapp]</td>\n",
       "      <td>206116</td>\n",
       "      <td>5</td>\n",
       "    </tr>\n",
       "    <tr>\n",
       "      <th>46</th>\n",
       "      <td>[com.android.chrome, com.google.android.youtube]</td>\n",
       "      <td>206071</td>\n",
       "      <td>2</td>\n",
       "    </tr>\n",
       "    <tr>\n",
       "      <th>26</th>\n",
       "      <td>[com.facebook.katana, com.sonyericsson.conversations]</td>\n",
       "      <td>200607</td>\n",
       "      <td>2</td>\n",
       "    </tr>\n",
       "    <tr>\n",
       "      <th>18</th>\n",
       "      <td>[com.google.android.googlequicksearchbox, com.whatsapp]</td>\n",
       "      <td>200484</td>\n",
       "      <td>2</td>\n",
       "    </tr>\n",
       "    <tr>\n",
       "      <th>59</th>\n",
       "      <td>[com.facebook.katana, com.facebook.katana, com.android.chrome]</td>\n",
       "      <td>200366</td>\n",
       "      <td>3</td>\n",
       "    </tr>\n",
       "    <tr>\n",
       "      <th>22</th>\n",
       "      <td>[com.whatsapp, com.facebook.katana]</td>\n",
       "      <td>199788</td>\n",
       "      <td>2</td>\n",
       "    </tr>\n",
       "    <tr>\n",
       "      <th>64</th>\n",
       "      <td>[com.facebook.katana, com.facebook.katana, com.facebook.katana, com.facebook.katana]</td>\n",
       "      <td>194970</td>\n",
       "      <td>4</td>\n",
       "    </tr>\n",
       "    <tr>\n",
       "      <th>5</th>\n",
       "      <td>[com.google.android.apps.messaging]</td>\n",
       "      <td>193550</td>\n",
       "      <td>1</td>\n",
       "    </tr>\n",
       "    <tr>\n",
       "      <th>23</th>\n",
       "      <td>[com.instagram.android, com.snapchat.android]</td>\n",
       "      <td>189184</td>\n",
       "      <td>2</td>\n",
       "    </tr>\n",
       "    <tr>\n",
       "      <th>57</th>\n",
       "      <td>[com.android.chrome, com.android.chrome, com.whatsapp]</td>\n",
       "      <td>182870</td>\n",
       "      <td>3</td>\n",
       "    </tr>\n",
       "    <tr>\n",
       "      <th>51</th>\n",
       "      <td>[com.android.incallui, com.android.incallui]</td>\n",
       "      <td>182336</td>\n",
       "      <td>2</td>\n",
       "    </tr>\n",
       "    <tr>\n",
       "      <th>60</th>\n",
       "      <td>[com.facebook.katana, com.android.chrome, com.android.chrome]</td>\n",
       "      <td>176219</td>\n",
       "      <td>3</td>\n",
       "    </tr>\n",
       "    <tr>\n",
       "      <th>65</th>\n",
       "      <td>[com.google.android.googlequicksearchbox, com.google.android.googlequicksearchbox, com.android.chrome, com.android.chrome]</td>\n",
       "      <td>173523</td>\n",
       "      <td>4</td>\n",
       "    </tr>\n",
       "    <tr>\n",
       "      <th>20</th>\n",
       "      <td>[com.facebook.orca, com.whatsapp]</td>\n",
       "      <td>169481</td>\n",
       "      <td>2</td>\n",
       "    </tr>\n",
       "    <tr>\n",
       "      <th>41</th>\n",
       "      <td>[com.google.android.googlequicksearchbox, com.facebook.katana]</td>\n",
       "      <td>163523</td>\n",
       "      <td>2</td>\n",
       "    </tr>\n",
       "    <tr>\n",
       "      <th>63</th>\n",
       "      <td>[com.facebook.orca, com.facebook.orca, com.facebook.orca, com.facebook.orca]</td>\n",
       "      <td>162496</td>\n",
       "      <td>4</td>\n",
       "    </tr>\n",
       "    <tr>\n",
       "      <th>2</th>\n",
       "      <td>[com.sonyericsson.album]</td>\n",
       "      <td>159030</td>\n",
       "      <td>1</td>\n",
       "    </tr>\n",
       "    <tr>\n",
       "      <th>19</th>\n",
       "      <td>[com.whatsapp, com.facebook.orca]</td>\n",
       "      <td>158829</td>\n",
       "      <td>2</td>\n",
       "    </tr>\n",
       "    <tr>\n",
       "      <th>14</th>\n",
       "      <td>[com.spotify.music, com.spotify.music]</td>\n",
       "      <td>156208</td>\n",
       "      <td>2</td>\n",
       "    </tr>\n",
       "    <tr>\n",
       "      <th>38</th>\n",
       "      <td>[com.facebook.orca, com.instagram.android]</td>\n",
       "      <td>153515</td>\n",
       "      <td>2</td>\n",
       "    </tr>\n",
       "    <tr>\n",
       "      <th>56</th>\n",
       "      <td>[com.whatsapp, com.android.chrome, com.android.chrome]</td>\n",
       "      <td>153128</td>\n",
       "      <td>3</td>\n",
       "    </tr>\n",
       "    <tr>\n",
       "      <th>35</th>\n",
       "      <td>[com.snapchat.android, com.android.chrome]</td>\n",
       "      <td>153121</td>\n",
       "      <td>2</td>\n",
       "    </tr>\n",
       "    <tr>\n",
       "      <th>32</th>\n",
       "      <td>[com.android.chrome, com.twitter.android]</td>\n",
       "      <td>152172</td>\n",
       "      <td>2</td>\n",
       "    </tr>\n",
       "    <tr>\n",
       "      <th>31</th>\n",
       "      <td>[com.twitter.android, com.android.chrome]</td>\n",
       "      <td>151232</td>\n",
       "      <td>2</td>\n",
       "    </tr>\n",
       "    <tr>\n",
       "      <th>12</th>\n",
       "      <td>[com.whatsapp, com.snapchat.android]</td>\n",
       "      <td>150934</td>\n",
       "      <td>2</td>\n",
       "    </tr>\n",
       "    <tr>\n",
       "      <th>29</th>\n",
       "      <td>[com.facebook.katana, com.snapchat.android]</td>\n",
       "      <td>143779</td>\n",
       "      <td>2</td>\n",
       "    </tr>\n",
       "    <tr>\n",
       "      <th>28</th>\n",
       "      <td>[com.snapchat.android, com.facebook.orca]</td>\n",
       "      <td>142454</td>\n",
       "      <td>2</td>\n",
       "    </tr>\n",
       "    <tr>\n",
       "      <th>47</th>\n",
       "      <td>[com.google.android.gm, com.android.chrome]</td>\n",
       "      <td>141664</td>\n",
       "      <td>2</td>\n",
       "    </tr>\n",
       "    <tr>\n",
       "      <th>62</th>\n",
       "      <td>[com.google.android.googlequicksearchbox, com.google.android.googlequicksearchbox, com.google.android.googlequicksearchbox, com.google.android.googlequicksearchbox]</td>\n",
       "      <td>139919</td>\n",
       "      <td>4</td>\n",
       "    </tr>\n",
       "    <tr>\n",
       "      <th>25</th>\n",
       "      <td>[com.facebook.katana, com.twitter.android]</td>\n",
       "      <td>139105</td>\n",
       "      <td>2</td>\n",
       "    </tr>\n",
       "    <tr>\n",
       "      <th>27</th>\n",
       "      <td>[com.sonyericsson.conversations, com.facebook.katana]</td>\n",
       "      <td>138241</td>\n",
       "      <td>2</td>\n",
       "    </tr>\n",
       "    <tr>\n",
       "      <th>58</th>\n",
       "      <td>[com.android.chrome, com.google.android.googlequicksearchbox, com.google.android.googlequicksearchbox]</td>\n",
       "      <td>137603</td>\n",
       "      <td>3</td>\n",
       "    </tr>\n",
       "    <tr>\n",
       "      <th>42</th>\n",
       "      <td>[com.facebook.katana, com.google.android.googlequicksearchbox]</td>\n",
       "      <td>137547</td>\n",
       "      <td>2</td>\n",
       "    </tr>\n",
       "    <tr>\n",
       "      <th>13</th>\n",
       "      <td>[com.snapchat.android, com.whatsapp]</td>\n",
       "      <td>136774</td>\n",
       "      <td>2</td>\n",
       "    </tr>\n",
       "    <tr>\n",
       "      <th>30</th>\n",
       "      <td>[com.snapchat.android, com.facebook.katana]</td>\n",
       "      <td>136689</td>\n",
       "      <td>2</td>\n",
       "    </tr>\n",
       "    <tr>\n",
       "      <th>61</th>\n",
       "      <td>[com.sonyericsson.conversations, com.sonyericsson.conversations, com.sonyericsson.conversations, com.sonyericsson.conversations]</td>\n",
       "      <td>136560</td>\n",
       "      <td>4</td>\n",
       "    </tr>\n",
       "  </tbody>\n",
       "</table>\n",
       "</div>"
      ],
      "text/plain": [
       "                                                                                                                                                                 pattern  \\\n",
       "6                                                                                                                                         [com.google.android.apps.maps]   \n",
       "0                                                                                                                                 [com.yahoo.mobile.client.android.mail]   \n",
       "8                                                                                                                                                   [bbc.mobile.news.uk]   \n",
       "9                                                                                                                             [com.twitter.android, com.twitter.android]   \n",
       "39                                                                                                                          [com.facebook.katana, com.instagram.android]   \n",
       "4                                                                                                                                         [com.microsoft.office.outlook]   \n",
       "50                                                                                                                             [com.android.chrome, com.facebook.katana]   \n",
       "21                                                                                                                                   [com.facebook.katana, com.whatsapp]   \n",
       "36                                                                                                              [com.google.android.youtube, com.google.android.youtube]   \n",
       "45                                                                                                                           [com.android.chrome, com.instagram.android]   \n",
       "11                                                                                                                        [com.sonyericsson.conversations, com.whatsapp]   \n",
       "33                                                                                                                  [com.sonyericsson.conversations, com.android.chrome]   \n",
       "55                                                                                                 [com.instagram.android, com.instagram.android, com.instagram.android]   \n",
       "66                                                                                      [com.android.chrome, com.android.chrome, com.android.chrome, com.android.chrome]   \n",
       "3                                                                                                                                            [com.nianticlabs.pokemongo]   \n",
       "44                                                                                                                           [com.instagram.android, com.android.chrome]   \n",
       "34                                                                                                                  [com.android.chrome, com.sonyericsson.conversations]   \n",
       "17                                                                                                                                 [com.whatsapp, com.instagram.android]   \n",
       "48                                                                                                                               [com.android.chrome, com.facebook.orca]   \n",
       "43                                                                                                                              [com.facebook.katana, com.facebook.orca]   \n",
       "7                                                                                                                                                      [com.ebay.mobile]   \n",
       "53                                                                                                                      [com.android.chrome, com.whatsapp, com.whatsapp]   \n",
       "52                                                                                                    [com.snapchat.android, com.snapchat.android, com.snapchat.android]   \n",
       "16                                                                                                                                 [com.instagram.android, com.whatsapp]   \n",
       "40                                                                                                                          [com.instagram.android, com.facebook.katana]   \n",
       "24                                                                                                                         [com.snapchat.android, com.instagram.android]   \n",
       "37                                                                                                                        [com.google.android.gm, com.google.android.gm]   \n",
       "10                                                                                                                        [com.whatsapp, com.sonyericsson.conversations]   \n",
       "15                                                                                                                          [com.sonymobile.email, com.sonymobile.email]   \n",
       "49                                                                                                                               [com.facebook.orca, com.android.chrome]   \n",
       "54                                                                                                                      [com.whatsapp, com.whatsapp, com.android.chrome]   \n",
       "1                                                                                                                             [com.sonyericsson.android.socialphonebook]   \n",
       "67                                                                                                [com.whatsapp, com.whatsapp, com.whatsapp, com.whatsapp, com.whatsapp]   \n",
       "46                                                                                                                      [com.android.chrome, com.google.android.youtube]   \n",
       "26                                                                                                                 [com.facebook.katana, com.sonyericsson.conversations]   \n",
       "18                                                                                                               [com.google.android.googlequicksearchbox, com.whatsapp]   \n",
       "59                                                                                                        [com.facebook.katana, com.facebook.katana, com.android.chrome]   \n",
       "22                                                                                                                                   [com.whatsapp, com.facebook.katana]   \n",
       "64                                                                                  [com.facebook.katana, com.facebook.katana, com.facebook.katana, com.facebook.katana]   \n",
       "5                                                                                                                                    [com.google.android.apps.messaging]   \n",
       "23                                                                                                                         [com.instagram.android, com.snapchat.android]   \n",
       "57                                                                                                                [com.android.chrome, com.android.chrome, com.whatsapp]   \n",
       "51                                                                                                                          [com.android.incallui, com.android.incallui]   \n",
       "60                                                                                                         [com.facebook.katana, com.android.chrome, com.android.chrome]   \n",
       "65                                            [com.google.android.googlequicksearchbox, com.google.android.googlequicksearchbox, com.android.chrome, com.android.chrome]   \n",
       "20                                                                                                                                     [com.facebook.orca, com.whatsapp]   \n",
       "41                                                                                                        [com.google.android.googlequicksearchbox, com.facebook.katana]   \n",
       "63                                                                                          [com.facebook.orca, com.facebook.orca, com.facebook.orca, com.facebook.orca]   \n",
       "2                                                                                                                                               [com.sonyericsson.album]   \n",
       "19                                                                                                                                     [com.whatsapp, com.facebook.orca]   \n",
       "14                                                                                                                                [com.spotify.music, com.spotify.music]   \n",
       "38                                                                                                                            [com.facebook.orca, com.instagram.android]   \n",
       "56                                                                                                                [com.whatsapp, com.android.chrome, com.android.chrome]   \n",
       "35                                                                                                                            [com.snapchat.android, com.android.chrome]   \n",
       "32                                                                                                                             [com.android.chrome, com.twitter.android]   \n",
       "31                                                                                                                             [com.twitter.android, com.android.chrome]   \n",
       "12                                                                                                                                  [com.whatsapp, com.snapchat.android]   \n",
       "29                                                                                                                           [com.facebook.katana, com.snapchat.android]   \n",
       "28                                                                                                                             [com.snapchat.android, com.facebook.orca]   \n",
       "47                                                                                                                           [com.google.android.gm, com.android.chrome]   \n",
       "62  [com.google.android.googlequicksearchbox, com.google.android.googlequicksearchbox, com.google.android.googlequicksearchbox, com.google.android.googlequicksearchbox]   \n",
       "25                                                                                                                            [com.facebook.katana, com.twitter.android]   \n",
       "27                                                                                                                 [com.sonyericsson.conversations, com.facebook.katana]   \n",
       "58                                                                [com.android.chrome, com.google.android.googlequicksearchbox, com.google.android.googlequicksearchbox]   \n",
       "42                                                                                                        [com.facebook.katana, com.google.android.googlequicksearchbox]   \n",
       "13                                                                                                                                  [com.snapchat.android, com.whatsapp]   \n",
       "30                                                                                                                           [com.snapchat.android, com.facebook.katana]   \n",
       "61                                      [com.sonyericsson.conversations, com.sonyericsson.conversations, com.sonyericsson.conversations, com.sonyericsson.conversations]   \n",
       "\n",
       "       sup  pattern_length  \n",
       "6   462013               1  \n",
       "0   374685               1  \n",
       "8   342373               1  \n",
       "9   337960               2  \n",
       "39  330961               2  \n",
       "4   319240               1  \n",
       "50  317767               2  \n",
       "21  316425               2  \n",
       "36  300889               2  \n",
       "45  295732               2  \n",
       "11  290301               2  \n",
       "33  287877               2  \n",
       "55  286960               3  \n",
       "66  279938               4  \n",
       "3   277496               1  \n",
       "44  277266               2  \n",
       "34  262250               2  \n",
       "17  261402               2  \n",
       "48  258087               2  \n",
       "43  251522               2  \n",
       "7   249771               1  \n",
       "53  234982               3  \n",
       "52  231689               3  \n",
       "16  231643               2  \n",
       "40  229280               2  \n",
       "24  228909               2  \n",
       "37  222311               2  \n",
       "10  220910               2  \n",
       "15  215314               2  \n",
       "49  214755               2  \n",
       "54  211257               3  \n",
       "1   209142               1  \n",
       "67  206116               5  \n",
       "46  206071               2  \n",
       "26  200607               2  \n",
       "18  200484               2  \n",
       "59  200366               3  \n",
       "22  199788               2  \n",
       "64  194970               4  \n",
       "5   193550               1  \n",
       "23  189184               2  \n",
       "57  182870               3  \n",
       "51  182336               2  \n",
       "60  176219               3  \n",
       "65  173523               4  \n",
       "20  169481               2  \n",
       "41  163523               2  \n",
       "63  162496               4  \n",
       "2   159030               1  \n",
       "19  158829               2  \n",
       "14  156208               2  \n",
       "38  153515               2  \n",
       "56  153128               3  \n",
       "35  153121               2  \n",
       "32  152172               2  \n",
       "31  151232               2  \n",
       "12  150934               2  \n",
       "29  143779               2  \n",
       "28  142454               2  \n",
       "47  141664               2  \n",
       "62  139919               4  \n",
       "25  139105               2  \n",
       "27  138241               2  \n",
       "58  137603               3  \n",
       "42  137547               2  \n",
       "13  136774               2  \n",
       "30  136689               2  \n",
       "61  136560               4  "
      ]
     },
     "execution_count": 209,
     "metadata": {},
     "output_type": "execute_result"
    }
   ],
   "source": [
    "output"
   ]
  },
  {
   "cell_type": "markdown",
   "metadata": {},
   "source": [
    "With the overall perspective and the low coverage it is not suprising that it are the well known apps that we see here. it also turns out that we end up with a lot of repeating apps.Since repaeting apps were merged apps were removed based on coverage. It indicates that for instane com.google.android.youtube -> x -> com.google.android.youtube is a common pattern. It is also clear to se that apps where you spend a lot of time are generally favoured. For instance the most common pattern is youtube->youtube which is an app were people could be expected to use more time."
   ]
  },
  {
   "cell_type": "code",
   "execution_count": 91,
   "metadata": {},
   "outputs": [
    {
     "name": "stdout",
     "output_type": "stream",
     "text": [
      ">/home/s164574/motifs_and_competition_in_app_usage/spmf.jar\n",
      "=============  VMSP v0.97 - STATISTICS =============\n",
      " Total time ~ 589600 ms\n",
      " Frequent sequences count : 107\n",
      " Max memory (mb) : 14170.760398864746107\n",
      "minsup 396290\n",
      "Intersection count 580 \n",
      "===================================================\n",
      "\n",
      "\n",
      "                  pattern      sup\n",
      "0                 [65472]   420464\n",
      "1                 [53996]  1065566\n",
      "2                 [49042]   523059\n",
      "3                 [45846]  1581664\n",
      "4                 [45327]   454480\n",
      "..                    ...      ...\n",
      "102  [19968, 7649, 19968]   752957\n",
      "103   [7649, 23949, 7649]   590476\n",
      "104   [23949, 7649, 7649]   521353\n",
      "105   [7649, 19968, 7649]   442857\n",
      "106    [7649, 7649, 7649]   415624\n",
      "\n",
      "[107 rows x 2 columns]\n"
     ]
    }
   ],
   "source": [
    "spmf = Spmf(\"VMSP\", input_filename=\"/home/s164574/motifs_and_competition_in_app_usage/20sec_sessions_0_01_removed.txt\",\n",
    "            output_filename=\"/home/s164574/motifs_and_competition_in_app_usage/output_VMSP_test.txt\",\n",
    "            spmf_bin_location_dir=\"/home/s164574/motifs_and_competition_in_app_usage/\",\n",
    "            arguments=[0.0075])\n",
    "spmf.run()\n",
    "print(spmf.to_pandas_dataframe(pickle=True))\n",
    "spmf.to_csv(\"output_VMSP_test.csv\")"
   ]
  },
  {
   "cell_type": "markdown",
   "metadata": {},
   "source": [
    "With the time coverage a lot more observations need to be removed. Therefore we will instead try to use the coverage of the observations so as to for instance keep 90% of the users observations.\n",
    "This does however have the disadvantage that we risk more scars observations within a session after they are removed."
   ]
  },
  {
   "cell_type": "code",
   "execution_count": 151,
   "metadata": {},
   "outputs": [],
   "source": [
    "app_occurences=data.groupby([\"user_id\",\"app_code\"]).agg({'package_name':'size'})['package_name'].groupby('user_id', group_keys=False).apply(lambda x: x.sort_values(ascending=False).cumsum()).reset_index()"
   ]
  },
  {
   "cell_type": "code",
   "execution_count": 152,
   "metadata": {},
   "outputs": [],
   "source": [
    "total_apps=data.groupby('user_id').package_name.size()"
   ]
  },
  {
   "cell_type": "code",
   "execution_count": 153,
   "metadata": {},
   "outputs": [],
   "source": [
    "app_occurences=app_occurences.join(total_apps,on='user_id',rsuffix=\"_total\")"
   ]
  },
  {
   "cell_type": "code",
   "execution_count": 154,
   "metadata": {},
   "outputs": [],
   "source": [
    "app_occurences['coverage']=app_occurences.package_name/app_occurences.package_name_total"
   ]
  },
  {
   "cell_type": "code",
   "execution_count": 155,
   "metadata": {},
   "outputs": [],
   "source": [
    "app_occurences=app_occurences[app_occurences.coverage.shift(1)<=0.75]"
   ]
  },
  {
   "cell_type": "code",
   "execution_count": 156,
   "metadata": {},
   "outputs": [],
   "source": [
    "data_coverage=data.merge(app_occurences,how='inner',on=['user_id','app_code'])"
   ]
  },
  {
   "cell_type": "code",
   "execution_count": 157,
   "metadata": {},
   "outputs": [
    {
     "data": {
      "text/plain": [
       "20"
      ]
     },
     "execution_count": 157,
     "metadata": {},
     "output_type": "execute_result"
    }
   ],
   "source": [
    "(data_coverage.groupby('user_id').app_code.nunique()==1).sum()"
   ]
  },
  {
   "cell_type": "code",
   "execution_count": 158,
   "metadata": {},
   "outputs": [
    {
     "name": "stdout",
     "output_type": "stream",
     "text": [
      "Number of observation after removing apps: 121813869\n",
      "Number of different apps left: 2469\n"
     ]
    }
   ],
   "source": [
    "print(\"Number of observation after removing apps:\",data_coverage.shape[0])\n",
    "print(\"Number of different apps left:\",data_coverage.app_code.nunique())"
   ]
  },
  {
   "cell_type": "code",
   "execution_count": 159,
   "metadata": {},
   "outputs": [],
   "source": [
    "data_coverage=data_coverage.merge(data_coverage.groupby(['user_id','session']).agg({'app_code':'size'}).rename(columns={'app_code':'session_length'}).reset_index(),on=['user_id','session'])"
   ]
  },
  {
   "cell_type": "code",
   "execution_count": 160,
   "metadata": {},
   "outputs": [],
   "source": [
    "input_string=data_coverage[data_coverage.session_length>1].groupby(['user_id','session'])['app_code'].apply(list).apply(lambda l: ' -1 '.join([str(i) for i in l])+\" -1 -2\")"
   ]
  },
  {
   "cell_type": "code",
   "execution_count": 161,
   "metadata": {},
   "outputs": [],
   "source": [
    "input_string.to_csv(\"input_string_75_observation_coverage.csv\",index='False')"
   ]
  },
  {
   "cell_type": "code",
   "execution_count": 162,
   "metadata": {},
   "outputs": [],
   "source": [
    "input_string=pd.read_csv(\"input_string_75_observation_coverage.csv\")"
   ]
  },
  {
   "cell_type": "code",
   "execution_count": 163,
   "metadata": {},
   "outputs": [],
   "source": [
    "input_string=input_string.drop(['user_id','session'],axis=1)"
   ]
  },
  {
   "cell_type": "code",
   "execution_count": 164,
   "metadata": {},
   "outputs": [],
   "source": [
    "dfAsString = input_string.to_string(header=False, index=False).lstrip()"
   ]
  },
  {
   "cell_type": "code",
   "execution_count": 165,
   "metadata": {},
   "outputs": [],
   "source": [
    "dfAsString=re.sub(r'\\n\\s+','\\n',dfAsString)"
   ]
  },
  {
   "cell_type": "code",
   "execution_count": 166,
   "metadata": {},
   "outputs": [],
   "source": [
    "#update file name\n",
    "f = open(os.path.join(os.getcwd(), '293sec_sessions_75_observation_coverage_without_length_1.txt'), 'w')\n",
    "f.write(dfAsString)\n",
    "f.close()"
   ]
  },
  {
   "cell_type": "code",
   "execution_count": 167,
   "metadata": {},
   "outputs": [
    {
     "ename": "CalledProcessError",
     "evalue": "Command '['java', '-jar', '/home/s164574/motifs_and_competition_in_app_usage/spmf.jar', 'run', 'VMSP', '/home/s164574/motifs_and_competition_in_app_usage/293sec_sessions_75_observation_coverage_without_length_1.txt', '/home/s164574/motifs_and_competition_in_app_usage/output_VMSP_293sec_sessions_75_observation_coverage_without_length_1_min_sup_0_75.txt', '0.0075']' returned non-zero exit status 1.",
     "output_type": "error",
     "traceback": [
      "\u001b[0;31m---------------------------------------------------------------------------\u001b[0m",
      "\u001b[0;31mCalledProcessError\u001b[0m                        Traceback (most recent call last)",
      "\u001b[0;32m<ipython-input-167-1c99517ec420>\u001b[0m in \u001b[0;36m<module>\u001b[0;34m\u001b[0m\n\u001b[1;32m      3\u001b[0m             \u001b[0mspmf_bin_location_dir\u001b[0m\u001b[0;34m=\u001b[0m\u001b[0;34m\"/home/s164574/motifs_and_competition_in_app_usage/\"\u001b[0m\u001b[0;34m,\u001b[0m\u001b[0;34m\u001b[0m\u001b[0;34m\u001b[0m\u001b[0m\n\u001b[1;32m      4\u001b[0m             arguments=[0.0075])\n\u001b[0;32m----> 5\u001b[0;31m \u001b[0mspmf\u001b[0m\u001b[0;34m.\u001b[0m\u001b[0mrun\u001b[0m\u001b[0;34m(\u001b[0m\u001b[0;34m)\u001b[0m\u001b[0;34m\u001b[0m\u001b[0;34m\u001b[0m\u001b[0m\n\u001b[0m\u001b[1;32m      6\u001b[0m \u001b[0mprint\u001b[0m\u001b[0;34m(\u001b[0m\u001b[0mspmf\u001b[0m\u001b[0;34m.\u001b[0m\u001b[0mto_pandas_dataframe\u001b[0m\u001b[0;34m(\u001b[0m\u001b[0mpickle\u001b[0m\u001b[0;34m=\u001b[0m\u001b[0;32mTrue\u001b[0m\u001b[0;34m)\u001b[0m\u001b[0;34m)\u001b[0m\u001b[0;34m\u001b[0m\u001b[0;34m\u001b[0m\u001b[0m\n\u001b[1;32m      7\u001b[0m \u001b[0mspmf\u001b[0m\u001b[0;34m.\u001b[0m\u001b[0mto_csv\u001b[0m\u001b[0;34m(\u001b[0m\u001b[0;34m\"output_VMSP_293sec_sessions_75_observation_coverage_without_length_1_min_sup_0_75.csv\"\u001b[0m\u001b[0;34m)\u001b[0m\u001b[0;34m\u001b[0m\u001b[0;34m\u001b[0m\u001b[0m\n",
      "\u001b[0;32m~/.conda/envs/myenv/lib/python3.8/site-packages/spmf/__init__.py\u001b[0m in \u001b[0;36mrun\u001b[0;34m(self)\u001b[0m\n\u001b[1;32m    100\u001b[0m         \u001b[0msubprocess_arguments\u001b[0m\u001b[0;34m.\u001b[0m\u001b[0mextend\u001b[0m\u001b[0;34m(\u001b[0m\u001b[0mself\u001b[0m\u001b[0;34m.\u001b[0m\u001b[0marguments_\u001b[0m\u001b[0;34m)\u001b[0m\u001b[0;34m\u001b[0m\u001b[0;34m\u001b[0m\u001b[0m\n\u001b[1;32m    101\u001b[0m \u001b[0;34m\u001b[0m\u001b[0m\n\u001b[0;32m--> 102\u001b[0;31m         \u001b[0mproc\u001b[0m \u001b[0;34m=\u001b[0m \u001b[0msubprocess\u001b[0m\u001b[0;34m.\u001b[0m\u001b[0mcheck_output\u001b[0m\u001b[0;34m(\u001b[0m\u001b[0msubprocess_arguments\u001b[0m\u001b[0;34m)\u001b[0m\u001b[0;34m\u001b[0m\u001b[0;34m\u001b[0m\u001b[0m\n\u001b[0m\u001b[1;32m    103\u001b[0m         \u001b[0mproc_output\u001b[0m \u001b[0;34m=\u001b[0m \u001b[0mproc\u001b[0m\u001b[0;34m.\u001b[0m\u001b[0mdecode\u001b[0m\u001b[0;34m(\u001b[0m\u001b[0;34m)\u001b[0m\u001b[0;34m\u001b[0m\u001b[0;34m\u001b[0m\u001b[0m\n\u001b[1;32m    104\u001b[0m         \u001b[0mprint\u001b[0m\u001b[0;34m(\u001b[0m\u001b[0mproc_output\u001b[0m\u001b[0;34m)\u001b[0m\u001b[0;34m\u001b[0m\u001b[0;34m\u001b[0m\u001b[0m\n",
      "\u001b[0;32m~/.conda/envs/myenv/lib/python3.8/subprocess.py\u001b[0m in \u001b[0;36mcheck_output\u001b[0;34m(timeout, *popenargs, **kwargs)\u001b[0m\n\u001b[1;32m    409\u001b[0m         \u001b[0mkwargs\u001b[0m\u001b[0;34m[\u001b[0m\u001b[0;34m'input'\u001b[0m\u001b[0;34m]\u001b[0m \u001b[0;34m=\u001b[0m \u001b[0;34m''\u001b[0m \u001b[0;32mif\u001b[0m \u001b[0mkwargs\u001b[0m\u001b[0;34m.\u001b[0m\u001b[0mget\u001b[0m\u001b[0;34m(\u001b[0m\u001b[0;34m'universal_newlines'\u001b[0m\u001b[0;34m,\u001b[0m \u001b[0;32mFalse\u001b[0m\u001b[0;34m)\u001b[0m \u001b[0;32melse\u001b[0m \u001b[0;34mb''\u001b[0m\u001b[0;34m\u001b[0m\u001b[0;34m\u001b[0m\u001b[0m\n\u001b[1;32m    410\u001b[0m \u001b[0;34m\u001b[0m\u001b[0m\n\u001b[0;32m--> 411\u001b[0;31m     return run(*popenargs, stdout=PIPE, timeout=timeout, check=True,\n\u001b[0m\u001b[1;32m    412\u001b[0m                **kwargs).stdout\n\u001b[1;32m    413\u001b[0m \u001b[0;34m\u001b[0m\u001b[0m\n",
      "\u001b[0;32m~/.conda/envs/myenv/lib/python3.8/subprocess.py\u001b[0m in \u001b[0;36mrun\u001b[0;34m(input, capture_output, timeout, check, *popenargs, **kwargs)\u001b[0m\n\u001b[1;32m    510\u001b[0m         \u001b[0mretcode\u001b[0m \u001b[0;34m=\u001b[0m \u001b[0mprocess\u001b[0m\u001b[0;34m.\u001b[0m\u001b[0mpoll\u001b[0m\u001b[0;34m(\u001b[0m\u001b[0;34m)\u001b[0m\u001b[0;34m\u001b[0m\u001b[0;34m\u001b[0m\u001b[0m\n\u001b[1;32m    511\u001b[0m         \u001b[0;32mif\u001b[0m \u001b[0mcheck\u001b[0m \u001b[0;32mand\u001b[0m \u001b[0mretcode\u001b[0m\u001b[0;34m:\u001b[0m\u001b[0;34m\u001b[0m\u001b[0;34m\u001b[0m\u001b[0m\n\u001b[0;32m--> 512\u001b[0;31m             raise CalledProcessError(retcode, process.args,\n\u001b[0m\u001b[1;32m    513\u001b[0m                                      output=stdout, stderr=stderr)\n\u001b[1;32m    514\u001b[0m     \u001b[0;32mreturn\u001b[0m \u001b[0mCompletedProcess\u001b[0m\u001b[0;34m(\u001b[0m\u001b[0mprocess\u001b[0m\u001b[0;34m.\u001b[0m\u001b[0margs\u001b[0m\u001b[0;34m,\u001b[0m \u001b[0mretcode\u001b[0m\u001b[0;34m,\u001b[0m \u001b[0mstdout\u001b[0m\u001b[0;34m,\u001b[0m \u001b[0mstderr\u001b[0m\u001b[0;34m)\u001b[0m\u001b[0;34m\u001b[0m\u001b[0;34m\u001b[0m\u001b[0m\n",
      "\u001b[0;31mCalledProcessError\u001b[0m: Command '['java', '-jar', '/home/s164574/motifs_and_competition_in_app_usage/spmf.jar', 'run', 'VMSP', '/home/s164574/motifs_and_competition_in_app_usage/293sec_sessions_75_observation_coverage_without_length_1.txt', '/home/s164574/motifs_and_competition_in_app_usage/output_VMSP_293sec_sessions_75_observation_coverage_without_length_1_min_sup_0_75.txt', '0.0075']' returned non-zero exit status 1."
     ]
    }
   ],
   "source": [
    "spmf = Spmf(\"VMSP\", input_filename=\"/home/s164574/motifs_and_competition_in_app_usage/293sec_sessions_75_observation_coverage_without_length_1.txt\",\n",
    "            output_filename=\"/home/s164574/motifs_and_competition_in_app_usage/output_VMSP_293sec_sessions_75_observation_coverage_without_length_1_min_sup_0_75.txt\",\n",
    "            spmf_bin_location_dir=\"/home/s164574/motifs_and_competition_in_app_usage/\",\n",
    "            arguments=[0.0075])\n",
    "spmf.run()\n",
    "print(spmf.to_pandas_dataframe(pickle=True))\n",
    "spmf.to_csv(\"output_VMSP_293sec_sessions_75_observation_coverage_without_length_1_min_sup_0_75.csv\")"
   ]
  }
 ],
 "metadata": {
  "kernelspec": {
   "display_name": "Python 3",
   "language": "python",
   "name": "python3"
  },
  "language_info": {
   "codemirror_mode": {
    "name": "ipython",
    "version": 3
   },
   "file_extension": ".py",
   "mimetype": "text/x-python",
   "name": "python",
   "nbconvert_exporter": "python",
   "pygments_lexer": "ipython3",
   "version": "3.8.5"
  }
 },
 "nbformat": 4,
 "nbformat_minor": 4
}
