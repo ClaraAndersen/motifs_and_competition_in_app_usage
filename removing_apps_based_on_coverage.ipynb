{
 "cells": [
  {
   "cell_type": "code",
   "execution_count": 64,
   "metadata": {},
   "outputs": [],
   "source": [
    "from spmf import Spmf\n",
    "import numpy as np\n",
    "import pandas as pd\n",
    "import os\n",
    "import re\n",
    "import matplotlib.pyplot as plt\n",
    "import ast\n",
    "pd.options.plotting.backend = \"plotly\"\n",
    "import plotly.express as px\n",
    "# from chart_studio import plotly\n",
    "from plotly.subplots import make_subplots\n",
    "import plotly.graph_objects as go\n",
    "import plotly.subplots as sp\n",
    "pd.options.display.max_colwidth = None\n",
    "pd.set_option('display.max_rows', 70)"
   ]
  },
  {
   "cell_type": "code",
   "execution_count": 65,
   "metadata": {},
   "outputs": [],
   "source": [
    "data=pd.read_csv(\"sorted_coded_session_293s_merged.csv\")"
   ]
  },
  {
   "cell_type": "markdown",
   "metadata": {},
   "source": [
    "# keep 90% coverage of data"
   ]
  },
  {
   "cell_type": "code",
   "execution_count": 66,
   "metadata": {},
   "outputs": [],
   "source": [
    "cumulated_time_spend=data.groupby([\"user_id\",\"app_code\"]).agg({'time_spend':'sum'})['time_spend'].groupby('user_id', group_keys=False).apply(lambda x: x.sort_values(ascending=False).cumsum()).reset_index()"
   ]
  },
  {
   "cell_type": "code",
   "execution_count": 67,
   "metadata": {},
   "outputs": [],
   "source": [
    "total_time_spend=data.groupby('user_id').time_spend.sum()"
   ]
  },
  {
   "cell_type": "code",
   "execution_count": 68,
   "metadata": {},
   "outputs": [],
   "source": [
    "cumulated_time_spend=cumulated_time_spend.join(total_time_spend,on='user_id',rsuffix=\"_total\")"
   ]
  },
  {
   "cell_type": "code",
   "execution_count": 69,
   "metadata": {},
   "outputs": [],
   "source": [
    "cumulated_time_spend['coverage']=cumulated_time_spend.time_spend/cumulated_time_spend.time_spend_total"
   ]
  },
  {
   "cell_type": "code",
   "execution_count": 70,
   "metadata": {},
   "outputs": [],
   "source": [
    "cumulated_time_spend=cumulated_time_spend[cumulated_time_spend.coverage.shift(1)<=0.50]"
   ]
  },
  {
   "cell_type": "code",
   "execution_count": 71,
   "metadata": {},
   "outputs": [],
   "source": [
    "data_coverage=data.merge(cumulated_time_spend,how='inner',on=['user_id','app_code'])"
   ]
  },
  {
   "cell_type": "markdown",
   "metadata": {},
   "source": [
    "As a sanity check we take a look at how many apps are left for the each user after the apps were removed."
   ]
  },
  {
   "cell_type": "code",
   "execution_count": 72,
   "metadata": {},
   "outputs": [
    {
     "data": {
      "text/plain": [
       "3349"
      ]
     },
     "execution_count": 72,
     "metadata": {},
     "output_type": "execute_result"
    }
   ],
   "source": [
    "(data_coverage.groupby('user_id').app_code.nunique()==1).sum()"
   ]
  },
  {
   "cell_type": "code",
   "execution_count": 73,
   "metadata": {},
   "outputs": [
    {
     "data": {
      "text/plain": [
       "user_id\n",
       "0       2\n",
       "1       2\n",
       "2       1\n",
       "3       2\n",
       "4       3\n",
       "       ..\n",
       "9994    3\n",
       "9996    3\n",
       "9997    1\n",
       "9998    2\n",
       "9999    3\n",
       "Name: app_code, Length: 8802, dtype: int64"
      ]
     },
     "execution_count": 73,
     "metadata": {},
     "output_type": "execute_result"
    }
   ],
   "source": [
    "data_coverage.groupby('user_id').app_code.nunique()[data_coverage.groupby('user_id').app_code.nunique()<5]"
   ]
  },
  {
   "cell_type": "code",
   "execution_count": 74,
   "metadata": {},
   "outputs": [
    {
     "name": "stdout",
     "output_type": "stream",
     "text": [
      "Number of observation after removing apps: 49471272\n",
      "Number of different apps left: 1139\n"
     ]
    }
   ],
   "source": [
    "print(\"Number of observation after removing apps:\",data_coverage.shape[0])\n",
    "print(\"Number of different apps left:\",data_coverage.app_code.nunique())"
   ]
  },
  {
   "cell_type": "markdown",
   "metadata": {},
   "source": [
    "Initially this results in 11 users only having 1 app left and 3469 users having less than 10 different apps. Therefore the coverage is increased form 90% to 95%. Here 1015 users have less than 10 different apps. for 99% 89 users have less than 10 apps. Only 7 have less than 5 and only one user has three apps, and no user has less than 3 different apps."
   ]
  },
  {
   "cell_type": "markdown",
   "metadata": {},
   "source": [
    "## update session length"
   ]
  },
  {
   "cell_type": "code",
   "execution_count": 75,
   "metadata": {},
   "outputs": [],
   "source": [
    "data_coverage=data_coverage.merge(data_coverage.groupby(['user_id','session']).agg({'app_code':'size'}).rename(columns={'app_code':'session_length'}).reset_index(),on=['user_id','session'])"
   ]
  },
  {
   "cell_type": "markdown",
   "metadata": {},
   "source": [
    "We are now ready to find the number of observations."
   ]
  },
  {
   "cell_type": "code",
   "execution_count": 76,
   "metadata": {},
   "outputs": [],
   "source": [
    "input_string=data_coverage[data_coverage.session_length>1].groupby(['user_id','session'])['app_code'].apply(list).apply(lambda l: ' -1 '.join([str(i) for i in l])+\" -1 -2\")"
   ]
  },
  {
   "cell_type": "code",
   "execution_count": 77,
   "metadata": {},
   "outputs": [],
   "source": [
    "input_string.to_csv(\"input_string_50_coverage.csv\",index='False')"
   ]
  },
  {
   "cell_type": "code",
   "execution_count": 78,
   "metadata": {},
   "outputs": [],
   "source": [
    "input_string=pd.read_csv(\"input_string_50_coverage.csv\")"
   ]
  },
  {
   "cell_type": "code",
   "execution_count": 79,
   "metadata": {},
   "outputs": [],
   "source": [
    "input_string=input_string.drop(['user_id','session'],axis=1)"
   ]
  },
  {
   "cell_type": "code",
   "execution_count": 80,
   "metadata": {},
   "outputs": [],
   "source": [
    "dfAsString = input_string.to_string(header=False, index=False).lstrip()"
   ]
  },
  {
   "cell_type": "code",
   "execution_count": 81,
   "metadata": {},
   "outputs": [],
   "source": [
    "dfAsString=re.sub(r'\\n\\s+','\\n',dfAsString)"
   ]
  },
  {
   "cell_type": "code",
   "execution_count": 82,
   "metadata": {},
   "outputs": [],
   "source": [
    "#update file name\n",
    "f = open(os.path.join(os.getcwd(), '293sec_sessions_50_coverage_without_length_1.txt'), 'w')\n",
    "f.write(dfAsString)\n",
    "f.close()"
   ]
  },
  {
   "cell_type": "code",
   "execution_count": 84,
   "metadata": {},
   "outputs": [
    {
     "name": "stdout",
     "output_type": "stream",
     "text": [
      ">/home/s164574/motifs_and_competition_in_app_usage/spmf.jar\n",
      "=============  VMSP v0.97 - STATISTICS =============\n",
      " Total time ~ 53523 ms\n",
      " Frequent sequences count : 33\n",
      " Max memory (mb) : 7283.82916259765633\n",
      "minsup 68548\n",
      "Intersection count 115 \n",
      "===================================================\n",
      "\n",
      "\n",
      "                                       pattern     sup\n",
      "0                                      [53996]   94640\n",
      "1                                      [45846]  116245\n",
      "2                                      [36529]  107114\n",
      "3                                      [23947]  142963\n",
      "4                                      [23906]  125357\n",
      "5                                      [18676]   70192\n",
      "6                                       [2259]  111140\n",
      "7                               [45329, 45329]   74676\n",
      "8                               [53003, 27441]   91982\n",
      "9                               [53003, 19968]   82754\n",
      "10                              [19968, 53003]  122173\n",
      "11                               [53003, 7649]  141203\n",
      "12                               [45264, 7649]   74505\n",
      "13                              [23967, 23967]  187659\n",
      "14                              [27441, 19968]   80371\n",
      "15                              [19968, 27441]  113516\n",
      "16                              [19968, 19973]   68765\n",
      "17                               [27441, 7649]   69838\n",
      "18                               [7649, 27441]   71839\n",
      "19                               [23949, 7649]  131717\n",
      "20                               [7649, 19968]  100038\n",
      "21                               [19968, 7649]  152861\n",
      "22                                [7653, 7653]   71919\n",
      "23                       [50519, 50519, 50519]   69758\n",
      "24                        [7649, 53003, 53003]   72891\n",
      "25                       [23949, 23949, 23949]  121632\n",
      "26                [45264, 45264, 45264, 45264]   68756\n",
      "27                [44880, 44880, 44880, 44880]   75190\n",
      "28                [27441, 27441, 27441, 27441]   83694\n",
      "29                [19973, 19973, 19973, 19973]   82079\n",
      "30         [19968, 19968, 19968, 19968, 19968]   78784\n",
      "31              [7649, 7649, 7649, 7649, 7649]   88605\n",
      "32  [53003, 53003, 53003, 53003, 53003, 53003]   90361\n"
     ]
    }
   ],
   "source": [
    "spmf = Spmf(\"VMSP\", input_filename=\"/home/s164574/motifs_and_competition_in_app_usage/293sec_sessions_50_coverage_without_length_1.txt\",\n",
    "            output_filename=\"/home/s164574/motifs_and_competition_in_app_usage/output_VMSP_293sec_sessions_50_coverage_without_length_1_min_sup_0_75.txt\",\n",
    "            spmf_bin_location_dir=\"/home/s164574/motifs_and_competition_in_app_usage/\",\n",
    "            arguments=[0.0075])\n",
    "spmf.run()\n",
    "print(spmf.to_pandas_dataframe(pickle=True))\n",
    "spmf.to_csv(\"output_VMSP_293sec_sessions_50_coverage_without_length_1_min_sup_0_75.csv\")"
   ]
  },
  {
   "cell_type": "code",
   "execution_count": 86,
   "metadata": {},
   "outputs": [],
   "source": [
    "app_dict=dict(zip(data.app_code, data.package_name))"
   ]
  },
  {
   "cell_type": "code",
   "execution_count": 87,
   "metadata": {},
   "outputs": [],
   "source": [
    "output=pd.read_csv(\"output_VMSP_293sec_sessions_50_coverage_without_length_1_min_sup_0_75.csv\",delimiter=';')\n",
    "output['pattern']=output.pattern.apply(lambda l: [app_dict[int(i)] for i in ast.literal_eval(l)])\n",
    "output=output.sort_values(['sup'],ascending=False)\n",
    "output['pattern_length']=output.pattern.apply(lambda l: len(l))\n",
    "output.to_csv(\"output_VMSP_293sec_sessions_50_coverage_without_length_1_min_sup_0_75.csv\",index=False)"
   ]
  },
  {
   "cell_type": "code",
   "execution_count": 89,
   "metadata": {},
   "outputs": [
    {
     "name": "stdout",
     "output_type": "stream",
     "text": [
      "Number of frequent patterns of length 1: 7\n",
      "Max lengths of frequent patterns: 6\n"
     ]
    }
   ],
   "source": [
    "print(\"Number of frequent patterns of length 1:\",len(output[output.pattern_length==1]))\n",
    "print(\"Max lengths of frequent patterns:\",output.pattern_length.max())"
   ]
  },
  {
   "cell_type": "code",
   "execution_count": 90,
   "metadata": {},
   "outputs": [
    {
     "data": {
      "text/html": [
       "<div>\n",
       "<style scoped>\n",
       "    .dataframe tbody tr th:only-of-type {\n",
       "        vertical-align: middle;\n",
       "    }\n",
       "\n",
       "    .dataframe tbody tr th {\n",
       "        vertical-align: top;\n",
       "    }\n",
       "\n",
       "    .dataframe thead th {\n",
       "        text-align: right;\n",
       "    }\n",
       "</style>\n",
       "<table border=\"1\" class=\"dataframe\">\n",
       "  <thead>\n",
       "    <tr style=\"text-align: right;\">\n",
       "      <th></th>\n",
       "      <th>pattern</th>\n",
       "      <th>sup</th>\n",
       "      <th>pattern_length</th>\n",
       "    </tr>\n",
       "  </thead>\n",
       "  <tbody>\n",
       "    <tr>\n",
       "      <th>13</th>\n",
       "      <td>[com.google.android.youtube, com.google.android.youtube]</td>\n",
       "      <td>187659</td>\n",
       "      <td>2</td>\n",
       "    </tr>\n",
       "    <tr>\n",
       "      <th>21</th>\n",
       "      <td>[com.facebook.katana, com.android.chrome]</td>\n",
       "      <td>152861</td>\n",
       "      <td>2</td>\n",
       "    </tr>\n",
       "    <tr>\n",
       "      <th>3</th>\n",
       "      <td>[com.google.android.gm]</td>\n",
       "      <td>142963</td>\n",
       "      <td>1</td>\n",
       "    </tr>\n",
       "    <tr>\n",
       "      <th>11</th>\n",
       "      <td>[com.whatsapp, com.android.chrome]</td>\n",
       "      <td>141203</td>\n",
       "      <td>2</td>\n",
       "    </tr>\n",
       "    <tr>\n",
       "      <th>19</th>\n",
       "      <td>[com.google.android.googlequicksearchbox, com.android.chrome]</td>\n",
       "      <td>131717</td>\n",
       "      <td>2</td>\n",
       "    </tr>\n",
       "    <tr>\n",
       "      <th>4</th>\n",
       "      <td>[com.google.android.apps.maps]</td>\n",
       "      <td>125357</td>\n",
       "      <td>1</td>\n",
       "    </tr>\n",
       "    <tr>\n",
       "      <th>10</th>\n",
       "      <td>[com.facebook.katana, com.whatsapp]</td>\n",
       "      <td>122173</td>\n",
       "      <td>2</td>\n",
       "    </tr>\n",
       "    <tr>\n",
       "      <th>25</th>\n",
       "      <td>[com.google.android.googlequicksearchbox, com.google.android.googlequicksearchbox, com.google.android.googlequicksearchbox]</td>\n",
       "      <td>121632</td>\n",
       "      <td>3</td>\n",
       "    </tr>\n",
       "    <tr>\n",
       "      <th>1</th>\n",
       "      <td>[com.spotify.music]</td>\n",
       "      <td>116245</td>\n",
       "      <td>1</td>\n",
       "    </tr>\n",
       "    <tr>\n",
       "      <th>15</th>\n",
       "      <td>[com.facebook.katana, com.instagram.android]</td>\n",
       "      <td>113516</td>\n",
       "      <td>2</td>\n",
       "    </tr>\n",
       "    <tr>\n",
       "      <th>6</th>\n",
       "      <td>[bbc.mobile.news.uk]</td>\n",
       "      <td>111140</td>\n",
       "      <td>1</td>\n",
       "    </tr>\n",
       "    <tr>\n",
       "      <th>2</th>\n",
       "      <td>[com.nianticlabs.pokemongo]</td>\n",
       "      <td>107114</td>\n",
       "      <td>1</td>\n",
       "    </tr>\n",
       "    <tr>\n",
       "      <th>20</th>\n",
       "      <td>[com.android.chrome, com.facebook.katana]</td>\n",
       "      <td>100038</td>\n",
       "      <td>2</td>\n",
       "    </tr>\n",
       "    <tr>\n",
       "      <th>0</th>\n",
       "      <td>[com.yahoo.mobile.client.android.mail]</td>\n",
       "      <td>94640</td>\n",
       "      <td>1</td>\n",
       "    </tr>\n",
       "    <tr>\n",
       "      <th>8</th>\n",
       "      <td>[com.whatsapp, com.instagram.android]</td>\n",
       "      <td>91982</td>\n",
       "      <td>2</td>\n",
       "    </tr>\n",
       "    <tr>\n",
       "      <th>32</th>\n",
       "      <td>[com.whatsapp, com.whatsapp, com.whatsapp, com.whatsapp, com.whatsapp, com.whatsapp]</td>\n",
       "      <td>90361</td>\n",
       "      <td>6</td>\n",
       "    </tr>\n",
       "    <tr>\n",
       "      <th>31</th>\n",
       "      <td>[com.android.chrome, com.android.chrome, com.android.chrome, com.android.chrome, com.android.chrome]</td>\n",
       "      <td>88605</td>\n",
       "      <td>5</td>\n",
       "    </tr>\n",
       "    <tr>\n",
       "      <th>28</th>\n",
       "      <td>[com.instagram.android, com.instagram.android, com.instagram.android, com.instagram.android]</td>\n",
       "      <td>83694</td>\n",
       "      <td>4</td>\n",
       "    </tr>\n",
       "    <tr>\n",
       "      <th>9</th>\n",
       "      <td>[com.whatsapp, com.facebook.katana]</td>\n",
       "      <td>82754</td>\n",
       "      <td>2</td>\n",
       "    </tr>\n",
       "    <tr>\n",
       "      <th>29</th>\n",
       "      <td>[com.facebook.orca, com.facebook.orca, com.facebook.orca, com.facebook.orca]</td>\n",
       "      <td>82079</td>\n",
       "      <td>4</td>\n",
       "    </tr>\n",
       "    <tr>\n",
       "      <th>14</th>\n",
       "      <td>[com.instagram.android, com.facebook.katana]</td>\n",
       "      <td>80371</td>\n",
       "      <td>2</td>\n",
       "    </tr>\n",
       "    <tr>\n",
       "      <th>30</th>\n",
       "      <td>[com.facebook.katana, com.facebook.katana, com.facebook.katana, com.facebook.katana, com.facebook.katana]</td>\n",
       "      <td>78784</td>\n",
       "      <td>5</td>\n",
       "    </tr>\n",
       "    <tr>\n",
       "      <th>27</th>\n",
       "      <td>[com.snapchat.android, com.snapchat.android, com.snapchat.android, com.snapchat.android]</td>\n",
       "      <td>75190</td>\n",
       "      <td>4</td>\n",
       "    </tr>\n",
       "    <tr>\n",
       "      <th>7</th>\n",
       "      <td>[com.sonymobile.email, com.sonymobile.email]</td>\n",
       "      <td>74676</td>\n",
       "      <td>2</td>\n",
       "    </tr>\n",
       "    <tr>\n",
       "      <th>12</th>\n",
       "      <td>[com.sonyericsson.conversations, com.android.chrome]</td>\n",
       "      <td>74505</td>\n",
       "      <td>2</td>\n",
       "    </tr>\n",
       "    <tr>\n",
       "      <th>24</th>\n",
       "      <td>[com.android.chrome, com.whatsapp, com.whatsapp]</td>\n",
       "      <td>72891</td>\n",
       "      <td>3</td>\n",
       "    </tr>\n",
       "    <tr>\n",
       "      <th>22</th>\n",
       "      <td>[com.android.incallui, com.android.incallui]</td>\n",
       "      <td>71919</td>\n",
       "      <td>2</td>\n",
       "    </tr>\n",
       "    <tr>\n",
       "      <th>18</th>\n",
       "      <td>[com.android.chrome, com.instagram.android]</td>\n",
       "      <td>71839</td>\n",
       "      <td>2</td>\n",
       "    </tr>\n",
       "    <tr>\n",
       "      <th>5</th>\n",
       "      <td>[com.ebay.mobile]</td>\n",
       "      <td>70192</td>\n",
       "      <td>1</td>\n",
       "    </tr>\n",
       "    <tr>\n",
       "      <th>17</th>\n",
       "      <td>[com.instagram.android, com.android.chrome]</td>\n",
       "      <td>69838</td>\n",
       "      <td>2</td>\n",
       "    </tr>\n",
       "    <tr>\n",
       "      <th>23</th>\n",
       "      <td>[com.twitter.android, com.twitter.android, com.twitter.android]</td>\n",
       "      <td>69758</td>\n",
       "      <td>3</td>\n",
       "    </tr>\n",
       "    <tr>\n",
       "      <th>16</th>\n",
       "      <td>[com.facebook.katana, com.facebook.orca]</td>\n",
       "      <td>68765</td>\n",
       "      <td>2</td>\n",
       "    </tr>\n",
       "    <tr>\n",
       "      <th>26</th>\n",
       "      <td>[com.sonyericsson.conversations, com.sonyericsson.conversations, com.sonyericsson.conversations, com.sonyericsson.conversations]</td>\n",
       "      <td>68756</td>\n",
       "      <td>4</td>\n",
       "    </tr>\n",
       "  </tbody>\n",
       "</table>\n",
       "</div>"
      ],
      "text/plain": [
       "                                                                                                                             pattern  \\\n",
       "13                                                                          [com.google.android.youtube, com.google.android.youtube]   \n",
       "21                                                                                         [com.facebook.katana, com.android.chrome]   \n",
       "3                                                                                                            [com.google.android.gm]   \n",
       "11                                                                                                [com.whatsapp, com.android.chrome]   \n",
       "19                                                                     [com.google.android.googlequicksearchbox, com.android.chrome]   \n",
       "4                                                                                                     [com.google.android.apps.maps]   \n",
       "10                                                                                               [com.facebook.katana, com.whatsapp]   \n",
       "25       [com.google.android.googlequicksearchbox, com.google.android.googlequicksearchbox, com.google.android.googlequicksearchbox]   \n",
       "1                                                                                                                [com.spotify.music]   \n",
       "15                                                                                      [com.facebook.katana, com.instagram.android]   \n",
       "6                                                                                                               [bbc.mobile.news.uk]   \n",
       "2                                                                                                        [com.nianticlabs.pokemongo]   \n",
       "20                                                                                         [com.android.chrome, com.facebook.katana]   \n",
       "0                                                                                             [com.yahoo.mobile.client.android.mail]   \n",
       "8                                                                                              [com.whatsapp, com.instagram.android]   \n",
       "32                                              [com.whatsapp, com.whatsapp, com.whatsapp, com.whatsapp, com.whatsapp, com.whatsapp]   \n",
       "31                              [com.android.chrome, com.android.chrome, com.android.chrome, com.android.chrome, com.android.chrome]   \n",
       "28                                      [com.instagram.android, com.instagram.android, com.instagram.android, com.instagram.android]   \n",
       "9                                                                                                [com.whatsapp, com.facebook.katana]   \n",
       "29                                                      [com.facebook.orca, com.facebook.orca, com.facebook.orca, com.facebook.orca]   \n",
       "14                                                                                      [com.instagram.android, com.facebook.katana]   \n",
       "30                         [com.facebook.katana, com.facebook.katana, com.facebook.katana, com.facebook.katana, com.facebook.katana]   \n",
       "27                                          [com.snapchat.android, com.snapchat.android, com.snapchat.android, com.snapchat.android]   \n",
       "7                                                                                       [com.sonymobile.email, com.sonymobile.email]   \n",
       "12                                                                              [com.sonyericsson.conversations, com.android.chrome]   \n",
       "24                                                                                  [com.android.chrome, com.whatsapp, com.whatsapp]   \n",
       "22                                                                                      [com.android.incallui, com.android.incallui]   \n",
       "18                                                                                       [com.android.chrome, com.instagram.android]   \n",
       "5                                                                                                                  [com.ebay.mobile]   \n",
       "17                                                                                       [com.instagram.android, com.android.chrome]   \n",
       "23                                                                   [com.twitter.android, com.twitter.android, com.twitter.android]   \n",
       "16                                                                                          [com.facebook.katana, com.facebook.orca]   \n",
       "26  [com.sonyericsson.conversations, com.sonyericsson.conversations, com.sonyericsson.conversations, com.sonyericsson.conversations]   \n",
       "\n",
       "       sup  pattern_length  \n",
       "13  187659               2  \n",
       "21  152861               2  \n",
       "3   142963               1  \n",
       "11  141203               2  \n",
       "19  131717               2  \n",
       "4   125357               1  \n",
       "10  122173               2  \n",
       "25  121632               3  \n",
       "1   116245               1  \n",
       "15  113516               2  \n",
       "6   111140               1  \n",
       "2   107114               1  \n",
       "20  100038               2  \n",
       "0    94640               1  \n",
       "8    91982               2  \n",
       "32   90361               6  \n",
       "31   88605               5  \n",
       "28   83694               4  \n",
       "9    82754               2  \n",
       "29   82079               4  \n",
       "14   80371               2  \n",
       "30   78784               5  \n",
       "27   75190               4  \n",
       "7    74676               2  \n",
       "12   74505               2  \n",
       "24   72891               3  \n",
       "22   71919               2  \n",
       "18   71839               2  \n",
       "5    70192               1  \n",
       "17   69838               2  \n",
       "23   69758               3  \n",
       "16   68765               2  \n",
       "26   68756               4  "
      ]
     },
     "execution_count": 90,
     "metadata": {},
     "output_type": "execute_result"
    }
   ],
   "source": [
    "output"
   ]
  }
 ],
 "metadata": {
  "kernelspec": {
   "display_name": "Python 3",
   "language": "python",
   "name": "python3"
  },
  "language_info": {
   "codemirror_mode": {
    "name": "ipython",
    "version": 3
   },
   "file_extension": ".py",
   "mimetype": "text/x-python",
   "name": "python",
   "nbconvert_exporter": "python",
   "pygments_lexer": "ipython3",
   "version": "3.8.5"
  }
 },
 "nbformat": 4,
 "nbformat_minor": 4
}
