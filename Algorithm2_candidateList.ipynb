{
 "cells": [
  {
   "cell_type": "code",
   "execution_count": 1,
   "metadata": {},
   "outputs": [],
   "source": [
    "import pandas as pd\n",
    "import numpy as np"
   ]
  },
  {
   "cell_type": "markdown",
   "metadata": {},
   "source": [
    "# Extract data"
   ]
  },
  {
   "cell_type": "code",
   "execution_count": 16,
   "metadata": {},
   "outputs": [],
   "source": [
    "data = pd.read_csv('sorted_coded_data.csv',index_col='user_id')"
   ]
  },
  {
   "cell_type": "code",
   "execution_count": 17,
   "metadata": {},
   "outputs": [
    {
     "data": {
      "text/html": [
       "<div>\n",
       "<style scoped>\n",
       "    .dataframe tbody tr th:only-of-type {\n",
       "        vertical-align: middle;\n",
       "    }\n",
       "\n",
       "    .dataframe tbody tr th {\n",
       "        vertical-align: top;\n",
       "    }\n",
       "\n",
       "    .dataframe thead th {\n",
       "        text-align: right;\n",
       "    }\n",
       "</style>\n",
       "<table border=\"1\" class=\"dataframe\">\n",
       "  <thead>\n",
       "    <tr style=\"text-align: right;\">\n",
       "      <th></th>\n",
       "      <th>package_name</th>\n",
       "      <th>start_time</th>\n",
       "      <th>end_time</th>\n",
       "      <th>time_spend</th>\n",
       "      <th>app_code</th>\n",
       "    </tr>\n",
       "    <tr>\n",
       "      <th>user_id</th>\n",
       "      <th></th>\n",
       "      <th></th>\n",
       "      <th></th>\n",
       "      <th></th>\n",
       "      <th></th>\n",
       "    </tr>\n",
       "  </thead>\n",
       "  <tbody>\n",
       "    <tr>\n",
       "      <th>3731</th>\n",
       "      <td>com.google.android.apps.maps</td>\n",
       "      <td>0</td>\n",
       "      <td>1</td>\n",
       "      <td>1</td>\n",
       "      <td>23906</td>\n",
       "    </tr>\n",
       "    <tr>\n",
       "      <th>3731</th>\n",
       "      <td>com.android.chrome</td>\n",
       "      <td>6770</td>\n",
       "      <td>6913</td>\n",
       "      <td>143</td>\n",
       "      <td>7649</td>\n",
       "    </tr>\n",
       "    <tr>\n",
       "      <th>3731</th>\n",
       "      <td>com.sonymobile.xperiaweather</td>\n",
       "      <td>6790</td>\n",
       "      <td>6800</td>\n",
       "      <td>10</td>\n",
       "      <td>45362</td>\n",
       "    </tr>\n",
       "    <tr>\n",
       "      <th>3731</th>\n",
       "      <td>com.google.android.apps.magazines</td>\n",
       "      <td>6810</td>\n",
       "      <td>6840</td>\n",
       "      <td>30</td>\n",
       "      <td>23905</td>\n",
       "    </tr>\n",
       "    <tr>\n",
       "      <th>3731</th>\n",
       "      <td>com.google.android.apps.messaging</td>\n",
       "      <td>9552</td>\n",
       "      <td>9562</td>\n",
       "      <td>10</td>\n",
       "      <td>23909</td>\n",
       "    </tr>\n",
       "    <tr>\n",
       "      <th>...</th>\n",
       "      <td>...</td>\n",
       "      <td>...</td>\n",
       "      <td>...</td>\n",
       "      <td>...</td>\n",
       "      <td>...</td>\n",
       "    </tr>\n",
       "    <tr>\n",
       "      <th>3731</th>\n",
       "      <td>com.sonymobile.email</td>\n",
       "      <td>21830356</td>\n",
       "      <td>21830366</td>\n",
       "      <td>10</td>\n",
       "      <td>45329</td>\n",
       "    </tr>\n",
       "    <tr>\n",
       "      <th>3731</th>\n",
       "      <td>com.whatsapp</td>\n",
       "      <td>21830366</td>\n",
       "      <td>21830369</td>\n",
       "      <td>3</td>\n",
       "      <td>53003</td>\n",
       "    </tr>\n",
       "    <tr>\n",
       "      <th>3731</th>\n",
       "      <td>com.nousguide.android.rbtv</td>\n",
       "      <td>21830605</td>\n",
       "      <td>21830818</td>\n",
       "      <td>213</td>\n",
       "      <td>37024</td>\n",
       "    </tr>\n",
       "    <tr>\n",
       "      <th>3731</th>\n",
       "      <td>com.nousguide.android.rbtv</td>\n",
       "      <td>21861244</td>\n",
       "      <td>21861254</td>\n",
       "      <td>10</td>\n",
       "      <td>37024</td>\n",
       "    </tr>\n",
       "    <tr>\n",
       "      <th>3731</th>\n",
       "      <td>com.google.android.apps.maps</td>\n",
       "      <td>21861254</td>\n",
       "      <td>21862845</td>\n",
       "      <td>1591</td>\n",
       "      <td>23906</td>\n",
       "    </tr>\n",
       "  </tbody>\n",
       "</table>\n",
       "<p>18883 rows × 5 columns</p>\n",
       "</div>"
      ],
      "text/plain": [
       "                              package_name  start_time  end_time  time_spend  \\\n",
       "user_id                                                                        \n",
       "3731          com.google.android.apps.maps           0         1           1   \n",
       "3731                    com.android.chrome        6770      6913         143   \n",
       "3731          com.sonymobile.xperiaweather        6790      6800          10   \n",
       "3731     com.google.android.apps.magazines        6810      6840          30   \n",
       "3731     com.google.android.apps.messaging        9552      9562          10   \n",
       "...                                    ...         ...       ...         ...   \n",
       "3731                  com.sonymobile.email    21830356  21830366          10   \n",
       "3731                          com.whatsapp    21830366  21830369           3   \n",
       "3731            com.nousguide.android.rbtv    21830605  21830818         213   \n",
       "3731            com.nousguide.android.rbtv    21861244  21861254          10   \n",
       "3731          com.google.android.apps.maps    21861254  21862845        1591   \n",
       "\n",
       "         app_code  \n",
       "user_id            \n",
       "3731        23906  \n",
       "3731         7649  \n",
       "3731        45362  \n",
       "3731        23905  \n",
       "3731        23909  \n",
       "...           ...  \n",
       "3731        45329  \n",
       "3731        53003  \n",
       "3731        37024  \n",
       "3731        37024  \n",
       "3731        23906  \n",
       "\n",
       "[18883 rows x 5 columns]"
      ]
     },
     "execution_count": 17,
     "metadata": {},
     "output_type": "execute_result"
    }
   ],
   "source": [
    "data.loc[3731,:]"
   ]
  },
  {
   "cell_type": "markdown",
   "metadata": {},
   "source": [
    "# Implementation"
   ]
  },
  {
   "cell_type": "markdown",
   "metadata": {},
   "source": [
    "## Inputs:\n",
    "r: number of patterns of length s-1\\\n",
    "n: number of frequent apps (accross users)\\\n",
    "sigma: min. support/thresshold \\\n",
    "allPreviousPatterns: an array with the patterns of length (s-1)\\\n",
    "tempPattern: s × (s − 1)-matrix to store (s − 1)-subpatterns of a temporary pattern which are beign tested.\\\n",
    "indexOfPreviousPatterns: array of length s, storing the position of (s − 1)-subpatterns\\\n",
    "binPrevious: an array with all binary vectors found on the previous step\\\n",
    "binTemp: temporary array to store binary vectors\\\n",
    "***Added input***\\\n",
    "S: length of candidate patterns we are looking for.\n",
    "\n",
    "\n",
    "## Outputs:\n",
    "q: number of candidate patterns found\\\n",
    "binCandidate: array with all new binary vectors found\\\n",
    "candPattern: array with candidate patterns found\\"
   ]
  },
  {
   "cell_type": "markdown",
   "metadata": {},
   "source": [
    "Right now it is asummed that patterns are stored so that one row corresponds to one pattern, and each column contain one element of a pattern, however would it be more meningful to just have one column and store as a string?"
   ]
  },
  {
   "cell_type": "code",
   "execution_count": 3,
   "metadata": {},
   "outputs": [
    {
     "ename": "SyntaxError",
     "evalue": "invalid syntax (<ipython-input-3-dc4f06984998>, line 1)",
     "output_type": "error",
     "traceback": [
      "\u001b[0;36m  File \u001b[0;32m\"<ipython-input-3-dc4f06984998>\"\u001b[0;36m, line \u001b[0;32m1\u001b[0m\n\u001b[0;31m    def get_candicat_list(r:int, n:int,sigma,allPreviousPatterns,tempPattern,indexOfPreviousPatterns,binPrevious,S:int)->q:int,binCandidate,candPattern:\u001b[0m\n\u001b[0m                                                                                                                                                        ^\u001b[0m\n\u001b[0;31mSyntaxError\u001b[0m\u001b[0;31m:\u001b[0m invalid syntax\n"
     ]
    }
   ],
   "source": [
    "def get_candicat_list(r:int, n:int,sigma,allPreviousPatterns,tempPattern,indexOfPreviousPatterns,binPrevious,S:int)->q:int,binCandidate,candPattern:\n",
    "    q=0 #initalizing counter for patterns.\n",
    "    candPattern=np.array([])\n",
    "    binCandidate=np.array([])\n",
    "    \n",
    "    #itterate through previouse patterns\n",
    "    for i in range(0,r):\n",
    "        #copy i-th (s − 1)-array from allPreviousPatterns to the last row of tempPattern\n",
    "        tempPattern[-1,:]=allPreviousPatterns[i,:]\n",
    "        #storing the subpatterns in the inside temppattern\n",
    "        for k in range(0,S-1):\n",
    "            tempPattern[k,0:k]=tempPattern[-1,0:k]\n",
    "            tempPattern[k,k:-1]=tempPattern[-1,k:]\n",
    "            \n",
    "            #itterate frequent apps\n",
    "            for j in range(0,n):\n",
    "                tempPattern[:-1,-1]==j\n",
    "                #itterate through the patterns \n",
    "                for m in range(0,S):\n",
    "                    indexOfPreviousPatterns[m]=np.where((allPreviousPatterns==tempPattern[m,:]).all(axis=1))\n",
    "                    if indexOfPreviousPatterns[m]==0:\n",
    "                        break\n",
    "                binTepm=binPrevious[indexOfPreviousPatterns[1]]\n",
    "                for m in range(1,S):\n",
    "                    binTemp = binTemp&binPrevious[indexOfPreviousPatterns[m]]\n",
    "                    nb = np.count_nonzero(binTemp);\n",
    "                    if nb<sigma:\n",
    "                        break\n",
    "            #we have found a new candidate pattern\n",
    "            q+=1\n",
    "            candPattern=np.vstack((candPatterncandPattern,tempPattern))\n",
    "            binCandidate=np.vstack((binCandidate,binTemp))\n",
    "            \n",
    "        return q,candPattern,binCandidate\n",
    "            "
   ]
  },
  {
   "cell_type": "markdown",
   "metadata": {},
   "source": [
    "# Testing\n",
    "\n",
    "The initialization finds patterns of length 1, so frequent apps."
   ]
  },
  {
   "cell_type": "code",
   "execution_count": 10,
   "metadata": {},
   "outputs": [],
   "source": [
    "s=2\n",
    "sigma=100\n",
    "tempPattern=np.zeros([s,s-1])\n",
    "indexOfPreviousPatterns=np.zeros([s,1])"
   ]
  },
  {
   "cell_type": "markdown",
   "metadata": {},
   "source": [
    "r: number of patterns of length s-1\\\n",
    "n: number of frequent apps (accross users)\\\n",
    "allPreviousPatterns: an array with the patterns of length (s-1)\\\n",
    "\n",
    "tempPattern: s × (s − 1)-matrix to store (s − 1)-subpatterns of a temporary pattern which are beign tested.\\\n",
    "indexOfPreviousPatterns: array of length s, storing the position of (s − 1)-subpatterns\\\n",
    "binPrevious: an array with all binary vectors found on the previous step\\\n",
    "\n",
    "binTemp: temporary array to store binary vectors\\\n",
    "\n",
    "***Added input***\\\n",
    "S: length of candidate patterns we are looking for."
   ]
  },
  {
   "cell_type": "code",
   "execution_count": 14,
   "metadata": {},
   "outputs": [
    {
     "data": {
      "text/plain": [
       "array(['com.google.android.apps.maps', 'com.jb.zcamera',\n",
       "       'com.sonymobile.hostapp.everest', ...,\n",
       "       'com.imsofnet.apps.englishvocabularydeveloper', 'com.vocapp.en',\n",
       "       'com.voxler.ls2017CompanionApp.XBOXONE'], dtype=object)"
      ]
     },
     "execution_count": 14,
     "metadata": {},
     "output_type": "execute_result"
    }
   ],
   "source": [
    "data['package_name'].unique()"
   ]
  },
  {
   "cell_type": "code",
   "execution_count": 12,
   "metadata": {},
   "outputs": [
    {
     "ename": "SyntaxError",
     "evalue": "invalid syntax (<ipython-input-12-e5a2bd2c006a>, line 17)",
     "output_type": "error",
     "traceback": [
      "\u001b[0;36m  File \u001b[0;32m\"<ipython-input-12-e5a2bd2c006a>\"\u001b[0;36m, line \u001b[0;32m17\u001b[0m\n\u001b[0;31m    for i\u001b[0m\n\u001b[0m          ^\u001b[0m\n\u001b[0;31mSyntaxError\u001b[0m\u001b[0;31m:\u001b[0m invalid syntax\n"
     ]
    }
   ],
   "source": [
    "r=0\n",
    "n=0\n",
    "allPreviousPatterns=np.array([])\n",
    "binPrevious=np.array([])\n",
    "binTemp=np.array([])\n",
    "\n",
    "\n",
    "#itterate through each unique event\n"
   ]
  }
 ],
 "metadata": {
  "kernelspec": {
   "display_name": "Python 3",
   "language": "python",
   "name": "python3"
  },
  "language_info": {
   "codemirror_mode": {
    "name": "ipython",
    "version": 3
   },
   "file_extension": ".py",
   "mimetype": "text/x-python",
   "name": "python",
   "nbconvert_exporter": "python",
   "pygments_lexer": "ipython3",
   "version": "3.8.5"
  }
 },
 "nbformat": 4,
 "nbformat_minor": 4
}
