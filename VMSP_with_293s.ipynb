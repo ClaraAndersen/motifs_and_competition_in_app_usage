{
 "cells": [
  {
   "cell_type": "code",
   "execution_count": 1,
   "metadata": {},
   "outputs": [],
   "source": [
    "from spmf import Spmf\n",
    "import numpy as np\n",
    "import pandas as pd\n",
    "import os\n",
    "import re\n",
    "import matplotlib.pyplot as plt\n",
    "import ast\n",
    "pd.options.plotting.backend = \"plotly\"\n",
    "import plotly.express as px\n",
    "# from chart_studio import plotly\n",
    "from plotly.subplots import make_subplots\n",
    "import plotly.graph_objects as go\n",
    "import plotly.subplots as sp\n",
    "pd.options.display.max_colwidth = None\n",
    "pd.set_option('display.max_rows', 70)\n",
    "from pandas.plotting import table \n",
    "import nltk\n",
    "import seaborn as sns\n",
    "%matplotlib inline\n",
    "import random"
   ]
  },
  {
   "cell_type": "code",
   "execution_count": 2,
   "metadata": {},
   "outputs": [],
   "source": [
    "data=pd.read_csv(\"sorted_coded_session_293s_merged.csv\")"
   ]
  },
  {
   "cell_type": "markdown",
   "metadata": {},
   "source": [
    "# Removing infrequent apps.\n",
    "Infrequent apps are defined as those which make up less than 0.01 percent of the total number of observations. These are removed in this section."
   ]
  },
  {
   "cell_type": "code",
   "execution_count": 3,
   "metadata": {
    "scrolled": true
   },
   "outputs": [
    {
     "data": {
      "text/html": [
       "<div>\n",
       "<style scoped>\n",
       "    .dataframe tbody tr th:only-of-type {\n",
       "        vertical-align: middle;\n",
       "    }\n",
       "\n",
       "    .dataframe tbody tr th {\n",
       "        vertical-align: top;\n",
       "    }\n",
       "\n",
       "    .dataframe thead th {\n",
       "        text-align: right;\n",
       "    }\n",
       "</style>\n",
       "<table border=\"1\" class=\"dataframe\">\n",
       "  <thead>\n",
       "    <tr style=\"text-align: right;\">\n",
       "      <th></th>\n",
       "      <th>user_id</th>\n",
       "      <th>package_name</th>\n",
       "      <th>start_time</th>\n",
       "      <th>end_time</th>\n",
       "      <th>app_code</th>\n",
       "      <th>time_spend</th>\n",
       "      <th>sequence_number</th>\n",
       "      <th>sequence_Start_time</th>\n",
       "      <th>sequence_end_time</th>\n",
       "      <th>sleep_time</th>\n",
       "      <th>new_session</th>\n",
       "      <th>session</th>\n",
       "    </tr>\n",
       "  </thead>\n",
       "  <tbody>\n",
       "    <tr>\n",
       "      <th>0</th>\n",
       "      <td>0</td>\n",
       "      <td>com.facebook.katana</td>\n",
       "      <td>0</td>\n",
       "      <td>441</td>\n",
       "      <td>19968</td>\n",
       "      <td>441</td>\n",
       "      <td>1</td>\n",
       "      <td>0</td>\n",
       "      <td>441</td>\n",
       "      <td>0</td>\n",
       "      <td>False</td>\n",
       "      <td>0</td>\n",
       "    </tr>\n",
       "    <tr>\n",
       "      <th>1</th>\n",
       "      <td>0</td>\n",
       "      <td>com.android.chrome</td>\n",
       "      <td>441</td>\n",
       "      <td>1012</td>\n",
       "      <td>7649</td>\n",
       "      <td>571</td>\n",
       "      <td>2</td>\n",
       "      <td>441</td>\n",
       "      <td>1012</td>\n",
       "      <td>0</td>\n",
       "      <td>False</td>\n",
       "      <td>0</td>\n",
       "    </tr>\n",
       "    <tr>\n",
       "      <th>2</th>\n",
       "      <td>0</td>\n",
       "      <td>com.google.android.apps.photos</td>\n",
       "      <td>1012</td>\n",
       "      <td>1032</td>\n",
       "      <td>23916</td>\n",
       "      <td>20</td>\n",
       "      <td>3</td>\n",
       "      <td>1012</td>\n",
       "      <td>1032</td>\n",
       "      <td>0</td>\n",
       "      <td>False</td>\n",
       "      <td>0</td>\n",
       "    </tr>\n",
       "    <tr>\n",
       "      <th>3</th>\n",
       "      <td>0</td>\n",
       "      <td>com.facebook.katana</td>\n",
       "      <td>1042</td>\n",
       "      <td>1502</td>\n",
       "      <td>19968</td>\n",
       "      <td>460</td>\n",
       "      <td>4</td>\n",
       "      <td>1042</td>\n",
       "      <td>1502</td>\n",
       "      <td>10</td>\n",
       "      <td>False</td>\n",
       "      <td>0</td>\n",
       "    </tr>\n",
       "    <tr>\n",
       "      <th>4</th>\n",
       "      <td>0</td>\n",
       "      <td>com.whatsapp</td>\n",
       "      <td>1512</td>\n",
       "      <td>1572</td>\n",
       "      <td>53003</td>\n",
       "      <td>60</td>\n",
       "      <td>5</td>\n",
       "      <td>1512</td>\n",
       "      <td>1572</td>\n",
       "      <td>10</td>\n",
       "      <td>False</td>\n",
       "      <td>0</td>\n",
       "    </tr>\n",
       "    <tr>\n",
       "      <th>...</th>\n",
       "      <td>...</td>\n",
       "      <td>...</td>\n",
       "      <td>...</td>\n",
       "      <td>...</td>\n",
       "      <td>...</td>\n",
       "      <td>...</td>\n",
       "      <td>...</td>\n",
       "      <td>...</td>\n",
       "      <td>...</td>\n",
       "      <td>...</td>\n",
       "      <td>...</td>\n",
       "      <td>...</td>\n",
       "    </tr>\n",
       "    <tr>\n",
       "      <th>228760320</th>\n",
       "      <td>9999</td>\n",
       "      <td>com.google.android.googlequicksearchbox</td>\n",
       "      <td>29207214</td>\n",
       "      <td>29207244</td>\n",
       "      <td>23949</td>\n",
       "      <td>30</td>\n",
       "      <td>14901</td>\n",
       "      <td>29207214</td>\n",
       "      <td>29207244</td>\n",
       "      <td>185</td>\n",
       "      <td>False</td>\n",
       "      <td>5646</td>\n",
       "    </tr>\n",
       "    <tr>\n",
       "      <th>228760321</th>\n",
       "      <td>9999</td>\n",
       "      <td>com.android.chrome</td>\n",
       "      <td>29207244</td>\n",
       "      <td>29207284</td>\n",
       "      <td>7649</td>\n",
       "      <td>40</td>\n",
       "      <td>14902</td>\n",
       "      <td>29207244</td>\n",
       "      <td>29207284</td>\n",
       "      <td>0</td>\n",
       "      <td>False</td>\n",
       "      <td>5646</td>\n",
       "    </tr>\n",
       "    <tr>\n",
       "      <th>228760322</th>\n",
       "      <td>9999</td>\n",
       "      <td>com.google.android.apps.docs</td>\n",
       "      <td>29207284</td>\n",
       "      <td>29207294</td>\n",
       "      <td>23875</td>\n",
       "      <td>10</td>\n",
       "      <td>14903</td>\n",
       "      <td>29207284</td>\n",
       "      <td>29207294</td>\n",
       "      <td>0</td>\n",
       "      <td>False</td>\n",
       "      <td>5646</td>\n",
       "    </tr>\n",
       "    <tr>\n",
       "      <th>228760323</th>\n",
       "      <td>9999</td>\n",
       "      <td>com.microsoft.office.outlook</td>\n",
       "      <td>29213184</td>\n",
       "      <td>29213213</td>\n",
       "      <td>33357</td>\n",
       "      <td>29</td>\n",
       "      <td>14904</td>\n",
       "      <td>29213184</td>\n",
       "      <td>29213213</td>\n",
       "      <td>5890</td>\n",
       "      <td>True</td>\n",
       "      <td>5647</td>\n",
       "    </tr>\n",
       "    <tr>\n",
       "      <th>228760324</th>\n",
       "      <td>9999</td>\n",
       "      <td>com.google.android.googlequicksearchbox</td>\n",
       "      <td>29218277</td>\n",
       "      <td>29218307</td>\n",
       "      <td>23949</td>\n",
       "      <td>30</td>\n",
       "      <td>14905</td>\n",
       "      <td>29218277</td>\n",
       "      <td>29218307</td>\n",
       "      <td>5064</td>\n",
       "      <td>True</td>\n",
       "      <td>5648</td>\n",
       "    </tr>\n",
       "  </tbody>\n",
       "</table>\n",
       "<p>228760325 rows × 12 columns</p>\n",
       "</div>"
      ],
      "text/plain": [
       "           user_id                             package_name  start_time  \\\n",
       "0                0                      com.facebook.katana           0   \n",
       "1                0                       com.android.chrome         441   \n",
       "2                0           com.google.android.apps.photos        1012   \n",
       "3                0                      com.facebook.katana        1042   \n",
       "4                0                             com.whatsapp        1512   \n",
       "...            ...                                      ...         ...   \n",
       "228760320     9999  com.google.android.googlequicksearchbox    29207214   \n",
       "228760321     9999                       com.android.chrome    29207244   \n",
       "228760322     9999             com.google.android.apps.docs    29207284   \n",
       "228760323     9999             com.microsoft.office.outlook    29213184   \n",
       "228760324     9999  com.google.android.googlequicksearchbox    29218277   \n",
       "\n",
       "           end_time  app_code  time_spend  sequence_number  \\\n",
       "0               441     19968         441                1   \n",
       "1              1012      7649         571                2   \n",
       "2              1032     23916          20                3   \n",
       "3              1502     19968         460                4   \n",
       "4              1572     53003          60                5   \n",
       "...             ...       ...         ...              ...   \n",
       "228760320  29207244     23949          30            14901   \n",
       "228760321  29207284      7649          40            14902   \n",
       "228760322  29207294     23875          10            14903   \n",
       "228760323  29213213     33357          29            14904   \n",
       "228760324  29218307     23949          30            14905   \n",
       "\n",
       "           sequence_Start_time  sequence_end_time  sleep_time  new_session  \\\n",
       "0                            0                441           0        False   \n",
       "1                          441               1012           0        False   \n",
       "2                         1012               1032           0        False   \n",
       "3                         1042               1502          10        False   \n",
       "4                         1512               1572          10        False   \n",
       "...                        ...                ...         ...          ...   \n",
       "228760320             29207214           29207244         185        False   \n",
       "228760321             29207244           29207284           0        False   \n",
       "228760322             29207284           29207294           0        False   \n",
       "228760323             29213184           29213213        5890         True   \n",
       "228760324             29218277           29218307        5064         True   \n",
       "\n",
       "           session  \n",
       "0                0  \n",
       "1                0  \n",
       "2                0  \n",
       "3                0  \n",
       "4                0  \n",
       "...            ...  \n",
       "228760320     5646  \n",
       "228760321     5646  \n",
       "228760322     5646  \n",
       "228760323     5647  \n",
       "228760324     5648  \n",
       "\n",
       "[228760325 rows x 12 columns]"
      ]
     },
     "execution_count": 3,
     "metadata": {},
     "output_type": "execute_result"
    }
   ],
   "source": [
    "data"
   ]
  },
  {
   "cell_type": "code",
   "execution_count": 4,
   "metadata": {},
   "outputs": [],
   "source": [
    "app_count=data.groupby('app_code').size()\n",
    "app_count=app_count.sort_values(ascending=False)"
   ]
  },
  {
   "cell_type": "code",
   "execution_count": 8,
   "metadata": {},
   "outputs": [],
   "source": [
    "infrequent_apps=app_count[app_count/data.shape[0]*100<0.01].index"
   ]
  },
  {
   "cell_type": "code",
   "execution_count": 10,
   "metadata": {},
   "outputs": [
    {
     "name": "stdout",
     "output_type": "stream",
     "text": [
      "number of infrequent apps for 0.01 thresshold: 66757\n"
     ]
    }
   ],
   "source": [
    "print(\"number of infrequent apps for 0.01 thresshold:\",len(infrequent_apps))"
   ]
  },
  {
   "cell_type": "code",
   "execution_count": 16,
   "metadata": {},
   "outputs": [
    {
     "name": "stdout",
     "output_type": "stream",
     "text": [
      "number of frequent apps for 0.01 thresshold: 331\n"
     ]
    }
   ],
   "source": [
    "print(\"number of frequent apps for 0.01 thresshold:\",data.app_code.nunique()-len(infrequent_apps))"
   ]
  },
  {
   "cell_type": "code",
   "execution_count": 14,
   "metadata": {},
   "outputs": [],
   "source": [
    "data[\"infrequent_app\"]=data.app_code.apply(lambda l: l in infrequent_apps)"
   ]
  },
  {
   "cell_type": "code",
   "execution_count": 14,
   "metadata": {},
   "outputs": [],
   "source": [
    "data_sessions[\"infrequent_app\"]=data_sessions.app_code.apply(lambda l: l in infrequent_apps)"
   ]
  },
  {
   "cell_type": "code",
   "execution_count": 17,
   "metadata": {},
   "outputs": [],
   "source": [
    "data=data[data.infrequent_app!=True]"
   ]
  },
  {
   "cell_type": "code",
   "execution_count": 20,
   "metadata": {},
   "outputs": [
    {
     "name": "stdout",
     "output_type": "stream",
     "text": [
      "Number of observations after infrequent apps have been removed: 214416409\n"
     ]
    }
   ],
   "source": [
    "print(\"Number of observations after infrequent apps have been removed:\",data.shape[0])"
   ]
  },
  {
   "cell_type": "markdown",
   "metadata": {},
   "source": [
    "We now remove sessions which only contains one app."
   ]
  },
  {
   "cell_type": "code",
   "execution_count": 25,
   "metadata": {},
   "outputs": [
    {
     "name": "stdout",
     "output_type": "stream",
     "text": [
      "Number of sessons including sessions only containing one app: 74783651\n"
     ]
    }
   ],
   "source": [
    "print(\"Number of sessons including sessions only containing one app:\",data.groupby('user_id').session.nunique().sum())"
   ]
  },
  {
   "cell_type": "code",
   "execution_count": 27,
   "metadata": {},
   "outputs": [],
   "source": [
    "data=pd.merge(data,(data.groupby(['user_id','session']).agg({'app_code':'size'})).reset_index().rename(columns={'app_code':'session_length_updated'}),how='left',on=['user_id','session'])"
   ]
  },
  {
   "cell_type": "code",
   "execution_count": 31,
   "metadata": {},
   "outputs": [],
   "source": [
    "data=data[data.session_length_updated>1]"
   ]
  },
  {
   "cell_type": "code",
   "execution_count": 33,
   "metadata": {},
   "outputs": [
    {
     "name": "stdout",
     "output_type": "stream",
     "text": [
      "number of observations: 182182295\n"
     ]
    }
   ],
   "source": [
    "print(\"number of observations:\",data.shape[0])"
   ]
  },
  {
   "cell_type": "markdown",
   "metadata": {},
   "source": [
    "# Preparing the VMSP input\n",
    "Now that the infrequent apps have been removed, along with session only containing one app, we are ready to construct the text file input used by the VMSP algorithm."
   ]
  },
  {
   "cell_type": "code",
   "execution_count": 36,
   "metadata": {},
   "outputs": [],
   "source": [
    "input_string=data.groupby(['user_id','session'])['app_code'].apply(list).apply(lambda l: ' -1 '.join([str(i) for i in l])+\" -1 -2\")"
   ]
  },
  {
   "cell_type": "code",
   "execution_count": 37,
   "metadata": {},
   "outputs": [],
   "source": [
    "np.savetxt('293sec_sessions_0_01_removed_without_split.txt', input_string.values, fmt='%s')"
   ]
  },
  {
   "cell_type": "code",
   "execution_count": 38,
   "metadata": {},
   "outputs": [
    {
     "name": "stdout",
     "output_type": "stream",
     "text": [
      "number of updated sessions: 42549537\n"
     ]
    }
   ],
   "source": [
    "print(\"number of updated sessions:\",input_string.shape[0])"
   ]
  },
  {
   "cell_type": "code",
   "execution_count": 40,
   "metadata": {},
   "outputs": [
    {
     "name": "stdout",
     "output_type": "stream",
     "text": [
      "Number of sessions needed for min. sup. of 0.01 percent: 4255.0\n"
     ]
    }
   ],
   "source": [
    "print(\"Number of sessions needed for min. sup. of 0.01 percent:\",np.ceil(input_string.shape[0]/100*0.1))"
   ]
  },
  {
   "cell_type": "markdown",
   "metadata": {},
   "source": [
    "# VMSP\n",
    "Now the VMSP algorithm is run, with a minimum support of 0.1 percent."
   ]
  },
  {
   "cell_type": "code",
   "execution_count": 41,
   "metadata": {},
   "outputs": [
    {
     "name": "stdout",
     "output_type": "stream",
     "text": [
      ">/home/s164574/motifs_and_competition_in_app_usage/spmf.jar\n",
      "=============  VMSP v0.97 - STATISTICS =============\n",
      " Total time ~ 7326463 ms\n",
      " Frequent sequences count : 7378\n",
      " Max memory (mb) : 20706.6906051635747378\n",
      "minsup 42550\n",
      "Intersection count 68808 \n",
      "===================================================\n",
      "\n",
      "\n",
      "                                                                            pattern  \\\n",
      "0                                                                           [66375]   \n",
      "1                                                                           [65996]   \n",
      "2                                                                           [65957]   \n",
      "3                                                                           [65471]   \n",
      "4                                                                           [65457]   \n",
      "...                                                                             ...   \n",
      "7373         [19968, 53003, 19968, 53003, 19968, 53003, 19968, 19968, 53003, 19968]   \n",
      "7374         [53003, 19968, 53003, 19968, 53003, 19968, 53003, 19968, 19968, 19968]   \n",
      "7375         [19968, 53003, 19968, 53003, 19968, 19968, 53003, 19968, 53003, 19968]   \n",
      "7376         [19968, 53003, 19968, 53003, 19968, 53003, 19968, 53003, 19968, 19968]   \n",
      "7377  [53003, 19968, 53003, 19968, 53003, 19968, 53003, 19968, 53003, 19968, 53003]   \n",
      "\n",
      "         sup  \n",
      "0      94908  \n",
      "1      57583  \n",
      "2     101896  \n",
      "3     132327  \n",
      "4      59267  \n",
      "...      ...  \n",
      "7373   45120  \n",
      "7374   43038  \n",
      "7375   44720  \n",
      "7376   46573  \n",
      "7377   43322  \n",
      "\n",
      "[7378 rows x 2 columns]\n"
     ]
    }
   ],
   "source": [
    "spmf = Spmf(\"VMSP\", input_filename=\"/home/s164574/motifs_and_competition_in_app_usage/293sec_sessions_0_01_removed_without_split.txt\",\n",
    "            output_filename=\"/home/s164574/motifs_and_competition_in_app_usage/output_VMSP_2293sec_sessions_0_01_removed_without_split_min_sup_0_1.txt\",\n",
    "            spmf_bin_location_dir=\"/home/s164574/motifs_and_competition_in_app_usage/\",\n",
    "            arguments=[0.001])\n",
    "spmf.run()\n",
    "print(spmf.to_pandas_dataframe(pickle=True))\n",
    "spmf.to_csv(\"output_VMSP_293sec_sessions_0_01_removed_without_split_min_sup_0_1.csv\")"
   ]
  },
  {
   "cell_type": "markdown",
   "metadata": {},
   "source": [
    "## Translating the result"
   ]
  },
  {
   "cell_type": "code",
   "execution_count": 42,
   "metadata": {},
   "outputs": [],
   "source": [
    "app_dict=dict(zip(data.app_code, data.package_name))\n",
    "\n",
    "output=pd.read_csv(\"output_VMSP_20sec_sessions_0_01_removed_without_split_min_sup_1.csv\",delimiter=';')\n",
    "output['pattern']=output.pattern.apply(lambda l: [app_dict[int(i)] for i in ast.literal_eval(l)])\n",
    "output=output.sort_values(['sup'],ascending=False)\n",
    "output['pattern_length']=output.pattern.apply(lambda l: len(l))\n",
    "output.to_csv(\"output_VMSP_20sec_sessions_0_01_removed_without_split_min_sup_1.csv\",index=False)"
   ]
  },
  {
   "cell_type": "code",
   "execution_count": 43,
   "metadata": {},
   "outputs": [
    {
     "name": "stdout",
     "output_type": "stream",
     "text": [
      "number of length one patterns: 12\n",
      "longest pattern: 3\n"
     ]
    }
   ],
   "source": [
    "output=pd.read_csv(\"output_VMSP_20sec_sessions_0_01_removed_without_split_min_sup_1.csv\")\n",
    "\n",
    "print(\"number of length one patterns:\",output[output.pattern_length==1].shape[0])\n",
    "print(\"longest pattern:\",output.pattern_length.max())"
   ]
  }
 ],
 "metadata": {
  "kernelspec": {
   "display_name": "Python 3",
   "language": "python",
   "name": "python3"
  },
  "language_info": {
   "codemirror_mode": {
    "name": "ipython",
    "version": 3
   },
   "file_extension": ".py",
   "mimetype": "text/x-python",
   "name": "python",
   "nbconvert_exporter": "python",
   "pygments_lexer": "ipython3",
   "version": "3.8.5"
  }
 },
 "nbformat": 4,
 "nbformat_minor": 4
}
