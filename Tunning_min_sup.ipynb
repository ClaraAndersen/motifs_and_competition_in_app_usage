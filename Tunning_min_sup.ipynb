{
 "cells": [
  {
   "cell_type": "code",
   "execution_count": 1,
   "metadata": {},
   "outputs": [],
   "source": [
    "from spmf import Spmf\n",
    "import numpy as np\n",
    "import pandas as pd\n",
    "import os\n",
    "import re\n",
    "import matplotlib.pyplot as plt\n",
    "import ast\n",
    "\n",
    "pd.options.display.max_colwidth = None\n",
    "pd.set_option('display.max_rows', 70)"
   ]
  },
  {
   "cell_type": "code",
   "execution_count": 2,
   "metadata": {},
   "outputs": [],
   "source": [
    "infrequency_threshold=1.3"
   ]
  },
  {
   "cell_type": "code",
   "execution_count": 3,
   "metadata": {},
   "outputs": [
    {
     "name": "stdout",
     "output_type": "stream",
     "text": [
      ">/home/s164574/motifs_and_competition_in_app_usage/spmf.jar\n",
      "=============  VMSP v0.97 - STATISTICS =============\n",
      " Total time ~ 1204795 ms\n",
      " Frequent sequences count : 686\n",
      " Max memory (mb) : 10969.102844238281686\n",
      "minsup 38213\n",
      "Intersection count 8332 \n",
      "===================================================\n",
      "\n",
      "\n",
      "                                        pattern     sup\n",
      "0                                [45329, 50519]   87698\n",
      "1                                [50519, 45329]   73907\n",
      "2                                [50519, 45264]   99676\n",
      "3                                [45264, 50519]  129446\n",
      "4                                [50519, 45260]   42740\n",
      "..                                          ...     ...\n",
      "681           [23949, 7649, 23949, 7649, 19968]   39339\n",
      "682           [19968, 7649, 19968, 7649, 19968]   46054\n",
      "683  [19968, 53003, 19968, 53003, 19968, 53003]   39913\n",
      "684  [53003, 19968, 53003, 19968, 53003, 19968]   44248\n",
      "685     [23949, 7649, 23949, 7649, 23949, 7649]   45392\n",
      "\n",
      "[686 rows x 2 columns]\n"
     ]
    }
   ],
   "source": [
    "# A test using there package \n",
    "spmf = Spmf(\"VMSP\", input_filename=\"/home/s164574/motifs_and_competition_in_app_usage/20sec_sessions_1_3_removed.txt\",\n",
    "            output_filename=\"/home/s164574/motifs_and_competition_in_app_usage/output_VMSP_20sec_sessions_1_3_removed_min_sup_0_1.txt\",\n",
    "            spmf_bin_location_dir=\"/home/s164574/motifs_and_competition_in_app_usage/\",\n",
    "            arguments=[0.001])\n",
    "spmf.run()\n",
    "print(spmf.to_pandas_dataframe(pickle=True))\n",
    "spmf.to_csv(\"output_VMSP_20sec_sessions_1_3_removed_min_sup_0_1.csv\")"
   ]
  },
  {
   "cell_type": "code",
   "execution_count": 4,
   "metadata": {},
   "outputs": [],
   "source": [
    "data = pd.read_csv('sorted_coded_data.csv')\n",
    "app_dict=dict(zip(data.app_code, data.package_name))"
   ]
  },
  {
   "cell_type": "code",
   "execution_count": 5,
   "metadata": {},
   "outputs": [],
   "source": [
    "output=pd.read_csv(\"output_VMSP_20sec_sessions_1_3_removed_min_sup_0_1.csv\",delimiter=';')\n",
    "output['pattern']=output.pattern.apply(lambda l: [app_dict[int(i)] for i in ast.literal_eval(l)])\n",
    "output=output.sort_values(['sup'],ascending=False)\n",
    "output['pattern_length']=output.pattern.apply(lambda l: len(l))\n",
    "output.to_csv(\"output_VMSP_20sec_sessions_1_3_removed_min_sup_0_1_translated.csv\",index=False)"
   ]
  },
  {
   "cell_type": "code",
   "execution_count": 6,
   "metadata": {},
   "outputs": [
    {
     "name": "stdout",
     "output_type": "stream",
     "text": [
      "Number of frequent patterns of length 1: 0\n",
      "Max lengths of frequent patterns: 6\n"
     ]
    }
   ],
   "source": [
    "print(\"Number of frequent patterns of length 1:\",len(output[output.pattern_length==1]))\n",
    "print(\"Max lengths of frequent patterns:\",output.pattern_length.max())"
   ]
  }
 ],
 "metadata": {
  "kernelspec": {
   "display_name": "Python 3",
   "language": "python",
   "name": "python3"
  },
  "language_info": {
   "codemirror_mode": {
    "name": "ipython",
    "version": 3
   },
   "file_extension": ".py",
   "mimetype": "text/x-python",
   "name": "python",
   "nbconvert_exporter": "python",
   "pygments_lexer": "ipython3",
   "version": "3.8.5"
  }
 },
 "nbformat": 4,
 "nbformat_minor": 4
}
