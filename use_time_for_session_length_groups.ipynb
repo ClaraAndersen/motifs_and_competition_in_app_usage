{
 "cells": [
  {
   "cell_type": "code",
   "execution_count": 1,
   "metadata": {},
   "outputs": [],
   "source": [
    "from spmf import Spmf\n",
    "import numpy as np\n",
    "import pandas as pd\n",
    "import os\n",
    "import re\n",
    "import matplotlib.pyplot as plt\n",
    "import ast\n",
    "pd.options.plotting.backend = \"plotly\"\n",
    "import plotly.express as px\n",
    "# from chart_studio import plotly\n",
    "from plotly.subplots import make_subplots\n",
    "import plotly.graph_objects as go\n",
    "import plotly.subplots as sp\n",
    "pd.options.display.max_colwidth = None\n",
    "pd.set_option('display.max_rows', 70)\n",
    "from pandas.plotting import table \n",
    "import nltk\n",
    "import seaborn as sns\n",
    "%matplotlib inline\n",
    "import random"
   ]
  },
  {
   "cell_type": "code",
   "execution_count": 2,
   "metadata": {},
   "outputs": [],
   "source": [
    "data=pd.read_csv(\"sorted_coded_session_293s_merged.csv\")"
   ]
  },
  {
   "cell_type": "code",
   "execution_count": 9,
   "metadata": {},
   "outputs": [],
   "source": [
    "data=data.drop(columns=['new_session'])"
   ]
  },
  {
   "cell_type": "code",
   "execution_count": 4,
   "metadata": {},
   "outputs": [],
   "source": [
    "group1_users=pd.read_csv(\"session_length_group1_userid.csv\")\n",
    "group2_users=pd.read_csv(\"session_length_group2_userid.csv\")\n",
    "group3_users=pd.read_csv(\"session_length_group3_userid.csv\")"
   ]
  },
  {
   "cell_type": "markdown",
   "metadata": {},
   "source": [
    "The first way of evaluating if the time spend within the groups also reflects the usage of more apps in sections, is by looking at the median time spend with one app."
   ]
  },
  {
   "cell_type": "code",
   "execution_count": 17,
   "metadata": {},
   "outputs": [
    {
     "name": "stdout",
     "output_type": "stream",
     "text": [
      "Median time spend with an app:\n",
      "------------------------------------\n",
      "group 1: 51.0 sec.\n",
      "group 2: 54.0 sec.\n",
      "group 3: 60.0 sec.\n"
     ]
    }
   ],
   "source": [
    "print(\"Median time spend with an app:\")\n",
    "print(\"------------------------------------\")\n",
    "print(\"group 1:\",data[data.user_id.isin(group1_users.user_id)].time_spend.median(),'sec.')\n",
    "print(\"group 2:\",data[data.user_id.isin(group2_users.user_id)].time_spend.median(),'sec.')\n",
    "print(\"group 3:\",data[data.user_id.isin(group3_users.user_id)].time_spend.median(),'sec.')"
   ]
  },
  {
   "cell_type": "code",
   "execution_count": 18,
   "metadata": {},
   "outputs": [
    {
     "name": "stdout",
     "output_type": "stream",
     "text": [
      "Median time spend with an app:\n",
      "------------------------------------\n",
      "group 1: 51.0 sec.\n",
      "group 2: 56.0 sec.\n",
      "group 3: 60.0 sec.\n"
     ]
    }
   ],
   "source": [
    "print(\"Median of Median time spend with an app for users:\")\n",
    "print(\"------------------------------------\")\n",
    "print(\"group 1:\",data[data.user_id.isin(group1_users.user_id)].groupby('user_id').time_spend.median().median(),'sec.')\n",
    "print(\"group 2:\",data[data.user_id.isin(group2_users.user_id)].groupby('user_id').time_spend.median().median(),'sec.')\n",
    "print(\"group 3:\",data[data.user_id.isin(group3_users.user_id)].groupby('user_id').time_spend.median().median(),'sec.')"
   ]
  },
  {
   "cell_type": "markdown",
   "metadata": {},
   "source": [
    "Another approach is to investigate how long the median session last within the groups."
   ]
  },
  {
   "cell_type": "code",
   "execution_count": 26,
   "metadata": {},
   "outputs": [
    {
     "name": "stdout",
     "output_type": "stream",
     "text": [
      "Median lengths in seconds of sessions:\n",
      "------------------------------------\n",
      "group 1: 130.0 sec.\n",
      "group 2: 204.0 sec.\n",
      "group 3: 343.0 sec.\n"
     ]
    }
   ],
   "source": [
    "print(\"Median lengths in seconds of sessions:\")\n",
    "print(\"------------------------------------\")\n",
    "print(\"group 1:\",(data[data.user_id.isin(group1_users.user_id)].groupby(['user_id','session']).end_time.max()\\\n",
    "-data[data.user_id.isin(group1_users.user_id)].groupby(['user_id','session']).start_time.min()).median(),'sec.')\n",
    "\n",
    "print(\"group 2:\",(data[data.user_id.isin(group2_users.user_id)].groupby(['user_id','session']).end_time.max()\\\n",
    "-data[data.user_id.isin(group2_users.user_id)].groupby(['user_id','session']).start_time.min()).median(),'sec.')\n",
    "\n",
    "print(\"group 3:\",(data[data.user_id.isin(group3_users.user_id)].groupby(['user_id','session']).end_time.max()\\\n",
    "-data[data.user_id.isin(group3_users.user_id)].groupby(['user_id','session']).start_time.min()).median(),'sec.')"
   ]
  },
  {
   "cell_type": "markdown",
   "metadata": {},
   "source": [
    "The results show that the fewer apps in the sessions also mean that the users spend less time pr. session.\\\n",
    "Finaly another approach to exploring the users is to look at there median sleep time, to see if users how use fewer apps pr. session also use there phone less often. To do this we look at the median sleep time within the groups."
   ]
  },
  {
   "cell_type": "code",
   "execution_count": 13,
   "metadata": {},
   "outputs": [
    {
     "name": "stdout",
     "output_type": "stream",
     "text": [
      "Median time between sessions:\n",
      "------------------------------------\n",
      "group 1: 1710.0 sec.\n",
      "group 2: 1238.0 sec.\n",
      "group 3: 972.0 sec.\n"
     ]
    }
   ],
   "source": [
    "print(\"Median time between sessions:\")\n",
    "print(\"------------------------------------\")\n",
    "print(\"group 1:\",data[(data.user_id.isin(group1_users.user_id))&(data.new_session)].sleep_time.median(),'sec.')\n",
    "print(\"group 2:\",data[(data.user_id.isin(group2_users.user_id))&(data.new_session)].sleep_time.median(),'sec.')\n",
    "print(\"group 3:\",data[(data.user_id.isin(group3_users.user_id))&(data.new_session)].sleep_time.median(),'sec.')"
   ]
  }
 ],
 "metadata": {
  "kernelspec": {
   "display_name": "Python 3",
   "language": "python",
   "name": "python3"
  },
  "language_info": {
   "codemirror_mode": {
    "name": "ipython",
    "version": 3
   },
   "file_extension": ".py",
   "mimetype": "text/x-python",
   "name": "python",
   "nbconvert_exporter": "python",
   "pygments_lexer": "ipython3",
   "version": "3.8.5"
  }
 },
 "nbformat": 4,
 "nbformat_minor": 4
}
